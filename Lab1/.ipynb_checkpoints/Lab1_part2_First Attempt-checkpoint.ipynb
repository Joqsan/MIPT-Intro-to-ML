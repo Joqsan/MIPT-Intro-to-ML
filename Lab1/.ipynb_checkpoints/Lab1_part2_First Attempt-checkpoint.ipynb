{
 "cells": [
  {
   "cell_type": "markdown",
   "metadata": {
    "id": "ZycbybOG3jQt",
    "nbgrader": {
     "grade": false,
     "grade_id": "cell-86e0de040aac317a",
     "locked": true,
     "schema_version": 2,
     "solution": false
    }
   },
   "source": [
    "# Lab assignment №1, part 2\n",
    "\n",
    "This lab assignment consists of several parts. You are supposed to make some transformations, train some models, estimate the quality of the models and explain your results.\n",
    "\n",
    "Several comments:\n",
    "* Don't hesitate to ask questions, it's a good practice.\n",
    "* No private/public sharing, please. The copied assignments will be graded with 0 points.\n",
    "* Blocks of this lab will be graded separately."
   ]
  },
  {
   "cell_type": "markdown",
   "metadata": {
    "id": "yWJIUzKA3jQw"
   },
   "source": [
    "__*This is the second part of the assignment. First and third parts are waiting for you in the same directory.*__"
   ]
  },
  {
   "cell_type": "markdown",
   "metadata": {
    "id": "ZnVZh9sf3jQz",
    "nbgrader": {
     "grade": false,
     "grade_id": "cell-512ba712fc0fc065",
     "locked": true,
     "schema_version": 2,
     "solution": false
    }
   },
   "source": [
    "## Part 2. Data preprocessing, model training and evaluation."
   ]
  },
  {
   "cell_type": "markdown",
   "metadata": {
    "id": "mXg6_n7K3jQ1",
    "nbgrader": {
     "grade": false,
     "grade_id": "cell-b656a4266174b009",
     "locked": true,
     "schema_version": 2,
     "solution": false
    }
   },
   "source": [
    "### 1. Reading the data\n",
    "Today we work with the [dataset](https://archive.ics.uci.edu/ml/datasets/Statlog+%28Vehicle+Silhouettes%29), describing different cars for multiclass ($k=4$) classification problem. The data is available below."
   ]
  },
  {
   "cell_type": "code",
   "execution_count": 1,
   "metadata": {
    "collapsed": true,
    "id": "K1AhczUL3jQ6"
   },
   "outputs": [],
   "source": [
    "# If on colab, uncomment the following lines\n",
    "\n",
    "# ! wget https://raw.githubusercontent.com/girafe-ai/ml-mipt/basic_f20/homeworks_basic/Lab1_ML_pipeline_and_SVM/car_data.csv"
   ]
  },
  {
   "cell_type": "code",
   "execution_count": 2,
   "metadata": {
    "id": "lw2T5M-F3jRC",
    "nbgrader": {
     "grade": false,
     "grade_id": "cell-eebac6bfdf73d0bc",
     "locked": true,
     "schema_version": 2,
     "solution": false
    },
    "outputId": "43e39191-6e83-4e01-8f4f-cb66d5334cd7"
   },
   "outputs": [
    {
     "name": "stdout",
     "output_type": "stream",
     "text": [
      "(846, 19) (846,)\n",
      "(549, 19) (549,) (297, 19) (297,)\n"
     ]
    }
   ],
   "source": [
    "import pandas as pd\n",
    "import numpy as np\n",
    "from sklearn.model_selection import train_test_split\n",
    "import scikitplot\n",
    "%matplotlib inline\n",
    "import matplotlib\n",
    "import matplotlib.pyplot as plt\n",
    "\n",
    "dataset = pd.read_csv('car_data.csv', delimiter=',', header=None).values\n",
    "data = dataset[:, :-1].astype(int)\n",
    "target = dataset[:, -1]\n",
    "\n",
    "print(data.shape, target.shape)\n",
    "\n",
    "X_train, X_test, y_train, y_test = train_test_split(data, target, test_size=0.35)\n",
    "print(X_train.shape, y_train.shape, X_test.shape, y_test.shape)"
   ]
  },
  {
   "cell_type": "markdown",
   "metadata": {
    "id": "nzBz7LvL3jRI",
    "nbgrader": {
     "grade": false,
     "grade_id": "cell-88b1a0f688568f2c",
     "locked": true,
     "schema_version": 2,
     "solution": false
    }
   },
   "source": [
    "To get some insights about the dataset, `pandas` might be used. The `train` part is transformed to `pd.DataFrame` below."
   ]
  },
  {
   "cell_type": "code",
   "execution_count": 3,
   "metadata": {
    "id": "OqC0I-A23jRK",
    "outputId": "befe7ce7-83d4-42c3-b7dc-c919953e7710"
   },
   "outputs": [
    {
     "data": {
      "text/html": [
       "<div>\n",
       "<style scoped>\n",
       "    .dataframe tbody tr th:only-of-type {\n",
       "        vertical-align: middle;\n",
       "    }\n",
       "\n",
       "    .dataframe tbody tr th {\n",
       "        vertical-align: top;\n",
       "    }\n",
       "\n",
       "    .dataframe thead th {\n",
       "        text-align: right;\n",
       "    }\n",
       "</style>\n",
       "<table border=\"1\" class=\"dataframe\">\n",
       "  <thead>\n",
       "    <tr style=\"text-align: right;\">\n",
       "      <th></th>\n",
       "      <th>0</th>\n",
       "      <th>1</th>\n",
       "      <th>2</th>\n",
       "      <th>3</th>\n",
       "      <th>4</th>\n",
       "      <th>5</th>\n",
       "      <th>6</th>\n",
       "      <th>7</th>\n",
       "      <th>8</th>\n",
       "      <th>9</th>\n",
       "      <th>10</th>\n",
       "      <th>11</th>\n",
       "      <th>12</th>\n",
       "      <th>13</th>\n",
       "      <th>14</th>\n",
       "      <th>15</th>\n",
       "      <th>16</th>\n",
       "      <th>17</th>\n",
       "      <th>18</th>\n",
       "    </tr>\n",
       "  </thead>\n",
       "  <tbody>\n",
       "    <tr>\n",
       "      <th>0</th>\n",
       "      <td>617</td>\n",
       "      <td>83</td>\n",
       "      <td>37</td>\n",
       "      <td>49</td>\n",
       "      <td>112</td>\n",
       "      <td>55</td>\n",
       "      <td>5</td>\n",
       "      <td>122</td>\n",
       "      <td>55</td>\n",
       "      <td>17</td>\n",
       "      <td>128</td>\n",
       "      <td>144</td>\n",
       "      <td>219</td>\n",
       "      <td>146</td>\n",
       "      <td>85</td>\n",
       "      <td>8</td>\n",
       "      <td>16</td>\n",
       "      <td>180</td>\n",
       "      <td>184</td>\n",
       "    </tr>\n",
       "    <tr>\n",
       "      <th>1</th>\n",
       "      <td>600</td>\n",
       "      <td>98</td>\n",
       "      <td>46</td>\n",
       "      <td>77</td>\n",
       "      <td>199</td>\n",
       "      <td>71</td>\n",
       "      <td>7</td>\n",
       "      <td>166</td>\n",
       "      <td>39</td>\n",
       "      <td>20</td>\n",
       "      <td>150</td>\n",
       "      <td>184</td>\n",
       "      <td>422</td>\n",
       "      <td>180</td>\n",
       "      <td>69</td>\n",
       "      <td>13</td>\n",
       "      <td>9</td>\n",
       "      <td>200</td>\n",
       "      <td>203</td>\n",
       "    </tr>\n",
       "    <tr>\n",
       "      <th>2</th>\n",
       "      <td>715</td>\n",
       "      <td>100</td>\n",
       "      <td>52</td>\n",
       "      <td>109</td>\n",
       "      <td>225</td>\n",
       "      <td>68</td>\n",
       "      <td>10</td>\n",
       "      <td>222</td>\n",
       "      <td>30</td>\n",
       "      <td>25</td>\n",
       "      <td>165</td>\n",
       "      <td>241</td>\n",
       "      <td>731</td>\n",
       "      <td>207</td>\n",
       "      <td>73</td>\n",
       "      <td>7</td>\n",
       "      <td>28</td>\n",
       "      <td>188</td>\n",
       "      <td>199</td>\n",
       "    </tr>\n",
       "    <tr>\n",
       "      <th>3</th>\n",
       "      <td>389</td>\n",
       "      <td>100</td>\n",
       "      <td>57</td>\n",
       "      <td>107</td>\n",
       "      <td>207</td>\n",
       "      <td>63</td>\n",
       "      <td>11</td>\n",
       "      <td>227</td>\n",
       "      <td>30</td>\n",
       "      <td>25</td>\n",
       "      <td>180</td>\n",
       "      <td>234</td>\n",
       "      <td>756</td>\n",
       "      <td>205</td>\n",
       "      <td>72</td>\n",
       "      <td>6</td>\n",
       "      <td>19</td>\n",
       "      <td>186</td>\n",
       "      <td>198</td>\n",
       "    </tr>\n",
       "    <tr>\n",
       "      <th>4</th>\n",
       "      <td>799</td>\n",
       "      <td>92</td>\n",
       "      <td>39</td>\n",
       "      <td>76</td>\n",
       "      <td>180</td>\n",
       "      <td>71</td>\n",
       "      <td>6</td>\n",
       "      <td>152</td>\n",
       "      <td>43</td>\n",
       "      <td>19</td>\n",
       "      <td>131</td>\n",
       "      <td>179</td>\n",
       "      <td>350</td>\n",
       "      <td>143</td>\n",
       "      <td>72</td>\n",
       "      <td>6</td>\n",
       "      <td>14</td>\n",
       "      <td>195</td>\n",
       "      <td>200</td>\n",
       "    </tr>\n",
       "    <tr>\n",
       "      <th>5</th>\n",
       "      <td>613</td>\n",
       "      <td>92</td>\n",
       "      <td>37</td>\n",
       "      <td>75</td>\n",
       "      <td>191</td>\n",
       "      <td>71</td>\n",
       "      <td>6</td>\n",
       "      <td>161</td>\n",
       "      <td>40</td>\n",
       "      <td>20</td>\n",
       "      <td>128</td>\n",
       "      <td>180</td>\n",
       "      <td>393</td>\n",
       "      <td>135</td>\n",
       "      <td>69</td>\n",
       "      <td>1</td>\n",
       "      <td>14</td>\n",
       "      <td>195</td>\n",
       "      <td>202</td>\n",
       "    </tr>\n",
       "    <tr>\n",
       "      <th>6</th>\n",
       "      <td>780</td>\n",
       "      <td>109</td>\n",
       "      <td>47</td>\n",
       "      <td>96</td>\n",
       "      <td>206</td>\n",
       "      <td>64</td>\n",
       "      <td>9</td>\n",
       "      <td>198</td>\n",
       "      <td>33</td>\n",
       "      <td>23</td>\n",
       "      <td>150</td>\n",
       "      <td>219</td>\n",
       "      <td>586</td>\n",
       "      <td>191</td>\n",
       "      <td>70</td>\n",
       "      <td>4</td>\n",
       "      <td>13</td>\n",
       "      <td>190</td>\n",
       "      <td>198</td>\n",
       "    </tr>\n",
       "    <tr>\n",
       "      <th>7</th>\n",
       "      <td>331</td>\n",
       "      <td>104</td>\n",
       "      <td>52</td>\n",
       "      <td>96</td>\n",
       "      <td>188</td>\n",
       "      <td>59</td>\n",
       "      <td>9</td>\n",
       "      <td>188</td>\n",
       "      <td>35</td>\n",
       "      <td>22</td>\n",
       "      <td>161</td>\n",
       "      <td>206</td>\n",
       "      <td>530</td>\n",
       "      <td>205</td>\n",
       "      <td>67</td>\n",
       "      <td>11</td>\n",
       "      <td>8</td>\n",
       "      <td>193</td>\n",
       "      <td>200</td>\n",
       "    </tr>\n",
       "    <tr>\n",
       "      <th>8</th>\n",
       "      <td>90</td>\n",
       "      <td>104</td>\n",
       "      <td>55</td>\n",
       "      <td>107</td>\n",
       "      <td>222</td>\n",
       "      <td>68</td>\n",
       "      <td>11</td>\n",
       "      <td>218</td>\n",
       "      <td>31</td>\n",
       "      <td>24</td>\n",
       "      <td>173</td>\n",
       "      <td>232</td>\n",
       "      <td>703</td>\n",
       "      <td>229</td>\n",
       "      <td>71</td>\n",
       "      <td>3</td>\n",
       "      <td>10</td>\n",
       "      <td>188</td>\n",
       "      <td>199</td>\n",
       "    </tr>\n",
       "    <tr>\n",
       "      <th>9</th>\n",
       "      <td>827</td>\n",
       "      <td>99</td>\n",
       "      <td>57</td>\n",
       "      <td>100</td>\n",
       "      <td>177</td>\n",
       "      <td>54</td>\n",
       "      <td>13</td>\n",
       "      <td>224</td>\n",
       "      <td>30</td>\n",
       "      <td>25</td>\n",
       "      <td>188</td>\n",
       "      <td>223</td>\n",
       "      <td>726</td>\n",
       "      <td>213</td>\n",
       "      <td>72</td>\n",
       "      <td>4</td>\n",
       "      <td>7</td>\n",
       "      <td>185</td>\n",
       "      <td>198</td>\n",
       "    </tr>\n",
       "    <tr>\n",
       "      <th>10</th>\n",
       "      <td>580</td>\n",
       "      <td>85</td>\n",
       "      <td>42</td>\n",
       "      <td>66</td>\n",
       "      <td>120</td>\n",
       "      <td>53</td>\n",
       "      <td>7</td>\n",
       "      <td>149</td>\n",
       "      <td>45</td>\n",
       "      <td>19</td>\n",
       "      <td>145</td>\n",
       "      <td>173</td>\n",
       "      <td>325</td>\n",
       "      <td>163</td>\n",
       "      <td>85</td>\n",
       "      <td>5</td>\n",
       "      <td>4</td>\n",
       "      <td>180</td>\n",
       "      <td>182</td>\n",
       "    </tr>\n",
       "    <tr>\n",
       "      <th>11</th>\n",
       "      <td>430</td>\n",
       "      <td>104</td>\n",
       "      <td>53</td>\n",
       "      <td>108</td>\n",
       "      <td>206</td>\n",
       "      <td>61</td>\n",
       "      <td>11</td>\n",
       "      <td>217</td>\n",
       "      <td>31</td>\n",
       "      <td>24</td>\n",
       "      <td>168</td>\n",
       "      <td>226</td>\n",
       "      <td>694</td>\n",
       "      <td>209</td>\n",
       "      <td>67</td>\n",
       "      <td>0</td>\n",
       "      <td>9</td>\n",
       "      <td>188</td>\n",
       "      <td>201</td>\n",
       "    </tr>\n",
       "    <tr>\n",
       "      <th>12</th>\n",
       "      <td>800</td>\n",
       "      <td>88</td>\n",
       "      <td>41</td>\n",
       "      <td>80</td>\n",
       "      <td>147</td>\n",
       "      <td>62</td>\n",
       "      <td>8</td>\n",
       "      <td>146</td>\n",
       "      <td>45</td>\n",
       "      <td>19</td>\n",
       "      <td>144</td>\n",
       "      <td>169</td>\n",
       "      <td>318</td>\n",
       "      <td>161</td>\n",
       "      <td>71</td>\n",
       "      <td>4</td>\n",
       "      <td>16</td>\n",
       "      <td>188</td>\n",
       "      <td>197</td>\n",
       "    </tr>\n",
       "    <tr>\n",
       "      <th>13</th>\n",
       "      <td>272</td>\n",
       "      <td>91</td>\n",
       "      <td>43</td>\n",
       "      <td>88</td>\n",
       "      <td>157</td>\n",
       "      <td>61</td>\n",
       "      <td>9</td>\n",
       "      <td>149</td>\n",
       "      <td>45</td>\n",
       "      <td>19</td>\n",
       "      <td>157</td>\n",
       "      <td>165</td>\n",
       "      <td>326</td>\n",
       "      <td>140</td>\n",
       "      <td>64</td>\n",
       "      <td>1</td>\n",
       "      <td>26</td>\n",
       "      <td>197</td>\n",
       "      <td>207</td>\n",
       "    </tr>\n",
       "    <tr>\n",
       "      <th>14</th>\n",
       "      <td>456</td>\n",
       "      <td>92</td>\n",
       "      <td>43</td>\n",
       "      <td>70</td>\n",
       "      <td>124</td>\n",
       "      <td>52</td>\n",
       "      <td>6</td>\n",
       "      <td>139</td>\n",
       "      <td>49</td>\n",
       "      <td>18</td>\n",
       "      <td>144</td>\n",
       "      <td>164</td>\n",
       "      <td>282</td>\n",
       "      <td>172</td>\n",
       "      <td>79</td>\n",
       "      <td>4</td>\n",
       "      <td>16</td>\n",
       "      <td>183</td>\n",
       "      <td>185</td>\n",
       "    </tr>\n",
       "  </tbody>\n",
       "</table>\n",
       "</div>"
      ],
      "text/plain": [
       "      0    1   2    3    4   5   6    7   8   9   10   11   12   13  14  15  \\\n",
       "0   617   83  37   49  112  55   5  122  55  17  128  144  219  146  85   8   \n",
       "1   600   98  46   77  199  71   7  166  39  20  150  184  422  180  69  13   \n",
       "2   715  100  52  109  225  68  10  222  30  25  165  241  731  207  73   7   \n",
       "3   389  100  57  107  207  63  11  227  30  25  180  234  756  205  72   6   \n",
       "4   799   92  39   76  180  71   6  152  43  19  131  179  350  143  72   6   \n",
       "5   613   92  37   75  191  71   6  161  40  20  128  180  393  135  69   1   \n",
       "6   780  109  47   96  206  64   9  198  33  23  150  219  586  191  70   4   \n",
       "7   331  104  52   96  188  59   9  188  35  22  161  206  530  205  67  11   \n",
       "8    90  104  55  107  222  68  11  218  31  24  173  232  703  229  71   3   \n",
       "9   827   99  57  100  177  54  13  224  30  25  188  223  726  213  72   4   \n",
       "10  580   85  42   66  120  53   7  149  45  19  145  173  325  163  85   5   \n",
       "11  430  104  53  108  206  61  11  217  31  24  168  226  694  209  67   0   \n",
       "12  800   88  41   80  147  62   8  146  45  19  144  169  318  161  71   4   \n",
       "13  272   91  43   88  157  61   9  149  45  19  157  165  326  140  64   1   \n",
       "14  456   92  43   70  124  52   6  139  49  18  144  164  282  172  79   4   \n",
       "\n",
       "    16   17   18  \n",
       "0   16  180  184  \n",
       "1    9  200  203  \n",
       "2   28  188  199  \n",
       "3   19  186  198  \n",
       "4   14  195  200  \n",
       "5   14  195  202  \n",
       "6   13  190  198  \n",
       "7    8  193  200  \n",
       "8   10  188  199  \n",
       "9    7  185  198  \n",
       "10   4  180  182  \n",
       "11   9  188  201  \n",
       "12  16  188  197  \n",
       "13  26  197  207  \n",
       "14  16  183  185  "
      ]
     },
     "execution_count": 3,
     "metadata": {},
     "output_type": "execute_result"
    }
   ],
   "source": [
    "X_train_pd = pd.DataFrame(X_train)\n",
    "\n",
    "# First 15 rows of our dataset.\n",
    "X_train_pd.head(15)"
   ]
  },
  {
   "cell_type": "markdown",
   "metadata": {
    "id": "dhUuosMM3jRQ",
    "nbgrader": {
     "grade": false,
     "grade_id": "cell-98e7d91d77d65fcf",
     "locked": true,
     "schema_version": 2,
     "solution": false
    }
   },
   "source": [
    "Methods `describe` and `info` deliver some useful information."
   ]
  },
  {
   "cell_type": "code",
   "execution_count": 4,
   "metadata": {
    "id": "J-tUdQCM3jRR",
    "outputId": "257a45ce-8a59-4356-a02d-102c48228558"
   },
   "outputs": [
    {
     "data": {
      "text/html": [
       "<div>\n",
       "<style scoped>\n",
       "    .dataframe tbody tr th:only-of-type {\n",
       "        vertical-align: middle;\n",
       "    }\n",
       "\n",
       "    .dataframe tbody tr th {\n",
       "        vertical-align: top;\n",
       "    }\n",
       "\n",
       "    .dataframe thead th {\n",
       "        text-align: right;\n",
       "    }\n",
       "</style>\n",
       "<table border=\"1\" class=\"dataframe\">\n",
       "  <thead>\n",
       "    <tr style=\"text-align: right;\">\n",
       "      <th></th>\n",
       "      <th>0</th>\n",
       "      <th>1</th>\n",
       "      <th>2</th>\n",
       "      <th>3</th>\n",
       "      <th>4</th>\n",
       "      <th>5</th>\n",
       "      <th>6</th>\n",
       "      <th>7</th>\n",
       "      <th>8</th>\n",
       "      <th>9</th>\n",
       "      <th>10</th>\n",
       "      <th>11</th>\n",
       "      <th>12</th>\n",
       "      <th>13</th>\n",
       "      <th>14</th>\n",
       "      <th>15</th>\n",
       "      <th>16</th>\n",
       "      <th>17</th>\n",
       "      <th>18</th>\n",
       "    </tr>\n",
       "  </thead>\n",
       "  <tbody>\n",
       "    <tr>\n",
       "      <th>count</th>\n",
       "      <td>549.000000</td>\n",
       "      <td>549.000000</td>\n",
       "      <td>549.000000</td>\n",
       "      <td>549.000000</td>\n",
       "      <td>549.000000</td>\n",
       "      <td>549.000000</td>\n",
       "      <td>549.000000</td>\n",
       "      <td>549.000000</td>\n",
       "      <td>549.000000</td>\n",
       "      <td>549.000000</td>\n",
       "      <td>549.000000</td>\n",
       "      <td>549.000000</td>\n",
       "      <td>549.000000</td>\n",
       "      <td>549.000000</td>\n",
       "      <td>549.000000</td>\n",
       "      <td>549.000000</td>\n",
       "      <td>549.000000</td>\n",
       "      <td>549.000000</td>\n",
       "      <td>549.000000</td>\n",
       "    </tr>\n",
       "    <tr>\n",
       "      <th>mean</th>\n",
       "      <td>423.182149</td>\n",
       "      <td>93.431694</td>\n",
       "      <td>44.692168</td>\n",
       "      <td>81.267760</td>\n",
       "      <td>167.846995</td>\n",
       "      <td>61.666667</td>\n",
       "      <td>8.595628</td>\n",
       "      <td>167.515483</td>\n",
       "      <td>41.234973</td>\n",
       "      <td>20.484517</td>\n",
       "      <td>147.581056</td>\n",
       "      <td>187.499089</td>\n",
       "      <td>432.557377</td>\n",
       "      <td>174.145719</td>\n",
       "      <td>72.726776</td>\n",
       "      <td>6.391621</td>\n",
       "      <td>12.673953</td>\n",
       "      <td>188.741348</td>\n",
       "      <td>195.477231</td>\n",
       "    </tr>\n",
       "    <tr>\n",
       "      <th>std</th>\n",
       "      <td>246.593713</td>\n",
       "      <td>8.201243</td>\n",
       "      <td>6.103573</td>\n",
       "      <td>15.776012</td>\n",
       "      <td>34.246134</td>\n",
       "      <td>8.244441</td>\n",
       "      <td>4.911670</td>\n",
       "      <td>32.591116</td>\n",
       "      <td>7.713942</td>\n",
       "      <td>2.545613</td>\n",
       "      <td>14.476866</td>\n",
       "      <td>31.127395</td>\n",
       "      <td>172.823966</td>\n",
       "      <td>31.997329</td>\n",
       "      <td>7.763970</td>\n",
       "      <td>4.973066</td>\n",
       "      <td>9.037900</td>\n",
       "      <td>6.239337</td>\n",
       "      <td>7.482213</td>\n",
       "    </tr>\n",
       "    <tr>\n",
       "      <th>min</th>\n",
       "      <td>1.000000</td>\n",
       "      <td>73.000000</td>\n",
       "      <td>33.000000</td>\n",
       "      <td>40.000000</td>\n",
       "      <td>105.000000</td>\n",
       "      <td>47.000000</td>\n",
       "      <td>2.000000</td>\n",
       "      <td>112.000000</td>\n",
       "      <td>26.000000</td>\n",
       "      <td>17.000000</td>\n",
       "      <td>118.000000</td>\n",
       "      <td>130.000000</td>\n",
       "      <td>184.000000</td>\n",
       "      <td>109.000000</td>\n",
       "      <td>59.000000</td>\n",
       "      <td>0.000000</td>\n",
       "      <td>0.000000</td>\n",
       "      <td>176.000000</td>\n",
       "      <td>181.000000</td>\n",
       "    </tr>\n",
       "    <tr>\n",
       "      <th>25%</th>\n",
       "      <td>201.000000</td>\n",
       "      <td>87.000000</td>\n",
       "      <td>40.000000</td>\n",
       "      <td>70.000000</td>\n",
       "      <td>140.000000</td>\n",
       "      <td>57.000000</td>\n",
       "      <td>7.000000</td>\n",
       "      <td>146.000000</td>\n",
       "      <td>34.000000</td>\n",
       "      <td>19.000000</td>\n",
       "      <td>136.000000</td>\n",
       "      <td>167.000000</td>\n",
       "      <td>317.000000</td>\n",
       "      <td>150.000000</td>\n",
       "      <td>68.000000</td>\n",
       "      <td>2.000000</td>\n",
       "      <td>5.000000</td>\n",
       "      <td>184.000000</td>\n",
       "      <td>190.000000</td>\n",
       "    </tr>\n",
       "    <tr>\n",
       "      <th>50%</th>\n",
       "      <td>425.000000</td>\n",
       "      <td>92.000000</td>\n",
       "      <td>44.000000</td>\n",
       "      <td>78.000000</td>\n",
       "      <td>165.000000</td>\n",
       "      <td>61.000000</td>\n",
       "      <td>8.000000</td>\n",
       "      <td>156.000000</td>\n",
       "      <td>43.000000</td>\n",
       "      <td>19.000000</td>\n",
       "      <td>145.000000</td>\n",
       "      <td>177.000000</td>\n",
       "      <td>359.000000</td>\n",
       "      <td>173.000000</td>\n",
       "      <td>72.000000</td>\n",
       "      <td>6.000000</td>\n",
       "      <td>11.000000</td>\n",
       "      <td>188.000000</td>\n",
       "      <td>197.000000</td>\n",
       "    </tr>\n",
       "    <tr>\n",
       "      <th>75%</th>\n",
       "      <td>637.000000</td>\n",
       "      <td>99.000000</td>\n",
       "      <td>49.000000</td>\n",
       "      <td>96.000000</td>\n",
       "      <td>194.000000</td>\n",
       "      <td>65.000000</td>\n",
       "      <td>10.000000</td>\n",
       "      <td>196.000000</td>\n",
       "      <td>46.000000</td>\n",
       "      <td>23.000000</td>\n",
       "      <td>159.000000</td>\n",
       "      <td>216.000000</td>\n",
       "      <td>575.000000</td>\n",
       "      <td>196.000000</td>\n",
       "      <td>76.000000</td>\n",
       "      <td>9.000000</td>\n",
       "      <td>19.000000</td>\n",
       "      <td>193.000000</td>\n",
       "      <td>201.000000</td>\n",
       "    </tr>\n",
       "    <tr>\n",
       "      <th>max</th>\n",
       "      <td>841.000000</td>\n",
       "      <td>119.000000</td>\n",
       "      <td>59.000000</td>\n",
       "      <td>112.000000</td>\n",
       "      <td>333.000000</td>\n",
       "      <td>138.000000</td>\n",
       "      <td>55.000000</td>\n",
       "      <td>265.000000</td>\n",
       "      <td>61.000000</td>\n",
       "      <td>29.000000</td>\n",
       "      <td>188.000000</td>\n",
       "      <td>320.000000</td>\n",
       "      <td>1018.000000</td>\n",
       "      <td>268.000000</td>\n",
       "      <td>135.000000</td>\n",
       "      <td>22.000000</td>\n",
       "      <td>41.000000</td>\n",
       "      <td>206.000000</td>\n",
       "      <td>211.000000</td>\n",
       "    </tr>\n",
       "  </tbody>\n",
       "</table>\n",
       "</div>"
      ],
      "text/plain": [
       "               0           1           2           3           4           5   \\\n",
       "count  549.000000  549.000000  549.000000  549.000000  549.000000  549.000000   \n",
       "mean   423.182149   93.431694   44.692168   81.267760  167.846995   61.666667   \n",
       "std    246.593713    8.201243    6.103573   15.776012   34.246134    8.244441   \n",
       "min      1.000000   73.000000   33.000000   40.000000  105.000000   47.000000   \n",
       "25%    201.000000   87.000000   40.000000   70.000000  140.000000   57.000000   \n",
       "50%    425.000000   92.000000   44.000000   78.000000  165.000000   61.000000   \n",
       "75%    637.000000   99.000000   49.000000   96.000000  194.000000   65.000000   \n",
       "max    841.000000  119.000000   59.000000  112.000000  333.000000  138.000000   \n",
       "\n",
       "               6           7           8           9           10          11  \\\n",
       "count  549.000000  549.000000  549.000000  549.000000  549.000000  549.000000   \n",
       "mean     8.595628  167.515483   41.234973   20.484517  147.581056  187.499089   \n",
       "std      4.911670   32.591116    7.713942    2.545613   14.476866   31.127395   \n",
       "min      2.000000  112.000000   26.000000   17.000000  118.000000  130.000000   \n",
       "25%      7.000000  146.000000   34.000000   19.000000  136.000000  167.000000   \n",
       "50%      8.000000  156.000000   43.000000   19.000000  145.000000  177.000000   \n",
       "75%     10.000000  196.000000   46.000000   23.000000  159.000000  216.000000   \n",
       "max     55.000000  265.000000   61.000000   29.000000  188.000000  320.000000   \n",
       "\n",
       "                12          13          14          15          16  \\\n",
       "count   549.000000  549.000000  549.000000  549.000000  549.000000   \n",
       "mean    432.557377  174.145719   72.726776    6.391621   12.673953   \n",
       "std     172.823966   31.997329    7.763970    4.973066    9.037900   \n",
       "min     184.000000  109.000000   59.000000    0.000000    0.000000   \n",
       "25%     317.000000  150.000000   68.000000    2.000000    5.000000   \n",
       "50%     359.000000  173.000000   72.000000    6.000000   11.000000   \n",
       "75%     575.000000  196.000000   76.000000    9.000000   19.000000   \n",
       "max    1018.000000  268.000000  135.000000   22.000000   41.000000   \n",
       "\n",
       "               17          18  \n",
       "count  549.000000  549.000000  \n",
       "mean   188.741348  195.477231  \n",
       "std      6.239337    7.482213  \n",
       "min    176.000000  181.000000  \n",
       "25%    184.000000  190.000000  \n",
       "50%    188.000000  197.000000  \n",
       "75%    193.000000  201.000000  \n",
       "max    206.000000  211.000000  "
      ]
     },
     "execution_count": 4,
     "metadata": {},
     "output_type": "execute_result"
    }
   ],
   "source": [
    "X_train_pd.describe()"
   ]
  },
  {
   "cell_type": "code",
   "execution_count": 5,
   "metadata": {
    "id": "5Z10UmYG3jRV",
    "outputId": "73f86b03-a935-4b88-aa32-3edf5d4816d8"
   },
   "outputs": [
    {
     "name": "stdout",
     "output_type": "stream",
     "text": [
      "<class 'pandas.core.frame.DataFrame'>\n",
      "RangeIndex: 549 entries, 0 to 548\n",
      "Data columns (total 19 columns):\n",
      " #   Column  Non-Null Count  Dtype\n",
      "---  ------  --------------  -----\n",
      " 0   0       549 non-null    int64\n",
      " 1   1       549 non-null    int64\n",
      " 2   2       549 non-null    int64\n",
      " 3   3       549 non-null    int64\n",
      " 4   4       549 non-null    int64\n",
      " 5   5       549 non-null    int64\n",
      " 6   6       549 non-null    int64\n",
      " 7   7       549 non-null    int64\n",
      " 8   8       549 non-null    int64\n",
      " 9   9       549 non-null    int64\n",
      " 10  10      549 non-null    int64\n",
      " 11  11      549 non-null    int64\n",
      " 12  12      549 non-null    int64\n",
      " 13  13      549 non-null    int64\n",
      " 14  14      549 non-null    int64\n",
      " 15  15      549 non-null    int64\n",
      " 16  16      549 non-null    int64\n",
      " 17  17      549 non-null    int64\n",
      " 18  18      549 non-null    int64\n",
      "dtypes: int64(19)\n",
      "memory usage: 81.6 KB\n"
     ]
    }
   ],
   "source": [
    "X_train_pd.info()"
   ]
  },
  {
   "cell_type": "markdown",
   "metadata": {
    "id": "svANltK73jRZ",
    "nbgrader": {
     "grade": false,
     "grade_id": "cell-be844269be69c387",
     "locked": true,
     "schema_version": 2,
     "solution": false
    }
   },
   "source": [
    "### 2. Machine Learning pipeline\n",
    "Here you are supposed to perform the desired transformations. Please, explain your results briefly after each task."
   ]
  },
  {
   "cell_type": "code",
   "execution_count": 6,
   "metadata": {},
   "outputs": [
    {
     "data": {
      "text/plain": [
       "array(['van', 'bus', 'opel', 'opel', 'bus'], dtype=object)"
      ]
     },
     "execution_count": 6,
     "metadata": {},
     "output_type": "execute_result"
    }
   ],
   "source": [
    "y_train[:5]"
   ]
  },
  {
   "cell_type": "markdown",
   "metadata": {
    "id": "42B38XJF3jRa"
   },
   "source": [
    "#### 2.0. Data preprocessing\n",
    "* Make some transformations of the dataset (if necessary). Briefly explain the transformations.\n",
    "\n",
    "\n",
    "- About target: Since `LogisticRegression` can already handle string categories (like in our data) we **won't use** any sort of label encoding.\n",
    "- About features: One of the hyperparameters to tune in `LogisticRegression` is `penalty`. Since regularization is scale sensitive, anytime we enable some sort of regularization (`l1`, `l2` or `elasticnet`) we'll normalize the data (feature matrix) first. If `penalty=None`, then scaling may not be needed but we also may be interesed in seeing what result we get by scaling the feature data anyway (even though `sag` and `saga` solvers are guaranteed to have a fast convergence only on features with approximately the same scale)."
   ]
  },
  {
   "cell_type": "code",
   "execution_count": 7,
   "metadata": {
    "collapsed": true,
    "id": "u_JN7oUB3jRb",
    "nbgrader": {
     "grade": true,
     "grade_id": "cell-a1514aa189a49fca",
     "locked": false,
     "points": 15,
     "schema_version": 2,
     "solution": true
    }
   },
   "outputs": [],
   "source": [
    "### YOUR CODE HERE"
   ]
  },
  {
   "cell_type": "markdown",
   "metadata": {
    "id": "1kL_aWie3jRh"
   },
   "source": [
    "#### 2.1. Basic logistic regression\n",
    "* Find optimal hyperparameters for logistic regression with cross-validation on the `train` data (small grid/random search is enough, no need to find the *best* parameters).\n",
    "\n",
    "* Estimate the model quality with `f1` and `accuracy` scores.\n",
    "* Plot a ROC-curve for the trained model. For the multiclass case you might use `scikitplot` library (e.g. `scikitplot.metrics.plot_roc(test_labels, predicted_proba)`).\n",
    "\n",
    "\n",
    "*Note: please, use the following hyperparameters for logistic regression: `multi_class='multinomial'`, `solver='saga'` `tol=1e-3` and ` max_iter=500`.*"
   ]
  },
  {
   "cell_type": "markdown",
   "metadata": {},
   "source": [
    "**_Observation:_**\n",
    "\n",
    "In order to enable or disable scaling according to the penalty we choose from, we're going to create a `CustomStandardScaler` which just call `sklearn.preprocessing.StandardScaler` whenever `scaling=True` or just return the original data whenever `scaling=False`.\n",
    "\n",
    "Then from the explanation above, we'll want to find the best hyperparameters (and model) among the following settings:\n",
    "\n",
    "1. `penalty=None` and `scaling=True` or `False`.\n",
    "2. `penalty != None` and `scaling=True`.\n",
    "\n",
    "It makes sense to include all of this in a pipeline."
   ]
  },
  {
   "cell_type": "code",
   "execution_count": 8,
   "metadata": {
    "collapsed": true,
    "id": "z2obxRfG3jRi",
    "nbgrader": {
     "grade": true,
     "grade_id": "cell-1dd5ad5d0845cbbb",
     "locked": false,
     "points": 5,
     "schema_version": 2,
     "solution": true
    }
   },
   "outputs": [],
   "source": [
    "### YOUR CODE HERE"
   ]
  },
  {
   "cell_type": "code",
   "execution_count": 9,
   "metadata": {
    "collapsed": true
   },
   "outputs": [],
   "source": [
    "from sklearn.preprocessing import StandardScaler\n",
    "from sklearn.model_selection import GridSearchCV\n",
    "from sklearn.linear_model import LogisticRegression\n",
    "from sklearn.pipeline import Pipeline\n",
    "from sklearn.base import BaseEstimator"
   ]
  },
  {
   "cell_type": "code",
   "execution_count": 10,
   "metadata": {
    "collapsed": true
   },
   "outputs": [],
   "source": [
    "class CustomStandardScaler(StandardScaler):\n",
    "    \n",
    "    def __init__(self, copy=True, with_mean=True, with_std=True, scaling=True):\n",
    "        self.with_mean = with_mean\n",
    "        self.with_std = with_std\n",
    "        self.copy = copy\n",
    "        self.scaling = scaling\n",
    "        \n",
    "    def fit(self, X, y=None):\n",
    "        return super().fit(X)\n",
    "        \n",
    "    def transform(self, X, y=None):\n",
    "        if self.scaling:\n",
    "            return super().transform(X)\n",
    "        else:\n",
    "            return X\n",
    "    \n",
    "    def fit_transform(self, X, y=None):\n",
    "        if self.scaling:\n",
    "            super().fit(X)\n",
    "            return super().transform(X)\n",
    "        else:\n",
    "            return X"
   ]
  },
  {
   "cell_type": "code",
   "execution_count": 11,
   "metadata": {
    "collapsed": true
   },
   "outputs": [],
   "source": [
    "pipeline = Pipeline([\n",
    "    ('scaler', CustomStandardScaler()),\n",
    "    ('log_reg', LogisticRegression(multi_class='multinomial', solver='saga', tol=1e-3,max_iter=500))\n",
    "])"
   ]
  },
  {
   "cell_type": "markdown",
   "metadata": {},
   "source": [
    "**_Observation:_**\n",
    "\n",
    "We have to estimate the model's quality with `f1` and `accuracy_score`. At first it'd make sense to run two instances of grid search, one with `scoring=f1` and the other with `scoring=accuracy_score`, but this will generate different shuffles before the cross-validation, which would mean that the comparison `f1`-`accuracy_score` makes no sense. To avoid this we fixed the shuffle outside the grid search instances and pass it to both o them. For shuffling we'll use `StratifiedKFold`.\n",
    "\n",
    "We'll also set refit=True, so that the best estimator is fitted on the whole training."
   ]
  },
  {
   "cell_type": "code",
   "execution_count": 12,
   "metadata": {
    "collapsed": true
   },
   "outputs": [],
   "source": [
    "from sklearn.model_selection import StratifiedKFold\n",
    "from sklearn.metrics import make_scorer, f1_score, accuracy_score"
   ]
  },
  {
   "cell_type": "markdown",
   "metadata": {},
   "source": [
    "**_Observations:_**\n",
    "\n",
    "- Averaging method for `f1_score`:\n",
    "    - We don't know whether there is some class inbalance or not, so we won't use `average=weighted`.\n",
    "    - We don't want the contribution of a \"bad\" class $i$ (that is, with a low $F_1^i$-score) to be compensated by the \"godd\" classes $j$ (with a high $F_1^j$-score), which we'd get if we average by the number of classes $\\implies$ we won'y use `average=macro`.\n",
    "    - We'll use `average=micro` in order to gives each observation the same contribution to the overall metric."
   ]
  },
  {
   "cell_type": "code",
   "execution_count": 13,
   "metadata": {
    "collapsed": true
   },
   "outputs": [],
   "source": [
    "cv = StratifiedKFold(n_splits=5, random_state=42, shuffle=True)"
   ]
  },
  {
   "cell_type": "code",
   "execution_count": 14,
   "metadata": {
    "collapsed": true
   },
   "outputs": [],
   "source": [
    "params_grid = [\n",
    "    {\n",
    "        'scaler__scaling': [False, True],\n",
    "        'log_reg__penalty': ['none'],\n",
    "        'log_reg__n_jobs': [None, -1]\n",
    "    },\n",
    "    {\n",
    "        'scaler__scaling': [True],\n",
    "        'log_reg__penalty': ['l1', 'l2'],\n",
    "        'log_reg__C': [1e-3, 1.0, 5.0],\n",
    "        'log_reg__warm_start': [False, True],\n",
    "        'log_reg__n_jobs': [None, -1],\n",
    "    },\n",
    "]"
   ]
  },
  {
   "cell_type": "code",
   "execution_count": 15,
   "metadata": {
    "collapsed": true
   },
   "outputs": [],
   "source": [
    "scorers = ['f1_micro', 'accuracy']"
   ]
  },
  {
   "cell_type": "code",
   "execution_count": 16,
   "metadata": {
    "collapsed": true
   },
   "outputs": [],
   "source": [
    "def Training(pipeline, params, cv, scorers, ):\n",
    "\n",
    "    score_result = ''\n",
    "    y_proba_f1 = []\n",
    "    \n",
    "    for scorer in scorers:\n",
    "        \n",
    "        grid_search = GridSearchCV(pipeline, param_grid=params, cv=cv, refit=True, scoring=scorer, n_jobs=-1)\n",
    "        grid_search.fit(X_train, y_train)\n",
    "\n",
    "        best_model = grid_search.best_estimator_\n",
    "        y_pred = best_model.predict(X_test)\n",
    "            \n",
    "        if scorer == 'f1_micro':\n",
    "            score_result = f1_score(y_test, y_pred, average='micro')\n",
    "            y_proba_f1 = best_model.predict_proba(X_test)\n",
    "        else:\n",
    "            score_result = accuracy_score(y_test, y_pred)\n",
    "        \n",
    "        print('Model metric: {}'.format(scorer))\n",
    "        \n",
    "        print('\\tBest Parameters:\\n')\n",
    "        for param, value in grid_search.best_params_.items():\n",
    "            print(\"\\t\\t{:20}: {}\".format(param, value))\n",
    "                \n",
    "        print('\\n\\t{} score: {:20}\\n'.format(scorer, score_result))\n",
    "        \n",
    "    scikitplot.metrics.plot_roc(y_test, y_proba_f1)"
   ]
  },
  {
   "cell_type": "code",
   "execution_count": 17,
   "metadata": {},
   "outputs": [
    {
     "name": "stdout",
     "output_type": "stream",
     "text": [
      "Model metric: f1_micro\n",
      "\tBest Parameters:\n",
      "\n",
      "\t\tlog_reg__C          : 5.0\n",
      "\t\tlog_reg__n_jobs     : -1\n",
      "\t\tlog_reg__penalty    : l2\n",
      "\t\tlog_reg__warm_start : False\n",
      "\t\tscaler__scaling     : True\n",
      "\n",
      "\tf1_micro score:   0.8013468013468014\n",
      "\n",
      "Model metric: accuracy\n",
      "\tBest Parameters:\n",
      "\n",
      "\t\tlog_reg__C          : 5.0\n",
      "\t\tlog_reg__n_jobs     : -1\n",
      "\t\tlog_reg__penalty    : l2\n",
      "\t\tlog_reg__warm_start : True\n",
      "\t\tscaler__scaling     : True\n",
      "\n",
      "\taccuracy score:   0.8013468013468014\n",
      "\n"
     ]
    },
    {
     "data": {
      "image/png": "[encoded data removed]",
      "text/plain": [
       "<Figure size 432x288 with 1 Axes>"
      ]
     },
     "metadata": {},
     "output_type": "display_data"
    }
   ],
   "source": [
    "Training(pipeline, params_grid, cv, scorers)"
   ]
  },
  {
   "cell_type": "markdown",
   "metadata": {},
   "source": [
    "**_Observations:_**\n",
    "\n",
    "\n",
    "- WRITE CONCLUSIONS"
   ]
  },
  {
   "cell_type": "code",
   "execution_count": 18,
   "metadata": {
    "collapsed": true,
    "id": "UcnFIqmq3jRp"
   },
   "outputs": [],
   "source": [
    "# You might use this command to install scikit-plot. \n",
    "# Warning, if you a running locally, don't call pip from within jupyter, call it from terminal in the corresponding \n",
    "# virtual environment instead\n",
    "\n",
    "# ! pip install scikit-plot"
   ]
  },
  {
   "cell_type": "markdown",
   "metadata": {
    "id": "h-xK0D3V3jRu"
   },
   "source": [
    "#### 2.2. PCA: explained variance plot\n",
    "* Apply the PCA to the train part of the data. Build the explaided variance plot. "
   ]
  },
  {
   "cell_type": "code",
   "execution_count": 19,
   "metadata": {
    "collapsed": true,
    "id": "p_RVV4Bp3jRv",
    "nbgrader": {
     "grade": true,
     "grade_id": "cell-c6c614740bce090e",
     "locked": false,
     "points": 10,
     "schema_version": 2,
     "solution": true
    }
   },
   "outputs": [],
   "source": [
    "### YOUR CODE HERE"
   ]
  },
  {
   "cell_type": "code",
   "execution_count": 20,
   "metadata": {
    "collapsed": true
   },
   "outputs": [],
   "source": [
    "from sklearn.decomposition import PCA"
   ]
  },
  {
   "cell_type": "code",
   "execution_count": 21,
   "metadata": {
    "collapsed": true
   },
   "outputs": [],
   "source": [
    "pca = PCA()"
   ]
  },
  {
   "cell_type": "code",
   "execution_count": 22,
   "metadata": {},
   "outputs": [
    {
     "data": {
      "text/plain": [
       "PCA()"
      ]
     },
     "execution_count": 22,
     "metadata": {},
     "output_type": "execute_result"
    }
   ],
   "source": [
    "pca.fit(X_train)"
   ]
  },
  {
   "cell_type": "code",
   "execution_count": 23,
   "metadata": {
    "collapsed": true
   },
   "outputs": [],
   "source": [
    "evr_cum = np.cumsum(pca.explained_variance_ratio_)"
   ]
  },
  {
   "cell_type": "code",
   "execution_count": 24,
   "metadata": {
    "scrolled": false
   },
   "outputs": [
    {
     "data": {
      "text/plain": [
       "Text(0, 0.5, 'Explained Variance')"
      ]
     },
     "execution_count": 24,
     "metadata": {},
     "output_type": "execute_result"
    },
    {
     "data": {
      "image/png": "[encoded data removed]",
      "text/plain": [
       "<Figure size 648x432 with 1 Axes>"
      ]
     },
     "metadata": {},
     "output_type": "display_data"
    }
   ],
   "source": [
    "plt.figure(figsize=(9,6))\n",
    "plt.plot(np.arange(1, X_train.shape[1] + 1), evr_cum, 'g.-')\n",
    "_ = plt.xticks(np.arange(1, 20))\n",
    "plt.xlabel('Dimensions', fontsize=18)\n",
    "plt.ylabel('Explained Variance', rotation=90, fontsize=20, labelpad=20)"
   ]
  },
  {
   "cell_type": "markdown",
   "metadata": {
    "id": "K9oFIdJM3jR1",
    "nbgrader": {
     "grade": false,
     "grade_id": "cell-0c1fe666f52fe53c",
     "locked": true,
     "schema_version": 2,
     "solution": false
    }
   },
   "source": [
    "#### 2.3. PCA trasformation\n",
    "* Select the appropriate number of components. Briefly explain your choice. Should you normalize the data?\n",
    "\n",
    "*Use `fit` and `transform` methods to transform the `train` and `test` parts.*"
   ]
  },
  {
   "cell_type": "markdown",
   "metadata": {},
   "source": [
    "**_Observation:_**\n",
    "\n",
    "Above we perform PCA on the training data without normalization. We notice that"
   ]
  },
  {
   "cell_type": "code",
   "execution_count": 25,
   "metadata": {},
   "outputs": [
    {
     "data": {
      "text/plain": [
       "2"
      ]
     },
     "execution_count": 25,
     "metadata": {},
     "output_type": "execute_result"
    }
   ],
   "source": [
    "np.argmax(evr_cum >= 0.98) + 1"
   ]
  },
  {
   "cell_type": "markdown",
   "metadata": {},
   "source": [
    "That is, more that 98% od the dataset's variance lies along the first 2 axis. So 2/19 \\approx 0.10 < 0.11 or, equivalently, less than 11% of the data explains 98% of the variance of the whole data. This means that either:\n",
    "\n",
    "- Most of the features are linearly dependent.\n",
    "EXPAND ANSWER. YES WE DO NEED TO NORMALIZE DATA"
   ]
  },
  {
   "cell_type": "code",
   "execution_count": 26,
   "metadata": {
    "collapsed": true,
    "id": "1c9bVKuD3jR2",
    "nbgrader": {
     "grade": true,
     "grade_id": "cell-96ab18d96473ef71",
     "locked": false,
     "points": 5,
     "schema_version": 2,
     "solution": true
    }
   },
   "outputs": [],
   "source": [
    "### YOUR CODE HERE"
   ]
  },
  {
   "cell_type": "code",
   "execution_count": 27,
   "metadata": {
    "collapsed": true
   },
   "outputs": [],
   "source": [
    "del pca\n",
    "del evr_cum"
   ]
  },
  {
   "cell_type": "code",
   "execution_count": 28,
   "metadata": {
    "collapsed": true
   },
   "outputs": [],
   "source": [
    "scaler = StandardScaler()"
   ]
  },
  {
   "cell_type": "code",
   "execution_count": 29,
   "metadata": {
    "collapsed": true
   },
   "outputs": [],
   "source": [
    "X_train_scaled = scaler.fit_transform(X_train)"
   ]
  },
  {
   "cell_type": "code",
   "execution_count": 30,
   "metadata": {
    "collapsed": true
   },
   "outputs": [],
   "source": [
    "pca = PCA()"
   ]
  },
  {
   "cell_type": "code",
   "execution_count": 31,
   "metadata": {},
   "outputs": [
    {
     "data": {
      "text/plain": [
       "PCA()"
      ]
     },
     "execution_count": 31,
     "metadata": {},
     "output_type": "execute_result"
    }
   ],
   "source": [
    "pca.fit(X_train_scaled)"
   ]
  },
  {
   "cell_type": "code",
   "execution_count": 32,
   "metadata": {
    "collapsed": true
   },
   "outputs": [],
   "source": [
    "evr_cum = np.cumsum(pca.explained_variance_ratio_)"
   ]
  },
  {
   "cell_type": "code",
   "execution_count": 33,
   "metadata": {},
   "outputs": [
    {
     "data": {
      "text/plain": [
       "Text(0, 0.5, 'Explained Variance')"
      ]
     },
     "execution_count": 33,
     "metadata": {},
     "output_type": "execute_result"
    },
    {
     "data": {
      "image/png": "[encoded data removed]",
      "text/plain": [
       "<Figure size 648x432 with 1 Axes>"
      ]
     },
     "metadata": {},
     "output_type": "display_data"
    }
   ],
   "source": [
    "plt.figure(figsize=(9,6))\n",
    "plt.plot(np.arange(1, X_train.shape[1] + 1), evr_cum, 'g.-')\n",
    "_ = plt.xticks(np.arange(1, 20))\n",
    "plt.xlabel('Dimensions', fontsize=18)\n",
    "plt.ylabel('Explained Variance', rotation=90, fontsize=20, labelpad=20)"
   ]
  },
  {
   "cell_type": "code",
   "execution_count": 34,
   "metadata": {},
   "outputs": [
    {
     "data": {
      "text/plain": [
       "8"
      ]
     },
     "execution_count": 34,
     "metadata": {},
     "output_type": "execute_result"
    }
   ],
   "source": [
    "d = np.argmax(evr_cum >= 0.95) + 1\n",
    "d"
   ]
  },
  {
   "cell_type": "code",
   "execution_count": 35,
   "metadata": {},
   "outputs": [
    {
     "data": {
      "text/plain": [
       "0.9654848579048219"
      ]
     },
     "execution_count": 35,
     "metadata": {},
     "output_type": "execute_result"
    }
   ],
   "source": [
    "evr_cum[d-1]"
   ]
  },
  {
   "cell_type": "markdown",
   "metadata": {},
   "source": [
    "**_Observation:_**\n",
    "\n",
    "We'll use the first 8 principal components, since with them we preserve more than the 95% of the training set's variance.\n",
    "\n",
    "(We could have also instanciated `pca = PCA(n_components=0.95)`).\n",
    "\n",
    "-----"
   ]
  },
  {
   "cell_type": "markdown",
   "metadata": {
    "id": "BGKXkvpv3jR6"
   },
   "source": [
    "**Note: From this point `sklearn` [Pipeline](https://scikit-learn.org/stable/modules/compose.html) might be useful to perform transformations on the data. Refer to the [docs](https://scikit-learn.org/stable/modules/generated/sklearn.pipeline.Pipeline.html) for more information.**"
   ]
  },
  {
   "cell_type": "markdown",
   "metadata": {
    "id": "-Bgo9Jv53jR8",
    "nbgrader": {
     "grade": false,
     "grade_id": "cell-d28b58a35c94e988",
     "locked": true,
     "schema_version": 2,
     "solution": false
    }
   },
   "source": [
    "#### 2.4. Logistic regression on PCA-preprocessed data.\n",
    "* Find optimal hyperparameters for logistic regression with cross-validation on the transformed by PCA `train` data.\n",
    "\n",
    "* Estimate the model quality with `f1` and `accuracy` scores.\n",
    "* Plot a ROC-curve for the trained model. For the multiclass case you might use `scikitplot` library (e.g. `scikitplot.metrics.plot_roc(test_labels, predicted_proba)`).\n",
    "\n",
    "*Note: please, use the following hyperparameters for logistic regression: `multi_class='multinomial'`, `solver='saga'` and `tol=1e-3`*"
   ]
  },
  {
   "cell_type": "markdown",
   "metadata": {},
   "source": [
    "**_Observation:_**\n",
    "\n",
    "We use `StandardScaler` instead of `CustomStandardScaler(scoring=True)`."
   ]
  },
  {
   "cell_type": "code",
   "execution_count": 36,
   "metadata": {
    "collapsed": true,
    "id": "87j2vQGN3jR9",
    "nbgrader": {
     "grade": true,
     "grade_id": "cell-12d53ea45258fa82",
     "locked": false,
     "points": 5,
     "schema_version": 2,
     "solution": true
    }
   },
   "outputs": [],
   "source": [
    "### YOUR CODE HERE"
   ]
  },
  {
   "cell_type": "code",
   "execution_count": 37,
   "metadata": {
    "collapsed": true
   },
   "outputs": [],
   "source": [
    "del pipeline\n",
    "del params_grid"
   ]
  },
  {
   "cell_type": "code",
   "execution_count": 38,
   "metadata": {
    "collapsed": true
   },
   "outputs": [],
   "source": [
    "pipeline = Pipeline([\n",
    "    ('scaler', StandardScaler()),\n",
    "    ('pca', PCA(n_components=d)),\n",
    "    ('log_reg', LogisticRegression(multi_class='multinomial', solver='saga', tol=1e-3, max_iter=1000))\n",
    "])"
   ]
  },
  {
   "cell_type": "code",
   "execution_count": 39,
   "metadata": {
    "collapsed": true
   },
   "outputs": [],
   "source": [
    "params_grid = [\n",
    "    {\n",
    "        'log_reg__penalty': ['l1', 'l2'],\n",
    "        'log_reg__C': np.linspace(0.1, 8.0, 5),\n",
    "        'log_reg__n_jobs': [None, -1],\n",
    "    },\n",
    "    {\n",
    "        'log_reg__penalty': ['elastic'],\n",
    "        'log_reg__l1_ratio' : np.linspace(0.1, 1, 5, endpoint=False),\n",
    "        'log_reg__C': np.linspace(0.1, 8.0, 5),\n",
    "        'log_reg__n_jobs': [None, -1],\n",
    "    },\n",
    "]"
   ]
  },
  {
   "cell_type": "code",
   "execution_count": 40,
   "metadata": {},
   "outputs": [
    {
     "data": {
      "text/plain": [
       "['f1_micro', 'accuracy']"
      ]
     },
     "execution_count": 40,
     "metadata": {},
     "output_type": "execute_result"
    }
   ],
   "source": [
    "scorers"
   ]
  },
  {
   "cell_type": "code",
   "execution_count": 41,
   "metadata": {},
   "outputs": [
    {
     "name": "stdout",
     "output_type": "stream",
     "text": [
      "Model metric: f1_micro\n",
      "\tBest Parameters:\n",
      "\n",
      "\t\tlog_reg__C          : 8.0\n",
      "\t\tlog_reg__n_jobs     : None\n",
      "\t\tlog_reg__penalty    : l2\n",
      "\n",
      "\tf1_micro score:   0.6565656565656566\n",
      "\n",
      "Model metric: accuracy\n",
      "\tBest Parameters:\n",
      "\n",
      "\t\tlog_reg__C          : 4.05\n",
      "\t\tlog_reg__n_jobs     : None\n",
      "\t\tlog_reg__penalty    : l1\n",
      "\n",
      "\taccuracy score:   0.6565656565656566\n",
      "\n"
     ]
    },
    {
     "data": {
      "image/png": "[encoded data removed]",
      "text/plain": [
       "<Figure size 432x288 with 1 Axes>"
      ]
     },
     "metadata": {},
     "output_type": "display_data"
    }
   ],
   "source": [
    "Training(pipeline, params_grid, cv, scorers)"
   ]
  },
  {
   "cell_type": "markdown",
   "metadata": {},
   "source": [
    "**_Observations:_**\n",
    "\n",
    "MAKE CONCLUSION!!!!"
   ]
  },
  {
   "cell_type": "markdown",
   "metadata": {
    "id": "ZxVBo4nr3jSC",
    "nbgrader": {
     "grade": false,
     "grade_id": "cell-4fbf16c64076e139",
     "locked": true,
     "schema_version": 2,
     "solution": false
    }
   },
   "source": [
    "#### 2.5. Decision tree\n",
    "* Now train a decision tree on the same data. Find optimal tree depth (`max_depth`) using cross-validation.\n",
    "\n",
    "* Measure the model quality using the same metrics you used above."
   ]
  },
  {
   "cell_type": "code",
   "execution_count": 42,
   "metadata": {
    "collapsed": true,
    "id": "zep_bYuQ3jSD",
    "nbgrader": {
     "grade": true,
     "grade_id": "cell-748ed20b51c67fab",
     "locked": false,
     "points": 15,
     "schema_version": 2,
     "solution": true
    }
   },
   "outputs": [],
   "source": [
    "from sklearn.tree import DecisionTreeClassifier\n",
    "# YOUR CODE HERE"
   ]
  },
  {
   "cell_type": "code",
   "execution_count": 43,
   "metadata": {
    "collapsed": true
   },
   "outputs": [],
   "source": [
    "tree_clf = DecisionTreeClassifier()"
   ]
  },
  {
   "cell_type": "code",
   "execution_count": 44,
   "metadata": {},
   "outputs": [
    {
     "data": {
      "text/plain": [
       "GridSearchCV(cv=StratifiedKFold(n_splits=5, random_state=42, shuffle=True),\n",
       "             estimator=DecisionTreeClassifier(), n_jobs=-1,\n",
       "             param_grid={'max_depth': array([ 2,  3,  4,  5,  6,  7,  8,  9, 10, 11, 12, 13, 14, 15])})"
      ]
     },
     "execution_count": 44,
     "metadata": {},
     "output_type": "execute_result"
    }
   ],
   "source": [
    "grid_search = GridSearchCV(tree_clf, {'max_depth':np.arange(2, 16)}, cv=cv, refit=True, n_jobs=-1)\n",
    "grid_search.fit(X_train, y_train)"
   ]
  },
  {
   "cell_type": "code",
   "execution_count": 45,
   "metadata": {},
   "outputs": [
    {
     "data": {
      "text/plain": [
       "{'max_depth': 14}"
      ]
     },
     "execution_count": 45,
     "metadata": {},
     "output_type": "execute_result"
    }
   ],
   "source": [
    "grid_search.best_params_"
   ]
  },
  {
   "cell_type": "code",
   "execution_count": 46,
   "metadata": {},
   "outputs": [
    {
     "data": {
      "text/plain": [
       "DecisionTreeClassifier(max_depth=14)"
      ]
     },
     "execution_count": 46,
     "metadata": {},
     "output_type": "execute_result"
    }
   ],
   "source": [
    "grid_search.best_estimator_"
   ]
  },
  {
   "cell_type": "code",
   "execution_count": 47,
   "metadata": {
    "collapsed": true
   },
   "outputs": [],
   "source": [
    "def ModelScore(model, scorers):\n",
    "    \n",
    "    model.fit(X_train, y_train)\n",
    "    y_pred = model.predict(X_test)\n",
    "    \n",
    "    for scorer in scorers:\n",
    "        \n",
    "        score_result = ''\n",
    "        \n",
    "        if scorer == 'f1_micro':\n",
    "            score_result = f1_score(y_test, y_pred, average='micro')\n",
    "        else:\n",
    "            score_result = accuracy_score(y_test, y_pred)\n",
    "        \n",
    "        print('Model metric: {}'.format(scorer))\n",
    "        print('\\n\\t{} score: {:20}\\n'.format(scorer, score_result))"
   ]
  },
  {
   "cell_type": "code",
   "execution_count": 48,
   "metadata": {},
   "outputs": [
    {
     "name": "stdout",
     "output_type": "stream",
     "text": [
      "Model metric: f1_micro\n",
      "\n",
      "\tf1_micro score:   0.7272727272727273\n",
      "\n",
      "Model metric: accuracy\n",
      "\n",
      "\taccuracy score:   0.7272727272727273\n",
      "\n"
     ]
    }
   ],
   "source": [
    "ModelScore(grid_search.best_estimator_, scorers)"
   ]
  },
  {
   "cell_type": "markdown",
   "metadata": {},
   "source": [
    "**_Observations:_**\n",
    "\n",
    "MAKE CONCLUSIONS!!"
   ]
  },
  {
   "cell_type": "markdown",
   "metadata": {
    "id": "lAv6pVkK3jSH",
    "nbgrader": {
     "grade": false,
     "grade_id": "cell-9eadd4d8a03ae67a",
     "locked": true,
     "schema_version": 2,
     "solution": false
    }
   },
   "source": [
    "#### 2.6. Bagging.\n",
    "Here starts the ensembling part.\n",
    "\n",
    "First we will use the __Bagging__ approach. Build an ensemble of $N$ algorithms varying N from $N_{min}=2$ to $N_{max}=100$ (with step 5).\n",
    "\n",
    "We will build two ensembles: of logistic regressions and of decision trees.\n",
    "\n",
    "*Comment: each ensemble should be constructed from models of the same family, so logistic regressions should not be mixed up with decision trees.*\n",
    "\n",
    "\n",
    "*Hint 1: To build a __Bagging__ ensemble varying the ensemble size efficiently you might generate $N_{max}$ subsets of `train` data (of the same size as the original dataset) using bootstrap procedure once. Then you train a new instance of logistic regression/decision tree with optimal hyperparameters you estimated before on each subset (so you train it from scratch). Finally, to get an ensemble of $N$ models you average the $N$ out of $N_{max}$ models predictions.*\n",
    "\n",
    "*Hint 2: sklearn might help you with this taks. Some appropriate function/class might be out there.*\n",
    "\n",
    "* Plot `f1` and `accuracy` scores plots w.r.t. the size of the ensemble.\n",
    "\n",
    "* Briefly analyse the plot. What is the optimal number of algorithms? Explain your answer.\n",
    "\n",
    "* How do you think, are the hyperparameters for the decision trees you found in 2.5 optimal for trees used in ensemble? "
   ]
  },
  {
   "cell_type": "markdown",
   "metadata": {},
   "source": [
    "**_Observations:_**\n",
    "\n",
    "We'll use `sklearn.ensemble.BaggingClassifier`.\n",
    "\n",
    "We'll set:\n",
    "\n",
    "- `warm_start=True` in order to avoid training the $N-1$ previous estimators when adding the $N$-th one to the ensemble.\n",
    "- `bootstrap=True` and `max_sample=1.0` to generate a new bootstrapped sample from the training data with the same size each time we add a new base estimator.\n",
    "\n",
    "The averaging of the $N$ models' prediction is performs by the predict method of `BaggingClassifier` automatically.\n"
   ]
  },
  {
   "cell_type": "code",
   "execution_count": 49,
   "metadata": {
    "collapsed": true,
    "id": "VMn8Bwma3jSJ",
    "nbgrader": {
     "grade": true,
     "grade_id": "cell-8fc95a2b206bdae1",
     "locked": false,
     "points": 35,
     "schema_version": 2,
     "solution": true
    }
   },
   "outputs": [],
   "source": [
    "# YOUR CODE HERE"
   ]
  },
  {
   "cell_type": "code",
   "execution_count": 50,
   "metadata": {
    "collapsed": true
   },
   "outputs": [],
   "source": [
    "from sklearn.ensemble import BaggingClassifier"
   ]
  },
  {
   "cell_type": "code",
   "execution_count": 104,
   "metadata": {
    "collapsed": true
   },
   "outputs": [],
   "source": [
    "def BaggingPlot(model, X_train, y_train, X_test, y_test):\n",
    "    f1 = []\n",
    "    acc = []\n",
    "\n",
    "    bag_clf = bag_clf = BaggingClassifier(\n",
    "        DecisionTreeClassifier(max_depth=6), \n",
    "        n_estimators=2, max_samples=1.0, bootstrap=True, warm_start=True\n",
    "    )\n",
    "\n",
    "    for N in range(2, 101):\n",
    "        bag_clf.fit(X_train, y_train)\n",
    "        y_pred = bag_clf.predict(X_test)\n",
    "\n",
    "        f1.append(f1_score(y_test, y_pred, average='micro'))\n",
    "        acc.append(accuracy_score(y_test, y_pred))\n",
    "\n",
    "        bag_clf.n_estimators += 1\n",
    "    \n",
    "    m = np.arange(2, 101)\n",
    "    plt.figure(figsize=(9,6))\n",
    "    plt.plot(m, f1, 'r-', label=r'$f_1$ score')\n",
    "    plt.plot(m, acc, 'g.--', label=r'accuracy')\n",
    "    plt.legend(loc=\"lower right\", prop={'size': 14})\n",
    "    plt.xlabel('n estimators', fontsize=18)\n",
    "    plt.ylabel('scores', rotation=90, fontsize=20, labelpad=20)"
   ]
  },
  {
   "cell_type": "code",
   "execution_count": 105,
   "metadata": {},
   "outputs": [
    {
     "data": {
      "image/png": "[encoded data removed]",
      "text/plain": [
       "<Figure size 648x432 with 1 Axes>"
      ]
     },
     "metadata": {},
     "output_type": "display_data"
    }
   ],
   "source": [
    "BaggingPlot(DecisionTreeClassifier(max_depth=6))"
   ]
  },
  {
   "cell_type": "code",
   "execution_count": null,
   "metadata": {
    "collapsed": true
   },
   "outputs": [],
   "source": [
    "BaggingPlot(DecisionTreeClassifier(max_depth=6))"
   ]
  },
  {
   "cell_type": "code",
   "execution_count": 107,
   "metadata": {},
   "outputs": [
    {
     "ename": "SyntaxError",
     "evalue": "invalid syntax (<ipython-input-107-567dc60fc1ec>, line 4)",
     "output_type": "error",
     "traceback": [
      "\u001b[0;36m  File \u001b[0;32m\"<ipython-input-107-567dc60fc1ec>\"\u001b[0;36m, line \u001b[0;32m4\u001b[0m\n\u001b[0;31m    X_test_scaled =\u001b[0m\n\u001b[0m                    ^\u001b[0m\n\u001b[0;31mSyntaxError\u001b[0m\u001b[0;31m:\u001b[0m invalid syntax\n"
     ]
    }
   ],
   "source": [
    "del scaler\n",
    "scaler = StandardScaler()\n",
    "X_train_scaled = scaler.fit_transform(X_train)\n",
    "X_test_scaled = "
   ]
  },
  {
   "cell_type": "code",
   "execution_count": null,
   "metadata": {
    "collapsed": true
   },
   "outputs": [],
   "source": [
    "BaggingPlot(Logistic(max_depth=6))"
   ]
  },
  {
   "cell_type": "code",
   "execution_count": null,
   "metadata": {
    "collapsed": true
   },
   "outputs": [],
   "source": []
  },
  {
   "cell_type": "markdown",
   "metadata": {
    "id": "09ntuk2C3jSW",
    "nbgrader": {
     "grade": false,
     "grade_id": "cell-241b7691ab44cbfb",
     "locked": true,
     "schema_version": 2,
     "solution": false
    }
   },
   "source": [
    "#### 2.7. Random Forest\n",
    "Now we will work with the Random Forest (its `sklearn` implementation).\n",
    "\n",
    "* * Plot `f1` and `accuracy` scores plots w.r.t. the number of trees in Random Forest.\n",
    "\n",
    "* What is the optimal number of trees you've got? Is it different from the optimal number of logistic regressions/decision trees in 2.6? Explain the results briefly."
   ]
  },
  {
   "cell_type": "code",
   "execution_count": null,
   "metadata": {
    "collapsed": true,
    "id": "yyJIq71s3jSX",
    "nbgrader": {
     "grade": true,
     "grade_id": "cell-888755d0f3d91620",
     "locked": false,
     "points": 15,
     "schema_version": 2,
     "solution": true
    }
   },
   "outputs": [],
   "source": [
    "from sklearn.ensemble import RandomForestClassifier\n",
    "\n",
    "# YOUR CODE HERE"
   ]
  },
  {
   "cell_type": "markdown",
   "metadata": {
    "id": "mX71AUXf3jSe",
    "nbgrader": {
     "grade": false,
     "grade_id": "cell-99191c0852538d4d",
     "locked": true,
     "schema_version": 2,
     "solution": false
    }
   },
   "source": [
    "#### 2.8. Learning curve\n",
    "Your goal is to estimate, how does the model behaviour change with the increase of the `train` dataset size.\n",
    "\n",
    "* Split the training data into 10 equal (almost) parts. Then train the models from above (Logistic regression, Desicion Tree, Random Forest) with optimal hyperparameters you have selected on 1 part, 2 parts (combined, so the train size in increased by 2 times), 3 parts and so on.\n",
    "\n",
    "* Build a plot of `accuracy` and `f1` scores on `test` part, varying the `train` dataset size (so the axes will be score - dataset size.\n",
    "\n",
    "* Analyse the final plot. Can you make any conlusions using it? "
   ]
  },
  {
   "cell_type": "code",
   "execution_count": null,
   "metadata": {
    "collapsed": true,
    "id": "dwFls7eg3jSr",
    "nbgrader": {
     "grade": true,
     "grade_id": "cell-e39bc7e7dff61ff9",
     "locked": false,
     "points": 15,
     "schema_version": 2,
     "solution": true
    }
   },
   "outputs": [],
   "source": [
    "# YOUR CODE HERE"
   ]
  }
 ],
 "metadata": {
  "celltoolbar": "Create Assignment",
  "colab": {
   "name": "Lab1_part2_ml_pipeline.ipynb",
   "provenance": []
  },
  "kernelspec": {
   "display_name": "Python 3",
   "language": "python",
   "name": "python3"
  },
  "language_info": {
   "codemirror_mode": {
    "name": "ipython",
    "version": 3
   },
   "file_extension": ".py",
   "mimetype": "text/x-python",
   "name": "python",
   "nbconvert_exporter": "python",
   "pygments_lexer": "ipython3",
   "version": "3.6.4"
  },
  "toc": {
   "base_numbering": 1,
   "nav_menu": {},
   "number_sections": false,
   "sideBar": true,
   "skip_h1_title": false,
   "title_cell": "Table of Contents",
   "title_sidebar": "Contents",
   "toc_cell": false,
   "toc_position": {},
   "toc_section_display": true,
   "toc_window_display": false
  }
 },
 "nbformat": 4,
 "nbformat_minor": 1
}
