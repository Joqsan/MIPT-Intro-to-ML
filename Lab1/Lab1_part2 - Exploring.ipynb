{
 "cells": [
  {
   "cell_type": "markdown",
   "metadata": {
    "id": "ZycbybOG3jQt",
    "nbgrader": {
     "grade": false,
     "grade_id": "cell-86e0de040aac317a",
     "locked": true,
     "schema_version": 2,
     "solution": false
    }
   },
   "source": [
    "# Lab assignment №1, part 2\n",
    "\n",
    "This lab assignment consists of several parts. You are supposed to make some transformations, train some models, estimate the quality of the models and explain your results.\n",
    "\n",
    "Several comments:\n",
    "* Don't hesitate to ask questions, it's a good practice.\n",
    "* No private/public sharing, please. The copied assignments will be graded with 0 points.\n",
    "* Blocks of this lab will be graded separately."
   ]
  },
  {
   "cell_type": "markdown",
   "metadata": {
    "id": "yWJIUzKA3jQw"
   },
   "source": [
    "__*This is the second part of the assignment. First and third parts are waiting for you in the same directory.*__"
   ]
  },
  {
   "cell_type": "markdown",
   "metadata": {
    "id": "ZnVZh9sf3jQz",
    "nbgrader": {
     "grade": false,
     "grade_id": "cell-512ba712fc0fc065",
     "locked": true,
     "schema_version": 2,
     "solution": false
    }
   },
   "source": [
    "## Part 2. Data preprocessing, model training and evaluation."
   ]
  },
  {
   "cell_type": "markdown",
   "metadata": {
    "id": "mXg6_n7K3jQ1",
    "nbgrader": {
     "grade": false,
     "grade_id": "cell-b656a4266174b009",
     "locked": true,
     "schema_version": 2,
     "solution": false
    }
   },
   "source": [
    "### 1. Reading the data\n",
    "Today we work with the [dataset](https://archive.ics.uci.edu/ml/datasets/Statlog+%28Vehicle+Silhouettes%29), describing different cars for multiclass ($k=4$) classification problem. The data is available below."
   ]
  },
  {
   "cell_type": "code",
   "execution_count": 199,
   "metadata": {
    "collapsed": true,
    "id": "K1AhczUL3jQ6"
   },
   "outputs": [],
   "source": [
    "# If on colab, uncomment the following lines\n",
    "\n",
    "# ! wget https://raw.githubusercontent.com/girafe-ai/ml-mipt/basic_f20/homeworks_basic/Lab1_ML_pipeline_and_SVM/car_data.csv"
   ]
  },
  {
   "cell_type": "code",
   "execution_count": 200,
   "metadata": {
    "collapsed": true,
    "id": "lw2T5M-F3jRC",
    "nbgrader": {
     "grade": false,
     "grade_id": "cell-eebac6bfdf73d0bc",
     "locked": true,
     "schema_version": 2,
     "solution": false
    },
    "outputId": "43e39191-6e83-4e01-8f4f-cb66d5334cd7"
   },
   "outputs": [],
   "source": [
    "import pandas as pd\n",
    "import numpy as np\n",
    "from sklearn.model_selection import train_test_split\n",
    "\n",
    "dataset = pd.read_csv('car_data.csv', delimiter=',', header=None).values"
   ]
  },
  {
   "cell_type": "code",
   "execution_count": 201,
   "metadata": {},
   "outputs": [
    {
     "data": {
      "text/plain": [
       "array([[0, 95, 48, ..., 187, 197, 'van'],\n",
       "       [1, 91, 41, ..., 189, 199, 'van'],\n",
       "       [2, 104, 50, ..., 188, 196, 'saab'],\n",
       "       ...,\n",
       "       [843, 106, 54, ..., 187, 201, 'saab'],\n",
       "       [844, 86, 36, ..., 190, 195, 'saab'],\n",
       "       [845, 85, 36, ..., 186, 190, 'van']], dtype=object)"
      ]
     },
     "execution_count": 201,
     "metadata": {},
     "output_type": "execute_result"
    }
   ],
   "source": [
    "dataset"
   ]
  },
  {
   "cell_type": "code",
   "execution_count": 202,
   "metadata": {},
   "outputs": [
    {
     "data": {
      "text/plain": [
       "array([[0, 95, 48, ..., 16, 187, 197],\n",
       "       [1, 91, 41, ..., 14, 189, 199],\n",
       "       [2, 104, 50, ..., 9, 188, 196],\n",
       "       ...,\n",
       "       [843, 106, 54, ..., 4, 187, 201],\n",
       "       [844, 86, 36, ..., 25, 190, 195],\n",
       "       [845, 85, 36, ..., 18, 186, 190]], dtype=object)"
      ]
     },
     "execution_count": 202,
     "metadata": {},
     "output_type": "execute_result"
    }
   ],
   "source": [
    "dataset[:, :-1]"
   ]
  },
  {
   "cell_type": "code",
   "execution_count": 203,
   "metadata": {},
   "outputs": [
    {
     "name": "stdout",
     "output_type": "stream",
     "text": [
      "(846, 19) (846,)\n",
      "(549, 19) (549,) (297, 19) (297,)\n"
     ]
    }
   ],
   "source": [
    "data = dataset[:, :-1].astype(int)\n",
    "target = dataset[:, -1]\n",
    "\n",
    "print(data.shape, target.shape)\n",
    "\n",
    "X_train, X_test, y_train, y_test = train_test_split(data, target, test_size=0.35)\n",
    "print(X_train.shape, y_train.shape, X_test.shape, y_test.shape)"
   ]
  },
  {
   "cell_type": "markdown",
   "metadata": {
    "id": "nzBz7LvL3jRI",
    "nbgrader": {
     "grade": false,
     "grade_id": "cell-88b1a0f688568f2c",
     "locked": true,
     "schema_version": 2,
     "solution": false
    }
   },
   "source": [
    "To get some insights about the dataset, `pandas` might be used. The `train` part is transformed to `pd.DataFrame` below."
   ]
  },
  {
   "cell_type": "code",
   "execution_count": 204,
   "metadata": {
    "id": "OqC0I-A23jRK",
    "outputId": "befe7ce7-83d4-42c3-b7dc-c919953e7710"
   },
   "outputs": [
    {
     "data": {
      "text/html": [
       "<div>\n",
       "<style scoped>\n",
       "    .dataframe tbody tr th:only-of-type {\n",
       "        vertical-align: middle;\n",
       "    }\n",
       "\n",
       "    .dataframe tbody tr th {\n",
       "        vertical-align: top;\n",
       "    }\n",
       "\n",
       "    .dataframe thead th {\n",
       "        text-align: right;\n",
       "    }\n",
       "</style>\n",
       "<table border=\"1\" class=\"dataframe\">\n",
       "  <thead>\n",
       "    <tr style=\"text-align: right;\">\n",
       "      <th></th>\n",
       "      <th>0</th>\n",
       "      <th>1</th>\n",
       "      <th>2</th>\n",
       "      <th>3</th>\n",
       "      <th>4</th>\n",
       "      <th>5</th>\n",
       "      <th>6</th>\n",
       "      <th>7</th>\n",
       "      <th>8</th>\n",
       "      <th>9</th>\n",
       "      <th>10</th>\n",
       "      <th>11</th>\n",
       "      <th>12</th>\n",
       "      <th>13</th>\n",
       "      <th>14</th>\n",
       "      <th>15</th>\n",
       "      <th>16</th>\n",
       "      <th>17</th>\n",
       "      <th>18</th>\n",
       "    </tr>\n",
       "  </thead>\n",
       "  <tbody>\n",
       "    <tr>\n",
       "      <th>0</th>\n",
       "      <td>264</td>\n",
       "      <td>103</td>\n",
       "      <td>49</td>\n",
       "      <td>100</td>\n",
       "      <td>194</td>\n",
       "      <td>60</td>\n",
       "      <td>10</td>\n",
       "      <td>185</td>\n",
       "      <td>35</td>\n",
       "      <td>22</td>\n",
       "      <td>160</td>\n",
       "      <td>202</td>\n",
       "      <td>518</td>\n",
       "      <td>178</td>\n",
       "      <td>62</td>\n",
       "      <td>13</td>\n",
       "      <td>8</td>\n",
       "      <td>198</td>\n",
       "      <td>208</td>\n",
       "    </tr>\n",
       "    <tr>\n",
       "      <th>1</th>\n",
       "      <td>382</td>\n",
       "      <td>81</td>\n",
       "      <td>46</td>\n",
       "      <td>71</td>\n",
       "      <td>141</td>\n",
       "      <td>61</td>\n",
       "      <td>7</td>\n",
       "      <td>153</td>\n",
       "      <td>44</td>\n",
       "      <td>19</td>\n",
       "      <td>148</td>\n",
       "      <td>177</td>\n",
       "      <td>347</td>\n",
       "      <td>190</td>\n",
       "      <td>80</td>\n",
       "      <td>1</td>\n",
       "      <td>14</td>\n",
       "      <td>182</td>\n",
       "      <td>187</td>\n",
       "    </tr>\n",
       "    <tr>\n",
       "      <th>2</th>\n",
       "      <td>625</td>\n",
       "      <td>104</td>\n",
       "      <td>53</td>\n",
       "      <td>101</td>\n",
       "      <td>190</td>\n",
       "      <td>63</td>\n",
       "      <td>10</td>\n",
       "      <td>213</td>\n",
       "      <td>32</td>\n",
       "      <td>24</td>\n",
       "      <td>166</td>\n",
       "      <td>218</td>\n",
       "      <td>664</td>\n",
       "      <td>202</td>\n",
       "      <td>74</td>\n",
       "      <td>13</td>\n",
       "      <td>21</td>\n",
       "      <td>188</td>\n",
       "      <td>198</td>\n",
       "    </tr>\n",
       "    <tr>\n",
       "      <th>3</th>\n",
       "      <td>210</td>\n",
       "      <td>94</td>\n",
       "      <td>39</td>\n",
       "      <td>89</td>\n",
       "      <td>194</td>\n",
       "      <td>62</td>\n",
       "      <td>9</td>\n",
       "      <td>172</td>\n",
       "      <td>38</td>\n",
       "      <td>21</td>\n",
       "      <td>135</td>\n",
       "      <td>191</td>\n",
       "      <td>444</td>\n",
       "      <td>121</td>\n",
       "      <td>63</td>\n",
       "      <td>4</td>\n",
       "      <td>23</td>\n",
       "      <td>201</td>\n",
       "      <td>209</td>\n",
       "    </tr>\n",
       "    <tr>\n",
       "      <th>4</th>\n",
       "      <td>461</td>\n",
       "      <td>106</td>\n",
       "      <td>52</td>\n",
       "      <td>107</td>\n",
       "      <td>211</td>\n",
       "      <td>62</td>\n",
       "      <td>8</td>\n",
       "      <td>200</td>\n",
       "      <td>33</td>\n",
       "      <td>23</td>\n",
       "      <td>161</td>\n",
       "      <td>218</td>\n",
       "      <td>602</td>\n",
       "      <td>200</td>\n",
       "      <td>67</td>\n",
       "      <td>9</td>\n",
       "      <td>17</td>\n",
       "      <td>194</td>\n",
       "      <td>201</td>\n",
       "    </tr>\n",
       "    <tr>\n",
       "      <th>5</th>\n",
       "      <td>25</td>\n",
       "      <td>85</td>\n",
       "      <td>45</td>\n",
       "      <td>80</td>\n",
       "      <td>154</td>\n",
       "      <td>64</td>\n",
       "      <td>9</td>\n",
       "      <td>147</td>\n",
       "      <td>45</td>\n",
       "      <td>19</td>\n",
       "      <td>148</td>\n",
       "      <td>169</td>\n",
       "      <td>324</td>\n",
       "      <td>174</td>\n",
       "      <td>71</td>\n",
       "      <td>1</td>\n",
       "      <td>4</td>\n",
       "      <td>188</td>\n",
       "      <td>199</td>\n",
       "    </tr>\n",
       "    <tr>\n",
       "      <th>6</th>\n",
       "      <td>91</td>\n",
       "      <td>94</td>\n",
       "      <td>38</td>\n",
       "      <td>84</td>\n",
       "      <td>158</td>\n",
       "      <td>55</td>\n",
       "      <td>9</td>\n",
       "      <td>169</td>\n",
       "      <td>39</td>\n",
       "      <td>20</td>\n",
       "      <td>130</td>\n",
       "      <td>196</td>\n",
       "      <td>430</td>\n",
       "      <td>155</td>\n",
       "      <td>69</td>\n",
       "      <td>9</td>\n",
       "      <td>15</td>\n",
       "      <td>190</td>\n",
       "      <td>195</td>\n",
       "    </tr>\n",
       "    <tr>\n",
       "      <th>7</th>\n",
       "      <td>481</td>\n",
       "      <td>104</td>\n",
       "      <td>54</td>\n",
       "      <td>91</td>\n",
       "      <td>209</td>\n",
       "      <td>67</td>\n",
       "      <td>11</td>\n",
       "      <td>218</td>\n",
       "      <td>31</td>\n",
       "      <td>24</td>\n",
       "      <td>170</td>\n",
       "      <td>223</td>\n",
       "      <td>697</td>\n",
       "      <td>196</td>\n",
       "      <td>74</td>\n",
       "      <td>4</td>\n",
       "      <td>21</td>\n",
       "      <td>187</td>\n",
       "      <td>196</td>\n",
       "    </tr>\n",
       "    <tr>\n",
       "      <th>8</th>\n",
       "      <td>468</td>\n",
       "      <td>105</td>\n",
       "      <td>51</td>\n",
       "      <td>108</td>\n",
       "      <td>201</td>\n",
       "      <td>62</td>\n",
       "      <td>11</td>\n",
       "      <td>220</td>\n",
       "      <td>30</td>\n",
       "      <td>25</td>\n",
       "      <td>163</td>\n",
       "      <td>232</td>\n",
       "      <td>711</td>\n",
       "      <td>202</td>\n",
       "      <td>72</td>\n",
       "      <td>12</td>\n",
       "      <td>16</td>\n",
       "      <td>189</td>\n",
       "      <td>200</td>\n",
       "    </tr>\n",
       "    <tr>\n",
       "      <th>9</th>\n",
       "      <td>311</td>\n",
       "      <td>93</td>\n",
       "      <td>45</td>\n",
       "      <td>83</td>\n",
       "      <td>142</td>\n",
       "      <td>56</td>\n",
       "      <td>10</td>\n",
       "      <td>157</td>\n",
       "      <td>43</td>\n",
       "      <td>20</td>\n",
       "      <td>155</td>\n",
       "      <td>180</td>\n",
       "      <td>364</td>\n",
       "      <td>188</td>\n",
       "      <td>75</td>\n",
       "      <td>1</td>\n",
       "      <td>21</td>\n",
       "      <td>184</td>\n",
       "      <td>197</td>\n",
       "    </tr>\n",
       "    <tr>\n",
       "      <th>10</th>\n",
       "      <td>169</td>\n",
       "      <td>98</td>\n",
       "      <td>38</td>\n",
       "      <td>70</td>\n",
       "      <td>125</td>\n",
       "      <td>52</td>\n",
       "      <td>8</td>\n",
       "      <td>130</td>\n",
       "      <td>53</td>\n",
       "      <td>18</td>\n",
       "      <td>139</td>\n",
       "      <td>157</td>\n",
       "      <td>243</td>\n",
       "      <td>132</td>\n",
       "      <td>74</td>\n",
       "      <td>0</td>\n",
       "      <td>13</td>\n",
       "      <td>186</td>\n",
       "      <td>185</td>\n",
       "    </tr>\n",
       "    <tr>\n",
       "      <th>11</th>\n",
       "      <td>45</td>\n",
       "      <td>93</td>\n",
       "      <td>46</td>\n",
       "      <td>82</td>\n",
       "      <td>145</td>\n",
       "      <td>58</td>\n",
       "      <td>11</td>\n",
       "      <td>159</td>\n",
       "      <td>43</td>\n",
       "      <td>20</td>\n",
       "      <td>160</td>\n",
       "      <td>180</td>\n",
       "      <td>371</td>\n",
       "      <td>189</td>\n",
       "      <td>77</td>\n",
       "      <td>2</td>\n",
       "      <td>4</td>\n",
       "      <td>183</td>\n",
       "      <td>194</td>\n",
       "    </tr>\n",
       "    <tr>\n",
       "      <th>12</th>\n",
       "      <td>429</td>\n",
       "      <td>84</td>\n",
       "      <td>37</td>\n",
       "      <td>70</td>\n",
       "      <td>145</td>\n",
       "      <td>62</td>\n",
       "      <td>9</td>\n",
       "      <td>136</td>\n",
       "      <td>48</td>\n",
       "      <td>18</td>\n",
       "      <td>134</td>\n",
       "      <td>159</td>\n",
       "      <td>280</td>\n",
       "      <td>140</td>\n",
       "      <td>68</td>\n",
       "      <td>11</td>\n",
       "      <td>9</td>\n",
       "      <td>194</td>\n",
       "      <td>202</td>\n",
       "    </tr>\n",
       "    <tr>\n",
       "      <th>13</th>\n",
       "      <td>827</td>\n",
       "      <td>99</td>\n",
       "      <td>57</td>\n",
       "      <td>100</td>\n",
       "      <td>177</td>\n",
       "      <td>54</td>\n",
       "      <td>13</td>\n",
       "      <td>224</td>\n",
       "      <td>30</td>\n",
       "      <td>25</td>\n",
       "      <td>188</td>\n",
       "      <td>223</td>\n",
       "      <td>726</td>\n",
       "      <td>213</td>\n",
       "      <td>72</td>\n",
       "      <td>4</td>\n",
       "      <td>7</td>\n",
       "      <td>185</td>\n",
       "      <td>198</td>\n",
       "    </tr>\n",
       "    <tr>\n",
       "      <th>14</th>\n",
       "      <td>796</td>\n",
       "      <td>85</td>\n",
       "      <td>38</td>\n",
       "      <td>63</td>\n",
       "      <td>130</td>\n",
       "      <td>55</td>\n",
       "      <td>7</td>\n",
       "      <td>122</td>\n",
       "      <td>55</td>\n",
       "      <td>17</td>\n",
       "      <td>130</td>\n",
       "      <td>137</td>\n",
       "      <td>219</td>\n",
       "      <td>144</td>\n",
       "      <td>64</td>\n",
       "      <td>20</td>\n",
       "      <td>8</td>\n",
       "      <td>195</td>\n",
       "      <td>201</td>\n",
       "    </tr>\n",
       "  </tbody>\n",
       "</table>\n",
       "</div>"
      ],
      "text/plain": [
       "      0    1   2    3    4   5   6    7   8   9   10   11   12   13  14  15  \\\n",
       "0   264  103  49  100  194  60  10  185  35  22  160  202  518  178  62  13   \n",
       "1   382   81  46   71  141  61   7  153  44  19  148  177  347  190  80   1   \n",
       "2   625  104  53  101  190  63  10  213  32  24  166  218  664  202  74  13   \n",
       "3   210   94  39   89  194  62   9  172  38  21  135  191  444  121  63   4   \n",
       "4   461  106  52  107  211  62   8  200  33  23  161  218  602  200  67   9   \n",
       "5    25   85  45   80  154  64   9  147  45  19  148  169  324  174  71   1   \n",
       "6    91   94  38   84  158  55   9  169  39  20  130  196  430  155  69   9   \n",
       "7   481  104  54   91  209  67  11  218  31  24  170  223  697  196  74   4   \n",
       "8   468  105  51  108  201  62  11  220  30  25  163  232  711  202  72  12   \n",
       "9   311   93  45   83  142  56  10  157  43  20  155  180  364  188  75   1   \n",
       "10  169   98  38   70  125  52   8  130  53  18  139  157  243  132  74   0   \n",
       "11   45   93  46   82  145  58  11  159  43  20  160  180  371  189  77   2   \n",
       "12  429   84  37   70  145  62   9  136  48  18  134  159  280  140  68  11   \n",
       "13  827   99  57  100  177  54  13  224  30  25  188  223  726  213  72   4   \n",
       "14  796   85  38   63  130  55   7  122  55  17  130  137  219  144  64  20   \n",
       "\n",
       "    16   17   18  \n",
       "0    8  198  208  \n",
       "1   14  182  187  \n",
       "2   21  188  198  \n",
       "3   23  201  209  \n",
       "4   17  194  201  \n",
       "5    4  188  199  \n",
       "6   15  190  195  \n",
       "7   21  187  196  \n",
       "8   16  189  200  \n",
       "9   21  184  197  \n",
       "10  13  186  185  \n",
       "11   4  183  194  \n",
       "12   9  194  202  \n",
       "13   7  185  198  \n",
       "14   8  195  201  "
      ]
     },
     "execution_count": 204,
     "metadata": {},
     "output_type": "execute_result"
    }
   ],
   "source": [
    "X_train_pd = pd.DataFrame(X_train)\n",
    "\n",
    "# First 15 rows of our dataset.\n",
    "X_train_pd.head(15)"
   ]
  },
  {
   "cell_type": "markdown",
   "metadata": {
    "id": "dhUuosMM3jRQ",
    "nbgrader": {
     "grade": false,
     "grade_id": "cell-98e7d91d77d65fcf",
     "locked": true,
     "schema_version": 2,
     "solution": false
    }
   },
   "source": [
    "Methods `describe` and `info` deliver some useful information."
   ]
  },
  {
   "cell_type": "code",
   "execution_count": 205,
   "metadata": {
    "id": "J-tUdQCM3jRR",
    "outputId": "257a45ce-8a59-4356-a02d-102c48228558"
   },
   "outputs": [
    {
     "data": {
      "text/html": [
       "<div>\n",
       "<style scoped>\n",
       "    .dataframe tbody tr th:only-of-type {\n",
       "        vertical-align: middle;\n",
       "    }\n",
       "\n",
       "    .dataframe tbody tr th {\n",
       "        vertical-align: top;\n",
       "    }\n",
       "\n",
       "    .dataframe thead th {\n",
       "        text-align: right;\n",
       "    }\n",
       "</style>\n",
       "<table border=\"1\" class=\"dataframe\">\n",
       "  <thead>\n",
       "    <tr style=\"text-align: right;\">\n",
       "      <th></th>\n",
       "      <th>0</th>\n",
       "      <th>1</th>\n",
       "      <th>2</th>\n",
       "      <th>3</th>\n",
       "      <th>4</th>\n",
       "      <th>5</th>\n",
       "      <th>6</th>\n",
       "      <th>7</th>\n",
       "      <th>8</th>\n",
       "      <th>9</th>\n",
       "      <th>10</th>\n",
       "      <th>11</th>\n",
       "      <th>12</th>\n",
       "      <th>13</th>\n",
       "      <th>14</th>\n",
       "      <th>15</th>\n",
       "      <th>16</th>\n",
       "      <th>17</th>\n",
       "      <th>18</th>\n",
       "    </tr>\n",
       "  </thead>\n",
       "  <tbody>\n",
       "    <tr>\n",
       "      <th>count</th>\n",
       "      <td>549.000000</td>\n",
       "      <td>549.000000</td>\n",
       "      <td>549.000000</td>\n",
       "      <td>549.000000</td>\n",
       "      <td>549.000000</td>\n",
       "      <td>549.000000</td>\n",
       "      <td>549.000000</td>\n",
       "      <td>549.000000</td>\n",
       "      <td>549.000000</td>\n",
       "      <td>549.000000</td>\n",
       "      <td>549.000000</td>\n",
       "      <td>549.000000</td>\n",
       "      <td>549.000000</td>\n",
       "      <td>549.000000</td>\n",
       "      <td>549.000000</td>\n",
       "      <td>549.000000</td>\n",
       "      <td>549.000000</td>\n",
       "      <td>549.000000</td>\n",
       "      <td>549.000000</td>\n",
       "    </tr>\n",
       "    <tr>\n",
       "      <th>mean</th>\n",
       "      <td>420.480874</td>\n",
       "      <td>93.653916</td>\n",
       "      <td>44.774135</td>\n",
       "      <td>82.054645</td>\n",
       "      <td>168.724954</td>\n",
       "      <td>61.409836</td>\n",
       "      <td>8.455373</td>\n",
       "      <td>169.020036</td>\n",
       "      <td>40.930783</td>\n",
       "      <td>20.602914</td>\n",
       "      <td>147.717668</td>\n",
       "      <td>188.540984</td>\n",
       "      <td>441.040073</td>\n",
       "      <td>174.546448</td>\n",
       "      <td>72.455373</td>\n",
       "      <td>6.233151</td>\n",
       "      <td>13.000000</td>\n",
       "      <td>188.792350</td>\n",
       "      <td>195.528233</td>\n",
       "    </tr>\n",
       "    <tr>\n",
       "      <th>std</th>\n",
       "      <td>244.790470</td>\n",
       "      <td>8.198745</td>\n",
       "      <td>6.376564</td>\n",
       "      <td>16.123065</td>\n",
       "      <td>33.857620</td>\n",
       "      <td>7.382509</td>\n",
       "      <td>4.115166</td>\n",
       "      <td>33.570298</td>\n",
       "      <td>7.988515</td>\n",
       "      <td>2.617821</td>\n",
       "      <td>15.059689</td>\n",
       "      <td>31.394776</td>\n",
       "      <td>177.666408</td>\n",
       "      <td>33.120166</td>\n",
       "      <td>7.245708</td>\n",
       "      <td>4.972214</td>\n",
       "      <td>9.227854</td>\n",
       "      <td>6.113633</td>\n",
       "      <td>7.387948</td>\n",
       "    </tr>\n",
       "    <tr>\n",
       "      <th>min</th>\n",
       "      <td>1.000000</td>\n",
       "      <td>73.000000</td>\n",
       "      <td>33.000000</td>\n",
       "      <td>40.000000</td>\n",
       "      <td>104.000000</td>\n",
       "      <td>47.000000</td>\n",
       "      <td>2.000000</td>\n",
       "      <td>112.000000</td>\n",
       "      <td>26.000000</td>\n",
       "      <td>17.000000</td>\n",
       "      <td>118.000000</td>\n",
       "      <td>130.000000</td>\n",
       "      <td>184.000000</td>\n",
       "      <td>109.000000</td>\n",
       "      <td>60.000000</td>\n",
       "      <td>0.000000</td>\n",
       "      <td>0.000000</td>\n",
       "      <td>176.000000</td>\n",
       "      <td>181.000000</td>\n",
       "    </tr>\n",
       "    <tr>\n",
       "      <th>25%</th>\n",
       "      <td>211.000000</td>\n",
       "      <td>87.000000</td>\n",
       "      <td>39.000000</td>\n",
       "      <td>70.000000</td>\n",
       "      <td>141.000000</td>\n",
       "      <td>57.000000</td>\n",
       "      <td>7.000000</td>\n",
       "      <td>147.000000</td>\n",
       "      <td>33.000000</td>\n",
       "      <td>19.000000</td>\n",
       "      <td>135.000000</td>\n",
       "      <td>167.000000</td>\n",
       "      <td>319.000000</td>\n",
       "      <td>147.000000</td>\n",
       "      <td>67.000000</td>\n",
       "      <td>2.000000</td>\n",
       "      <td>5.000000</td>\n",
       "      <td>184.000000</td>\n",
       "      <td>190.000000</td>\n",
       "    </tr>\n",
       "    <tr>\n",
       "      <th>50%</th>\n",
       "      <td>412.000000</td>\n",
       "      <td>93.000000</td>\n",
       "      <td>44.000000</td>\n",
       "      <td>80.000000</td>\n",
       "      <td>166.000000</td>\n",
       "      <td>61.000000</td>\n",
       "      <td>8.000000</td>\n",
       "      <td>157.000000</td>\n",
       "      <td>43.000000</td>\n",
       "      <td>20.000000</td>\n",
       "      <td>146.000000</td>\n",
       "      <td>179.000000</td>\n",
       "      <td>366.000000</td>\n",
       "      <td>173.000000</td>\n",
       "      <td>71.000000</td>\n",
       "      <td>5.000000</td>\n",
       "      <td>11.000000</td>\n",
       "      <td>189.000000</td>\n",
       "      <td>197.000000</td>\n",
       "    </tr>\n",
       "    <tr>\n",
       "      <th>75%</th>\n",
       "      <td>631.000000</td>\n",
       "      <td>100.000000</td>\n",
       "      <td>50.000000</td>\n",
       "      <td>98.000000</td>\n",
       "      <td>196.000000</td>\n",
       "      <td>65.000000</td>\n",
       "      <td>10.000000</td>\n",
       "      <td>200.000000</td>\n",
       "      <td>46.000000</td>\n",
       "      <td>23.000000</td>\n",
       "      <td>160.000000</td>\n",
       "      <td>218.000000</td>\n",
       "      <td>601.000000</td>\n",
       "      <td>198.000000</td>\n",
       "      <td>75.000000</td>\n",
       "      <td>9.000000</td>\n",
       "      <td>20.000000</td>\n",
       "      <td>193.000000</td>\n",
       "      <td>201.000000</td>\n",
       "    </tr>\n",
       "    <tr>\n",
       "      <th>max</th>\n",
       "      <td>844.000000</td>\n",
       "      <td>119.000000</td>\n",
       "      <td>59.000000</td>\n",
       "      <td>110.000000</td>\n",
       "      <td>322.000000</td>\n",
       "      <td>133.000000</td>\n",
       "      <td>52.000000</td>\n",
       "      <td>265.000000</td>\n",
       "      <td>61.000000</td>\n",
       "      <td>29.000000</td>\n",
       "      <td>188.000000</td>\n",
       "      <td>287.000000</td>\n",
       "      <td>1018.000000</td>\n",
       "      <td>264.000000</td>\n",
       "      <td>127.000000</td>\n",
       "      <td>22.000000</td>\n",
       "      <td>41.000000</td>\n",
       "      <td>204.000000</td>\n",
       "      <td>211.000000</td>\n",
       "    </tr>\n",
       "  </tbody>\n",
       "</table>\n",
       "</div>"
      ],
      "text/plain": [
       "               0           1           2           3           4           5   \\\n",
       "count  549.000000  549.000000  549.000000  549.000000  549.000000  549.000000   \n",
       "mean   420.480874   93.653916   44.774135   82.054645  168.724954   61.409836   \n",
       "std    244.790470    8.198745    6.376564   16.123065   33.857620    7.382509   \n",
       "min      1.000000   73.000000   33.000000   40.000000  104.000000   47.000000   \n",
       "25%    211.000000   87.000000   39.000000   70.000000  141.000000   57.000000   \n",
       "50%    412.000000   93.000000   44.000000   80.000000  166.000000   61.000000   \n",
       "75%    631.000000  100.000000   50.000000   98.000000  196.000000   65.000000   \n",
       "max    844.000000  119.000000   59.000000  110.000000  322.000000  133.000000   \n",
       "\n",
       "               6           7           8           9           10          11  \\\n",
       "count  549.000000  549.000000  549.000000  549.000000  549.000000  549.000000   \n",
       "mean     8.455373  169.020036   40.930783   20.602914  147.717668  188.540984   \n",
       "std      4.115166   33.570298    7.988515    2.617821   15.059689   31.394776   \n",
       "min      2.000000  112.000000   26.000000   17.000000  118.000000  130.000000   \n",
       "25%      7.000000  147.000000   33.000000   19.000000  135.000000  167.000000   \n",
       "50%      8.000000  157.000000   43.000000   20.000000  146.000000  179.000000   \n",
       "75%     10.000000  200.000000   46.000000   23.000000  160.000000  218.000000   \n",
       "max     52.000000  265.000000   61.000000   29.000000  188.000000  287.000000   \n",
       "\n",
       "                12          13          14          15          16  \\\n",
       "count   549.000000  549.000000  549.000000  549.000000  549.000000   \n",
       "mean    441.040073  174.546448   72.455373    6.233151   13.000000   \n",
       "std     177.666408   33.120166    7.245708    4.972214    9.227854   \n",
       "min     184.000000  109.000000   60.000000    0.000000    0.000000   \n",
       "25%     319.000000  147.000000   67.000000    2.000000    5.000000   \n",
       "50%     366.000000  173.000000   71.000000    5.000000   11.000000   \n",
       "75%     601.000000  198.000000   75.000000    9.000000   20.000000   \n",
       "max    1018.000000  264.000000  127.000000   22.000000   41.000000   \n",
       "\n",
       "               17          18  \n",
       "count  549.000000  549.000000  \n",
       "mean   188.792350  195.528233  \n",
       "std      6.113633    7.387948  \n",
       "min    176.000000  181.000000  \n",
       "25%    184.000000  190.000000  \n",
       "50%    189.000000  197.000000  \n",
       "75%    193.000000  201.000000  \n",
       "max    204.000000  211.000000  "
      ]
     },
     "execution_count": 205,
     "metadata": {},
     "output_type": "execute_result"
    }
   ],
   "source": [
    "X_train_pd.describe()"
   ]
  },
  {
   "cell_type": "code",
   "execution_count": 206,
   "metadata": {
    "id": "5Z10UmYG3jRV",
    "outputId": "73f86b03-a935-4b88-aa32-3edf5d4816d8"
   },
   "outputs": [
    {
     "name": "stdout",
     "output_type": "stream",
     "text": [
      "<class 'pandas.core.frame.DataFrame'>\n",
      "RangeIndex: 549 entries, 0 to 548\n",
      "Data columns (total 19 columns):\n",
      " #   Column  Non-Null Count  Dtype\n",
      "---  ------  --------------  -----\n",
      " 0   0       549 non-null    int64\n",
      " 1   1       549 non-null    int64\n",
      " 2   2       549 non-null    int64\n",
      " 3   3       549 non-null    int64\n",
      " 4   4       549 non-null    int64\n",
      " 5   5       549 non-null    int64\n",
      " 6   6       549 non-null    int64\n",
      " 7   7       549 non-null    int64\n",
      " 8   8       549 non-null    int64\n",
      " 9   9       549 non-null    int64\n",
      " 10  10      549 non-null    int64\n",
      " 11  11      549 non-null    int64\n",
      " 12  12      549 non-null    int64\n",
      " 13  13      549 non-null    int64\n",
      " 14  14      549 non-null    int64\n",
      " 15  15      549 non-null    int64\n",
      " 16  16      549 non-null    int64\n",
      " 17  17      549 non-null    int64\n",
      " 18  18      549 non-null    int64\n",
      "dtypes: int64(19)\n",
      "memory usage: 81.6 KB\n"
     ]
    }
   ],
   "source": [
    "X_train_pd.info()"
   ]
  },
  {
   "cell_type": "markdown",
   "metadata": {
    "id": "svANltK73jRZ",
    "nbgrader": {
     "grade": false,
     "grade_id": "cell-be844269be69c387",
     "locked": true,
     "schema_version": 2,
     "solution": false
    }
   },
   "source": [
    "### 2. Machine Learning pipeline\n",
    "Here you are supposed to perform the desired transformations. Please, explain your results briefly after each task."
   ]
  },
  {
   "cell_type": "markdown",
   "metadata": {
    "id": "42B38XJF3jRa"
   },
   "source": [
    "#### 2.0. Data preprocessing\n",
    "* Make some transformations of the dataset (if necessary). Briefly explain the transformations"
   ]
  },
  {
   "cell_type": "code",
   "execution_count": 207,
   "metadata": {
    "collapsed": true,
    "id": "u_JN7oUB3jRb",
    "nbgrader": {
     "grade": true,
     "grade_id": "cell-a1514aa189a49fca",
     "locked": false,
     "points": 15,
     "schema_version": 2,
     "solution": true
    }
   },
   "outputs": [],
   "source": [
    "### YOUR CODE HERE"
   ]
  },
  {
   "cell_type": "code",
   "execution_count": 208,
   "metadata": {
    "scrolled": true
   },
   "outputs": [
    {
     "data": {
      "text/html": [
       "<div>\n",
       "<style scoped>\n",
       "    .dataframe tbody tr th:only-of-type {\n",
       "        vertical-align: middle;\n",
       "    }\n",
       "\n",
       "    .dataframe tbody tr th {\n",
       "        vertical-align: top;\n",
       "    }\n",
       "\n",
       "    .dataframe thead th {\n",
       "        text-align: right;\n",
       "    }\n",
       "</style>\n",
       "<table border=\"1\" class=\"dataframe\">\n",
       "  <thead>\n",
       "    <tr style=\"text-align: right;\">\n",
       "      <th></th>\n",
       "      <th>0</th>\n",
       "      <th>1</th>\n",
       "      <th>2</th>\n",
       "      <th>3</th>\n",
       "      <th>4</th>\n",
       "      <th>5</th>\n",
       "      <th>6</th>\n",
       "      <th>7</th>\n",
       "      <th>8</th>\n",
       "      <th>9</th>\n",
       "      <th>10</th>\n",
       "      <th>11</th>\n",
       "      <th>12</th>\n",
       "      <th>13</th>\n",
       "      <th>14</th>\n",
       "      <th>15</th>\n",
       "      <th>16</th>\n",
       "      <th>17</th>\n",
       "      <th>18</th>\n",
       "    </tr>\n",
       "  </thead>\n",
       "  <tbody>\n",
       "    <tr>\n",
       "      <th>0</th>\n",
       "      <td>264</td>\n",
       "      <td>103</td>\n",
       "      <td>49</td>\n",
       "      <td>100</td>\n",
       "      <td>194</td>\n",
       "      <td>60</td>\n",
       "      <td>10</td>\n",
       "      <td>185</td>\n",
       "      <td>35</td>\n",
       "      <td>22</td>\n",
       "      <td>160</td>\n",
       "      <td>202</td>\n",
       "      <td>518</td>\n",
       "      <td>178</td>\n",
       "      <td>62</td>\n",
       "      <td>13</td>\n",
       "      <td>8</td>\n",
       "      <td>198</td>\n",
       "      <td>208</td>\n",
       "    </tr>\n",
       "    <tr>\n",
       "      <th>1</th>\n",
       "      <td>382</td>\n",
       "      <td>81</td>\n",
       "      <td>46</td>\n",
       "      <td>71</td>\n",
       "      <td>141</td>\n",
       "      <td>61</td>\n",
       "      <td>7</td>\n",
       "      <td>153</td>\n",
       "      <td>44</td>\n",
       "      <td>19</td>\n",
       "      <td>148</td>\n",
       "      <td>177</td>\n",
       "      <td>347</td>\n",
       "      <td>190</td>\n",
       "      <td>80</td>\n",
       "      <td>1</td>\n",
       "      <td>14</td>\n",
       "      <td>182</td>\n",
       "      <td>187</td>\n",
       "    </tr>\n",
       "    <tr>\n",
       "      <th>2</th>\n",
       "      <td>625</td>\n",
       "      <td>104</td>\n",
       "      <td>53</td>\n",
       "      <td>101</td>\n",
       "      <td>190</td>\n",
       "      <td>63</td>\n",
       "      <td>10</td>\n",
       "      <td>213</td>\n",
       "      <td>32</td>\n",
       "      <td>24</td>\n",
       "      <td>166</td>\n",
       "      <td>218</td>\n",
       "      <td>664</td>\n",
       "      <td>202</td>\n",
       "      <td>74</td>\n",
       "      <td>13</td>\n",
       "      <td>21</td>\n",
       "      <td>188</td>\n",
       "      <td>198</td>\n",
       "    </tr>\n",
       "    <tr>\n",
       "      <th>3</th>\n",
       "      <td>210</td>\n",
       "      <td>94</td>\n",
       "      <td>39</td>\n",
       "      <td>89</td>\n",
       "      <td>194</td>\n",
       "      <td>62</td>\n",
       "      <td>9</td>\n",
       "      <td>172</td>\n",
       "      <td>38</td>\n",
       "      <td>21</td>\n",
       "      <td>135</td>\n",
       "      <td>191</td>\n",
       "      <td>444</td>\n",
       "      <td>121</td>\n",
       "      <td>63</td>\n",
       "      <td>4</td>\n",
       "      <td>23</td>\n",
       "      <td>201</td>\n",
       "      <td>209</td>\n",
       "    </tr>\n",
       "    <tr>\n",
       "      <th>4</th>\n",
       "      <td>461</td>\n",
       "      <td>106</td>\n",
       "      <td>52</td>\n",
       "      <td>107</td>\n",
       "      <td>211</td>\n",
       "      <td>62</td>\n",
       "      <td>8</td>\n",
       "      <td>200</td>\n",
       "      <td>33</td>\n",
       "      <td>23</td>\n",
       "      <td>161</td>\n",
       "      <td>218</td>\n",
       "      <td>602</td>\n",
       "      <td>200</td>\n",
       "      <td>67</td>\n",
       "      <td>9</td>\n",
       "      <td>17</td>\n",
       "      <td>194</td>\n",
       "      <td>201</td>\n",
       "    </tr>\n",
       "  </tbody>\n",
       "</table>\n",
       "</div>"
      ],
      "text/plain": [
       "     0    1   2    3    4   5   6    7   8   9   10   11   12   13  14  15  \\\n",
       "0  264  103  49  100  194  60  10  185  35  22  160  202  518  178  62  13   \n",
       "1  382   81  46   71  141  61   7  153  44  19  148  177  347  190  80   1   \n",
       "2  625  104  53  101  190  63  10  213  32  24  166  218  664  202  74  13   \n",
       "3  210   94  39   89  194  62   9  172  38  21  135  191  444  121  63   4   \n",
       "4  461  106  52  107  211  62   8  200  33  23  161  218  602  200  67   9   \n",
       "\n",
       "   16   17   18  \n",
       "0   8  198  208  \n",
       "1  14  182  187  \n",
       "2  21  188  198  \n",
       "3  23  201  209  \n",
       "4  17  194  201  "
      ]
     },
     "execution_count": 208,
     "metadata": {},
     "output_type": "execute_result"
    }
   ],
   "source": [
    "X_train_pd.head()"
   ]
  },
  {
   "cell_type": "code",
   "execution_count": 209,
   "metadata": {},
   "outputs": [
    {
     "data": {
      "text/plain": [
       "array(['saab', 'bus', 'saab', 'opel', 'opel'], dtype=object)"
      ]
     },
     "execution_count": 209,
     "metadata": {},
     "output_type": "execute_result"
    }
   ],
   "source": [
    "y_train[:5]"
   ]
  },
  {
   "cell_type": "code",
   "execution_count": 210,
   "metadata": {
    "collapsed": true
   },
   "outputs": [],
   "source": [
    "from sklearn.preprocessing import LabelEncoder"
   ]
  },
  {
   "cell_type": "code",
   "execution_count": 211,
   "metadata": {
    "collapsed": true
   },
   "outputs": [],
   "source": [
    "from sklearn.preprocessing import StandardScaler"
   ]
  },
  {
   "cell_type": "code",
   "execution_count": 212,
   "metadata": {
    "collapsed": true
   },
   "outputs": [],
   "source": [
    "scaler = StandardScaler()"
   ]
  },
  {
   "cell_type": "code",
   "execution_count": 213,
   "metadata": {},
   "outputs": [
    {
     "data": {
      "text/plain": [
       "StandardScaler()"
      ]
     },
     "execution_count": 213,
     "metadata": {},
     "output_type": "execute_result"
    }
   ],
   "source": [
    "scaler.fit(X_train)"
   ]
  },
  {
   "cell_type": "code",
   "execution_count": 214,
   "metadata": {
    "collapsed": true
   },
   "outputs": [],
   "source": [
    "X_train_scaled = scaler.transform(X_train)"
   ]
  },
  {
   "cell_type": "code",
   "execution_count": 215,
   "metadata": {},
   "outputs": [
    {
     "data": {
      "text/plain": [
       "array([[-0.63982713,  1.14098037,  0.66332261,  1.1140389 ,  0.74719062,\n",
       "        -0.19114394,  0.37569207,  0.47644906, -0.74309083,  0.53416945,\n",
       "         0.81632051,  0.42909339,  0.433566  ,  0.10436849, -1.44429067,\n",
       "         1.36217386, -0.54233196,  1.50745838,  1.68966283],\n",
       "       [-0.1573426 , -1.54480425,  0.19242074, -0.68626696, -0.81961577,\n",
       "        -0.0555651 , -0.35398345, -0.47764385,  0.38455407, -0.61286717,\n",
       "         0.0187646 , -0.36794366, -0.52978972,  0.46701594,  1.04220418,\n",
       "        -1.05343889,  0.10846639, -1.11203013, -1.15539673]])"
      ]
     },
     "execution_count": 215,
     "metadata": {},
     "output_type": "execute_result"
    }
   ],
   "source": [
    "X_train_scaled[:2]"
   ]
  },
  {
   "cell_type": "code",
   "execution_count": 216,
   "metadata": {},
   "outputs": [
    {
     "data": {
      "text/plain": [
       "(549, 19)"
      ]
     },
     "execution_count": 216,
     "metadata": {},
     "output_type": "execute_result"
    }
   ],
   "source": [
    "X_train_pd.shape"
   ]
  },
  {
   "cell_type": "code",
   "execution_count": 217,
   "metadata": {},
   "outputs": [
    {
     "data": {
      "text/plain": [
       "(549, 19)"
      ]
     },
     "execution_count": 217,
     "metadata": {},
     "output_type": "execute_result"
    }
   ],
   "source": [
    "X_train_scaled.shape"
   ]
  },
  {
   "cell_type": "code",
   "execution_count": 218,
   "metadata": {
    "collapsed": true
   },
   "outputs": [],
   "source": [
    "from sklearn.preprocessing import StandardScaler"
   ]
  },
  {
   "cell_type": "code",
   "execution_count": 219,
   "metadata": {},
   "outputs": [],
   "source": [
    "class CustomStandardScaler(StandardScaler):\n",
    "    \n",
    "    def __init__(self, copy=True, with_mean=True, with_std=True, scaling=True):\n",
    "        self.with_mean = with_mean\n",
    "        self.with_std = with_std\n",
    "        self.copy = copy\n",
    "        self.scaling = scaling\n",
    "        \n",
    "    def fit(self, X, y=None):\n",
    "        return super().fit(X)\n",
    "        \n",
    "    def transform(self, X, y=None):\n",
    "        if self.scaling:\n",
    "            return super().transform(X)\n",
    "        else:\n",
    "            return X\n",
    "    \n",
    "    def fit_transform(self, X, y=None):\n",
    "        if self.scaling:\n",
    "            super().fit(X)\n",
    "            return super().transform(X)\n",
    "        else:\n",
    "            return X"
   ]
  },
  {
   "cell_type": "code",
   "execution_count": 220,
   "metadata": {
    "collapsed": true
   },
   "outputs": [],
   "source": [
    "X_scaled = CustomStandardScaler(scaling=True).fit_transform(X_train)"
   ]
  },
  {
   "cell_type": "code",
   "execution_count": 221,
   "metadata": {},
   "outputs": [
    {
     "data": {
      "text/plain": [
       "array([[-0.63982713,  1.14098037,  0.66332261,  1.1140389 ,  0.74719062,\n",
       "        -0.19114394,  0.37569207,  0.47644906, -0.74309083,  0.53416945,\n",
       "         0.81632051,  0.42909339,  0.433566  ,  0.10436849, -1.44429067,\n",
       "         1.36217386, -0.54233196,  1.50745838,  1.68966283],\n",
       "       [-0.1573426 , -1.54480425,  0.19242074, -0.68626696, -0.81961577,\n",
       "        -0.0555651 , -0.35398345, -0.47764385,  0.38455407, -0.61286717,\n",
       "         0.0187646 , -0.36794366, -0.52978972,  0.46701594,  1.04220418,\n",
       "        -1.05343889,  0.10846639, -1.11203013, -1.15539673]])"
      ]
     },
     "execution_count": 221,
     "metadata": {},
     "output_type": "execute_result"
    }
   ],
   "source": [
    "X_scaled[:2]"
   ]
  },
  {
   "cell_type": "code",
   "execution_count": 222,
   "metadata": {
    "collapsed": true
   },
   "outputs": [],
   "source": [
    "from sklearn.pipeline import Pipeline"
   ]
  },
  {
   "cell_type": "code",
   "execution_count": null,
   "metadata": {
    "collapsed": true
   },
   "outputs": [],
   "source": []
  },
  {
   "cell_type": "code",
   "execution_count": null,
   "metadata": {
    "collapsed": true
   },
   "outputs": [],
   "source": []
  },
  {
   "cell_type": "code",
   "execution_count": null,
   "metadata": {
    "collapsed": true
   },
   "outputs": [],
   "source": []
  },
  {
   "cell_type": "markdown",
   "metadata": {
    "id": "1kL_aWie3jRh"
   },
   "source": [
    "#### 2.1. Basic logistic regression\n",
    "* Find optimal hyperparameters for logistic regression with cross-validation on the `train` data (small grid/random search is enough, no need to find the *best* parameters).\n",
    "\n",
    "* Estimate the model quality with `f1` and `accuracy` scores.\n",
    "* Plot a ROC-curve for the trained model. For the multiclass case you might use `scikitplot` library (e.g. `scikitplot.metrics.plot_roc(test_labels, predicted_proba)`).\n",
    "\n",
    "*Note: please, use the following hyperparameters for logistic regression: `multi_class='multinomial'`, `solver='saga'` `tol=1e-3` and ` max_iter=500`.*"
   ]
  },
  {
   "cell_type": "code",
   "execution_count": 223,
   "metadata": {
    "collapsed": true,
    "id": "z2obxRfG3jRi",
    "nbgrader": {
     "grade": true,
     "grade_id": "cell-1dd5ad5d0845cbbb",
     "locked": false,
     "points": 5,
     "schema_version": 2,
     "solution": true
    }
   },
   "outputs": [],
   "source": [
    "### YOUR CODE HERE"
   ]
  },
  {
   "cell_type": "code",
   "execution_count": 224,
   "metadata": {
    "collapsed": true,
    "id": "UcnFIqmq3jRp"
   },
   "outputs": [],
   "source": [
    "# You might use this command to install scikit-plot. \n",
    "# Warning, if you a running locally, don't call pip from within jupyter, call it from terminal in the corresponding \n",
    "# virtual environment instead\n",
    "\n",
    "# ! pip install scikit-plot"
   ]
  },
  {
   "cell_type": "code",
   "execution_count": 225,
   "metadata": {
    "collapsed": true
   },
   "outputs": [],
   "source": [
    "import scikitplot"
   ]
  },
  {
   "cell_type": "code",
   "execution_count": 226,
   "metadata": {
    "collapsed": true
   },
   "outputs": [],
   "source": [
    "from sklearn.linear_model import LogisticRegression"
   ]
  },
  {
   "cell_type": "code",
   "execution_count": 227,
   "metadata": {
    "collapsed": true
   },
   "outputs": [],
   "source": [
    "log_reg = LogisticRegression(multi_class='multinomial', solver='saga', tol=1e-3, max_iter=500)"
   ]
  },
  {
   "cell_type": "code",
   "execution_count": 228,
   "metadata": {
    "collapsed": true
   },
   "outputs": [],
   "source": [
    "from sklearn.model_selection import RandomizedSearchCV"
   ]
  },
  {
   "cell_type": "code",
   "execution_count": 229,
   "metadata": {
    "collapsed": true
   },
   "outputs": [],
   "source": [
    "params_grid = [\n",
    "    {\n",
    "        'C': [1e-3, 1.0, 5.0],\n",
    "        'warm_start': [False, True],\n",
    "        'n_jobs': [None, -1]\n",
    "    }\n",
    "]"
   ]
  },
  {
   "cell_type": "code",
   "execution_count": 230,
   "metadata": {
    "collapsed": true
   },
   "outputs": [],
   "source": [
    "from sklearn.metrics import f1_score, make_scorer"
   ]
  },
  {
   "cell_type": "code",
   "execution_count": 231,
   "metadata": {
    "collapsed": true
   },
   "outputs": [],
   "source": [
    "f1 = make_scorer(f1_score , average='weighted')"
   ]
  },
  {
   "cell_type": "code",
   "execution_count": 232,
   "metadata": {
    "collapsed": true
   },
   "outputs": [],
   "source": [
    "rnd_cv_f1 = RandomizedSearchCV(log_reg, params_grid, cv=5, scoring=None)"
   ]
  },
  {
   "cell_type": "code",
   "execution_count": 233,
   "metadata": {},
   "outputs": [
    {
     "data": {
      "text/plain": [
       "RandomizedSearchCV(cv=5,\n",
       "                   estimator=LogisticRegression(max_iter=500,\n",
       "                                                multi_class='multinomial',\n",
       "                                                solver='saga', tol=0.001),\n",
       "                   param_distributions=[{'C': [0.001, 1.0, 5.0],\n",
       "                                         'n_jobs': [None, -1],\n",
       "                                         'warm_start': [False, True]}])"
      ]
     },
     "execution_count": 233,
     "metadata": {},
     "output_type": "execute_result"
    }
   ],
   "source": [
    "rnd_cv_f1.fit(X_train_scaled, y_train)"
   ]
  },
  {
   "cell_type": "code",
   "execution_count": 234,
   "metadata": {},
   "outputs": [
    {
     "data": {
      "text/plain": [
       "{'C': 5.0, 'n_jobs': None, 'warm_start': False}"
      ]
     },
     "execution_count": 234,
     "metadata": {},
     "output_type": "execute_result"
    }
   ],
   "source": [
    "rnd_cv_f1.best_params_"
   ]
  },
  {
   "cell_type": "code",
   "execution_count": 235,
   "metadata": {},
   "outputs": [
    {
     "data": {
      "text/plain": [
       "LogisticRegression(C=5.0, max_iter=500, multi_class='multinomial',\n",
       "                   solver='saga', tol=0.001)"
      ]
     },
     "execution_count": 235,
     "metadata": {},
     "output_type": "execute_result"
    }
   ],
   "source": [
    "rnd_cv_f1.best_estimator_"
   ]
  },
  {
   "cell_type": "code",
   "execution_count": 250,
   "metadata": {
    "collapsed": true
   },
   "outputs": [],
   "source": [
    "best_f1_log_reg = rnd_cv_f1.best_estimator_"
   ]
  },
  {
   "cell_type": "code",
   "execution_count": 251,
   "metadata": {},
   "outputs": [
    {
     "data": {
      "text/plain": [
       "LogisticRegression(C=5.0, max_iter=500, multi_class='multinomial',\n",
       "                   solver='saga', tol=0.001)"
      ]
     },
     "execution_count": 251,
     "metadata": {},
     "output_type": "execute_result"
    }
   ],
   "source": [
    "best_f1_log_reg.fit(X_train_scaled, y_train)"
   ]
  },
  {
   "cell_type": "code",
   "execution_count": 252,
   "metadata": {},
   "outputs": [
    {
     "data": {
      "text/plain": [
       "0.7777814845704755"
      ]
     },
     "execution_count": 252,
     "metadata": {},
     "output_type": "execute_result"
    }
   ],
   "source": [
    "rnd_cv_f1.best_score_"
   ]
  },
  {
   "cell_type": "code",
   "execution_count": 238,
   "metadata": {
    "collapsed": true
   },
   "outputs": [],
   "source": [
    "X_test_scaled = scaler.transform(X_test)"
   ]
  },
  {
   "cell_type": "code",
   "execution_count": 260,
   "metadata": {},
   "outputs": [],
   "source": [
    "import sklearn.svm as svm"
   ]
  },
  {
   "cell_type": "code",
   "execution_count": 262,
   "metadata": {},
   "outputs": [
    {
     "data": {
      "text/plain": [
       "array([0.74635307, 0.78801344, 0.75679679, 0.82931264, 0.83819862])"
      ]
     },
     "execution_count": 262,
     "metadata": {},
     "output_type": "execute_result"
    }
   ],
   "source": [
    ">>> from sklearn.model_selection import cross_validate\n",
    ">>> from sklearn.metrics import recall_score\n",
    "scoring = ['precision_macro', 'recall_macro']\n",
    "clf = svm.SVC(kernel='linear', C=1, random_state=0)\n",
    ">>> scores = cross_validate(clf, data, target, scoring=scoring)\n",
    ">>> sorted(scores.keys())\n",
    "['fit_time', 'score_time', 'test_precision_macro', 'test_recall_macro']\n",
    ">>> scores['test_recall_macro']"
   ]
  },
  {
   "cell_type": "code",
   "execution_count": null,
   "metadata": {
    "collapsed": true
   },
   "outputs": [],
   "source": []
  },
  {
   "cell_type": "code",
   "execution_count": null,
   "metadata": {
    "collapsed": true
   },
   "outputs": [],
   "source": []
  },
  {
   "cell_type": "code",
   "execution_count": null,
   "metadata": {
    "collapsed": true
   },
   "outputs": [],
   "source": []
  },
  {
   "cell_type": "code",
   "execution_count": null,
   "metadata": {
    "collapsed": true
   },
   "outputs": [],
   "source": []
  },
  {
   "cell_type": "code",
   "execution_count": null,
   "metadata": {
    "collapsed": true
   },
   "outputs": [],
   "source": []
  },
  {
   "cell_type": "code",
   "execution_count": 239,
   "metadata": {
    "collapsed": true
   },
   "outputs": [],
   "source": [
    "predicted_proba = best_f1_log_reg.predict_proba(X_test_scaled)"
   ]
  },
  {
   "cell_type": "code",
   "execution_count": 240,
   "metadata": {},
   "outputs": [
    {
     "data": {
      "text/plain": [
       "(297, 4)"
      ]
     },
     "execution_count": 240,
     "metadata": {},
     "output_type": "execute_result"
    }
   ],
   "source": [
    "predicted_proba.shape"
   ]
  },
  {
   "cell_type": "code",
   "execution_count": 241,
   "metadata": {},
   "outputs": [
    {
     "data": {
      "text/plain": [
       "array([0.06811225, 0.00810239, 0.00219707, 0.92158829])"
      ]
     },
     "execution_count": 241,
     "metadata": {},
     "output_type": "execute_result"
    }
   ],
   "source": [
    "predicted_proba[0]"
   ]
  },
  {
   "cell_type": "code",
   "execution_count": 242,
   "metadata": {},
   "outputs": [
    {
     "data": {
      "text/plain": [
       "1.0"
      ]
     },
     "execution_count": 242,
     "metadata": {},
     "output_type": "execute_result"
    }
   ],
   "source": [
    "np.sum(predicted_proba[0])"
   ]
  },
  {
   "cell_type": "code",
   "execution_count": 243,
   "metadata": {
    "collapsed": true
   },
   "outputs": [],
   "source": [
    "%matplotlib inline\n",
    "import matplotlib\n",
    "import matplotlib.pyplot as plt"
   ]
  },
  {
   "cell_type": "code",
   "execution_count": 244,
   "metadata": {},
   "outputs": [
    {
     "data": {
      "text/plain": [
       "<AxesSubplot:title={'center':'ROC Curves'}, xlabel='False Positive Rate', ylabel='True Positive Rate'>"
      ]
     },
     "execution_count": 244,
     "metadata": {},
     "output_type": "execute_result"
    },
    {
     "data": {
      "image/png": "[encoded data removed]",
      "text/plain": [
       "<Figure size 432x288 with 1 Axes>"
      ]
     },
     "metadata": {},
     "output_type": "display_data"
    }
   ],
   "source": [
    "scikitplot.metrics.plot_roc(y_test, predicted_proba)"
   ]
  },
  {
   "cell_type": "code",
   "execution_count": 245,
   "metadata": {
    "collapsed": true
   },
   "outputs": [],
   "source": [
    "y_pred_f1 = best_f1_log_reg.predict(X_test_scaled)"
   ]
  },
  {
   "cell_type": "code",
   "execution_count": 246,
   "metadata": {
    "scrolled": true
   },
   "outputs": [
    {
     "data": {
      "text/plain": [
       "array(['van', 'van', 'van', 'bus', 'opel'], dtype=object)"
      ]
     },
     "execution_count": 246,
     "metadata": {},
     "output_type": "execute_result"
    }
   ],
   "source": [
    "y_pred_f1[:5]"
   ]
  },
  {
   "cell_type": "code",
   "execution_count": 248,
   "metadata": {},
   "outputs": [
    {
     "data": {
      "text/plain": [
       "array(['van', 'van', 'van', 'bus', 'opel'], dtype=object)"
      ]
     },
     "execution_count": 248,
     "metadata": {},
     "output_type": "execute_result"
    }
   ],
   "source": [
    "y_test[:5]"
   ]
  },
  {
   "cell_type": "code",
   "execution_count": 249,
   "metadata": {
    "scrolled": true
   },
   "outputs": [
    {
     "data": {
      "text/plain": [
       "0.7832310029103334"
      ]
     },
     "execution_count": 249,
     "metadata": {},
     "output_type": "execute_result"
    }
   ],
   "source": [
    "f1_score(y_test, y_pred_f1, average='weighted')"
   ]
  },
  {
   "cell_type": "markdown",
   "metadata": {},
   "source": [
    "## Accuracy:"
   ]
  },
  {
   "cell_type": "code",
   "execution_count": 98,
   "metadata": {
    "collapsed": true
   },
   "outputs": [],
   "source": [
    "from sklearn.metrics import accuracy_score"
   ]
  },
  {
   "cell_type": "code",
   "execution_count": 99,
   "metadata": {
    "collapsed": true
   },
   "outputs": [],
   "source": [
    "rnd_cv_acc = RandomizedSearchCV(log_reg, params_grid, cv=5, scoring='accuracy')"
   ]
  },
  {
   "cell_type": "code",
   "execution_count": 100,
   "metadata": {},
   "outputs": [
    {
     "data": {
      "text/plain": [
       "RandomizedSearchCV(cv=5,\n",
       "                   estimator=LogisticRegression(max_iter=500,\n",
       "                                                multi_class='multinomial',\n",
       "                                                solver='saga', tol=0.001),\n",
       "                   param_distributions=[{'C': [0.001, 1.0, 5.0],\n",
       "                                         'n_jobs': [None, -1],\n",
       "                                         'warm_start': [False, True]}],\n",
       "                   scoring='accuracy')"
      ]
     },
     "execution_count": 100,
     "metadata": {},
     "output_type": "execute_result"
    }
   ],
   "source": [
    "rnd_cv_acc.fit(X_train_scaled, y_train)"
   ]
  },
  {
   "cell_type": "code",
   "execution_count": 101,
   "metadata": {},
   "outputs": [
    {
     "data": {
      "text/plain": [
       "{'C': 5.0, 'n_jobs': None, 'warm_start': False}"
      ]
     },
     "execution_count": 101,
     "metadata": {},
     "output_type": "execute_result"
    }
   ],
   "source": [
    "rnd_cv_f1.best_params_"
   ]
  },
  {
   "cell_type": "code",
   "execution_count": 102,
   "metadata": {},
   "outputs": [
    {
     "data": {
      "text/plain": [
       "{'C': 5.0, 'n_jobs': None, 'warm_start': True}"
      ]
     },
     "execution_count": 102,
     "metadata": {},
     "output_type": "execute_result"
    }
   ],
   "source": [
    "rnd_cv_acc.best_params_"
   ]
  },
  {
   "cell_type": "code",
   "execution_count": 103,
   "metadata": {
    "collapsed": true
   },
   "outputs": [],
   "source": [
    "best_acc_log_reg = rnd_cv_acc.best_estimator_"
   ]
  },
  {
   "cell_type": "code",
   "execution_count": 104,
   "metadata": {},
   "outputs": [
    {
     "data": {
      "text/plain": [
       "LogisticRegression(C=5.0, max_iter=500, multi_class='multinomial',\n",
       "                   solver='saga', tol=0.001, warm_start=True)"
      ]
     },
     "execution_count": 104,
     "metadata": {},
     "output_type": "execute_result"
    }
   ],
   "source": [
    "best_acc_log_reg.fit(X_train_scaled, y_train)"
   ]
  },
  {
   "cell_type": "code",
   "execution_count": 105,
   "metadata": {
    "collapsed": true
   },
   "outputs": [],
   "source": [
    "y_pred_acc = best_acc_log_reg.predict(X_test_scaled)"
   ]
  },
  {
   "cell_type": "code",
   "execution_count": 106,
   "metadata": {},
   "outputs": [
    {
     "data": {
      "text/plain": [
       "0.7643097643097643"
      ]
     },
     "execution_count": 106,
     "metadata": {},
     "output_type": "execute_result"
    }
   ],
   "source": [
    "accuracy_score(y_test, y_pred_acc)"
   ]
  },
  {
   "cell_type": "code",
   "execution_count": 107,
   "metadata": {},
   "outputs": [
    {
     "data": {
      "text/plain": [
       "0.7643097643097643"
      ]
     },
     "execution_count": 107,
     "metadata": {},
     "output_type": "execute_result"
    }
   ],
   "source": [
    "best_acc_log_reg.score(X_test_scaled, y_test)"
   ]
  },
  {
   "cell_type": "markdown",
   "metadata": {
    "id": "h-xK0D3V3jRu"
   },
   "source": [
    "#### 2.2. PCA: explained variance plot\n",
    "* Apply the PCA to the train part of the data. Build the explaided variance plot. "
   ]
  },
  {
   "cell_type": "code",
   "execution_count": 61,
   "metadata": {
    "collapsed": true,
    "id": "p_RVV4Bp3jRv",
    "nbgrader": {
     "grade": true,
     "grade_id": "cell-c6c614740bce090e",
     "locked": false,
     "points": 10,
     "schema_version": 2,
     "solution": true
    }
   },
   "outputs": [],
   "source": [
    "### YOUR CODE HERE"
   ]
  },
  {
   "cell_type": "code",
   "execution_count": 62,
   "metadata": {},
   "outputs": [
    {
     "data": {
      "text/html": [
       "<div>\n",
       "<style scoped>\n",
       "    .dataframe tbody tr th:only-of-type {\n",
       "        vertical-align: middle;\n",
       "    }\n",
       "\n",
       "    .dataframe tbody tr th {\n",
       "        vertical-align: top;\n",
       "    }\n",
       "\n",
       "    .dataframe thead th {\n",
       "        text-align: right;\n",
       "    }\n",
       "</style>\n",
       "<table border=\"1\" class=\"dataframe\">\n",
       "  <thead>\n",
       "    <tr style=\"text-align: right;\">\n",
       "      <th></th>\n",
       "      <th>0</th>\n",
       "      <th>1</th>\n",
       "      <th>2</th>\n",
       "      <th>3</th>\n",
       "      <th>4</th>\n",
       "      <th>5</th>\n",
       "      <th>6</th>\n",
       "      <th>7</th>\n",
       "      <th>8</th>\n",
       "      <th>9</th>\n",
       "      <th>10</th>\n",
       "      <th>11</th>\n",
       "      <th>12</th>\n",
       "      <th>13</th>\n",
       "      <th>14</th>\n",
       "      <th>15</th>\n",
       "      <th>16</th>\n",
       "      <th>17</th>\n",
       "      <th>18</th>\n",
       "    </tr>\n",
       "  </thead>\n",
       "  <tbody>\n",
       "    <tr>\n",
       "      <th>0</th>\n",
       "      <td>645</td>\n",
       "      <td>86</td>\n",
       "      <td>44</td>\n",
       "      <td>77</td>\n",
       "      <td>155</td>\n",
       "      <td>60</td>\n",
       "      <td>7</td>\n",
       "      <td>152</td>\n",
       "      <td>44</td>\n",
       "      <td>19</td>\n",
       "      <td>141</td>\n",
       "      <td>174</td>\n",
       "      <td>345</td>\n",
       "      <td>161</td>\n",
       "      <td>72</td>\n",
       "      <td>9</td>\n",
       "      <td>0</td>\n",
       "      <td>187</td>\n",
       "      <td>192</td>\n",
       "    </tr>\n",
       "    <tr>\n",
       "      <th>1</th>\n",
       "      <td>683</td>\n",
       "      <td>110</td>\n",
       "      <td>56</td>\n",
       "      <td>109</td>\n",
       "      <td>199</td>\n",
       "      <td>57</td>\n",
       "      <td>5</td>\n",
       "      <td>251</td>\n",
       "      <td>27</td>\n",
       "      <td>27</td>\n",
       "      <td>169</td>\n",
       "      <td>272</td>\n",
       "      <td>928</td>\n",
       "      <td>268</td>\n",
       "      <td>82</td>\n",
       "      <td>11</td>\n",
       "      <td>10</td>\n",
       "      <td>183</td>\n",
       "      <td>183</td>\n",
       "    </tr>\n",
       "    <tr>\n",
       "      <th>2</th>\n",
       "      <td>285</td>\n",
       "      <td>89</td>\n",
       "      <td>48</td>\n",
       "      <td>85</td>\n",
       "      <td>189</td>\n",
       "      <td>64</td>\n",
       "      <td>8</td>\n",
       "      <td>169</td>\n",
       "      <td>39</td>\n",
       "      <td>20</td>\n",
       "      <td>153</td>\n",
       "      <td>188</td>\n",
       "      <td>427</td>\n",
       "      <td>190</td>\n",
       "      <td>64</td>\n",
       "      <td>16</td>\n",
       "      <td>5</td>\n",
       "      <td>195</td>\n",
       "      <td>201</td>\n",
       "    </tr>\n",
       "    <tr>\n",
       "      <th>3</th>\n",
       "      <td>315</td>\n",
       "      <td>93</td>\n",
       "      <td>40</td>\n",
       "      <td>62</td>\n",
       "      <td>117</td>\n",
       "      <td>49</td>\n",
       "      <td>7</td>\n",
       "      <td>131</td>\n",
       "      <td>52</td>\n",
       "      <td>18</td>\n",
       "      <td>145</td>\n",
       "      <td>160</td>\n",
       "      <td>249</td>\n",
       "      <td>156</td>\n",
       "      <td>78</td>\n",
       "      <td>8</td>\n",
       "      <td>6</td>\n",
       "      <td>184</td>\n",
       "      <td>184</td>\n",
       "    </tr>\n",
       "    <tr>\n",
       "      <th>4</th>\n",
       "      <td>582</td>\n",
       "      <td>108</td>\n",
       "      <td>53</td>\n",
       "      <td>104</td>\n",
       "      <td>181</td>\n",
       "      <td>56</td>\n",
       "      <td>11</td>\n",
       "      <td>220</td>\n",
       "      <td>31</td>\n",
       "      <td>25</td>\n",
       "      <td>167</td>\n",
       "      <td>226</td>\n",
       "      <td>712</td>\n",
       "      <td>214</td>\n",
       "      <td>72</td>\n",
       "      <td>15</td>\n",
       "      <td>18</td>\n",
       "      <td>189</td>\n",
       "      <td>199</td>\n",
       "    </tr>\n",
       "  </tbody>\n",
       "</table>\n",
       "</div>"
      ],
      "text/plain": [
       "     0    1   2    3    4   5   6    7   8   9   10   11   12   13  14  15  \\\n",
       "0  645   86  44   77  155  60   7  152  44  19  141  174  345  161  72   9   \n",
       "1  683  110  56  109  199  57   5  251  27  27  169  272  928  268  82  11   \n",
       "2  285   89  48   85  189  64   8  169  39  20  153  188  427  190  64  16   \n",
       "3  315   93  40   62  117  49   7  131  52  18  145  160  249  156  78   8   \n",
       "4  582  108  53  104  181  56  11  220  31  25  167  226  712  214  72  15   \n",
       "\n",
       "   16   17   18  \n",
       "0   0  187  192  \n",
       "1  10  183  183  \n",
       "2   5  195  201  \n",
       "3   6  184  184  \n",
       "4  18  189  199  "
      ]
     },
     "execution_count": 62,
     "metadata": {},
     "output_type": "execute_result"
    }
   ],
   "source": [
    "X_train_pd.head()"
   ]
  },
  {
   "cell_type": "code",
   "execution_count": 63,
   "metadata": {
    "collapsed": true
   },
   "outputs": [],
   "source": [
    "from sklearn.decomposition import PCA"
   ]
  },
  {
   "cell_type": "code",
   "execution_count": 64,
   "metadata": {
    "collapsed": true
   },
   "outputs": [],
   "source": [
    "pca = PCA()"
   ]
  },
  {
   "cell_type": "code",
   "execution_count": 65,
   "metadata": {
    "scrolled": true
   },
   "outputs": [
    {
     "data": {
      "text/plain": [
       "PCA()"
      ]
     },
     "execution_count": 65,
     "metadata": {},
     "output_type": "execute_result"
    }
   ],
   "source": [
    "pca.fit(X_train)"
   ]
  },
  {
   "cell_type": "code",
   "execution_count": 66,
   "metadata": {
    "collapsed": true
   },
   "outputs": [],
   "source": [
    "cumsum = np.cumsum(pca.explained_variance_ratio_)"
   ]
  },
  {
   "cell_type": "code",
   "execution_count": 67,
   "metadata": {},
   "outputs": [
    {
     "data": {
      "text/plain": [
       "19"
      ]
     },
     "execution_count": 67,
     "metadata": {},
     "output_type": "execute_result"
    }
   ],
   "source": [
    "len(cumsum)"
   ]
  },
  {
   "cell_type": "code",
   "execution_count": 68,
   "metadata": {},
   "outputs": [
    {
     "data": {
      "text/plain": [
       "array([0.61781134, 0.98326865, 0.99096156, 0.99575323, 0.99728894,\n",
       "       0.99807351, 0.99860033, 0.9990621 , 0.99936179, 0.99960168,\n",
       "       0.99972934, 0.99982966, 0.9998908 , 0.99994235, 0.99997015,\n",
       "       0.99998974, 0.99999665, 0.99999923, 1.        ])"
      ]
     },
     "execution_count": 68,
     "metadata": {},
     "output_type": "execute_result"
    }
   ],
   "source": [
    "cumsum"
   ]
  },
  {
   "cell_type": "code",
   "execution_count": 69,
   "metadata": {
    "scrolled": false
   },
   "outputs": [
    {
     "data": {
      "text/plain": [
       "Text(0, 0.5, 'Explained Variance')"
      ]
     },
     "execution_count": 69,
     "metadata": {},
     "output_type": "execute_result"
    },
    {
     "data": {
      "image/png": "[encoded data removed]",
      "text/plain": [
       "<Figure size 648x432 with 1 Axes>"
      ]
     },
     "metadata": {},
     "output_type": "display_data"
    }
   ],
   "source": [
    "plt.figure(figsize=(9,6))\n",
    "plt.plot(np.arange(1, 20), cumsum, 'g.-')\n",
    "_ = plt.xticks(np.arange(1, 20))\n",
    "plt.xlabel('Dimensions', fontsize=18)\n",
    "plt.ylabel('Explained Variance', rotation=90, fontsize=20, labelpad=20)"
   ]
  },
  {
   "cell_type": "code",
   "execution_count": 70,
   "metadata": {
    "collapsed": true
   },
   "outputs": [],
   "source": [
    "d = np.argmax(cumsum >= 0.99) + 1"
   ]
  },
  {
   "cell_type": "code",
   "execution_count": 71,
   "metadata": {
    "scrolled": true
   },
   "outputs": [
    {
     "data": {
      "text/plain": [
       "3"
      ]
     },
     "execution_count": 71,
     "metadata": {},
     "output_type": "execute_result"
    }
   ],
   "source": [
    "d"
   ]
  },
  {
   "cell_type": "markdown",
   "metadata": {},
   "source": [
    "By projecting down to 4 dimensions, we lost about 0.8% of the variance:"
   ]
  },
  {
   "cell_type": "code",
   "execution_count": 72,
   "metadata": {},
   "outputs": [
    {
     "data": {
      "text/plain": [
       "0.009038441349386805"
      ]
     },
     "execution_count": 72,
     "metadata": {},
     "output_type": "execute_result"
    }
   ],
   "source": [
    "1 - cumsum[d-1]"
   ]
  },
  {
   "cell_type": "markdown",
   "metadata": {},
   "source": [
    "## Let's see what we get with `X_scaled`"
   ]
  },
  {
   "cell_type": "code",
   "execution_count": 74,
   "metadata": {},
   "outputs": [
    {
     "data": {
      "text/plain": [
       "array([ 0.92871669, -0.92483749, -0.1312835 , -0.30957623, -0.41364024,\n",
       "       -0.21678646, -0.32300202, -0.51122747,  0.39036781, -0.61450346,\n",
       "       -0.46281127, -0.47913942, -0.54406929, -0.40211752, -0.10232653,\n",
       "        0.54006779, -1.39505428, -0.29368991, -0.46764143])"
      ]
     },
     "execution_count": 74,
     "metadata": {},
     "output_type": "execute_result"
    }
   ],
   "source": [
    "X_train_scaled[0]"
   ]
  },
  {
   "cell_type": "code",
   "execution_count": 75,
   "metadata": {
    "collapsed": true
   },
   "outputs": [],
   "source": [
    "pca2 = PCA()"
   ]
  },
  {
   "cell_type": "code",
   "execution_count": 78,
   "metadata": {},
   "outputs": [
    {
     "data": {
      "text/plain": [
       "PCA()"
      ]
     },
     "execution_count": 78,
     "metadata": {},
     "output_type": "execute_result"
    }
   ],
   "source": [
    "pca2.fit(X_train_scaled)"
   ]
  },
  {
   "cell_type": "code",
   "execution_count": 79,
   "metadata": {
    "collapsed": true
   },
   "outputs": [],
   "source": [
    "cumsum2 = np.cumsum(pca2.explained_variance_ratio_)"
   ]
  },
  {
   "cell_type": "code",
   "execution_count": 80,
   "metadata": {},
   "outputs": [
    {
     "data": {
      "text/plain": [
       "array([0.61781134, 0.98326865, 0.99096156, 0.99575323, 0.99728894,\n",
       "       0.99807351, 0.99860033, 0.9990621 , 0.99936179, 0.99960168,\n",
       "       0.99972934, 0.99982966, 0.9998908 , 0.99994235, 0.99997015,\n",
       "       0.99998974, 0.99999665, 0.99999923, 1.        ])"
      ]
     },
     "execution_count": 80,
     "metadata": {},
     "output_type": "execute_result"
    }
   ],
   "source": [
    "cumsum"
   ]
  },
  {
   "cell_type": "code",
   "execution_count": 81,
   "metadata": {},
   "outputs": [
    {
     "data": {
      "text/plain": [
       "array([0.49903183, 0.65225742, 0.76163876, 0.82059604, 0.87274224,\n",
       "       0.92138807, 0.9476803 , 0.96454267, 0.97694191, 0.98499796,\n",
       "       0.98944578, 0.99287399, 0.99543134, 0.99716604, 0.99823921,\n",
       "       0.99905062, 0.99965543, 0.99998076, 1.        ])"
      ]
     },
     "execution_count": 81,
     "metadata": {},
     "output_type": "execute_result"
    }
   ],
   "source": [
    "cumsum2"
   ]
  },
  {
   "cell_type": "code",
   "execution_count": 82,
   "metadata": {},
   "outputs": [
    {
     "data": {
      "text/plain": [
       "Text(0, 0.5, 'Explained Variance')"
      ]
     },
     "execution_count": 82,
     "metadata": {},
     "output_type": "execute_result"
    },
    {
     "data": {
      "image/png": "[encoded data removed]",
      "text/plain": [
       "<Figure size 648x432 with 1 Axes>"
      ]
     },
     "metadata": {},
     "output_type": "display_data"
    }
   ],
   "source": [
    "plt.figure(figsize=(9,6))\n",
    "plt.plot(np.arange(1, 20), cumsum2, 'g.-')\n",
    "_ = plt.xticks(np.arange(1, 20))\n",
    "plt.xlabel('Dimensions', fontsize=18)\n",
    "plt.ylabel('Explained Variance', rotation=90, fontsize=20, labelpad=20)"
   ]
  },
  {
   "cell_type": "code",
   "execution_count": 263,
   "metadata": {},
   "outputs": [
    {
     "ename": "NameError",
     "evalue": "name 'cumsum2' is not defined",
     "output_type": "error",
     "traceback": [
      "\u001b[0;31m---------------------------------------------------------------------------\u001b[0m",
      "\u001b[0;31mNameError\u001b[0m                                 Traceback (most recent call last)",
      "\u001b[0;32m<ipython-input-263-af32d2c46d28>\u001b[0m in \u001b[0;36m<module>\u001b[0;34m()\u001b[0m\n\u001b[0;32m----> 1\u001b[0;31m \u001b[0md2\u001b[0m \u001b[0;34m=\u001b[0m \u001b[0mnp\u001b[0m\u001b[0;34m.\u001b[0m\u001b[0margmax\u001b[0m\u001b[0;34m(\u001b[0m\u001b[0mcumsum2\u001b[0m \u001b[0;34m>=\u001b[0m \u001b[0;36m0.99\u001b[0m\u001b[0;34m)\u001b[0m \u001b[0;34m+\u001b[0m \u001b[0;36m1\u001b[0m\u001b[0;34m\u001b[0m\u001b[0m\n\u001b[0m",
      "\u001b[0;31mNameError\u001b[0m: name 'cumsum2' is not defined"
     ]
    }
   ],
   "source": [
    "d2 = np.argmax(cumsum2 >= 0.99) + 1"
   ]
  },
  {
   "cell_type": "code",
   "execution_count": 84,
   "metadata": {},
   "outputs": [
    {
     "data": {
      "text/plain": [
       "12"
      ]
     },
     "execution_count": 84,
     "metadata": {},
     "output_type": "execute_result"
    }
   ],
   "source": [
    "d2"
   ]
  },
  {
   "cell_type": "markdown",
   "metadata": {},
   "source": [
    "By projecting down to 12 dimensions, we lost about 0.7% of the variance:"
   ]
  },
  {
   "cell_type": "code",
   "execution_count": 85,
   "metadata": {},
   "outputs": [
    {
     "data": {
      "text/plain": [
       "0.007126013047772717"
      ]
     },
     "execution_count": 85,
     "metadata": {},
     "output_type": "execute_result"
    }
   ],
   "source": [
    "1 - cumsum2[d2-1]"
   ]
  },
  {
   "cell_type": "markdown",
   "metadata": {
    "id": "K9oFIdJM3jR1",
    "nbgrader": {
     "grade": false,
     "grade_id": "cell-0c1fe666f52fe53c",
     "locked": true,
     "schema_version": 2,
     "solution": false
    }
   },
   "source": [
    "#### 2.3. PCA trasformation\n",
    "* Select the appropriate number of components. Briefly explain your choice. Should you normalize the data?\n",
    "\n",
    "*Use `fit` and `transform` methods to transform the `train` and `test` parts.*"
   ]
  },
  {
   "cell_type": "code",
   "execution_count": 86,
   "metadata": {
    "collapsed": true,
    "id": "1c9bVKuD3jR2",
    "nbgrader": {
     "grade": true,
     "grade_id": "cell-96ab18d96473ef71",
     "locked": false,
     "points": 5,
     "schema_version": 2,
     "solution": true
    }
   },
   "outputs": [],
   "source": [
    "### YOUR CODE HERE"
   ]
  },
  {
   "cell_type": "code",
   "execution_count": 87,
   "metadata": {
    "collapsed": true
   },
   "outputs": [],
   "source": [
    "pca_final = PCA(n_components=d2)"
   ]
  },
  {
   "cell_type": "code",
   "execution_count": 90,
   "metadata": {
    "collapsed": true
   },
   "outputs": [],
   "source": [
    "X_train_reduced = pca_final.fit_transform(X_train_scaled)"
   ]
  },
  {
   "cell_type": "code",
   "execution_count": 91,
   "metadata": {
    "collapsed": true
   },
   "outputs": [],
   "source": [
    "X_test_reduced = pca_final.transform(X_test_scaled)"
   ]
  },
  {
   "cell_type": "markdown",
   "metadata": {
    "id": "BGKXkvpv3jR6"
   },
   "source": [
    "**Note: From this point `sklearn` [Pipeline](https://scikit-learn.org/stable/modules/compose.html) might be useful to perform transformations on the data. Refer to the [docs](https://scikit-learn.org/stable/modules/generated/sklearn.pipeline.Pipeline.html) for more information.**"
   ]
  },
  {
   "cell_type": "markdown",
   "metadata": {
    "id": "-Bgo9Jv53jR8",
    "nbgrader": {
     "grade": false,
     "grade_id": "cell-d28b58a35c94e988",
     "locked": true,
     "schema_version": 2,
     "solution": false
    }
   },
   "source": [
    "#### 2.4. Logistic regression on PCA-preprocessed data.\n",
    "* Find optimal hyperparameters for logistic regression with cross-validation on the transformed by PCA `train` data.\n",
    "\n",
    "* Estimate the model quality with `f1` and `accuracy` scores.\n",
    "* Plot a ROC-curve for the trained model. For the multiclass case you might use `scikitplot` library (e.g. `scikitplot.metrics.plot_roc(test_labels, predicted_proba)`).\n",
    "\n",
    "*Note: please, use the following hyperparameters for logistic regression: `multi_class='multinomial'`, `solver='saga'` and `tol=1e-3`*"
   ]
  },
  {
   "cell_type": "code",
   "execution_count": 92,
   "metadata": {
    "collapsed": true,
    "id": "87j2vQGN3jR9",
    "nbgrader": {
     "grade": true,
     "grade_id": "cell-12d53ea45258fa82",
     "locked": false,
     "points": 5,
     "schema_version": 2,
     "solution": true
    }
   },
   "outputs": [],
   "source": [
    "### YOUR CODE HERE"
   ]
  },
  {
   "cell_type": "code",
   "execution_count": 93,
   "metadata": {
    "collapsed": true
   },
   "outputs": [],
   "source": [
    "log_reg2 = LogisticRegression(multi_class='multinomial', solver='saga', tol=1e-3)"
   ]
  },
  {
   "cell_type": "code",
   "execution_count": 94,
   "metadata": {
    "collapsed": true
   },
   "outputs": [],
   "source": [
    "from sklearn.model_selection import RandomizedSearchCV"
   ]
  },
  {
   "cell_type": "code",
   "execution_count": 95,
   "metadata": {
    "collapsed": true
   },
   "outputs": [],
   "source": [
    "params_grid = [\n",
    "    {\n",
    "        'C': [1e-3, 1.0, 5.0, 10.0, 15.0, 20.0],\n",
    "        'warm_start': [False, True],\n",
    "        'n_jobs': [None, -1],\n",
    "        'max_iter': [500, 1e3, 5e3]\n",
    "    }\n",
    "]"
   ]
  },
  {
   "cell_type": "code",
   "execution_count": 96,
   "metadata": {
    "collapsed": true
   },
   "outputs": [],
   "source": [
    "from sklearn.metrics import f1_score, make_scorer"
   ]
  },
  {
   "cell_type": "code",
   "execution_count": 97,
   "metadata": {
    "collapsed": true
   },
   "outputs": [],
   "source": [
    "f1 = make_scorer(f1_score , average='weighted')"
   ]
  },
  {
   "cell_type": "code",
   "execution_count": 98,
   "metadata": {
    "collapsed": true
   },
   "outputs": [],
   "source": [
    "rnd_cv_f12 = RandomizedSearchCV(log_reg2, params_grid, cv=5, scoring=f1)"
   ]
  },
  {
   "cell_type": "code",
   "execution_count": 99,
   "metadata": {},
   "outputs": [
    {
     "data": {
      "text/plain": [
       "RandomizedSearchCV(cv=5,\n",
       "                   estimator=LogisticRegression(multi_class='multinomial',\n",
       "                                                solver='saga', tol=0.001),\n",
       "                   param_distributions=[{'C': [0.001, 1.0, 5.0, 10.0, 15.0,\n",
       "                                               20.0],\n",
       "                                         'max_iter': [500, 1000.0, 5000.0],\n",
       "                                         'n_jobs': [None, -1],\n",
       "                                         'warm_start': [False, True]}],\n",
       "                   scoring=make_scorer(f1_score, average=weighted))"
      ]
     },
     "execution_count": 99,
     "metadata": {},
     "output_type": "execute_result"
    }
   ],
   "source": [
    "rnd_cv_f12.fit(X_train_reduced, y_train)"
   ]
  },
  {
   "cell_type": "code",
   "execution_count": 100,
   "metadata": {},
   "outputs": [
    {
     "data": {
      "text/plain": [
       "{'C': 20.0, 'max_iter': 500, 'n_jobs': -1, 'warm_start': True}"
      ]
     },
     "execution_count": 100,
     "metadata": {},
     "output_type": "execute_result"
    }
   ],
   "source": [
    "rnd_cv_f12.best_params_"
   ]
  },
  {
   "cell_type": "code",
   "execution_count": 101,
   "metadata": {},
   "outputs": [
    {
     "data": {
      "text/plain": [
       "LogisticRegression(C=20.0, max_iter=500, multi_class='multinomial', n_jobs=-1,\n",
       "                   solver='saga', tol=0.001, warm_start=True)"
      ]
     },
     "execution_count": 101,
     "metadata": {},
     "output_type": "execute_result"
    }
   ],
   "source": [
    "rnd_cv_f12.best_estimator_"
   ]
  },
  {
   "cell_type": "code",
   "execution_count": 102,
   "metadata": {
    "collapsed": true
   },
   "outputs": [],
   "source": [
    "best_f1_log_reg2 = rnd_cv_f12.best_estimator_"
   ]
  },
  {
   "cell_type": "code",
   "execution_count": 103,
   "metadata": {},
   "outputs": [
    {
     "data": {
      "text/plain": [
       "LogisticRegression(C=20.0, max_iter=500, multi_class='multinomial', n_jobs=-1,\n",
       "                   solver='saga', tol=0.001, warm_start=True)"
      ]
     },
     "execution_count": 103,
     "metadata": {},
     "output_type": "execute_result"
    }
   ],
   "source": [
    "best_f1_log_reg2.fit(X_train_reduced, y_train)"
   ]
  },
  {
   "cell_type": "code",
   "execution_count": 104,
   "metadata": {
    "collapsed": true
   },
   "outputs": [],
   "source": [
    "predicted_proba2 = best_f1_log_reg2.predict_proba(X_test_reduced)"
   ]
  },
  {
   "cell_type": "code",
   "execution_count": 105,
   "metadata": {},
   "outputs": [
    {
     "data": {
      "text/plain": [
       "(297, 4)"
      ]
     },
     "execution_count": 105,
     "metadata": {},
     "output_type": "execute_result"
    }
   ],
   "source": [
    "predicted_proba2.shape"
   ]
  },
  {
   "cell_type": "code",
   "execution_count": 106,
   "metadata": {},
   "outputs": [
    {
     "data": {
      "text/plain": [
       "array([[1.31523915e-05, 7.93656589e-04, 1.68054115e-03, 9.97512650e-01],\n",
       "       [9.96882455e-01, 1.42820283e-03, 1.63534371e-03, 5.39983530e-05],\n",
       "       [5.38116730e-03, 3.36643700e-01, 6.52468474e-01, 5.50665796e-03],\n",
       "       ...,\n",
       "       [5.27995528e-05, 6.83318381e-04, 1.36613283e-03, 9.97897749e-01],\n",
       "       [3.27028303e-04, 1.42363661e-03, 4.09300751e-03, 9.94156328e-01],\n",
       "       [1.95144062e-03, 2.15473187e-02, 4.34273696e-02, 9.33073871e-01]])"
      ]
     },
     "execution_count": 106,
     "metadata": {},
     "output_type": "execute_result"
    }
   ],
   "source": [
    "predicted_proba2"
   ]
  },
  {
   "cell_type": "code",
   "execution_count": 107,
   "metadata": {
    "scrolled": true
   },
   "outputs": [
    {
     "data": {
      "text/plain": [
       "<AxesSubplot:title={'center':'ROC Curves'}, xlabel='False Positive Rate', ylabel='True Positive Rate'>"
      ]
     },
     "execution_count": 107,
     "metadata": {},
     "output_type": "execute_result"
    },
    {
     "data": {
      "image/png": "[encoded data removed]",
      "text/plain": [
       "<Figure size 432x288 with 1 Axes>"
      ]
     },
     "metadata": {},
     "output_type": "display_data"
    }
   ],
   "source": [
    "scikitplot.metrics.plot_roc(y_test, predicted_proba2)"
   ]
  },
  {
   "cell_type": "code",
   "execution_count": 108,
   "metadata": {
    "collapsed": true
   },
   "outputs": [],
   "source": [
    "y_pred_f12 = best_f1_log_reg2.predict(X_test_reduced)"
   ]
  },
  {
   "cell_type": "code",
   "execution_count": 109,
   "metadata": {},
   "outputs": [
    {
     "data": {
      "text/plain": [
       "0.7461961545664952"
      ]
     },
     "execution_count": 109,
     "metadata": {},
     "output_type": "execute_result"
    }
   ],
   "source": [
    "f1_score(y_test, y_pred_f12, average='weighted')"
   ]
  },
  {
   "cell_type": "markdown",
   "metadata": {},
   "source": [
    "## Accuracy"
   ]
  },
  {
   "cell_type": "code",
   "execution_count": 110,
   "metadata": {
    "collapsed": true
   },
   "outputs": [],
   "source": [
    "rnd_cv_acc2 = RandomizedSearchCV(log_reg2, params_grid, cv=5, scoring='accuracy')"
   ]
  },
  {
   "cell_type": "code",
   "execution_count": 111,
   "metadata": {},
   "outputs": [
    {
     "data": {
      "text/plain": [
       "RandomizedSearchCV(cv=5,\n",
       "                   estimator=LogisticRegression(multi_class='multinomial',\n",
       "                                                solver='saga', tol=0.001),\n",
       "                   param_distributions=[{'C': [0.001, 1.0, 5.0, 10.0, 15.0,\n",
       "                                               20.0],\n",
       "                                         'max_iter': [500, 1000.0, 5000.0],\n",
       "                                         'n_jobs': [None, -1],\n",
       "                                         'warm_start': [False, True]}],\n",
       "                   scoring='accuracy')"
      ]
     },
     "execution_count": 111,
     "metadata": {},
     "output_type": "execute_result"
    }
   ],
   "source": [
    "rnd_cv_acc2.fit(X_train_reduced, y_train)"
   ]
  },
  {
   "cell_type": "code",
   "execution_count": 112,
   "metadata": {},
   "outputs": [
    {
     "data": {
      "text/plain": [
       "{'C': 20.0, 'max_iter': 500, 'n_jobs': -1, 'warm_start': True}"
      ]
     },
     "execution_count": 112,
     "metadata": {},
     "output_type": "execute_result"
    }
   ],
   "source": [
    "rnd_cv_f12.best_params_"
   ]
  },
  {
   "cell_type": "code",
   "execution_count": 113,
   "metadata": {},
   "outputs": [
    {
     "data": {
      "text/plain": [
       "{'C': 5.0, 'max_iter': 500, 'n_jobs': -1, 'warm_start': True}"
      ]
     },
     "execution_count": 113,
     "metadata": {},
     "output_type": "execute_result"
    }
   ],
   "source": [
    "rnd_cv_acc2.best_params_"
   ]
  },
  {
   "cell_type": "code",
   "execution_count": 114,
   "metadata": {
    "collapsed": true
   },
   "outputs": [],
   "source": [
    "best_acc_log_reg2 = rnd_cv_acc2.best_estimator_"
   ]
  },
  {
   "cell_type": "code",
   "execution_count": 115,
   "metadata": {},
   "outputs": [
    {
     "data": {
      "text/plain": [
       "LogisticRegression(C=5.0, max_iter=500, multi_class='multinomial', n_jobs=-1,\n",
       "                   solver='saga', tol=0.001, warm_start=True)"
      ]
     },
     "execution_count": 115,
     "metadata": {},
     "output_type": "execute_result"
    }
   ],
   "source": [
    "best_acc_log_reg2.fit(X_train_reduced, y_train)"
   ]
  },
  {
   "cell_type": "code",
   "execution_count": 117,
   "metadata": {
    "collapsed": true
   },
   "outputs": [],
   "source": [
    "y_pred_acc2 = best_acc_log_reg2.predict(X_test_reduced)"
   ]
  },
  {
   "cell_type": "code",
   "execution_count": 118,
   "metadata": {},
   "outputs": [
    {
     "data": {
      "text/plain": [
       "0.7474747474747475"
      ]
     },
     "execution_count": 118,
     "metadata": {},
     "output_type": "execute_result"
    }
   ],
   "source": [
    "accuracy_score(y_test, y_pred_acc2)"
   ]
  },
  {
   "cell_type": "markdown",
   "metadata": {
    "id": "ZxVBo4nr3jSC",
    "nbgrader": {
     "grade": false,
     "grade_id": "cell-4fbf16c64076e139",
     "locked": true,
     "schema_version": 2,
     "solution": false
    }
   },
   "source": [
    "#### 2.5. Decision tree\n",
    "* Now train a desicion tree on the same data. Find optimal tree depth (`max_depth`) using cross-validation.\n",
    "\n",
    "* Measure the model quality using the same metrics you used above."
   ]
  },
  {
   "cell_type": "code",
   "execution_count": 120,
   "metadata": {
    "collapsed": true,
    "id": "zep_bYuQ3jSD",
    "nbgrader": {
     "grade": true,
     "grade_id": "cell-748ed20b51c67fab",
     "locked": false,
     "points": 15,
     "schema_version": 2,
     "solution": true
    }
   },
   "outputs": [],
   "source": [
    "from sklearn.tree import DecisionTreeClassifier\n",
    "\n",
    "# YOUR CODE HERE"
   ]
  },
  {
   "cell_type": "code",
   "execution_count": 121,
   "metadata": {
    "collapsed": true
   },
   "outputs": [],
   "source": [
    "tree_clf = DecisionTreeClassifier()"
   ]
  },
  {
   "cell_type": "code",
   "execution_count": 122,
   "metadata": {
    "collapsed": true
   },
   "outputs": [],
   "source": [
    "params_tree = [\n",
    "    {\n",
    "        'criterion': ['gini', 'entropy'],\n",
    "        'max_depth': np.arange(2, 10),\n",
    "        'max_features': np.arange(2, 10)\n",
    "    }\n",
    "]"
   ]
  },
  {
   "cell_type": "code",
   "execution_count": 123,
   "metadata": {
    "collapsed": true
   },
   "outputs": [],
   "source": [
    "f1 = make_scorer(f1_score , average='weighted')"
   ]
  },
  {
   "cell_type": "code",
   "execution_count": 125,
   "metadata": {
    "collapsed": true
   },
   "outputs": [],
   "source": [
    "rnd_cv_tree = RandomizedSearchCV(tree_clf, params_tree, cv=5, scoring=f1)"
   ]
  },
  {
   "cell_type": "code",
   "execution_count": 126,
   "metadata": {},
   "outputs": [
    {
     "data": {
      "text/plain": [
       "RandomizedSearchCV(cv=5, estimator=DecisionTreeClassifier(),\n",
       "                   param_distributions=[{'criterion': ['gini', 'entropy'],\n",
       "                                         'max_depth': array([2, 3, 4, 5, 6, 7, 8, 9]),\n",
       "                                         'max_features': array([2, 3, 4, 5, 6, 7, 8, 9])}],\n",
       "                   scoring=make_scorer(f1_score, average=weighted))"
      ]
     },
     "execution_count": 126,
     "metadata": {},
     "output_type": "execute_result"
    }
   ],
   "source": [
    "rnd_cv_tree.fit(X_train, y_train)"
   ]
  },
  {
   "cell_type": "code",
   "execution_count": 127,
   "metadata": {},
   "outputs": [
    {
     "data": {
      "text/plain": [
       "{'criterion': 'gini', 'max_depth': 6, 'max_features': 8}"
      ]
     },
     "execution_count": 127,
     "metadata": {},
     "output_type": "execute_result"
    }
   ],
   "source": [
    "rnd_cv_tree.best_params_"
   ]
  },
  {
   "cell_type": "code",
   "execution_count": 128,
   "metadata": {
    "collapsed": true
   },
   "outputs": [],
   "source": [
    "best_tree = rnd_cv_tree.best_estimator_"
   ]
  },
  {
   "cell_type": "code",
   "execution_count": 129,
   "metadata": {},
   "outputs": [
    {
     "data": {
      "text/plain": [
       "DecisionTreeClassifier(max_depth=6, max_features=8)"
      ]
     },
     "execution_count": 129,
     "metadata": {},
     "output_type": "execute_result"
    }
   ],
   "source": [
    "best_tree.fit(X_train, y_train)"
   ]
  },
  {
   "cell_type": "code",
   "execution_count": 130,
   "metadata": {
    "collapsed": true
   },
   "outputs": [],
   "source": [
    "y_pred_f1_tree = best_tree.predict(X_test)"
   ]
  },
  {
   "cell_type": "code",
   "execution_count": 131,
   "metadata": {},
   "outputs": [
    {
     "data": {
      "text/plain": [
       "0.6718248276131703"
      ]
     },
     "execution_count": 131,
     "metadata": {},
     "output_type": "execute_result"
    }
   ],
   "source": [
    "f1_score(y_test, y_pred_f1_tree, average='weighted')"
   ]
  },
  {
   "cell_type": "code",
   "execution_count": 132,
   "metadata": {},
   "outputs": [
    {
     "data": {
      "text/plain": [
       "DecisionTreeClassifier(max_depth=6, max_features=8)"
      ]
     },
     "execution_count": 132,
     "metadata": {},
     "output_type": "execute_result"
    }
   ],
   "source": [
    "best_tree.fit(X_train_reduced, y_train)"
   ]
  },
  {
   "cell_type": "code",
   "execution_count": 133,
   "metadata": {
    "collapsed": true
   },
   "outputs": [],
   "source": [
    "y_pred_f1_tree = best_tree.predict(X_test_reduced)"
   ]
  },
  {
   "cell_type": "code",
   "execution_count": 134,
   "metadata": {},
   "outputs": [
    {
     "data": {
      "text/plain": [
       "0.686203360879399"
      ]
     },
     "execution_count": 134,
     "metadata": {},
     "output_type": "execute_result"
    }
   ],
   "source": [
    "f1_score(y_test, y_pred_f1_tree, average='weighted')"
   ]
  },
  {
   "cell_type": "markdown",
   "metadata": {},
   "source": [
    "## Accuracy"
   ]
  },
  {
   "cell_type": "code",
   "execution_count": 135,
   "metadata": {
    "collapsed": true
   },
   "outputs": [],
   "source": [
    "rnd_cv_tree_acc = RandomizedSearchCV(tree_clf, params_tree, cv=5, scoring='accuracy')"
   ]
  },
  {
   "cell_type": "code",
   "execution_count": 136,
   "metadata": {},
   "outputs": [
    {
     "data": {
      "text/plain": [
       "RandomizedSearchCV(cv=5, estimator=DecisionTreeClassifier(),\n",
       "                   param_distributions=[{'criterion': ['gini', 'entropy'],\n",
       "                                         'max_depth': array([2, 3, 4, 5, 6, 7, 8, 9]),\n",
       "                                         'max_features': array([2, 3, 4, 5, 6, 7, 8, 9])}],\n",
       "                   scoring='accuracy')"
      ]
     },
     "execution_count": 136,
     "metadata": {},
     "output_type": "execute_result"
    }
   ],
   "source": [
    "rnd_cv_tree_acc.fit(X_train, y_train)"
   ]
  },
  {
   "cell_type": "code",
   "execution_count": 156,
   "metadata": {},
   "outputs": [
    {
     "data": {
      "text/plain": [
       "{'criterion': 'gini', 'max_depth': 6, 'max_features': 8}"
      ]
     },
     "execution_count": 156,
     "metadata": {},
     "output_type": "execute_result"
    }
   ],
   "source": [
    "rnd_cv_tree.best_params_"
   ]
  },
  {
   "cell_type": "code",
   "execution_count": 137,
   "metadata": {
    "collapsed": true
   },
   "outputs": [],
   "source": [
    "best_tree_acc = rnd_cv_tree.best_estimator_"
   ]
  },
  {
   "cell_type": "code",
   "execution_count": 138,
   "metadata": {},
   "outputs": [
    {
     "data": {
      "text/plain": [
       "DecisionTreeClassifier(max_depth=6, max_features=8)"
      ]
     },
     "execution_count": 138,
     "metadata": {},
     "output_type": "execute_result"
    }
   ],
   "source": [
    "best_tree_acc.fit(X_train, y_train)"
   ]
  },
  {
   "cell_type": "code",
   "execution_count": 139,
   "metadata": {
    "collapsed": true
   },
   "outputs": [],
   "source": [
    "y_pred_acc_tree = best_tree_acc.predict(X_test)"
   ]
  },
  {
   "cell_type": "code",
   "execution_count": 140,
   "metadata": {},
   "outputs": [
    {
     "data": {
      "text/plain": [
       "0.6936026936026936"
      ]
     },
     "execution_count": 140,
     "metadata": {},
     "output_type": "execute_result"
    }
   ],
   "source": [
    "accuracy_score(y_test, y_pred_acc_tree)"
   ]
  },
  {
   "cell_type": "markdown",
   "metadata": {
    "id": "lAv6pVkK3jSH",
    "nbgrader": {
     "grade": false,
     "grade_id": "cell-9eadd4d8a03ae67a",
     "locked": true,
     "schema_version": 2,
     "solution": false
    }
   },
   "source": [
    "#### 2.6. Bagging.\n",
    "Here starts the ensembling part.\n",
    "\n",
    "First we will use the __Bagging__ approach. Build an ensemble of $N$ algorithms varying N from $N_{min}=2$ to $N_{max}=100$ (with step 5).\n",
    "\n",
    "We will build two ensembles: of logistic regressions and of decision trees.\n",
    "\n",
    "*Comment: each ensemble should be constructed from models of the same family, so logistic regressions should not be mixed up with decision trees.*\n",
    "\n",
    "\n",
    "*Hint 1: To build a __Bagging__ ensebmle varying the ensemble size efficiently you might generate $N_{max}$ subsets of `train` data (of the same size as the original dataset) using bootstrap procedure once. Then you train a new instance of logistic regression/decision tree with optimal hyperparameters you estimated before on each subset (so you train it from scratch). Finally, to get an ensemble of $N$ models you average the $N$ out of $N_{max}$ models predictions.*\n",
    "\n",
    "*Hint 2: sklearn might help you with this taks. Some appropriate function/class might be out there.*\n",
    "\n",
    "* Plot `f1` and `accuracy` scores plots w.r.t. the size of the ensemble.\n",
    "\n",
    "* Briefly analyse the plot. What is the optimal number of algorithms? Explain your answer.\n",
    "\n",
    "* How do you think, are the hyperparameters for the decision trees you found in 2.5 optimal for trees used in ensemble? "
   ]
  },
  {
   "cell_type": "code",
   "execution_count": null,
   "metadata": {
    "collapsed": true,
    "id": "VMn8Bwma3jSJ",
    "nbgrader": {
     "grade": true,
     "grade_id": "cell-8fc95a2b206bdae1",
     "locked": false,
     "points": 35,
     "schema_version": 2,
     "solution": true
    }
   },
   "outputs": [],
   "source": [
    "# YOUR CODE HERE"
   ]
  },
  {
   "cell_type": "code",
   "execution_count": 269,
   "metadata": {
    "id": "GxFdJTAE3jSS"
   },
   "outputs": [],
   "source": [
    "from sklearn.ensemble import BaggingClassifier\n",
    "from sklearn.tree import DecisionTreeClassifier"
   ]
  },
  {
   "cell_type": "code",
   "execution_count": 310,
   "metadata": {},
   "outputs": [],
   "source": [
    "bag_clf = BaggingClassifier(DecisionTreeClassifier(max_depth=6), n_estimators=, bootstrap=True, max_samples=1.0, warm_start=False, random_state=42, oob_score=True)"
   ]
  },
  {
   "cell_type": "code",
   "execution_count": 311,
   "metadata": {},
   "outputs": [
    {
     "data": {
      "text/plain": [
       "BaggingClassifier(base_estimator=DecisionTreeClassifier(max_depth=6),\n",
       "                  n_estimators=80, oob_score=True, random_state=42)"
      ]
     },
     "execution_count": 311,
     "metadata": {},
     "output_type": "execute_result"
    }
   ],
   "source": [
    "bag_clf.fit(X_train, y_train)"
   ]
  },
  {
   "cell_type": "code",
   "execution_count": 312,
   "metadata": {},
   "outputs": [
    {
     "data": {
      "text/plain": [
       "DecisionTreeClassifier(max_depth=6)"
      ]
     },
     "execution_count": 312,
     "metadata": {},
     "output_type": "execute_result"
    }
   ],
   "source": [
    "bag_clf.base_estimator_"
   ]
  },
  {
   "cell_type": "code",
   "execution_count": 313,
   "metadata": {},
   "outputs": [
    {
     "data": {
      "text/plain": [
       "0.7194899817850637"
      ]
     },
     "execution_count": 313,
     "metadata": {},
     "output_type": "execute_result"
    }
   ],
   "source": [
    "bag_clf.oob_score_"
   ]
  },
  {
   "cell_type": "code",
   "execution_count": null,
   "metadata": {
    "collapsed": true
   },
   "outputs": [],
   "source": []
  },
  {
   "cell_type": "code",
   "execution_count": null,
   "metadata": {
    "collapsed": true
   },
   "outputs": [],
   "source": []
  },
  {
   "cell_type": "code",
   "execution_count": null,
   "metadata": {
    "collapsed": true
   },
   "outputs": [],
   "source": []
  },
  {
   "cell_type": "code",
   "execution_count": null,
   "metadata": {
    "collapsed": true
   },
   "outputs": [],
   "source": []
  },
  {
   "cell_type": "markdown",
   "metadata": {
    "id": "09ntuk2C3jSW",
    "nbgrader": {
     "grade": false,
     "grade_id": "cell-241b7691ab44cbfb",
     "locked": true,
     "schema_version": 2,
     "solution": false
    }
   },
   "source": [
    "#### 2.7. Random Forest\n",
    "Now we will work with the Random Forest (its `sklearn` implementation).\n",
    "\n",
    "* * Plot `f1` and `accuracy` scores plots w.r.t. the number of trees in Random Forest.\n",
    "\n",
    "* What is the optimal number of trees you've got? Is it different from the optimal number of logistic regressions/decision trees in 2.6? Explain the results briefly."
   ]
  },
  {
   "cell_type": "code",
   "execution_count": 264,
   "metadata": {
    "collapsed": true,
    "id": "yyJIq71s3jSX",
    "nbgrader": {
     "grade": true,
     "grade_id": "cell-888755d0f3d91620",
     "locked": false,
     "points": 15,
     "schema_version": 2,
     "solution": true
    }
   },
   "outputs": [],
   "source": [
    "from sklearn.ensemble import RandomForestClassifier\n",
    "\n",
    "# YOUR CODE HERE"
   ]
  },
  {
   "cell_type": "code",
   "execution_count": null,
   "metadata": {
    "collapsed": true
   },
   "outputs": [],
   "source": []
  },
  {
   "cell_type": "code",
   "execution_count": null,
   "metadata": {
    "collapsed": true
   },
   "outputs": [],
   "source": []
  },
  {
   "cell_type": "code",
   "execution_count": null,
   "metadata": {
    "collapsed": true
   },
   "outputs": [],
   "source": []
  },
  {
   "cell_type": "code",
   "execution_count": null,
   "metadata": {
    "collapsed": true
   },
   "outputs": [],
   "source": []
  },
  {
   "cell_type": "code",
   "execution_count": null,
   "metadata": {
    "collapsed": true
   },
   "outputs": [],
   "source": []
  },
  {
   "cell_type": "markdown",
   "metadata": {
    "id": "mX71AUXf3jSe",
    "nbgrader": {
     "grade": false,
     "grade_id": "cell-99191c0852538d4d",
     "locked": true,
     "schema_version": 2,
     "solution": false
    }
   },
   "source": [
    "#### 2.8. Learning curve\n",
    "Your goal is to estimate, how does the model behaviour change with the increase of the `train` dataset size.\n",
    "\n",
    "* Split the training data into 10 equal (almost) parts. Then train the models from above (Logistic regression, Desicion Tree, Random Forest) with optimal hyperparameters you have selected on 1 part, 2 parts (combined, so the train size in increased by 2 times), 3 parts and so on.\n",
    "\n",
    "* Build a plot of `accuracy` and `f1` scores on `test` part, varying the `train` dataset size (so the axes will be score - dataset size.\n",
    "\n",
    "* Analyse the final plot. Can you make any conlusions using it? "
   ]
  },
  {
   "cell_type": "code",
   "execution_count": null,
   "metadata": {
    "collapsed": true,
    "id": "dwFls7eg3jSr",
    "nbgrader": {
     "grade": true,
     "grade_id": "cell-e39bc7e7dff61ff9",
     "locked": false,
     "points": 15,
     "schema_version": 2,
     "solution": true
    }
   },
   "outputs": [],
   "source": [
    "# YOUR CODE HERE"
   ]
  }
 ],
 "metadata": {
  "celltoolbar": "Create Assignment",
  "colab": {
   "name": "Lab1_part2_ml_pipeline.ipynb",
   "provenance": []
  },
  "kernelspec": {
   "display_name": "Python 3",
   "language": "python",
   "name": "python3"
  },
  "language_info": {
   "codemirror_mode": {
    "name": "ipython",
    "version": 3
   },
   "file_extension": ".py",
   "mimetype": "text/x-python",
   "name": "python",
   "nbconvert_exporter": "python",
   "pygments_lexer": "ipython3",
   "version": "3.6.4"
  },
  "toc": {
   "base_numbering": 1,
   "nav_menu": {},
   "number_sections": false,
   "sideBar": true,
   "skip_h1_title": false,
   "title_cell": "Table of Contents",
   "title_sidebar": "Contents",
   "toc_cell": false,
   "toc_position": {},
   "toc_section_display": true,
   "toc_window_display": false
  }
 },
 "nbformat": 4,
 "nbformat_minor": 1
}
