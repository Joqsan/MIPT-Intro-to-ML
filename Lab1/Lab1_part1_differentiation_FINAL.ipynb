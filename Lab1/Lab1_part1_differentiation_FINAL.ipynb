{
 "cells": [
  {
   "cell_type": "markdown",
   "metadata": {
    "id": "1Bctz-dl3jQ0"
   },
   "source": [
    "*Credits: materials from this notebook belong to YSDA [Practical DL](https://github.com/yandexdataschool/Practical_DL) course. Special thanks for making them available online.*"
   ]
  },
  {
   "cell_type": "markdown",
   "metadata": {
    "id": "1hNopSko3jQ9"
   },
   "source": [
    "# Lab assignment №1, part 1\n",
    "\n",
    "This lab assignment consists of several parts. You are supposed to make some transformations, train some models, estimate the quality of the models and explain your results.\n",
    "\n",
    "Several comments:\n",
    "* Don't hesitate to ask questions, it's a good practice.\n",
    "* No private/public sharing, please. The copied assignments will be graded with 0 points.\n",
    "* Blocks of this lab will be graded separately."
   ]
  },
  {
   "cell_type": "markdown",
   "metadata": {
    "id": "uqdZk47z3jQ-"
   },
   "source": [
    "## Part 1. Matrix differentiation"
   ]
  },
  {
   "cell_type": "markdown",
   "metadata": {
    "id": "Qy9594533jRA"
   },
   "source": [
    "Since it easy to google every task please please please try to undestand what's going on. The \"just answer\" thing will be not counted, make sure to present derivation of your solution. It is absolutely OK if you found an answer on web then just exercise in $\\LaTeX$ copying it into here."
   ]
  },
  {
   "cell_type": "code",
   "execution_count": null,
   "metadata": {
    "collapsed": true,
    "id": "sItpf0PD3jRB"
   },
   "outputs": [],
   "source": [
    "# If on colab, uncomment the following lines\n",
    "\n",
    "# ! wget https://raw.githubusercontent.com/girafe-ai/ml-mipt/basic_f20/homeworks_basic/Lab1_ML_pipeline_and_SVM/grad.png"
   ]
  },
  {
   "cell_type": "markdown",
   "metadata": {
    "id": "1Y5czvTg3jRG"
   },
   "source": [
    "Useful links: \n",
    "[1](http://www.machinelearning.ru/wiki/images/2/2a/Matrix-Gauss.pdf)\n",
    "[2](http://www.atmos.washington.edu/~dennis/MatrixCalculus.pdf)\n",
    "[3](http://cal.cs.illinois.edu/~johannes/research/matrix%20calculus.pdf)\n",
    "[4](http://research.microsoft.com/en-us/um/people/cmbishop/prml/index.htm)\n",
    "\n",
    "## <font color=blue>Preliminary Notes:</font>\n",
    "\n",
    "Let's denote\n",
    "\n",
    "$$\n",
    "\t\\nabla f^{\\top} = \\frac{df}{dx^{\\top}} = (f_{x_1}, f_{x_2}, \\ldots , f_{x_N})_{(1\\times N)} = Df\n",
    "$$\n",
    "\n",
    "From the course on Optimization Methods we know that\n",
    "\n",
    "$$\n",
    "\t\\nabla (u^{\\top}Av) = (Du)^{\\top}Av + (Dv)^{\\top}A^{\\top}u \\tag{1}\n",
    "$$"
   ]
  },
  {
   "cell_type": "markdown",
   "metadata": {
    "id": "d7ejVnKX3jRI"
   },
   "source": [
    "## ex. 1"
   ]
  },
  {
   "cell_type": "markdown",
   "metadata": {
    "id": "tA9_cK693jRK"
   },
   "source": [
    "$$  \n",
    "y = x^Tx,  \\quad x \\in \\mathbb{R}^N \n",
    "$$"
   ]
  },
  {
   "cell_type": "markdown",
   "metadata": {
    "id": "m4IsDONY3jRM"
   },
   "source": [
    "$$\n",
    "\\frac{dy}{dx} = \n",
    "$$ "
   ]
  },
  {
   "cell_type": "markdown",
   "metadata": {
    "id": "4jobrQ_a3jRN"
   },
   "source": [
    "## <font color=blue>Answer:</font>\n",
    "\n",
    "In equation $(1)$ let $u = v = x$ and $A = E \\in \\mathbb{R}^{N\\times N}$. Then\n",
    "\n",
    "\\begin{align*}\n",
    "\t\\frac{dy}{dx} &= \\nabla (x^{\\top}x)\\\\\n",
    "\t&= (E)^{\\top}Ex + (E)^{\\top}E^{\\top}x\\\\\n",
    "\t&= E^{2}x + E^{2}x\\\\\n",
    "\t&= 2x\\\\\n",
    "\\end{align*}\n",
    "\n",
    "---"
   ]
  },
  {
   "cell_type": "markdown",
   "metadata": {
    "id": "MDkz_4ke3jRS"
   },
   "source": [
    "## ex. 2"
   ]
  },
  {
   "cell_type": "markdown",
   "metadata": {
    "id": "2QwfF2Qu3jRT"
   },
   "source": [
    "$$ y = tr(AB) \\quad A,B \\in \\mathbb{R}^{N \\times N} $$ "
   ]
  },
  {
   "cell_type": "markdown",
   "metadata": {
    "id": "Sn3afpXd3jRU"
   },
   "source": [
    "$$\n",
    "\\frac{dy}{dA} =\n",
    "$$"
   ]
  },
  {
   "cell_type": "markdown",
   "metadata": {
    "id": "BzsQmz4O3jRU"
   },
   "source": [
    "## <font color=blue>Answer:</font>\n",
    "\n",
    "Let $C = AB$. Then\n",
    "\n",
    "\\begin{align*}\n",
    "\t y &= \\mathrm{Tr}\\ C = \\sum_{i = 1}^{N} c_{ii} \\\\\n",
    "\t &= \\left[c_{kj} = \\sum_{m = 1}^{N} a_{km}b_{mj}\\right]\\\\\n",
    "\t &= \\sum_{i = 1}^{N} \\sum_{m = 1}^{N} a_{im}b_{mi}\\\\\n",
    "\t &\\\\\n",
    "\t \\left(\\frac{dy}{dA}\\right)_{ks} &= \\frac{d}{da_{ks}}\\left(\\sum_{i = 1}^{N} \\sum_{m = 1}^{N} a_{im}b_{mi}\\right) \\\\\n",
    "\t &= [\\text{RHS} \\neq 0 \\iff i = k, m = s]\\\\\n",
    "\t &= b_{sk}\\\\\n",
    "\t &\\\\\n",
    "\t \\implies \\frac{dy}{dA} &= B^{\\top}\\\\\n",
    "\\end{align*}\n",
    "\n",
    "---"
   ]
  },
  {
   "cell_type": "markdown",
   "metadata": {
    "id": "UMKTSF6M3jRY"
   },
   "source": [
    "## ex. 3"
   ]
  },
  {
   "cell_type": "markdown",
   "metadata": {
    "id": "ayB1WMkc3jRZ"
   },
   "source": [
    "$$  \n",
    "y = x^TAc , \\quad A\\in \\mathbb{R}^{N \\times N}, x\\in \\mathbb{R}^{N}, c\\in \\mathbb{R}^{N} \n",
    "$$"
   ]
  },
  {
   "cell_type": "markdown",
   "metadata": {
    "id": "Ax7agde33jRa"
   },
   "source": [
    "$$\n",
    "\\frac{dy}{dx} =\n",
    "$$"
   ]
  },
  {
   "cell_type": "markdown",
   "metadata": {
    "id": "ZUdb-AQC3jRb"
   },
   "source": [
    "$$\n",
    "\\frac{dy}{dA} =\n",
    "$$ "
   ]
  },
  {
   "cell_type": "markdown",
   "metadata": {
    "id": "eMpoWf6b3jRb"
   },
   "source": [
    "Hint for the latter (one of the ways): use *ex. 2* result and the fact \n",
    "$$\n",
    "tr(ABC) = tr (CAB)\n",
    "$$"
   ]
  },
  {
   "cell_type": "markdown",
   "metadata": {
    "id": "dkvwbbCu3jRc"
   },
   "source": [
    "## <font color=blue>Answer:</font>\n",
    "\n",
    "$$\n",
    "\\frac{dy}{dx} =\n",
    "$$\n",
    "\n",
    "We apply equation $(1)$:\n",
    "\n",
    "\\begin{align*}\n",
    "\t\\frac{dy}{dx} &= (Dx)^{\\top}Ac + (Dc)^{\\top}A^{\\top}x\\\\\n",
    "\t&= [Dc = 0]\\\\\n",
    "\t&= EAc\\\\\n",
    "\t&= Ac\\\\\n",
    "\\end{align*}\n",
    "\n",
    "$$\n",
    "\\frac{dy}{dA} =\n",
    "$$\n",
    "\n",
    "\\begin{align*}\n",
    "\t\\left( \\frac{dy}{dA} \\right)_{ks} &= \\frac{d}{da_{ks}} \\left( \\sum_{i = 1}^{N} \\sum_{j = 1}^{N} x_i a_{ij}c_j  \\right) \\\\\n",
    "\t&= [\\text{RHS} \\neq 0 \\iff i = k, j = s]\\\\\n",
    "\t&= x_k c_{s}\\\\\n",
    "\t\\implies \\frac{dy}{dA} &= x \\otimes c \\\\\n",
    "\t&= xc^{\\top}\\\\\n",
    "\\end{align*}\n",
    "\n",
    "\n",
    "---"
   ]
  },
  {
   "cell_type": "markdown",
   "metadata": {
    "id": "v6rgjOVt3jRi"
   },
   "source": [
    "## ex. 4"
   ]
  },
  {
   "cell_type": "markdown",
   "metadata": {
    "id": "HjY1wfZt3jRj"
   },
   "source": [
    "Classic matrix factorization example. Given matrix $X$ you need to find $A$, $S$ to approximate $X$. This can be done by simple gradient descent iteratively alternating $A$ and $S$ updates.\n",
    "$$\n",
    "J = || X - AS ||_F^2  , \\quad A\\in \\mathbb{R}^{N \\times R} , \\quad S\\in \\mathbb{R}^{R \\times M}\n",
    "$$\n",
    "$$\n",
    "\\frac{dJ}{dS} = ? \n",
    "$$\n",
    "\n",
    "You may use one of the following approaches:"
   ]
  },
  {
   "cell_type": "markdown",
   "metadata": {
    "id": "4kDQ4CTa3jRk"
   },
   "source": [
    "#### First approach\n",
    "Using ex.2 and the fact:\n",
    "$$\n",
    "|| X ||_F^2 = tr(XX^T) \n",
    "$$ \n",
    "it is easy to derive gradients (you can find it in one of the refs). \n",
    "\n",
    "\n",
    "## <font color=blue>Answer:</font>\n",
    "\n",
    "Let's apply the first approach with  the following reasoning:\n",
    "\n",
    "\\begin{align*}\n",
    "\t\\varphi(S) &= \\mathrm{tr}AS\\\\\n",
    "\td\\varphi &= \\mathrm{tr}AdS \\implies \\frac{d\\varphi}{dS} = A^{\\top}\n",
    "\\end{align*}\n",
    "\n",
    "We also apply the following properties of traces:\n",
    "\n",
    "## P1: ![alt text](https://i.ibb.co/r4gKy35/Screen-Shot-2020-10-25-at-14-16-37.png)\n",
    "\n",
    "## P2: ![alt text](https://i.ibb.co/MhWkrD7/Screen-Shot-2020-10-25-at-14-16-45.png)\n",
    "\n",
    "So\n",
    "\n",
    "\\begin{align*}\n",
    "\tJ &= || X - AS ||_F^2\\\\\n",
    "\t  &= \\mathrm{tr}(X-AS)^{\\top}(X-AS)\\\\\n",
    "\t  &= \\underbrace{\\mathrm{tr}X^{\\top}X}_{(1)} - \\underbrace{\\mathrm{tr}X^{\\top}(AS)}_{(2)} - \\underbrace{\\mathrm{tr}(AS)^{\\top}X}_{(3)} + \\underbrace{\\mathrm{tr}(AS)^{\\top}AS}_{(4)}\\\\\n",
    "\\end{align*}\n",
    "\n",
    "## (1):\n",
    "\n",
    "$$\n",
    "\\varphi = \\mathrm{tr}X^{\\top}X \\implies \\frac{d\\varphi}{dS} = 0\n",
    "$$\n",
    "\n",
    "\n",
    "## (2):\n",
    "\n",
    "\\begin{align*}\n",
    "\t\\mathrm{tr}X^{\\top}(AS) &= \\mathrm{tr}(X^{\\top}A)S = \\varphi\\\\\n",
    "\td\\varphi &= \\mathrm{tr}(X^{\\top}A)dS\\\\\n",
    "\t\\implies \\frac{d\\varphi}{dS} &= A^{\\top}X\\\\\n",
    "\\end{align*}\n",
    "\n",
    "## (3):\n",
    "\n",
    "\\begin{align*}\n",
    "\t\\mathrm{tr}(AS)^{\\top}X &\\overset{\\text{P1}}{=} \\mathrm{tr}X^{\\top}AS = \\varphi\\\\\n",
    "\td\\varphi &= \\mathrm{tr}(X^{\\top}A)dS\\\\\n",
    "\t\\implies \\frac{d\\varphi}{dS} &= A^{\\top}X\\\\\n",
    "\\end{align*}\n",
    "\n",
    "## (4):\n",
    "\n",
    "\\begin{align*}\n",
    "\t\\mathrm{tr}S^{\\top}A^{\\top}AS &\\overset{\\text{P1}}{=} \\mathrm{tr}A^{\\top}ASS^{\\top} = \\varphi\\\\\n",
    "\td\\varphi &= \\mathrm{tr}(A^{\\top}AdSS^{\\top} + A^{\\top}ASdS^{\\top})\\\\\n",
    "\t&= \\underbrace{\\mathrm{tr}(A^{\\top}AdSS^{\\top})}_{\\text{apply P2}} + \\underbrace{\\mathrm{tr}A^{\\top}ASdS^{\\top}}_{\\text{apply P1 with } dS^{\\top} = (dS)^{\\top}}\\\\\n",
    "\t&= \\mathrm{tr}(S^{\\top}A^{\\top}AdS) + \\mathrm{tr}((A^{\\top}AS)^{\\top}dS)\\\\\n",
    "\t&= \\mathrm{tr}(S^{\\top}A^{\\top}A + S^{\\top}A^{\\top}A)dS\\\\\n",
    "\t\\implies  \\frac{d\\varphi}{dS} &= 2(S^{\\top}A^{\\top}A)^{\\top} = 2A^{\\top}AS\\\\\n",
    "\\end{align*}\n",
    "\n",
    "Therefore\n",
    "\n",
    "$$\n",
    "\t\\implies \\frac{dJ}{dS} = 0 - 2A^{\\top}X + 2A^{\\top}AS = 2A^{\\top}(AS - X)\n",
    "$$"
   ]
  },
  {
   "cell_type": "markdown",
   "metadata": {
    "collapsed": true,
    "id": "rREYNozE3jRk"
   },
   "source": [
    "----\n",
    "\n",
    "----\n",
    "\n",
    "\n",
    "#### Second approach\n",
    "You can use *slightly different techniques* if they suits you. Take a look at this derivation:\n",
    "<img src=\"https://github.com/girafe-ai/ml-mipt/blob/basic_f20/homeworks_basic/Lab1_ML_pipeline_and_SVM/grad.png?raw=1\">\n",
    "(excerpt from [Handbook of blind source separation, Jutten, page 517](https://books.google.ru/books?id=PTbj03bYH6kC&printsec=frontcover&dq=Handbook+of+Blind+Source+Separation&hl=en&sa=X&ved=0ahUKEwi-q_apiJDLAhULvXIKHVXJDWcQ6AEIHDAA#v=onepage&q=Handbook%20of%20Blind%20Source%20Separation&f=false), open for better picture)."
   ]
  },
  {
   "cell_type": "markdown",
   "metadata": {
    "collapsed": true,
    "id": "NDoBMPZq3jRl"
   },
   "source": [
    "#### Third approach\n",
    "And finally we can use chain rule! \n",
    "let $ F = AS $ \n",
    "\n",
    "**Find**\n",
    "$$\n",
    "\\frac{dJ}{dF} =  \n",
    "$$ \n",
    "and \n",
    "$$\n",
    "\\frac{dF}{dS} =  \n",
    "$$ \n",
    "(the shape should be $ NM \\times RM )$.\n",
    "\n",
    "Now it is easy do get desired gradients:\n",
    "$$\n",
    "\\frac{dJ}{dS} =  \n",
    "$$ "
   ]
  },
  {
   "cell_type": "code",
   "execution_count": null,
   "metadata": {
    "collapsed": true,
    "id": "hibUxS073jRm"
   },
   "outputs": [],
   "source": []
  }
 ],
 "metadata": {
  "colab": {
   "name": "Lab1_part1_differentiation.ipynb",
   "provenance": []
  },
  "kernelspec": {
   "display_name": "Python 3",
   "language": "python",
   "name": "python3"
  },
  "language_info": {
   "codemirror_mode": {
    "name": "ipython",
    "version": 3
   },
   "file_extension": ".py",
   "mimetype": "text/x-python",
   "name": "python",
   "nbconvert_exporter": "python",
   "pygments_lexer": "ipython3",
   "version": "3.6.4"
  }
 },
 "nbformat": 4,
 "nbformat_minor": 1
}
