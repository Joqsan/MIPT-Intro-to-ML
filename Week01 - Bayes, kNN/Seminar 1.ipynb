{
 "cells": [
  {
   "cell_type": "markdown",
   "metadata": {},
   "source": [
    "# 1. Warm-up test\n",
    "\n",
    "\n",
    "## Q5.\n",
    "\n",
    "Imagine you are using kNN for regression problem, and all the objects have target values equal to 1 and -1. Can any test example get predicted target value -2?\n",
    "\n",
    "No. Since we get do regression we take the average and $-1 = \\text{min value} \\leq \\text{average} \\leq \\text{max value} = 1$."
   ]
  },
  {
   "cell_type": "markdown",
   "metadata": {},
   "source": [
    "- We suppose that features are independent and have normal distribution\n",
    "- $P(y_i = C_k) = 1/3$. There are only $3$ classes."
   ]
  },
  {
   "cell_type": "code",
   "execution_count": null,
   "metadata": {
    "collapsed": true
   },
   "outputs": [],
   "source": []
  }
 ],
 "metadata": {
  "kernelspec": {
   "display_name": "Python 3",
   "language": "python",
   "name": "python3"
  },
  "language_info": {
   "codemirror_mode": {
    "name": "ipython",
    "version": 3
   },
   "file_extension": ".py",
   "mimetype": "text/x-python",
   "name": "python",
   "nbconvert_exporter": "python",
   "pygments_lexer": "ipython3",
   "version": "3.6.4"
  }
 },
 "nbformat": 4,
 "nbformat_minor": 2
}
