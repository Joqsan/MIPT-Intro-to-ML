{
 "cells": [
  {
   "cell_type": "markdown",
   "metadata": {
    "id": "wTkr6JMcCqB8"
   },
   "source": [
    "## week0_09 practice: PyTorch practice, hints and Dataloaders"
   ]
  },
  {
   "cell_type": "markdown",
   "metadata": {
    "id": "THZhW8BcCqCB"
   },
   "source": [
    "Credits:\n",
    "* First part is based on YSDA [Practical RL course week04 materials](https://github.com/yandexdataschool/Practical_RL/tree/master/week04_%5Brecap%5D_deep_learning).\n",
    "* Second part is based on PyTorch official tutorials and [this kaggle kernel](https://www.kaggle.com/pinocookie/pytorch-dataset-and-dataloader)\n",
    "* Third part is based on PyTorch tutorial by [Stanford CS 231n course](http://cs231n.stanford.edu)"
   ]
  },
  {
   "cell_type": "markdown",
   "metadata": {
    "id": "yu1Sj4mWCqCD"
   },
   "source": [
    "![img](https://pytorch.org/tutorials/_static/pytorch-logo-dark.svg)\n",
    "\n",
    "__This notebook__ will remind you how to use pytorch low and high-level core. You can install it [here](http://pytorch.org/).\n",
    "\n",
    "__Pytorch feels__ differently than other frameworks (like tensorflow/theano) on almost every level. TensorFlow makes your code live in two \"worlds\" simultaneously:  symbolic graphs and actual tensors. First you declare a symbolic \"recipe\" of how to get from inputs to outputs, then feed it with actual minibatches of data.  In pytorch, __there's only one world__: all tensors have a numeric value.\n",
    "\n",
    "You compute outputs on the fly without pre-declaring anything. The code looks exactly as in pure numpy with one exception: pytorch computes gradients for you. And can run stuff on GPU. And has a number of pre-implemented building blocks for your neural nets. [And a few more things.](https://medium.com/towards-data-science/pytorch-vs-tensorflow-spotting-the-difference-25c75777377b)\n",
    "\n",
    "Let's dive into it!"
   ]
  },
  {
   "cell_type": "code",
   "execution_count": null,
   "metadata": {
    "ExecuteTime": {
     "end_time": "2020-02-28T00:59:42.103233Z",
     "start_time": "2020-02-28T00:59:42.099338Z"
    },
    "id": "Ka8ee78-CqCF"
   },
   "outputs": [],
   "source": [
    "import numpy as np # linear algebra\n",
    "import pandas as pd # data processing, CSV file I/O (e.g. pd.read_csv)\n",
    "import matplotlib.pyplot as plt\n",
    "\n",
    "import torch\n",
    "from torch.utils.data import DataLoader, Dataset, Subset\n",
    "import torchvision\n",
    "from torchvision import transforms"
   ]
  },
  {
   "cell_type": "markdown",
   "metadata": {
    "id": "JMCowyk4CqCK"
   },
   "source": [
    "### Task 1: Tensormancy\n",
    "\n",
    "__1.1 The [_disclaimer_](https://gist.githubusercontent.com/justheuristic/e2c1fa28ca02670cabc42cacf3902796/raw/fd3d935cef63a01b85ed2790b5c11c370245cbd7/stddisclaimer.h)__\n",
    "\n",
    "Let's write another function, this time in polar coordinates:\n",
    "$$\\rho(\\theta) = (1 + 0.9 \\cdot cos (6 \\cdot \\theta) ) \\cdot (1 + 0.01 \\cdot cos(24 \\cdot \\theta)) \\cdot (0.5 + 0.05 \\cdot cos(200 \\cdot \\theta)) \\cdot (10 + sin(10 \\cdot \\theta))$$\n",
    "\n",
    "\n",
    "Then convert it into cartesian coordinates ([howto](http://www.mathsisfun.com/polar-cartesian-coordinates.html)) and plot the results.\n",
    "\n",
    "Use torch tensors only: no lists, loops, numpy arrays, etc."
   ]
  },
  {
   "cell_type": "code",
   "execution_count": null,
   "metadata": {
    "ExecuteTime": {
     "end_time": "2020-02-28T00:13:20.890514Z",
     "start_time": "2020-02-28T00:13:20.639022Z"
    },
    "id": "UqTPRWcHCqCM"
   },
   "outputs": [],
   "source": [
    "theta = torch.linspace(-np.pi, np.pi, steps=1000)\n",
    "\n",
    "# compute rho(theta) as per formula above\n",
    "rho = ### YOUR CODE HERE\n",
    "\n",
    "# Now convert polar (rho, theta) pairs into cartesian (x,y) to plot them.\n",
    "x = ### YOUR CODE HERE\n",
    "y = ### YOUR CODE HERE\n",
    "\n",
    "\n",
    "plt.figure(figsize=(6, 6))\n",
    "plt.fill(x.numpy(), y.numpy(), color='red')\n",
    "plt.grid()"
   ]
  },
  {
   "cell_type": "markdown",
   "metadata": {
    "id": "YgfDWCSPCqCP"
   },
   "source": [
    "### Task 2: Using the Dataloader"
   ]
  },
  {
   "cell_type": "code",
   "execution_count": null,
   "metadata": {
    "ExecuteTime": {
     "end_time": "2020-02-28T00:13:20.896055Z",
     "start_time": "2020-02-28T00:13:20.893241Z"
    },
    "id": "ag3DWHqpCqCQ"
   },
   "outputs": [],
   "source": [
    "from torch import nn\n",
    "from torch.nn import functional as F"
   ]
  },
  {
   "cell_type": "code",
   "execution_count": null,
   "metadata": {
    "ExecuteTime": {
     "end_time": "2020-02-28T00:13:21.223097Z",
     "start_time": "2020-02-28T00:13:21.220643Z"
    },
    "id": "jK-bITu8CqCW"
   },
   "outputs": [],
   "source": [
    "!wget https://raw.githubusercontent.com/girafe-ai/ml-mipt/basic_s20/week0_09_Optimization_and_Regularization_in_DL/notmnist.py -nc"
   ]
  },
  {
   "cell_type": "code",
   "execution_count": null,
   "metadata": {
    "ExecuteTime": {
     "end_time": "2020-02-28T00:13:24.681345Z",
     "start_time": "2020-02-28T00:13:21.715775Z"
    },
    "id": "bO8-l4c3CqCa"
   },
   "outputs": [],
   "source": [
    "from notmnist import load_notmnist\n",
    "X_train, y_train, X_test, y_test = load_notmnist()"
   ]
  },
  {
   "cell_type": "code",
   "execution_count": null,
   "metadata": {
    "ExecuteTime": {
     "end_time": "2020-02-28T08:04:08.525398Z",
     "start_time": "2020-02-28T08:04:08.519240Z"
    },
    "id": "a7aFQhl8CqCe"
   },
   "outputs": [],
   "source": [
    "class DatasetMNIST(Dataset):\n",
    "    def __init__(self, path='./notMNIST_small', letters='ABCDEFGHIJ', transform=None):\n",
    "        self.data, self.labels, _ ,_  = load_notmnist(path=path, letters=letters, test_size=0)\n",
    "        self.transform = transform\n",
    "\n",
    "    def __len__(self):\n",
    "        return len(self.data)\n",
    "\n",
    "    def __getitem__(self, index):\n",
    "        # load image as ndarray type (Height * Width * Channels)\n",
    "        # be carefull for converting dtype to np.uint8 [Unsigned integer (0 to 255)]\n",
    "        # in this example, i don't use ToTensor() method of torchvision.transforms\n",
    "        # so you can convert numpy ndarray shape to tensor in PyTorch (H, W, C) --> (C, H, W)\n",
    "        image = self.data[index].transpose(1, 2, 0)\n",
    "        label = self.labels[index]\n",
    "\n",
    "        if self.transform is not None:\n",
    "            image = self.transform(image)\n",
    "\n",
    "        return image, label"
   ]
  },
  {
   "cell_type": "code",
   "execution_count": null,
   "metadata": {
    "ExecuteTime": {
     "end_time": "2020-02-28T08:04:19.890914Z",
     "start_time": "2020-02-28T08:04:19.336026Z"
    },
    "id": "cLUhED25CqCh"
   },
   "outputs": [],
   "source": [
    "full_dataset = DatasetMNIST('./notMNIST_small', 'AB', transform=None)"
   ]
  },
  {
   "cell_type": "code",
   "execution_count": null,
   "metadata": {
    "ExecuteTime": {
     "end_time": "2020-02-28T08:05:36.271686Z",
     "start_time": "2020-02-28T08:05:36.267914Z"
    },
    "id": "xd0AWkiRCqCo"
   },
   "outputs": [],
   "source": [
    "# we can access and get data with index by __getitem__(index)\n",
    "img, lab = full_dataset.__getitem__(0)\n",
    "\n",
    "print(img.shape)\n",
    "print(type(img))"
   ]
  },
  {
   "cell_type": "code",
   "execution_count": null,
   "metadata": {
    "ExecuteTime": {
     "end_time": "2020-02-28T08:05:39.406582Z",
     "start_time": "2020-02-28T08:05:39.402397Z"
    },
    "id": "kJaaxZlBCqCt"
   },
   "outputs": [],
   "source": [
    "a = torchvision.transforms.ToTensor()\n",
    "\n",
    "a(img).shape"
   ]
  },
  {
   "cell_type": "code",
   "execution_count": null,
   "metadata": {
    "ExecuteTime": {
     "end_time": "2020-02-28T00:13:37.378205Z",
     "start_time": "2020-02-28T00:13:37.115219Z"
    },
    "id": "cVvb6W4lCqCx"
   },
   "outputs": [],
   "source": [
    "inds = np.random.randint(len(full_dataset), size=2)\n",
    "\n",
    "for i in range(2):\n",
    "    plt.subplot(1, 2, i + 1)\n",
    "    plt.imshow(full_dataset[inds[i]][0].reshape([28,28]))\n",
    "    plt.title(str(full_dataset[inds[i]][1]))"
   ]
  },
  {
   "cell_type": "markdown",
   "metadata": {
    "id": "9n_6ilObCqC3"
   },
   "source": [
    "#### To the DataLoader"
   ]
  },
  {
   "cell_type": "code",
   "execution_count": null,
   "metadata": {
    "ExecuteTime": {
     "end_time": "2020-02-28T00:13:38.561437Z",
     "start_time": "2020-02-28T00:13:38.558371Z"
    },
    "id": "IHD0xZAfCqC3"
   },
   "outputs": [],
   "source": [
    "train_loader = DataLoader(full_dataset, batch_size=8, shuffle=True)"
   ]
  },
  {
   "cell_type": "markdown",
   "metadata": {
    "id": "P9LVKJmACqC7"
   },
   "source": [
    "We can use dataloader as iterator by using iter() function."
   ]
  },
  {
   "cell_type": "code",
   "execution_count": null,
   "metadata": {
    "ExecuteTime": {
     "end_time": "2020-02-28T00:13:39.386457Z",
     "start_time": "2020-02-28T00:13:39.382386Z"
    },
    "id": "jQKv8m4pCqC8"
   },
   "outputs": [],
   "source": [
    "train_iter = iter(train_loader)\n",
    "print(type(train_iter))"
   ]
  },
  {
   "cell_type": "markdown",
   "metadata": {
    "id": "AKXsSvNWCqC_"
   },
   "source": [
    "We can look at images and labels of batch size by extracting data `.next()` method."
   ]
  },
  {
   "cell_type": "code",
   "execution_count": null,
   "metadata": {
    "ExecuteTime": {
     "end_time": "2020-02-28T00:13:40.508098Z",
     "start_time": "2020-02-28T00:13:40.502629Z"
    },
    "id": "RaCvg7CtCqDA"
   },
   "outputs": [],
   "source": [
    "images, labels = train_iter.next()\n",
    "\n",
    "print('images shape on batch size = {}'.format(images.size()))\n",
    "print('labels shape on batch size = {}'.format(labels.size()))"
   ]
  },
  {
   "cell_type": "code",
   "execution_count": null,
   "metadata": {
    "ExecuteTime": {
     "end_time": "2020-02-28T00:13:41.593728Z",
     "start_time": "2020-02-28T00:13:41.506364Z"
    },
    "id": "2E7dUOXeCqDJ"
   },
   "outputs": [],
   "source": [
    "# make grid takes tensor as arg\n",
    "# tensor : (batchsize, channels, height, width)\n",
    "grid = torchvision.utils.make_grid(images.permute([0, 3, 1, 2]))\n",
    "\n",
    "plt.imshow(grid.numpy().transpose((1, 2, 0)))\n",
    "plt.axis('off')\n",
    "plt.title(labels.numpy());"
   ]
  },
  {
   "cell_type": "markdown",
   "metadata": {
    "id": "k344Y88TCqDN"
   },
   "source": [
    "And now with transformations:"
   ]
  },
  {
   "cell_type": "code",
   "execution_count": null,
   "metadata": {
    "ExecuteTime": {
     "end_time": "2020-02-28T00:13:48.795066Z",
     "start_time": "2020-02-28T00:13:46.451771Z"
    },
    "id": "JAYZx8y_CqDO"
   },
   "outputs": [],
   "source": [
    "train_dataset_with_transform = DatasetMNIST(\n",
    "    transform=torchvision.transforms.ToTensor()\n",
    ")"
   ]
  },
  {
   "cell_type": "code",
   "execution_count": null,
   "metadata": {
    "ExecuteTime": {
     "end_time": "2020-02-28T00:13:48.801336Z",
     "start_time": "2020-02-28T00:13:48.797410Z"
    },
    "id": "vD2ZCl0PCqDS"
   },
   "outputs": [],
   "source": [
    "img, lab = train_dataset_with_transform.__getitem__(0)\n",
    "\n",
    "print('image shape at the first row : {}'.format(img.size()))"
   ]
  },
  {
   "cell_type": "code",
   "execution_count": null,
   "metadata": {
    "ExecuteTime": {
     "end_time": "2020-02-28T00:13:52.064233Z",
     "start_time": "2020-02-28T00:13:52.057623Z"
    },
    "id": "ZRqJDi9JCqDV"
   },
   "outputs": [],
   "source": [
    "train_loader_tr = DataLoader(train_dataset_with_transform, batch_size=8, shuffle=True)\n",
    "\n",
    "train_iter_tr = iter(train_loader_tr)\n",
    "print(type(train_iter_tr))\n",
    "\n",
    "images, labels = train_iter_tr.next()\n",
    "\n",
    "print('images shape on batch size = {}'.format(images.size()))\n",
    "print('labels shape on batch size = {}'.format(labels.size()))"
   ]
  },
  {
   "cell_type": "code",
   "execution_count": null,
   "metadata": {
    "ExecuteTime": {
     "end_time": "2020-02-28T00:13:53.200621Z",
     "start_time": "2020-02-28T00:13:53.062965Z"
    },
    "id": "boSkrt4nCqDa"
   },
   "outputs": [],
   "source": [
    "grid = torchvision.utils.make_grid(images)\n",
    "\n",
    "plt.imshow(grid.numpy().transpose((1, 2, 0)))\n",
    "plt.axis('off')\n",
    "plt.title(labels.numpy());"
   ]
  },
  {
   "cell_type": "markdown",
   "metadata": {
    "id": "C8PuX7VvCqDd"
   },
   "source": [
    "### Composing several transformations"
   ]
  },
  {
   "cell_type": "markdown",
   "metadata": {
    "id": "9WSeZCxwCqDd"
   },
   "source": [
    "If you want to take data augmentation, you have to make List using `torchvision.transforms.Compose`\n",
    "\n",
    "```\n",
    "class Compose(object):\n",
    "    \"\"\"Composes several transforms together.\n",
    "    Args:\n",
    "        transforms (list of ``Transform`` objects): list of transforms to compose.\n",
    "    Example:\n",
    "        >>> transforms.Compose([\n",
    "        >>>     transforms.CenterCrop(10),\n",
    "        >>>     transforms.ToTensor(),\n",
    "        >>> ])\n",
    "    \"\"\"\n",
    "\n",
    "    def __init__(self, transforms):\n",
    "        self.transforms = transforms\n",
    "\n",
    "    def __call__(self, img):\n",
    "        for t in self.transforms:\n",
    "            img = t(img)\n",
    "        return img\n",
    "\n",
    "    def __repr__(self):\n",
    "        format_string = self.__class__.__name__ + '('\n",
    "        for t in self.transforms:\n",
    "            format_string += '\\n'\n",
    "            format_string += '    {0}'.format(t)\n",
    "        format_string += '\\n)'\n",
    "        return format_string\n",
    "```\n",
    "\n",
    "\n",
    "this function can convert some image by order within `__call__` method."
   ]
  },
  {
   "cell_type": "code",
   "execution_count": null,
   "metadata": {
    "ExecuteTime": {
     "end_time": "2020-02-28T00:13:54.766219Z",
     "start_time": "2020-02-28T00:13:54.762711Z"
    },
    "id": "SGpE_KRwCqDe"
   },
   "outputs": [],
   "source": [
    "class Flatten():\n",
    "    def __call__(self, pic):\n",
    "        return pic.flatten()\n",
    "\n",
    "    def __repr__(self):\n",
    "        return self.__class__.__name__ + '()'"
   ]
  },
  {
   "cell_type": "code",
   "execution_count": null,
   "metadata": {
    "ExecuteTime": {
     "end_time": "2020-02-28T00:13:55.430127Z",
     "start_time": "2020-02-28T00:13:55.427338Z"
    },
    "id": "4Bi25pYgCqDh"
   },
   "outputs": [],
   "source": [
    "a = Flatten()"
   ]
  },
  {
   "cell_type": "code",
   "execution_count": null,
   "metadata": {
    "ExecuteTime": {
     "end_time": "2020-02-28T00:13:56.147330Z",
     "start_time": "2020-02-28T00:13:56.143060Z"
    },
    "id": "9IvsyuT9CqDm"
   },
   "outputs": [],
   "source": [
    "a(img).shape"
   ]
  },
  {
   "cell_type": "code",
   "execution_count": null,
   "metadata": {
    "ExecuteTime": {
     "end_time": "2020-02-28T00:13:56.918185Z",
     "start_time": "2020-02-28T00:13:56.915283Z"
    },
    "id": "bfXThsbKCqDq"
   },
   "outputs": [],
   "source": [
    "new_transform = torchvision.transforms.Compose([\n",
    "    torchvision.transforms.ToTensor(),\n",
    "    Flatten()\n",
    "])"
   ]
  },
  {
   "cell_type": "markdown",
   "metadata": {
    "id": "F8ErGojTCqDt"
   },
   "source": [
    "# Putting all together"
   ]
  },
  {
   "cell_type": "code",
   "execution_count": null,
   "metadata": {
    "ExecuteTime": {
     "end_time": "2020-02-28T09:37:37.781950Z",
     "start_time": "2020-02-28T09:37:37.779388Z"
    },
    "id": "DWAAN_JPCqDv"
   },
   "outputs": [],
   "source": [
    "import time\n",
    "\n",
    "from IPython.display import clear_output"
   ]
  },
  {
   "cell_type": "code",
   "execution_count": null,
   "metadata": {
    "ExecuteTime": {
     "end_time": "2020-02-28T00:56:29.075866Z",
     "start_time": "2020-02-28T00:56:29.071564Z"
    },
    "id": "cPQ0xw0iCqDz"
   },
   "outputs": [],
   "source": [
    "# use GPU if available\n",
    "device = torch.device(\"cuda\") if torch.cuda.is_available() else torch.device(\"cpu\")\n",
    "device"
   ]
  },
  {
   "cell_type": "code",
   "execution_count": null,
   "metadata": {
    "ExecuteTime": {
     "end_time": "2020-02-28T09:28:18.459203Z",
     "start_time": "2020-02-28T09:28:18.455997Z"
    },
    "id": "KTRH3tQ6CqD4"
   },
   "outputs": [],
   "source": [
    "def subset_ind(dataset, ratio: float):\n",
    "#     return ### YOUR CODE HERE\n",
    "    return np.random.choice(len(dataset), size=int(ratio*len(dataset)), replace=False)"
   ]
  },
  {
   "cell_type": "code",
   "execution_count": null,
   "metadata": {
    "ExecuteTime": {
     "end_time": "2020-02-28T09:32:54.001780Z",
     "start_time": "2020-02-28T09:32:51.635588Z"
    },
    "id": "Z0ppuEBDCqD8"
   },
   "outputs": [],
   "source": [
    "dataset = DatasetMNIST(\n",
    "    './notMNIST_small',\n",
    "#     'AB',\n",
    "    transform=new_transform\n",
    ")\n",
    "\n",
    "shrink_inds = subset_ind(dataset, 0.2)\n",
    "dataset = Subset(dataset, shrink_inds)\n",
    "\n",
    "print(f'\\n\\n dataset size: {len(dataset)}, labels: {np.unique(dataset.dataset.labels)}')"
   ]
  },
  {
   "cell_type": "code",
   "execution_count": null,
   "metadata": {
    "id": "zdv_xNzjCqD_"
   },
   "outputs": [],
   "source": [
    ""
   ]
  },
  {
   "cell_type": "code",
   "execution_count": null,
   "metadata": {
    "ExecuteTime": {
     "end_time": "2020-02-28T09:32:54.028315Z",
     "start_time": "2020-02-28T09:32:54.004282Z"
    },
    "id": "gk41kL8RCqEC"
   },
   "outputs": [],
   "source": [
    "val_size = 0.2\n",
    "val_inds = subset_ind(dataset, val_size)\n",
    "\n",
    "train_dataset = Subset(dataset, [i for i in range(len(dataset)) if i not in val_inds])\n",
    "val_dataset = Subset(dataset, val_inds)\n",
    "\n",
    "print(f'  training size: {len(train_dataset)}\\nvalidation size: {len(val_dataset)}')"
   ]
  },
  {
   "cell_type": "code",
   "execution_count": null,
   "metadata": {
    "ExecuteTime": {
     "end_time": "2020-02-28T09:32:59.926520Z",
     "start_time": "2020-02-28T09:32:59.922784Z"
    },
    "id": "lIY1EZxcCqEG"
   },
   "outputs": [],
   "source": [
    "batch_size = 32\n",
    "\n",
    "train_loader = DataLoader(train_dataset, batch_size=batch_size, shuffle=True)\n",
    "val_loader = DataLoader(val_dataset, batch_size=batch_size, shuffle=True)"
   ]
  },
  {
   "cell_type": "code",
   "execution_count": null,
   "metadata": {
    "ExecuteTime": {
     "end_time": "2020-02-28T09:33:00.954231Z",
     "start_time": "2020-02-28T09:33:00.947835Z"
    },
    "id": "yb2-5BCTCqEM"
   },
   "outputs": [],
   "source": [
    "train_iter = iter(train_loader)\n",
    "print(type(train_iter))\n",
    "\n",
    "images, labels = train_iter.next()\n",
    "\n",
    "print('images shape on batch size = {}'.format(images.size()))\n",
    "print('labels shape on batch size = {}'.format(labels.size()))"
   ]
  },
  {
   "cell_type": "code",
   "execution_count": null,
   "metadata": {
    "ExecuteTime": {
     "end_time": "2020-02-28T09:35:42.679368Z",
     "start_time": "2020-02-28T09:35:42.676594Z"
    },
    "id": "lkqkMU00CqEP"
   },
   "outputs": [],
   "source": [
    "loss_func = nn.CrossEntropyLoss()"
   ]
  },
  {
   "cell_type": "code",
   "execution_count": null,
   "metadata": {
    "ExecuteTime": {
     "end_time": "2020-02-28T09:35:44.204284Z",
     "start_time": "2020-02-28T09:35:44.199944Z"
    },
    "id": "y42CIwfcCqER"
   },
   "outputs": [],
   "source": [
    "# create network again just in case\n",
    "model = nn.Sequential(\n",
    "    nn.Linear(784, 10),\n",
    "    nn.Sigmoid(),\n",
    ")\n",
    "model.to(device, torch.float32)\n",
    "\n",
    "opt = torch.optim.Adam(model.parameters(), lr=1e-3)"
   ]
  },
  {
   "cell_type": "code",
   "execution_count": null,
   "metadata": {
    "ExecuteTime": {
     "end_time": "2020-02-28T09:33:02.897035Z",
     "start_time": "2020-02-28T09:33:02.884404Z"
    },
    "id": "Kf9uRHKdCqEU"
   },
   "outputs": [],
   "source": [
    "def train_model(model, train_loader, val_loader, loss_fn, opt, n_epochs: int):\n",
    "    '''\n",
    "    model: нейросеть для обучения,\n",
    "    train_loader, val_loader: загрузчики данных\n",
    "    loss_fn: целевая метрика (которую будем оптимизировать)\n",
    "    opt: оптимизатор (обновляет веса нейросети)\n",
    "    n_epochs: кол-во эпох, полных проходов датасета\n",
    "    '''\n",
    "    train_loss = []\n",
    "    val_loss = []\n",
    "    val_accuracy = []\n",
    "    \n",
    "    for epoch in range(n_epochs):\n",
    "        ep_train_loss = []\n",
    "        ep_val_loss = []\n",
    "        ep_val_accuracy = []\n",
    "        start_time = time.time()\n",
    "\n",
    "        model.train(True) # enable dropout / batch_norm training behavior\n",
    "        for X_batch, y_batch in train_loader:\n",
    "            # move data to target device\n",
    "            ### YOUR CODE HERE\n",
    "\n",
    "            # train on batch: compute loss, calc grads, perform optimizer step and zero the grads\n",
    "            ### YOUR CODE HERE\n",
    "            ep_train_loss.append(loss.item())\n",
    "\n",
    "        model.train(False) # disable dropout / use averages for batch_norm\n",
    "        with torch.no_grad():\n",
    "            for X_batch, y_batch in val_loader:\n",
    "                # move data to target device\n",
    "                ### YOUR CODE HERE\n",
    "\n",
    "                # compute predictions\n",
    "                ### YOUR CODE HERE\n",
    "                ep_val_loss.append(### YOUR CODE HERE)\n",
    "                y_pred = ### YOUR CODE HERE\n",
    "                ep_val_accuracy.append(### YOUR CODE HERE)\n",
    "\n",
    "        # print the results for this epoch:\n",
    "        print(f'Epoch {epoch + 1} of {n_epochs} took {time.time() - start_time:.3f}s')\n",
    "\n",
    "        train_loss.append(np.mean(ep_train_loss))\n",
    "        val_loss.append(np.mean(ep_val_loss))\n",
    "        val_accuracy.append(np.mean(ep_val_accuracy))\n",
    "        \n",
    "        print(f\"\\t  training loss: {train_loss[-1]:.6f}\")\n",
    "        print(f\"\\tvalidation loss: {val_loss[-1]:.6f}\")\n",
    "        print(f\"\\tvalidation accuracy: {val_accuracy[-1]:.3f}\")\n",
    "\n",
    "    return train_loss, val_loss, val_accuracy"
   ]
  },
  {
   "cell_type": "code",
   "execution_count": null,
   "metadata": {
    "ExecuteTime": {
     "end_time": "2020-02-28T09:33:33.252494Z",
     "start_time": "2020-02-28T09:33:28.712014Z"
    },
    "id": "HGGkeB7KCqEY",
    "scrolled": true
   },
   "outputs": [],
   "source": [
    "n_epochs = 30\n",
    "\n",
    "train_loss, val_loss, val_accuracy = train_model(model, train_loader, val_loader, loss_func, opt, n_epochs)"
   ]
  },
  {
   "cell_type": "code",
   "execution_count": null,
   "metadata": {
    "ExecuteTime": {
     "end_time": "2020-02-28T09:33:35.242213Z",
     "start_time": "2020-02-28T09:33:35.237045Z"
    },
    "id": "nVyT_WaWCqEc"
   },
   "outputs": [],
   "source": [
    "def plot_train_process(train_loss, val_loss, val_accuracy):\n",
    "    fig, axes = plt.subplots(1, 2, figsize=(15, 5))\n",
    "\n",
    "    axes[0].set_title('Loss')\n",
    "    axes[0].plot(train_loss, label='train')\n",
    "    axes[0].plot(val_loss, label='validation')\n",
    "    axes[0].legend()\n",
    "\n",
    "    axes[1].set_title('Validation accuracy')\n",
    "    axes[1].plot(val_accuracy)"
   ]
  },
  {
   "cell_type": "code",
   "execution_count": null,
   "metadata": {
    "ExecuteTime": {
     "end_time": "2020-02-28T09:33:36.057391Z",
     "start_time": "2020-02-28T09:33:35.611228Z"
    },
    "id": "SD_w5N41CqEf"
   },
   "outputs": [],
   "source": [
    "plot_train_process(train_loss, val_loss, val_accuracy)"
   ]
  },
  {
   "cell_type": "markdown",
   "metadata": {
    "id": "9XcAzde9CqEj"
   },
   "source": [
    "## Real network"
   ]
  },
  {
   "cell_type": "code",
   "execution_count": null,
   "metadata": {
    "ExecuteTime": {
     "end_time": "2020-02-28T09:44:50.420339Z",
     "start_time": "2020-02-28T09:44:50.406364Z"
    },
    "id": "kPMlEgJTCqEk"
   },
   "outputs": [],
   "source": [
    "# create network again just in case\n",
    "model = nn.Sequential(\n",
    "    nn.Linear(784, 500),\n",
    "    nn.ReLU(),\n",
    "    nn.Linear(500, 200),\n",
    "    nn.ReLU(),\n",
    "    nn.Linear(200, 10),\n",
    "    nn.Sigmoid(),\n",
    ")\n",
    "model.to(device, torch.float32)\n",
    "\n",
    "opt = torch.optim.Adam(model.parameters(), lr=1e-3)"
   ]
  },
  {
   "cell_type": "code",
   "execution_count": null,
   "metadata": {
    "ExecuteTime": {
     "end_time": "2020-02-28T09:45:08.145156Z",
     "start_time": "2020-02-28T09:44:52.924801Z"
    },
    "id": "8_lI5LhICqEm",
    "scrolled": true
   },
   "outputs": [],
   "source": [
    "n_epochs = 30\n",
    "\n",
    "train_loss, val_loss, val_accuracy = train_model(model, train_loader, val_loader, loss_func, opt, n_epochs)"
   ]
  },
  {
   "cell_type": "code",
   "execution_count": null,
   "metadata": {
    "ExecuteTime": {
     "end_time": "2020-02-28T09:45:13.396284Z",
     "start_time": "2020-02-28T09:45:13.032994Z"
    },
    "id": "ChgAOs40CqEr"
   },
   "outputs": [],
   "source": [
    "plot_train_process(train_loss, val_loss, val_accuracy)"
   ]
  },
  {
   "cell_type": "markdown",
   "metadata": {
    "id": "ZIOvbt5zCqEu"
   },
   "source": [
    "## Your turn\n",
    "Try to add some additional transformations (e.g. random crop, rotation etc.) and train your model!"
   ]
  },
  {
   "cell_type": "markdown",
   "metadata": {
    "id": "XczAqmTxCqEv"
   },
   "source": [
    "### Dropout try"
   ]
  },
  {
   "cell_type": "code",
   "execution_count": null,
   "metadata": {
    "id": "y8mXZbM-CqEw"
   },
   "outputs": [],
   "source": [
    ""
   ]
  },
  {
   "cell_type": "markdown",
   "metadata": {
    "id": "icbA1k0rCqEy"
   },
   "source": [
    "### Batchnorm try"
   ]
  },
  {
   "cell_type": "code",
   "execution_count": null,
   "metadata": {
    "id": "TpnTBd8vCqEz"
   },
   "outputs": [],
   "source": [
    ""
   ]
  },
  {
   "cell_type": "markdown",
   "metadata": {
    "id": "2Qw9WqurCqE2"
   },
   "source": [
    "### 3. Save the model (model checkpointing)\n",
    "\n",
    "Now we have trained a model! Obviously we do not want to retrain the model everytime we want to use it. Plus if you are training a super big model, you probably want to save checkpoint periodically so that you can always fall back to the last checkpoint in case something bad happened or you simply want to test models at different training iterations.\n",
    "\n",
    "Model checkpointing is fairly simple in PyTorch. First, we define a helper function that can save a model to the disk"
   ]
  },
  {
   "cell_type": "code",
   "execution_count": null,
   "metadata": {
    "id": "9pnuVen3CqE2"
   },
   "outputs": [],
   "source": [
    "def save_checkpoint(checkpoint_path, model, optimizer):\n",
    "    # state_dict: a Python dictionary object that:\n",
    "    # - for a model, maps each layer to its parameter tensor;\n",
    "    # - for an optimizer, contains info about the optimizer’s states and hyperparameters used.\n",
    "    state = {\n",
    "        'state_dict': model.state_dict(),\n",
    "        'optimizer' : optimizer.state_dict()}\n",
    "    torch.save(state, checkpoint_path)\n",
    "    print('model saved to %s' % checkpoint_path)\n",
    "    \n",
    "def load_checkpoint(checkpoint_path, model, optimizer):\n",
    "    state = torch.load(checkpoint_path)\n",
    "    model.load_state_dict(state['state_dict'])\n",
    "    optimizer.load_state_dict(state['optimizer'])\n",
    "    print('model loaded from %s' % checkpoint_path)"
   ]
  },
  {
   "cell_type": "code",
   "execution_count": null,
   "metadata": {
    "id": "bsxNJhh7CqE8"
   },
   "outputs": [],
   "source": [
    "# create a brand new model\n",
    "model = Net().to(device)\n",
    "optimizer = optim.SGD(model.parameters(), lr=0.001, momentum=0.9)\n",
    "# Testing -- you should get a pretty poor performance since the model hasn't learned anything yet.\n",
    "test()"
   ]
  },
  {
   "cell_type": "markdown",
   "metadata": {
    "id": "YKxrgaP6CqFA"
   },
   "source": [
    "#### Define a training loop with model checkpointing"
   ]
  },
  {
   "cell_type": "code",
   "execution_count": null,
   "metadata": {
    "id": "te0P_FxbCqFB"
   },
   "outputs": [],
   "source": [
    "def train_save(epoch, save_interval, log_interval=100):\n",
    "    model.train()  # set training mode\n",
    "    iteration = 0\n",
    "    for ep in range(epoch):\n",
    "        for batch_idx, (data, target) in enumerate(trainset_loader):\n",
    "            data, target = data.to(device), target.to(device)\n",
    "            optimizer.zero_grad()\n",
    "            output = model(data)\n",
    "            loss = F.nll_loss(output, target)\n",
    "            loss.backward()\n",
    "            optimizer.step()\n",
    "            if iteration % log_interval == 0:\n",
    "                print('Train Epoch: {} [{}/{} ({:.0f}%)]\\tLoss: {:.6f}'.format(\n",
    "                    ep, batch_idx * len(data), len(trainset_loader.dataset),\n",
    "                    100. * batch_idx / len(trainset_loader), loss.item()))\n",
    "            # different from before: saving model checkpoints\n",
    "            if iteration % save_interval == 0 and iteration > 0:\n",
    "                save_checkpoint('mnist-%i.pth' % iteration, model, optimizer)\n",
    "            iteration += 1\n",
    "        test()\n",
    "    \n",
    "    # save the final model\n",
    "    save_checkpoint('mnist-%i.pth' % iteration, model, optimizer)"
   ]
  },
  {
   "cell_type": "code",
   "execution_count": null,
   "metadata": {
    "id": "Q2iXb16UCqFF"
   },
   "outputs": [],
   "source": [
    "train_save(5, save_interval=500, log_interval=100)"
   ]
  },
  {
   "cell_type": "code",
   "execution_count": null,
   "metadata": {
    "id": "U60CrOyKCqFK"
   },
   "outputs": [],
   "source": [
    "# create a new model\n",
    "model = Net().to(device)\n",
    "optimizer = optim.SGD(model.parameters(), lr=0.001, momentum=0.9)\n",
    "# load from the final checkpoint\n",
    "load_checkpoint('mnist-4690.pth', model, optimizer)\n",
    "# should give you the final model accuracy\n",
    "test()"
   ]
  },
  {
   "cell_type": "markdown",
   "metadata": {
    "id": "I7I_kz0eCqFN"
   },
   "source": [
    "```\n",
    "\n",
    "```\n",
    "\n",
    "```\n",
    "\n",
    "```\n",
    "\n",
    "```\n",
    "\n",
    "```\n",
    "\n",
    "```\n",
    "\n",
    "```\n",
    "\n",
    "```\n",
    "\n",
    "```\n",
    "### More about pytorch:\n",
    "* Using torch on GPU and multi-GPU - [link](http://pytorch.org/docs/master/notes/cuda.html)\n",
    "* More tutorials on pytorch - [link](http://pytorch.org/tutorials/beginner/deep_learning_60min_blitz.html)\n",
    "* Pytorch examples - a repo that implements many cool DL models in pytorch - [link](https://github.com/pytorch/examples)\n",
    "* Practical pytorch - a repo that implements some... other cool DL models... yes, in pytorch - [link](https://github.com/spro/practical-pytorch)\n",
    "* And some more - [link](https://www.reddit.com/r/pytorch/comments/6z0yeo/pytorch_and_pytorch_tricks_for_kaggle/)"
   ]
  }
 ],
 "metadata": {
  "colab": {
   "name": "week0_09_PyTorch_and_Dataloaders.ipynb",
   "provenance": []
  },
  "kernelspec": {
   "display_name": "Py3 research env",
   "language": "python",
   "name": "py3_research"
  },
  "language_info": {
   "codemirror_mode": {
    "name": "ipython",
    "version": 3
   },
   "file_extension": ".py",
   "mimetype": "text/x-python",
   "name": "python",
   "nbconvert_exporter": "python",
   "pygments_lexer": "ipython3",
   "version": "3.7.7"
  }
 },
 "nbformat": 4,
 "nbformat_minor": 0
}
