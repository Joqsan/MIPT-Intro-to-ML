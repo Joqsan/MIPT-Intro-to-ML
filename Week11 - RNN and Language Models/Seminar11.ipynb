{
 "cells": [
  {
   "cell_type": "markdown",
   "metadata": {},
   "source": [
    "# 1. Warm-Up Test Review.\n",
    "\n",
    "**1) Which activation functions can be used inside the Vanilla RNN cell:**\n",
    "- ReLU.\n",
    "     - NO.\n",
    "- ELU.\n",
    "     - NO.\n",
    "- sigmoid.\n",
    "     - YES.\n",
    "- softmax.\n",
    "     - YES, in the sense that it is also a bounded function, but has the problem of degenerating the information \n",
    "- $\\tanh$.\n",
    "     - YES.\n",
    "\n",
    "**2) `Context ` in RNN is represented using:**\n",
    "- The hidden state ($h$ vector) of RNN on each step.\n",
    "\n",
    "**3) RNNs:**\n",
    "- Allows to capture the context in the fixed size representation.\n",
    "    - True.\n",
    "- Allow to work with variable length input.\n",
    "    - True. Under the contraints of the limit memory that we have.\n",
    "- Can be applied only to text generation problems.\n",
    "    - False.\n",
    "- Are quite fancy.\n",
    "    - We can say True.\n",
    "\n",
    "**4) Select all the correct statements about RNNs:**\n",
    "- Context vector elements are independent.\n",
    "    - True. Remember the one-hot representation that we talk about in the lecture. It's determined by the word position in the dictionary, bur nothing prevents ud change the relative order of word wrt to the dictionary.\n",
    "- RNNs can be parallelised efficiently.\n",
    "    - False.\n",
    "- Are the best choice for image classification/generation problems.\n",
    "    - Are good, but better to use methods that takes into account the pixel order along at least 2 axes (like CNN). RNN do so only along 1 axis ($t \\to t+1$).\n",
    "    \n",
    "    \n",
    "**5) Language model.**\n",
    "- Predicts the next token in the sequence.\n",
    "    - True.\n",
    "- Solves the classification problem.\n",
    "    - True. If we predict from a finite set of _answer_ a given one, then this is a classification problem."
   ]
  },
  {
   "cell_type": "code",
   "execution_count": null,
   "metadata": {
    "collapsed": true
   },
   "outputs": [],
   "source": []
  }
 ],
 "metadata": {
  "kernelspec": {
   "display_name": "Python 3",
   "language": "python",
   "name": "python3"
  },
  "language_info": {
   "codemirror_mode": {
    "name": "ipython",
    "version": 3
   },
   "file_extension": ".py",
   "mimetype": "text/x-python",
   "name": "python",
   "nbconvert_exporter": "python",
   "pygments_lexer": "ipython3",
   "version": "3.6.4"
  }
 },
 "nbformat": 4,
 "nbformat_minor": 2
}
