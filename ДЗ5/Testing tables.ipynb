{
 "cells": [
  {
   "cell_type": "code",
   "execution_count": 4,
   "metadata": {
    "collapsed": true
   },
   "outputs": [],
   "source": [
    "import pandas as pd\n",
    "import numpy as np"
   ]
  },
  {
   "cell_type": "code",
   "execution_count": 5,
   "metadata": {
    "collapsed": true
   },
   "outputs": [],
   "source": [
    "index = pd.MultiIndex.from_product([['w/ BN', 'w/o BN'], ['Loss', 'Training Time']])"
   ]
  },
  {
   "cell_type": "code",
   "execution_count": 9,
   "metadata": {},
   "outputs": [],
   "source": [
    "df = pd.DataFrame(np.random.rand(3, 4), index=['ReLU', 'ELU', 'LeakyLU'], columns=index)"
   ]
  },
  {
   "cell_type": "code",
   "execution_count": 13,
   "metadata": {},
   "outputs": [
    {
     "data": {
      "text/html": [
       "<div>\n",
       "<style scoped>\n",
       "    .dataframe tbody tr th:only-of-type {\n",
       "        vertical-align: middle;\n",
       "    }\n",
       "\n",
       "    .dataframe tbody tr th {\n",
       "        vertical-align: top;\n",
       "    }\n",
       "\n",
       "    .dataframe thead tr th {\n",
       "        text-align: left;\n",
       "    }\n",
       "</style>\n",
       "<table border=\"1\" class=\"dataframe\">\n",
       "  <thead>\n",
       "    <tr>\n",
       "      <th></th>\n",
       "      <th colspan=\"2\" halign=\"left\">w/ BN</th>\n",
       "      <th colspan=\"2\" halign=\"left\">w/o BN</th>\n",
       "    </tr>\n",
       "    <tr>\n",
       "      <th></th>\n",
       "      <th>Loss</th>\n",
       "      <th>Training Time</th>\n",
       "      <th>Loss</th>\n",
       "      <th>Training Time</th>\n",
       "    </tr>\n",
       "  </thead>\n",
       "  <tbody>\n",
       "    <tr>\n",
       "      <th>ReLU</th>\n",
       "      <td>0.186848</td>\n",
       "      <td>0.998848</td>\n",
       "      <td>0.045029</td>\n",
       "      <td>0.665911</td>\n",
       "    </tr>\n",
       "    <tr>\n",
       "      <th>ELU</th>\n",
       "      <td>0.900514</td>\n",
       "      <td>0.897506</td>\n",
       "      <td>0.444610</td>\n",
       "      <td>0.310078</td>\n",
       "    </tr>\n",
       "    <tr>\n",
       "      <th>LeakyLU</th>\n",
       "      <td>0.313960</td>\n",
       "      <td>0.432559</td>\n",
       "      <td>0.015298</td>\n",
       "      <td>0.247735</td>\n",
       "    </tr>\n",
       "  </tbody>\n",
       "</table>\n",
       "</div>"
      ],
      "text/plain": [
       "            w/ BN                  w/o BN              \n",
       "             Loss Training Time      Loss Training Time\n",
       "ReLU     0.186848      0.998848  0.045029      0.665911\n",
       "ELU      0.900514      0.897506  0.444610      0.310078\n",
       "LeakyLU  0.313960      0.432559  0.015298      0.247735"
      ]
     },
     "execution_count": 13,
     "metadata": {},
     "output_type": "execute_result"
    }
   ],
   "source": [
    "df"
   ]
  },
  {
   "cell_type": "code",
   "execution_count": 22,
   "metadata": {},
   "outputs": [],
   "source": [
    "s = df.style.set_table_styles([\n",
    "    {'selector': 'th',\n",
    "    'props': [\n",
    "        ('border-style', 'solid'),\n",
    "        ('border-color', 'black'),\n",
    "        ('vertical-align','top'),\n",
    "        ('text-align', 'center')\n",
    "    ]\n",
    "    }])"
   ]
  },
  {
   "cell_type": "code",
   "execution_count": 23,
   "metadata": {},
   "outputs": [
    {
     "data": {
      "text/html": [
       "<style  type=\"text/css\" >\n",
       "    #T_d6f227cc_3642_11eb_a371_7c04d0d588c0 th {\n",
       "          border-style: solid;\n",
       "          border-color: black;\n",
       "          vertical-align: top;\n",
       "          text-align: center;\n",
       "    }</style><table id=\"T_d6f227cc_3642_11eb_a371_7c04d0d588c0\" ><thead>    <tr>        <th class=\"blank level0\" ></th>        <th class=\"col_heading level0 col0\" colspan=2>w/ BN</th>        <th class=\"col_heading level0 col2\" colspan=2>w/o BN</th>    </tr>    <tr>        <th class=\"blank level1\" ></th>        <th class=\"col_heading level1 col0\" >Loss</th>        <th class=\"col_heading level1 col1\" >Training Time</th>        <th class=\"col_heading level1 col2\" >Loss</th>        <th class=\"col_heading level1 col3\" >Training Time</th>    </tr></thead><tbody>\n",
       "                <tr>\n",
       "                        <th id=\"T_d6f227cc_3642_11eb_a371_7c04d0d588c0level0_row0\" class=\"row_heading level0 row0\" >ReLU</th>\n",
       "                        <td id=\"T_d6f227cc_3642_11eb_a371_7c04d0d588c0row0_col0\" class=\"data row0 col0\" >0.186848</td>\n",
       "                        <td id=\"T_d6f227cc_3642_11eb_a371_7c04d0d588c0row0_col1\" class=\"data row0 col1\" >0.998848</td>\n",
       "                        <td id=\"T_d6f227cc_3642_11eb_a371_7c04d0d588c0row0_col2\" class=\"data row0 col2\" >0.045029</td>\n",
       "                        <td id=\"T_d6f227cc_3642_11eb_a371_7c04d0d588c0row0_col3\" class=\"data row0 col3\" >0.665911</td>\n",
       "            </tr>\n",
       "            <tr>\n",
       "                        <th id=\"T_d6f227cc_3642_11eb_a371_7c04d0d588c0level0_row1\" class=\"row_heading level0 row1\" >ELU</th>\n",
       "                        <td id=\"T_d6f227cc_3642_11eb_a371_7c04d0d588c0row1_col0\" class=\"data row1 col0\" >0.900514</td>\n",
       "                        <td id=\"T_d6f227cc_3642_11eb_a371_7c04d0d588c0row1_col1\" class=\"data row1 col1\" >0.897506</td>\n",
       "                        <td id=\"T_d6f227cc_3642_11eb_a371_7c04d0d588c0row1_col2\" class=\"data row1 col2\" >0.444610</td>\n",
       "                        <td id=\"T_d6f227cc_3642_11eb_a371_7c04d0d588c0row1_col3\" class=\"data row1 col3\" >0.310078</td>\n",
       "            </tr>\n",
       "            <tr>\n",
       "                        <th id=\"T_d6f227cc_3642_11eb_a371_7c04d0d588c0level0_row2\" class=\"row_heading level0 row2\" >LeakyLU</th>\n",
       "                        <td id=\"T_d6f227cc_3642_11eb_a371_7c04d0d588c0row2_col0\" class=\"data row2 col0\" >0.313960</td>\n",
       "                        <td id=\"T_d6f227cc_3642_11eb_a371_7c04d0d588c0row2_col1\" class=\"data row2 col1\" >0.432559</td>\n",
       "                        <td id=\"T_d6f227cc_3642_11eb_a371_7c04d0d588c0row2_col2\" class=\"data row2 col2\" >0.015298</td>\n",
       "                        <td id=\"T_d6f227cc_3642_11eb_a371_7c04d0d588c0row2_col3\" class=\"data row2 col3\" >0.247735</td>\n",
       "            </tr>\n",
       "    </tbody></table>"
      ],
      "text/plain": [
       "<pandas.io.formats.style.Styler at 0x1128ac128>"
      ]
     },
     "execution_count": 23,
     "metadata": {},
     "output_type": "execute_result"
    }
   ],
   "source": [
    "s"
   ]
  },
  {
   "cell_type": "code",
   "execution_count": 39,
   "metadata": {},
   "outputs": [
    {
     "data": {
      "text/html": [
       "<style  type=\"text/css\" >\n",
       "    #T_4326f43e_3645_11eb_be18_7c04d0d588c0 th {\n",
       "          text-align: center;\n",
       "    }    #T_4326f43e_3645_11eb_be18_7c04d0d588c0row0_col0 {\n",
       "            background-color:  cyan;\n",
       "        }    #T_4326f43e_3645_11eb_be18_7c04d0d588c0row2_col1 {\n",
       "            background-color:  cyan;\n",
       "        }    #T_4326f43e_3645_11eb_be18_7c04d0d588c0row2_col2 {\n",
       "            background-color:  cyan;\n",
       "        }    #T_4326f43e_3645_11eb_be18_7c04d0d588c0row2_col3 {\n",
       "            background-color:  cyan;\n",
       "        }</style><table id=\"T_4326f43e_3645_11eb_be18_7c04d0d588c0\" ><thead>    <tr>        <th class=\"blank level0\" ></th>        <th class=\"col_heading level0 col0\" colspan=2>w/ BN</th>        <th class=\"col_heading level0 col2\" colspan=2>w/o BN</th>    </tr>    <tr>        <th class=\"blank level1\" ></th>        <th class=\"col_heading level1 col0\" >Loss</th>        <th class=\"col_heading level1 col1\" >Training Time</th>        <th class=\"col_heading level1 col2\" >Loss</th>        <th class=\"col_heading level1 col3\" >Training Time</th>    </tr></thead><tbody>\n",
       "                <tr>\n",
       "                        <th id=\"T_4326f43e_3645_11eb_be18_7c04d0d588c0level0_row0\" class=\"row_heading level0 row0\" >ReLU</th>\n",
       "                        <td id=\"T_4326f43e_3645_11eb_be18_7c04d0d588c0row0_col0\" class=\"data row0 col0\" >0.186848</td>\n",
       "                        <td id=\"T_4326f43e_3645_11eb_be18_7c04d0d588c0row0_col1\" class=\"data row0 col1\" >0.998848</td>\n",
       "                        <td id=\"T_4326f43e_3645_11eb_be18_7c04d0d588c0row0_col2\" class=\"data row0 col2\" >0.045029</td>\n",
       "                        <td id=\"T_4326f43e_3645_11eb_be18_7c04d0d588c0row0_col3\" class=\"data row0 col3\" >0.665911</td>\n",
       "            </tr>\n",
       "            <tr>\n",
       "                        <th id=\"T_4326f43e_3645_11eb_be18_7c04d0d588c0level0_row1\" class=\"row_heading level0 row1\" >ELU</th>\n",
       "                        <td id=\"T_4326f43e_3645_11eb_be18_7c04d0d588c0row1_col0\" class=\"data row1 col0\" >0.900514</td>\n",
       "                        <td id=\"T_4326f43e_3645_11eb_be18_7c04d0d588c0row1_col1\" class=\"data row1 col1\" >0.897506</td>\n",
       "                        <td id=\"T_4326f43e_3645_11eb_be18_7c04d0d588c0row1_col2\" class=\"data row1 col2\" >0.444610</td>\n",
       "                        <td id=\"T_4326f43e_3645_11eb_be18_7c04d0d588c0row1_col3\" class=\"data row1 col3\" >0.310078</td>\n",
       "            </tr>\n",
       "            <tr>\n",
       "                        <th id=\"T_4326f43e_3645_11eb_be18_7c04d0d588c0level0_row2\" class=\"row_heading level0 row2\" >LeakyLU</th>\n",
       "                        <td id=\"T_4326f43e_3645_11eb_be18_7c04d0d588c0row2_col0\" class=\"data row2 col0\" >0.313960</td>\n",
       "                        <td id=\"T_4326f43e_3645_11eb_be18_7c04d0d588c0row2_col1\" class=\"data row2 col1\" >0.432559</td>\n",
       "                        <td id=\"T_4326f43e_3645_11eb_be18_7c04d0d588c0row2_col2\" class=\"data row2 col2\" >0.015298</td>\n",
       "                        <td id=\"T_4326f43e_3645_11eb_be18_7c04d0d588c0row2_col3\" class=\"data row2 col3\" >0.247735</td>\n",
       "            </tr>\n",
       "    </tbody></table>"
      ],
      "text/plain": [
       "<pandas.io.formats.style.Styler at 0x1128532b0>"
      ]
     },
     "execution_count": 39,
     "metadata": {},
     "output_type": "execute_result"
    }
   ],
   "source": [
    "df.style.highlight_min(color='cyan').set_table_styles([\n",
    "    {'selector': 'th',\n",
    "    'props': [\n",
    "        #('border-style', 'solid'),\n",
    "        #('border-color', 'black'),\n",
    "        #('vertical-align','top'),\n",
    "        ('text-align', 'center')\n",
    "    ]\n",
    "    }])"
   ]
  },
  {
   "cell_type": "code",
   "execution_count": 28,
   "metadata": {},
   "outputs": [
    {
     "data": {
      "text/plain": [
       "array(['a', '4'], dtype='<U1')"
      ]
     },
     "execution_count": 28,
     "metadata": {},
     "output_type": "execute_result"
    }
   ],
   "source": [
    "np.array(['a', '4'])"
   ]
  },
  {
   "cell_type": "code",
   "execution_count": 42,
   "metadata": {
    "collapsed": true
   },
   "outputs": [],
   "source": [
    "activations = ['ReLU', 'ELU', 'LeakyLU']"
   ]
  },
  {
   "cell_type": "code",
   "execution_count": 43,
   "metadata": {},
   "outputs": [],
   "source": [
    "index2 = pd.MultiIndex.from_product([['Loss'], activations])"
   ]
  },
  {
   "cell_type": "code",
   "execution_count": 44,
   "metadata": {},
   "outputs": [
    {
     "data": {
      "text/plain": [
       "MultiIndex([('Loss',    'ReLU'),\n",
       "            ('Loss',     'ELU'),\n",
       "            ('Loss', 'LeakyLU')],\n",
       "           )"
      ]
     },
     "execution_count": 44,
     "metadata": {},
     "output_type": "execute_result"
    }
   ],
   "source": [
    "index2"
   ]
  },
  {
   "cell_type": "code",
   "execution_count": 62,
   "metadata": {},
   "outputs": [],
   "source": [
    "df2 = pd.DataFrame(np.random.rand(2, 3), index=['SGD', 'Adam'], columns=index2)"
   ]
  },
  {
   "cell_type": "code",
   "execution_count": 63,
   "metadata": {},
   "outputs": [
    {
     "data": {
      "text/html": [
       "<style  type=\"text/css\" >\n",
       "    #T_cf2794da_3658_11eb_b318_7c04d0d588c0 th {\n",
       "          vertical-align: top;\n",
       "          text-align: center;\n",
       "    }</style><table id=\"T_cf2794da_3658_11eb_b318_7c04d0d588c0\" ><thead>    <tr>        <th class=\"blank level0\" ></th>        <th class=\"col_heading level0 col0\" colspan=3>Loss</th>    </tr>    <tr>        <th class=\"blank level1\" ></th>        <th class=\"col_heading level1 col0\" >ReLU</th>        <th class=\"col_heading level1 col1\" >ELU</th>        <th class=\"col_heading level1 col2\" >LeakyLU</th>    </tr></thead><tbody>\n",
       "                <tr>\n",
       "                        <th id=\"T_cf2794da_3658_11eb_b318_7c04d0d588c0level0_row0\" class=\"row_heading level0 row0\" >SGD</th>\n",
       "                        <td id=\"T_cf2794da_3658_11eb_b318_7c04d0d588c0row0_col0\" class=\"data row0 col0\" >0.698598</td>\n",
       "                        <td id=\"T_cf2794da_3658_11eb_b318_7c04d0d588c0row0_col1\" class=\"data row0 col1\" >0.469282</td>\n",
       "                        <td id=\"T_cf2794da_3658_11eb_b318_7c04d0d588c0row0_col2\" class=\"data row0 col2\" >0.716175</td>\n",
       "            </tr>\n",
       "            <tr>\n",
       "                        <th id=\"T_cf2794da_3658_11eb_b318_7c04d0d588c0level0_row1\" class=\"row_heading level0 row1\" >Adam</th>\n",
       "                        <td id=\"T_cf2794da_3658_11eb_b318_7c04d0d588c0row1_col0\" class=\"data row1 col0\" >0.185569</td>\n",
       "                        <td id=\"T_cf2794da_3658_11eb_b318_7c04d0d588c0row1_col1\" class=\"data row1 col1\" >0.902757</td>\n",
       "                        <td id=\"T_cf2794da_3658_11eb_b318_7c04d0d588c0row1_col2\" class=\"data row1 col2\" >0.119554</td>\n",
       "            </tr>\n",
       "    </tbody></table>"
      ],
      "text/plain": [
       "<pandas.io.formats.style.Styler at 0x1129869b0>"
      ]
     },
     "execution_count": 63,
     "metadata": {},
     "output_type": "execute_result"
    }
   ],
   "source": [
    "df2.style.set_table_styles([\n",
    "    {'selector': 'th',\n",
    "    'props': [\n",
    "        #('border-style', 'solid'),\n",
    "        #('border-color', 'black'),\n",
    "        ('vertical-align','top'),\n",
    "        ('text-align', 'center')\n",
    "    ]\n",
    "    }])"
   ]
  },
  {
   "cell_type": "code",
   "execution_count": 64,
   "metadata": {},
   "outputs": [
    {
     "data": {
      "text/html": [
       "<style  type=\"text/css\" >\n",
       "    #T_cf40e446_3658_11eb_9f96_7c04d0d588c0 th {\n",
       "          border-style: solid;\n",
       "          border-color: black;\n",
       "          vertical-align: top;\n",
       "          text-align: center;\n",
       "          border-width: 1px;\n",
       "    }</style><table id=\"T_cf40e446_3658_11eb_9f96_7c04d0d588c0\" ><thead>    <tr>        <th class=\"blank level0\" ></th>        <th class=\"col_heading level0 col0\" colspan=3>Loss</th>    </tr>    <tr>        <th class=\"blank level1\" ></th>        <th class=\"col_heading level1 col0\" >ReLU</th>        <th class=\"col_heading level1 col1\" >ELU</th>        <th class=\"col_heading level1 col2\" >LeakyLU</th>    </tr></thead><tbody>\n",
       "                <tr>\n",
       "                        <th id=\"T_cf40e446_3658_11eb_9f96_7c04d0d588c0level0_row0\" class=\"row_heading level0 row0\" >SGD</th>\n",
       "                        <td id=\"T_cf40e446_3658_11eb_9f96_7c04d0d588c0row0_col0\" class=\"data row0 col0\" >0.698598</td>\n",
       "                        <td id=\"T_cf40e446_3658_11eb_9f96_7c04d0d588c0row0_col1\" class=\"data row0 col1\" >0.469282</td>\n",
       "                        <td id=\"T_cf40e446_3658_11eb_9f96_7c04d0d588c0row0_col2\" class=\"data row0 col2\" >0.716175</td>\n",
       "            </tr>\n",
       "            <tr>\n",
       "                        <th id=\"T_cf40e446_3658_11eb_9f96_7c04d0d588c0level0_row1\" class=\"row_heading level0 row1\" >Adam</th>\n",
       "                        <td id=\"T_cf40e446_3658_11eb_9f96_7c04d0d588c0row1_col0\" class=\"data row1 col0\" >0.185569</td>\n",
       "                        <td id=\"T_cf40e446_3658_11eb_9f96_7c04d0d588c0row1_col1\" class=\"data row1 col1\" >0.902757</td>\n",
       "                        <td id=\"T_cf40e446_3658_11eb_9f96_7c04d0d588c0row1_col2\" class=\"data row1 col2\" >0.119554</td>\n",
       "            </tr>\n",
       "    </tbody></table>"
      ],
      "text/plain": [
       "<pandas.io.formats.style.Styler at 0x112996390>"
      ]
     },
     "execution_count": 64,
     "metadata": {},
     "output_type": "execute_result"
    }
   ],
   "source": [
    "df2.style.set_table_styles([\n",
    "    {'selector': 'th',\n",
    "    'props': [\n",
    "        ('border-style', 'solid'),\n",
    "        ('border-color', 'black'),\n",
    "        ('vertical-align','top'),\n",
    "        ('text-align', 'center'),\n",
    "        ('border-width','1px')\n",
    "    ]\n",
    "    }])"
   ]
  },
  {
   "cell_type": "code",
   "execution_count": 65,
   "metadata": {},
   "outputs": [
    {
     "data": {
      "text/html": [
       "<div>\n",
       "<style scoped>\n",
       "    .dataframe tbody tr th:only-of-type {\n",
       "        vertical-align: middle;\n",
       "    }\n",
       "\n",
       "    .dataframe tbody tr th {\n",
       "        vertical-align: top;\n",
       "    }\n",
       "\n",
       "    .dataframe thead tr th {\n",
       "        text-align: left;\n",
       "    }\n",
       "</style>\n",
       "<table border=\"1\" class=\"dataframe\">\n",
       "  <thead>\n",
       "    <tr>\n",
       "      <th></th>\n",
       "      <th colspan=\"3\" halign=\"left\">Loss</th>\n",
       "    </tr>\n",
       "    <tr>\n",
       "      <th></th>\n",
       "      <th>ReLU</th>\n",
       "      <th>ELU</th>\n",
       "      <th>LeakyLU</th>\n",
       "    </tr>\n",
       "  </thead>\n",
       "  <tbody>\n",
       "    <tr>\n",
       "      <th>No BN</th>\n",
       "      <td>0.983186</td>\n",
       "      <td>0.363060</td>\n",
       "      <td>0.471928</td>\n",
       "    </tr>\n",
       "    <tr>\n",
       "      <th>BN</th>\n",
       "      <td>0.058140</td>\n",
       "      <td>0.269489</td>\n",
       "      <td>0.669467</td>\n",
       "    </tr>\n",
       "  </tbody>\n",
       "</table>\n",
       "</div>"
      ],
      "text/plain": [
       "           Loss                    \n",
       "           ReLU       ELU   LeakyLU\n",
       "No BN  0.983186  0.363060  0.471928\n",
       "BN     0.058140  0.269489  0.669467"
      ]
     },
     "execution_count": 65,
     "metadata": {},
     "output_type": "execute_result"
    }
   ],
   "source": [
    "pd.DataFrame(np.random.rand(2, 3), index=['No BN', 'BN'], columns=index2)"
   ]
  },
  {
   "cell_type": "code",
   "execution_count": null,
   "metadata": {
    "collapsed": true
   },
   "outputs": [],
   "source": []
  }
 ],
 "metadata": {
  "kernelspec": {
   "display_name": "Python 3",
   "language": "python",
   "name": "python3"
  },
  "language_info": {
   "codemirror_mode": {
    "name": "ipython",
    "version": 3
   },
   "file_extension": ".py",
   "mimetype": "text/x-python",
   "name": "python",
   "nbconvert_exporter": "python",
   "pygments_lexer": "ipython3",
   "version": "3.6.4"
  }
 },
 "nbformat": 4,
 "nbformat_minor": 2
}
