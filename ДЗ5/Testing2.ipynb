{
 "cells": [
  {
   "cell_type": "code",
   "execution_count": 171,
   "metadata": {
    "collapsed": true
   },
   "outputs": [],
   "source": [
    "import numpy as np"
   ]
  },
  {
   "cell_type": "code",
   "execution_count": 172,
   "metadata": {},
   "outputs": [
    {
     "data": {
      "text/plain": [
       "(5, 10)"
      ]
     },
     "execution_count": 172,
     "metadata": {},
     "output_type": "execute_result"
    }
   ],
   "source": [
    "np.random.randn(5, 10).shape"
   ]
  },
  {
   "cell_type": "code",
   "execution_count": 173,
   "metadata": {
    "collapsed": true
   },
   "outputs": [],
   "source": [
    "stdv = 0.05"
   ]
  },
  {
   "cell_type": "code",
   "execution_count": 174,
   "metadata": {},
   "outputs": [
    {
     "data": {
      "text/plain": [
       "array([ 0.0227704 , -0.0147136 , -0.00347243, -0.02311267])"
      ]
     },
     "execution_count": 174,
     "metadata": {},
     "output_type": "execute_result"
    }
   ],
   "source": [
    "np.random.uniform(-stdv, stdv, size = 4)"
   ]
  },
  {
   "cell_type": "code",
   "execution_count": 175,
   "metadata": {},
   "outputs": [
    {
     "data": {
      "text/plain": [
       "array([[-0.01721437,  0.02476644,  0.00527479,  0.03106335]])"
      ]
     },
     "execution_count": 175,
     "metadata": {},
     "output_type": "execute_result"
    }
   ],
   "source": [
    "b = np.random.uniform(-stdv, stdv, size = (1,4))\n",
    "b"
   ]
  },
  {
   "cell_type": "code",
   "execution_count": 176,
   "metadata": {
    "collapsed": true
   },
   "outputs": [],
   "source": [
    "n_in = 3\n",
    "n_out = 4"
   ]
  },
  {
   "cell_type": "code",
   "execution_count": 177,
   "metadata": {
    "collapsed": true
   },
   "outputs": [],
   "source": [
    "W = np.random.random((n_in, n_out))"
   ]
  },
  {
   "cell_type": "code",
   "execution_count": 178,
   "metadata": {},
   "outputs": [
    {
     "data": {
      "text/plain": [
       "array([[0.38996896, 0.97233183, 0.01546821, 0.8917501 ],\n",
       "       [0.50621591, 0.13675787, 0.1936802 , 0.96697848],\n",
       "       [0.15903151, 0.72364526, 0.23481487, 0.39399388]])"
      ]
     },
     "execution_count": 178,
     "metadata": {},
     "output_type": "execute_result"
    }
   ],
   "source": [
    "W"
   ]
  },
  {
   "cell_type": "code",
   "execution_count": 179,
   "metadata": {
    "collapsed": true
   },
   "outputs": [],
   "source": [
    "gradOutput = np.random.random((1, n_out))"
   ]
  },
  {
   "cell_type": "code",
   "execution_count": 180,
   "metadata": {},
   "outputs": [
    {
     "data": {
      "text/plain": [
       "array([[1.47502457, 1.07651214, 0.82325897]])"
      ]
     },
     "execution_count": 180,
     "metadata": {},
     "output_type": "execute_result"
    }
   ],
   "source": [
    "gradOutput.dot(W.T)"
   ]
  },
  {
   "cell_type": "code",
   "execution_count": 181,
   "metadata": {},
   "outputs": [
    {
     "data": {
      "text/plain": [
       "array([[0.14191751, 0.89901323, 0.63824319],\n",
       "       [0.75451624, 0.41798971, 0.534622  ]])"
      ]
     },
     "execution_count": 181,
     "metadata": {},
     "output_type": "execute_result"
    }
   ],
   "source": [
    "x_in = np.random.random((2, n_in))\n",
    "x_in"
   ]
  },
  {
   "cell_type": "code",
   "execution_count": 182,
   "metadata": {},
   "outputs": [
    {
     "data": {
      "text/plain": [
       "array([[[0.14191751, 0.89901323, 0.63824319]],\n",
       "\n",
       "       [[0.75451624, 0.41798971, 0.534622  ]]])"
      ]
     },
     "execution_count": 182,
     "metadata": {},
     "output_type": "execute_result"
    }
   ],
   "source": [
    "x_in[:, None, :]"
   ]
  },
  {
   "cell_type": "code",
   "execution_count": 183,
   "metadata": {},
   "outputs": [
    {
     "data": {
      "text/plain": [
       "array([[0.17942448, 0.5872671 , 0.00551426, 0.93518443]])"
      ]
     },
     "execution_count": 183,
     "metadata": {},
     "output_type": "execute_result"
    }
   ],
   "source": [
    "gradOutput"
   ]
  },
  {
   "cell_type": "code",
   "execution_count": 184,
   "metadata": {},
   "outputs": [
    {
     "data": {
      "text/plain": [
       "array([[[0.17942448],\n",
       "        [0.5872671 ],\n",
       "        [0.00551426],\n",
       "        [0.93518443]]])"
      ]
     },
     "execution_count": 184,
     "metadata": {},
     "output_type": "execute_result"
    }
   ],
   "source": [
    "gradOutput[:,:, None]"
   ]
  },
  {
   "cell_type": "code",
   "execution_count": 185,
   "metadata": {},
   "outputs": [
    {
     "data": {
      "text/plain": [
       "array([[[2.54634752e-02, 1.61304985e-01, 1.14516456e-01],\n",
       "        [8.33434818e-02, 5.27960891e-01, 3.74819229e-01],\n",
       "        [7.82569526e-04, 4.95738954e-03, 3.51943667e-03],\n",
       "        [1.32719041e-01, 8.40743171e-01, 5.96875094e-01]],\n",
       "\n",
       "       [[1.35378687e-01, 7.49975872e-02, 9.59242771e-02],\n",
       "        [4.43102563e-01, 2.45471602e-01, 3.13965913e-01],\n",
       "        [4.16059606e-03, 2.30490245e-03, 2.94804285e-03],\n",
       "        [7.05611835e-01, 3.90897463e-01, 4.99970171e-01]]])"
      ]
     },
     "execution_count": 185,
     "metadata": {},
     "output_type": "execute_result"
    }
   ],
   "source": [
    "x_in[:, None, :] * gradOutput[:,:, None]"
   ]
  },
  {
   "cell_type": "code",
   "execution_count": 186,
   "metadata": {
    "collapsed": true
   },
   "outputs": [],
   "source": [
    "n_batch = 5"
   ]
  },
  {
   "cell_type": "code",
   "execution_count": 187,
   "metadata": {},
   "outputs": [
    {
     "data": {
      "text/plain": [
       "array([[[6, 0, 5]],\n",
       "\n",
       "       [[5, 2, 9]],\n",
       "\n",
       "       [[8, 1, 2]],\n",
       "\n",
       "       [[8, 2, 5]],\n",
       "\n",
       "       [[3, 7, 9]]])"
      ]
     },
     "execution_count": 187,
     "metadata": {},
     "output_type": "execute_result"
    }
   ],
   "source": [
    "x_in = np.random.randint(0, 10, size=(n_batch, n_in))\n",
    "x_in[:, None, :]"
   ]
  },
  {
   "cell_type": "code",
   "execution_count": 188,
   "metadata": {},
   "outputs": [
    {
     "data": {
      "text/plain": [
       "array([[6, 0, 5],\n",
       "       [5, 2, 9],\n",
       "       [8, 1, 2],\n",
       "       [8, 2, 5],\n",
       "       [3, 7, 9]])"
      ]
     },
     "execution_count": 188,
     "metadata": {},
     "output_type": "execute_result"
    }
   ],
   "source": [
    "x_in"
   ]
  },
  {
   "cell_type": "code",
   "execution_count": 189,
   "metadata": {
    "scrolled": false
   },
   "outputs": [
    {
     "data": {
      "text/plain": [
       "array([[[5],\n",
       "        [4],\n",
       "        [2],\n",
       "        [9]],\n",
       "\n",
       "       [[8],\n",
       "        [3],\n",
       "        [2],\n",
       "        [7]],\n",
       "\n",
       "       [[1],\n",
       "        [3],\n",
       "        [1],\n",
       "        [3]],\n",
       "\n",
       "       [[9],\n",
       "        [4],\n",
       "        [8],\n",
       "        [8]],\n",
       "\n",
       "       [[1],\n",
       "        [6],\n",
       "        [4],\n",
       "        [0]]])"
      ]
     },
     "execution_count": 189,
     "metadata": {},
     "output_type": "execute_result"
    }
   ],
   "source": [
    "dx_out = np.random.randint(0, 10, size=(n_batch, n_out))\n",
    "dx_out[:, :, None]"
   ]
  },
  {
   "cell_type": "code",
   "execution_count": 190,
   "metadata": {},
   "outputs": [
    {
     "data": {
      "text/plain": [
       "array([[5, 4, 2, 9],\n",
       "       [8, 3, 2, 7],\n",
       "       [1, 3, 1, 3],\n",
       "       [9, 4, 8, 8],\n",
       "       [1, 6, 4, 0]])"
      ]
     },
     "execution_count": 190,
     "metadata": {},
     "output_type": "execute_result"
    }
   ],
   "source": [
    "dx_out"
   ]
  },
  {
   "cell_type": "markdown",
   "metadata": {},
   "source": [
    "for `n_batch` $> 1$, `np.outer` doesn't work as expected"
   ]
  },
  {
   "cell_type": "code",
   "execution_count": 191,
   "metadata": {},
   "outputs": [
    {
     "data": {
      "text/plain": [
       "array([[30,  0, 25, 25, 10, 45, 40,  5, 10, 40, 10, 25, 15, 35, 45],\n",
       "       [24,  0, 20, 20,  8, 36, 32,  4,  8, 32,  8, 20, 12, 28, 36],\n",
       "       [12,  0, 10, 10,  4, 18, 16,  2,  4, 16,  4, 10,  6, 14, 18],\n",
       "       [54,  0, 45, 45, 18, 81, 72,  9, 18, 72, 18, 45, 27, 63, 81],\n",
       "       [48,  0, 40, 40, 16, 72, 64,  8, 16, 64, 16, 40, 24, 56, 72],\n",
       "       [18,  0, 15, 15,  6, 27, 24,  3,  6, 24,  6, 15,  9, 21, 27],\n",
       "       [12,  0, 10, 10,  4, 18, 16,  2,  4, 16,  4, 10,  6, 14, 18],\n",
       "       [42,  0, 35, 35, 14, 63, 56,  7, 14, 56, 14, 35, 21, 49, 63],\n",
       "       [ 6,  0,  5,  5,  2,  9,  8,  1,  2,  8,  2,  5,  3,  7,  9],\n",
       "       [18,  0, 15, 15,  6, 27, 24,  3,  6, 24,  6, 15,  9, 21, 27],\n",
       "       [ 6,  0,  5,  5,  2,  9,  8,  1,  2,  8,  2,  5,  3,  7,  9],\n",
       "       [18,  0, 15, 15,  6, 27, 24,  3,  6, 24,  6, 15,  9, 21, 27],\n",
       "       [54,  0, 45, 45, 18, 81, 72,  9, 18, 72, 18, 45, 27, 63, 81],\n",
       "       [24,  0, 20, 20,  8, 36, 32,  4,  8, 32,  8, 20, 12, 28, 36],\n",
       "       [48,  0, 40, 40, 16, 72, 64,  8, 16, 64, 16, 40, 24, 56, 72],\n",
       "       [48,  0, 40, 40, 16, 72, 64,  8, 16, 64, 16, 40, 24, 56, 72],\n",
       "       [ 6,  0,  5,  5,  2,  9,  8,  1,  2,  8,  2,  5,  3,  7,  9],\n",
       "       [36,  0, 30, 30, 12, 54, 48,  6, 12, 48, 12, 30, 18, 42, 54],\n",
       "       [24,  0, 20, 20,  8, 36, 32,  4,  8, 32,  8, 20, 12, 28, 36],\n",
       "       [ 0,  0,  0,  0,  0,  0,  0,  0,  0,  0,  0,  0,  0,  0,  0]])"
      ]
     },
     "execution_count": 191,
     "metadata": {},
     "output_type": "execute_result"
    }
   ],
   "source": [
    "np.outer(x_in, dx_out).T"
   ]
  },
  {
   "cell_type": "code",
   "execution_count": 192,
   "metadata": {},
   "outputs": [
    {
     "data": {
      "text/plain": [
       "array([[[30,  0, 25],\n",
       "        [24,  0, 20],\n",
       "        [12,  0, 10],\n",
       "        [54,  0, 45]],\n",
       "\n",
       "       [[40, 16, 72],\n",
       "        [15,  6, 27],\n",
       "        [10,  4, 18],\n",
       "        [35, 14, 63]],\n",
       "\n",
       "       [[ 8,  1,  2],\n",
       "        [24,  3,  6],\n",
       "        [ 8,  1,  2],\n",
       "        [24,  3,  6]],\n",
       "\n",
       "       [[72, 18, 45],\n",
       "        [32,  8, 20],\n",
       "        [64, 16, 40],\n",
       "        [64, 16, 40]],\n",
       "\n",
       "       [[ 3,  7,  9],\n",
       "        [18, 42, 54],\n",
       "        [12, 28, 36],\n",
       "        [ 0,  0,  0]]])"
      ]
     },
     "execution_count": 192,
     "metadata": {},
     "output_type": "execute_result"
    }
   ],
   "source": [
    "dx_out[:, :, None] * x_in[:, None, :]"
   ]
  },
  {
   "cell_type": "code",
   "execution_count": 193,
   "metadata": {},
   "outputs": [
    {
     "data": {
      "text/plain": [
       "array([[[30,  0, 25],\n",
       "        [24,  0, 20],\n",
       "        [12,  0, 10],\n",
       "        [54,  0, 45]],\n",
       "\n",
       "       [[40, 16, 72],\n",
       "        [15,  6, 27],\n",
       "        [10,  4, 18],\n",
       "        [35, 14, 63]],\n",
       "\n",
       "       [[ 8,  1,  2],\n",
       "        [24,  3,  6],\n",
       "        [ 8,  1,  2],\n",
       "        [24,  3,  6]],\n",
       "\n",
       "       [[72, 18, 45],\n",
       "        [32,  8, 20],\n",
       "        [64, 16, 40],\n",
       "        [64, 16, 40]],\n",
       "\n",
       "       [[ 3,  7,  9],\n",
       "        [18, 42, 54],\n",
       "        [12, 28, 36],\n",
       "        [ 0,  0,  0]]])"
      ]
     },
     "execution_count": 193,
     "metadata": {},
     "output_type": "execute_result"
    }
   ],
   "source": [
    "result = x_in[:, None, :] * dx_out[:, :, None]\n",
    "result"
   ]
  },
  {
   "cell_type": "code",
   "execution_count": 194,
   "metadata": {},
   "outputs": [
    {
     "data": {
      "text/plain": [
       "array([[153,  42, 153],\n",
       "       [113,  59, 127],\n",
       "       [106,  49, 106],\n",
       "       [177,  33, 154]])"
      ]
     },
     "execution_count": 194,
     "metadata": {},
     "output_type": "execute_result"
    }
   ],
   "source": [
    "np.sum(result, axis=0)"
   ]
  },
  {
   "cell_type": "code",
   "execution_count": 195,
   "metadata": {},
   "outputs": [
    {
     "data": {
      "text/plain": [
       "array([[5, 4, 2, 9],\n",
       "       [8, 3, 2, 7],\n",
       "       [1, 3, 1, 3],\n",
       "       [9, 4, 8, 8],\n",
       "       [1, 6, 4, 0]])"
      ]
     },
     "execution_count": 195,
     "metadata": {},
     "output_type": "execute_result"
    }
   ],
   "source": [
    "dx_out"
   ]
  },
  {
   "cell_type": "code",
   "execution_count": 196,
   "metadata": {},
   "outputs": [
    {
     "data": {
      "text/plain": [
       "array([24, 20, 17, 27])"
      ]
     },
     "execution_count": 196,
     "metadata": {},
     "output_type": "execute_result"
    }
   ],
   "source": [
    "np.sum(dx_out, axis=0)"
   ]
  },
  {
   "cell_type": "code",
   "execution_count": 197,
   "metadata": {
    "collapsed": true
   },
   "outputs": [],
   "source": [
    "s = x_in[:, None, :]"
   ]
  },
  {
   "cell_type": "code",
   "execution_count": 198,
   "metadata": {},
   "outputs": [
    {
     "data": {
      "text/plain": [
       "array([[[6, 0, 5]],\n",
       "\n",
       "       [[5, 2, 9]],\n",
       "\n",
       "       [[8, 1, 2]],\n",
       "\n",
       "       [[8, 2, 5]],\n",
       "\n",
       "       [[3, 7, 9]]])"
      ]
     },
     "execution_count": 198,
     "metadata": {},
     "output_type": "execute_result"
    }
   ],
   "source": [
    "s"
   ]
  },
  {
   "cell_type": "code",
   "execution_count": 199,
   "metadata": {},
   "outputs": [
    {
     "data": {
      "text/plain": [
       "(5, 1, 3)"
      ]
     },
     "execution_count": 199,
     "metadata": {},
     "output_type": "execute_result"
    }
   ],
   "source": [
    "s.shape"
   ]
  },
  {
   "cell_type": "code",
   "execution_count": 200,
   "metadata": {},
   "outputs": [
    {
     "data": {
      "text/plain": [
       "array([[6, 0, 5],\n",
       "       [5, 2, 9],\n",
       "       [8, 1, 2],\n",
       "       [8, 2, 5],\n",
       "       [3, 7, 9]])"
      ]
     },
     "execution_count": 200,
     "metadata": {},
     "output_type": "execute_result"
    }
   ],
   "source": [
    "x_in"
   ]
  },
  {
   "cell_type": "code",
   "execution_count": 201,
   "metadata": {},
   "outputs": [
    {
     "data": {
      "text/plain": [
       "(5, 3)"
      ]
     },
     "execution_count": 201,
     "metadata": {},
     "output_type": "execute_result"
    }
   ],
   "source": [
    "x_in.shape"
   ]
  },
  {
   "cell_type": "code",
   "execution_count": 202,
   "metadata": {},
   "outputs": [
    {
     "data": {
      "text/plain": [
       "3"
      ]
     },
     "execution_count": 202,
     "metadata": {},
     "output_type": "execute_result"
    }
   ],
   "source": [
    "s.ndim"
   ]
  },
  {
   "cell_type": "markdown",
   "metadata": {},
   "source": [
    "### ========="
   ]
  },
  {
   "cell_type": "code",
   "execution_count": 203,
   "metadata": {},
   "outputs": [
    {
     "data": {
      "text/plain": [
       "array([[[5],\n",
       "        [4],\n",
       "        [2],\n",
       "        [9]],\n",
       "\n",
       "       [[8],\n",
       "        [3],\n",
       "        [2],\n",
       "        [7]],\n",
       "\n",
       "       [[1],\n",
       "        [3],\n",
       "        [1],\n",
       "        [3]],\n",
       "\n",
       "       [[9],\n",
       "        [4],\n",
       "        [8],\n",
       "        [8]],\n",
       "\n",
       "       [[1],\n",
       "        [6],\n",
       "        [4],\n",
       "        [0]]])"
      ]
     },
     "execution_count": 203,
     "metadata": {},
     "output_type": "execute_result"
    }
   ],
   "source": [
    "d = dx_out[:, :, None]\n",
    "d"
   ]
  },
  {
   "cell_type": "code",
   "execution_count": 204,
   "metadata": {},
   "outputs": [
    {
     "data": {
      "text/plain": [
       "(5, 4, 1)"
      ]
     },
     "execution_count": 204,
     "metadata": {},
     "output_type": "execute_result"
    }
   ],
   "source": [
    "d.shape"
   ]
  },
  {
   "cell_type": "code",
   "execution_count": 205,
   "metadata": {},
   "outputs": [
    {
     "data": {
      "text/plain": [
       "array([[5, 4, 2, 9],\n",
       "       [8, 3, 2, 7],\n",
       "       [1, 3, 1, 3],\n",
       "       [9, 4, 8, 8],\n",
       "       [1, 6, 4, 0]])"
      ]
     },
     "execution_count": 205,
     "metadata": {},
     "output_type": "execute_result"
    }
   ],
   "source": [
    "dx_out"
   ]
  },
  {
   "cell_type": "code",
   "execution_count": 206,
   "metadata": {},
   "outputs": [
    {
     "data": {
      "text/plain": [
       "(5, 4)"
      ]
     },
     "execution_count": 206,
     "metadata": {},
     "output_type": "execute_result"
    }
   ],
   "source": [
    "dx_out.shape"
   ]
  },
  {
   "cell_type": "code",
   "execution_count": 207,
   "metadata": {},
   "outputs": [
    {
     "data": {
      "text/plain": [
       "array([[3],\n",
       "       [4],\n",
       "       [5],\n",
       "       [6],\n",
       "       [7],\n",
       "       [8],\n",
       "       [9]])"
      ]
     },
     "execution_count": 207,
     "metadata": {},
     "output_type": "execute_result"
    }
   ],
   "source": [
    "np.arange(3, 10)[:, None]"
   ]
  },
  {
   "cell_type": "markdown",
   "metadata": {},
   "source": [
    "A way to understand numpy array:\n",
    "\n",
    "When dealing with $0$, $1$ or $2$ dimensional array, some of us try to give an interpretation through scalars, vectors and matrices. This is fine, since the definitions coincide but how od we picture and array of $(n, m, p)$ dimensions? \n",
    "\n",
    "- If `s` is a `(n, m)`-matrix and `d` is a `(n, q)`-matrix, then what does `s[:, None, :]` or `d[:,:, None]` mean? \n",
    "- Why does `s[:, None, :] * d[:,:, None]` work and what does it give?\n",
    "\n",
    "One way of understanding this is, instead of looking at a $n$-dimensional array as an _array of elements_ we can look at it as an _array of arrays_.\n",
    "\n",
    "- shape `(5, 4)`:\n",
    "    - There are `5` rows. Each of those rows is an array of shape `(4,)`. That is and array of `4` elements.\n",
    "    \n",
    "    \n",
    "- shape `(5, 1, 3)`:\n",
    "    - There are `5` rows. Let's look at one of them. That row consists of a `(1, 3)` array. That is, in this row there is just `1` array of 3 elements.\n",
    "    \n",
    "    \n",
    "- shape `(5, 4, 1)`: \n",
    "    - There are `5` rows. Let's look at one of them. That row consists of a `(4, 1)` array. That is, in this row there are `4` different arrays, each containing 1 element."
   ]
  },
  {
   "cell_type": "code",
   "execution_count": 208,
   "metadata": {},
   "outputs": [
    {
     "data": {
      "text/plain": [
       "array([[[6, 0, 5]],\n",
       "\n",
       "       [[5, 2, 9]],\n",
       "\n",
       "       [[8, 1, 2]],\n",
       "\n",
       "       [[8, 2, 5]],\n",
       "\n",
       "       [[3, 7, 9]]])"
      ]
     },
     "execution_count": 208,
     "metadata": {},
     "output_type": "execute_result"
    }
   ],
   "source": [
    "x_in[:, None, :]"
   ]
  },
  {
   "cell_type": "code",
   "execution_count": 209,
   "metadata": {},
   "outputs": [
    {
     "data": {
      "text/plain": [
       "array([[[5],\n",
       "        [4],\n",
       "        [2],\n",
       "        [9]],\n",
       "\n",
       "       [[8],\n",
       "        [3],\n",
       "        [2],\n",
       "        [7]],\n",
       "\n",
       "       [[1],\n",
       "        [3],\n",
       "        [1],\n",
       "        [3]],\n",
       "\n",
       "       [[9],\n",
       "        [4],\n",
       "        [8],\n",
       "        [8]],\n",
       "\n",
       "       [[1],\n",
       "        [6],\n",
       "        [4],\n",
       "        [0]]])"
      ]
     },
     "execution_count": 209,
     "metadata": {},
     "output_type": "execute_result"
    }
   ],
   "source": [
    "dx_out[:, :, None]"
   ]
  },
  {
   "cell_type": "code",
   "execution_count": 210,
   "metadata": {},
   "outputs": [
    {
     "data": {
      "text/plain": [
       "array([[[30,  0, 25],\n",
       "        [24,  0, 20],\n",
       "        [12,  0, 10],\n",
       "        [54,  0, 45]],\n",
       "\n",
       "       [[40, 16, 72],\n",
       "        [15,  6, 27],\n",
       "        [10,  4, 18],\n",
       "        [35, 14, 63]],\n",
       "\n",
       "       [[ 8,  1,  2],\n",
       "        [24,  3,  6],\n",
       "        [ 8,  1,  2],\n",
       "        [24,  3,  6]],\n",
       "\n",
       "       [[72, 18, 45],\n",
       "        [32,  8, 20],\n",
       "        [64, 16, 40],\n",
       "        [64, 16, 40]],\n",
       "\n",
       "       [[ 3,  7,  9],\n",
       "        [18, 42, 54],\n",
       "        [12, 28, 36],\n",
       "        [ 0,  0,  0]]])"
      ]
     },
     "execution_count": 210,
     "metadata": {},
     "output_type": "execute_result"
    }
   ],
   "source": [
    "dx_out[:, :, None] * x_in[:, None, :]"
   ]
  },
  {
   "cell_type": "code",
   "execution_count": 211,
   "metadata": {},
   "outputs": [
    {
     "data": {
      "text/plain": [
       "array([[[30,  0, 25],\n",
       "        [24,  0, 20],\n",
       "        [12,  0, 10],\n",
       "        [54,  0, 45]],\n",
       "\n",
       "       [[40, 16, 72],\n",
       "        [15,  6, 27],\n",
       "        [10,  4, 18],\n",
       "        [35, 14, 63]],\n",
       "\n",
       "       [[ 8,  1,  2],\n",
       "        [24,  3,  6],\n",
       "        [ 8,  1,  2],\n",
       "        [24,  3,  6]],\n",
       "\n",
       "       [[72, 18, 45],\n",
       "        [32,  8, 20],\n",
       "        [64, 16, 40],\n",
       "        [64, 16, 40]],\n",
       "\n",
       "       [[ 3,  7,  9],\n",
       "        [18, 42, 54],\n",
       "        [12, 28, 36],\n",
       "        [ 0,  0,  0]]])"
      ]
     },
     "execution_count": 211,
     "metadata": {},
     "output_type": "execute_result"
    }
   ],
   "source": [
    "dx_out[:, :, None] * x_in[:, None, :]"
   ]
  },
  {
   "cell_type": "code",
   "execution_count": 212,
   "metadata": {},
   "outputs": [
    {
     "data": {
      "text/plain": [
       "True"
      ]
     },
     "execution_count": 212,
     "metadata": {},
     "output_type": "execute_result"
    }
   ],
   "source": [
    "(dx_out[:, :, None] * x_in[:, None, :]).shape == (dx_out[:, :, None] * x_in[:, None, :]).shape"
   ]
  },
  {
   "cell_type": "code",
   "execution_count": 213,
   "metadata": {},
   "outputs": [
    {
     "data": {
      "text/plain": [
       "(5, 4, 3)"
      ]
     },
     "execution_count": 213,
     "metadata": {},
     "output_type": "execute_result"
    }
   ],
   "source": [
    "(dx_out[:, :, None] * x_in[:, None, :]).shape"
   ]
  },
  {
   "cell_type": "code",
   "execution_count": 214,
   "metadata": {},
   "outputs": [
    {
     "data": {
      "text/plain": [
       "(5, 4, 3)"
      ]
     },
     "execution_count": 214,
     "metadata": {},
     "output_type": "execute_result"
    }
   ],
   "source": [
    "(dx_out[:, :, None] * x_in[:, None, :]).shape"
   ]
  },
  {
   "cell_type": "code",
   "execution_count": 215,
   "metadata": {
    "collapsed": true
   },
   "outputs": [],
   "source": [
    "def log_smax(x_in):\n",
    "    \n",
    "    x_out = np.subtract(x_in, x_in.max(axis=1, keepdims=True))\n",
    "    \n",
    "    x_out = x_out - np.log(np.sum(np.exp(x_out), axis=1, keepdims=True))\n",
    "    \n",
    "    return x_out"
   ]
  },
  {
   "cell_type": "code",
   "execution_count": 216,
   "metadata": {},
   "outputs": [
    {
     "data": {
      "text/plain": [
       "array([[6, 0, 5],\n",
       "       [5, 2, 9],\n",
       "       [8, 1, 2],\n",
       "       [8, 2, 5],\n",
       "       [3, 7, 9]])"
      ]
     },
     "execution_count": 216,
     "metadata": {},
     "output_type": "execute_result"
    }
   ],
   "source": [
    "x_in"
   ]
  },
  {
   "cell_type": "code",
   "execution_count": 217,
   "metadata": {},
   "outputs": [
    {
     "data": {
      "text/plain": [
       "array([[-3.15072161e-01, -6.31507216e+00, -1.31507216e+00],\n",
       "       [-4.01904501e+00, -7.01904501e+00, -1.90450079e-02],\n",
       "       [-3.38489890e-03, -7.00338490e+00, -6.00338490e+00],\n",
       "       [-5.09457635e-02, -6.05094576e+00, -3.05094576e+00],\n",
       "       [-6.12910891e+00, -2.12910891e+00, -1.29108909e-01]])"
      ]
     },
     "execution_count": 217,
     "metadata": {},
     "output_type": "execute_result"
    }
   ],
   "source": [
    "log_smax(x_in)"
   ]
  },
  {
   "cell_type": "code",
   "execution_count": 218,
   "metadata": {
    "collapsed": true
   },
   "outputs": [],
   "source": [
    "from scipy import special"
   ]
  },
  {
   "cell_type": "code",
   "execution_count": 219,
   "metadata": {
    "scrolled": true
   },
   "outputs": [
    {
     "data": {
      "text/plain": [
       "array([[-3.15072161e-01, -6.31507216e+00, -1.31507216e+00],\n",
       "       [-4.01904501e+00, -7.01904501e+00, -1.90450079e-02],\n",
       "       [-3.38489890e-03, -7.00338490e+00, -6.00338490e+00],\n",
       "       [-5.09457635e-02, -6.05094576e+00, -3.05094576e+00],\n",
       "       [-6.12910891e+00, -2.12910891e+00, -1.29108909e-01]])"
      ]
     },
     "execution_count": 219,
     "metadata": {},
     "output_type": "execute_result"
    }
   ],
   "source": [
    "special.log_softmax(x_in, axis=1)"
   ]
  },
  {
   "cell_type": "code",
   "execution_count": 220,
   "metadata": {
    "collapsed": true
   },
   "outputs": [],
   "source": [
    "def smax(x_in):\n",
    "    \n",
    "    x_out = np.subtract(x_in, x_in.max(axis=1, keepdims=True))\n",
    "    \n",
    "    x_out = np.exp(x_out)/np.sum(np.exp(x_out), axis=1, keepdims=True)\n",
    "    \n",
    "    return x_out"
   ]
  },
  {
   "cell_type": "code",
   "execution_count": 221,
   "metadata": {},
   "outputs": [
    {
     "data": {
      "text/plain": [
       "array([[7.29736214e-01, 1.80883523e-03, 2.68454951e-01],\n",
       "       [1.79701181e-02, 8.94679497e-04, 9.81135202e-01],\n",
       "       [9.96620823e-01, 9.08800555e-04, 2.47037604e-03],\n",
       "       [9.50330212e-01, 2.35563308e-03, 4.73141552e-02],\n",
       "       [2.17852136e-03, 1.18943236e-01, 8.78878243e-01]])"
      ]
     },
     "execution_count": 221,
     "metadata": {},
     "output_type": "execute_result"
    }
   ],
   "source": [
    "smax(x_in)"
   ]
  },
  {
   "cell_type": "code",
   "execution_count": 222,
   "metadata": {},
   "outputs": [
    {
     "data": {
      "text/plain": [
       "array([[7.29736214e-01, 1.80883523e-03, 2.68454951e-01],\n",
       "       [1.79701181e-02, 8.94679497e-04, 9.81135202e-01],\n",
       "       [9.96620823e-01, 9.08800555e-04, 2.47037604e-03],\n",
       "       [9.50330212e-01, 2.35563308e-03, 4.73141552e-02],\n",
       "       [2.17852136e-03, 1.18943236e-01, 8.78878243e-01]])"
      ]
     },
     "execution_count": 222,
     "metadata": {},
     "output_type": "execute_result"
    }
   ],
   "source": [
    "special.softmax(x_in, axis=1)"
   ]
  },
  {
   "cell_type": "code",
   "execution_count": 223,
   "metadata": {},
   "outputs": [
    {
     "data": {
      "text/plain": [
       "array([[6, 0, 5],\n",
       "       [5, 2, 9],\n",
       "       [8, 1, 2],\n",
       "       [8, 2, 5],\n",
       "       [3, 7, 9]])"
      ]
     },
     "execution_count": 223,
     "metadata": {},
     "output_type": "execute_result"
    }
   ],
   "source": [
    "x_in"
   ]
  },
  {
   "cell_type": "code",
   "execution_count": 224,
   "metadata": {},
   "outputs": [
    {
     "data": {
      "text/plain": [
       "array([[7.29736214e-01, 1.80883523e-03, 2.68454951e-01],\n",
       "       [1.79701181e-02, 8.94679497e-04, 9.81135202e-01],\n",
       "       [9.96620823e-01, 9.08800555e-04, 2.47037604e-03],\n",
       "       [9.50330212e-01, 2.35563308e-03, 4.73141552e-02],\n",
       "       [2.17852136e-03, 1.18943236e-01, 8.78878243e-01]])"
      ]
     },
     "execution_count": 224,
     "metadata": {},
     "output_type": "execute_result"
    }
   ],
   "source": [
    "s = smax(x_in)\n",
    "s"
   ]
  },
  {
   "cell_type": "code",
   "execution_count": 225,
   "metadata": {},
   "outputs": [
    {
     "data": {
      "text/plain": [
       "array([0.72973621, 0.00180884, 0.26845495])"
      ]
     },
     "execution_count": 225,
     "metadata": {},
     "output_type": "execute_result"
    }
   ],
   "source": [
    "w = s[0].copy()\n",
    "w"
   ]
  },
  {
   "cell_type": "code",
   "execution_count": 226,
   "metadata": {
    "collapsed": true
   },
   "outputs": [],
   "source": [
    "I = np.eye(3)"
   ]
  },
  {
   "cell_type": "code",
   "execution_count": 227,
   "metadata": {},
   "outputs": [
    {
     "data": {
      "text/plain": [
       "array([[1., 0., 0.],\n",
       "       [0., 1., 0.],\n",
       "       [0., 0., 1.]])"
      ]
     },
     "execution_count": 227,
     "metadata": {},
     "output_type": "execute_result"
    }
   ],
   "source": [
    "I "
   ]
  },
  {
   "cell_type": "code",
   "execution_count": 228,
   "metadata": {},
   "outputs": [
    {
     "data": {
      "text/plain": [
       "array([[ 0.27026379, -0.00180884, -0.26845495],\n",
       "       [-0.72973621,  0.99819116, -0.26845495],\n",
       "       [-0.72973621, -0.00180884,  0.73154505]])"
      ]
     },
     "execution_count": 228,
     "metadata": {},
     "output_type": "execute_result"
    }
   ],
   "source": [
    "I - w"
   ]
  },
  {
   "cell_type": "code",
   "execution_count": 229,
   "metadata": {},
   "outputs": [
    {
     "data": {
      "text/plain": [
       "array([[0.72973621],\n",
       "       [0.00180884],\n",
       "       [0.26845495]])"
      ]
     },
     "execution_count": 229,
     "metadata": {},
     "output_type": "execute_result"
    }
   ],
   "source": [
    "w[:, None]"
   ]
  },
  {
   "cell_type": "code",
   "execution_count": 230,
   "metadata": {},
   "outputs": [
    {
     "data": {
      "text/plain": [
       "array([[ 0.19722127, -0.00131997, -0.1959013 ],\n",
       "       [-0.00131997,  0.00180556, -0.00048559],\n",
       "       [-0.1959013 , -0.00048559,  0.19638689]])"
      ]
     },
     "execution_count": 230,
     "metadata": {},
     "output_type": "execute_result"
    }
   ],
   "source": [
    "w[:, None] * (I - w)"
   ]
  },
  {
   "cell_type": "markdown",
   "metadata": {},
   "source": [
    "# Example derivative of Softmax:"
   ]
  },
  {
   "cell_type": "code",
   "execution_count": 231,
   "metadata": {},
   "outputs": [
    {
     "data": {
      "text/plain": [
       "array([[6, 0, 5],\n",
       "       [5, 2, 9],\n",
       "       [8, 1, 2],\n",
       "       [8, 2, 5],\n",
       "       [3, 7, 9]])"
      ]
     },
     "execution_count": 231,
     "metadata": {},
     "output_type": "execute_result"
    }
   ],
   "source": [
    "x_in"
   ]
  },
  {
   "cell_type": "code",
   "execution_count": 232,
   "metadata": {
    "scrolled": true
   },
   "outputs": [
    {
     "data": {
      "text/plain": [
       "array([[[6, 0, 5]],\n",
       "\n",
       "       [[5, 2, 9]],\n",
       "\n",
       "       [[8, 1, 2]],\n",
       "\n",
       "       [[8, 2, 5]],\n",
       "\n",
       "       [[3, 7, 9]]])"
      ]
     },
     "execution_count": 232,
     "metadata": {},
     "output_type": "execute_result"
    }
   ],
   "source": [
    "x_in[:, None, :]"
   ]
  },
  {
   "cell_type": "code",
   "execution_count": 233,
   "metadata": {},
   "outputs": [
    {
     "data": {
      "text/plain": [
       "array([[7.29736214e-01, 1.80883523e-03, 2.68454951e-01],\n",
       "       [1.79701181e-02, 8.94679497e-04, 9.81135202e-01],\n",
       "       [9.96620823e-01, 9.08800555e-04, 2.47037604e-03],\n",
       "       [9.50330212e-01, 2.35563308e-03, 4.73141552e-02],\n",
       "       [2.17852136e-03, 1.18943236e-01, 8.78878243e-01]])"
      ]
     },
     "execution_count": 233,
     "metadata": {},
     "output_type": "execute_result"
    }
   ],
   "source": [
    "s = smax(x_in)\n",
    "s"
   ]
  },
  {
   "cell_type": "code",
   "execution_count": 234,
   "metadata": {},
   "outputs": [
    {
     "data": {
      "text/plain": [
       "array([[[7.29736214e-01, 1.80883523e-03, 2.68454951e-01]],\n",
       "\n",
       "       [[1.79701181e-02, 8.94679497e-04, 9.81135202e-01]],\n",
       "\n",
       "       [[9.96620823e-01, 9.08800555e-04, 2.47037604e-03]],\n",
       "\n",
       "       [[9.50330212e-01, 2.35563308e-03, 4.73141552e-02]],\n",
       "\n",
       "       [[2.17852136e-03, 1.18943236e-01, 8.78878243e-01]]])"
      ]
     },
     "execution_count": 234,
     "metadata": {},
     "output_type": "execute_result"
    }
   ],
   "source": [
    "s[:, None, :]"
   ]
  },
  {
   "cell_type": "code",
   "execution_count": 235,
   "metadata": {},
   "outputs": [
    {
     "data": {
      "text/plain": [
       "array([[[ 2.70263786e-01, -1.80883523e-03, -2.68454951e-01],\n",
       "        [-7.29736214e-01,  9.98191165e-01, -2.68454951e-01],\n",
       "        [-7.29736214e-01, -1.80883523e-03,  7.31545049e-01]],\n",
       "\n",
       "       [[ 9.82029882e-01, -8.94679497e-04, -9.81135202e-01],\n",
       "        [-1.79701181e-02,  9.99105321e-01, -9.81135202e-01],\n",
       "        [-1.79701181e-02, -8.94679497e-04,  1.88647976e-02]],\n",
       "\n",
       "       [[ 3.37917659e-03, -9.08800555e-04, -2.47037604e-03],\n",
       "        [-9.96620823e-01,  9.99091199e-01, -2.47037604e-03],\n",
       "        [-9.96620823e-01, -9.08800555e-04,  9.97529624e-01]],\n",
       "\n",
       "       [[ 4.96697883e-02, -2.35563308e-03, -4.73141552e-02],\n",
       "        [-9.50330212e-01,  9.97644367e-01, -4.73141552e-02],\n",
       "        [-9.50330212e-01, -2.35563308e-03,  9.52685845e-01]],\n",
       "\n",
       "       [[ 9.97821479e-01, -1.18943236e-01, -8.78878243e-01],\n",
       "        [-2.17852136e-03,  8.81056764e-01, -8.78878243e-01],\n",
       "        [-2.17852136e-03, -1.18943236e-01,  1.21121757e-01]]])"
      ]
     },
     "execution_count": 235,
     "metadata": {},
     "output_type": "execute_result"
    }
   ],
   "source": [
    "np.eye(3) - s[:, None, :]"
   ]
  },
  {
   "cell_type": "code",
   "execution_count": 236,
   "metadata": {},
   "outputs": [
    {
     "data": {
      "text/plain": [
       "array([[[7.29736214e-01],\n",
       "        [1.80883523e-03],\n",
       "        [2.68454951e-01]],\n",
       "\n",
       "       [[1.79701181e-02],\n",
       "        [8.94679497e-04],\n",
       "        [9.81135202e-01]],\n",
       "\n",
       "       [[9.96620823e-01],\n",
       "        [9.08800555e-04],\n",
       "        [2.47037604e-03]],\n",
       "\n",
       "       [[9.50330212e-01],\n",
       "        [2.35563308e-03],\n",
       "        [4.73141552e-02]],\n",
       "\n",
       "       [[2.17852136e-03],\n",
       "        [1.18943236e-01],\n",
       "        [8.78878243e-01]]])"
      ]
     },
     "execution_count": 236,
     "metadata": {},
     "output_type": "execute_result"
    }
   ],
   "source": [
    "s[:, :, None]"
   ]
  },
  {
   "cell_type": "code",
   "execution_count": 237,
   "metadata": {},
   "outputs": [
    {
     "data": {
      "text/plain": [
       "(5, 3, 3)"
      ]
     },
     "execution_count": 237,
     "metadata": {},
     "output_type": "execute_result"
    }
   ],
   "source": [
    "dsdxT.shape"
   ]
  },
  {
   "cell_type": "code",
   "execution_count": 238,
   "metadata": {},
   "outputs": [
    {
     "data": {
      "text/plain": [
       "(5, 1, 3)"
      ]
     },
     "execution_count": 238,
     "metadata": {},
     "output_type": "execute_result"
    }
   ],
   "source": [
    "dLdsT.shape"
   ]
  },
  {
   "cell_type": "code",
   "execution_count": 239,
   "metadata": {},
   "outputs": [
    {
     "data": {
      "text/plain": [
       "(5, 3, 3)"
      ]
     },
     "execution_count": 239,
     "metadata": {},
     "output_type": "execute_result"
    }
   ],
   "source": [
    "dsdxT.shape"
   ]
  },
  {
   "cell_type": "code",
   "execution_count": 240,
   "metadata": {},
   "outputs": [
    {
     "data": {
      "text/plain": [
       "array([ 0.16690709, -0.03486253, -0.04488823])"
      ]
     },
     "execution_count": 240,
     "metadata": {},
     "output_type": "execute_result"
    }
   ],
   "source": [
    "np.array([ 2.38438706e-02, -1.74312661e-02, -6.41260445e-03]) * np.array([7, 2, 7])"
   ]
  },
  {
   "cell_type": "code",
   "execution_count": 241,
   "metadata": {},
   "outputs": [
    {
     "data": {
      "text/plain": [
       "-1.000000013351432e-10"
      ]
     },
     "execution_count": 241,
     "metadata": {},
     "output_type": "execute_result"
    }
   ],
   "source": [
    "sum([ 1.66907094e-01,-1.22018863e-01, -4.48882311e-02])"
   ]
  },
  {
   "cell_type": "code",
   "execution_count": 242,
   "metadata": {
    "scrolled": true
   },
   "outputs": [
    {
     "data": {
      "text/plain": [
       "array([[[ 1.97221272e-01, -1.31997257e-03, -1.95901299e-01],\n",
       "        [-1.31997257e-03,  1.80556334e-03, -4.85590772e-04],\n",
       "        [-1.95901299e-01, -4.85590772e-04,  1.96386890e-01]],\n",
       "\n",
       "       [[ 1.76471929e-02, -1.60774962e-05, -1.76311154e-02],\n",
       "        [-1.60774962e-05,  8.93879045e-04, -8.77801549e-04],\n",
       "        [-1.76311154e-02, -8.77801549e-04,  1.85089170e-02]],\n",
       "\n",
       "       [[ 3.36775776e-03, -9.05729558e-04, -2.46202820e-03],\n",
       "        [-9.05729558e-04,  9.07974637e-04, -2.24507911e-06],\n",
       "        [-2.46202820e-03, -2.24507911e-06,  2.46427328e-03]],\n",
       "\n",
       "       [[ 4.72027004e-02, -2.23862928e-03, -4.49640711e-02],\n",
       "        [-2.23862928e-03,  2.35008407e-03, -1.11454789e-04],\n",
       "        [-4.49640711e-02, -1.11454789e-04,  4.50755259e-02]],\n",
       "\n",
       "       [[ 2.17377540e-03, -2.59120380e-04, -1.91465502e-03],\n",
       "        [-2.59120380e-04,  1.04795743e-01, -1.04536622e-01],\n",
       "        [-1.91465502e-03, -1.04536622e-01,  1.06451277e-01]]])"
      ]
     },
     "execution_count": 242,
     "metadata": {},
     "output_type": "execute_result"
    }
   ],
   "source": [
    "dsdxT = s[:, :, None] * (np.eye(3) - s[:, None, :]) #dxT = dx\n",
    "dsdxT"
   ]
  },
  {
   "cell_type": "code",
   "execution_count": 243,
   "metadata": {
    "scrolled": true
   },
   "outputs": [
    {
     "data": {
      "text/plain": [
       "array([[[9, 9, 9]],\n",
       "\n",
       "       [[0, 3, 2]],\n",
       "\n",
       "       [[4, 2, 1]],\n",
       "\n",
       "       [[1, 6, 6]],\n",
       "\n",
       "       [[9, 6, 1]]])"
      ]
     },
     "execution_count": 243,
     "metadata": {},
     "output_type": "execute_result"
    }
   ],
   "source": [
    "dLdsT = np.random.randint(0, 10, (5, 1, 3))\n",
    "dLdsT"
   ]
  },
  {
   "cell_type": "code",
   "execution_count": 244,
   "metadata": {},
   "outputs": [
    {
     "data": {
      "text/plain": [
       "array([[[ 1.77499145e+00, -1.18797531e-02, -1.76311169e+00],\n",
       "        [-1.18797531e-02,  1.62500701e-02, -4.37031695e-03],\n",
       "        [-1.76311169e+00, -4.37031695e-03,  1.76748201e+00]],\n",
       "\n",
       "       [[ 0.00000000e+00, -4.82324886e-05, -3.52622309e-02],\n",
       "        [-0.00000000e+00,  2.68163714e-03, -1.75560310e-03],\n",
       "        [-0.00000000e+00, -2.63340465e-03,  3.70178340e-02]],\n",
       "\n",
       "       [[ 1.34710310e-02, -1.81145912e-03, -2.46202820e-03],\n",
       "        [-3.62291823e-03,  1.81594927e-03, -2.24507911e-06],\n",
       "        [-9.84811279e-03, -4.49015823e-06,  2.46427328e-03]],\n",
       "\n",
       "       [[ 4.72027004e-02, -1.34317757e-02, -2.69784427e-01],\n",
       "        [-2.23862928e-03,  1.41005044e-02, -6.68728735e-04],\n",
       "        [-4.49640711e-02, -6.68728735e-04,  2.70453156e-01]],\n",
       "\n",
       "       [[ 1.95639786e-02, -1.55472228e-03, -1.91465502e-03],\n",
       "        [-2.33208342e-03,  6.28774455e-01, -1.04536622e-01],\n",
       "        [-1.72318952e-02, -6.27219733e-01,  1.06451277e-01]]])"
      ]
     },
     "execution_count": 244,
     "metadata": {},
     "output_type": "execute_result"
    }
   ],
   "source": [
    "np.multiply(dLdsT, dsdxT)"
   ]
  },
  {
   "cell_type": "code",
   "execution_count": 254,
   "metadata": {},
   "outputs": [
    {
     "data": {
      "text/plain": [
       "0.22482035616499996"
      ]
     },
     "execution_count": 254,
     "metadata": {},
     "output_type": "execute_result"
    }
   ],
   "source": [
    "sum([-4.49640711e-02, -6.68728735e-04,  2.70453156e-01])"
   ]
  },
  {
   "cell_type": "code",
   "execution_count": 247,
   "metadata": {},
   "outputs": [
    {
     "data": {
      "text/plain": [
       "array([[ 0.00000000e+00, -1.73472348e-18,  2.22044605e-16],\n",
       "       [-3.53104633e-02,  9.26034038e-04,  3.43844293e-02],\n",
       "       [ 9.19754371e-03, -1.80921404e-03, -7.38832967e-03],\n",
       "       [-2.36013502e-01,  1.11931464e-02,  2.24820356e-01],\n",
       "       [ 1.60946013e-02,  5.21905750e-01, -5.38000351e-01]])"
      ]
     },
     "execution_count": 247,
     "metadata": {},
     "output_type": "execute_result"
    }
   ],
   "source": [
    "np.multiply(dLdsT, dsdxT).sum(axis=2)"
   ]
  },
  {
   "cell_type": "code",
   "execution_count": 248,
   "metadata": {},
   "outputs": [
    {
     "data": {
      "text/plain": [
       "(5, 3)"
      ]
     },
     "execution_count": 248,
     "metadata": {},
     "output_type": "execute_result"
    }
   ],
   "source": [
    "np.multiply(dLdsT, dsdxT).sum(axis=2).shape"
   ]
  },
  {
   "cell_type": "code",
   "execution_count": 249,
   "metadata": {},
   "outputs": [
    {
     "data": {
      "text/plain": [
       "(5, 3, 3)"
      ]
     },
     "execution_count": 249,
     "metadata": {},
     "output_type": "execute_result"
    }
   ],
   "source": [
    "np.multiply(dLdsT, dsdxT).shape"
   ]
  },
  {
   "cell_type": "code",
   "execution_count": 251,
   "metadata": {},
   "outputs": [
    {
     "data": {
      "text/plain": [
       "array([[ 0.00000000e+00, -1.73472348e-18,  2.22044605e-16],\n",
       "       [-3.53104633e-02,  9.26034038e-04,  3.43844293e-02],\n",
       "       [ 9.19754371e-03, -1.80921404e-03, -7.38832967e-03],\n",
       "       [-2.36013502e-01,  1.11931464e-02,  2.24820356e-01],\n",
       "       [ 1.60946013e-02,  5.21905750e-01, -5.38000351e-01]])"
      ]
     },
     "execution_count": 251,
     "metadata": {},
     "output_type": "execute_result"
    }
   ],
   "source": [
    "dLdxT = np.matmul(dLdsT, dsdxT)\n",
    "np.squeeze(dLdxT)"
   ]
  },
  {
   "cell_type": "code",
   "execution_count": 147,
   "metadata": {},
   "outputs": [
    {
     "data": {
      "text/plain": [
       "-0.03666907949999999"
      ]
     },
     "execution_count": 147,
     "metadata": {},
     "output_type": "execute_result"
    }
   ],
   "source": [
    "sum([ 2.38438706e-02, -3.48625323e-02, -2.56504178e-02])"
   ]
  },
  {
   "cell_type": "code",
   "execution_count": 148,
   "metadata": {},
   "outputs": [
    {
     "data": {
      "text/plain": [
       "0.01719636431"
      ]
     },
     "execution_count": 148,
     "metadata": {},
     "output_type": "execute_result"
    }
   ],
   "source": [
    "sum([-1.74312661e-02,  3.50974342e-02, -4.69803790e-04])"
   ]
  },
  {
   "cell_type": "code",
   "execution_count": 164,
   "metadata": {},
   "outputs": [
    {
     "data": {
      "text/plain": [
       "array([[[ 2.38438706e-02, -1.74312661e-02, -6.41260445e-03],\n",
       "        [-1.74312661e-02,  1.75487171e-02, -1.17450947e-04],\n",
       "        [-6.41260445e-03, -1.17450947e-04,  6.53005540e-03]],\n",
       "\n",
       "       [[ 2.95299969e-04, -2.60099350e-04, -3.52006192e-05],\n",
       "        [-2.60099350e-04,  1.05191666e-01, -1.04931567e-01],\n",
       "        [-3.52006192e-05, -1.04931567e-01,  1.04966768e-01]],\n",
       "\n",
       "       [[ 1.08924193e-01, -1.03758368e-01, -5.16582496e-03],\n",
       "        [-1.03758368e-01,  1.04457486e-01, -6.99118384e-04],\n",
       "        [-5.16582496e-03, -6.99118384e-04,  5.86494335e-03]],\n",
       "\n",
       "       [[ 2.00982401e-01, -1.91450635e-01, -9.53176587e-03],\n",
       "        [-1.91450635e-01,  1.94957176e-01, -3.50654070e-03],\n",
       "        [-9.53176587e-03, -3.50654070e-03,  1.30383066e-02]],\n",
       "\n",
       "       [[ 4.50755259e-02, -1.11454789e-04, -4.49640711e-02],\n",
       "        [-1.11454789e-04,  2.35008407e-03, -2.23862928e-03],\n",
       "        [-4.49640711e-02, -2.23862928e-03,  4.72027004e-02]]])"
      ]
     },
     "execution_count": 164,
     "metadata": {},
     "output_type": "execute_result"
    }
   ],
   "source": [
    "dsdxT"
   ]
  },
  {
   "cell_type": "code",
   "execution_count": 165,
   "metadata": {},
   "outputs": [
    {
     "data": {
      "text/plain": [
       "array([[[7, 2, 7]],\n",
       "\n",
       "       [[5, 7, 8]],\n",
       "\n",
       "       [[1, 0, 8]],\n",
       "\n",
       "       [[3, 3, 5]],\n",
       "\n",
       "       [[7, 6, 1]]])"
      ]
     },
     "execution_count": 165,
     "metadata": {},
     "output_type": "execute_result"
    }
   ],
   "source": [
    "dLdsT"
   ]
  },
  {
   "cell_type": "code",
   "execution_count": 252,
   "metadata": {},
   "outputs": [
    {
     "ename": "NameError",
     "evalue": "name 'batch_size' is not defined",
     "output_type": "error",
     "traceback": [
      "\u001b[0;31m---------------------------------------------------------------------------\u001b[0m",
      "\u001b[0;31mNameError\u001b[0m                                 Traceback (most recent call last)",
      "\u001b[0;32m<ipython-input-252-957a59691cd1>\u001b[0m in \u001b[0;36m<module>\u001b[0;34m()\u001b[0m\n\u001b[0;32m----> 1\u001b[0;31m \u001b[0mnp\u001b[0m\u001b[0;34m.\u001b[0m\u001b[0mmultiply\u001b[0m\u001b[0;34m(\u001b[0m\u001b[0mgradOutput\u001b[0m\u001b[0;34m.\u001b[0m\u001b[0mreshape\u001b[0m\u001b[0;34m(\u001b[0m\u001b[0mbatch_size\u001b[0m\u001b[0;34m,\u001b[0m \u001b[0;34m-\u001b[0m\u001b[0;36m1\u001b[0m\u001b[0;34m,\u001b[0m \u001b[0mn_feats\u001b[0m\u001b[0;34m)\u001b[0m\u001b[0;34m,\u001b[0m \u001b[0mnp\u001b[0m\u001b[0;34m.\u001b[0m\u001b[0msubtract\u001b[0m\u001b[0;34m(\u001b[0m\u001b[0mnp\u001b[0m\u001b[0;34m.\u001b[0m\u001b[0mmultiply\u001b[0m\u001b[0;34m(\u001b[0m\u001b[0mnp\u001b[0m\u001b[0;34m.\u001b[0m\u001b[0meye\u001b[0m\u001b[0;34m(\u001b[0m\u001b[0mn_feats\u001b[0m\u001b[0;34m)\u001b[0m\u001b[0;34m,\u001b[0m \u001b[0ma\u001b[0m\u001b[0;34m)\u001b[0m\u001b[0;34m,\u001b[0m \u001b[0mnp\u001b[0m\u001b[0;34m.\u001b[0m\u001b[0mmultiply\u001b[0m\u001b[0;34m(\u001b[0m\u001b[0ma\u001b[0m\u001b[0;34m,\u001b[0m \u001b[0mb\u001b[0m\u001b[0;34m)\u001b[0m\u001b[0;34m)\u001b[0m\u001b[0;34m)\u001b[0m\u001b[0;34m.\u001b[0m\u001b[0msum\u001b[0m\u001b[0;34m(\u001b[0m\u001b[0maxis\u001b[0m\u001b[0;34m=\u001b[0m\u001b[0;36m2\u001b[0m\u001b[0;34m)\u001b[0m\u001b[0;34m\u001b[0m\u001b[0m\n\u001b[0m",
      "\u001b[0;31mNameError\u001b[0m: name 'batch_size' is not defined"
     ]
    }
   ],
   "source": [
    "np.multiply(gradOutput.reshape(batch_size, -1, n_feats), np.subtract(np.multiply(np.eye(n_feats), a), np.multiply(a, b))).sum(axis=2)"
   ]
  },
  {
   "cell_type": "markdown",
   "metadata": {},
   "source": [
    "### From notebook"
   ]
  },
  {
   "cell_type": "code",
   "execution_count": 151,
   "metadata": {},
   "outputs": [
    {
     "data": {
      "text/plain": [
       "array([[0.03511903, 0.25949646, 0.70538451],\n",
       "       [0.84379473, 0.04201007, 0.1141952 ],\n",
       "       [0.94649912, 0.04712342, 0.00637746],\n",
       "       [0.10650698, 0.78698604, 0.10650698],\n",
       "       [0.49832117, 0.49832117, 0.00335766]])"
      ]
     },
     "execution_count": 151,
     "metadata": {},
     "output_type": "execute_result"
    }
   ],
   "source": [
    "s"
   ]
  },
  {
   "cell_type": "code",
   "execution_count": null,
   "metadata": {
    "collapsed": true
   },
   "outputs": [],
   "source": [
    "batch_size, n_feats = self.output.shape\n",
    "a = self.output.reshape(batch_size, n_feats, -1)\n",
    "b = self.output.reshape(batch_size, -1, n_feats)\n",
    "self.gradInput = np.multiply(gradOutput.reshape(batch_size, -1, n_feats), np.subtract(np.multiply(np.eye(n_feats), a), np.multiply(a, b))).sum(axis=2)"
   ]
  },
  {
   "cell_type": "code",
   "execution_count": 152,
   "metadata": {
    "collapsed": true
   },
   "outputs": [],
   "source": [
    "batch_size, n_feats = s.shape"
   ]
  },
  {
   "cell_type": "code",
   "execution_count": 153,
   "metadata": {},
   "outputs": [
    {
     "data": {
      "text/plain": [
       "5"
      ]
     },
     "execution_count": 153,
     "metadata": {},
     "output_type": "execute_result"
    }
   ],
   "source": [
    "batch_size"
   ]
  },
  {
   "cell_type": "code",
   "execution_count": 154,
   "metadata": {},
   "outputs": [
    {
     "data": {
      "text/plain": [
       "3"
      ]
     },
     "execution_count": 154,
     "metadata": {},
     "output_type": "execute_result"
    }
   ],
   "source": [
    "n_feats"
   ]
  },
  {
   "cell_type": "code",
   "execution_count": 155,
   "metadata": {
    "collapsed": true
   },
   "outputs": [],
   "source": [
    "a = s.reshape(batch_size, n_feats, -1)"
   ]
  },
  {
   "cell_type": "code",
   "execution_count": 156,
   "metadata": {},
   "outputs": [
    {
     "data": {
      "text/plain": [
       "array([[[0.03511903],\n",
       "        [0.25949646],\n",
       "        [0.70538451]],\n",
       "\n",
       "       [[0.84379473],\n",
       "        [0.04201007],\n",
       "        [0.1141952 ]],\n",
       "\n",
       "       [[0.94649912],\n",
       "        [0.04712342],\n",
       "        [0.00637746]],\n",
       "\n",
       "       [[0.10650698],\n",
       "        [0.78698604],\n",
       "        [0.10650698]],\n",
       "\n",
       "       [[0.49832117],\n",
       "        [0.49832117],\n",
       "        [0.00335766]]])"
      ]
     },
     "execution_count": 156,
     "metadata": {},
     "output_type": "execute_result"
    }
   ],
   "source": [
    "a"
   ]
  },
  {
   "cell_type": "code",
   "execution_count": 159,
   "metadata": {},
   "outputs": [
    {
     "data": {
      "text/plain": [
       "array([[[0.03511903, 0.25949646, 0.70538451]],\n",
       "\n",
       "       [[0.84379473, 0.04201007, 0.1141952 ]],\n",
       "\n",
       "       [[0.94649912, 0.04712342, 0.00637746]],\n",
       "\n",
       "       [[0.10650698, 0.78698604, 0.10650698]],\n",
       "\n",
       "       [[0.49832117, 0.49832117, 0.00335766]]])"
      ]
     },
     "execution_count": 159,
     "metadata": {},
     "output_type": "execute_result"
    }
   ],
   "source": [
    "b = s.reshape(batch_size, -1, n_feats)\n",
    "b"
   ]
  },
  {
   "cell_type": "code",
   "execution_count": 160,
   "metadata": {},
   "outputs": [
    {
     "data": {
      "text/plain": [
       "array([[[7, 5, 6]],\n",
       "\n",
       "       [[8, 2, 0]],\n",
       "\n",
       "       [[2, 0, 6]],\n",
       "\n",
       "       [[3, 8, 6]],\n",
       "\n",
       "       [[6, 7, 3]]])"
      ]
     },
     "execution_count": 160,
     "metadata": {},
     "output_type": "execute_result"
    }
   ],
   "source": [
    "dLdsT"
   ]
  },
  {
   "cell_type": "code",
   "execution_count": 162,
   "metadata": {},
   "outputs": [
    {
     "data": {
      "text/plain": [
       "array([[[0.01930357, 0.49218674, 0.45277248]],\n",
       "\n",
       "       [[0.38457102, 0.50025952, 0.82578179]],\n",
       "\n",
       "       [[0.14627171, 0.98986419, 0.7306874 ]],\n",
       "\n",
       "       [[0.11548067, 0.16712459, 0.66597947]],\n",
       "\n",
       "       [[0.43219543, 0.38642148, 0.61332477]]])"
      ]
     },
     "execution_count": 162,
     "metadata": {},
     "output_type": "execute_result"
    }
   ],
   "source": [
    "gradOutput = np.random.random((n_batch, n_feats))\n",
    "gradOutput.reshape(batch_size, -1, n_feats)"
   ]
  },
  {
   "cell_type": "code",
   "execution_count": 163,
   "metadata": {},
   "outputs": [
    {
     "data": {
      "text/plain": [
       "array([[[0.03511903],\n",
       "        [0.25949646],\n",
       "        [0.70538451]],\n",
       "\n",
       "       [[0.84379473],\n",
       "        [0.04201007],\n",
       "        [0.1141952 ]],\n",
       "\n",
       "       [[0.94649912],\n",
       "        [0.04712342],\n",
       "        [0.00637746]],\n",
       "\n",
       "       [[0.10650698],\n",
       "        [0.78698604],\n",
       "        [0.10650698]],\n",
       "\n",
       "       [[0.49832117],\n",
       "        [0.49832117],\n",
       "        [0.00335766]]])"
      ]
     },
     "execution_count": 163,
     "metadata": {},
     "output_type": "execute_result"
    }
   ],
   "source": [
    "a"
   ]
  },
  {
   "cell_type": "code",
   "execution_count": 164,
   "metadata": {},
   "outputs": [
    {
     "data": {
      "text/plain": [
       "array([[[0.03511903],\n",
       "        [0.25949646],\n",
       "        [0.70538451]],\n",
       "\n",
       "       [[0.84379473],\n",
       "        [0.04201007],\n",
       "        [0.1141952 ]],\n",
       "\n",
       "       [[0.94649912],\n",
       "        [0.04712342],\n",
       "        [0.00637746]],\n",
       "\n",
       "       [[0.10650698],\n",
       "        [0.78698604],\n",
       "        [0.10650698]],\n",
       "\n",
       "       [[0.49832117],\n",
       "        [0.49832117],\n",
       "        [0.00335766]]])"
      ]
     },
     "execution_count": 164,
     "metadata": {},
     "output_type": "execute_result"
    }
   ],
   "source": [
    "s[:,:, None]"
   ]
  },
  {
   "cell_type": "code",
   "execution_count": 165,
   "metadata": {},
   "outputs": [
    {
     "data": {
      "text/plain": [
       "array([[[0.03511903, 0.        , 0.        ],\n",
       "        [0.        , 0.25949646, 0.        ],\n",
       "        [0.        , 0.        , 0.70538451]],\n",
       "\n",
       "       [[0.84379473, 0.        , 0.        ],\n",
       "        [0.        , 0.04201007, 0.        ],\n",
       "        [0.        , 0.        , 0.1141952 ]],\n",
       "\n",
       "       [[0.94649912, 0.        , 0.        ],\n",
       "        [0.        , 0.04712342, 0.        ],\n",
       "        [0.        , 0.        , 0.00637746]],\n",
       "\n",
       "       [[0.10650698, 0.        , 0.        ],\n",
       "        [0.        , 0.78698604, 0.        ],\n",
       "        [0.        , 0.        , 0.10650698]],\n",
       "\n",
       "       [[0.49832117, 0.        , 0.        ],\n",
       "        [0.        , 0.49832117, 0.        ],\n",
       "        [0.        , 0.        , 0.00335766]]])"
      ]
     },
     "execution_count": 165,
     "metadata": {},
     "output_type": "execute_result"
    }
   ],
   "source": [
    "np.multiply(np.eye(n_feats), a)"
   ]
  },
  {
   "cell_type": "code",
   "execution_count": 166,
   "metadata": {},
   "outputs": [
    {
     "data": {
      "text/plain": [
       "array([[[1.23334605e-03, 9.11326319e-03, 2.47724177e-02],\n",
       "        [9.11326319e-03, 6.73384129e-02, 1.83044784e-01],\n",
       "        [2.47724177e-02, 1.83044784e-01, 4.97567311e-01]],\n",
       "\n",
       "       [[7.11989554e-01, 3.54478726e-02, 9.63573079e-02],\n",
       "        [3.54478726e-02, 1.76484566e-03, 4.79734788e-03],\n",
       "        [9.63573079e-02, 4.79734788e-03, 1.30405436e-02]],\n",
       "\n",
       "       [[8.95860589e-01, 4.46022724e-02, 6.03626117e-03],\n",
       "        [4.46022724e-02, 2.22061638e-03, 3.00527747e-04],\n",
       "        [6.03626117e-03, 3.00527747e-04, 4.06720078e-05]],\n",
       "\n",
       "       [[1.13437366e-02, 8.38195058e-02, 1.13437366e-02],\n",
       "        [8.38195058e-02, 6.19347031e-01, 8.38195058e-02],\n",
       "        [1.13437366e-02, 8.38195058e-02, 1.13437366e-02]],\n",
       "\n",
       "       [[2.48323988e-01, 2.48323988e-01, 1.67319387e-03],\n",
       "        [2.48323988e-01, 2.48323988e-01, 1.67319387e-03],\n",
       "        [1.67319387e-03, 1.67319387e-03, 1.12738916e-05]]])"
      ]
     },
     "execution_count": 166,
     "metadata": {},
     "output_type": "execute_result"
    }
   ],
   "source": [
    "np.multiply(a, b)"
   ]
  },
  {
   "cell_type": "code",
   "execution_count": 167,
   "metadata": {},
   "outputs": [
    {
     "data": {
      "text/plain": [
       "array([[[ 0.03388568, -0.00911326, -0.02477242],\n",
       "        [-0.00911326,  0.19215805, -0.18304478],\n",
       "        [-0.02477242, -0.18304478,  0.2078172 ]],\n",
       "\n",
       "       [[ 0.13180518, -0.03544787, -0.09635731],\n",
       "        [-0.03544787,  0.04024522, -0.00479735],\n",
       "        [-0.09635731, -0.00479735,  0.10115466]],\n",
       "\n",
       "       [[ 0.05063853, -0.04460227, -0.00603626],\n",
       "        [-0.04460227,  0.0449028 , -0.00030053],\n",
       "        [-0.00603626, -0.00030053,  0.00633679]],\n",
       "\n",
       "       [[ 0.09516324, -0.08381951, -0.01134374],\n",
       "        [-0.08381951,  0.16763901, -0.08381951],\n",
       "        [-0.01134374, -0.08381951,  0.09516324]],\n",
       "\n",
       "       [[ 0.24999718, -0.24832399, -0.00167319],\n",
       "        [-0.24832399,  0.24999718, -0.00167319],\n",
       "        [-0.00167319, -0.00167319,  0.00334639]]])"
      ]
     },
     "execution_count": 167,
     "metadata": {},
     "output_type": "execute_result"
    }
   ],
   "source": [
    "np.subtract(np.multiply(np.eye(n_feats), a), np.multiply(a, b))"
   ]
  },
  {
   "cell_type": "code",
   "execution_count": 168,
   "metadata": {
    "scrolled": true
   },
   "outputs": [
    {
     "data": {
      "text/plain": [
       "array([[[ 0.03388568, -0.00911326, -0.02477242],\n",
       "        [-0.00911326,  0.19215805, -0.18304478],\n",
       "        [-0.02477242, -0.18304478,  0.2078172 ]],\n",
       "\n",
       "       [[ 0.13180518, -0.03544787, -0.09635731],\n",
       "        [-0.03544787,  0.04024522, -0.00479735],\n",
       "        [-0.09635731, -0.00479735,  0.10115466]],\n",
       "\n",
       "       [[ 0.05063853, -0.04460227, -0.00603626],\n",
       "        [-0.04460227,  0.0449028 , -0.00030053],\n",
       "        [-0.00603626, -0.00030053,  0.00633679]],\n",
       "\n",
       "       [[ 0.09516324, -0.08381951, -0.01134374],\n",
       "        [-0.08381951,  0.16763901, -0.08381951],\n",
       "        [-0.01134374, -0.08381951,  0.09516324]],\n",
       "\n",
       "       [[ 0.24999718, -0.24832399, -0.00167319],\n",
       "        [-0.24832399,  0.24999718, -0.00167319],\n",
       "        [-0.00167319, -0.00167319,  0.00334639]]])"
      ]
     },
     "execution_count": 168,
     "metadata": {},
     "output_type": "execute_result"
    }
   ],
   "source": [
    "dsdxT"
   ]
  },
  {
   "cell_type": "code",
   "execution_count": 170,
   "metadata": {},
   "outputs": [
    {
     "data": {
      "text/plain": [
       "(5, 1, 3)"
      ]
     },
     "execution_count": 170,
     "metadata": {},
     "output_type": "execute_result"
    }
   ],
   "source": [
    "gradOutput.reshape(batch_size, -1, n_feats).shape"
   ]
  },
  {
   "cell_type": "code",
   "execution_count": 183,
   "metadata": {},
   "outputs": [
    {
     "data": {
      "text/plain": [
       "(5, 1, 3)"
      ]
     },
     "execution_count": 183,
     "metadata": {},
     "output_type": "execute_result"
    }
   ],
   "source": [
    "np.random.randint(0, 10, (5, 1, 3)).shape"
   ]
  },
  {
   "cell_type": "code",
   "execution_count": 186,
   "metadata": {},
   "outputs": [
    {
     "data": {
      "text/plain": [
       "array([[[0.01930357, 0.49218674, 0.45277248]],\n",
       "\n",
       "       [[0.38457102, 0.50025952, 0.82578179]],\n",
       "\n",
       "       [[0.14627171, 0.98986419, 0.7306874 ]],\n",
       "\n",
       "       [[0.11548067, 0.16712459, 0.66597947]],\n",
       "\n",
       "       [[0.43219543, 0.38642148, 0.61332477]]])"
      ]
     },
     "execution_count": 186,
     "metadata": {},
     "output_type": "execute_result"
    }
   ],
   "source": [
    "gradOutput.reshape(batch_size, -1, n_feats)"
   ]
  },
  {
   "cell_type": "code",
   "execution_count": 187,
   "metadata": {},
   "outputs": [
    {
     "data": {
      "text/plain": [
       "array([[[ 0.03388568, -0.00911326, -0.02477242],\n",
       "        [-0.00911326,  0.19215805, -0.18304478],\n",
       "        [-0.02477242, -0.18304478,  0.2078172 ]],\n",
       "\n",
       "       [[ 0.13180518, -0.03544787, -0.09635731],\n",
       "        [-0.03544787,  0.04024522, -0.00479735],\n",
       "        [-0.09635731, -0.00479735,  0.10115466]],\n",
       "\n",
       "       [[ 0.05063853, -0.04460227, -0.00603626],\n",
       "        [-0.04460227,  0.0449028 , -0.00030053],\n",
       "        [-0.00603626, -0.00030053,  0.00633679]],\n",
       "\n",
       "       [[ 0.09516324, -0.08381951, -0.01134374],\n",
       "        [-0.08381951,  0.16763901, -0.08381951],\n",
       "        [-0.01134374, -0.08381951,  0.09516324]],\n",
       "\n",
       "       [[ 0.24999718, -0.24832399, -0.00167319],\n",
       "        [-0.24832399,  0.24999718, -0.00167319],\n",
       "        [-0.00167319, -0.00167319,  0.00334639]]])"
      ]
     },
     "execution_count": 187,
     "metadata": {},
     "output_type": "execute_result"
    }
   ],
   "source": [
    "np.subtract(np.multiply(np.eye(n_feats), a), np.multiply(a, b))"
   ]
  },
  {
   "cell_type": "code",
   "execution_count": 185,
   "metadata": {},
   "outputs": [
    {
     "data": {
      "text/plain": [
       "array([[[ 0.00065411, -0.00448543, -0.01121627],\n",
       "        [-0.00017592,  0.09457764, -0.08287764],\n",
       "        [-0.0004782 , -0.09009221,  0.09409391]],\n",
       "\n",
       "       [[ 0.05068845, -0.01773314, -0.07957011],\n",
       "        [-0.01363222,  0.02013305, -0.00396156],\n",
       "        [-0.03705623, -0.00239992,  0.08353167]],\n",
       "\n",
       "       [[ 0.00740698, -0.04415019, -0.00441062],\n",
       "        [-0.00652405,  0.04444767, -0.00021959],\n",
       "        [-0.00088293, -0.00029748,  0.00463021]],\n",
       "\n",
       "       [[ 0.01098952, -0.0140083 , -0.0075547 ],\n",
       "        [-0.00967953,  0.0280166 , -0.05582207],\n",
       "        [-0.00130998, -0.0140083 ,  0.06337677]],\n",
       "\n",
       "       [[ 0.10804764, -0.09595772, -0.00102621],\n",
       "        [-0.10732449,  0.09660428, -0.00102621],\n",
       "        [-0.00072315, -0.00064656,  0.00205242]]])"
      ]
     },
     "execution_count": 185,
     "metadata": {},
     "output_type": "execute_result"
    }
   ],
   "source": [
    "np.multiply(gradOutput.reshape(batch_size, -1, n_feats), np.subtract(np.multiply(np.eye(n_feats), a), np.multiply(a, b)))"
   ]
  },
  {
   "cell_type": "code",
   "execution_count": 184,
   "metadata": {},
   "outputs": [
    {
     "data": {
      "text/plain": [
       "array([[-0.01504758,  0.01152408,  0.0035235 ],\n",
       "       [-0.04661479,  0.00253927,  0.04407553],\n",
       "       [-0.04115383,  0.03770403,  0.0034498 ],\n",
       "       [-0.01057348, -0.037485  ,  0.04805848],\n",
       "       [ 0.01106371, -0.01174642,  0.00068272]])"
      ]
     },
     "execution_count": 184,
     "metadata": {},
     "output_type": "execute_result"
    }
   ],
   "source": [
    "np.multiply(gradOutput.reshape(batch_size, -1, n_feats), np.subtract(np.multiply(np.eye(n_feats), a), np.multiply(a, b))).sum(axis=2)"
   ]
  },
  {
   "cell_type": "code",
   "execution_count": 188,
   "metadata": {},
   "outputs": [
    {
     "data": {
      "text/plain": [
       "array([[[7, 5, 6]],\n",
       "\n",
       "       [[8, 2, 0]],\n",
       "\n",
       "       [[2, 0, 6]],\n",
       "\n",
       "       [[3, 8, 6]],\n",
       "\n",
       "       [[6, 7, 3]]])"
      ]
     },
     "execution_count": 188,
     "metadata": {},
     "output_type": "execute_result"
    }
   ],
   "source": [
    "dLdsT"
   ]
  },
  {
   "cell_type": "code",
   "execution_count": 175,
   "metadata": {},
   "outputs": [
    {
     "data": {
      "text/plain": [
       "(5, 1, 3)"
      ]
     },
     "execution_count": 175,
     "metadata": {},
     "output_type": "execute_result"
    }
   ],
   "source": [
    "dLdxT.shape"
   ]
  },
  {
   "cell_type": "code",
   "execution_count": 173,
   "metadata": {},
   "outputs": [
    {
     "data": {
      "text/plain": [
       "array([[ 6.10622664e-16],\n",
       "       [-9.99200722e-16],\n",
       "       [-2.84494650e-16],\n",
       "       [ 1.11022302e-15],\n",
       "       [ 6.86950496e-16]])"
      ]
     },
     "execution_count": 173,
     "metadata": {},
     "output_type": "execute_result"
    }
   ],
   "source": [
    "dLdxT.sum(axis=2)"
   ]
  },
  {
   "cell_type": "code",
   "execution_count": 176,
   "metadata": {},
   "outputs": [
    {
     "data": {
      "text/plain": [
       "(5, 1)"
      ]
     },
     "execution_count": 176,
     "metadata": {},
     "output_type": "execute_result"
    }
   ],
   "source": [
    "dLdxT.sum(axis=2).shape"
   ]
  },
  {
   "cell_type": "code",
   "execution_count": 182,
   "metadata": {},
   "outputs": [
    {
     "data": {
      "text/plain": [
       "0.0"
      ]
     },
     "execution_count": 182,
     "metadata": {},
     "output_type": "execute_result"
    }
   ],
   "source": [
    "sum([ 0.9835457 , -0.20309254, -0.78045316])"
   ]
  },
  {
   "cell_type": "code",
   "execution_count": 180,
   "metadata": {},
   "outputs": [
    {
     "name": "stdout",
     "output_type": "stream",
     "text": [
      "0.000000e+00\n"
     ]
    }
   ],
   "source": [
    "print(\"{:e}\".format(0.04299894 + -0.20127131 + 0.15827237))"
   ]
  },
  {
   "cell_type": "markdown",
   "metadata": {},
   "source": [
    "---\n",
    "\n",
    "# Example derivative of LogSoftMax"
   ]
  },
  {
   "cell_type": "code",
   "execution_count": null,
   "metadata": {
    "collapsed": true
   },
   "outputs": [],
   "source": []
  },
  {
   "cell_type": "code",
   "execution_count": 140,
   "metadata": {},
   "outputs": [
    {
     "data": {
      "text/plain": [
       "array([[2, 4, 5],\n",
       "       [3, 0, 1],\n",
       "       [6, 3, 1],\n",
       "       [1, 3, 1],\n",
       "       [9, 9, 4]])"
      ]
     },
     "execution_count": 140,
     "metadata": {},
     "output_type": "execute_result"
    }
   ],
   "source": [
    "x_in"
   ]
  },
  {
   "cell_type": "code",
   "execution_count": 142,
   "metadata": {},
   "outputs": [
    {
     "data": {
      "text/plain": [
       "array([[0.03511903, 0.25949646, 0.70538451],\n",
       "       [0.84379473, 0.04201007, 0.1141952 ],\n",
       "       [0.94649912, 0.04712342, 0.00637746],\n",
       "       [0.10650698, 0.78698604, 0.10650698],\n",
       "       [0.49832117, 0.49832117, 0.00335766]])"
      ]
     },
     "execution_count": 142,
     "metadata": {},
     "output_type": "execute_result"
    }
   ],
   "source": [
    "s = smax(x_in)\n",
    "s"
   ]
  },
  {
   "cell_type": "code",
   "execution_count": 146,
   "metadata": {},
   "outputs": [
    {
     "data": {
      "text/plain": [
       "array([[[0.03511903],\n",
       "        [0.25949646],\n",
       "        [0.70538451]],\n",
       "\n",
       "       [[0.84379473],\n",
       "        [0.04201007],\n",
       "        [0.1141952 ]],\n",
       "\n",
       "       [[0.94649912],\n",
       "        [0.04712342],\n",
       "        [0.00637746]],\n",
       "\n",
       "       [[0.10650698],\n",
       "        [0.78698604],\n",
       "        [0.10650698]],\n",
       "\n",
       "       [[0.49832117],\n",
       "        [0.49832117],\n",
       "        [0.00335766]]])"
      ]
     },
     "execution_count": 146,
     "metadata": {},
     "output_type": "execute_result"
    }
   ],
   "source": [
    "s[:,:, None]"
   ]
  },
  {
   "cell_type": "code",
   "execution_count": 149,
   "metadata": {},
   "outputs": [
    {
     "data": {
      "text/plain": [
       "array([[[0.03511903, 0.03511903, 0.03511903],\n",
       "        [0.25949646, 0.25949646, 0.25949646],\n",
       "        [0.70538451, 0.70538451, 0.70538451]],\n",
       "\n",
       "       [[0.84379473, 0.84379473, 0.84379473],\n",
       "        [0.04201007, 0.04201007, 0.04201007],\n",
       "        [0.1141952 , 0.1141952 , 0.1141952 ]],\n",
       "\n",
       "       [[0.94649912, 0.94649912, 0.94649912],\n",
       "        [0.04712342, 0.04712342, 0.04712342],\n",
       "        [0.00637746, 0.00637746, 0.00637746]],\n",
       "\n",
       "       [[0.10650698, 0.10650698, 0.10650698],\n",
       "        [0.78698604, 0.78698604, 0.78698604],\n",
       "        [0.10650698, 0.10650698, 0.10650698]],\n",
       "\n",
       "       [[0.49832117, 0.49832117, 0.49832117],\n",
       "        [0.49832117, 0.49832117, 0.49832117],\n",
       "        [0.00335766, 0.00335766, 0.00335766]]])"
      ]
     },
     "execution_count": 149,
     "metadata": {},
     "output_type": "execute_result"
    }
   ],
   "source": [
    "res2 = np.ones(3) * s[:,:, None]\n",
    "res2"
   ]
  },
  {
   "cell_type": "code",
   "execution_count": 150,
   "metadata": {},
   "outputs": [
    {
     "data": {
      "text/plain": [
       "array([[[ 0.96488097, -0.03511903, -0.03511903],\n",
       "        [-0.25949646,  0.74050354, -0.25949646],\n",
       "        [-0.70538451, -0.70538451,  0.29461549]],\n",
       "\n",
       "       [[ 0.15620527, -0.84379473, -0.84379473],\n",
       "        [-0.04201007,  0.95798993, -0.04201007],\n",
       "        [-0.1141952 , -0.1141952 ,  0.8858048 ]],\n",
       "\n",
       "       [[ 0.05350088, -0.94649912, -0.94649912],\n",
       "        [-0.04712342,  0.95287658, -0.04712342],\n",
       "        [-0.00637746, -0.00637746,  0.99362254]],\n",
       "\n",
       "       [[ 0.89349302, -0.10650698, -0.10650698],\n",
       "        [-0.78698604,  0.21301396, -0.78698604],\n",
       "        [-0.10650698, -0.10650698,  0.89349302]],\n",
       "\n",
       "       [[ 0.50167883, -0.49832117, -0.49832117],\n",
       "        [-0.49832117,  0.50167883, -0.49832117],\n",
       "        [-0.00335766, -0.00335766,  0.99664234]]])"
      ]
     },
     "execution_count": 150,
     "metadata": {},
     "output_type": "execute_result"
    }
   ],
   "source": [
    "res3 = np.eye(3) - res2\n",
    "res3"
   ]
  },
  {
   "cell_type": "code",
   "execution_count": 86,
   "metadata": {
    "collapsed": true
   },
   "outputs": [],
   "source": [
    "gradOutput = np.random.randint(0, 10, (5, 3, 1))"
   ]
  },
  {
   "cell_type": "code",
   "execution_count": 87,
   "metadata": {},
   "outputs": [
    {
     "data": {
      "text/plain": [
       "array([[[8],\n",
       "        [1],\n",
       "        [7]],\n",
       "\n",
       "       [[7],\n",
       "        [9],\n",
       "        [6]],\n",
       "\n",
       "       [[2],\n",
       "        [0],\n",
       "        [9]],\n",
       "\n",
       "       [[4],\n",
       "        [5],\n",
       "        [9]],\n",
       "\n",
       "       [[4],\n",
       "        [7],\n",
       "        [5]]])"
      ]
     },
     "execution_count": 87,
     "metadata": {},
     "output_type": "execute_result"
    }
   ],
   "source": [
    "gradOutput"
   ]
  },
  {
   "cell_type": "code",
   "execution_count": 88,
   "metadata": {},
   "outputs": [
    {
     "data": {
      "text/plain": [
       "(5, 3, 3)"
      ]
     },
     "execution_count": 88,
     "metadata": {},
     "output_type": "execute_result"
    }
   ],
   "source": [
    "res3.shape"
   ]
  },
  {
   "cell_type": "code",
   "execution_count": 89,
   "metadata": {},
   "outputs": [
    {
     "data": {
      "text/plain": [
       "(5, 3, 1)"
      ]
     },
     "execution_count": 89,
     "metadata": {},
     "output_type": "execute_result"
    }
   ],
   "source": [
    "gradOutput.shape"
   ]
  },
  {
   "cell_type": "code",
   "execution_count": 90,
   "metadata": {},
   "outputs": [
    {
     "data": {
      "text/plain": [
       "array([[[ 2.52185974],\n",
       "        [-4.47814026],\n",
       "        [ 1.52185974]],\n",
       "\n",
       "       [[ 0.03017507],\n",
       "        [ 2.03017507],\n",
       "        [-0.96982493]],\n",
       "\n",
       "       [[ 0.04960461],\n",
       "        [-1.95039539],\n",
       "        [ 7.04960461]],\n",
       "\n",
       "       [[-1.31952094],\n",
       "        [-0.31952094],\n",
       "        [ 3.68047906]],\n",
       "\n",
       "       [[-1.49832117],\n",
       "        [ 1.50167883],\n",
       "        [-0.49832117]]])"
      ]
     },
     "execution_count": 90,
     "metadata": {},
     "output_type": "execute_result"
    }
   ],
   "source": [
    "np.matmul(res3, gradOutput)"
   ]
  },
  {
   "cell_type": "code",
   "execution_count": 91,
   "metadata": {},
   "outputs": [
    {
     "data": {
      "text/plain": [
       "array([[-0.2162027],\n",
       "       [-3.2162027],\n",
       "       [10.7837973]])"
      ]
     },
     "execution_count": 91,
     "metadata": {},
     "output_type": "execute_result"
    }
   ],
   "source": [
    "np.sum(np.matmul(res3, gradOutput), axis=0)"
   ]
  },
  {
   "cell_type": "code",
   "execution_count": null,
   "metadata": {
    "collapsed": true
   },
   "outputs": [],
   "source": []
  }
 ],
 "metadata": {
  "kernelspec": {
   "display_name": "Python 3",
   "language": "python",
   "name": "python3"
  },
  "language_info": {
   "codemirror_mode": {
    "name": "ipython",
    "version": 3
   },
   "file_extension": ".py",
   "mimetype": "text/x-python",
   "name": "python",
   "nbconvert_exporter": "python",
   "pygments_lexer": "ipython3",
   "version": "3.6.4"
  }
 },
 "nbformat": 4,
 "nbformat_minor": 2
}
