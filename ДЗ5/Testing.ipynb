{
 "cells": [
  {
   "cell_type": "code",
   "execution_count": 220,
   "metadata": {
    "collapsed": true
   },
   "outputs": [],
   "source": [
    "import numpy as np"
   ]
  },
  {
   "cell_type": "code",
   "execution_count": 221,
   "metadata": {},
   "outputs": [
    {
     "data": {
      "text/plain": [
       "(5, 10)"
      ]
     },
     "execution_count": 221,
     "metadata": {},
     "output_type": "execute_result"
    }
   ],
   "source": [
    "np.random.randn(5, 10).shape"
   ]
  },
  {
   "cell_type": "code",
   "execution_count": 222,
   "metadata": {
    "collapsed": true
   },
   "outputs": [],
   "source": [
    "stdv = 0.05"
   ]
  },
  {
   "cell_type": "code",
   "execution_count": 223,
   "metadata": {},
   "outputs": [
    {
     "data": {
      "text/plain": [
       "array([0.0425921 , 0.01022589, 0.00095821, 0.00696684])"
      ]
     },
     "execution_count": 223,
     "metadata": {},
     "output_type": "execute_result"
    }
   ],
   "source": [
    "np.random.uniform(-stdv, stdv, size = 4)"
   ]
  },
  {
   "cell_type": "code",
   "execution_count": 224,
   "metadata": {},
   "outputs": [
    {
     "data": {
      "text/plain": [
       "array([[-0.0202104 , -0.0453231 ,  0.0032572 ,  0.02342756]])"
      ]
     },
     "execution_count": 224,
     "metadata": {},
     "output_type": "execute_result"
    }
   ],
   "source": [
    "b = np.random.uniform(-stdv, stdv, size = (1,4))\n",
    "b"
   ]
  },
  {
   "cell_type": "code",
   "execution_count": 225,
   "metadata": {
    "collapsed": true
   },
   "outputs": [],
   "source": [
    "n_in = 3\n",
    "n_out = 4"
   ]
  },
  {
   "cell_type": "code",
   "execution_count": 226,
   "metadata": {
    "collapsed": true
   },
   "outputs": [],
   "source": [
    "W = np.random.random((n_in, n_out))"
   ]
  },
  {
   "cell_type": "code",
   "execution_count": 227,
   "metadata": {},
   "outputs": [
    {
     "data": {
      "text/plain": [
       "array([[0.4348814 , 0.96196761, 0.08448866, 0.37663733],\n",
       "       [0.74136718, 0.84724226, 0.85870648, 0.83283132],\n",
       "       [0.80586997, 0.55067863, 0.99338934, 0.21780009]])"
      ]
     },
     "execution_count": 227,
     "metadata": {},
     "output_type": "execute_result"
    }
   ],
   "source": [
    "W"
   ]
  },
  {
   "cell_type": "code",
   "execution_count": 228,
   "metadata": {
    "collapsed": true
   },
   "outputs": [],
   "source": [
    "gradOutput = np.random.random((1, n_out))"
   ]
  },
  {
   "cell_type": "code",
   "execution_count": 229,
   "metadata": {},
   "outputs": [
    {
     "data": {
      "text/plain": [
       "array([[1.0080258 , 1.45741004, 1.36641069]])"
      ]
     },
     "execution_count": 229,
     "metadata": {},
     "output_type": "execute_result"
    }
   ],
   "source": [
    "gradOutput.dot(W.T)"
   ]
  },
  {
   "cell_type": "code",
   "execution_count": 230,
   "metadata": {},
   "outputs": [
    {
     "data": {
      "text/plain": [
       "array([[0.53066636, 0.06407891, 0.39434727],\n",
       "       [0.17308195, 0.85759676, 0.56762643]])"
      ]
     },
     "execution_count": 230,
     "metadata": {},
     "output_type": "execute_result"
    }
   ],
   "source": [
    "x_in = np.random.random((2, n_in))\n",
    "x_in"
   ]
  },
  {
   "cell_type": "code",
   "execution_count": 231,
   "metadata": {},
   "outputs": [
    {
     "data": {
      "text/plain": [
       "array([[[0.53066636, 0.06407891, 0.39434727]],\n",
       "\n",
       "       [[0.17308195, 0.85759676, 0.56762643]]])"
      ]
     },
     "execution_count": 231,
     "metadata": {},
     "output_type": "execute_result"
    }
   ],
   "source": [
    "x_in[:, None, :]"
   ]
  },
  {
   "cell_type": "code",
   "execution_count": 232,
   "metadata": {},
   "outputs": [
    {
     "data": {
      "text/plain": [
       "array([[0.92299535, 0.59691912, 0.29129867, 0.02072019]])"
      ]
     },
     "execution_count": 232,
     "metadata": {},
     "output_type": "execute_result"
    }
   ],
   "source": [
    "gradOutput"
   ]
  },
  {
   "cell_type": "code",
   "execution_count": 233,
   "metadata": {},
   "outputs": [
    {
     "data": {
      "text/plain": [
       "array([[[0.92299535],\n",
       "        [0.59691912],\n",
       "        [0.29129867],\n",
       "        [0.02072019]]])"
      ]
     },
     "execution_count": 233,
     "metadata": {},
     "output_type": "execute_result"
    }
   ],
   "source": [
    "gradOutput[:,:, None]"
   ]
  },
  {
   "cell_type": "code",
   "execution_count": 234,
   "metadata": {},
   "outputs": [
    {
     "data": {
      "text/plain": [
       "array([[[0.48980258, 0.05914454, 0.3639807 ],\n",
       "        [0.3167649 , 0.03824993, 0.23539343],\n",
       "        [0.15458241, 0.0186661 , 0.11487284],\n",
       "        [0.01099551, 0.00132773, 0.00817095]],\n",
       "\n",
       "       [[0.15975384, 0.79155782, 0.52391656],\n",
       "        [0.10331593, 0.5119159 , 0.33882707],\n",
       "        [0.05041854, 0.2498168 , 0.16534883],\n",
       "        [0.00358629, 0.01776956, 0.01176133]]])"
      ]
     },
     "execution_count": 234,
     "metadata": {},
     "output_type": "execute_result"
    }
   ],
   "source": [
    "x_in[:, None, :] * gradOutput[:,:, None]"
   ]
  },
  {
   "cell_type": "code",
   "execution_count": 235,
   "metadata": {
    "collapsed": true
   },
   "outputs": [],
   "source": [
    "n_batch = 5"
   ]
  },
  {
   "cell_type": "code",
   "execution_count": 236,
   "metadata": {},
   "outputs": [
    {
     "data": {
      "text/plain": [
       "array([[[9, 7, 0]],\n",
       "\n",
       "       [[8, 1, 3]],\n",
       "\n",
       "       [[2, 3, 5]],\n",
       "\n",
       "       [[5, 8, 7]],\n",
       "\n",
       "       [[4, 3, 4]]])"
      ]
     },
     "execution_count": 236,
     "metadata": {},
     "output_type": "execute_result"
    }
   ],
   "source": [
    "x_in = np.random.randint(0, 10, size=(n_batch, n_in))\n",
    "x_in[:, None, :]"
   ]
  },
  {
   "cell_type": "code",
   "execution_count": 237,
   "metadata": {},
   "outputs": [
    {
     "data": {
      "text/plain": [
       "array([[9, 7, 0],\n",
       "       [8, 1, 3],\n",
       "       [2, 3, 5],\n",
       "       [5, 8, 7],\n",
       "       [4, 3, 4]])"
      ]
     },
     "execution_count": 237,
     "metadata": {},
     "output_type": "execute_result"
    }
   ],
   "source": [
    "x_in"
   ]
  },
  {
   "cell_type": "code",
   "execution_count": 238,
   "metadata": {
    "scrolled": false
   },
   "outputs": [
    {
     "data": {
      "text/plain": [
       "array([[[9],\n",
       "        [2],\n",
       "        [4],\n",
       "        [7]],\n",
       "\n",
       "       [[4],\n",
       "        [7],\n",
       "        [5],\n",
       "        [7]],\n",
       "\n",
       "       [[9],\n",
       "        [3],\n",
       "        [0],\n",
       "        [4]],\n",
       "\n",
       "       [[4],\n",
       "        [3],\n",
       "        [5],\n",
       "        [0]],\n",
       "\n",
       "       [[2],\n",
       "        [4],\n",
       "        [1],\n",
       "        [0]]])"
      ]
     },
     "execution_count": 238,
     "metadata": {},
     "output_type": "execute_result"
    }
   ],
   "source": [
    "dx_out = np.random.randint(0, 10, size=(n_batch, n_out))\n",
    "dx_out[:, :, None]"
   ]
  },
  {
   "cell_type": "code",
   "execution_count": 239,
   "metadata": {},
   "outputs": [
    {
     "data": {
      "text/plain": [
       "array([[9, 2, 4, 7],\n",
       "       [4, 7, 5, 7],\n",
       "       [9, 3, 0, 4],\n",
       "       [4, 3, 5, 0],\n",
       "       [2, 4, 1, 0]])"
      ]
     },
     "execution_count": 239,
     "metadata": {},
     "output_type": "execute_result"
    }
   ],
   "source": [
    "dx_out"
   ]
  },
  {
   "cell_type": "markdown",
   "metadata": {},
   "source": [
    "for `n_batch` $> 1$, `np.outer` doesn't work as expected"
   ]
  },
  {
   "cell_type": "code",
   "execution_count": 240,
   "metadata": {},
   "outputs": [
    {
     "data": {
      "text/plain": [
       "array([[81, 63,  0, 72,  9, 27, 18, 27, 45, 45, 72, 63, 36, 27, 36],\n",
       "       [18, 14,  0, 16,  2,  6,  4,  6, 10, 10, 16, 14,  8,  6,  8],\n",
       "       [36, 28,  0, 32,  4, 12,  8, 12, 20, 20, 32, 28, 16, 12, 16],\n",
       "       [63, 49,  0, 56,  7, 21, 14, 21, 35, 35, 56, 49, 28, 21, 28],\n",
       "       [36, 28,  0, 32,  4, 12,  8, 12, 20, 20, 32, 28, 16, 12, 16],\n",
       "       [63, 49,  0, 56,  7, 21, 14, 21, 35, 35, 56, 49, 28, 21, 28],\n",
       "       [45, 35,  0, 40,  5, 15, 10, 15, 25, 25, 40, 35, 20, 15, 20],\n",
       "       [63, 49,  0, 56,  7, 21, 14, 21, 35, 35, 56, 49, 28, 21, 28],\n",
       "       [81, 63,  0, 72,  9, 27, 18, 27, 45, 45, 72, 63, 36, 27, 36],\n",
       "       [27, 21,  0, 24,  3,  9,  6,  9, 15, 15, 24, 21, 12,  9, 12],\n",
       "       [ 0,  0,  0,  0,  0,  0,  0,  0,  0,  0,  0,  0,  0,  0,  0],\n",
       "       [36, 28,  0, 32,  4, 12,  8, 12, 20, 20, 32, 28, 16, 12, 16],\n",
       "       [36, 28,  0, 32,  4, 12,  8, 12, 20, 20, 32, 28, 16, 12, 16],\n",
       "       [27, 21,  0, 24,  3,  9,  6,  9, 15, 15, 24, 21, 12,  9, 12],\n",
       "       [45, 35,  0, 40,  5, 15, 10, 15, 25, 25, 40, 35, 20, 15, 20],\n",
       "       [ 0,  0,  0,  0,  0,  0,  0,  0,  0,  0,  0,  0,  0,  0,  0],\n",
       "       [18, 14,  0, 16,  2,  6,  4,  6, 10, 10, 16, 14,  8,  6,  8],\n",
       "       [36, 28,  0, 32,  4, 12,  8, 12, 20, 20, 32, 28, 16, 12, 16],\n",
       "       [ 9,  7,  0,  8,  1,  3,  2,  3,  5,  5,  8,  7,  4,  3,  4],\n",
       "       [ 0,  0,  0,  0,  0,  0,  0,  0,  0,  0,  0,  0,  0,  0,  0]])"
      ]
     },
     "execution_count": 240,
     "metadata": {},
     "output_type": "execute_result"
    }
   ],
   "source": [
    "np.outer(x_in, dx_out).T"
   ]
  },
  {
   "cell_type": "code",
   "execution_count": 241,
   "metadata": {},
   "outputs": [
    {
     "data": {
      "text/plain": [
       "array([[[81, 63,  0],\n",
       "        [18, 14,  0],\n",
       "        [36, 28,  0],\n",
       "        [63, 49,  0]],\n",
       "\n",
       "       [[32,  4, 12],\n",
       "        [56,  7, 21],\n",
       "        [40,  5, 15],\n",
       "        [56,  7, 21]],\n",
       "\n",
       "       [[18, 27, 45],\n",
       "        [ 6,  9, 15],\n",
       "        [ 0,  0,  0],\n",
       "        [ 8, 12, 20]],\n",
       "\n",
       "       [[20, 32, 28],\n",
       "        [15, 24, 21],\n",
       "        [25, 40, 35],\n",
       "        [ 0,  0,  0]],\n",
       "\n",
       "       [[ 8,  6,  8],\n",
       "        [16, 12, 16],\n",
       "        [ 4,  3,  4],\n",
       "        [ 0,  0,  0]]])"
      ]
     },
     "execution_count": 241,
     "metadata": {},
     "output_type": "execute_result"
    }
   ],
   "source": [
    "dx_out[:, :, None] * x_in[:, None, :]"
   ]
  },
  {
   "cell_type": "code",
   "execution_count": 242,
   "metadata": {},
   "outputs": [
    {
     "data": {
      "text/plain": [
       "array([[[81, 63,  0],\n",
       "        [18, 14,  0],\n",
       "        [36, 28,  0],\n",
       "        [63, 49,  0]],\n",
       "\n",
       "       [[32,  4, 12],\n",
       "        [56,  7, 21],\n",
       "        [40,  5, 15],\n",
       "        [56,  7, 21]],\n",
       "\n",
       "       [[18, 27, 45],\n",
       "        [ 6,  9, 15],\n",
       "        [ 0,  0,  0],\n",
       "        [ 8, 12, 20]],\n",
       "\n",
       "       [[20, 32, 28],\n",
       "        [15, 24, 21],\n",
       "        [25, 40, 35],\n",
       "        [ 0,  0,  0]],\n",
       "\n",
       "       [[ 8,  6,  8],\n",
       "        [16, 12, 16],\n",
       "        [ 4,  3,  4],\n",
       "        [ 0,  0,  0]]])"
      ]
     },
     "execution_count": 242,
     "metadata": {},
     "output_type": "execute_result"
    }
   ],
   "source": [
    "result = x_in[:, None, :] * dx_out[:, :, None]\n",
    "result"
   ]
  },
  {
   "cell_type": "code",
   "execution_count": 243,
   "metadata": {},
   "outputs": [
    {
     "data": {
      "text/plain": [
       "array([[159, 132,  93],\n",
       "       [111,  66,  73],\n",
       "       [105,  76,  54],\n",
       "       [127,  68,  41]])"
      ]
     },
     "execution_count": 243,
     "metadata": {},
     "output_type": "execute_result"
    }
   ],
   "source": [
    "np.sum(result, axis=0)"
   ]
  },
  {
   "cell_type": "code",
   "execution_count": 244,
   "metadata": {},
   "outputs": [
    {
     "data": {
      "text/plain": [
       "array([[9, 2, 4, 7],\n",
       "       [4, 7, 5, 7],\n",
       "       [9, 3, 0, 4],\n",
       "       [4, 3, 5, 0],\n",
       "       [2, 4, 1, 0]])"
      ]
     },
     "execution_count": 244,
     "metadata": {},
     "output_type": "execute_result"
    }
   ],
   "source": [
    "dx_out"
   ]
  },
  {
   "cell_type": "code",
   "execution_count": 245,
   "metadata": {},
   "outputs": [
    {
     "data": {
      "text/plain": [
       "array([28, 19, 15, 18])"
      ]
     },
     "execution_count": 245,
     "metadata": {},
     "output_type": "execute_result"
    }
   ],
   "source": [
    "np.sum(dx_out, axis=0)"
   ]
  },
  {
   "cell_type": "code",
   "execution_count": 246,
   "metadata": {
    "collapsed": true
   },
   "outputs": [],
   "source": [
    "s = x_in[:, None, :]"
   ]
  },
  {
   "cell_type": "code",
   "execution_count": 247,
   "metadata": {},
   "outputs": [
    {
     "data": {
      "text/plain": [
       "array([[[9, 7, 0]],\n",
       "\n",
       "       [[8, 1, 3]],\n",
       "\n",
       "       [[2, 3, 5]],\n",
       "\n",
       "       [[5, 8, 7]],\n",
       "\n",
       "       [[4, 3, 4]]])"
      ]
     },
     "execution_count": 247,
     "metadata": {},
     "output_type": "execute_result"
    }
   ],
   "source": [
    "s"
   ]
  },
  {
   "cell_type": "code",
   "execution_count": 248,
   "metadata": {},
   "outputs": [
    {
     "data": {
      "text/plain": [
       "(5, 1, 3)"
      ]
     },
     "execution_count": 248,
     "metadata": {},
     "output_type": "execute_result"
    }
   ],
   "source": [
    "s.shape"
   ]
  },
  {
   "cell_type": "code",
   "execution_count": 249,
   "metadata": {},
   "outputs": [
    {
     "data": {
      "text/plain": [
       "array([[9, 7, 0],\n",
       "       [8, 1, 3],\n",
       "       [2, 3, 5],\n",
       "       [5, 8, 7],\n",
       "       [4, 3, 4]])"
      ]
     },
     "execution_count": 249,
     "metadata": {},
     "output_type": "execute_result"
    }
   ],
   "source": [
    "x_in"
   ]
  },
  {
   "cell_type": "code",
   "execution_count": 250,
   "metadata": {},
   "outputs": [
    {
     "data": {
      "text/plain": [
       "(5, 3)"
      ]
     },
     "execution_count": 250,
     "metadata": {},
     "output_type": "execute_result"
    }
   ],
   "source": [
    "x_in.shape"
   ]
  },
  {
   "cell_type": "code",
   "execution_count": 251,
   "metadata": {},
   "outputs": [
    {
     "data": {
      "text/plain": [
       "3"
      ]
     },
     "execution_count": 251,
     "metadata": {},
     "output_type": "execute_result"
    }
   ],
   "source": [
    "s.ndim"
   ]
  },
  {
   "cell_type": "markdown",
   "metadata": {},
   "source": [
    "### ========="
   ]
  },
  {
   "cell_type": "code",
   "execution_count": 252,
   "metadata": {},
   "outputs": [
    {
     "data": {
      "text/plain": [
       "array([[[9],\n",
       "        [2],\n",
       "        [4],\n",
       "        [7]],\n",
       "\n",
       "       [[4],\n",
       "        [7],\n",
       "        [5],\n",
       "        [7]],\n",
       "\n",
       "       [[9],\n",
       "        [3],\n",
       "        [0],\n",
       "        [4]],\n",
       "\n",
       "       [[4],\n",
       "        [3],\n",
       "        [5],\n",
       "        [0]],\n",
       "\n",
       "       [[2],\n",
       "        [4],\n",
       "        [1],\n",
       "        [0]]])"
      ]
     },
     "execution_count": 252,
     "metadata": {},
     "output_type": "execute_result"
    }
   ],
   "source": [
    "d = dx_out[:, :, None]\n",
    "d"
   ]
  },
  {
   "cell_type": "code",
   "execution_count": 253,
   "metadata": {},
   "outputs": [
    {
     "data": {
      "text/plain": [
       "(5, 4, 1)"
      ]
     },
     "execution_count": 253,
     "metadata": {},
     "output_type": "execute_result"
    }
   ],
   "source": [
    "d.shape"
   ]
  },
  {
   "cell_type": "code",
   "execution_count": 254,
   "metadata": {},
   "outputs": [
    {
     "data": {
      "text/plain": [
       "array([[9, 2, 4, 7],\n",
       "       [4, 7, 5, 7],\n",
       "       [9, 3, 0, 4],\n",
       "       [4, 3, 5, 0],\n",
       "       [2, 4, 1, 0]])"
      ]
     },
     "execution_count": 254,
     "metadata": {},
     "output_type": "execute_result"
    }
   ],
   "source": [
    "dx_out"
   ]
  },
  {
   "cell_type": "code",
   "execution_count": 255,
   "metadata": {},
   "outputs": [
    {
     "data": {
      "text/plain": [
       "(5, 4)"
      ]
     },
     "execution_count": 255,
     "metadata": {},
     "output_type": "execute_result"
    }
   ],
   "source": [
    "dx_out.shape"
   ]
  },
  {
   "cell_type": "code",
   "execution_count": 256,
   "metadata": {},
   "outputs": [
    {
     "data": {
      "text/plain": [
       "array([[3],\n",
       "       [4],\n",
       "       [5],\n",
       "       [6],\n",
       "       [7],\n",
       "       [8],\n",
       "       [9]])"
      ]
     },
     "execution_count": 256,
     "metadata": {},
     "output_type": "execute_result"
    }
   ],
   "source": [
    "np.arange(3, 10)[:, None]"
   ]
  },
  {
   "cell_type": "markdown",
   "metadata": {},
   "source": [
    "A way to understand numpy array:\n",
    "\n",
    "When dealing with $0$, $1$ or $2$ dimensional array, some of us try to give an interpretation through scalars, vectors and matrices. This is fine, since the definitions coincide but how od we picture and array of $(n, m, p)$ dimensions? \n",
    "\n",
    "- If `s` is a `(n, m)`-matrix and `d` is a `(n, q)`-matrix, then what does `s[:, None, :]` or `d[:,:, None]` mean? \n",
    "- Why does `s[:, None, :] * d[:,:, None]` work and what does it give?\n",
    "\n",
    "One way of understanding this is, instead of looking at a $n$-dimensional array as an _array of elements_ we can look at it as an _array of arrays_.\n",
    "\n",
    "- shape `(5, 4)`:\n",
    "    - There are `5` rows. Each of those rows is an array of shape `(4,)`. That is and array of `4` elements.\n",
    "    \n",
    "    \n",
    "- shape `(5, 1, 3)`:\n",
    "    - There are `5` rows. Let's look at one of them. That row consists of a `(1, 3)` array. That is, in this row there is just `1` array of 3 elements.\n",
    "    \n",
    "    \n",
    "- shape `(5, 4, 1)`: \n",
    "    - There are `5` rows. Let's look at one of them. That row consists of a `(4, 1)` array. That is, in this row there are `4` different arrays, each containing 1 element."
   ]
  },
  {
   "cell_type": "code",
   "execution_count": 257,
   "metadata": {},
   "outputs": [
    {
     "data": {
      "text/plain": [
       "array([[[9, 7, 0]],\n",
       "\n",
       "       [[8, 1, 3]],\n",
       "\n",
       "       [[2, 3, 5]],\n",
       "\n",
       "       [[5, 8, 7]],\n",
       "\n",
       "       [[4, 3, 4]]])"
      ]
     },
     "execution_count": 257,
     "metadata": {},
     "output_type": "execute_result"
    }
   ],
   "source": [
    "x_in[:, None, :]"
   ]
  },
  {
   "cell_type": "code",
   "execution_count": 258,
   "metadata": {},
   "outputs": [
    {
     "data": {
      "text/plain": [
       "array([[[9],\n",
       "        [2],\n",
       "        [4],\n",
       "        [7]],\n",
       "\n",
       "       [[4],\n",
       "        [7],\n",
       "        [5],\n",
       "        [7]],\n",
       "\n",
       "       [[9],\n",
       "        [3],\n",
       "        [0],\n",
       "        [4]],\n",
       "\n",
       "       [[4],\n",
       "        [3],\n",
       "        [5],\n",
       "        [0]],\n",
       "\n",
       "       [[2],\n",
       "        [4],\n",
       "        [1],\n",
       "        [0]]])"
      ]
     },
     "execution_count": 258,
     "metadata": {},
     "output_type": "execute_result"
    }
   ],
   "source": [
    "dx_out[:, :, None]"
   ]
  },
  {
   "cell_type": "code",
   "execution_count": 259,
   "metadata": {},
   "outputs": [
    {
     "data": {
      "text/plain": [
       "array([[[81, 63,  0],\n",
       "        [18, 14,  0],\n",
       "        [36, 28,  0],\n",
       "        [63, 49,  0]],\n",
       "\n",
       "       [[32,  4, 12],\n",
       "        [56,  7, 21],\n",
       "        [40,  5, 15],\n",
       "        [56,  7, 21]],\n",
       "\n",
       "       [[18, 27, 45],\n",
       "        [ 6,  9, 15],\n",
       "        [ 0,  0,  0],\n",
       "        [ 8, 12, 20]],\n",
       "\n",
       "       [[20, 32, 28],\n",
       "        [15, 24, 21],\n",
       "        [25, 40, 35],\n",
       "        [ 0,  0,  0]],\n",
       "\n",
       "       [[ 8,  6,  8],\n",
       "        [16, 12, 16],\n",
       "        [ 4,  3,  4],\n",
       "        [ 0,  0,  0]]])"
      ]
     },
     "execution_count": 259,
     "metadata": {},
     "output_type": "execute_result"
    }
   ],
   "source": [
    "dx_out[:, :, None] * x_in[:, None, :]"
   ]
  },
  {
   "cell_type": "code",
   "execution_count": 260,
   "metadata": {},
   "outputs": [
    {
     "data": {
      "text/plain": [
       "array([[[81, 63,  0],\n",
       "        [18, 14,  0],\n",
       "        [36, 28,  0],\n",
       "        [63, 49,  0]],\n",
       "\n",
       "       [[32,  4, 12],\n",
       "        [56,  7, 21],\n",
       "        [40,  5, 15],\n",
       "        [56,  7, 21]],\n",
       "\n",
       "       [[18, 27, 45],\n",
       "        [ 6,  9, 15],\n",
       "        [ 0,  0,  0],\n",
       "        [ 8, 12, 20]],\n",
       "\n",
       "       [[20, 32, 28],\n",
       "        [15, 24, 21],\n",
       "        [25, 40, 35],\n",
       "        [ 0,  0,  0]],\n",
       "\n",
       "       [[ 8,  6,  8],\n",
       "        [16, 12, 16],\n",
       "        [ 4,  3,  4],\n",
       "        [ 0,  0,  0]]])"
      ]
     },
     "execution_count": 260,
     "metadata": {},
     "output_type": "execute_result"
    }
   ],
   "source": [
    "dx_out[:, :, None] * x_in[:, None, :]"
   ]
  },
  {
   "cell_type": "code",
   "execution_count": 261,
   "metadata": {},
   "outputs": [
    {
     "data": {
      "text/plain": [
       "True"
      ]
     },
     "execution_count": 261,
     "metadata": {},
     "output_type": "execute_result"
    }
   ],
   "source": [
    "(dx_out[:, :, None] * x_in[:, None, :]).shape == (dx_out[:, :, None] * x_in[:, None, :]).shape"
   ]
  },
  {
   "cell_type": "code",
   "execution_count": 262,
   "metadata": {},
   "outputs": [
    {
     "data": {
      "text/plain": [
       "(5, 4, 3)"
      ]
     },
     "execution_count": 262,
     "metadata": {},
     "output_type": "execute_result"
    }
   ],
   "source": [
    "(dx_out[:, :, None] * x_in[:, None, :]).shape"
   ]
  },
  {
   "cell_type": "code",
   "execution_count": 263,
   "metadata": {},
   "outputs": [
    {
     "data": {
      "text/plain": [
       "(5, 4, 3)"
      ]
     },
     "execution_count": 263,
     "metadata": {},
     "output_type": "execute_result"
    }
   ],
   "source": [
    "(dx_out[:, :, None] * x_in[:, None, :]).shape"
   ]
  },
  {
   "cell_type": "code",
   "execution_count": 264,
   "metadata": {
    "collapsed": true
   },
   "outputs": [],
   "source": [
    "def log_smax(x_in):\n",
    "    \n",
    "    x_out = np.subtract(x_in, x_in.max(axis=1, keepdims=True))\n",
    "    \n",
    "    x_out = x_out - np.log(np.sum(np.exp(x_out), axis=1, keepdims=True))\n",
    "    \n",
    "    return x_out"
   ]
  },
  {
   "cell_type": "code",
   "execution_count": 265,
   "metadata": {},
   "outputs": [
    {
     "data": {
      "text/plain": [
       "array([[9, 7, 0],\n",
       "       [8, 1, 3],\n",
       "       [2, 3, 5],\n",
       "       [5, 8, 7],\n",
       "       [4, 3, 4]])"
      ]
     },
     "execution_count": 265,
     "metadata": {},
     "output_type": "execute_result"
    }
   ],
   "source": [
    "x_in"
   ]
  },
  {
   "cell_type": "code",
   "execution_count": 266,
   "metadata": {},
   "outputs": [
    {
     "data": {
      "text/plain": [
       "array([[-1.27036704e-01, -2.12703670e+00, -9.12703670e+00],\n",
       "       [-7.62071739e-03, -7.00762072e+00, -5.00762072e+00],\n",
       "       [-3.16984602e+00, -2.16984602e+00, -1.69846020e-01],\n",
       "       [-3.34901222e+00, -3.49012217e-01, -1.34901222e+00],\n",
       "       [-8.61994804e-01, -1.86199480e+00, -8.61994804e-01]])"
      ]
     },
     "execution_count": 266,
     "metadata": {},
     "output_type": "execute_result"
    }
   ],
   "source": [
    "log_smax(x_in)"
   ]
  },
  {
   "cell_type": "code",
   "execution_count": 267,
   "metadata": {
    "collapsed": true
   },
   "outputs": [],
   "source": [
    "from scipy import special"
   ]
  },
  {
   "cell_type": "code",
   "execution_count": 268,
   "metadata": {
    "scrolled": true
   },
   "outputs": [
    {
     "data": {
      "text/plain": [
       "array([[-1.27036704e-01, -2.12703670e+00, -9.12703670e+00],\n",
       "       [-7.62071739e-03, -7.00762072e+00, -5.00762072e+00],\n",
       "       [-3.16984602e+00, -2.16984602e+00, -1.69846020e-01],\n",
       "       [-3.34901222e+00, -3.49012217e-01, -1.34901222e+00],\n",
       "       [-8.61994804e-01, -1.86199480e+00, -8.61994804e-01]])"
      ]
     },
     "execution_count": 268,
     "metadata": {},
     "output_type": "execute_result"
    }
   ],
   "source": [
    "special.log_softmax(x_in, axis=1)"
   ]
  },
  {
   "cell_type": "code",
   "execution_count": 269,
   "metadata": {
    "collapsed": true
   },
   "outputs": [],
   "source": [
    "def smax(x_in):\n",
    "    \n",
    "    x_out = np.subtract(x_in, x_in.max(axis=1, keepdims=True))\n",
    "    \n",
    "    x_out = np.exp(x_out)/np.sum(np.exp(x_out), axis=1, keepdims=True)\n",
    "    \n",
    "    return x_out"
   ]
  },
  {
   "cell_type": "code",
   "execution_count": 270,
   "metadata": {},
   "outputs": [
    {
     "data": {
      "text/plain": [
       "array([[8.80701347e-01, 1.19189966e-01, 1.08687181e-04],\n",
       "       [9.92408247e-01, 9.04959183e-04, 6.68679417e-03],\n",
       "       [4.20100661e-02, 1.14195199e-01, 8.43794734e-01],\n",
       "       [3.51190270e-02, 7.05384513e-01, 2.59496460e-01],\n",
       "       [4.22318798e-01, 1.55362403e-01, 4.22318798e-01]])"
      ]
     },
     "execution_count": 270,
     "metadata": {},
     "output_type": "execute_result"
    }
   ],
   "source": [
    "smax(x_in)"
   ]
  },
  {
   "cell_type": "code",
   "execution_count": 271,
   "metadata": {},
   "outputs": [
    {
     "data": {
      "text/plain": [
       "array([[8.80701347e-01, 1.19189966e-01, 1.08687181e-04],\n",
       "       [9.92408247e-01, 9.04959183e-04, 6.68679417e-03],\n",
       "       [4.20100661e-02, 1.14195199e-01, 8.43794734e-01],\n",
       "       [3.51190270e-02, 7.05384513e-01, 2.59496460e-01],\n",
       "       [4.22318798e-01, 1.55362403e-01, 4.22318798e-01]])"
      ]
     },
     "execution_count": 271,
     "metadata": {},
     "output_type": "execute_result"
    }
   ],
   "source": [
    "special.softmax(x_in, axis=1)"
   ]
  },
  {
   "cell_type": "code",
   "execution_count": 272,
   "metadata": {},
   "outputs": [
    {
     "data": {
      "text/plain": [
       "array([[9, 7, 0],\n",
       "       [8, 1, 3],\n",
       "       [2, 3, 5],\n",
       "       [5, 8, 7],\n",
       "       [4, 3, 4]])"
      ]
     },
     "execution_count": 272,
     "metadata": {},
     "output_type": "execute_result"
    }
   ],
   "source": [
    "x_in"
   ]
  },
  {
   "cell_type": "code",
   "execution_count": 273,
   "metadata": {},
   "outputs": [
    {
     "data": {
      "text/plain": [
       "array([[8.80701347e-01, 1.19189966e-01, 1.08687181e-04],\n",
       "       [9.92408247e-01, 9.04959183e-04, 6.68679417e-03],\n",
       "       [4.20100661e-02, 1.14195199e-01, 8.43794734e-01],\n",
       "       [3.51190270e-02, 7.05384513e-01, 2.59496460e-01],\n",
       "       [4.22318798e-01, 1.55362403e-01, 4.22318798e-01]])"
      ]
     },
     "execution_count": 273,
     "metadata": {},
     "output_type": "execute_result"
    }
   ],
   "source": [
    "s = smax(x_in)\n",
    "s"
   ]
  },
  {
   "cell_type": "code",
   "execution_count": 274,
   "metadata": {},
   "outputs": [
    {
     "data": {
      "text/plain": [
       "array([8.80701347e-01, 1.19189966e-01, 1.08687181e-04])"
      ]
     },
     "execution_count": 274,
     "metadata": {},
     "output_type": "execute_result"
    }
   ],
   "source": [
    "w = s[0].copy()\n",
    "w"
   ]
  },
  {
   "cell_type": "code",
   "execution_count": 275,
   "metadata": {
    "collapsed": true
   },
   "outputs": [],
   "source": [
    "I = np.eye(3)"
   ]
  },
  {
   "cell_type": "code",
   "execution_count": 276,
   "metadata": {},
   "outputs": [
    {
     "data": {
      "text/plain": [
       "array([[1., 0., 0.],\n",
       "       [0., 1., 0.],\n",
       "       [0., 0., 1.]])"
      ]
     },
     "execution_count": 276,
     "metadata": {},
     "output_type": "execute_result"
    }
   ],
   "source": [
    "I "
   ]
  },
  {
   "cell_type": "code",
   "execution_count": 277,
   "metadata": {},
   "outputs": [
    {
     "data": {
      "text/plain": [
       "array([[ 1.19298653e-01, -1.19189966e-01, -1.08687181e-04],\n",
       "       [-8.80701347e-01,  8.80810034e-01, -1.08687181e-04],\n",
       "       [-8.80701347e-01, -1.19189966e-01,  9.99891313e-01]])"
      ]
     },
     "execution_count": 277,
     "metadata": {},
     "output_type": "execute_result"
    }
   ],
   "source": [
    "I - w"
   ]
  },
  {
   "cell_type": "code",
   "execution_count": 278,
   "metadata": {},
   "outputs": [
    {
     "data": {
      "text/plain": [
       "array([[8.80701347e-01],\n",
       "       [1.19189966e-01],\n",
       "       [1.08687181e-04]])"
      ]
     },
     "execution_count": 278,
     "metadata": {},
     "output_type": "execute_result"
    }
   ],
   "source": [
    "w[:, None]"
   ]
  },
  {
   "cell_type": "code",
   "execution_count": 279,
   "metadata": {},
   "outputs": [
    {
     "data": {
      "text/plain": [
       "array([[ 1.05066485e-01, -1.04970764e-01, -9.57209464e-05],\n",
       "       [-1.04970764e-01,  1.04983718e-01, -1.29544214e-05],\n",
       "       [-9.57209464e-05, -1.29544214e-05,  1.08675368e-04]])"
      ]
     },
     "execution_count": 279,
     "metadata": {},
     "output_type": "execute_result"
    }
   ],
   "source": [
    "w[:, None] * (I - w)"
   ]
  },
  {
   "cell_type": "markdown",
   "metadata": {},
   "source": [
    "# Example derivative of Softmax:"
   ]
  },
  {
   "cell_type": "code",
   "execution_count": 280,
   "metadata": {},
   "outputs": [
    {
     "data": {
      "text/plain": [
       "array([[9, 7, 0],\n",
       "       [8, 1, 3],\n",
       "       [2, 3, 5],\n",
       "       [5, 8, 7],\n",
       "       [4, 3, 4]])"
      ]
     },
     "execution_count": 280,
     "metadata": {},
     "output_type": "execute_result"
    }
   ],
   "source": [
    "x_in"
   ]
  },
  {
   "cell_type": "code",
   "execution_count": 281,
   "metadata": {
    "scrolled": true
   },
   "outputs": [
    {
     "data": {
      "text/plain": [
       "array([[[9, 7, 0]],\n",
       "\n",
       "       [[8, 1, 3]],\n",
       "\n",
       "       [[2, 3, 5]],\n",
       "\n",
       "       [[5, 8, 7]],\n",
       "\n",
       "       [[4, 3, 4]]])"
      ]
     },
     "execution_count": 281,
     "metadata": {},
     "output_type": "execute_result"
    }
   ],
   "source": [
    "x_in[:, None, :]"
   ]
  },
  {
   "cell_type": "code",
   "execution_count": 282,
   "metadata": {},
   "outputs": [
    {
     "data": {
      "text/plain": [
       "array([[8.80701347e-01, 1.19189966e-01, 1.08687181e-04],\n",
       "       [9.92408247e-01, 9.04959183e-04, 6.68679417e-03],\n",
       "       [4.20100661e-02, 1.14195199e-01, 8.43794734e-01],\n",
       "       [3.51190270e-02, 7.05384513e-01, 2.59496460e-01],\n",
       "       [4.22318798e-01, 1.55362403e-01, 4.22318798e-01]])"
      ]
     },
     "execution_count": 282,
     "metadata": {},
     "output_type": "execute_result"
    }
   ],
   "source": [
    "s = smax(x_in)\n",
    "s"
   ]
  },
  {
   "cell_type": "code",
   "execution_count": 283,
   "metadata": {},
   "outputs": [
    {
     "data": {
      "text/plain": [
       "array([[[8.80701347e-01, 1.19189966e-01, 1.08687181e-04]],\n",
       "\n",
       "       [[9.92408247e-01, 9.04959183e-04, 6.68679417e-03]],\n",
       "\n",
       "       [[4.20100661e-02, 1.14195199e-01, 8.43794734e-01]],\n",
       "\n",
       "       [[3.51190270e-02, 7.05384513e-01, 2.59496460e-01]],\n",
       "\n",
       "       [[4.22318798e-01, 1.55362403e-01, 4.22318798e-01]]])"
      ]
     },
     "execution_count": 283,
     "metadata": {},
     "output_type": "execute_result"
    }
   ],
   "source": [
    "s[:, None, :]"
   ]
  },
  {
   "cell_type": "code",
   "execution_count": 284,
   "metadata": {},
   "outputs": [
    {
     "data": {
      "text/plain": [
       "array([[[ 1.19298653e-01, -1.19189966e-01, -1.08687181e-04],\n",
       "        [-8.80701347e-01,  8.80810034e-01, -1.08687181e-04],\n",
       "        [-8.80701347e-01, -1.19189966e-01,  9.99891313e-01]],\n",
       "\n",
       "       [[ 7.59175335e-03, -9.04959183e-04, -6.68679417e-03],\n",
       "        [-9.92408247e-01,  9.99095041e-01, -6.68679417e-03],\n",
       "        [-9.92408247e-01, -9.04959183e-04,  9.93313206e-01]],\n",
       "\n",
       "       [[ 9.57989934e-01, -1.14195199e-01, -8.43794734e-01],\n",
       "        [-4.20100661e-02,  8.85804801e-01, -8.43794734e-01],\n",
       "        [-4.20100661e-02, -1.14195199e-01,  1.56205266e-01]],\n",
       "\n",
       "       [[ 9.64880973e-01, -7.05384513e-01, -2.59496460e-01],\n",
       "        [-3.51190270e-02,  2.94615487e-01, -2.59496460e-01],\n",
       "        [-3.51190270e-02, -7.05384513e-01,  7.40503540e-01]],\n",
       "\n",
       "       [[ 5.77681202e-01, -1.55362403e-01, -4.22318798e-01],\n",
       "        [-4.22318798e-01,  8.44637597e-01, -4.22318798e-01],\n",
       "        [-4.22318798e-01, -1.55362403e-01,  5.77681202e-01]]])"
      ]
     },
     "execution_count": 284,
     "metadata": {},
     "output_type": "execute_result"
    }
   ],
   "source": [
    "np.eye(3) - s[:, None, :]"
   ]
  },
  {
   "cell_type": "code",
   "execution_count": 285,
   "metadata": {},
   "outputs": [
    {
     "data": {
      "text/plain": [
       "array([[[8.80701347e-01],\n",
       "        [1.19189966e-01],\n",
       "        [1.08687181e-04]],\n",
       "\n",
       "       [[9.92408247e-01],\n",
       "        [9.04959183e-04],\n",
       "        [6.68679417e-03]],\n",
       "\n",
       "       [[4.20100661e-02],\n",
       "        [1.14195199e-01],\n",
       "        [8.43794734e-01]],\n",
       "\n",
       "       [[3.51190270e-02],\n",
       "        [7.05384513e-01],\n",
       "        [2.59496460e-01]],\n",
       "\n",
       "       [[4.22318798e-01],\n",
       "        [1.55362403e-01],\n",
       "        [4.22318798e-01]]])"
      ]
     },
     "execution_count": 285,
     "metadata": {},
     "output_type": "execute_result"
    }
   ],
   "source": [
    "s[:, :, None]"
   ]
  },
  {
   "cell_type": "code",
   "execution_count": 286,
   "metadata": {},
   "outputs": [
    {
     "data": {
      "text/plain": [
       "array([[[ 1.05066485e-01, -1.04970764e-01, -9.57209464e-05],\n",
       "        [-1.04970764e-01,  1.04983718e-01, -1.29544214e-05],\n",
       "        [-9.57209464e-05, -1.29544214e-05,  1.08675368e-04]],\n",
       "\n",
       "       [[ 7.53411863e-03, -8.98088956e-04, -6.63602968e-03],\n",
       "        [-8.98088956e-04,  9.04140231e-04, -6.05127578e-06],\n",
       "        [-6.63602968e-03, -6.05127578e-06,  6.64208095e-03]],\n",
       "\n",
       "       [[ 4.02452205e-02, -4.79734788e-03, -3.54478726e-02],\n",
       "        [-4.79734788e-03,  1.01154656e-01, -9.63573079e-02],\n",
       "        [-3.54478726e-02, -9.63573079e-02,  1.31805181e-01]],\n",
       "\n",
       "       [[ 3.38856809e-02, -2.47724177e-02, -9.11326319e-03],\n",
       "        [-2.47724177e-02,  2.07817202e-01, -1.83044784e-01],\n",
       "        [-9.11326319e-03, -1.83044784e-01,  1.92158047e-01]],\n",
       "\n",
       "       [[ 2.43965631e-01, -6.56124635e-02, -1.78353167e-01],\n",
       "        [-6.56124635e-02,  1.31224927e-01, -6.56124635e-02],\n",
       "        [-1.78353167e-01, -6.56124635e-02,  2.43965631e-01]]])"
      ]
     },
     "execution_count": 286,
     "metadata": {},
     "output_type": "execute_result"
    }
   ],
   "source": [
    "dsdx = s[:, :, None] * (np.eye(3) - s[:, None, :]) #dxT = dx\n",
    "dsdx"
   ]
  },
  {
   "cell_type": "code",
   "execution_count": 287,
   "metadata": {},
   "outputs": [
    {
     "data": {
      "text/plain": [
       "(5, 3, 3)"
      ]
     },
     "execution_count": 287,
     "metadata": {},
     "output_type": "execute_result"
    }
   ],
   "source": [
    "dsdx.shape"
   ]
  },
  {
   "cell_type": "code",
   "execution_count": 288,
   "metadata": {},
   "outputs": [
    {
     "data": {
      "text/plain": [
       "array([[[1, 4, 2]],\n",
       "\n",
       "       [[4, 3, 5]],\n",
       "\n",
       "       [[2, 4, 4]],\n",
       "\n",
       "       [[0, 9, 6]],\n",
       "\n",
       "       [[1, 0, 2]]])"
      ]
     },
     "execution_count": 288,
     "metadata": {},
     "output_type": "execute_result"
    }
   ],
   "source": [
    "dLdsT = np.random.randint(0, 10, (5, 1, 3))\n",
    "dLdsT"
   ]
  },
  {
   "cell_type": "code",
   "execution_count": 289,
   "metadata": {},
   "outputs": [
    {
     "data": {
      "text/plain": [
       "(5, 1, 3)"
      ]
     },
     "execution_count": 289,
     "metadata": {},
     "output_type": "execute_result"
    }
   ],
   "source": [
    "dLdsT.shape"
   ]
  },
  {
   "cell_type": "code",
   "execution_count": 290,
   "metadata": {},
   "outputs": [
    {
     "data": {
      "text/plain": [
       "(5, 3, 3)"
      ]
     },
     "execution_count": 290,
     "metadata": {},
     "output_type": "execute_result"
    }
   ],
   "source": [
    "dsdx.shape"
   ]
  },
  {
   "cell_type": "code",
   "execution_count": 291,
   "metadata": {},
   "outputs": [
    {
     "data": {
      "text/plain": [
       "array([[[-3.15008012e-01,  3.14938200e-01,  6.98121036e-05]],\n",
       "\n",
       "       [[-5.73794072e-03, -9.10191507e-04,  6.64813223e-03]],\n",
       "\n",
       "       [[-8.04904410e-02,  9.59469576e-03,  7.08957452e-02]],\n",
       "\n",
       "       [[-2.77631339e-01,  7.72086112e-01, -4.94454774e-01]],\n",
       "\n",
       "       [[-1.12740704e-01, -1.96837391e-01,  3.09578094e-01]]])"
      ]
     },
     "execution_count": 291,
     "metadata": {},
     "output_type": "execute_result"
    }
   ],
   "source": [
    "dLdx = np.matmul(dLdsT, dsdx)\n",
    "dLdx"
   ]
  },
  {
   "cell_type": "code",
   "execution_count": 292,
   "metadata": {
    "scrolled": true
   },
   "outputs": [
    {
     "data": {
      "text/plain": [
       "array([[-3.15008012e-01,  3.14938200e-01,  6.98121036e-05],\n",
       "       [-5.73794072e-03, -9.10191507e-04,  6.64813223e-03],\n",
       "       [-8.04904410e-02,  9.59469576e-03,  7.08957452e-02],\n",
       "       [-2.77631339e-01,  7.72086112e-01, -4.94454774e-01],\n",
       "       [-1.12740704e-01, -1.96837391e-01,  3.09578094e-01]])"
      ]
     },
     "execution_count": 292,
     "metadata": {},
     "output_type": "execute_result"
    }
   ],
   "source": [
    "np.squeeze(dLdx)"
   ]
  },
  {
   "cell_type": "markdown",
   "metadata": {},
   "source": [
    "### From notebook"
   ]
  },
  {
   "cell_type": "code",
   "execution_count": 293,
   "metadata": {},
   "outputs": [
    {
     "data": {
      "text/plain": [
       "array([[8.80701347e-01, 1.19189966e-01, 1.08687181e-04],\n",
       "       [9.92408247e-01, 9.04959183e-04, 6.68679417e-03],\n",
       "       [4.20100661e-02, 1.14195199e-01, 8.43794734e-01],\n",
       "       [3.51190270e-02, 7.05384513e-01, 2.59496460e-01],\n",
       "       [4.22318798e-01, 1.55362403e-01, 4.22318798e-01]])"
      ]
     },
     "execution_count": 293,
     "metadata": {},
     "output_type": "execute_result"
    }
   ],
   "source": [
    "s"
   ]
  },
  {
   "cell_type": "raw",
   "metadata": {
    "collapsed": true
   },
   "source": [
    "batch_size, n_feats = self.output.shape\n",
    "a = self.output.reshape(batch_size, n_feats, -1)\n",
    "b = self.output.reshape(batch_size, -1, n_feats)\n",
    "self.gradInput = np.multiply(gradOutput.reshape(batch_size, -1, n_feats), np.subtract(np.multiply(np.eye(n_feats), a), np.multiply(a, b))).sum(axis=2)"
   ]
  },
  {
   "cell_type": "code",
   "execution_count": 294,
   "metadata": {
    "collapsed": true
   },
   "outputs": [],
   "source": [
    "batch_size, n_feats = s.shape"
   ]
  },
  {
   "cell_type": "code",
   "execution_count": 295,
   "metadata": {},
   "outputs": [
    {
     "data": {
      "text/plain": [
       "5"
      ]
     },
     "execution_count": 295,
     "metadata": {},
     "output_type": "execute_result"
    }
   ],
   "source": [
    "batch_size"
   ]
  },
  {
   "cell_type": "code",
   "execution_count": 296,
   "metadata": {
    "scrolled": true
   },
   "outputs": [
    {
     "data": {
      "text/plain": [
       "3"
      ]
     },
     "execution_count": 296,
     "metadata": {},
     "output_type": "execute_result"
    }
   ],
   "source": [
    "n_feats"
   ]
  },
  {
   "cell_type": "code",
   "execution_count": 297,
   "metadata": {
    "collapsed": true
   },
   "outputs": [],
   "source": [
    "a = s.reshape(batch_size, n_feats, -1)"
   ]
  },
  {
   "cell_type": "code",
   "execution_count": 298,
   "metadata": {},
   "outputs": [
    {
     "data": {
      "text/plain": [
       "array([[[8.80701347e-01],\n",
       "        [1.19189966e-01],\n",
       "        [1.08687181e-04]],\n",
       "\n",
       "       [[9.92408247e-01],\n",
       "        [9.04959183e-04],\n",
       "        [6.68679417e-03]],\n",
       "\n",
       "       [[4.20100661e-02],\n",
       "        [1.14195199e-01],\n",
       "        [8.43794734e-01]],\n",
       "\n",
       "       [[3.51190270e-02],\n",
       "        [7.05384513e-01],\n",
       "        [2.59496460e-01]],\n",
       "\n",
       "       [[4.22318798e-01],\n",
       "        [1.55362403e-01],\n",
       "        [4.22318798e-01]]])"
      ]
     },
     "execution_count": 298,
     "metadata": {},
     "output_type": "execute_result"
    }
   ],
   "source": [
    "a"
   ]
  },
  {
   "cell_type": "code",
   "execution_count": 299,
   "metadata": {},
   "outputs": [
    {
     "data": {
      "text/plain": [
       "array([[[8.80701347e-01, 1.19189966e-01, 1.08687181e-04]],\n",
       "\n",
       "       [[9.92408247e-01, 9.04959183e-04, 6.68679417e-03]],\n",
       "\n",
       "       [[4.20100661e-02, 1.14195199e-01, 8.43794734e-01]],\n",
       "\n",
       "       [[3.51190270e-02, 7.05384513e-01, 2.59496460e-01]],\n",
       "\n",
       "       [[4.22318798e-01, 1.55362403e-01, 4.22318798e-01]]])"
      ]
     },
     "execution_count": 299,
     "metadata": {},
     "output_type": "execute_result"
    }
   ],
   "source": [
    "b = s.reshape(batch_size, -1, n_feats)\n",
    "b"
   ]
  },
  {
   "cell_type": "code",
   "execution_count": 300,
   "metadata": {},
   "outputs": [
    {
     "data": {
      "text/plain": [
       "array([[0.31666201, 0.69012764, 0.70102517],\n",
       "       [0.15054726, 0.61437627, 0.27794916],\n",
       "       [0.70692656, 0.88568222, 0.3556531 ],\n",
       "       [0.68766159, 0.13238989, 0.70319304],\n",
       "       [0.9725075 , 0.76373911, 0.17317561]])"
      ]
     },
     "execution_count": 300,
     "metadata": {},
     "output_type": "execute_result"
    }
   ],
   "source": [
    "gradOutput = np.random.random((n_batch, n_feats))\n",
    "gradOutput"
   ]
  },
  {
   "cell_type": "code",
   "execution_count": 301,
   "metadata": {
    "collapsed": true
   },
   "outputs": [],
   "source": [
    "gradOutput = dLdsT.copy()"
   ]
  },
  {
   "cell_type": "code",
   "execution_count": 302,
   "metadata": {},
   "outputs": [
    {
     "data": {
      "text/plain": [
       "(5, 1, 3)"
      ]
     },
     "execution_count": 302,
     "metadata": {},
     "output_type": "execute_result"
    }
   ],
   "source": [
    "gradOutput.shape"
   ]
  },
  {
   "cell_type": "code",
   "execution_count": 303,
   "metadata": {},
   "outputs": [
    {
     "data": {
      "text/plain": [
       "(5, 1, 3)"
      ]
     },
     "execution_count": 303,
     "metadata": {},
     "output_type": "execute_result"
    }
   ],
   "source": [
    "dLdsT.shape"
   ]
  },
  {
   "cell_type": "code",
   "execution_count": 304,
   "metadata": {},
   "outputs": [
    {
     "data": {
      "text/plain": [
       "array([[[8.80701347e-01, 0.00000000e+00, 0.00000000e+00],\n",
       "        [0.00000000e+00, 1.19189966e-01, 0.00000000e+00],\n",
       "        [0.00000000e+00, 0.00000000e+00, 1.08687181e-04]],\n",
       "\n",
       "       [[9.92408247e-01, 0.00000000e+00, 0.00000000e+00],\n",
       "        [0.00000000e+00, 9.04959183e-04, 0.00000000e+00],\n",
       "        [0.00000000e+00, 0.00000000e+00, 6.68679417e-03]],\n",
       "\n",
       "       [[4.20100661e-02, 0.00000000e+00, 0.00000000e+00],\n",
       "        [0.00000000e+00, 1.14195199e-01, 0.00000000e+00],\n",
       "        [0.00000000e+00, 0.00000000e+00, 8.43794734e-01]],\n",
       "\n",
       "       [[3.51190270e-02, 0.00000000e+00, 0.00000000e+00],\n",
       "        [0.00000000e+00, 7.05384513e-01, 0.00000000e+00],\n",
       "        [0.00000000e+00, 0.00000000e+00, 2.59496460e-01]],\n",
       "\n",
       "       [[4.22318798e-01, 0.00000000e+00, 0.00000000e+00],\n",
       "        [0.00000000e+00, 1.55362403e-01, 0.00000000e+00],\n",
       "        [0.00000000e+00, 0.00000000e+00, 4.22318798e-01]]])"
      ]
     },
     "execution_count": 304,
     "metadata": {},
     "output_type": "execute_result"
    }
   ],
   "source": [
    "np.multiply(np.eye(n_feats), a)"
   ]
  },
  {
   "cell_type": "code",
   "execution_count": 305,
   "metadata": {},
   "outputs": [
    {
     "data": {
      "text/plain": [
       "array([[[7.75634862e-01, 1.04970764e-01, 9.57209464e-05],\n",
       "        [1.04970764e-01, 1.42062480e-02, 1.29544214e-05],\n",
       "        [9.57209464e-05, 1.29544214e-05, 1.18129032e-08]],\n",
       "\n",
       "       [[9.84874128e-01, 8.98088956e-04, 6.63602968e-03],\n",
       "        [8.98088956e-04, 8.18951122e-07, 6.05127578e-06],\n",
       "        [6.63602968e-03, 6.05127578e-06, 4.47132162e-05]],\n",
       "\n",
       "       [[1.76484566e-03, 4.79734788e-03, 3.54478726e-02],\n",
       "        [4.79734788e-03, 1.30405436e-02, 9.63573079e-02],\n",
       "        [3.54478726e-02, 9.63573079e-02, 7.11989554e-01]],\n",
       "\n",
       "       [[1.23334605e-03, 2.47724177e-02, 9.11326319e-03],\n",
       "        [2.47724177e-02, 4.97567311e-01, 1.83044784e-01],\n",
       "        [9.11326319e-03, 1.83044784e-01, 6.73384129e-02]],\n",
       "\n",
       "       [[1.78353167e-01, 6.56124635e-02, 1.78353167e-01],\n",
       "        [6.56124635e-02, 2.41374764e-02, 6.56124635e-02],\n",
       "        [1.78353167e-01, 6.56124635e-02, 1.78353167e-01]]])"
      ]
     },
     "execution_count": 305,
     "metadata": {},
     "output_type": "execute_result"
    }
   ],
   "source": [
    "np.multiply(a, b)"
   ]
  },
  {
   "cell_type": "code",
   "execution_count": 306,
   "metadata": {},
   "outputs": [
    {
     "data": {
      "text/plain": [
       "array([[[ 1.05066485e-01, -1.04970764e-01, -9.57209464e-05],\n",
       "        [-1.04970764e-01,  1.04983718e-01, -1.29544214e-05],\n",
       "        [-9.57209464e-05, -1.29544214e-05,  1.08675368e-04]],\n",
       "\n",
       "       [[ 7.53411863e-03, -8.98088956e-04, -6.63602968e-03],\n",
       "        [-8.98088956e-04,  9.04140231e-04, -6.05127578e-06],\n",
       "        [-6.63602968e-03, -6.05127578e-06,  6.64208095e-03]],\n",
       "\n",
       "       [[ 4.02452205e-02, -4.79734788e-03, -3.54478726e-02],\n",
       "        [-4.79734788e-03,  1.01154656e-01, -9.63573079e-02],\n",
       "        [-3.54478726e-02, -9.63573079e-02,  1.31805181e-01]],\n",
       "\n",
       "       [[ 3.38856809e-02, -2.47724177e-02, -9.11326319e-03],\n",
       "        [-2.47724177e-02,  2.07817202e-01, -1.83044784e-01],\n",
       "        [-9.11326319e-03, -1.83044784e-01,  1.92158047e-01]],\n",
       "\n",
       "       [[ 2.43965631e-01, -6.56124635e-02, -1.78353167e-01],\n",
       "        [-6.56124635e-02,  1.31224927e-01, -6.56124635e-02],\n",
       "        [-1.78353167e-01, -6.56124635e-02,  2.43965631e-01]]])"
      ]
     },
     "execution_count": 306,
     "metadata": {},
     "output_type": "execute_result"
    }
   ],
   "source": [
    "np.subtract(np.multiply(np.eye(n_feats), a), np.multiply(a, b))"
   ]
  },
  {
   "cell_type": "code",
   "execution_count": 307,
   "metadata": {},
   "outputs": [
    {
     "data": {
      "text/plain": [
       "array([[[ 1.05066485e-01, -1.04970764e-01, -9.57209464e-05],\n",
       "        [-1.04970764e-01,  1.04983718e-01, -1.29544214e-05],\n",
       "        [-9.57209464e-05, -1.29544214e-05,  1.08675368e-04]],\n",
       "\n",
       "       [[ 7.53411863e-03, -8.98088956e-04, -6.63602968e-03],\n",
       "        [-8.98088956e-04,  9.04140231e-04, -6.05127578e-06],\n",
       "        [-6.63602968e-03, -6.05127578e-06,  6.64208095e-03]],\n",
       "\n",
       "       [[ 4.02452205e-02, -4.79734788e-03, -3.54478726e-02],\n",
       "        [-4.79734788e-03,  1.01154656e-01, -9.63573079e-02],\n",
       "        [-3.54478726e-02, -9.63573079e-02,  1.31805181e-01]],\n",
       "\n",
       "       [[ 3.38856809e-02, -2.47724177e-02, -9.11326319e-03],\n",
       "        [-2.47724177e-02,  2.07817202e-01, -1.83044784e-01],\n",
       "        [-9.11326319e-03, -1.83044784e-01,  1.92158047e-01]],\n",
       "\n",
       "       [[ 2.43965631e-01, -6.56124635e-02, -1.78353167e-01],\n",
       "        [-6.56124635e-02,  1.31224927e-01, -6.56124635e-02],\n",
       "        [-1.78353167e-01, -6.56124635e-02,  2.43965631e-01]]])"
      ]
     },
     "execution_count": 307,
     "metadata": {},
     "output_type": "execute_result"
    }
   ],
   "source": [
    "dsdx"
   ]
  },
  {
   "cell_type": "code",
   "execution_count": 308,
   "metadata": {},
   "outputs": [
    {
     "data": {
      "text/plain": [
       "array([[[ 1.05066485e-01, -4.19883055e-01, -1.91441893e-04],\n",
       "        [-1.04970764e-01,  4.19934873e-01, -2.59088428e-05],\n",
       "        [-9.57209464e-05, -5.18176855e-05,  2.17350735e-04]],\n",
       "\n",
       "       [[ 3.01364745e-02, -2.69426687e-03, -3.31801484e-02],\n",
       "        [-3.59235582e-03,  2.71242069e-03, -3.02563789e-05],\n",
       "        [-2.65441187e-02, -1.81538274e-05,  3.32104048e-02]],\n",
       "\n",
       "       [[ 8.04904410e-02, -1.91893915e-02, -1.41791490e-01],\n",
       "        [-9.59469576e-03,  4.04618623e-01, -3.85429232e-01],\n",
       "        [-7.08957452e-02, -3.85429232e-01,  5.27220722e-01]],\n",
       "\n",
       "       [[ 0.00000000e+00, -2.22951759e-01, -5.46795791e-02],\n",
       "        [-0.00000000e+00,  1.87035482e+00, -1.09826871e+00],\n",
       "        [-0.00000000e+00, -1.64740306e+00,  1.15294828e+00]],\n",
       "\n",
       "       [[ 2.43965631e-01, -0.00000000e+00, -3.56706335e-01],\n",
       "        [-6.56124635e-02,  0.00000000e+00, -1.31224927e-01],\n",
       "        [-1.78353167e-01, -0.00000000e+00,  4.87931262e-01]]])"
      ]
     },
     "execution_count": 308,
     "metadata": {},
     "output_type": "execute_result"
    }
   ],
   "source": [
    "np.multiply(gradOutput.reshape(batch_size, -1, n_feats), np.subtract(np.multiply(np.eye(n_feats), a), np.multiply(a, b)))"
   ]
  },
  {
   "cell_type": "code",
   "execution_count": 309,
   "metadata": {
    "collapsed": true
   },
   "outputs": [],
   "source": [
    "note_res = np.multiply(gradOutput.reshape(batch_size, -1, n_feats), np.subtract(np.multiply(np.eye(n_feats), a), np.multiply(a, b))).sum(axis=2)"
   ]
  },
  {
   "cell_type": "code",
   "execution_count": 310,
   "metadata": {
    "collapsed": true
   },
   "outputs": [],
   "source": [
    "my_res = np.squeeze(np.matmul(dLdsT, dsdx))"
   ]
  },
  {
   "cell_type": "code",
   "execution_count": 311,
   "metadata": {},
   "outputs": [
    {
     "data": {
      "text/plain": [
       "True"
      ]
     },
     "execution_count": 311,
     "metadata": {},
     "output_type": "execute_result"
    }
   ],
   "source": [
    "np.allclose(note_res, my_res)"
   ]
  },
  {
   "cell_type": "code",
   "execution_count": 312,
   "metadata": {},
   "outputs": [
    {
     "data": {
      "text/plain": [
       "array([[-3.15008012e-01,  3.14938200e-01,  6.98121036e-05],\n",
       "       [-5.73794072e-03, -9.10191507e-04,  6.64813223e-03],\n",
       "       [-8.04904410e-02,  9.59469576e-03,  7.08957452e-02],\n",
       "       [-2.77631339e-01,  7.72086112e-01, -4.94454774e-01],\n",
       "       [-1.12740704e-01, -1.96837391e-01,  3.09578094e-01]])"
      ]
     },
     "execution_count": 312,
     "metadata": {},
     "output_type": "execute_result"
    }
   ],
   "source": [
    "note_res"
   ]
  },
  {
   "cell_type": "code",
   "execution_count": 313,
   "metadata": {},
   "outputs": [
    {
     "data": {
      "text/plain": [
       "array([[-3.15008012e-01,  3.14938200e-01,  6.98121036e-05],\n",
       "       [-5.73794072e-03, -9.10191507e-04,  6.64813223e-03],\n",
       "       [-8.04904410e-02,  9.59469576e-03,  7.08957452e-02],\n",
       "       [-2.77631339e-01,  7.72086112e-01, -4.94454774e-01],\n",
       "       [-1.12740704e-01, -1.96837391e-01,  3.09578094e-01]])"
      ]
     },
     "execution_count": 313,
     "metadata": {},
     "output_type": "execute_result"
    }
   ],
   "source": [
    "my_res"
   ]
  },
  {
   "cell_type": "markdown",
   "metadata": {},
   "source": [
    "---\n",
    "\n",
    "# Example derivative of LogSoftMax"
   ]
  },
  {
   "cell_type": "code",
   "execution_count": 314,
   "metadata": {
    "collapsed": true
   },
   "outputs": [],
   "source": [
    "x_in = np.array([[6, 2, 8],\n",
    "       [9, 6, 3],\n",
    "       [9, 9, 4],\n",
    "       [6, 7, 0],\n",
    "       [9, 8, 9]])"
   ]
  },
  {
   "cell_type": "code",
   "execution_count": 315,
   "metadata": {},
   "outputs": [
    {
     "data": {
      "text/plain": [
       "array([[1.18943236e-01, 2.17852136e-03, 8.78878243e-01],\n",
       "       [9.50330212e-01, 4.73141552e-02, 2.35563308e-03],\n",
       "       [4.98321169e-01, 4.98321169e-01, 3.35766163e-03],\n",
       "       [2.68762254e-01, 7.30571551e-01, 6.66195022e-04],\n",
       "       [4.22318798e-01, 1.55362403e-01, 4.22318798e-01]])"
      ]
     },
     "execution_count": 315,
     "metadata": {},
     "output_type": "execute_result"
    }
   ],
   "source": [
    "s = smax(x_in)\n",
    "s"
   ]
  },
  {
   "cell_type": "code",
   "execution_count": 316,
   "metadata": {
    "scrolled": true
   },
   "outputs": [
    {
     "data": {
      "text/plain": [
       "array([[[1.18943236e-01, 2.17852136e-03, 8.78878243e-01]],\n",
       "\n",
       "       [[9.50330212e-01, 4.73141552e-02, 2.35563308e-03]],\n",
       "\n",
       "       [[4.98321169e-01, 4.98321169e-01, 3.35766163e-03]],\n",
       "\n",
       "       [[2.68762254e-01, 7.30571551e-01, 6.66195022e-04]],\n",
       "\n",
       "       [[4.22318798e-01, 1.55362403e-01, 4.22318798e-01]]])"
      ]
     },
     "execution_count": 316,
     "metadata": {},
     "output_type": "execute_result"
    }
   ],
   "source": [
    "s[:,None,:]"
   ]
  },
  {
   "cell_type": "code",
   "execution_count": 317,
   "metadata": {},
   "outputs": [
    {
     "data": {
      "text/plain": [
       "array([[[1.18943236e-01, 2.17852136e-03, 8.78878243e-01],\n",
       "        [1.18943236e-01, 2.17852136e-03, 8.78878243e-01],\n",
       "        [1.18943236e-01, 2.17852136e-03, 8.78878243e-01]],\n",
       "\n",
       "       [[9.50330212e-01, 4.73141552e-02, 2.35563308e-03],\n",
       "        [9.50330212e-01, 4.73141552e-02, 2.35563308e-03],\n",
       "        [9.50330212e-01, 4.73141552e-02, 2.35563308e-03]],\n",
       "\n",
       "       [[4.98321169e-01, 4.98321169e-01, 3.35766163e-03],\n",
       "        [4.98321169e-01, 4.98321169e-01, 3.35766163e-03],\n",
       "        [4.98321169e-01, 4.98321169e-01, 3.35766163e-03]],\n",
       "\n",
       "       [[2.68762254e-01, 7.30571551e-01, 6.66195022e-04],\n",
       "        [2.68762254e-01, 7.30571551e-01, 6.66195022e-04],\n",
       "        [2.68762254e-01, 7.30571551e-01, 6.66195022e-04]],\n",
       "\n",
       "       [[4.22318798e-01, 1.55362403e-01, 4.22318798e-01],\n",
       "        [4.22318798e-01, 1.55362403e-01, 4.22318798e-01],\n",
       "        [4.22318798e-01, 1.55362403e-01, 4.22318798e-01]]])"
      ]
     },
     "execution_count": 317,
     "metadata": {},
     "output_type": "execute_result"
    }
   ],
   "source": [
    "res2 = s[:,None,:] * np.ones(3)[:,None]\n",
    "res2"
   ]
  },
  {
   "cell_type": "code",
   "execution_count": 318,
   "metadata": {},
   "outputs": [
    {
     "data": {
      "text/plain": [
       "array([[[ 8.81056764e-01, -2.17852136e-03, -8.78878243e-01],\n",
       "        [-1.18943236e-01,  9.97821479e-01, -8.78878243e-01],\n",
       "        [-1.18943236e-01, -2.17852136e-03,  1.21121757e-01]],\n",
       "\n",
       "       [[ 4.96697883e-02, -4.73141552e-02, -2.35563308e-03],\n",
       "        [-9.50330212e-01,  9.52685845e-01, -2.35563308e-03],\n",
       "        [-9.50330212e-01, -4.73141552e-02,  9.97644367e-01]],\n",
       "\n",
       "       [[ 5.01678831e-01, -4.98321169e-01, -3.35766163e-03],\n",
       "        [-4.98321169e-01,  5.01678831e-01, -3.35766163e-03],\n",
       "        [-4.98321169e-01, -4.98321169e-01,  9.96642338e-01]],\n",
       "\n",
       "       [[ 7.31237746e-01, -7.30571551e-01, -6.66195022e-04],\n",
       "        [-2.68762254e-01,  2.69428449e-01, -6.66195022e-04],\n",
       "        [-2.68762254e-01, -7.30571551e-01,  9.99333805e-01]],\n",
       "\n",
       "       [[ 5.77681202e-01, -1.55362403e-01, -4.22318798e-01],\n",
       "        [-4.22318798e-01,  8.44637597e-01, -4.22318798e-01],\n",
       "        [-4.22318798e-01, -1.55362403e-01,  5.77681202e-01]]])"
      ]
     },
     "execution_count": 318,
     "metadata": {},
     "output_type": "execute_result"
    }
   ],
   "source": [
    "dldx = np.eye(3) - res2\n",
    "dldx"
   ]
  },
  {
   "cell_type": "code",
   "execution_count": 319,
   "metadata": {
    "collapsed": true
   },
   "outputs": [],
   "source": [
    "dLdlT = np.array([[0.9641629 , 0.13632945, 0.56112404],\n",
    "       [0.91547089, 0.95909897, 0.27756155],\n",
    "       [0.96150247, 0.87256632, 0.81025121],\n",
    "       [0.83971777, 0.12481911, 0.99006227],\n",
    "       [0.780089  , 0.28662484, 0.68290024]])"
   ]
  },
  {
   "cell_type": "code",
   "execution_count": 320,
   "metadata": {},
   "outputs": [
    {
     "data": {
      "text/plain": [
       "array([[0.9641629 , 0.13632945, 0.56112404],\n",
       "       [0.91547089, 0.95909897, 0.27756155],\n",
       "       [0.96150247, 0.87256632, 0.81025121],\n",
       "       [0.83971777, 0.12481911, 0.99006227],\n",
       "       [0.780089  , 0.28662484, 0.68290024]])"
      ]
     },
     "execution_count": 320,
     "metadata": {},
     "output_type": "execute_result"
    }
   ],
   "source": [
    "dLdlT"
   ]
  },
  {
   "cell_type": "code",
   "execution_count": 321,
   "metadata": {},
   "outputs": [
    {
     "data": {
      "text/plain": [
       "array([[[0.9641629 , 0.13632945, 0.56112404]],\n",
       "\n",
       "       [[0.91547089, 0.95909897, 0.27756155]],\n",
       "\n",
       "       [[0.96150247, 0.87256632, 0.81025121]],\n",
       "\n",
       "       [[0.83971777, 0.12481911, 0.99006227]],\n",
       "\n",
       "       [[0.780089  , 0.28662484, 0.68290024]]])"
      ]
     },
     "execution_count": 321,
     "metadata": {},
     "output_type": "execute_result"
    }
   ],
   "source": [
    "dLdlT[:,None,:]"
   ]
  },
  {
   "cell_type": "code",
   "execution_count": 322,
   "metadata": {},
   "outputs": [
    {
     "data": {
      "text/plain": [
       "(5, 3, 3)"
      ]
     },
     "execution_count": 322,
     "metadata": {},
     "output_type": "execute_result"
    }
   ],
   "source": [
    "dldx.shape"
   ]
  },
  {
   "cell_type": "code",
   "execution_count": 323,
   "metadata": {},
   "outputs": [
    {
     "data": {
      "text/plain": [
       "(5, 3)"
      ]
     },
     "execution_count": 323,
     "metadata": {},
     "output_type": "execute_result"
    }
   ],
   "source": [
    "dLdlT.shape"
   ]
  },
  {
   "cell_type": "code",
   "execution_count": 324,
   "metadata": {},
   "outputs": [
    {
     "data": {
      "text/plain": [
       "array([[ 0.76652487,  0.13270958, -0.89923445],\n",
       "       [-1.12976461,  0.85727269,  0.27249192],\n",
       "       [-0.35621816, -0.44515431,  0.80137248],\n",
       "       [ 0.3143953 , -1.30315542,  0.98876013],\n",
       "       [ 0.04119408,  0.01480059, -0.05599468]])"
      ]
     },
     "execution_count": 324,
     "metadata": {},
     "output_type": "execute_result"
    }
   ],
   "source": [
    "dLdxT = np.squeeze(np.matmul(dLdlT[:,None,:], dldx))\n",
    "dLdxT"
   ]
  },
  {
   "cell_type": "code",
   "execution_count": 325,
   "metadata": {
    "collapsed": true
   },
   "outputs": [],
   "source": [
    "def updateOutput(input):\n",
    "        # start with normalization for numerical stability\n",
    "        output = np.subtract(input, input.max(axis=1, keepdims=True))\n",
    "        \n",
    "        # Your code goes here. ################################################\n",
    "        output = output - np.log(np.sum(np.exp(output), axis=1, keepdims=True))\n",
    "        return output\n",
    "    \n",
    "def updateGradInput(input, gradOutput):\n",
    "        # Your code goes here. ################################################\n",
    "        local_derivative = np.zeros((gradOutput.shape[0], gradOutput.shape[1], gradOutput.shape[1]))\n",
    "        local_derivative[:, np.arange(gradOutput.shape[1]), np.arange(gradOutput.shape[1])] = 1.\n",
    "        local_softmax = np.exp(input)\n",
    "        local_softmax = np.exp(output)\n",
    "        local_softmax = local_softmax/local_softmax.sum(axis=1, keepdims=True)\n",
    "        local_derivative = local_derivative - local_softmax[:, None, :]\n",
    "        \n",
    "        gradInput = np.matmul(gradOutput[:, None, :], (local_derivative))[:, 0, :]\n",
    "\n",
    "        return gradInput"
   ]
  },
  {
   "cell_type": "code",
   "execution_count": 326,
   "metadata": {
    "collapsed": true
   },
   "outputs": [],
   "source": [
    "output = updateOutput(x_in)"
   ]
  },
  {
   "cell_type": "code",
   "execution_count": 327,
   "metadata": {},
   "outputs": [
    {
     "data": {
      "text/plain": [
       "array([[-2.12910891, -6.12910891, -0.12910891],\n",
       "       [-0.05094576, -3.05094576, -6.05094576],\n",
       "       [-0.69651049, -0.69651049, -5.69651049],\n",
       "       [-1.3139281 , -0.3139281 , -7.3139281 ],\n",
       "       [-0.8619948 , -1.8619948 , -0.8619948 ]])"
      ]
     },
     "execution_count": 327,
     "metadata": {},
     "output_type": "execute_result"
    }
   ],
   "source": [
    "output"
   ]
  },
  {
   "cell_type": "code",
   "execution_count": 328,
   "metadata": {},
   "outputs": [
    {
     "data": {
      "text/plain": [
       "array([[-2.12910891, -6.12910891, -0.12910891],\n",
       "       [-0.05094576, -3.05094576, -6.05094576],\n",
       "       [-0.69651049, -0.69651049, -5.69651049],\n",
       "       [-1.3139281 , -0.3139281 , -7.3139281 ],\n",
       "       [-0.8619948 , -1.8619948 , -0.8619948 ]])"
      ]
     },
     "execution_count": 328,
     "metadata": {},
     "output_type": "execute_result"
    }
   ],
   "source": [
    "special.log_softmax(x_in, axis=1)"
   ]
  },
  {
   "cell_type": "code",
   "execution_count": 329,
   "metadata": {
    "collapsed": true
   },
   "outputs": [],
   "source": [
    "local_derivative = np.zeros((dLdlT.shape[0], dLdlT.shape[1], dLdlT.shape[1]))\n",
    "local_derivative[:, np.arange(dLdlT.shape[1]), np.arange(dLdlT.shape[1])] = 1.\n",
    "local_softmax1 = np.exp(x_in)\n",
    "local_softmax2 = np.exp(output)\n",
    "local_softmax1 = local_softmax1/local_softmax1.sum(axis=1, keepdims=True)\n",
    "local_softmax2 = local_softmax2/local_softmax2.sum(axis=1, keepdims=True)\n",
    "local_derivative = local_derivative - local_softmax2[:, None, :]\n",
    "gradInput = np.matmul(dLdlT[:, None, :], (local_derivative))[:, 0, :]"
   ]
  },
  {
   "cell_type": "code",
   "execution_count": 330,
   "metadata": {},
   "outputs": [
    {
     "data": {
      "text/plain": [
       "array([[[ 8.81056764e-01, -2.17852136e-03, -8.78878243e-01],\n",
       "        [-1.18943236e-01,  9.97821479e-01, -8.78878243e-01],\n",
       "        [-1.18943236e-01, -2.17852136e-03,  1.21121757e-01]],\n",
       "\n",
       "       [[ 4.96697883e-02, -4.73141552e-02, -2.35563308e-03],\n",
       "        [-9.50330212e-01,  9.52685845e-01, -2.35563308e-03],\n",
       "        [-9.50330212e-01, -4.73141552e-02,  9.97644367e-01]],\n",
       "\n",
       "       [[ 5.01678831e-01, -4.98321169e-01, -3.35766163e-03],\n",
       "        [-4.98321169e-01,  5.01678831e-01, -3.35766163e-03],\n",
       "        [-4.98321169e-01, -4.98321169e-01,  9.96642338e-01]],\n",
       "\n",
       "       [[ 7.31237746e-01, -7.30571551e-01, -6.66195022e-04],\n",
       "        [-2.68762254e-01,  2.69428449e-01, -6.66195022e-04],\n",
       "        [-2.68762254e-01, -7.30571551e-01,  9.99333805e-01]],\n",
       "\n",
       "       [[ 5.77681202e-01, -1.55362403e-01, -4.22318798e-01],\n",
       "        [-4.22318798e-01,  8.44637597e-01, -4.22318798e-01],\n",
       "        [-4.22318798e-01, -1.55362403e-01,  5.77681202e-01]]])"
      ]
     },
     "execution_count": 330,
     "metadata": {},
     "output_type": "execute_result"
    }
   ],
   "source": [
    "local_derivative"
   ]
  },
  {
   "cell_type": "code",
   "execution_count": 331,
   "metadata": {},
   "outputs": [
    {
     "data": {
      "text/plain": [
       "array([[[ 8.81056764e-01, -2.17852136e-03, -8.78878243e-01],\n",
       "        [-1.18943236e-01,  9.97821479e-01, -8.78878243e-01],\n",
       "        [-1.18943236e-01, -2.17852136e-03,  1.21121757e-01]],\n",
       "\n",
       "       [[ 4.96697883e-02, -4.73141552e-02, -2.35563308e-03],\n",
       "        [-9.50330212e-01,  9.52685845e-01, -2.35563308e-03],\n",
       "        [-9.50330212e-01, -4.73141552e-02,  9.97644367e-01]],\n",
       "\n",
       "       [[ 5.01678831e-01, -4.98321169e-01, -3.35766163e-03],\n",
       "        [-4.98321169e-01,  5.01678831e-01, -3.35766163e-03],\n",
       "        [-4.98321169e-01, -4.98321169e-01,  9.96642338e-01]],\n",
       "\n",
       "       [[ 7.31237746e-01, -7.30571551e-01, -6.66195022e-04],\n",
       "        [-2.68762254e-01,  2.69428449e-01, -6.66195022e-04],\n",
       "        [-2.68762254e-01, -7.30571551e-01,  9.99333805e-01]],\n",
       "\n",
       "       [[ 5.77681202e-01, -1.55362403e-01, -4.22318798e-01],\n",
       "        [-4.22318798e-01,  8.44637597e-01, -4.22318798e-01],\n",
       "        [-4.22318798e-01, -1.55362403e-01,  5.77681202e-01]]])"
      ]
     },
     "execution_count": 331,
     "metadata": {},
     "output_type": "execute_result"
    }
   ],
   "source": [
    "dldx"
   ]
  },
  {
   "cell_type": "code",
   "execution_count": 332,
   "metadata": {},
   "outputs": [
    {
     "data": {
      "text/plain": [
       "array([[ 0.76652487,  0.13270958, -0.89923445],\n",
       "       [-1.12976461,  0.85727269,  0.27249192],\n",
       "       [-0.35621816, -0.44515431,  0.80137248],\n",
       "       [ 0.3143953 , -1.30315542,  0.98876013],\n",
       "       [ 0.04119408,  0.01480059, -0.05599468]])"
      ]
     },
     "execution_count": 332,
     "metadata": {},
     "output_type": "execute_result"
    }
   ],
   "source": [
    "gradInput"
   ]
  },
  {
   "cell_type": "code",
   "execution_count": 333,
   "metadata": {},
   "outputs": [
    {
     "data": {
      "text/plain": [
       "True"
      ]
     },
     "execution_count": 333,
     "metadata": {},
     "output_type": "execute_result"
    }
   ],
   "source": [
    "np.allclose(gradInput, dLdxT)"
   ]
  },
  {
   "cell_type": "markdown",
   "metadata": {},
   "source": [
    "----\n",
    "\n",
    "\n",
    "### Leaky RELU"
   ]
  },
  {
   "cell_type": "code",
   "execution_count": 334,
   "metadata": {
    "collapsed": true
   },
   "outputs": [],
   "source": [
    "x_in = np.array([[9.91645587e-01, 7.21258379e-01, 8.75551079e-02],\n",
    "       [2.21766037e-01, 3.02389876e-03, 3.09978134e-01],\n",
    "       [1.79992814e-01, 9.28676271e-01, 8.45949432e-01],\n",
    "       [3.38805255e-04, 4.87446783e-01, 8.94100048e-01],\n",
    "       [1.63766389e-01, 6.04098247e-01, 8.86437386e-02]])"
   ]
  },
  {
   "cell_type": "code",
   "execution_count": 335,
   "metadata": {},
   "outputs": [
    {
     "data": {
      "text/plain": [
       "array([[9.91645587e-01, 7.21258379e-01, 8.75551079e-02],\n",
       "       [2.21766037e-01, 3.02389876e-03, 3.09978134e-01],\n",
       "       [1.79992814e-01, 9.28676271e-01, 8.45949432e-01],\n",
       "       [3.38805255e-04, 4.87446783e-01, 8.94100048e-01],\n",
       "       [1.63766389e-01, 6.04098247e-01, 8.86437386e-02]])"
      ]
     },
     "execution_count": 335,
     "metadata": {},
     "output_type": "execute_result"
    }
   ],
   "source": [
    "x_in"
   ]
  },
  {
   "cell_type": "code",
   "execution_count": 336,
   "metadata": {},
   "outputs": [
    {
     "data": {
      "text/plain": [
       "array([[9.91645587e-01, 7.21258379e-01, 4.37775540e-03],\n",
       "       [1.10883019e-02, 1.51194938e-04, 1.54989067e-02],\n",
       "       [8.99964070e-03, 9.28676271e-01, 8.45949432e-01],\n",
       "       [1.69402628e-05, 2.43723392e-02, 8.94100048e-01],\n",
       "       [8.18831945e-03, 6.04098247e-01, 4.43218693e-03]])"
      ]
     },
     "execution_count": 336,
     "metadata": {},
     "output_type": "execute_result"
    }
   ],
   "source": [
    "np.where(x_in >= 0.5, x_in, 0.05*x_in)"
   ]
  },
  {
   "cell_type": "code",
   "execution_count": 337,
   "metadata": {},
   "outputs": [
    {
     "data": {
      "text/plain": [
       "array([[1.  , 1.  , 0.05],\n",
       "       [0.05, 0.05, 0.05],\n",
       "       [0.05, 1.  , 1.  ],\n",
       "       [0.05, 0.05, 1.  ],\n",
       "       [0.05, 1.  , 0.05]])"
      ]
     },
     "execution_count": 337,
     "metadata": {},
     "output_type": "execute_result"
    }
   ],
   "source": [
    "np.where(x_in >= 0.5, x_in, 0.05*x_in)/ x_in"
   ]
  },
  {
   "cell_type": "code",
   "execution_count": 338,
   "metadata": {
    "collapsed": true
   },
   "outputs": [],
   "source": [
    "a = np.where(x_in >= 0.5, x_in, -1)"
   ]
  },
  {
   "cell_type": "code",
   "execution_count": 339,
   "metadata": {},
   "outputs": [
    {
     "data": {
      "text/plain": [
       "array([[ 0.99164559,  0.72125838, -1.        ],\n",
       "       [-1.        , -1.        , -1.        ],\n",
       "       [-1.        ,  0.92867627,  0.84594943],\n",
       "       [-1.        , -1.        ,  0.89410005],\n",
       "       [-1.        ,  0.60409825, -1.        ]])"
      ]
     },
     "execution_count": 339,
     "metadata": {},
     "output_type": "execute_result"
    }
   ],
   "source": [
    "a"
   ]
  },
  {
   "cell_type": "code",
   "execution_count": 340,
   "metadata": {},
   "outputs": [
    {
     "data": {
      "text/plain": [
       "array([[[ 0.99164559],\n",
       "        [ 0.72125838],\n",
       "        [-1.        ]],\n",
       "\n",
       "       [[-1.        ],\n",
       "        [-1.        ],\n",
       "        [-1.        ]],\n",
       "\n",
       "       [[-1.        ],\n",
       "        [ 0.92867627],\n",
       "        [ 0.84594943]],\n",
       "\n",
       "       [[-1.        ],\n",
       "        [-1.        ],\n",
       "        [ 0.89410005]],\n",
       "\n",
       "       [[-1.        ],\n",
       "        [ 0.60409825],\n",
       "        [-1.        ]]])"
      ]
     },
     "execution_count": 340,
     "metadata": {},
     "output_type": "execute_result"
    }
   ],
   "source": [
    "a[:, :, None]"
   ]
  },
  {
   "cell_type": "code",
   "execution_count": 341,
   "metadata": {
    "collapsed": true
   },
   "outputs": [],
   "source": [
    "dLeakdx = np.eye(3) * a[:, :, None]"
   ]
  },
  {
   "cell_type": "code",
   "execution_count": 342,
   "metadata": {},
   "outputs": [
    {
     "data": {
      "text/plain": [
       "array([[[ 0.99164559,  0.        ,  0.        ],\n",
       "        [ 0.        ,  0.72125838,  0.        ],\n",
       "        [-0.        , -0.        , -1.        ]],\n",
       "\n",
       "       [[-1.        , -0.        , -0.        ],\n",
       "        [-0.        , -1.        , -0.        ],\n",
       "        [-0.        , -0.        , -1.        ]],\n",
       "\n",
       "       [[-1.        , -0.        , -0.        ],\n",
       "        [ 0.        ,  0.92867627,  0.        ],\n",
       "        [ 0.        ,  0.        ,  0.84594943]],\n",
       "\n",
       "       [[-1.        , -0.        , -0.        ],\n",
       "        [-0.        , -1.        , -0.        ],\n",
       "        [ 0.        ,  0.        ,  0.89410005]],\n",
       "\n",
       "       [[-1.        , -0.        , -0.        ],\n",
       "        [ 0.        ,  0.60409825,  0.        ],\n",
       "        [-0.        , -0.        , -1.        ]]])"
      ]
     },
     "execution_count": 342,
     "metadata": {},
     "output_type": "execute_result"
    }
   ],
   "source": [
    "dLeakdx"
   ]
  },
  {
   "cell_type": "code",
   "execution_count": 343,
   "metadata": {
    "collapsed": true
   },
   "outputs": [],
   "source": [
    "gradOutput = np.array([[[6, 3, 4]],\n",
    "\n",
    "       [[3, 2, 2]],\n",
    "\n",
    "       [[7, 5, 4]],\n",
    "\n",
    "       [[3, 4, 2]],\n",
    "\n",
    "       [[2, 5, 3]]])"
   ]
  },
  {
   "cell_type": "code",
   "execution_count": 344,
   "metadata": {},
   "outputs": [
    {
     "data": {
      "text/plain": [
       "array([[ 5.94987352,  2.16377514, -4.        ],\n",
       "       [-3.        , -2.        , -2.        ],\n",
       "       [-7.        ,  4.64338136,  3.38379773],\n",
       "       [-3.        , -4.        ,  1.7882001 ],\n",
       "       [-2.        ,  3.02049124, -3.        ]])"
      ]
     },
     "execution_count": 344,
     "metadata": {},
     "output_type": "execute_result"
    }
   ],
   "source": [
    "np.squeeze(np.matmul(gradOutput, dLeakdx))"
   ]
  },
  {
   "cell_type": "code",
   "execution_count": 345,
   "metadata": {},
   "outputs": [
    {
     "data": {
      "text/plain": [
       "array([[[ 5.94987352,  2.16377514, -4.        ]],\n",
       "\n",
       "       [[-3.        , -2.        , -2.        ]],\n",
       "\n",
       "       [[-7.        ,  4.64338136,  3.38379773]],\n",
       "\n",
       "       [[-3.        , -4.        ,  1.7882001 ]],\n",
       "\n",
       "       [[-2.        ,  3.02049124, -3.        ]]])"
      ]
     },
     "execution_count": 345,
     "metadata": {},
     "output_type": "execute_result"
    }
   ],
   "source": [
    "np.matmul(gradOutput, dLeakdx)"
   ]
  },
  {
   "cell_type": "code",
   "execution_count": 346,
   "metadata": {},
   "outputs": [
    {
     "data": {
      "text/plain": [
       "array([[ 5.94987352,  2.16377514, -4.        ],\n",
       "       [-3.        , -2.        , -2.        ],\n",
       "       [-7.        ,  4.64338136,  3.38379773],\n",
       "       [-3.        , -4.        ,  1.7882001 ],\n",
       "       [-2.        ,  3.02049124, -3.        ]])"
      ]
     },
     "execution_count": 346,
     "metadata": {},
     "output_type": "execute_result"
    }
   ],
   "source": [
    "np.matmul(gradOutput, dLeakdx)[:,0,:]"
   ]
  },
  {
   "cell_type": "markdown",
   "metadata": {},
   "source": [
    "----\n",
    "\n",
    "## ELU"
   ]
  },
  {
   "cell_type": "code",
   "execution_count": 347,
   "metadata": {},
   "outputs": [
    {
     "data": {
      "text/plain": [
       "array([[9.91645587e-01, 7.21258379e-01, 8.75551079e-02],\n",
       "       [2.21766037e-01, 3.02389876e-03, 3.09978134e-01],\n",
       "       [1.79992814e-01, 9.28676271e-01, 8.45949432e-01],\n",
       "       [3.38805255e-04, 4.87446783e-01, 8.94100048e-01],\n",
       "       [1.63766389e-01, 6.04098247e-01, 8.86437386e-02]])"
      ]
     },
     "execution_count": 347,
     "metadata": {},
     "output_type": "execute_result"
    }
   ],
   "source": [
    "x_in"
   ]
  },
  {
   "cell_type": "code",
   "execution_count": 348,
   "metadata": {
    "collapsed": true
   },
   "outputs": [],
   "source": [
    "alpha = 0.5"
   ]
  },
  {
   "cell_type": "code",
   "execution_count": 349,
   "metadata": {
    "collapsed": true
   },
   "outputs": [],
   "source": [
    "elu = np.where(x_in >= 0.5, x_in, alpha*(np.exp(x_in) - 1))"
   ]
  },
  {
   "cell_type": "code",
   "execution_count": 350,
   "metadata": {},
   "outputs": [
    {
     "data": {
      "text/plain": [
       "array([[9.91645587e-01, 7.21258379e-01, 4.57512066e-02],\n",
       "       [1.24139646e-01, 1.51423768e-03, 1.81697651e-01],\n",
       "       [9.86043800e-02, 9.28676271e-01, 8.45949432e-01],\n",
       "       [1.69431328e-04, 3.14076939e-01, 8.94100048e-01],\n",
       "       [8.89695517e-02, 6.04098247e-01, 4.63456516e-02]])"
      ]
     },
     "execution_count": 350,
     "metadata": {},
     "output_type": "execute_result"
    }
   ],
   "source": [
    "elu"
   ]
  },
  {
   "cell_type": "code",
   "execution_count": 351,
   "metadata": {
    "collapsed": true
   },
   "outputs": [],
   "source": [
    "dELUdx = np.eye(3) * np.where(elu >= 0.5, 1.0, elu+alpha)[:,:,None]"
   ]
  },
  {
   "cell_type": "code",
   "execution_count": 352,
   "metadata": {},
   "outputs": [
    {
     "data": {
      "text/plain": [
       "array([[[1.        , 0.        , 0.        ],\n",
       "        [0.        , 1.        , 0.        ],\n",
       "        [0.        , 0.        , 0.54575121]],\n",
       "\n",
       "       [[0.62413965, 0.        , 0.        ],\n",
       "        [0.        , 0.50151424, 0.        ],\n",
       "        [0.        , 0.        , 0.68169765]],\n",
       "\n",
       "       [[0.59860438, 0.        , 0.        ],\n",
       "        [0.        , 1.        , 0.        ],\n",
       "        [0.        , 0.        , 1.        ]],\n",
       "\n",
       "       [[0.50016943, 0.        , 0.        ],\n",
       "        [0.        , 0.81407694, 0.        ],\n",
       "        [0.        , 0.        , 1.        ]],\n",
       "\n",
       "       [[0.58896955, 0.        , 0.        ],\n",
       "        [0.        , 1.        , 0.        ],\n",
       "        [0.        , 0.        , 0.54634565]]])"
      ]
     },
     "execution_count": 352,
     "metadata": {},
     "output_type": "execute_result"
    }
   ],
   "source": [
    "dELUdx"
   ]
  },
  {
   "cell_type": "code",
   "execution_count": 353,
   "metadata": {},
   "outputs": [
    {
     "data": {
      "text/plain": [
       "array([[[6, 3, 4]],\n",
       "\n",
       "       [[3, 2, 2]],\n",
       "\n",
       "       [[7, 5, 4]],\n",
       "\n",
       "       [[3, 4, 2]],\n",
       "\n",
       "       [[2, 5, 3]]])"
      ]
     },
     "execution_count": 353,
     "metadata": {},
     "output_type": "execute_result"
    }
   ],
   "source": [
    "gradOutput"
   ]
  },
  {
   "cell_type": "code",
   "execution_count": 354,
   "metadata": {},
   "outputs": [
    {
     "data": {
      "text/plain": [
       "2.1830048263828736"
      ]
     },
     "execution_count": 354,
     "metadata": {},
     "output_type": "execute_result"
    }
   ],
   "source": [
    "4 * alpha * np.exp(8.75551079e-02)"
   ]
  },
  {
   "cell_type": "code",
   "execution_count": 355,
   "metadata": {
    "scrolled": true
   },
   "outputs": [
    {
     "data": {
      "text/plain": [
       "array([[6.        , 3.        , 2.18300483],\n",
       "       [1.87241894, 1.00302848, 1.3633953 ],\n",
       "       [4.19023066, 5.        , 4.        ],\n",
       "       [1.50050829, 3.25630776, 2.        ],\n",
       "       [1.1779391 , 5.        , 1.63903695]])"
      ]
     },
     "execution_count": 355,
     "metadata": {},
     "output_type": "execute_result"
    }
   ],
   "source": [
    "np.squeeze(np.matmul(gradOutput, dELUdx))"
   ]
  },
  {
   "cell_type": "code",
   "execution_count": 356,
   "metadata": {
    "collapsed": true
   },
   "outputs": [],
   "source": [
    "output = x_in.copy()"
   ]
  },
  {
   "cell_type": "code",
   "execution_count": 357,
   "metadata": {
    "collapsed": true
   },
   "outputs": [],
   "source": [
    "output[output < 0.5] = alpha * (np.exp(output[output < 0.5]) - 1)"
   ]
  },
  {
   "cell_type": "code",
   "execution_count": 358,
   "metadata": {},
   "outputs": [
    {
     "data": {
      "text/plain": [
       "array([[9.91645587e-01, 7.21258379e-01, 8.75551079e-02],\n",
       "       [2.21766037e-01, 3.02389876e-03, 3.09978134e-01],\n",
       "       [1.79992814e-01, 9.28676271e-01, 8.45949432e-01],\n",
       "       [3.38805255e-04, 4.87446783e-01, 8.94100048e-01],\n",
       "       [1.63766389e-01, 6.04098247e-01, 8.86437386e-02]])"
      ]
     },
     "execution_count": 358,
     "metadata": {},
     "output_type": "execute_result"
    }
   ],
   "source": [
    "x_in"
   ]
  },
  {
   "cell_type": "code",
   "execution_count": 359,
   "metadata": {},
   "outputs": [
    {
     "data": {
      "text/plain": [
       "array([[9.91645587e-01, 7.21258379e-01, 4.57512066e-02],\n",
       "       [1.24139646e-01, 1.51423768e-03, 1.81697651e-01],\n",
       "       [9.86043800e-02, 9.28676271e-01, 8.45949432e-01],\n",
       "       [1.69431328e-04, 3.14076939e-01, 8.94100048e-01],\n",
       "       [8.89695517e-02, 6.04098247e-01, 4.63456516e-02]])"
      ]
     },
     "execution_count": 359,
     "metadata": {},
     "output_type": "execute_result"
    }
   ],
   "source": [
    "output"
   ]
  },
  {
   "cell_type": "code",
   "execution_count": 360,
   "metadata": {},
   "outputs": [
    {
     "data": {
      "text/plain": [
       "array([[9.91645587e-01, 7.21258379e-01, 4.57512066e-02],\n",
       "       [1.24139646e-01, 1.51423768e-03, 1.81697651e-01],\n",
       "       [9.86043800e-02, 9.28676271e-01, 8.45949432e-01],\n",
       "       [1.69431328e-04, 3.14076939e-01, 8.94100048e-01],\n",
       "       [8.89695517e-02, 6.04098247e-01, 4.63456516e-02]])"
      ]
     },
     "execution_count": 360,
     "metadata": {},
     "output_type": "execute_result"
    }
   ],
   "source": [
    "elu"
   ]
  },
  {
   "cell_type": "code",
   "execution_count": 361,
   "metadata": {},
   "outputs": [
    {
     "data": {
      "text/plain": [
       "True"
      ]
     },
     "execution_count": 361,
     "metadata": {},
     "output_type": "execute_result"
    }
   ],
   "source": [
    "np.allclose(output, elu)"
   ]
  },
  {
   "cell_type": "code",
   "execution_count": 362,
   "metadata": {
    "collapsed": true
   },
   "outputs": [],
   "source": [
    "gradInput = np.squeeze(gradOutput).astype(float)"
   ]
  },
  {
   "cell_type": "code",
   "execution_count": 363,
   "metadata": {},
   "outputs": [
    {
     "data": {
      "text/plain": [
       "array([[6., 3., 4.],\n",
       "       [3., 2., 2.],\n",
       "       [7., 5., 4.],\n",
       "       [3., 4., 2.],\n",
       "       [2., 5., 3.]])"
      ]
     },
     "execution_count": 363,
     "metadata": {},
     "output_type": "execute_result"
    }
   ],
   "source": [
    "gradInput"
   ]
  },
  {
   "cell_type": "code",
   "execution_count": 364,
   "metadata": {},
   "outputs": [
    {
     "data": {
      "text/plain": [
       "2.1830048263828736"
      ]
     },
     "execution_count": 364,
     "metadata": {},
     "output_type": "execute_result"
    }
   ],
   "source": [
    "4 * (output[0][2] + alpha)"
   ]
  },
  {
   "cell_type": "code",
   "execution_count": 365,
   "metadata": {
    "collapsed": true
   },
   "outputs": [],
   "source": [
    "gradInput[x_in < 0.5] *= (output[x_in < 0.5] + alpha)"
   ]
  },
  {
   "cell_type": "code",
   "execution_count": 366,
   "metadata": {},
   "outputs": [
    {
     "data": {
      "text/plain": [
       "array([[6.        , 3.        , 2.18300483],\n",
       "       [1.87241894, 1.00302848, 1.3633953 ],\n",
       "       [4.19023066, 5.        , 4.        ],\n",
       "       [1.50050829, 3.25630776, 2.        ],\n",
       "       [1.1779391 , 5.        , 1.63903695]])"
      ]
     },
     "execution_count": 366,
     "metadata": {},
     "output_type": "execute_result"
    }
   ],
   "source": [
    "gradInput"
   ]
  },
  {
   "cell_type": "code",
   "execution_count": 367,
   "metadata": {},
   "outputs": [
    {
     "data": {
      "text/plain": [
       "array([[6.        , 3.        , 2.18300483],\n",
       "       [1.87241894, 1.00302848, 1.3633953 ],\n",
       "       [4.19023066, 5.        , 4.        ],\n",
       "       [1.50050829, 3.25630776, 2.        ],\n",
       "       [1.1779391 , 5.        , 1.63903695]])"
      ]
     },
     "execution_count": 367,
     "metadata": {},
     "output_type": "execute_result"
    }
   ],
   "source": [
    "np.squeeze(np.matmul(gradOutput, dELUdx))"
   ]
  },
  {
   "cell_type": "code",
   "execution_count": null,
   "metadata": {
    "collapsed": true
   },
   "outputs": [],
   "source": []
  },
  {
   "cell_type": "markdown",
   "metadata": {},
   "source": [
    "----\n",
    "\n",
    "# Softplus"
   ]
  },
  {
   "cell_type": "code",
   "execution_count": 368,
   "metadata": {},
   "outputs": [
    {
     "data": {
      "text/plain": [
       "array([[9.91645587e-01, 7.21258379e-01, 8.75551079e-02],\n",
       "       [2.21766037e-01, 3.02389876e-03, 3.09978134e-01],\n",
       "       [1.79992814e-01, 9.28676271e-01, 8.45949432e-01],\n",
       "       [3.38805255e-04, 4.87446783e-01, 8.94100048e-01],\n",
       "       [1.63766389e-01, 6.04098247e-01, 8.86437386e-02]])"
      ]
     },
     "execution_count": 368,
     "metadata": {},
     "output_type": "execute_result"
    }
   ],
   "source": [
    "x_in"
   ]
  },
  {
   "cell_type": "code",
   "execution_count": 369,
   "metadata": {
    "collapsed": true
   },
   "outputs": [],
   "source": [
    "s = np.exp(x_in) / (1 + np.exp(x_in))"
   ]
  },
  {
   "cell_type": "code",
   "execution_count": 370,
   "metadata": {},
   "outputs": [
    {
     "data": {
      "text/plain": [
       "array([[0.72941283, 0.67288406, 0.5218748 ],\n",
       "       [0.5552154 , 0.50075597, 0.57687992],\n",
       "       [0.54487711, 0.71680665, 0.69971675],\n",
       "       [0.5000847 , 0.61950478, 0.70973555],\n",
       "       [0.54085034, 0.64659336, 0.52214643]])"
      ]
     },
     "execution_count": 370,
     "metadata": {},
     "output_type": "execute_result"
    }
   ],
   "source": [
    "s"
   ]
  },
  {
   "cell_type": "code",
   "execution_count": 371,
   "metadata": {},
   "outputs": [
    {
     "data": {
      "text/plain": [
       "array([[[0.72941283, 0.        , 0.        ],\n",
       "        [0.        , 0.67288406, 0.        ],\n",
       "        [0.        , 0.        , 0.5218748 ]],\n",
       "\n",
       "       [[0.5552154 , 0.        , 0.        ],\n",
       "        [0.        , 0.50075597, 0.        ],\n",
       "        [0.        , 0.        , 0.57687992]],\n",
       "\n",
       "       [[0.54487711, 0.        , 0.        ],\n",
       "        [0.        , 0.71680665, 0.        ],\n",
       "        [0.        , 0.        , 0.69971675]],\n",
       "\n",
       "       [[0.5000847 , 0.        , 0.        ],\n",
       "        [0.        , 0.61950478, 0.        ],\n",
       "        [0.        , 0.        , 0.70973555]],\n",
       "\n",
       "       [[0.54085034, 0.        , 0.        ],\n",
       "        [0.        , 0.64659336, 0.        ],\n",
       "        [0.        , 0.        , 0.52214643]]])"
      ]
     },
     "execution_count": 371,
     "metadata": {},
     "output_type": "execute_result"
    }
   ],
   "source": [
    "dSoftdx = np.eye(3) * s[:, :, None]\n",
    "dSoftdx"
   ]
  },
  {
   "cell_type": "code",
   "execution_count": 372,
   "metadata": {},
   "outputs": [
    {
     "data": {
      "text/plain": [
       "array([[4.376477  , 2.01865218, 2.08749922],\n",
       "       [1.66564621, 1.00151195, 1.15375985],\n",
       "       [3.81413977, 3.58403326, 2.79886701],\n",
       "       [1.5002541 , 2.4780191 , 1.41947111],\n",
       "       [1.08170068, 3.2329668 , 1.5664393 ]])"
      ]
     },
     "execution_count": 372,
     "metadata": {},
     "output_type": "execute_result"
    }
   ],
   "source": [
    "np.squeeze(np.matmul(gradOutput, dSoftdx))"
   ]
  },
  {
   "cell_type": "code",
   "execution_count": 373,
   "metadata": {},
   "outputs": [
    {
     "data": {
      "text/plain": [
       "array([[[4.376477  , 2.01865218, 2.08749922],\n",
       "        [2.1882385 , 1.34576812, 1.04374961],\n",
       "        [5.10588984, 3.3644203 , 2.08749922],\n",
       "        [2.1882385 , 2.69153624, 1.04374961],\n",
       "        [1.45882567, 3.3644203 , 1.56562441]],\n",
       "\n",
       "       [[3.33129242, 1.50226792, 2.3075197 ],\n",
       "        [1.66564621, 1.00151195, 1.15375985],\n",
       "        [3.88650782, 2.50377987, 2.3075197 ],\n",
       "        [1.66564621, 2.0030239 , 1.15375985],\n",
       "        [1.11043081, 2.50377987, 1.73063977]],\n",
       "\n",
       "       [[3.26926266, 2.15041996, 2.79886701],\n",
       "        [1.63463133, 1.4336133 , 1.39943351],\n",
       "        [3.81413977, 3.58403326, 2.79886701],\n",
       "        [1.63463133, 2.86722661, 1.39943351],\n",
       "        [1.08975422, 3.58403326, 2.09915026]],\n",
       "\n",
       "       [[3.00050821, 1.85851433, 2.83894221],\n",
       "        [1.5002541 , 1.23900955, 1.41947111],\n",
       "        [3.50059291, 3.09752388, 2.83894221],\n",
       "        [1.5002541 , 2.4780191 , 1.41947111],\n",
       "        [1.0001694 , 3.09752388, 2.12920666]],\n",
       "\n",
       "       [[3.24510204, 1.93978008, 2.08858574],\n",
       "        [1.62255102, 1.29318672, 1.04429287],\n",
       "        [3.78595238, 3.2329668 , 2.08858574],\n",
       "        [1.62255102, 2.58637344, 1.04429287],\n",
       "        [1.08170068, 3.2329668 , 1.5664393 ]]])"
      ]
     },
     "execution_count": 373,
     "metadata": {},
     "output_type": "execute_result"
    }
   ],
   "source": [
    "np.matmul(np.squeeze(gradOutput), dSoftdx)"
   ]
  },
  {
   "cell_type": "markdown",
   "metadata": {},
   "source": [
    "---\n",
    "\n",
    "# Dropout"
   ]
  },
  {
   "cell_type": "code",
   "execution_count": 374,
   "metadata": {
    "collapsed": true
   },
   "outputs": [],
   "source": [
    "p = 0.5"
   ]
  },
  {
   "cell_type": "code",
   "execution_count": 375,
   "metadata": {},
   "outputs": [
    {
     "data": {
      "text/plain": [
       "array([[1., 1., 1.],\n",
       "       [1., 1., 1.],\n",
       "       [1., 1., 1.],\n",
       "       [1., 1., 1.],\n",
       "       [1., 1., 1.]])"
      ]
     },
     "execution_count": 375,
     "metadata": {},
     "output_type": "execute_result"
    }
   ],
   "source": [
    "np.ones_like(x_in)"
   ]
  },
  {
   "cell_type": "code",
   "execution_count": 376,
   "metadata": {
    "collapsed": true
   },
   "outputs": [],
   "source": [
    "mask = np.random.binomial(1, 1 - p, x_in.shape)"
   ]
  },
  {
   "cell_type": "code",
   "execution_count": 377,
   "metadata": {},
   "outputs": [
    {
     "data": {
      "text/plain": [
       "array([[0, 1, 0],\n",
       "       [1, 1, 1],\n",
       "       [0, 1, 0],\n",
       "       [0, 0, 1],\n",
       "       [1, 0, 0]])"
      ]
     },
     "execution_count": 377,
     "metadata": {},
     "output_type": "execute_result"
    }
   ],
   "source": [
    "mask"
   ]
  },
  {
   "cell_type": "code",
   "execution_count": 378,
   "metadata": {},
   "outputs": [
    {
     "data": {
      "text/plain": [
       "array([[0.        , 1.44251676, 0.        ],\n",
       "       [0.44353207, 0.0060478 , 0.61995627],\n",
       "       [0.        , 1.85735254, 0.        ],\n",
       "       [0.        , 0.        , 1.7882001 ],\n",
       "       [0.32753278, 0.        , 0.        ]])"
      ]
     },
     "execution_count": 378,
     "metadata": {},
     "output_type": "execute_result"
    }
   ],
   "source": [
    "np.multiply(x_in, mask) / (1 - p)"
   ]
  },
  {
   "cell_type": "code",
   "execution_count": 379,
   "metadata": {
    "collapsed": true
   },
   "outputs": [],
   "source": [
    "out = np.squeeze(gradOutput)"
   ]
  },
  {
   "cell_type": "code",
   "execution_count": 380,
   "metadata": {},
   "outputs": [
    {
     "data": {
      "text/plain": [
       "array([[6, 3, 4],\n",
       "       [3, 2, 2],\n",
       "       [7, 5, 4],\n",
       "       [3, 4, 2],\n",
       "       [2, 5, 3]])"
      ]
     },
     "execution_count": 380,
     "metadata": {},
     "output_type": "execute_result"
    }
   ],
   "source": [
    "out"
   ]
  },
  {
   "cell_type": "code",
   "execution_count": 381,
   "metadata": {},
   "outputs": [
    {
     "data": {
      "text/plain": [
       "array([[ 0.,  6.,  0.],\n",
       "       [ 6.,  4.,  4.],\n",
       "       [ 0., 10.,  0.],\n",
       "       [ 0.,  0.,  4.],\n",
       "       [ 4.,  0.,  0.]])"
      ]
     },
     "execution_count": 381,
     "metadata": {},
     "output_type": "execute_result"
    }
   ],
   "source": [
    "np.multiply(out, mask) / (1-p)"
   ]
  },
  {
   "cell_type": "markdown",
   "metadata": {},
   "source": [
    "---\n",
    "\n",
    "# Batch Normalization"
   ]
  },
  {
   "cell_type": "code",
   "execution_count": 382,
   "metadata": {},
   "outputs": [
    {
     "data": {
      "text/plain": [
       "array([[9.91645587e-01, 7.21258379e-01, 8.75551079e-02],\n",
       "       [2.21766037e-01, 3.02389876e-03, 3.09978134e-01],\n",
       "       [1.79992814e-01, 9.28676271e-01, 8.45949432e-01],\n",
       "       [3.38805255e-04, 4.87446783e-01, 8.94100048e-01],\n",
       "       [1.63766389e-01, 6.04098247e-01, 8.86437386e-02]])"
      ]
     },
     "execution_count": 382,
     "metadata": {},
     "output_type": "execute_result"
    }
   ],
   "source": [
    "x_in"
   ]
  },
  {
   "cell_type": "code",
   "execution_count": 383,
   "metadata": {
    "collapsed": true
   },
   "outputs": [],
   "source": [
    "x_mean = np.mean(x_in, axis=0, keepdims=True)\n",
    "x_sqrt_var = np.sqrt(x_in.var(axis=0, keepdims=True) + 1e-3)"
   ]
  },
  {
   "cell_type": "code",
   "execution_count": 384,
   "metadata": {},
   "outputs": [
    {
     "data": {
      "text/plain": [
       "array([[ 1.94471143,  0.55412651, -0.9994321 ],\n",
       "       [-0.25657875, -1.75498328, -0.37795373],\n",
       "       [-0.37601949,  1.22097098,  1.11961859],\n",
       "       [-0.88969803, -0.19757319,  1.25415757],\n",
       "       [-0.42241515,  0.17745898, -0.99639033]])"
      ]
     },
     "execution_count": 384,
     "metadata": {},
     "output_type": "execute_result"
    }
   ],
   "source": [
    "output = (x_in - x_mean) / x_sqrt_var\n",
    "output"
   ]
  },
  {
   "cell_type": "code",
   "execution_count": 385,
   "metadata": {},
   "outputs": [
    {
     "data": {
      "text/plain": [
       "array([[6, 3, 4],\n",
       "       [3, 2, 2],\n",
       "       [7, 5, 4],\n",
       "       [3, 4, 2],\n",
       "       [2, 5, 3]])"
      ]
     },
     "execution_count": 385,
     "metadata": {},
     "output_type": "execute_result"
    }
   ],
   "source": [
    "gout = out.copy()\n",
    "gout"
   ]
  },
  {
   "cell_type": "code",
   "execution_count": 386,
   "metadata": {},
   "outputs": [
    {
     "data": {
      "text/plain": [
       "5"
      ]
     },
     "execution_count": 386,
     "metadata": {},
     "output_type": "execute_result"
    }
   ],
   "source": [
    "x_in.shape[0]"
   ]
  },
  {
   "cell_type": "code",
   "execution_count": 387,
   "metadata": {
    "collapsed": true
   },
   "outputs": [],
   "source": [
    "a = x_in.shape[0] * gout"
   ]
  },
  {
   "cell_type": "code",
   "execution_count": 388,
   "metadata": {},
   "outputs": [
    {
     "data": {
      "text/plain": [
       "array([[30, 15, 20],\n",
       "       [15, 10, 10],\n",
       "       [35, 25, 20],\n",
       "       [15, 20, 10],\n",
       "       [10, 25, 15]])"
      ]
     },
     "execution_count": 388,
     "metadata": {},
     "output_type": "execute_result"
    }
   ],
   "source": [
    "a"
   ]
  },
  {
   "cell_type": "code",
   "execution_count": 389,
   "metadata": {},
   "outputs": [
    {
     "data": {
      "text/plain": [
       "array([[21, 19, 15]])"
      ]
     },
     "execution_count": 389,
     "metadata": {},
     "output_type": "execute_result"
    }
   ],
   "source": [
    "np.sum(gout, axis=0, keepdims=True)"
   ]
  },
  {
   "cell_type": "code",
   "execution_count": 390,
   "metadata": {},
   "outputs": [
    {
     "data": {
      "text/plain": [
       "array([[  9,  -4,   5],\n",
       "       [ -6,  -9,  -5],\n",
       "       [ 14,   6,   5],\n",
       "       [ -6,   1,  -5],\n",
       "       [-11,   6,   0]])"
      ]
     },
     "execution_count": 390,
     "metadata": {},
     "output_type": "execute_result"
    }
   ],
   "source": [
    "b = a - np.sum(gout, axis=0, keepdims=True)\n",
    "b"
   ]
  },
  {
   "cell_type": "code",
   "execution_count": 391,
   "metadata": {},
   "outputs": [
    {
     "data": {
      "text/plain": [
       "array([[-0.24218556, -6.41281646,  4.24441199],\n",
       "       [-4.78061682, -1.35832891, -5.28573958],\n",
       "       [15.78702191,  0.68356268,  5.84645108],\n",
       "       [-1.77173548,  1.86028702, -4.05183512],\n",
       "       [-8.99248404,  5.22729567, -0.75328837]])"
      ]
     },
     "execution_count": 391,
     "metadata": {},
     "output_type": "execute_result"
    }
   ],
   "source": [
    "c = b - output * np.sum(gout * output, axis=0, keepdims=True)\n",
    "c"
   ]
  },
  {
   "cell_type": "code",
   "execution_count": 392,
   "metadata": {},
   "outputs": [
    {
     "data": {
      "text/plain": [
       "array([[-0.13849457, -4.12341589,  2.37188595],\n",
       "       [-2.73381072, -0.87340018, -2.95380642],\n",
       "       [ 9.02785799,  0.43952813,  3.26714635],\n",
       "       [-1.01317249,  1.19615727, -2.26426906],\n",
       "       [-5.1423802 ,  3.36113066, -0.4209568 ]])"
      ]
     },
     "execution_count": 392,
     "metadata": {},
     "output_type": "execute_result"
    }
   ],
   "source": [
    "1/(x_in.shape[0] * np.sqrt(x_in.var(axis=0, keepdims=True) + 1e-3)) * c"
   ]
  },
  {
   "cell_type": "markdown",
   "metadata": {
    "collapsed": true
   },
   "source": [
    "----\n",
    "\n",
    "My:"
   ]
  },
  {
   "cell_type": "code",
   "execution_count": 393,
   "metadata": {
    "collapsed": true
   },
   "outputs": [],
   "source": [
    "a = 1/x_sqrt_var"
   ]
  },
  {
   "cell_type": "code",
   "execution_count": 394,
   "metadata": {
    "collapsed": true
   },
   "outputs": [],
   "source": [
    "second = np.mean(gout, axis=0, keepdims=True)"
   ]
  },
  {
   "cell_type": "code",
   "execution_count": 395,
   "metadata": {
    "collapsed": true
   },
   "outputs": [],
   "source": [
    "third = np.mean(gout * output, axis=0, keepdims=True) * output"
   ]
  },
  {
   "cell_type": "code",
   "execution_count": 396,
   "metadata": {},
   "outputs": [
    {
     "data": {
      "text/plain": [
       "array([[-0.13849457, -4.12341589,  2.37188595],\n",
       "       [-2.73381072, -0.87340018, -2.95380642],\n",
       "       [ 9.02785799,  0.43952813,  3.26714635],\n",
       "       [-1.01317249,  1.19615727, -2.26426906],\n",
       "       [-5.1423802 ,  3.36113066, -0.4209568 ]])"
      ]
     },
     "execution_count": 396,
     "metadata": {},
     "output_type": "execute_result"
    }
   ],
   "source": [
    "a * (gout - second - third)"
   ]
  },
  {
   "cell_type": "markdown",
   "metadata": {},
   "source": [
    "---\n",
    "\n",
    "module style:"
   ]
  },
  {
   "cell_type": "code",
   "execution_count": 397,
   "metadata": {
    "collapsed": true
   },
   "outputs": [],
   "source": [
    "gradInput = gout.copy().astype(float)"
   ]
  },
  {
   "cell_type": "code",
   "execution_count": 398,
   "metadata": {
    "collapsed": true
   },
   "outputs": [],
   "source": [
    "gradInput -= np.mean(gout.astype(float), axis=0, keepdims=True)"
   ]
  },
  {
   "cell_type": "code",
   "execution_count": 399,
   "metadata": {
    "collapsed": true
   },
   "outputs": [],
   "source": [
    "gradInput -= np.mean(gout * output, axis=0, keepdims=True) * output"
   ]
  },
  {
   "cell_type": "code",
   "execution_count": 400,
   "metadata": {
    "collapsed": true
   },
   "outputs": [],
   "source": [
    "gradInput *= 1/x_sqrt_var"
   ]
  },
  {
   "cell_type": "code",
   "execution_count": 401,
   "metadata": {},
   "outputs": [
    {
     "data": {
      "text/plain": [
       "array([[-0.13849457, -4.12341589,  2.37188595],\n",
       "       [-2.73381072, -0.87340018, -2.95380642],\n",
       "       [ 9.02785799,  0.43952813,  3.26714635],\n",
       "       [-1.01317249,  1.19615727, -2.26426906],\n",
       "       [-5.1423802 ,  3.36113066, -0.4209568 ]])"
      ]
     },
     "execution_count": 401,
     "metadata": {},
     "output_type": "execute_result"
    }
   ],
   "source": [
    "gradInput"
   ]
  },
  {
   "cell_type": "markdown",
   "metadata": {
    "collapsed": true
   },
   "source": [
    "----\n",
    "\n",
    "# Training MNIST"
   ]
  },
  {
   "cell_type": "code",
   "execution_count": 402,
   "metadata": {
    "collapsed": true
   },
   "outputs": [],
   "source": [
    "def one_hot_encode(input, classes=10):\n",
    "    one_hot_targets = np.eye(classes)[input]\n",
    "    return one_hot_targets"
   ]
  },
  {
   "cell_type": "code",
   "execution_count": 414,
   "metadata": {},
   "outputs": [
    {
     "data": {
      "text/plain": [
       "array([[[0., 0., 0., 1., 0., 0., 0., 0., 0., 0.],\n",
       "        [0., 0., 0., 0., 0., 1., 0., 0., 0., 0.],\n",
       "        [0., 0., 1., 0., 0., 0., 0., 0., 0., 0.],\n",
       "        [0., 0., 0., 1., 0., 0., 0., 0., 0., 0.],\n",
       "        [0., 0., 0., 1., 0., 0., 0., 0., 0., 0.]]])"
      ]
     },
     "execution_count": 414,
     "metadata": {},
     "output_type": "execute_result"
    }
   ],
   "source": [
    "np.eye(10)[np.random.binomial(10, 0.3, 5).reshape(1, -1)]"
   ]
  },
  {
   "cell_type": "code",
   "execution_count": 412,
   "metadata": {},
   "outputs": [
    {
     "data": {
      "text/plain": [
       "array([[3, 2, 0, 3, 5]])"
      ]
     },
     "execution_count": 412,
     "metadata": {},
     "output_type": "execute_result"
    }
   ],
   "source": [
    "np.random.binomial(10, 0.3, 5).reshape(1, -1)"
   ]
  },
  {
   "cell_type": "code",
   "execution_count": null,
   "metadata": {
    "collapsed": true
   },
   "outputs": [],
   "source": []
  }
 ],
 "metadata": {
  "kernelspec": {
   "display_name": "Python 3",
   "language": "python",
   "name": "python3"
  },
  "language_info": {
   "codemirror_mode": {
    "name": "ipython",
    "version": 3
   },
   "file_extension": ".py",
   "mimetype": "text/x-python",
   "name": "python",
   "nbconvert_exporter": "python",
   "pygments_lexer": "ipython3",
   "version": "3.6.4"
  }
 },
 "nbformat": 4,
 "nbformat_minor": 2
}
