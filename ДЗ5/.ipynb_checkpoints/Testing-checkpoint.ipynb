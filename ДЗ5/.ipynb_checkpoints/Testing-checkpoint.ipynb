{
 "cells": [
  {
   "cell_type": "code",
   "execution_count": 73,
   "metadata": {
    "collapsed": true
   },
   "outputs": [],
   "source": [
    "import numpy as np"
   ]
  },
  {
   "cell_type": "code",
   "execution_count": 74,
   "metadata": {},
   "outputs": [
    {
     "data": {
      "text/plain": [
       "(5, 10)"
      ]
     },
     "execution_count": 74,
     "metadata": {},
     "output_type": "execute_result"
    }
   ],
   "source": [
    "np.random.randn(5, 10).shape"
   ]
  },
  {
   "cell_type": "code",
   "execution_count": 75,
   "metadata": {
    "collapsed": true
   },
   "outputs": [],
   "source": [
    "stdv = 0.05"
   ]
  },
  {
   "cell_type": "code",
   "execution_count": 76,
   "metadata": {},
   "outputs": [
    {
     "data": {
      "text/plain": [
       "array([-0.02927964, -0.04697552,  0.02520299, -0.02335716])"
      ]
     },
     "execution_count": 76,
     "metadata": {},
     "output_type": "execute_result"
    }
   ],
   "source": [
    "np.random.uniform(-stdv, stdv, size = 4)"
   ]
  },
  {
   "cell_type": "code",
   "execution_count": 77,
   "metadata": {},
   "outputs": [
    {
     "data": {
      "text/plain": [
       "array([[ 0.00353344, -0.00134905, -0.01112093,  0.03790624]])"
      ]
     },
     "execution_count": 77,
     "metadata": {},
     "output_type": "execute_result"
    }
   ],
   "source": [
    "b = np.random.uniform(-stdv, stdv, size = (1,4))\n",
    "b"
   ]
  },
  {
   "cell_type": "code",
   "execution_count": 78,
   "metadata": {
    "collapsed": true
   },
   "outputs": [],
   "source": [
    "n_in = 3\n",
    "n_out = 4"
   ]
  },
  {
   "cell_type": "code",
   "execution_count": 79,
   "metadata": {
    "collapsed": true
   },
   "outputs": [],
   "source": [
    "W = np.random.random((n_in, n_out))"
   ]
  },
  {
   "cell_type": "code",
   "execution_count": 80,
   "metadata": {},
   "outputs": [
    {
     "data": {
      "text/plain": [
       "array([[0.61335512, 0.07328129, 0.53278732, 0.33642396],\n",
       "       [0.33459318, 0.96188181, 0.28729691, 0.26787228],\n",
       "       [0.17794759, 0.65631294, 0.65899849, 0.12037128]])"
      ]
     },
     "execution_count": 80,
     "metadata": {},
     "output_type": "execute_result"
    }
   ],
   "source": [
    "W"
   ]
  },
  {
   "cell_type": "code",
   "execution_count": 81,
   "metadata": {
    "collapsed": true
   },
   "outputs": [],
   "source": [
    "gradOutput = np.random.random((1, n_out))"
   ]
  },
  {
   "cell_type": "code",
   "execution_count": 82,
   "metadata": {},
   "outputs": [
    {
     "data": {
      "text/plain": [
       "array([[0.45422433, 0.42666678, 0.3574039 ]])"
      ]
     },
     "execution_count": 82,
     "metadata": {},
     "output_type": "execute_result"
    }
   ],
   "source": [
    "gradOutput.dot(W.T)"
   ]
  },
  {
   "cell_type": "code",
   "execution_count": 83,
   "metadata": {},
   "outputs": [
    {
     "data": {
      "text/plain": [
       "array([[0.41805576, 0.4542144 , 0.45851269],\n",
       "       [0.36875181, 0.3224349 , 0.32269107]])"
      ]
     },
     "execution_count": 83,
     "metadata": {},
     "output_type": "execute_result"
    }
   ],
   "source": [
    "x_in = np.random.random((2, n_in))\n",
    "x_in"
   ]
  },
  {
   "cell_type": "code",
   "execution_count": 84,
   "metadata": {},
   "outputs": [
    {
     "data": {
      "text/plain": [
       "array([[[0.41805576, 0.4542144 , 0.45851269]],\n",
       "\n",
       "       [[0.36875181, 0.3224349 , 0.32269107]]])"
      ]
     },
     "execution_count": 84,
     "metadata": {},
     "output_type": "execute_result"
    }
   ],
   "source": [
    "x_in[:, None, :]"
   ]
  },
  {
   "cell_type": "code",
   "execution_count": 85,
   "metadata": {},
   "outputs": [
    {
     "data": {
      "text/plain": [
       "array([[0.31493587, 0.16017137, 0.22852436, 0.37917739]])"
      ]
     },
     "execution_count": 85,
     "metadata": {},
     "output_type": "execute_result"
    }
   ],
   "source": [
    "gradOutput"
   ]
  },
  {
   "cell_type": "code",
   "execution_count": 86,
   "metadata": {},
   "outputs": [
    {
     "data": {
      "text/plain": [
       "array([[[0.31493587],\n",
       "        [0.16017137],\n",
       "        [0.22852436],\n",
       "        [0.37917739]]])"
      ]
     },
     "execution_count": 86,
     "metadata": {},
     "output_type": "execute_result"
    }
   ],
   "source": [
    "gradOutput[:,:, None]"
   ]
  },
  {
   "cell_type": "code",
   "execution_count": 87,
   "metadata": {},
   "outputs": [
    {
     "data": {
      "text/plain": [
       "array([[[0.13166075, 0.14304841, 0.14440209],\n",
       "        [0.06696056, 0.07275214, 0.07344061],\n",
       "        [0.09553593, 0.10379906, 0.10478132],\n",
       "        [0.15851729, 0.17222783, 0.17385764]],\n",
       "\n",
       "       [[0.11613317, 0.10154632, 0.10162699],\n",
       "        [0.05906348, 0.05164484, 0.05168587],\n",
       "        [0.08426877, 0.07368423, 0.07374277],\n",
       "        [0.13982235, 0.12226002, 0.12235716]]])"
      ]
     },
     "execution_count": 87,
     "metadata": {},
     "output_type": "execute_result"
    }
   ],
   "source": [
    "x_in[:, None, :] * gradOutput[:,:, None]"
   ]
  },
  {
   "cell_type": "code",
   "execution_count": 88,
   "metadata": {
    "collapsed": true
   },
   "outputs": [],
   "source": [
    "n_batch = 5"
   ]
  },
  {
   "cell_type": "code",
   "execution_count": 89,
   "metadata": {},
   "outputs": [
    {
     "data": {
      "text/plain": [
       "array([[[2, 0, 8]],\n",
       "\n",
       "       [[5, 4, 9]],\n",
       "\n",
       "       [[7, 2, 9]],\n",
       "\n",
       "       [[5, 4, 7]],\n",
       "\n",
       "       [[1, 5, 2]]])"
      ]
     },
     "execution_count": 89,
     "metadata": {},
     "output_type": "execute_result"
    }
   ],
   "source": [
    "x_in = np.random.randint(0, 10, size=(n_batch, n_in))\n",
    "x_in[:, None, :]"
   ]
  },
  {
   "cell_type": "code",
   "execution_count": 90,
   "metadata": {},
   "outputs": [
    {
     "data": {
      "text/plain": [
       "array([[2, 0, 8],\n",
       "       [5, 4, 9],\n",
       "       [7, 2, 9],\n",
       "       [5, 4, 7],\n",
       "       [1, 5, 2]])"
      ]
     },
     "execution_count": 90,
     "metadata": {},
     "output_type": "execute_result"
    }
   ],
   "source": [
    "x_in"
   ]
  },
  {
   "cell_type": "code",
   "execution_count": 91,
   "metadata": {
    "scrolled": false
   },
   "outputs": [
    {
     "data": {
      "text/plain": [
       "array([[[0],\n",
       "        [7],\n",
       "        [5],\n",
       "        [9]],\n",
       "\n",
       "       [[6],\n",
       "        [9],\n",
       "        [5],\n",
       "        [1]],\n",
       "\n",
       "       [[6],\n",
       "        [8],\n",
       "        [8],\n",
       "        [4]],\n",
       "\n",
       "       [[0],\n",
       "        [3],\n",
       "        [3],\n",
       "        [9]],\n",
       "\n",
       "       [[6],\n",
       "        [5],\n",
       "        [5],\n",
       "        [5]]])"
      ]
     },
     "execution_count": 91,
     "metadata": {},
     "output_type": "execute_result"
    }
   ],
   "source": [
    "dx_out = np.random.randint(0, 10, size=(n_batch, n_out))\n",
    "dx_out[:, :, None]"
   ]
  },
  {
   "cell_type": "code",
   "execution_count": 92,
   "metadata": {},
   "outputs": [
    {
     "data": {
      "text/plain": [
       "array([[0, 7, 5, 9],\n",
       "       [6, 9, 5, 1],\n",
       "       [6, 8, 8, 4],\n",
       "       [0, 3, 3, 9],\n",
       "       [6, 5, 5, 5]])"
      ]
     },
     "execution_count": 92,
     "metadata": {},
     "output_type": "execute_result"
    }
   ],
   "source": [
    "dx_out"
   ]
  },
  {
   "cell_type": "markdown",
   "metadata": {},
   "source": [
    "for `n_batch` $> 1$, `np.outer` doesn't work as expected"
   ]
  },
  {
   "cell_type": "code",
   "execution_count": 93,
   "metadata": {},
   "outputs": [
    {
     "data": {
      "text/plain": [
       "array([[ 0,  0,  0,  0,  0,  0,  0,  0,  0,  0,  0,  0,  0,  0,  0],\n",
       "       [14,  0, 56, 35, 28, 63, 49, 14, 63, 35, 28, 49,  7, 35, 14],\n",
       "       [10,  0, 40, 25, 20, 45, 35, 10, 45, 25, 20, 35,  5, 25, 10],\n",
       "       [18,  0, 72, 45, 36, 81, 63, 18, 81, 45, 36, 63,  9, 45, 18],\n",
       "       [12,  0, 48, 30, 24, 54, 42, 12, 54, 30, 24, 42,  6, 30, 12],\n",
       "       [18,  0, 72, 45, 36, 81, 63, 18, 81, 45, 36, 63,  9, 45, 18],\n",
       "       [10,  0, 40, 25, 20, 45, 35, 10, 45, 25, 20, 35,  5, 25, 10],\n",
       "       [ 2,  0,  8,  5,  4,  9,  7,  2,  9,  5,  4,  7,  1,  5,  2],\n",
       "       [12,  0, 48, 30, 24, 54, 42, 12, 54, 30, 24, 42,  6, 30, 12],\n",
       "       [16,  0, 64, 40, 32, 72, 56, 16, 72, 40, 32, 56,  8, 40, 16],\n",
       "       [16,  0, 64, 40, 32, 72, 56, 16, 72, 40, 32, 56,  8, 40, 16],\n",
       "       [ 8,  0, 32, 20, 16, 36, 28,  8, 36, 20, 16, 28,  4, 20,  8],\n",
       "       [ 0,  0,  0,  0,  0,  0,  0,  0,  0,  0,  0,  0,  0,  0,  0],\n",
       "       [ 6,  0, 24, 15, 12, 27, 21,  6, 27, 15, 12, 21,  3, 15,  6],\n",
       "       [ 6,  0, 24, 15, 12, 27, 21,  6, 27, 15, 12, 21,  3, 15,  6],\n",
       "       [18,  0, 72, 45, 36, 81, 63, 18, 81, 45, 36, 63,  9, 45, 18],\n",
       "       [12,  0, 48, 30, 24, 54, 42, 12, 54, 30, 24, 42,  6, 30, 12],\n",
       "       [10,  0, 40, 25, 20, 45, 35, 10, 45, 25, 20, 35,  5, 25, 10],\n",
       "       [10,  0, 40, 25, 20, 45, 35, 10, 45, 25, 20, 35,  5, 25, 10],\n",
       "       [10,  0, 40, 25, 20, 45, 35, 10, 45, 25, 20, 35,  5, 25, 10]])"
      ]
     },
     "execution_count": 93,
     "metadata": {},
     "output_type": "execute_result"
    }
   ],
   "source": [
    "np.outer(x_in, dx_out).T"
   ]
  },
  {
   "cell_type": "code",
   "execution_count": 94,
   "metadata": {},
   "outputs": [
    {
     "data": {
      "text/plain": [
       "array([[[ 0,  0,  0],\n",
       "        [14,  0, 56],\n",
       "        [10,  0, 40],\n",
       "        [18,  0, 72]],\n",
       "\n",
       "       [[30, 24, 54],\n",
       "        [45, 36, 81],\n",
       "        [25, 20, 45],\n",
       "        [ 5,  4,  9]],\n",
       "\n",
       "       [[42, 12, 54],\n",
       "        [56, 16, 72],\n",
       "        [56, 16, 72],\n",
       "        [28,  8, 36]],\n",
       "\n",
       "       [[ 0,  0,  0],\n",
       "        [15, 12, 21],\n",
       "        [15, 12, 21],\n",
       "        [45, 36, 63]],\n",
       "\n",
       "       [[ 6, 30, 12],\n",
       "        [ 5, 25, 10],\n",
       "        [ 5, 25, 10],\n",
       "        [ 5, 25, 10]]])"
      ]
     },
     "execution_count": 94,
     "metadata": {},
     "output_type": "execute_result"
    }
   ],
   "source": [
    "dx_out[:, :, None] * x_in[:, None, :]"
   ]
  },
  {
   "cell_type": "code",
   "execution_count": 95,
   "metadata": {},
   "outputs": [
    {
     "data": {
      "text/plain": [
       "array([[[ 0,  0,  0],\n",
       "        [14,  0, 56],\n",
       "        [10,  0, 40],\n",
       "        [18,  0, 72]],\n",
       "\n",
       "       [[30, 24, 54],\n",
       "        [45, 36, 81],\n",
       "        [25, 20, 45],\n",
       "        [ 5,  4,  9]],\n",
       "\n",
       "       [[42, 12, 54],\n",
       "        [56, 16, 72],\n",
       "        [56, 16, 72],\n",
       "        [28,  8, 36]],\n",
       "\n",
       "       [[ 0,  0,  0],\n",
       "        [15, 12, 21],\n",
       "        [15, 12, 21],\n",
       "        [45, 36, 63]],\n",
       "\n",
       "       [[ 6, 30, 12],\n",
       "        [ 5, 25, 10],\n",
       "        [ 5, 25, 10],\n",
       "        [ 5, 25, 10]]])"
      ]
     },
     "execution_count": 95,
     "metadata": {},
     "output_type": "execute_result"
    }
   ],
   "source": [
    "result = x_in[:, None, :] * dx_out[:, :, None]\n",
    "result"
   ]
  },
  {
   "cell_type": "code",
   "execution_count": 96,
   "metadata": {},
   "outputs": [
    {
     "data": {
      "text/plain": [
       "array([[ 78,  66, 120],\n",
       "       [135,  89, 240],\n",
       "       [111,  73, 188],\n",
       "       [101,  73, 190]])"
      ]
     },
     "execution_count": 96,
     "metadata": {},
     "output_type": "execute_result"
    }
   ],
   "source": [
    "np.sum(result, axis=0)"
   ]
  },
  {
   "cell_type": "code",
   "execution_count": 97,
   "metadata": {},
   "outputs": [
    {
     "data": {
      "text/plain": [
       "array([[0, 7, 5, 9],\n",
       "       [6, 9, 5, 1],\n",
       "       [6, 8, 8, 4],\n",
       "       [0, 3, 3, 9],\n",
       "       [6, 5, 5, 5]])"
      ]
     },
     "execution_count": 97,
     "metadata": {},
     "output_type": "execute_result"
    }
   ],
   "source": [
    "dx_out"
   ]
  },
  {
   "cell_type": "code",
   "execution_count": 98,
   "metadata": {},
   "outputs": [
    {
     "data": {
      "text/plain": [
       "array([18, 32, 26, 28])"
      ]
     },
     "execution_count": 98,
     "metadata": {},
     "output_type": "execute_result"
    }
   ],
   "source": [
    "np.sum(dx_out, axis=0)"
   ]
  },
  {
   "cell_type": "code",
   "execution_count": 99,
   "metadata": {
    "collapsed": true
   },
   "outputs": [],
   "source": [
    "s = x_in[:, None, :]"
   ]
  },
  {
   "cell_type": "code",
   "execution_count": 100,
   "metadata": {},
   "outputs": [
    {
     "data": {
      "text/plain": [
       "array([[[2, 0, 8]],\n",
       "\n",
       "       [[5, 4, 9]],\n",
       "\n",
       "       [[7, 2, 9]],\n",
       "\n",
       "       [[5, 4, 7]],\n",
       "\n",
       "       [[1, 5, 2]]])"
      ]
     },
     "execution_count": 100,
     "metadata": {},
     "output_type": "execute_result"
    }
   ],
   "source": [
    "s"
   ]
  },
  {
   "cell_type": "code",
   "execution_count": 101,
   "metadata": {},
   "outputs": [
    {
     "data": {
      "text/plain": [
       "(5, 1, 3)"
      ]
     },
     "execution_count": 101,
     "metadata": {},
     "output_type": "execute_result"
    }
   ],
   "source": [
    "s.shape"
   ]
  },
  {
   "cell_type": "code",
   "execution_count": 102,
   "metadata": {},
   "outputs": [
    {
     "data": {
      "text/plain": [
       "array([[2, 0, 8],\n",
       "       [5, 4, 9],\n",
       "       [7, 2, 9],\n",
       "       [5, 4, 7],\n",
       "       [1, 5, 2]])"
      ]
     },
     "execution_count": 102,
     "metadata": {},
     "output_type": "execute_result"
    }
   ],
   "source": [
    "x_in"
   ]
  },
  {
   "cell_type": "code",
   "execution_count": 103,
   "metadata": {},
   "outputs": [
    {
     "data": {
      "text/plain": [
       "(5, 3)"
      ]
     },
     "execution_count": 103,
     "metadata": {},
     "output_type": "execute_result"
    }
   ],
   "source": [
    "x_in.shape"
   ]
  },
  {
   "cell_type": "code",
   "execution_count": 104,
   "metadata": {},
   "outputs": [
    {
     "data": {
      "text/plain": [
       "3"
      ]
     },
     "execution_count": 104,
     "metadata": {},
     "output_type": "execute_result"
    }
   ],
   "source": [
    "s.ndim"
   ]
  },
  {
   "cell_type": "markdown",
   "metadata": {},
   "source": [
    "### ========="
   ]
  },
  {
   "cell_type": "code",
   "execution_count": 105,
   "metadata": {},
   "outputs": [
    {
     "data": {
      "text/plain": [
       "array([[[0],\n",
       "        [7],\n",
       "        [5],\n",
       "        [9]],\n",
       "\n",
       "       [[6],\n",
       "        [9],\n",
       "        [5],\n",
       "        [1]],\n",
       "\n",
       "       [[6],\n",
       "        [8],\n",
       "        [8],\n",
       "        [4]],\n",
       "\n",
       "       [[0],\n",
       "        [3],\n",
       "        [3],\n",
       "        [9]],\n",
       "\n",
       "       [[6],\n",
       "        [5],\n",
       "        [5],\n",
       "        [5]]])"
      ]
     },
     "execution_count": 105,
     "metadata": {},
     "output_type": "execute_result"
    }
   ],
   "source": [
    "d = dx_out[:, :, None]\n",
    "d"
   ]
  },
  {
   "cell_type": "code",
   "execution_count": 106,
   "metadata": {},
   "outputs": [
    {
     "data": {
      "text/plain": [
       "(5, 4, 1)"
      ]
     },
     "execution_count": 106,
     "metadata": {},
     "output_type": "execute_result"
    }
   ],
   "source": [
    "d.shape"
   ]
  },
  {
   "cell_type": "code",
   "execution_count": 107,
   "metadata": {},
   "outputs": [
    {
     "data": {
      "text/plain": [
       "array([[0, 7, 5, 9],\n",
       "       [6, 9, 5, 1],\n",
       "       [6, 8, 8, 4],\n",
       "       [0, 3, 3, 9],\n",
       "       [6, 5, 5, 5]])"
      ]
     },
     "execution_count": 107,
     "metadata": {},
     "output_type": "execute_result"
    }
   ],
   "source": [
    "dx_out"
   ]
  },
  {
   "cell_type": "code",
   "execution_count": 108,
   "metadata": {},
   "outputs": [
    {
     "data": {
      "text/plain": [
       "(5, 4)"
      ]
     },
     "execution_count": 108,
     "metadata": {},
     "output_type": "execute_result"
    }
   ],
   "source": [
    "dx_out.shape"
   ]
  },
  {
   "cell_type": "code",
   "execution_count": 109,
   "metadata": {},
   "outputs": [
    {
     "data": {
      "text/plain": [
       "array([[3],\n",
       "       [4],\n",
       "       [5],\n",
       "       [6],\n",
       "       [7],\n",
       "       [8],\n",
       "       [9]])"
      ]
     },
     "execution_count": 109,
     "metadata": {},
     "output_type": "execute_result"
    }
   ],
   "source": [
    "np.arange(3, 10)[:, None]"
   ]
  },
  {
   "cell_type": "markdown",
   "metadata": {},
   "source": [
    "A way to understand numpy array:\n",
    "\n",
    "When dealing with $0$, $1$ or $2$ dimensional array, some of us try to give an interpretation through scalars, vectors and matrices. This is fine, since the definitions coincide but how od we picture and array of $(n, m, p)$ dimensions? \n",
    "\n",
    "- If `s` is a `(n, m)`-matrix and `d` is a `(n, q)`-matrix, then what does `s[:, None, :]` or `d[:,:, None]` mean? \n",
    "- Why does `s[:, None, :] * d[:,:, None]` work and what does it give?\n",
    "\n",
    "One way of understanding this is, instead of looking at a $n$-dimensional array as an _array of elements_ we can look at it as an _array of arrays_.\n",
    "\n",
    "- shape `(5, 4)`:\n",
    "    - There are `5` rows. Each of those rows is an array of shape `(4,)`. That is and array of `4` elements.\n",
    "    \n",
    "    \n",
    "- shape `(5, 1, 3)`:\n",
    "    - There are `5` rows. Let's look at one of them. That row consists of a `(1, 3)` array. That is, in this row there is just `1` array of 3 elements.\n",
    "    \n",
    "    \n",
    "- shape `(5, 4, 1)`: \n",
    "    - There are `5` rows. Let's look at one of them. That row consists of a `(4, 1)` array. That is, in this row there are `4` different arrays, each containing 1 element."
   ]
  },
  {
   "cell_type": "code",
   "execution_count": 110,
   "metadata": {},
   "outputs": [
    {
     "data": {
      "text/plain": [
       "array([[[2, 0, 8]],\n",
       "\n",
       "       [[5, 4, 9]],\n",
       "\n",
       "       [[7, 2, 9]],\n",
       "\n",
       "       [[5, 4, 7]],\n",
       "\n",
       "       [[1, 5, 2]]])"
      ]
     },
     "execution_count": 110,
     "metadata": {},
     "output_type": "execute_result"
    }
   ],
   "source": [
    "x_in[:, None, :]"
   ]
  },
  {
   "cell_type": "code",
   "execution_count": 111,
   "metadata": {},
   "outputs": [
    {
     "data": {
      "text/plain": [
       "array([[[0],\n",
       "        [7],\n",
       "        [5],\n",
       "        [9]],\n",
       "\n",
       "       [[6],\n",
       "        [9],\n",
       "        [5],\n",
       "        [1]],\n",
       "\n",
       "       [[6],\n",
       "        [8],\n",
       "        [8],\n",
       "        [4]],\n",
       "\n",
       "       [[0],\n",
       "        [3],\n",
       "        [3],\n",
       "        [9]],\n",
       "\n",
       "       [[6],\n",
       "        [5],\n",
       "        [5],\n",
       "        [5]]])"
      ]
     },
     "execution_count": 111,
     "metadata": {},
     "output_type": "execute_result"
    }
   ],
   "source": [
    "dx_out[:, :, None]"
   ]
  },
  {
   "cell_type": "code",
   "execution_count": 112,
   "metadata": {},
   "outputs": [
    {
     "data": {
      "text/plain": [
       "array([[[ 0,  0,  0],\n",
       "        [14,  0, 56],\n",
       "        [10,  0, 40],\n",
       "        [18,  0, 72]],\n",
       "\n",
       "       [[30, 24, 54],\n",
       "        [45, 36, 81],\n",
       "        [25, 20, 45],\n",
       "        [ 5,  4,  9]],\n",
       "\n",
       "       [[42, 12, 54],\n",
       "        [56, 16, 72],\n",
       "        [56, 16, 72],\n",
       "        [28,  8, 36]],\n",
       "\n",
       "       [[ 0,  0,  0],\n",
       "        [15, 12, 21],\n",
       "        [15, 12, 21],\n",
       "        [45, 36, 63]],\n",
       "\n",
       "       [[ 6, 30, 12],\n",
       "        [ 5, 25, 10],\n",
       "        [ 5, 25, 10],\n",
       "        [ 5, 25, 10]]])"
      ]
     },
     "execution_count": 112,
     "metadata": {},
     "output_type": "execute_result"
    }
   ],
   "source": [
    "dx_out[:, :, None] * x_in[:, None, :]"
   ]
  },
  {
   "cell_type": "code",
   "execution_count": 113,
   "metadata": {},
   "outputs": [
    {
     "data": {
      "text/plain": [
       "array([[[ 0,  0,  0],\n",
       "        [14,  0, 56],\n",
       "        [10,  0, 40],\n",
       "        [18,  0, 72]],\n",
       "\n",
       "       [[30, 24, 54],\n",
       "        [45, 36, 81],\n",
       "        [25, 20, 45],\n",
       "        [ 5,  4,  9]],\n",
       "\n",
       "       [[42, 12, 54],\n",
       "        [56, 16, 72],\n",
       "        [56, 16, 72],\n",
       "        [28,  8, 36]],\n",
       "\n",
       "       [[ 0,  0,  0],\n",
       "        [15, 12, 21],\n",
       "        [15, 12, 21],\n",
       "        [45, 36, 63]],\n",
       "\n",
       "       [[ 6, 30, 12],\n",
       "        [ 5, 25, 10],\n",
       "        [ 5, 25, 10],\n",
       "        [ 5, 25, 10]]])"
      ]
     },
     "execution_count": 113,
     "metadata": {},
     "output_type": "execute_result"
    }
   ],
   "source": [
    "dx_out[:, :, None] * x_in[:, None, :]"
   ]
  },
  {
   "cell_type": "code",
   "execution_count": 114,
   "metadata": {},
   "outputs": [
    {
     "data": {
      "text/plain": [
       "True"
      ]
     },
     "execution_count": 114,
     "metadata": {},
     "output_type": "execute_result"
    }
   ],
   "source": [
    "(dx_out[:, :, None] * x_in[:, None, :]).shape == (dx_out[:, :, None] * x_in[:, None, :]).shape"
   ]
  },
  {
   "cell_type": "code",
   "execution_count": 115,
   "metadata": {},
   "outputs": [
    {
     "data": {
      "text/plain": [
       "(5, 4, 3)"
      ]
     },
     "execution_count": 115,
     "metadata": {},
     "output_type": "execute_result"
    }
   ],
   "source": [
    "(dx_out[:, :, None] * x_in[:, None, :]).shape"
   ]
  },
  {
   "cell_type": "code",
   "execution_count": 116,
   "metadata": {},
   "outputs": [
    {
     "data": {
      "text/plain": [
       "(5, 4, 3)"
      ]
     },
     "execution_count": 116,
     "metadata": {},
     "output_type": "execute_result"
    }
   ],
   "source": [
    "(dx_out[:, :, None] * x_in[:, None, :]).shape"
   ]
  },
  {
   "cell_type": "code",
   "execution_count": 117,
   "metadata": {
    "collapsed": true
   },
   "outputs": [],
   "source": [
    "def log_smax(x_in):\n",
    "    \n",
    "    x_out = np.subtract(x_in, x_in.max(axis=1, keepdims=True))\n",
    "    \n",
    "    x_out = x_out - np.log(np.sum(np.exp(x_out), axis=1, keepdims=True))\n",
    "    \n",
    "    return x_out"
   ]
  },
  {
   "cell_type": "code",
   "execution_count": 118,
   "metadata": {},
   "outputs": [
    {
     "data": {
      "text/plain": [
       "array([[2, 0, 8],\n",
       "       [5, 4, 9],\n",
       "       [7, 2, 9],\n",
       "       [5, 4, 7],\n",
       "       [1, 5, 2]])"
      ]
     },
     "execution_count": 118,
     "metadata": {},
     "output_type": "execute_result"
    }
   ],
   "source": [
    "x_in"
   ]
  },
  {
   "cell_type": "code",
   "execution_count": 119,
   "metadata": {},
   "outputs": [
    {
     "data": {
      "text/plain": [
       "array([[-6.00281026e+00, -8.00281026e+00, -2.81026232e-03],\n",
       "       [-4.02474489e+00, -5.02474489e+00, -2.47448901e-02],\n",
       "       [-2.12773087e+00, -7.12773087e+00, -1.27730872e-01],\n",
       "       [-2.16984602e+00, -3.16984602e+00, -1.69846020e-01],\n",
       "       [-4.06588390e+00, -6.58839038e-02, -3.06588390e+00]])"
      ]
     },
     "execution_count": 119,
     "metadata": {},
     "output_type": "execute_result"
    }
   ],
   "source": [
    "log_smax(x_in)"
   ]
  },
  {
   "cell_type": "code",
   "execution_count": 120,
   "metadata": {
    "collapsed": true
   },
   "outputs": [],
   "source": [
    "from scipy import special"
   ]
  },
  {
   "cell_type": "code",
   "execution_count": 121,
   "metadata": {
    "scrolled": true
   },
   "outputs": [
    {
     "data": {
      "text/plain": [
       "array([[-6.00281026e+00, -8.00281026e+00, -2.81026232e-03],\n",
       "       [-4.02474489e+00, -5.02474489e+00, -2.47448901e-02],\n",
       "       [-2.12773087e+00, -7.12773087e+00, -1.27730872e-01],\n",
       "       [-2.16984602e+00, -3.16984602e+00, -1.69846020e-01],\n",
       "       [-4.06588390e+00, -6.58839038e-02, -3.06588390e+00]])"
      ]
     },
     "execution_count": 121,
     "metadata": {},
     "output_type": "execute_result"
    }
   ],
   "source": [
    "special.log_softmax(x_in, axis=1)"
   ]
  },
  {
   "cell_type": "code",
   "execution_count": 122,
   "metadata": {
    "collapsed": true
   },
   "outputs": [],
   "source": [
    "def smax(x_in):\n",
    "    \n",
    "    x_out = np.subtract(x_in, x_in.max(axis=1, keepdims=True))\n",
    "    \n",
    "    x_out = np.exp(x_out)/np.sum(np.exp(x_out), axis=1, keepdims=True)\n",
    "    \n",
    "    return x_out"
   ]
  },
  {
   "cell_type": "code",
   "execution_count": 123,
   "metadata": {},
   "outputs": [
    {
     "data": {
      "text/plain": [
       "array([[2.47179601e-03, 3.34521213e-04, 9.97193683e-01],\n",
       "       [1.78679819e-02, 6.57326319e-03, 9.75558755e-01],\n",
       "       [1.19107257e-01, 8.02538386e-04, 8.80090205e-01],\n",
       "       [1.14195199e-01, 4.20100661e-02, 8.43794734e-01],\n",
       "       [1.71478255e-02, 9.36239552e-01, 4.66126226e-02]])"
      ]
     },
     "execution_count": 123,
     "metadata": {},
     "output_type": "execute_result"
    }
   ],
   "source": [
    "smax(x_in)"
   ]
  },
  {
   "cell_type": "code",
   "execution_count": 124,
   "metadata": {},
   "outputs": [
    {
     "data": {
      "text/plain": [
       "array([[2.47179601e-03, 3.34521213e-04, 9.97193683e-01],\n",
       "       [1.78679819e-02, 6.57326319e-03, 9.75558755e-01],\n",
       "       [1.19107257e-01, 8.02538386e-04, 8.80090205e-01],\n",
       "       [1.14195199e-01, 4.20100661e-02, 8.43794734e-01],\n",
       "       [1.71478255e-02, 9.36239552e-01, 4.66126226e-02]])"
      ]
     },
     "execution_count": 124,
     "metadata": {},
     "output_type": "execute_result"
    }
   ],
   "source": [
    "special.softmax(x_in, axis=1)"
   ]
  },
  {
   "cell_type": "code",
   "execution_count": 125,
   "metadata": {},
   "outputs": [
    {
     "data": {
      "text/plain": [
       "array([[2, 0, 8],\n",
       "       [5, 4, 9],\n",
       "       [7, 2, 9],\n",
       "       [5, 4, 7],\n",
       "       [1, 5, 2]])"
      ]
     },
     "execution_count": 125,
     "metadata": {},
     "output_type": "execute_result"
    }
   ],
   "source": [
    "x_in"
   ]
  },
  {
   "cell_type": "code",
   "execution_count": 126,
   "metadata": {},
   "outputs": [
    {
     "data": {
      "text/plain": [
       "array([[2.47179601e-03, 3.34521213e-04, 9.97193683e-01],\n",
       "       [1.78679819e-02, 6.57326319e-03, 9.75558755e-01],\n",
       "       [1.19107257e-01, 8.02538386e-04, 8.80090205e-01],\n",
       "       [1.14195199e-01, 4.20100661e-02, 8.43794734e-01],\n",
       "       [1.71478255e-02, 9.36239552e-01, 4.66126226e-02]])"
      ]
     },
     "execution_count": 126,
     "metadata": {},
     "output_type": "execute_result"
    }
   ],
   "source": [
    "s = smax(x_in)\n",
    "s"
   ]
  },
  {
   "cell_type": "code",
   "execution_count": 127,
   "metadata": {},
   "outputs": [
    {
     "data": {
      "text/plain": [
       "array([2.47179601e-03, 3.34521213e-04, 9.97193683e-01])"
      ]
     },
     "execution_count": 127,
     "metadata": {},
     "output_type": "execute_result"
    }
   ],
   "source": [
    "w = s[0].copy()\n",
    "w"
   ]
  },
  {
   "cell_type": "code",
   "execution_count": 128,
   "metadata": {
    "collapsed": true
   },
   "outputs": [],
   "source": [
    "I = np.eye(3)"
   ]
  },
  {
   "cell_type": "code",
   "execution_count": 129,
   "metadata": {},
   "outputs": [
    {
     "data": {
      "text/plain": [
       "array([[1., 0., 0.],\n",
       "       [0., 1., 0.],\n",
       "       [0., 0., 1.]])"
      ]
     },
     "execution_count": 129,
     "metadata": {},
     "output_type": "execute_result"
    }
   ],
   "source": [
    "I "
   ]
  },
  {
   "cell_type": "code",
   "execution_count": 130,
   "metadata": {},
   "outputs": [
    {
     "data": {
      "text/plain": [
       "array([[ 9.97528204e-01, -3.34521213e-04, -9.97193683e-01],\n",
       "       [-2.47179601e-03,  9.99665479e-01, -9.97193683e-01],\n",
       "       [-2.47179601e-03, -3.34521213e-04,  2.80631723e-03]])"
      ]
     },
     "execution_count": 130,
     "metadata": {},
     "output_type": "execute_result"
    }
   ],
   "source": [
    "I - w"
   ]
  },
  {
   "cell_type": "code",
   "execution_count": 131,
   "metadata": {},
   "outputs": [
    {
     "data": {
      "text/plain": [
       "array([[2.47179601e-03],\n",
       "       [3.34521213e-04],\n",
       "       [9.97193683e-01]])"
      ]
     },
     "execution_count": 131,
     "metadata": {},
     "output_type": "execute_result"
    }
   ],
   "source": [
    "w[:, None]"
   ]
  },
  {
   "cell_type": "code",
   "execution_count": 132,
   "metadata": {},
   "outputs": [
    {
     "data": {
      "text/plain": [
       "array([[ 2.46568624e-03, -8.26868201e-07, -2.46485937e-03],\n",
       "       [-8.26868201e-07,  3.34409309e-04, -3.33582441e-04],\n",
       "       [-2.46485937e-03, -3.33582441e-04,  2.79844181e-03]])"
      ]
     },
     "execution_count": 132,
     "metadata": {},
     "output_type": "execute_result"
    }
   ],
   "source": [
    "w[:, None] * (I - w)"
   ]
  },
  {
   "cell_type": "markdown",
   "metadata": {},
   "source": [
    "# Example derivative of Softmax:"
   ]
  },
  {
   "cell_type": "code",
   "execution_count": 133,
   "metadata": {},
   "outputs": [
    {
     "data": {
      "text/plain": [
       "array([[2, 0, 8],\n",
       "       [5, 4, 9],\n",
       "       [7, 2, 9],\n",
       "       [5, 4, 7],\n",
       "       [1, 5, 2]])"
      ]
     },
     "execution_count": 133,
     "metadata": {},
     "output_type": "execute_result"
    }
   ],
   "source": [
    "x_in"
   ]
  },
  {
   "cell_type": "code",
   "execution_count": 134,
   "metadata": {
    "scrolled": true
   },
   "outputs": [
    {
     "data": {
      "text/plain": [
       "array([[[2, 0, 8]],\n",
       "\n",
       "       [[5, 4, 9]],\n",
       "\n",
       "       [[7, 2, 9]],\n",
       "\n",
       "       [[5, 4, 7]],\n",
       "\n",
       "       [[1, 5, 2]]])"
      ]
     },
     "execution_count": 134,
     "metadata": {},
     "output_type": "execute_result"
    }
   ],
   "source": [
    "x_in[:, None, :]"
   ]
  },
  {
   "cell_type": "code",
   "execution_count": 135,
   "metadata": {},
   "outputs": [
    {
     "data": {
      "text/plain": [
       "array([[2.47179601e-03, 3.34521213e-04, 9.97193683e-01],\n",
       "       [1.78679819e-02, 6.57326319e-03, 9.75558755e-01],\n",
       "       [1.19107257e-01, 8.02538386e-04, 8.80090205e-01],\n",
       "       [1.14195199e-01, 4.20100661e-02, 8.43794734e-01],\n",
       "       [1.71478255e-02, 9.36239552e-01, 4.66126226e-02]])"
      ]
     },
     "execution_count": 135,
     "metadata": {},
     "output_type": "execute_result"
    }
   ],
   "source": [
    "s = smax(x_in)\n",
    "s"
   ]
  },
  {
   "cell_type": "code",
   "execution_count": 136,
   "metadata": {},
   "outputs": [
    {
     "data": {
      "text/plain": [
       "array([[[2.47179601e-03, 3.34521213e-04, 9.97193683e-01]],\n",
       "\n",
       "       [[1.78679819e-02, 6.57326319e-03, 9.75558755e-01]],\n",
       "\n",
       "       [[1.19107257e-01, 8.02538386e-04, 8.80090205e-01]],\n",
       "\n",
       "       [[1.14195199e-01, 4.20100661e-02, 8.43794734e-01]],\n",
       "\n",
       "       [[1.71478255e-02, 9.36239552e-01, 4.66126226e-02]]])"
      ]
     },
     "execution_count": 136,
     "metadata": {},
     "output_type": "execute_result"
    }
   ],
   "source": [
    "s[:, None, :]"
   ]
  },
  {
   "cell_type": "code",
   "execution_count": 137,
   "metadata": {},
   "outputs": [
    {
     "data": {
      "text/plain": [
       "array([[[ 9.97528204e-01, -3.34521213e-04, -9.97193683e-01],\n",
       "        [-2.47179601e-03,  9.99665479e-01, -9.97193683e-01],\n",
       "        [-2.47179601e-03, -3.34521213e-04,  2.80631723e-03]],\n",
       "\n",
       "       [[ 9.82132018e-01, -6.57326319e-03, -9.75558755e-01],\n",
       "        [-1.78679819e-02,  9.93426737e-01, -9.75558755e-01],\n",
       "        [-1.78679819e-02, -6.57326319e-03,  2.44412451e-02]],\n",
       "\n",
       "       [[ 8.80892743e-01, -8.02538386e-04, -8.80090205e-01],\n",
       "        [-1.19107257e-01,  9.99197462e-01, -8.80090205e-01],\n",
       "        [-1.19107257e-01, -8.02538386e-04,  1.19909795e-01]],\n",
       "\n",
       "       [[ 8.85804801e-01, -4.20100661e-02, -8.43794734e-01],\n",
       "        [-1.14195199e-01,  9.57989934e-01, -8.43794734e-01],\n",
       "        [-1.14195199e-01, -4.20100661e-02,  1.56205266e-01]],\n",
       "\n",
       "       [[ 9.82852174e-01, -9.36239552e-01, -4.66126226e-02],\n",
       "        [-1.71478255e-02,  6.37604481e-02, -4.66126226e-02],\n",
       "        [-1.71478255e-02, -9.36239552e-01,  9.53387377e-01]]])"
      ]
     },
     "execution_count": 137,
     "metadata": {},
     "output_type": "execute_result"
    }
   ],
   "source": [
    "np.eye(3) - s[:, None, :]"
   ]
  },
  {
   "cell_type": "code",
   "execution_count": 138,
   "metadata": {},
   "outputs": [
    {
     "data": {
      "text/plain": [
       "array([[[2.47179601e-03],\n",
       "        [3.34521213e-04],\n",
       "        [9.97193683e-01]],\n",
       "\n",
       "       [[1.78679819e-02],\n",
       "        [6.57326319e-03],\n",
       "        [9.75558755e-01]],\n",
       "\n",
       "       [[1.19107257e-01],\n",
       "        [8.02538386e-04],\n",
       "        [8.80090205e-01]],\n",
       "\n",
       "       [[1.14195199e-01],\n",
       "        [4.20100661e-02],\n",
       "        [8.43794734e-01]],\n",
       "\n",
       "       [[1.71478255e-02],\n",
       "        [9.36239552e-01],\n",
       "        [4.66126226e-02]]])"
      ]
     },
     "execution_count": 138,
     "metadata": {},
     "output_type": "execute_result"
    }
   ],
   "source": [
    "s[:, :, None]"
   ]
  },
  {
   "cell_type": "code",
   "execution_count": 139,
   "metadata": {},
   "outputs": [
    {
     "data": {
      "text/plain": [
       "array([[[ 2.46568624e-03, -8.26868201e-07, -2.46485937e-03],\n",
       "        [-8.26868201e-07,  3.34409309e-04, -3.33582441e-04],\n",
       "        [-2.46485937e-03, -3.33582441e-04,  2.79844181e-03]],\n",
       "\n",
       "       [[ 1.75487171e-02, -1.17450947e-04, -1.74312661e-02],\n",
       "        [-1.17450947e-04,  6.53005540e-03, -6.41260445e-03],\n",
       "        [-1.74312661e-02, -6.41260445e-03,  2.38438706e-02]],\n",
       "\n",
       "       [[ 1.04920718e-01, -9.55881458e-05, -1.04825130e-01],\n",
       "        [-9.55881458e-05,  8.01894318e-04, -7.06306172e-04],\n",
       "        [-1.04825130e-01, -7.06306172e-04,  1.05531436e-01]],\n",
       "\n",
       "       [[ 1.01154656e-01, -4.79734788e-03, -9.63573079e-02],\n",
       "        [-4.79734788e-03,  4.02452205e-02, -3.54478726e-02],\n",
       "        [-9.63573079e-02, -3.54478726e-02,  1.31805181e-01]],\n",
       "\n",
       "       [[ 1.68537776e-02, -1.60544725e-02, -7.99305120e-04],\n",
       "        [-1.60544725e-02,  5.96950534e-02, -4.36405809e-02],\n",
       "        [-7.99305120e-04, -4.36405809e-02,  4.44398860e-02]]])"
      ]
     },
     "execution_count": 139,
     "metadata": {},
     "output_type": "execute_result"
    }
   ],
   "source": [
    "dsdx = s[:, :, None] * (np.eye(3) - s[:, None, :]) #dxT = dx\n",
    "dsdx"
   ]
  },
  {
   "cell_type": "code",
   "execution_count": 140,
   "metadata": {},
   "outputs": [
    {
     "data": {
      "text/plain": [
       "(5, 3, 3)"
      ]
     },
     "execution_count": 140,
     "metadata": {},
     "output_type": "execute_result"
    }
   ],
   "source": [
    "dsdx.shape"
   ]
  },
  {
   "cell_type": "code",
   "execution_count": 141,
   "metadata": {},
   "outputs": [
    {
     "data": {
      "text/plain": [
       "array([[[7, 8, 5]],\n",
       "\n",
       "       [[3, 5, 6]],\n",
       "\n",
       "       [[0, 5, 6]],\n",
       "\n",
       "       [[6, 9, 1]],\n",
       "\n",
       "       [[4, 1, 6]]])"
      ]
     },
     "execution_count": 141,
     "metadata": {},
     "output_type": "execute_result"
    }
   ],
   "source": [
    "dLdsT = np.random.randint(0, 10, (5, 1, 3))\n",
    "dLdsT"
   ]
  },
  {
   "cell_type": "code",
   "execution_count": 142,
   "metadata": {},
   "outputs": [
    {
     "data": {
      "text/plain": [
       "(5, 1, 3)"
      ]
     },
     "execution_count": 142,
     "metadata": {},
     "output_type": "execute_result"
    }
   ],
   "source": [
    "dLdsT.shape"
   ]
  },
  {
   "cell_type": "code",
   "execution_count": 71,
   "metadata": {},
   "outputs": [
    {
     "data": {
      "text/plain": [
       "(5, 3, 3)"
      ]
     },
     "execution_count": 71,
     "metadata": {},
     "output_type": "execute_result"
    }
   ],
   "source": [
    "dsdx.shape"
   ]
  },
  {
   "cell_type": "code",
   "execution_count": 144,
   "metadata": {},
   "outputs": [
    {
     "data": {
      "text/plain": [
       "array([[[ 4.92889187e-03,  1.00157419e-03, -5.93046606e-03]],\n",
       "\n",
       "       [[-5.25287003e-02, -6.17770255e-03,  5.87064029e-02]],\n",
       "\n",
       "       [[-6.29428722e-01, -2.28365443e-04,  6.29657088e-01]],\n",
       "\n",
       "       [[ 4.67394496e-01,  2.97975024e-01, -7.65369521e-01]],\n",
       "\n",
       "       [[ 4.65648073e-02, -2.66366322e-01,  2.19801515e-01]]])"
      ]
     },
     "execution_count": 144,
     "metadata": {},
     "output_type": "execute_result"
    }
   ],
   "source": [
    "dLdx = np.matmul(dLdsT, dsdx)\n",
    "dLdx"
   ]
  },
  {
   "cell_type": "code",
   "execution_count": 145,
   "metadata": {
    "scrolled": true
   },
   "outputs": [
    {
     "data": {
      "text/plain": [
       "array([[ 4.92889187e-03,  1.00157419e-03, -5.93046606e-03],\n",
       "       [-5.25287003e-02, -6.17770255e-03,  5.87064029e-02],\n",
       "       [-6.29428722e-01, -2.28365443e-04,  6.29657088e-01],\n",
       "       [ 4.67394496e-01,  2.97975024e-01, -7.65369521e-01],\n",
       "       [ 4.65648073e-02, -2.66366322e-01,  2.19801515e-01]])"
      ]
     },
     "execution_count": 145,
     "metadata": {},
     "output_type": "execute_result"
    }
   ],
   "source": [
    "np.squeeze(dLdx)"
   ]
  },
  {
   "cell_type": "markdown",
   "metadata": {},
   "source": [
    "### From notebook"
   ]
  },
  {
   "cell_type": "code",
   "execution_count": 146,
   "metadata": {},
   "outputs": [
    {
     "data": {
      "text/plain": [
       "array([[2.47179601e-03, 3.34521213e-04, 9.97193683e-01],\n",
       "       [1.78679819e-02, 6.57326319e-03, 9.75558755e-01],\n",
       "       [1.19107257e-01, 8.02538386e-04, 8.80090205e-01],\n",
       "       [1.14195199e-01, 4.20100661e-02, 8.43794734e-01],\n",
       "       [1.71478255e-02, 9.36239552e-01, 4.66126226e-02]])"
      ]
     },
     "execution_count": 146,
     "metadata": {},
     "output_type": "execute_result"
    }
   ],
   "source": [
    "s"
   ]
  },
  {
   "cell_type": "raw",
   "metadata": {
    "collapsed": true
   },
   "source": [
    "batch_size, n_feats = self.output.shape\n",
    "a = self.output.reshape(batch_size, n_feats, -1)\n",
    "b = self.output.reshape(batch_size, -1, n_feats)\n",
    "self.gradInput = np.multiply(gradOutput.reshape(batch_size, -1, n_feats), np.subtract(np.multiply(np.eye(n_feats), a), np.multiply(a, b))).sum(axis=2)"
   ]
  },
  {
   "cell_type": "code",
   "execution_count": 147,
   "metadata": {
    "collapsed": true
   },
   "outputs": [],
   "source": [
    "batch_size, n_feats = s.shape"
   ]
  },
  {
   "cell_type": "code",
   "execution_count": 148,
   "metadata": {},
   "outputs": [
    {
     "data": {
      "text/plain": [
       "5"
      ]
     },
     "execution_count": 148,
     "metadata": {},
     "output_type": "execute_result"
    }
   ],
   "source": [
    "batch_size"
   ]
  },
  {
   "cell_type": "code",
   "execution_count": 149,
   "metadata": {
    "scrolled": true
   },
   "outputs": [
    {
     "data": {
      "text/plain": [
       "3"
      ]
     },
     "execution_count": 149,
     "metadata": {},
     "output_type": "execute_result"
    }
   ],
   "source": [
    "n_feats"
   ]
  },
  {
   "cell_type": "code",
   "execution_count": 150,
   "metadata": {
    "collapsed": true
   },
   "outputs": [],
   "source": [
    "a = s.reshape(batch_size, n_feats, -1)"
   ]
  },
  {
   "cell_type": "code",
   "execution_count": 151,
   "metadata": {},
   "outputs": [
    {
     "data": {
      "text/plain": [
       "array([[[2.47179601e-03],\n",
       "        [3.34521213e-04],\n",
       "        [9.97193683e-01]],\n",
       "\n",
       "       [[1.78679819e-02],\n",
       "        [6.57326319e-03],\n",
       "        [9.75558755e-01]],\n",
       "\n",
       "       [[1.19107257e-01],\n",
       "        [8.02538386e-04],\n",
       "        [8.80090205e-01]],\n",
       "\n",
       "       [[1.14195199e-01],\n",
       "        [4.20100661e-02],\n",
       "        [8.43794734e-01]],\n",
       "\n",
       "       [[1.71478255e-02],\n",
       "        [9.36239552e-01],\n",
       "        [4.66126226e-02]]])"
      ]
     },
     "execution_count": 151,
     "metadata": {},
     "output_type": "execute_result"
    }
   ],
   "source": [
    "a"
   ]
  },
  {
   "cell_type": "code",
   "execution_count": 152,
   "metadata": {},
   "outputs": [
    {
     "data": {
      "text/plain": [
       "array([[[2.47179601e-03, 3.34521213e-04, 9.97193683e-01]],\n",
       "\n",
       "       [[1.78679819e-02, 6.57326319e-03, 9.75558755e-01]],\n",
       "\n",
       "       [[1.19107257e-01, 8.02538386e-04, 8.80090205e-01]],\n",
       "\n",
       "       [[1.14195199e-01, 4.20100661e-02, 8.43794734e-01]],\n",
       "\n",
       "       [[1.71478255e-02, 9.36239552e-01, 4.66126226e-02]]])"
      ]
     },
     "execution_count": 152,
     "metadata": {},
     "output_type": "execute_result"
    }
   ],
   "source": [
    "b = s.reshape(batch_size, -1, n_feats)\n",
    "b"
   ]
  },
  {
   "cell_type": "code",
   "execution_count": 153,
   "metadata": {},
   "outputs": [
    {
     "data": {
      "text/plain": [
       "array([[0.36809669, 0.82795043, 0.579892  ],\n",
       "       [0.21584795, 0.26738681, 0.06993436],\n",
       "       [0.05727645, 0.64127719, 0.49545952],\n",
       "       [0.33539952, 0.30562379, 0.94471194],\n",
       "       [0.60007684, 0.14990471, 0.56143599]])"
      ]
     },
     "execution_count": 153,
     "metadata": {},
     "output_type": "execute_result"
    }
   ],
   "source": [
    "gradOutput = np.random.random((n_batch, n_feats))\n",
    "gradOutput"
   ]
  },
  {
   "cell_type": "code",
   "execution_count": 154,
   "metadata": {
    "collapsed": true
   },
   "outputs": [],
   "source": [
    "gradOutput = dLdsT.copy()"
   ]
  },
  {
   "cell_type": "code",
   "execution_count": 155,
   "metadata": {},
   "outputs": [
    {
     "data": {
      "text/plain": [
       "(5, 1, 3)"
      ]
     },
     "execution_count": 155,
     "metadata": {},
     "output_type": "execute_result"
    }
   ],
   "source": [
    "gradOutput.shape"
   ]
  },
  {
   "cell_type": "code",
   "execution_count": 156,
   "metadata": {},
   "outputs": [
    {
     "data": {
      "text/plain": [
       "(5, 1, 3)"
      ]
     },
     "execution_count": 156,
     "metadata": {},
     "output_type": "execute_result"
    }
   ],
   "source": [
    "dLdsT.shape"
   ]
  },
  {
   "cell_type": "code",
   "execution_count": 157,
   "metadata": {},
   "outputs": [
    {
     "data": {
      "text/plain": [
       "array([[[2.47179601e-03, 0.00000000e+00, 0.00000000e+00],\n",
       "        [0.00000000e+00, 3.34521213e-04, 0.00000000e+00],\n",
       "        [0.00000000e+00, 0.00000000e+00, 9.97193683e-01]],\n",
       "\n",
       "       [[1.78679819e-02, 0.00000000e+00, 0.00000000e+00],\n",
       "        [0.00000000e+00, 6.57326319e-03, 0.00000000e+00],\n",
       "        [0.00000000e+00, 0.00000000e+00, 9.75558755e-01]],\n",
       "\n",
       "       [[1.19107257e-01, 0.00000000e+00, 0.00000000e+00],\n",
       "        [0.00000000e+00, 8.02538386e-04, 0.00000000e+00],\n",
       "        [0.00000000e+00, 0.00000000e+00, 8.80090205e-01]],\n",
       "\n",
       "       [[1.14195199e-01, 0.00000000e+00, 0.00000000e+00],\n",
       "        [0.00000000e+00, 4.20100661e-02, 0.00000000e+00],\n",
       "        [0.00000000e+00, 0.00000000e+00, 8.43794734e-01]],\n",
       "\n",
       "       [[1.71478255e-02, 0.00000000e+00, 0.00000000e+00],\n",
       "        [0.00000000e+00, 9.36239552e-01, 0.00000000e+00],\n",
       "        [0.00000000e+00, 0.00000000e+00, 4.66126226e-02]]])"
      ]
     },
     "execution_count": 157,
     "metadata": {},
     "output_type": "execute_result"
    }
   ],
   "source": [
    "np.multiply(np.eye(n_feats), a)"
   ]
  },
  {
   "cell_type": "code",
   "execution_count": 158,
   "metadata": {},
   "outputs": [
    {
     "data": {
      "text/plain": [
       "array([[[6.10977552e-06, 8.26868201e-07, 2.46485937e-03],\n",
       "        [8.26868201e-07, 1.11904442e-07, 3.33582441e-04],\n",
       "        [2.46485937e-03, 3.33582441e-04, 9.94395241e-01]],\n",
       "\n",
       "       [[3.19264776e-04, 1.17450947e-04, 1.74312661e-02],\n",
       "        [1.17450947e-04, 4.32077889e-05, 6.41260445e-03],\n",
       "        [1.74312661e-02, 6.41260445e-03, 9.51714884e-01]],\n",
       "\n",
       "       [[1.41865387e-02, 9.55881458e-05, 1.04825130e-01],\n",
       "        [9.55881458e-05, 6.44067860e-07, 7.06306172e-04],\n",
       "        [1.04825130e-01, 7.06306172e-04, 7.74558768e-01]],\n",
       "\n",
       "       [[1.30405436e-02, 4.79734788e-03, 9.63573079e-02],\n",
       "        [4.79734788e-03, 1.76484566e-03, 3.54478726e-02],\n",
       "        [9.63573079e-02, 3.54478726e-02, 7.11989554e-01]],\n",
       "\n",
       "       [[2.94047921e-04, 1.60544725e-02, 7.99305120e-04],\n",
       "        [1.60544725e-02, 8.76544498e-01, 4.36405809e-02],\n",
       "        [7.99305120e-04, 4.36405809e-02, 2.17273658e-03]]])"
      ]
     },
     "execution_count": 158,
     "metadata": {},
     "output_type": "execute_result"
    }
   ],
   "source": [
    "np.multiply(a, b)"
   ]
  },
  {
   "cell_type": "code",
   "execution_count": 159,
   "metadata": {},
   "outputs": [
    {
     "data": {
      "text/plain": [
       "array([[[ 2.46568624e-03, -8.26868201e-07, -2.46485937e-03],\n",
       "        [-8.26868201e-07,  3.34409309e-04, -3.33582441e-04],\n",
       "        [-2.46485937e-03, -3.33582441e-04,  2.79844181e-03]],\n",
       "\n",
       "       [[ 1.75487171e-02, -1.17450947e-04, -1.74312661e-02],\n",
       "        [-1.17450947e-04,  6.53005540e-03, -6.41260445e-03],\n",
       "        [-1.74312661e-02, -6.41260445e-03,  2.38438706e-02]],\n",
       "\n",
       "       [[ 1.04920718e-01, -9.55881458e-05, -1.04825130e-01],\n",
       "        [-9.55881458e-05,  8.01894318e-04, -7.06306172e-04],\n",
       "        [-1.04825130e-01, -7.06306172e-04,  1.05531436e-01]],\n",
       "\n",
       "       [[ 1.01154656e-01, -4.79734788e-03, -9.63573079e-02],\n",
       "        [-4.79734788e-03,  4.02452205e-02, -3.54478726e-02],\n",
       "        [-9.63573079e-02, -3.54478726e-02,  1.31805181e-01]],\n",
       "\n",
       "       [[ 1.68537776e-02, -1.60544725e-02, -7.99305120e-04],\n",
       "        [-1.60544725e-02,  5.96950534e-02, -4.36405809e-02],\n",
       "        [-7.99305120e-04, -4.36405809e-02,  4.44398860e-02]]])"
      ]
     },
     "execution_count": 159,
     "metadata": {},
     "output_type": "execute_result"
    }
   ],
   "source": [
    "np.subtract(np.multiply(np.eye(n_feats), a), np.multiply(a, b))"
   ]
  },
  {
   "cell_type": "code",
   "execution_count": 162,
   "metadata": {},
   "outputs": [
    {
     "data": {
      "text/plain": [
       "array([[[ 2.46568624e-03, -8.26868201e-07, -2.46485937e-03],\n",
       "        [-8.26868201e-07,  3.34409309e-04, -3.33582441e-04],\n",
       "        [-2.46485937e-03, -3.33582441e-04,  2.79844181e-03]],\n",
       "\n",
       "       [[ 1.75487171e-02, -1.17450947e-04, -1.74312661e-02],\n",
       "        [-1.17450947e-04,  6.53005540e-03, -6.41260445e-03],\n",
       "        [-1.74312661e-02, -6.41260445e-03,  2.38438706e-02]],\n",
       "\n",
       "       [[ 1.04920718e-01, -9.55881458e-05, -1.04825130e-01],\n",
       "        [-9.55881458e-05,  8.01894318e-04, -7.06306172e-04],\n",
       "        [-1.04825130e-01, -7.06306172e-04,  1.05531436e-01]],\n",
       "\n",
       "       [[ 1.01154656e-01, -4.79734788e-03, -9.63573079e-02],\n",
       "        [-4.79734788e-03,  4.02452205e-02, -3.54478726e-02],\n",
       "        [-9.63573079e-02, -3.54478726e-02,  1.31805181e-01]],\n",
       "\n",
       "       [[ 1.68537776e-02, -1.60544725e-02, -7.99305120e-04],\n",
       "        [-1.60544725e-02,  5.96950534e-02, -4.36405809e-02],\n",
       "        [-7.99305120e-04, -4.36405809e-02,  4.44398860e-02]]])"
      ]
     },
     "execution_count": 162,
     "metadata": {},
     "output_type": "execute_result"
    }
   ],
   "source": [
    "dsdx"
   ]
  },
  {
   "cell_type": "code",
   "execution_count": 163,
   "metadata": {},
   "outputs": [
    {
     "data": {
      "text/plain": [
       "array([[[ 1.72598037e-02, -6.61494561e-06, -1.23242968e-02],\n",
       "        [-5.78807741e-06,  2.67527447e-03, -1.66791220e-03],\n",
       "        [-1.72540156e-02, -2.66865953e-03,  1.39922090e-02]],\n",
       "\n",
       "       [[ 5.26461513e-02, -5.87254737e-04, -1.04587597e-01],\n",
       "        [-3.52352842e-04,  3.26502770e-02, -3.84756267e-02],\n",
       "        [-5.22937984e-02, -3.20630222e-02,  1.43063224e-01]],\n",
       "\n",
       "       [[ 0.00000000e+00, -4.77940729e-04, -6.28950782e-01],\n",
       "        [-0.00000000e+00,  4.00947159e-03, -4.23783703e-03],\n",
       "        [-0.00000000e+00, -3.53153086e-03,  6.33188619e-01]],\n",
       "\n",
       "       [[ 6.06927935e-01, -4.31761309e-02, -9.63573079e-02],\n",
       "        [-2.87840873e-02,  3.62206984e-01, -3.54478726e-02],\n",
       "        [-5.78143848e-01, -3.19030853e-01,  1.31805181e-01]],\n",
       "\n",
       "       [[ 6.74151105e-02, -1.60544725e-02, -4.79583072e-03],\n",
       "        [-6.42178900e-02,  5.96950534e-02, -2.61843485e-01],\n",
       "        [-3.19722048e-03, -4.36405809e-02,  2.66639316e-01]]])"
      ]
     },
     "execution_count": 163,
     "metadata": {},
     "output_type": "execute_result"
    }
   ],
   "source": [
    "np.multiply(gradOutput.reshape(batch_size, -1, n_feats), np.subtract(np.multiply(np.eye(n_feats), a), np.multiply(a, b)))"
   ]
  },
  {
   "cell_type": "code",
   "execution_count": 164,
   "metadata": {
    "collapsed": true
   },
   "outputs": [],
   "source": [
    "note_res = np.multiply(gradOutput.reshape(batch_size, -1, n_feats), np.subtract(np.multiply(np.eye(n_feats), a), np.multiply(a, b))).sum(axis=2)"
   ]
  },
  {
   "cell_type": "code",
   "execution_count": 165,
   "metadata": {
    "collapsed": true
   },
   "outputs": [],
   "source": [
    "my_res = np.squeeze(np.matmul(dLdsT, dsdx))"
   ]
  },
  {
   "cell_type": "code",
   "execution_count": 166,
   "metadata": {},
   "outputs": [
    {
     "data": {
      "text/plain": [
       "True"
      ]
     },
     "execution_count": 166,
     "metadata": {},
     "output_type": "execute_result"
    }
   ],
   "source": [
    "np.allclose(note_res, my_res)"
   ]
  },
  {
   "cell_type": "code",
   "execution_count": 167,
   "metadata": {},
   "outputs": [
    {
     "data": {
      "text/plain": [
       "array([[ 4.92889187e-03,  1.00157419e-03, -5.93046606e-03],\n",
       "       [-5.25287003e-02, -6.17770255e-03,  5.87064029e-02],\n",
       "       [-6.29428722e-01, -2.28365443e-04,  6.29657088e-01],\n",
       "       [ 4.67394496e-01,  2.97975024e-01, -7.65369521e-01],\n",
       "       [ 4.65648073e-02, -2.66366322e-01,  2.19801515e-01]])"
      ]
     },
     "execution_count": 167,
     "metadata": {},
     "output_type": "execute_result"
    }
   ],
   "source": [
    "note_res"
   ]
  },
  {
   "cell_type": "code",
   "execution_count": 168,
   "metadata": {},
   "outputs": [
    {
     "data": {
      "text/plain": [
       "array([[ 4.92889187e-03,  1.00157419e-03, -5.93046606e-03],\n",
       "       [-5.25287003e-02, -6.17770255e-03,  5.87064029e-02],\n",
       "       [-6.29428722e-01, -2.28365443e-04,  6.29657088e-01],\n",
       "       [ 4.67394496e-01,  2.97975024e-01, -7.65369521e-01],\n",
       "       [ 4.65648073e-02, -2.66366322e-01,  2.19801515e-01]])"
      ]
     },
     "execution_count": 168,
     "metadata": {},
     "output_type": "execute_result"
    }
   ],
   "source": [
    "my_res"
   ]
  },
  {
   "cell_type": "markdown",
   "metadata": {},
   "source": [
    "---\n",
    "\n",
    "# Example derivative of LogSoftMax"
   ]
  },
  {
   "cell_type": "code",
   "execution_count": 169,
   "metadata": {
    "collapsed": true
   },
   "outputs": [],
   "source": [
    "x_in = np.array([[6, 2, 8],\n",
    "       [9, 6, 3],\n",
    "       [9, 9, 4],\n",
    "       [6, 7, 0],\n",
    "       [9, 8, 9]])"
   ]
  },
  {
   "cell_type": "code",
   "execution_count": 170,
   "metadata": {},
   "outputs": [
    {
     "data": {
      "text/plain": [
       "array([[1.18943236e-01, 2.17852136e-03, 8.78878243e-01],\n",
       "       [9.50330212e-01, 4.73141552e-02, 2.35563308e-03],\n",
       "       [4.98321169e-01, 4.98321169e-01, 3.35766163e-03],\n",
       "       [2.68762254e-01, 7.30571551e-01, 6.66195022e-04],\n",
       "       [4.22318798e-01, 1.55362403e-01, 4.22318798e-01]])"
      ]
     },
     "execution_count": 170,
     "metadata": {},
     "output_type": "execute_result"
    }
   ],
   "source": [
    "s = smax(x_in)\n",
    "s"
   ]
  },
  {
   "cell_type": "code",
   "execution_count": 171,
   "metadata": {
    "scrolled": true
   },
   "outputs": [
    {
     "data": {
      "text/plain": [
       "array([[[1.18943236e-01, 2.17852136e-03, 8.78878243e-01]],\n",
       "\n",
       "       [[9.50330212e-01, 4.73141552e-02, 2.35563308e-03]],\n",
       "\n",
       "       [[4.98321169e-01, 4.98321169e-01, 3.35766163e-03]],\n",
       "\n",
       "       [[2.68762254e-01, 7.30571551e-01, 6.66195022e-04]],\n",
       "\n",
       "       [[4.22318798e-01, 1.55362403e-01, 4.22318798e-01]]])"
      ]
     },
     "execution_count": 171,
     "metadata": {},
     "output_type": "execute_result"
    }
   ],
   "source": [
    "s[:,None,:]"
   ]
  },
  {
   "cell_type": "code",
   "execution_count": 172,
   "metadata": {},
   "outputs": [
    {
     "data": {
      "text/plain": [
       "array([[[1.18943236e-01, 2.17852136e-03, 8.78878243e-01],\n",
       "        [1.18943236e-01, 2.17852136e-03, 8.78878243e-01],\n",
       "        [1.18943236e-01, 2.17852136e-03, 8.78878243e-01]],\n",
       "\n",
       "       [[9.50330212e-01, 4.73141552e-02, 2.35563308e-03],\n",
       "        [9.50330212e-01, 4.73141552e-02, 2.35563308e-03],\n",
       "        [9.50330212e-01, 4.73141552e-02, 2.35563308e-03]],\n",
       "\n",
       "       [[4.98321169e-01, 4.98321169e-01, 3.35766163e-03],\n",
       "        [4.98321169e-01, 4.98321169e-01, 3.35766163e-03],\n",
       "        [4.98321169e-01, 4.98321169e-01, 3.35766163e-03]],\n",
       "\n",
       "       [[2.68762254e-01, 7.30571551e-01, 6.66195022e-04],\n",
       "        [2.68762254e-01, 7.30571551e-01, 6.66195022e-04],\n",
       "        [2.68762254e-01, 7.30571551e-01, 6.66195022e-04]],\n",
       "\n",
       "       [[4.22318798e-01, 1.55362403e-01, 4.22318798e-01],\n",
       "        [4.22318798e-01, 1.55362403e-01, 4.22318798e-01],\n",
       "        [4.22318798e-01, 1.55362403e-01, 4.22318798e-01]]])"
      ]
     },
     "execution_count": 172,
     "metadata": {},
     "output_type": "execute_result"
    }
   ],
   "source": [
    "res2 = s[:,None,:] * np.ones(3)[:,None]\n",
    "res2"
   ]
  },
  {
   "cell_type": "code",
   "execution_count": 173,
   "metadata": {},
   "outputs": [
    {
     "data": {
      "text/plain": [
       "array([[[ 8.81056764e-01, -2.17852136e-03, -8.78878243e-01],\n",
       "        [-1.18943236e-01,  9.97821479e-01, -8.78878243e-01],\n",
       "        [-1.18943236e-01, -2.17852136e-03,  1.21121757e-01]],\n",
       "\n",
       "       [[ 4.96697883e-02, -4.73141552e-02, -2.35563308e-03],\n",
       "        [-9.50330212e-01,  9.52685845e-01, -2.35563308e-03],\n",
       "        [-9.50330212e-01, -4.73141552e-02,  9.97644367e-01]],\n",
       "\n",
       "       [[ 5.01678831e-01, -4.98321169e-01, -3.35766163e-03],\n",
       "        [-4.98321169e-01,  5.01678831e-01, -3.35766163e-03],\n",
       "        [-4.98321169e-01, -4.98321169e-01,  9.96642338e-01]],\n",
       "\n",
       "       [[ 7.31237746e-01, -7.30571551e-01, -6.66195022e-04],\n",
       "        [-2.68762254e-01,  2.69428449e-01, -6.66195022e-04],\n",
       "        [-2.68762254e-01, -7.30571551e-01,  9.99333805e-01]],\n",
       "\n",
       "       [[ 5.77681202e-01, -1.55362403e-01, -4.22318798e-01],\n",
       "        [-4.22318798e-01,  8.44637597e-01, -4.22318798e-01],\n",
       "        [-4.22318798e-01, -1.55362403e-01,  5.77681202e-01]]])"
      ]
     },
     "execution_count": 173,
     "metadata": {},
     "output_type": "execute_result"
    }
   ],
   "source": [
    "dldx = np.eye(3) - res2\n",
    "dldx"
   ]
  },
  {
   "cell_type": "code",
   "execution_count": 174,
   "metadata": {
    "collapsed": true
   },
   "outputs": [],
   "source": [
    "dLdlT = np.array([[0.9641629 , 0.13632945, 0.56112404],\n",
    "       [0.91547089, 0.95909897, 0.27756155],\n",
    "       [0.96150247, 0.87256632, 0.81025121],\n",
    "       [0.83971777, 0.12481911, 0.99006227],\n",
    "       [0.780089  , 0.28662484, 0.68290024]])"
   ]
  },
  {
   "cell_type": "code",
   "execution_count": 175,
   "metadata": {},
   "outputs": [
    {
     "data": {
      "text/plain": [
       "array([[0.9641629 , 0.13632945, 0.56112404],\n",
       "       [0.91547089, 0.95909897, 0.27756155],\n",
       "       [0.96150247, 0.87256632, 0.81025121],\n",
       "       [0.83971777, 0.12481911, 0.99006227],\n",
       "       [0.780089  , 0.28662484, 0.68290024]])"
      ]
     },
     "execution_count": 175,
     "metadata": {},
     "output_type": "execute_result"
    }
   ],
   "source": [
    "dLdlT"
   ]
  },
  {
   "cell_type": "code",
   "execution_count": 176,
   "metadata": {},
   "outputs": [
    {
     "data": {
      "text/plain": [
       "array([[[0.9641629 , 0.13632945, 0.56112404]],\n",
       "\n",
       "       [[0.91547089, 0.95909897, 0.27756155]],\n",
       "\n",
       "       [[0.96150247, 0.87256632, 0.81025121]],\n",
       "\n",
       "       [[0.83971777, 0.12481911, 0.99006227]],\n",
       "\n",
       "       [[0.780089  , 0.28662484, 0.68290024]]])"
      ]
     },
     "execution_count": 176,
     "metadata": {},
     "output_type": "execute_result"
    }
   ],
   "source": [
    "dLdlT[:,None,:]"
   ]
  },
  {
   "cell_type": "code",
   "execution_count": 179,
   "metadata": {},
   "outputs": [
    {
     "data": {
      "text/plain": [
       "(5, 3, 3)"
      ]
     },
     "execution_count": 179,
     "metadata": {},
     "output_type": "execute_result"
    }
   ],
   "source": [
    "dldx.shape"
   ]
  },
  {
   "cell_type": "code",
   "execution_count": 180,
   "metadata": {},
   "outputs": [
    {
     "data": {
      "text/plain": [
       "(5, 3)"
      ]
     },
     "execution_count": 180,
     "metadata": {},
     "output_type": "execute_result"
    }
   ],
   "source": [
    "dLdlT.shape"
   ]
  },
  {
   "cell_type": "code",
   "execution_count": 181,
   "metadata": {},
   "outputs": [
    {
     "data": {
      "text/plain": [
       "array([[ 0.76652487,  0.13270958, -0.89923445],\n",
       "       [-1.12976461,  0.85727269,  0.27249192],\n",
       "       [-0.35621816, -0.44515431,  0.80137248],\n",
       "       [ 0.3143953 , -1.30315542,  0.98876013],\n",
       "       [ 0.04119408,  0.01480059, -0.05599468]])"
      ]
     },
     "execution_count": 181,
     "metadata": {},
     "output_type": "execute_result"
    }
   ],
   "source": [
    "dLdxT = np.squeeze(np.matmul(dLdlT[:,None,:], dldx))\n",
    "dLdxT"
   ]
  },
  {
   "cell_type": "code",
   "execution_count": 182,
   "metadata": {
    "collapsed": true
   },
   "outputs": [],
   "source": [
    "def updateOutput(input):\n",
    "        # start with normalization for numerical stability\n",
    "        output = np.subtract(input, input.max(axis=1, keepdims=True))\n",
    "        \n",
    "        # Your code goes here. ################################################\n",
    "        output = output - np.log(np.sum(np.exp(output), axis=1, keepdims=True))\n",
    "        return output\n",
    "    \n",
    "def updateGradInput(input, gradOutput):\n",
    "        # Your code goes here. ################################################\n",
    "        local_derivative = np.zeros((gradOutput.shape[0], gradOutput.shape[1], gradOutput.shape[1]))\n",
    "        local_derivative[:, np.arange(gradOutput.shape[1]), np.arange(gradOutput.shape[1])] = 1.\n",
    "        local_softmax = np.exp(input)\n",
    "        local_softmax = np.exp(output)\n",
    "        local_softmax = local_softmax/local_softmax.sum(axis=1, keepdims=True)\n",
    "        local_derivative = local_derivative - local_softmax[:, None, :]\n",
    "        \n",
    "        gradInput = np.matmul(gradOutput[:, None, :], (local_derivative))[:, 0, :]\n",
    "\n",
    "        return gradInput"
   ]
  },
  {
   "cell_type": "code",
   "execution_count": 183,
   "metadata": {
    "collapsed": true
   },
   "outputs": [],
   "source": [
    "output = updateOutput(x_in)"
   ]
  },
  {
   "cell_type": "code",
   "execution_count": 184,
   "metadata": {},
   "outputs": [
    {
     "data": {
      "text/plain": [
       "array([[-2.12910891, -6.12910891, -0.12910891],\n",
       "       [-0.05094576, -3.05094576, -6.05094576],\n",
       "       [-0.69651049, -0.69651049, -5.69651049],\n",
       "       [-1.3139281 , -0.3139281 , -7.3139281 ],\n",
       "       [-0.8619948 , -1.8619948 , -0.8619948 ]])"
      ]
     },
     "execution_count": 184,
     "metadata": {},
     "output_type": "execute_result"
    }
   ],
   "source": [
    "output"
   ]
  },
  {
   "cell_type": "code",
   "execution_count": 185,
   "metadata": {},
   "outputs": [
    {
     "data": {
      "text/plain": [
       "array([[-2.12910891, -6.12910891, -0.12910891],\n",
       "       [-0.05094576, -3.05094576, -6.05094576],\n",
       "       [-0.69651049, -0.69651049, -5.69651049],\n",
       "       [-1.3139281 , -0.3139281 , -7.3139281 ],\n",
       "       [-0.8619948 , -1.8619948 , -0.8619948 ]])"
      ]
     },
     "execution_count": 185,
     "metadata": {},
     "output_type": "execute_result"
    }
   ],
   "source": [
    "special.log_softmax(x_in, axis=1)"
   ]
  },
  {
   "cell_type": "code",
   "execution_count": 186,
   "metadata": {
    "collapsed": true
   },
   "outputs": [],
   "source": [
    "local_derivative = np.zeros((dLdlT.shape[0], dLdlT.shape[1], dLdlT.shape[1]))\n",
    "local_derivative[:, np.arange(dLdlT.shape[1]), np.arange(dLdlT.shape[1])] = 1.\n",
    "local_softmax1 = np.exp(x_in)\n",
    "local_softmax2 = np.exp(output)\n",
    "local_softmax1 = local_softmax1/local_softmax1.sum(axis=1, keepdims=True)\n",
    "local_softmax2 = local_softmax2/local_softmax2.sum(axis=1, keepdims=True)\n",
    "local_derivative = local_derivative - local_softmax2[:, None, :]\n",
    "gradInput = np.matmul(dLdlT[:, None, :], (local_derivative))[:, 0, :]"
   ]
  },
  {
   "cell_type": "code",
   "execution_count": 187,
   "metadata": {},
   "outputs": [
    {
     "data": {
      "text/plain": [
       "array([[[ 8.81056764e-01, -2.17852136e-03, -8.78878243e-01],\n",
       "        [-1.18943236e-01,  9.97821479e-01, -8.78878243e-01],\n",
       "        [-1.18943236e-01, -2.17852136e-03,  1.21121757e-01]],\n",
       "\n",
       "       [[ 4.96697883e-02, -4.73141552e-02, -2.35563308e-03],\n",
       "        [-9.50330212e-01,  9.52685845e-01, -2.35563308e-03],\n",
       "        [-9.50330212e-01, -4.73141552e-02,  9.97644367e-01]],\n",
       "\n",
       "       [[ 5.01678831e-01, -4.98321169e-01, -3.35766163e-03],\n",
       "        [-4.98321169e-01,  5.01678831e-01, -3.35766163e-03],\n",
       "        [-4.98321169e-01, -4.98321169e-01,  9.96642338e-01]],\n",
       "\n",
       "       [[ 7.31237746e-01, -7.30571551e-01, -6.66195022e-04],\n",
       "        [-2.68762254e-01,  2.69428449e-01, -6.66195022e-04],\n",
       "        [-2.68762254e-01, -7.30571551e-01,  9.99333805e-01]],\n",
       "\n",
       "       [[ 5.77681202e-01, -1.55362403e-01, -4.22318798e-01],\n",
       "        [-4.22318798e-01,  8.44637597e-01, -4.22318798e-01],\n",
       "        [-4.22318798e-01, -1.55362403e-01,  5.77681202e-01]]])"
      ]
     },
     "execution_count": 187,
     "metadata": {},
     "output_type": "execute_result"
    }
   ],
   "source": [
    "local_derivative"
   ]
  },
  {
   "cell_type": "code",
   "execution_count": 189,
   "metadata": {},
   "outputs": [
    {
     "data": {
      "text/plain": [
       "array([[[ 8.81056764e-01, -2.17852136e-03, -8.78878243e-01],\n",
       "        [-1.18943236e-01,  9.97821479e-01, -8.78878243e-01],\n",
       "        [-1.18943236e-01, -2.17852136e-03,  1.21121757e-01]],\n",
       "\n",
       "       [[ 4.96697883e-02, -4.73141552e-02, -2.35563308e-03],\n",
       "        [-9.50330212e-01,  9.52685845e-01, -2.35563308e-03],\n",
       "        [-9.50330212e-01, -4.73141552e-02,  9.97644367e-01]],\n",
       "\n",
       "       [[ 5.01678831e-01, -4.98321169e-01, -3.35766163e-03],\n",
       "        [-4.98321169e-01,  5.01678831e-01, -3.35766163e-03],\n",
       "        [-4.98321169e-01, -4.98321169e-01,  9.96642338e-01]],\n",
       "\n",
       "       [[ 7.31237746e-01, -7.30571551e-01, -6.66195022e-04],\n",
       "        [-2.68762254e-01,  2.69428449e-01, -6.66195022e-04],\n",
       "        [-2.68762254e-01, -7.30571551e-01,  9.99333805e-01]],\n",
       "\n",
       "       [[ 5.77681202e-01, -1.55362403e-01, -4.22318798e-01],\n",
       "        [-4.22318798e-01,  8.44637597e-01, -4.22318798e-01],\n",
       "        [-4.22318798e-01, -1.55362403e-01,  5.77681202e-01]]])"
      ]
     },
     "execution_count": 189,
     "metadata": {},
     "output_type": "execute_result"
    }
   ],
   "source": [
    "dldx"
   ]
  },
  {
   "cell_type": "code",
   "execution_count": 190,
   "metadata": {},
   "outputs": [
    {
     "data": {
      "text/plain": [
       "array([[ 0.76652487,  0.13270958, -0.89923445],\n",
       "       [-1.12976461,  0.85727269,  0.27249192],\n",
       "       [-0.35621816, -0.44515431,  0.80137248],\n",
       "       [ 0.3143953 , -1.30315542,  0.98876013],\n",
       "       [ 0.04119408,  0.01480059, -0.05599468]])"
      ]
     },
     "execution_count": 190,
     "metadata": {},
     "output_type": "execute_result"
    }
   ],
   "source": [
    "gradInput"
   ]
  },
  {
   "cell_type": "code",
   "execution_count": 191,
   "metadata": {},
   "outputs": [
    {
     "data": {
      "text/plain": [
       "True"
      ]
     },
     "execution_count": 191,
     "metadata": {},
     "output_type": "execute_result"
    }
   ],
   "source": [
    "np.allclose(gradInput, dLdxT)"
   ]
  },
  {
   "cell_type": "markdown",
   "metadata": {},
   "source": [
    "----\n",
    "\n",
    "\n",
    "### Leaky RELU"
   ]
  },
  {
   "cell_type": "code",
   "execution_count": 192,
   "metadata": {
    "collapsed": true
   },
   "outputs": [],
   "source": [
    "x_in = np.array([[9.91645587e-01, 7.21258379e-01, 8.75551079e-02],\n",
    "       [2.21766037e-01, 3.02389876e-03, 3.09978134e-01],\n",
    "       [1.79992814e-01, 9.28676271e-01, 8.45949432e-01],\n",
    "       [3.38805255e-04, 4.87446783e-01, 8.94100048e-01],\n",
    "       [1.63766389e-01, 6.04098247e-01, 8.86437386e-02]])"
   ]
  },
  {
   "cell_type": "code",
   "execution_count": 193,
   "metadata": {},
   "outputs": [
    {
     "data": {
      "text/plain": [
       "array([[9.91645587e-01, 7.21258379e-01, 8.75551079e-02],\n",
       "       [2.21766037e-01, 3.02389876e-03, 3.09978134e-01],\n",
       "       [1.79992814e-01, 9.28676271e-01, 8.45949432e-01],\n",
       "       [3.38805255e-04, 4.87446783e-01, 8.94100048e-01],\n",
       "       [1.63766389e-01, 6.04098247e-01, 8.86437386e-02]])"
      ]
     },
     "execution_count": 193,
     "metadata": {},
     "output_type": "execute_result"
    }
   ],
   "source": [
    "x_in"
   ]
  },
  {
   "cell_type": "code",
   "execution_count": 194,
   "metadata": {},
   "outputs": [
    {
     "data": {
      "text/plain": [
       "array([[9.91645587e-01, 7.21258379e-01, 4.37775540e-03],\n",
       "       [1.10883019e-02, 1.51194938e-04, 1.54989067e-02],\n",
       "       [8.99964070e-03, 9.28676271e-01, 8.45949432e-01],\n",
       "       [1.69402628e-05, 2.43723392e-02, 8.94100048e-01],\n",
       "       [8.18831945e-03, 6.04098247e-01, 4.43218693e-03]])"
      ]
     },
     "execution_count": 194,
     "metadata": {},
     "output_type": "execute_result"
    }
   ],
   "source": [
    "np.where(x_in >= 0.5, x_in, 0.05*x_in)"
   ]
  },
  {
   "cell_type": "code",
   "execution_count": 195,
   "metadata": {},
   "outputs": [
    {
     "data": {
      "text/plain": [
       "array([[1.  , 1.  , 0.05],\n",
       "       [0.05, 0.05, 0.05],\n",
       "       [0.05, 1.  , 1.  ],\n",
       "       [0.05, 0.05, 1.  ],\n",
       "       [0.05, 1.  , 0.05]])"
      ]
     },
     "execution_count": 195,
     "metadata": {},
     "output_type": "execute_result"
    }
   ],
   "source": [
    "np.where(x_in >= 0.5, x_in, 0.05*x_in)/ x_in"
   ]
  },
  {
   "cell_type": "code",
   "execution_count": 196,
   "metadata": {
    "collapsed": true
   },
   "outputs": [],
   "source": [
    "a = np.where(x_in >= 0.5, x_in, -1)"
   ]
  },
  {
   "cell_type": "code",
   "execution_count": 197,
   "metadata": {},
   "outputs": [
    {
     "data": {
      "text/plain": [
       "array([[ 0.99164559,  0.72125838, -1.        ],\n",
       "       [-1.        , -1.        , -1.        ],\n",
       "       [-1.        ,  0.92867627,  0.84594943],\n",
       "       [-1.        , -1.        ,  0.89410005],\n",
       "       [-1.        ,  0.60409825, -1.        ]])"
      ]
     },
     "execution_count": 197,
     "metadata": {},
     "output_type": "execute_result"
    }
   ],
   "source": [
    "a"
   ]
  },
  {
   "cell_type": "code",
   "execution_count": 198,
   "metadata": {},
   "outputs": [
    {
     "data": {
      "text/plain": [
       "array([[[ 0.99164559],\n",
       "        [ 0.72125838],\n",
       "        [-1.        ]],\n",
       "\n",
       "       [[-1.        ],\n",
       "        [-1.        ],\n",
       "        [-1.        ]],\n",
       "\n",
       "       [[-1.        ],\n",
       "        [ 0.92867627],\n",
       "        [ 0.84594943]],\n",
       "\n",
       "       [[-1.        ],\n",
       "        [-1.        ],\n",
       "        [ 0.89410005]],\n",
       "\n",
       "       [[-1.        ],\n",
       "        [ 0.60409825],\n",
       "        [-1.        ]]])"
      ]
     },
     "execution_count": 198,
     "metadata": {},
     "output_type": "execute_result"
    }
   ],
   "source": [
    "a[:, :, None]"
   ]
  },
  {
   "cell_type": "code",
   "execution_count": 199,
   "metadata": {
    "collapsed": true
   },
   "outputs": [],
   "source": [
    "dLeakdx = np.eye(3) * a[:, :, None]"
   ]
  },
  {
   "cell_type": "code",
   "execution_count": 200,
   "metadata": {},
   "outputs": [
    {
     "data": {
      "text/plain": [
       "array([[[ 0.99164559,  0.        ,  0.        ],\n",
       "        [ 0.        ,  0.72125838,  0.        ],\n",
       "        [-0.        , -0.        , -1.        ]],\n",
       "\n",
       "       [[-1.        , -0.        , -0.        ],\n",
       "        [-0.        , -1.        , -0.        ],\n",
       "        [-0.        , -0.        , -1.        ]],\n",
       "\n",
       "       [[-1.        , -0.        , -0.        ],\n",
       "        [ 0.        ,  0.92867627,  0.        ],\n",
       "        [ 0.        ,  0.        ,  0.84594943]],\n",
       "\n",
       "       [[-1.        , -0.        , -0.        ],\n",
       "        [-0.        , -1.        , -0.        ],\n",
       "        [ 0.        ,  0.        ,  0.89410005]],\n",
       "\n",
       "       [[-1.        , -0.        , -0.        ],\n",
       "        [ 0.        ,  0.60409825,  0.        ],\n",
       "        [-0.        , -0.        , -1.        ]]])"
      ]
     },
     "execution_count": 200,
     "metadata": {},
     "output_type": "execute_result"
    }
   ],
   "source": [
    "dLeakdx"
   ]
  },
  {
   "cell_type": "code",
   "execution_count": 201,
   "metadata": {
    "collapsed": true
   },
   "outputs": [],
   "source": [
    "gradOutput = np.array([[[6, 3, 4]],\n",
    "\n",
    "       [[3, 2, 2]],\n",
    "\n",
    "       [[7, 5, 4]],\n",
    "\n",
    "       [[3, 4, 2]],\n",
    "\n",
    "       [[2, 5, 3]]])"
   ]
  },
  {
   "cell_type": "code",
   "execution_count": 202,
   "metadata": {},
   "outputs": [
    {
     "data": {
      "text/plain": [
       "array([[ 5.94987352,  2.16377514, -4.        ],\n",
       "       [-3.        , -2.        , -2.        ],\n",
       "       [-7.        ,  4.64338136,  3.38379773],\n",
       "       [-3.        , -4.        ,  1.7882001 ],\n",
       "       [-2.        ,  3.02049124, -3.        ]])"
      ]
     },
     "execution_count": 202,
     "metadata": {},
     "output_type": "execute_result"
    }
   ],
   "source": [
    "np.squeeze(np.matmul(gradOutput, dLeakdx))"
   ]
  },
  {
   "cell_type": "code",
   "execution_count": 203,
   "metadata": {},
   "outputs": [
    {
     "data": {
      "text/plain": [
       "array([[[ 5.94987352,  2.16377514, -4.        ]],\n",
       "\n",
       "       [[-3.        , -2.        , -2.        ]],\n",
       "\n",
       "       [[-7.        ,  4.64338136,  3.38379773]],\n",
       "\n",
       "       [[-3.        , -4.        ,  1.7882001 ]],\n",
       "\n",
       "       [[-2.        ,  3.02049124, -3.        ]]])"
      ]
     },
     "execution_count": 203,
     "metadata": {},
     "output_type": "execute_result"
    }
   ],
   "source": [
    "np.matmul(gradOutput, dLeakdx)"
   ]
  },
  {
   "cell_type": "code",
   "execution_count": 204,
   "metadata": {},
   "outputs": [
    {
     "data": {
      "text/plain": [
       "array([[ 5.94987352,  2.16377514, -4.        ],\n",
       "       [-3.        , -2.        , -2.        ],\n",
       "       [-7.        ,  4.64338136,  3.38379773],\n",
       "       [-3.        , -4.        ,  1.7882001 ],\n",
       "       [-2.        ,  3.02049124, -3.        ]])"
      ]
     },
     "execution_count": 204,
     "metadata": {},
     "output_type": "execute_result"
    }
   ],
   "source": [
    "np.matmul(gradOutput, dLeakdx)[:,0,:]"
   ]
  },
  {
   "cell_type": "markdown",
   "metadata": {},
   "source": [
    "----\n",
    "\n",
    "## ELU"
   ]
  },
  {
   "cell_type": "code",
   "execution_count": 205,
   "metadata": {},
   "outputs": [
    {
     "data": {
      "text/plain": [
       "array([[9.91645587e-01, 7.21258379e-01, 8.75551079e-02],\n",
       "       [2.21766037e-01, 3.02389876e-03, 3.09978134e-01],\n",
       "       [1.79992814e-01, 9.28676271e-01, 8.45949432e-01],\n",
       "       [3.38805255e-04, 4.87446783e-01, 8.94100048e-01],\n",
       "       [1.63766389e-01, 6.04098247e-01, 8.86437386e-02]])"
      ]
     },
     "execution_count": 205,
     "metadata": {},
     "output_type": "execute_result"
    }
   ],
   "source": [
    "x_in"
   ]
  },
  {
   "cell_type": "code",
   "execution_count": 206,
   "metadata": {
    "collapsed": true
   },
   "outputs": [],
   "source": [
    "alpha = 0.5"
   ]
  },
  {
   "cell_type": "code",
   "execution_count": 207,
   "metadata": {
    "collapsed": true
   },
   "outputs": [],
   "source": [
    "elu = np.where(x_in >= 0.5, x_in, alpha*(np.exp(x_in) - 1))"
   ]
  },
  {
   "cell_type": "code",
   "execution_count": 208,
   "metadata": {},
   "outputs": [
    {
     "data": {
      "text/plain": [
       "array([[9.91645587e-01, 7.21258379e-01, 4.57512066e-02],\n",
       "       [1.24139646e-01, 1.51423768e-03, 1.81697651e-01],\n",
       "       [9.86043800e-02, 9.28676271e-01, 8.45949432e-01],\n",
       "       [1.69431328e-04, 3.14076939e-01, 8.94100048e-01],\n",
       "       [8.89695517e-02, 6.04098247e-01, 4.63456516e-02]])"
      ]
     },
     "execution_count": 208,
     "metadata": {},
     "output_type": "execute_result"
    }
   ],
   "source": [
    "elu"
   ]
  },
  {
   "cell_type": "code",
   "execution_count": 209,
   "metadata": {
    "collapsed": true
   },
   "outputs": [],
   "source": [
    "dELUdx = np.eye(3) * np.where(elu >= 0.5, 1.0, elu+alpha)[:,:,None]"
   ]
  },
  {
   "cell_type": "code",
   "execution_count": 210,
   "metadata": {},
   "outputs": [
    {
     "data": {
      "text/plain": [
       "array([[[1.        , 0.        , 0.        ],\n",
       "        [0.        , 1.        , 0.        ],\n",
       "        [0.        , 0.        , 0.54575121]],\n",
       "\n",
       "       [[0.62413965, 0.        , 0.        ],\n",
       "        [0.        , 0.50151424, 0.        ],\n",
       "        [0.        , 0.        , 0.68169765]],\n",
       "\n",
       "       [[0.59860438, 0.        , 0.        ],\n",
       "        [0.        , 1.        , 0.        ],\n",
       "        [0.        , 0.        , 1.        ]],\n",
       "\n",
       "       [[0.50016943, 0.        , 0.        ],\n",
       "        [0.        , 0.81407694, 0.        ],\n",
       "        [0.        , 0.        , 1.        ]],\n",
       "\n",
       "       [[0.58896955, 0.        , 0.        ],\n",
       "        [0.        , 1.        , 0.        ],\n",
       "        [0.        , 0.        , 0.54634565]]])"
      ]
     },
     "execution_count": 210,
     "metadata": {},
     "output_type": "execute_result"
    }
   ],
   "source": [
    "dELUdx"
   ]
  },
  {
   "cell_type": "code",
   "execution_count": 211,
   "metadata": {},
   "outputs": [
    {
     "data": {
      "text/plain": [
       "array([[[6, 3, 4]],\n",
       "\n",
       "       [[3, 2, 2]],\n",
       "\n",
       "       [[7, 5, 4]],\n",
       "\n",
       "       [[3, 4, 2]],\n",
       "\n",
       "       [[2, 5, 3]]])"
      ]
     },
     "execution_count": 211,
     "metadata": {},
     "output_type": "execute_result"
    }
   ],
   "source": [
    "gradOutput"
   ]
  },
  {
   "cell_type": "code",
   "execution_count": 212,
   "metadata": {},
   "outputs": [
    {
     "data": {
      "text/plain": [
       "2.1830048263828736"
      ]
     },
     "execution_count": 212,
     "metadata": {},
     "output_type": "execute_result"
    }
   ],
   "source": [
    "4 * alpha * np.exp(8.75551079e-02)"
   ]
  },
  {
   "cell_type": "code",
   "execution_count": 213,
   "metadata": {
    "scrolled": true
   },
   "outputs": [
    {
     "data": {
      "text/plain": [
       "array([[6.        , 3.        , 2.18300483],\n",
       "       [1.87241894, 1.00302848, 1.3633953 ],\n",
       "       [4.19023066, 5.        , 4.        ],\n",
       "       [1.50050829, 3.25630776, 2.        ],\n",
       "       [1.1779391 , 5.        , 1.63903695]])"
      ]
     },
     "execution_count": 213,
     "metadata": {},
     "output_type": "execute_result"
    }
   ],
   "source": [
    "np.squeeze(np.matmul(gradOutput, dELUdx))"
   ]
  },
  {
   "cell_type": "code",
   "execution_count": 214,
   "metadata": {
    "collapsed": true
   },
   "outputs": [],
   "source": [
    "output = x_in.copy()"
   ]
  },
  {
   "cell_type": "code",
   "execution_count": 215,
   "metadata": {
    "collapsed": true
   },
   "outputs": [],
   "source": [
    "output[output < 0.5] = alpha * (np.exp(output[output < 0.5]) - 1)"
   ]
  },
  {
   "cell_type": "code",
   "execution_count": 216,
   "metadata": {},
   "outputs": [
    {
     "data": {
      "text/plain": [
       "array([[9.91645587e-01, 7.21258379e-01, 8.75551079e-02],\n",
       "       [2.21766037e-01, 3.02389876e-03, 3.09978134e-01],\n",
       "       [1.79992814e-01, 9.28676271e-01, 8.45949432e-01],\n",
       "       [3.38805255e-04, 4.87446783e-01, 8.94100048e-01],\n",
       "       [1.63766389e-01, 6.04098247e-01, 8.86437386e-02]])"
      ]
     },
     "execution_count": 216,
     "metadata": {},
     "output_type": "execute_result"
    }
   ],
   "source": [
    "x_in"
   ]
  },
  {
   "cell_type": "code",
   "execution_count": 217,
   "metadata": {},
   "outputs": [
    {
     "data": {
      "text/plain": [
       "array([[9.91645587e-01, 7.21258379e-01, 4.57512066e-02],\n",
       "       [1.24139646e-01, 1.51423768e-03, 1.81697651e-01],\n",
       "       [9.86043800e-02, 9.28676271e-01, 8.45949432e-01],\n",
       "       [1.69431328e-04, 3.14076939e-01, 8.94100048e-01],\n",
       "       [8.89695517e-02, 6.04098247e-01, 4.63456516e-02]])"
      ]
     },
     "execution_count": 217,
     "metadata": {},
     "output_type": "execute_result"
    }
   ],
   "source": [
    "output"
   ]
  },
  {
   "cell_type": "code",
   "execution_count": 218,
   "metadata": {},
   "outputs": [
    {
     "data": {
      "text/plain": [
       "array([[9.91645587e-01, 7.21258379e-01, 4.57512066e-02],\n",
       "       [1.24139646e-01, 1.51423768e-03, 1.81697651e-01],\n",
       "       [9.86043800e-02, 9.28676271e-01, 8.45949432e-01],\n",
       "       [1.69431328e-04, 3.14076939e-01, 8.94100048e-01],\n",
       "       [8.89695517e-02, 6.04098247e-01, 4.63456516e-02]])"
      ]
     },
     "execution_count": 218,
     "metadata": {},
     "output_type": "execute_result"
    }
   ],
   "source": [
    "elu"
   ]
  },
  {
   "cell_type": "code",
   "execution_count": 219,
   "metadata": {},
   "outputs": [
    {
     "data": {
      "text/plain": [
       "True"
      ]
     },
     "execution_count": 219,
     "metadata": {},
     "output_type": "execute_result"
    }
   ],
   "source": [
    "np.allclose(output, elu)"
   ]
  },
  {
   "cell_type": "code",
   "execution_count": 220,
   "metadata": {
    "collapsed": true
   },
   "outputs": [],
   "source": [
    "gradInput = np.squeeze(gradOutput).astype(float)"
   ]
  },
  {
   "cell_type": "code",
   "execution_count": 221,
   "metadata": {},
   "outputs": [
    {
     "data": {
      "text/plain": [
       "array([[6., 3., 4.],\n",
       "       [3., 2., 2.],\n",
       "       [7., 5., 4.],\n",
       "       [3., 4., 2.],\n",
       "       [2., 5., 3.]])"
      ]
     },
     "execution_count": 221,
     "metadata": {},
     "output_type": "execute_result"
    }
   ],
   "source": [
    "gradInput"
   ]
  },
  {
   "cell_type": "code",
   "execution_count": 222,
   "metadata": {},
   "outputs": [
    {
     "data": {
      "text/plain": [
       "2.1830048263828736"
      ]
     },
     "execution_count": 222,
     "metadata": {},
     "output_type": "execute_result"
    }
   ],
   "source": [
    "4 * (output[0][2] + alpha)"
   ]
  },
  {
   "cell_type": "code",
   "execution_count": 223,
   "metadata": {
    "collapsed": true
   },
   "outputs": [],
   "source": [
    "gradInput[x_in < 0.5] *= (output[x_in < 0.5] + alpha)"
   ]
  },
  {
   "cell_type": "code",
   "execution_count": 224,
   "metadata": {},
   "outputs": [
    {
     "data": {
      "text/plain": [
       "array([[6.        , 3.        , 2.18300483],\n",
       "       [1.87241894, 1.00302848, 1.3633953 ],\n",
       "       [4.19023066, 5.        , 4.        ],\n",
       "       [1.50050829, 3.25630776, 2.        ],\n",
       "       [1.1779391 , 5.        , 1.63903695]])"
      ]
     },
     "execution_count": 224,
     "metadata": {},
     "output_type": "execute_result"
    }
   ],
   "source": [
    "gradInput"
   ]
  },
  {
   "cell_type": "code",
   "execution_count": 225,
   "metadata": {},
   "outputs": [
    {
     "data": {
      "text/plain": [
       "array([[6.        , 3.        , 2.18300483],\n",
       "       [1.87241894, 1.00302848, 1.3633953 ],\n",
       "       [4.19023066, 5.        , 4.        ],\n",
       "       [1.50050829, 3.25630776, 2.        ],\n",
       "       [1.1779391 , 5.        , 1.63903695]])"
      ]
     },
     "execution_count": 225,
     "metadata": {},
     "output_type": "execute_result"
    }
   ],
   "source": [
    "np.squeeze(np.matmul(gradOutput, dELUdx))"
   ]
  },
  {
   "cell_type": "code",
   "execution_count": null,
   "metadata": {
    "collapsed": true
   },
   "outputs": [],
   "source": []
  },
  {
   "cell_type": "markdown",
   "metadata": {},
   "source": [
    "----\n",
    "\n",
    "# Softplus"
   ]
  },
  {
   "cell_type": "code",
   "execution_count": 226,
   "metadata": {},
   "outputs": [
    {
     "data": {
      "text/plain": [
       "array([[9.91645587e-01, 7.21258379e-01, 8.75551079e-02],\n",
       "       [2.21766037e-01, 3.02389876e-03, 3.09978134e-01],\n",
       "       [1.79992814e-01, 9.28676271e-01, 8.45949432e-01],\n",
       "       [3.38805255e-04, 4.87446783e-01, 8.94100048e-01],\n",
       "       [1.63766389e-01, 6.04098247e-01, 8.86437386e-02]])"
      ]
     },
     "execution_count": 226,
     "metadata": {},
     "output_type": "execute_result"
    }
   ],
   "source": [
    "x_in"
   ]
  },
  {
   "cell_type": "code",
   "execution_count": 227,
   "metadata": {
    "collapsed": true
   },
   "outputs": [],
   "source": [
    "s = np.exp(x_in) / (1 + np.exp(x_in))"
   ]
  },
  {
   "cell_type": "code",
   "execution_count": 228,
   "metadata": {},
   "outputs": [
    {
     "data": {
      "text/plain": [
       "array([[0.72941283, 0.67288406, 0.5218748 ],\n",
       "       [0.5552154 , 0.50075597, 0.57687992],\n",
       "       [0.54487711, 0.71680665, 0.69971675],\n",
       "       [0.5000847 , 0.61950478, 0.70973555],\n",
       "       [0.54085034, 0.64659336, 0.52214643]])"
      ]
     },
     "execution_count": 228,
     "metadata": {},
     "output_type": "execute_result"
    }
   ],
   "source": [
    "s"
   ]
  },
  {
   "cell_type": "code",
   "execution_count": 229,
   "metadata": {},
   "outputs": [
    {
     "data": {
      "text/plain": [
       "array([[[0.72941283, 0.        , 0.        ],\n",
       "        [0.        , 0.67288406, 0.        ],\n",
       "        [0.        , 0.        , 0.5218748 ]],\n",
       "\n",
       "       [[0.5552154 , 0.        , 0.        ],\n",
       "        [0.        , 0.50075597, 0.        ],\n",
       "        [0.        , 0.        , 0.57687992]],\n",
       "\n",
       "       [[0.54487711, 0.        , 0.        ],\n",
       "        [0.        , 0.71680665, 0.        ],\n",
       "        [0.        , 0.        , 0.69971675]],\n",
       "\n",
       "       [[0.5000847 , 0.        , 0.        ],\n",
       "        [0.        , 0.61950478, 0.        ],\n",
       "        [0.        , 0.        , 0.70973555]],\n",
       "\n",
       "       [[0.54085034, 0.        , 0.        ],\n",
       "        [0.        , 0.64659336, 0.        ],\n",
       "        [0.        , 0.        , 0.52214643]]])"
      ]
     },
     "execution_count": 229,
     "metadata": {},
     "output_type": "execute_result"
    }
   ],
   "source": [
    "dSoftdx = np.eye(3) * s[:, :, None]\n",
    "dSoftdx"
   ]
  },
  {
   "cell_type": "code",
   "execution_count": 230,
   "metadata": {},
   "outputs": [
    {
     "data": {
      "text/plain": [
       "array([[4.376477  , 2.01865218, 2.08749922],\n",
       "       [1.66564621, 1.00151195, 1.15375985],\n",
       "       [3.81413977, 3.58403326, 2.79886701],\n",
       "       [1.5002541 , 2.4780191 , 1.41947111],\n",
       "       [1.08170068, 3.2329668 , 1.5664393 ]])"
      ]
     },
     "execution_count": 230,
     "metadata": {},
     "output_type": "execute_result"
    }
   ],
   "source": [
    "np.squeeze(np.matmul(gradOutput, dSoftdx))"
   ]
  },
  {
   "cell_type": "code",
   "execution_count": 231,
   "metadata": {},
   "outputs": [
    {
     "data": {
      "text/plain": [
       "array([[[4.376477  , 2.01865218, 2.08749922],\n",
       "        [2.1882385 , 1.34576812, 1.04374961],\n",
       "        [5.10588984, 3.3644203 , 2.08749922],\n",
       "        [2.1882385 , 2.69153624, 1.04374961],\n",
       "        [1.45882567, 3.3644203 , 1.56562441]],\n",
       "\n",
       "       [[3.33129242, 1.50226792, 2.3075197 ],\n",
       "        [1.66564621, 1.00151195, 1.15375985],\n",
       "        [3.88650782, 2.50377987, 2.3075197 ],\n",
       "        [1.66564621, 2.0030239 , 1.15375985],\n",
       "        [1.11043081, 2.50377987, 1.73063977]],\n",
       "\n",
       "       [[3.26926266, 2.15041996, 2.79886701],\n",
       "        [1.63463133, 1.4336133 , 1.39943351],\n",
       "        [3.81413977, 3.58403326, 2.79886701],\n",
       "        [1.63463133, 2.86722661, 1.39943351],\n",
       "        [1.08975422, 3.58403326, 2.09915026]],\n",
       "\n",
       "       [[3.00050821, 1.85851433, 2.83894221],\n",
       "        [1.5002541 , 1.23900955, 1.41947111],\n",
       "        [3.50059291, 3.09752388, 2.83894221],\n",
       "        [1.5002541 , 2.4780191 , 1.41947111],\n",
       "        [1.0001694 , 3.09752388, 2.12920666]],\n",
       "\n",
       "       [[3.24510204, 1.93978008, 2.08858574],\n",
       "        [1.62255102, 1.29318672, 1.04429287],\n",
       "        [3.78595238, 3.2329668 , 2.08858574],\n",
       "        [1.62255102, 2.58637344, 1.04429287],\n",
       "        [1.08170068, 3.2329668 , 1.5664393 ]]])"
      ]
     },
     "execution_count": 231,
     "metadata": {},
     "output_type": "execute_result"
    }
   ],
   "source": [
    "np.matmul(np.squeeze(gradOutput), dSoftdx)"
   ]
  },
  {
   "cell_type": "markdown",
   "metadata": {},
   "source": [
    "---\n",
    "\n",
    "# Dropout"
   ]
  },
  {
   "cell_type": "code",
   "execution_count": 255,
   "metadata": {
    "collapsed": true
   },
   "outputs": [],
   "source": [
    "p = 0.5"
   ]
  },
  {
   "cell_type": "code",
   "execution_count": 256,
   "metadata": {},
   "outputs": [
    {
     "data": {
      "text/plain": [
       "array([[1., 1., 1.],\n",
       "       [1., 1., 1.],\n",
       "       [1., 1., 1.],\n",
       "       [1., 1., 1.],\n",
       "       [1., 1., 1.]])"
      ]
     },
     "execution_count": 256,
     "metadata": {},
     "output_type": "execute_result"
    }
   ],
   "source": [
    "np.ones_like(x_in)"
   ]
  },
  {
   "cell_type": "code",
   "execution_count": 259,
   "metadata": {},
   "outputs": [],
   "source": [
    "mask = np.random.binomial(1, 1 - p, x_in.shape)"
   ]
  },
  {
   "cell_type": "code",
   "execution_count": null,
   "metadata": {
    "collapsed": true
   },
   "outputs": [],
   "source": []
  },
  {
   "cell_type": "markdown",
   "metadata": {},
   "source": []
  }
 ],
 "metadata": {
  "kernelspec": {
   "display_name": "Python 3",
   "language": "python",
   "name": "python3"
  },
  "language_info": {
   "codemirror_mode": {
    "name": "ipython",
    "version": 3
   },
   "file_extension": ".py",
   "mimetype": "text/x-python",
   "name": "python",
   "nbconvert_exporter": "python",
   "pygments_lexer": "ipython3",
   "version": "3.6.4"
  }
 },
 "nbformat": 4,
 "nbformat_minor": 2
}
