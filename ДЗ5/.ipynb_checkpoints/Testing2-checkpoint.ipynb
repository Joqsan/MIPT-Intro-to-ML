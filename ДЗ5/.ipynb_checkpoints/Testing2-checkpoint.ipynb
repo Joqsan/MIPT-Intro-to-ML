{
 "cells": [
  {
   "cell_type": "code",
   "execution_count": 1,
   "metadata": {
    "collapsed": true
   },
   "outputs": [],
   "source": [
    "import numpy as np"
   ]
  },
  {
   "cell_type": "code",
   "execution_count": 2,
   "metadata": {},
   "outputs": [
    {
     "data": {
      "text/plain": [
       "(5, 10)"
      ]
     },
     "execution_count": 2,
     "metadata": {},
     "output_type": "execute_result"
    }
   ],
   "source": [
    "np.random.randn(5, 10).shape"
   ]
  },
  {
   "cell_type": "code",
   "execution_count": 3,
   "metadata": {
    "collapsed": true
   },
   "outputs": [],
   "source": [
    "stdv = 0.05"
   ]
  },
  {
   "cell_type": "code",
   "execution_count": 4,
   "metadata": {},
   "outputs": [
    {
     "data": {
      "text/plain": [
       "array([ 0.03273288,  0.02563725,  0.03212825, -0.03496989])"
      ]
     },
     "execution_count": 4,
     "metadata": {},
     "output_type": "execute_result"
    }
   ],
   "source": [
    "np.random.uniform(-stdv, stdv, size = 4)"
   ]
  },
  {
   "cell_type": "code",
   "execution_count": 5,
   "metadata": {},
   "outputs": [
    {
     "data": {
      "text/plain": [
       "array([[0.00351512, 0.01409341, 0.04161569, 0.00850769]])"
      ]
     },
     "execution_count": 5,
     "metadata": {},
     "output_type": "execute_result"
    }
   ],
   "source": [
    "b = np.random.uniform(-stdv, stdv, size = (1,4))\n",
    "b"
   ]
  },
  {
   "cell_type": "code",
   "execution_count": 6,
   "metadata": {
    "collapsed": true
   },
   "outputs": [],
   "source": [
    "n_in = 3\n",
    "n_out = 4"
   ]
  },
  {
   "cell_type": "code",
   "execution_count": 7,
   "metadata": {
    "collapsed": true
   },
   "outputs": [],
   "source": [
    "W = np.random.random((n_in, n_out))"
   ]
  },
  {
   "cell_type": "code",
   "execution_count": 8,
   "metadata": {},
   "outputs": [
    {
     "data": {
      "text/plain": [
       "array([[0.58484613, 0.38305135, 0.68919304, 0.21432027],\n",
       "       [0.34407862, 0.33695962, 0.44547113, 0.66217726],\n",
       "       [0.77416698, 0.91638792, 0.44961221, 0.6994051 ]])"
      ]
     },
     "execution_count": 8,
     "metadata": {},
     "output_type": "execute_result"
    }
   ],
   "source": [
    "W"
   ]
  },
  {
   "cell_type": "code",
   "execution_count": 9,
   "metadata": {
    "collapsed": true
   },
   "outputs": [],
   "source": [
    "gradOutput = np.random.random((1, n_out))"
   ]
  },
  {
   "cell_type": "code",
   "execution_count": 10,
   "metadata": {},
   "outputs": [
    {
     "data": {
      "text/plain": [
       "array([[0.76060749, 0.7521001 , 0.96864701]])"
      ]
     },
     "execution_count": 10,
     "metadata": {},
     "output_type": "execute_result"
    }
   ],
   "source": [
    "gradOutput.dot(W.T)"
   ]
  },
  {
   "cell_type": "code",
   "execution_count": 11,
   "metadata": {},
   "outputs": [
    {
     "data": {
      "text/plain": [
       "array([[0.01949418, 0.36600221, 0.38613061],\n",
       "       [0.52957356, 0.08695752, 0.7351342 ]])"
      ]
     },
     "execution_count": 11,
     "metadata": {},
     "output_type": "execute_result"
    }
   ],
   "source": [
    "x_in = np.random.random((2, n_in))\n",
    "x_in"
   ]
  },
  {
   "cell_type": "code",
   "execution_count": 12,
   "metadata": {},
   "outputs": [
    {
     "data": {
      "text/plain": [
       "array([[[0.01949418, 0.36600221, 0.38613061]],\n",
       "\n",
       "       [[0.52957356, 0.08695752, 0.7351342 ]]])"
      ]
     },
     "execution_count": 12,
     "metadata": {},
     "output_type": "execute_result"
    }
   ],
   "source": [
    "x_in[:, None, :]"
   ]
  },
  {
   "cell_type": "code",
   "execution_count": 13,
   "metadata": {},
   "outputs": [
    {
     "data": {
      "text/plain": [
       "array([[0.43706302, 0.01163157, 0.56339053, 0.52376079]])"
      ]
     },
     "execution_count": 13,
     "metadata": {},
     "output_type": "execute_result"
    }
   ],
   "source": [
    "gradOutput"
   ]
  },
  {
   "cell_type": "code",
   "execution_count": 14,
   "metadata": {},
   "outputs": [
    {
     "data": {
      "text/plain": [
       "array([[[0.43706302],\n",
       "        [0.01163157],\n",
       "        [0.56339053],\n",
       "        [0.52376079]]])"
      ]
     },
     "execution_count": 14,
     "metadata": {},
     "output_type": "execute_result"
    }
   ],
   "source": [
    "gradOutput[:,:, None]"
   ]
  },
  {
   "cell_type": "code",
   "execution_count": 15,
   "metadata": {},
   "outputs": [
    {
     "data": {
      "text/plain": [
       "array([[[8.52018544e-03, 1.59966033e-01, 1.68763410e-01],\n",
       "        [2.26747855e-04, 4.25717903e-03, 4.49130379e-03],\n",
       "        [1.09828366e-02, 2.06202179e-01, 2.17542326e-01],\n",
       "        [1.02102873e-02, 1.91697607e-01, 2.02240070e-01]],\n",
       "\n",
       "       [[2.31457019e-01, 3.80059183e-02, 3.21299976e-01],\n",
       "        [6.15976999e-03, 1.01145222e-03, 8.55076229e-03],\n",
       "        [2.98356724e-01, 4.89910454e-02, 4.14167645e-01],\n",
       "        [2.77369863e-01, 4.55449414e-02, 3.85034468e-01]]])"
      ]
     },
     "execution_count": 15,
     "metadata": {},
     "output_type": "execute_result"
    }
   ],
   "source": [
    "x_in[:, None, :] * gradOutput[:,:, None]"
   ]
  },
  {
   "cell_type": "code",
   "execution_count": 16,
   "metadata": {
    "collapsed": true
   },
   "outputs": [],
   "source": [
    "n_batch = 5"
   ]
  },
  {
   "cell_type": "code",
   "execution_count": 17,
   "metadata": {},
   "outputs": [
    {
     "data": {
      "text/plain": [
       "array([[[2, 4, 5]],\n",
       "\n",
       "       [[3, 0, 1]],\n",
       "\n",
       "       [[6, 3, 1]],\n",
       "\n",
       "       [[1, 3, 1]],\n",
       "\n",
       "       [[9, 9, 4]]])"
      ]
     },
     "execution_count": 17,
     "metadata": {},
     "output_type": "execute_result"
    }
   ],
   "source": [
    "x_in = np.random.randint(0, 10, size=(n_batch, n_in))\n",
    "x_in[:, None, :]"
   ]
  },
  {
   "cell_type": "code",
   "execution_count": 18,
   "metadata": {},
   "outputs": [
    {
     "data": {
      "text/plain": [
       "array([[2, 4, 5],\n",
       "       [3, 0, 1],\n",
       "       [6, 3, 1],\n",
       "       [1, 3, 1],\n",
       "       [9, 9, 4]])"
      ]
     },
     "execution_count": 18,
     "metadata": {},
     "output_type": "execute_result"
    }
   ],
   "source": [
    "x_in"
   ]
  },
  {
   "cell_type": "code",
   "execution_count": 19,
   "metadata": {
    "scrolled": false
   },
   "outputs": [
    {
     "data": {
      "text/plain": [
       "array([[[1],\n",
       "        [6],\n",
       "        [0],\n",
       "        [3]],\n",
       "\n",
       "       [[7],\n",
       "        [2],\n",
       "        [5],\n",
       "        [6]],\n",
       "\n",
       "       [[9],\n",
       "        [6],\n",
       "        [7],\n",
       "        [7]],\n",
       "\n",
       "       [[0],\n",
       "        [0],\n",
       "        [8],\n",
       "        [0]],\n",
       "\n",
       "       [[5],\n",
       "        [6],\n",
       "        [6],\n",
       "        [3]]])"
      ]
     },
     "execution_count": 19,
     "metadata": {},
     "output_type": "execute_result"
    }
   ],
   "source": [
    "dx_out = np.random.randint(0, 10, size=(n_batch, n_out))\n",
    "dx_out[:, :, None]"
   ]
  },
  {
   "cell_type": "code",
   "execution_count": 20,
   "metadata": {},
   "outputs": [
    {
     "data": {
      "text/plain": [
       "array([[1, 6, 0, 3],\n",
       "       [7, 2, 5, 6],\n",
       "       [9, 6, 7, 7],\n",
       "       [0, 0, 8, 0],\n",
       "       [5, 6, 6, 3]])"
      ]
     },
     "execution_count": 20,
     "metadata": {},
     "output_type": "execute_result"
    }
   ],
   "source": [
    "dx_out"
   ]
  },
  {
   "cell_type": "markdown",
   "metadata": {},
   "source": [
    "for `n_batch` $> 1$, `np.outer` doesn't work as expected"
   ]
  },
  {
   "cell_type": "code",
   "execution_count": 21,
   "metadata": {},
   "outputs": [
    {
     "data": {
      "text/plain": [
       "array([[ 2,  4,  5,  3,  0,  1,  6,  3,  1,  1,  3,  1,  9,  9,  4],\n",
       "       [12, 24, 30, 18,  0,  6, 36, 18,  6,  6, 18,  6, 54, 54, 24],\n",
       "       [ 0,  0,  0,  0,  0,  0,  0,  0,  0,  0,  0,  0,  0,  0,  0],\n",
       "       [ 6, 12, 15,  9,  0,  3, 18,  9,  3,  3,  9,  3, 27, 27, 12],\n",
       "       [14, 28, 35, 21,  0,  7, 42, 21,  7,  7, 21,  7, 63, 63, 28],\n",
       "       [ 4,  8, 10,  6,  0,  2, 12,  6,  2,  2,  6,  2, 18, 18,  8],\n",
       "       [10, 20, 25, 15,  0,  5, 30, 15,  5,  5, 15,  5, 45, 45, 20],\n",
       "       [12, 24, 30, 18,  0,  6, 36, 18,  6,  6, 18,  6, 54, 54, 24],\n",
       "       [18, 36, 45, 27,  0,  9, 54, 27,  9,  9, 27,  9, 81, 81, 36],\n",
       "       [12, 24, 30, 18,  0,  6, 36, 18,  6,  6, 18,  6, 54, 54, 24],\n",
       "       [14, 28, 35, 21,  0,  7, 42, 21,  7,  7, 21,  7, 63, 63, 28],\n",
       "       [14, 28, 35, 21,  0,  7, 42, 21,  7,  7, 21,  7, 63, 63, 28],\n",
       "       [ 0,  0,  0,  0,  0,  0,  0,  0,  0,  0,  0,  0,  0,  0,  0],\n",
       "       [ 0,  0,  0,  0,  0,  0,  0,  0,  0,  0,  0,  0,  0,  0,  0],\n",
       "       [16, 32, 40, 24,  0,  8, 48, 24,  8,  8, 24,  8, 72, 72, 32],\n",
       "       [ 0,  0,  0,  0,  0,  0,  0,  0,  0,  0,  0,  0,  0,  0,  0],\n",
       "       [10, 20, 25, 15,  0,  5, 30, 15,  5,  5, 15,  5, 45, 45, 20],\n",
       "       [12, 24, 30, 18,  0,  6, 36, 18,  6,  6, 18,  6, 54, 54, 24],\n",
       "       [12, 24, 30, 18,  0,  6, 36, 18,  6,  6, 18,  6, 54, 54, 24],\n",
       "       [ 6, 12, 15,  9,  0,  3, 18,  9,  3,  3,  9,  3, 27, 27, 12]])"
      ]
     },
     "execution_count": 21,
     "metadata": {},
     "output_type": "execute_result"
    }
   ],
   "source": [
    "np.outer(x_in, dx_out).T"
   ]
  },
  {
   "cell_type": "code",
   "execution_count": 22,
   "metadata": {},
   "outputs": [
    {
     "data": {
      "text/plain": [
       "array([[[ 2,  4,  5],\n",
       "        [12, 24, 30],\n",
       "        [ 0,  0,  0],\n",
       "        [ 6, 12, 15]],\n",
       "\n",
       "       [[21,  0,  7],\n",
       "        [ 6,  0,  2],\n",
       "        [15,  0,  5],\n",
       "        [18,  0,  6]],\n",
       "\n",
       "       [[54, 27,  9],\n",
       "        [36, 18,  6],\n",
       "        [42, 21,  7],\n",
       "        [42, 21,  7]],\n",
       "\n",
       "       [[ 0,  0,  0],\n",
       "        [ 0,  0,  0],\n",
       "        [ 8, 24,  8],\n",
       "        [ 0,  0,  0]],\n",
       "\n",
       "       [[45, 45, 20],\n",
       "        [54, 54, 24],\n",
       "        [54, 54, 24],\n",
       "        [27, 27, 12]]])"
      ]
     },
     "execution_count": 22,
     "metadata": {},
     "output_type": "execute_result"
    }
   ],
   "source": [
    "dx_out[:, :, None] * x_in[:, None, :]"
   ]
  },
  {
   "cell_type": "code",
   "execution_count": 23,
   "metadata": {},
   "outputs": [
    {
     "data": {
      "text/plain": [
       "array([[[ 2,  4,  5],\n",
       "        [12, 24, 30],\n",
       "        [ 0,  0,  0],\n",
       "        [ 6, 12, 15]],\n",
       "\n",
       "       [[21,  0,  7],\n",
       "        [ 6,  0,  2],\n",
       "        [15,  0,  5],\n",
       "        [18,  0,  6]],\n",
       "\n",
       "       [[54, 27,  9],\n",
       "        [36, 18,  6],\n",
       "        [42, 21,  7],\n",
       "        [42, 21,  7]],\n",
       "\n",
       "       [[ 0,  0,  0],\n",
       "        [ 0,  0,  0],\n",
       "        [ 8, 24,  8],\n",
       "        [ 0,  0,  0]],\n",
       "\n",
       "       [[45, 45, 20],\n",
       "        [54, 54, 24],\n",
       "        [54, 54, 24],\n",
       "        [27, 27, 12]]])"
      ]
     },
     "execution_count": 23,
     "metadata": {},
     "output_type": "execute_result"
    }
   ],
   "source": [
    "result = x_in[:, None, :] * dx_out[:, :, None]\n",
    "result"
   ]
  },
  {
   "cell_type": "code",
   "execution_count": 24,
   "metadata": {},
   "outputs": [
    {
     "data": {
      "text/plain": [
       "array([[122,  76,  41],\n",
       "       [108,  96,  62],\n",
       "       [119,  99,  44],\n",
       "       [ 93,  60,  40]])"
      ]
     },
     "execution_count": 24,
     "metadata": {},
     "output_type": "execute_result"
    }
   ],
   "source": [
    "np.sum(result, axis=0)"
   ]
  },
  {
   "cell_type": "code",
   "execution_count": 25,
   "metadata": {},
   "outputs": [
    {
     "data": {
      "text/plain": [
       "array([[1, 6, 0, 3],\n",
       "       [7, 2, 5, 6],\n",
       "       [9, 6, 7, 7],\n",
       "       [0, 0, 8, 0],\n",
       "       [5, 6, 6, 3]])"
      ]
     },
     "execution_count": 25,
     "metadata": {},
     "output_type": "execute_result"
    }
   ],
   "source": [
    "dx_out"
   ]
  },
  {
   "cell_type": "code",
   "execution_count": 26,
   "metadata": {},
   "outputs": [
    {
     "data": {
      "text/plain": [
       "array([22, 20, 26, 19])"
      ]
     },
     "execution_count": 26,
     "metadata": {},
     "output_type": "execute_result"
    }
   ],
   "source": [
    "np.sum(dx_out, axis=0)"
   ]
  },
  {
   "cell_type": "code",
   "execution_count": 27,
   "metadata": {
    "collapsed": true
   },
   "outputs": [],
   "source": [
    "s = x_in[:, None, :]"
   ]
  },
  {
   "cell_type": "code",
   "execution_count": 28,
   "metadata": {},
   "outputs": [
    {
     "data": {
      "text/plain": [
       "array([[[2, 4, 5]],\n",
       "\n",
       "       [[3, 0, 1]],\n",
       "\n",
       "       [[6, 3, 1]],\n",
       "\n",
       "       [[1, 3, 1]],\n",
       "\n",
       "       [[9, 9, 4]]])"
      ]
     },
     "execution_count": 28,
     "metadata": {},
     "output_type": "execute_result"
    }
   ],
   "source": [
    "s"
   ]
  },
  {
   "cell_type": "code",
   "execution_count": 29,
   "metadata": {},
   "outputs": [
    {
     "data": {
      "text/plain": [
       "(5, 1, 3)"
      ]
     },
     "execution_count": 29,
     "metadata": {},
     "output_type": "execute_result"
    }
   ],
   "source": [
    "s.shape"
   ]
  },
  {
   "cell_type": "code",
   "execution_count": 30,
   "metadata": {},
   "outputs": [
    {
     "data": {
      "text/plain": [
       "array([[2, 4, 5],\n",
       "       [3, 0, 1],\n",
       "       [6, 3, 1],\n",
       "       [1, 3, 1],\n",
       "       [9, 9, 4]])"
      ]
     },
     "execution_count": 30,
     "metadata": {},
     "output_type": "execute_result"
    }
   ],
   "source": [
    "x_in"
   ]
  },
  {
   "cell_type": "code",
   "execution_count": 31,
   "metadata": {},
   "outputs": [
    {
     "data": {
      "text/plain": [
       "(5, 3)"
      ]
     },
     "execution_count": 31,
     "metadata": {},
     "output_type": "execute_result"
    }
   ],
   "source": [
    "x_in.shape"
   ]
  },
  {
   "cell_type": "code",
   "execution_count": 32,
   "metadata": {},
   "outputs": [
    {
     "data": {
      "text/plain": [
       "3"
      ]
     },
     "execution_count": 32,
     "metadata": {},
     "output_type": "execute_result"
    }
   ],
   "source": [
    "s.ndim"
   ]
  },
  {
   "cell_type": "markdown",
   "metadata": {},
   "source": [
    "### ========="
   ]
  },
  {
   "cell_type": "code",
   "execution_count": 33,
   "metadata": {},
   "outputs": [
    {
     "data": {
      "text/plain": [
       "array([[[1],\n",
       "        [6],\n",
       "        [0],\n",
       "        [3]],\n",
       "\n",
       "       [[7],\n",
       "        [2],\n",
       "        [5],\n",
       "        [6]],\n",
       "\n",
       "       [[9],\n",
       "        [6],\n",
       "        [7],\n",
       "        [7]],\n",
       "\n",
       "       [[0],\n",
       "        [0],\n",
       "        [8],\n",
       "        [0]],\n",
       "\n",
       "       [[5],\n",
       "        [6],\n",
       "        [6],\n",
       "        [3]]])"
      ]
     },
     "execution_count": 33,
     "metadata": {},
     "output_type": "execute_result"
    }
   ],
   "source": [
    "d = dx_out[:, :, None]\n",
    "d"
   ]
  },
  {
   "cell_type": "code",
   "execution_count": 34,
   "metadata": {},
   "outputs": [
    {
     "data": {
      "text/plain": [
       "(5, 4, 1)"
      ]
     },
     "execution_count": 34,
     "metadata": {},
     "output_type": "execute_result"
    }
   ],
   "source": [
    "d.shape"
   ]
  },
  {
   "cell_type": "code",
   "execution_count": 35,
   "metadata": {},
   "outputs": [
    {
     "data": {
      "text/plain": [
       "array([[1, 6, 0, 3],\n",
       "       [7, 2, 5, 6],\n",
       "       [9, 6, 7, 7],\n",
       "       [0, 0, 8, 0],\n",
       "       [5, 6, 6, 3]])"
      ]
     },
     "execution_count": 35,
     "metadata": {},
     "output_type": "execute_result"
    }
   ],
   "source": [
    "dx_out"
   ]
  },
  {
   "cell_type": "code",
   "execution_count": 36,
   "metadata": {},
   "outputs": [
    {
     "data": {
      "text/plain": [
       "(5, 4)"
      ]
     },
     "execution_count": 36,
     "metadata": {},
     "output_type": "execute_result"
    }
   ],
   "source": [
    "dx_out.shape"
   ]
  },
  {
   "cell_type": "code",
   "execution_count": 37,
   "metadata": {},
   "outputs": [
    {
     "data": {
      "text/plain": [
       "array([[3],\n",
       "       [4],\n",
       "       [5],\n",
       "       [6],\n",
       "       [7],\n",
       "       [8],\n",
       "       [9]])"
      ]
     },
     "execution_count": 37,
     "metadata": {},
     "output_type": "execute_result"
    }
   ],
   "source": [
    "np.arange(3, 10)[:, None]"
   ]
  },
  {
   "cell_type": "markdown",
   "metadata": {},
   "source": [
    "A way to understand numpy array:\n",
    "\n",
    "When dealing with $0$, $1$ or $2$ dimensional array, some of us try to give an interpretation through scalars, vectors and matrices. This is fine, since the definitions coincide but how od we picture and array of $(n, m, p)$ dimensions? \n",
    "\n",
    "- If `s` is a `(n, m)`-matrix and `d` is a `(n, q)`-matrix, then what does `s[:, None, :]` or `d[:,:, None]` mean? \n",
    "- Why does `s[:, None, :] * d[:,:, None]` work and what does it give?\n",
    "\n",
    "One way of understanding this is, instead of looking at a $n$-dimensional array as an _array of elements_ we can look at it as an _array of arrays_.\n",
    "\n",
    "- shape `(5, 4)`:\n",
    "    - There are `5` rows. Each of those rows is an array of shape `(4,)`. That is and array of `4` elements.\n",
    "    \n",
    "    \n",
    "- shape `(5, 1, 3)`:\n",
    "    - There are `5` rows. Let's look at one of them. That row consists of a `(1, 3)` array. That is, in this row there is just `1` array of 3 elements.\n",
    "    \n",
    "    \n",
    "- shape `(5, 4, 1)`: \n",
    "    - There are `5` rows. Let's look at one of them. That row consists of a `(4, 1)` array. That is, in this row there are `4` different arrays, each containing 1 element."
   ]
  },
  {
   "cell_type": "code",
   "execution_count": 38,
   "metadata": {},
   "outputs": [
    {
     "data": {
      "text/plain": [
       "array([[[2, 4, 5]],\n",
       "\n",
       "       [[3, 0, 1]],\n",
       "\n",
       "       [[6, 3, 1]],\n",
       "\n",
       "       [[1, 3, 1]],\n",
       "\n",
       "       [[9, 9, 4]]])"
      ]
     },
     "execution_count": 38,
     "metadata": {},
     "output_type": "execute_result"
    }
   ],
   "source": [
    "x_in[:, None, :]"
   ]
  },
  {
   "cell_type": "code",
   "execution_count": 39,
   "metadata": {},
   "outputs": [
    {
     "data": {
      "text/plain": [
       "array([[[1],\n",
       "        [6],\n",
       "        [0],\n",
       "        [3]],\n",
       "\n",
       "       [[7],\n",
       "        [2],\n",
       "        [5],\n",
       "        [6]],\n",
       "\n",
       "       [[9],\n",
       "        [6],\n",
       "        [7],\n",
       "        [7]],\n",
       "\n",
       "       [[0],\n",
       "        [0],\n",
       "        [8],\n",
       "        [0]],\n",
       "\n",
       "       [[5],\n",
       "        [6],\n",
       "        [6],\n",
       "        [3]]])"
      ]
     },
     "execution_count": 39,
     "metadata": {},
     "output_type": "execute_result"
    }
   ],
   "source": [
    "dx_out[:, :, None]"
   ]
  },
  {
   "cell_type": "code",
   "execution_count": 40,
   "metadata": {},
   "outputs": [
    {
     "data": {
      "text/plain": [
       "array([[[ 2,  4,  5],\n",
       "        [12, 24, 30],\n",
       "        [ 0,  0,  0],\n",
       "        [ 6, 12, 15]],\n",
       "\n",
       "       [[21,  0,  7],\n",
       "        [ 6,  0,  2],\n",
       "        [15,  0,  5],\n",
       "        [18,  0,  6]],\n",
       "\n",
       "       [[54, 27,  9],\n",
       "        [36, 18,  6],\n",
       "        [42, 21,  7],\n",
       "        [42, 21,  7]],\n",
       "\n",
       "       [[ 0,  0,  0],\n",
       "        [ 0,  0,  0],\n",
       "        [ 8, 24,  8],\n",
       "        [ 0,  0,  0]],\n",
       "\n",
       "       [[45, 45, 20],\n",
       "        [54, 54, 24],\n",
       "        [54, 54, 24],\n",
       "        [27, 27, 12]]])"
      ]
     },
     "execution_count": 40,
     "metadata": {},
     "output_type": "execute_result"
    }
   ],
   "source": [
    "dx_out[:, :, None] * x_in[:, None, :]"
   ]
  },
  {
   "cell_type": "code",
   "execution_count": 41,
   "metadata": {},
   "outputs": [
    {
     "data": {
      "text/plain": [
       "array([[[ 2,  4,  5],\n",
       "        [12, 24, 30],\n",
       "        [ 0,  0,  0],\n",
       "        [ 6, 12, 15]],\n",
       "\n",
       "       [[21,  0,  7],\n",
       "        [ 6,  0,  2],\n",
       "        [15,  0,  5],\n",
       "        [18,  0,  6]],\n",
       "\n",
       "       [[54, 27,  9],\n",
       "        [36, 18,  6],\n",
       "        [42, 21,  7],\n",
       "        [42, 21,  7]],\n",
       "\n",
       "       [[ 0,  0,  0],\n",
       "        [ 0,  0,  0],\n",
       "        [ 8, 24,  8],\n",
       "        [ 0,  0,  0]],\n",
       "\n",
       "       [[45, 45, 20],\n",
       "        [54, 54, 24],\n",
       "        [54, 54, 24],\n",
       "        [27, 27, 12]]])"
      ]
     },
     "execution_count": 41,
     "metadata": {},
     "output_type": "execute_result"
    }
   ],
   "source": [
    "dx_out[:, :, None] * x_in[:, None, :]"
   ]
  },
  {
   "cell_type": "code",
   "execution_count": 42,
   "metadata": {},
   "outputs": [
    {
     "data": {
      "text/plain": [
       "True"
      ]
     },
     "execution_count": 42,
     "metadata": {},
     "output_type": "execute_result"
    }
   ],
   "source": [
    "(dx_out[:, :, None] * x_in[:, None, :]).shape == (dx_out[:, :, None] * x_in[:, None, :]).shape"
   ]
  },
  {
   "cell_type": "code",
   "execution_count": 43,
   "metadata": {},
   "outputs": [
    {
     "data": {
      "text/plain": [
       "(5, 4, 3)"
      ]
     },
     "execution_count": 43,
     "metadata": {},
     "output_type": "execute_result"
    }
   ],
   "source": [
    "(dx_out[:, :, None] * x_in[:, None, :]).shape"
   ]
  },
  {
   "cell_type": "code",
   "execution_count": 44,
   "metadata": {},
   "outputs": [
    {
     "data": {
      "text/plain": [
       "(5, 4, 3)"
      ]
     },
     "execution_count": 44,
     "metadata": {},
     "output_type": "execute_result"
    }
   ],
   "source": [
    "(dx_out[:, :, None] * x_in[:, None, :]).shape"
   ]
  },
  {
   "cell_type": "code",
   "execution_count": 45,
   "metadata": {
    "collapsed": true
   },
   "outputs": [],
   "source": [
    "def log_smax(x_in):\n",
    "    \n",
    "    x_out = np.subtract(x_in, x_in.max(axis=1, keepdims=True))\n",
    "    \n",
    "    x_out = x_out - np.log(np.sum(np.exp(x_out), axis=1, keepdims=True))\n",
    "    \n",
    "    return x_out"
   ]
  },
  {
   "cell_type": "code",
   "execution_count": 46,
   "metadata": {},
   "outputs": [
    {
     "data": {
      "text/plain": [
       "array([[2, 4, 5],\n",
       "       [3, 0, 1],\n",
       "       [6, 3, 1],\n",
       "       [1, 3, 1],\n",
       "       [9, 9, 4]])"
      ]
     },
     "execution_count": 46,
     "metadata": {},
     "output_type": "execute_result"
    }
   ],
   "source": [
    "x_in"
   ]
  },
  {
   "cell_type": "code",
   "execution_count": 47,
   "metadata": {},
   "outputs": [
    {
     "data": {
      "text/plain": [
       "array([[-3.34901222, -1.34901222, -0.34901222],\n",
       "       [-0.16984602, -3.16984602, -2.16984602],\n",
       "       [-0.05498524, -3.05498524, -5.05498524],\n",
       "       [-2.23954477, -0.23954477, -2.23954477],\n",
       "       [-0.69651049, -0.69651049, -5.69651049]])"
      ]
     },
     "execution_count": 47,
     "metadata": {},
     "output_type": "execute_result"
    }
   ],
   "source": [
    "log_smax(x_in)"
   ]
  },
  {
   "cell_type": "code",
   "execution_count": 48,
   "metadata": {
    "collapsed": true
   },
   "outputs": [],
   "source": [
    "from scipy import special"
   ]
  },
  {
   "cell_type": "code",
   "execution_count": 49,
   "metadata": {
    "scrolled": true
   },
   "outputs": [
    {
     "data": {
      "text/plain": [
       "array([[-3.34901222, -1.34901222, -0.34901222],\n",
       "       [-0.16984602, -3.16984602, -2.16984602],\n",
       "       [-0.05498524, -3.05498524, -5.05498524],\n",
       "       [-2.23954477, -0.23954477, -2.23954477],\n",
       "       [-0.69651049, -0.69651049, -5.69651049]])"
      ]
     },
     "execution_count": 49,
     "metadata": {},
     "output_type": "execute_result"
    }
   ],
   "source": [
    "special.log_softmax(x_in, axis=1)"
   ]
  },
  {
   "cell_type": "code",
   "execution_count": 50,
   "metadata": {
    "collapsed": true
   },
   "outputs": [],
   "source": [
    "def smax(x_in):\n",
    "    \n",
    "    x_out = np.subtract(x_in, x_in.max(axis=1, keepdims=True))\n",
    "    \n",
    "    x_out = np.exp(x_out)/np.sum(np.exp(x_out), axis=1, keepdims=True)\n",
    "    \n",
    "    return x_out"
   ]
  },
  {
   "cell_type": "code",
   "execution_count": 51,
   "metadata": {},
   "outputs": [
    {
     "data": {
      "text/plain": [
       "array([[0.03511903, 0.25949646, 0.70538451],\n",
       "       [0.84379473, 0.04201007, 0.1141952 ],\n",
       "       [0.94649912, 0.04712342, 0.00637746],\n",
       "       [0.10650698, 0.78698604, 0.10650698],\n",
       "       [0.49832117, 0.49832117, 0.00335766]])"
      ]
     },
     "execution_count": 51,
     "metadata": {},
     "output_type": "execute_result"
    }
   ],
   "source": [
    "smax(x_in)"
   ]
  },
  {
   "cell_type": "code",
   "execution_count": 52,
   "metadata": {},
   "outputs": [
    {
     "data": {
      "text/plain": [
       "array([[0.03511903, 0.25949646, 0.70538451],\n",
       "       [0.84379473, 0.04201007, 0.1141952 ],\n",
       "       [0.94649912, 0.04712342, 0.00637746],\n",
       "       [0.10650698, 0.78698604, 0.10650698],\n",
       "       [0.49832117, 0.49832117, 0.00335766]])"
      ]
     },
     "execution_count": 52,
     "metadata": {},
     "output_type": "execute_result"
    }
   ],
   "source": [
    "special.softmax(x_in, axis=1)"
   ]
  },
  {
   "cell_type": "code",
   "execution_count": 53,
   "metadata": {},
   "outputs": [
    {
     "data": {
      "text/plain": [
       "array([[2, 4, 5],\n",
       "       [3, 0, 1],\n",
       "       [6, 3, 1],\n",
       "       [1, 3, 1],\n",
       "       [9, 9, 4]])"
      ]
     },
     "execution_count": 53,
     "metadata": {},
     "output_type": "execute_result"
    }
   ],
   "source": [
    "x_in"
   ]
  },
  {
   "cell_type": "code",
   "execution_count": 54,
   "metadata": {},
   "outputs": [
    {
     "data": {
      "text/plain": [
       "array([[0.03511903, 0.25949646, 0.70538451],\n",
       "       [0.84379473, 0.04201007, 0.1141952 ],\n",
       "       [0.94649912, 0.04712342, 0.00637746],\n",
       "       [0.10650698, 0.78698604, 0.10650698],\n",
       "       [0.49832117, 0.49832117, 0.00335766]])"
      ]
     },
     "execution_count": 54,
     "metadata": {},
     "output_type": "execute_result"
    }
   ],
   "source": [
    "s = smax(x_in)\n",
    "s"
   ]
  },
  {
   "cell_type": "code",
   "execution_count": 55,
   "metadata": {},
   "outputs": [
    {
     "data": {
      "text/plain": [
       "array([0.03511903, 0.25949646, 0.70538451])"
      ]
     },
     "execution_count": 55,
     "metadata": {},
     "output_type": "execute_result"
    }
   ],
   "source": [
    "w = s[0].copy()\n",
    "w"
   ]
  },
  {
   "cell_type": "code",
   "execution_count": 56,
   "metadata": {
    "collapsed": true
   },
   "outputs": [],
   "source": [
    "I = np.eye(3)"
   ]
  },
  {
   "cell_type": "code",
   "execution_count": 57,
   "metadata": {},
   "outputs": [
    {
     "data": {
      "text/plain": [
       "array([[1., 0., 0.],\n",
       "       [0., 1., 0.],\n",
       "       [0., 0., 1.]])"
      ]
     },
     "execution_count": 57,
     "metadata": {},
     "output_type": "execute_result"
    }
   ],
   "source": [
    "I "
   ]
  },
  {
   "cell_type": "code",
   "execution_count": 58,
   "metadata": {},
   "outputs": [
    {
     "data": {
      "text/plain": [
       "array([[ 0.96488097, -0.25949646, -0.70538451],\n",
       "       [-0.03511903,  0.74050354, -0.70538451],\n",
       "       [-0.03511903, -0.25949646,  0.29461549]])"
      ]
     },
     "execution_count": 58,
     "metadata": {},
     "output_type": "execute_result"
    }
   ],
   "source": [
    "I - w"
   ]
  },
  {
   "cell_type": "code",
   "execution_count": 59,
   "metadata": {},
   "outputs": [
    {
     "data": {
      "text/plain": [
       "array([[0.03511903],\n",
       "       [0.25949646],\n",
       "       [0.70538451]])"
      ]
     },
     "execution_count": 59,
     "metadata": {},
     "output_type": "execute_result"
    }
   ],
   "source": [
    "w[:, None]"
   ]
  },
  {
   "cell_type": "code",
   "execution_count": 60,
   "metadata": {},
   "outputs": [
    {
     "data": {
      "text/plain": [
       "array([[ 0.03388568, -0.00911326, -0.02477242],\n",
       "       [-0.00911326,  0.19215805, -0.18304478],\n",
       "       [-0.02477242, -0.18304478,  0.2078172 ]])"
      ]
     },
     "execution_count": 60,
     "metadata": {},
     "output_type": "execute_result"
    }
   ],
   "source": [
    "w[:, None] * (I - w)"
   ]
  },
  {
   "cell_type": "markdown",
   "metadata": {},
   "source": [
    "# Example derivative of Softmax:"
   ]
  },
  {
   "cell_type": "code",
   "execution_count": 92,
   "metadata": {},
   "outputs": [
    {
     "data": {
      "text/plain": [
       "array([[2, 4, 5],\n",
       "       [3, 0, 1],\n",
       "       [6, 3, 1],\n",
       "       [1, 3, 1],\n",
       "       [9, 9, 4]])"
      ]
     },
     "execution_count": 92,
     "metadata": {},
     "output_type": "execute_result"
    }
   ],
   "source": [
    "x_in"
   ]
  },
  {
   "cell_type": "code",
   "execution_count": 93,
   "metadata": {
    "scrolled": true
   },
   "outputs": [
    {
     "data": {
      "text/plain": [
       "array([[[2, 4, 5]],\n",
       "\n",
       "       [[3, 0, 1]],\n",
       "\n",
       "       [[6, 3, 1]],\n",
       "\n",
       "       [[1, 3, 1]],\n",
       "\n",
       "       [[9, 9, 4]]])"
      ]
     },
     "execution_count": 93,
     "metadata": {},
     "output_type": "execute_result"
    }
   ],
   "source": [
    "x_in[:, None, :]"
   ]
  },
  {
   "cell_type": "code",
   "execution_count": 94,
   "metadata": {},
   "outputs": [
    {
     "data": {
      "text/plain": [
       "array([[0.03511903, 0.25949646, 0.70538451],\n",
       "       [0.84379473, 0.04201007, 0.1141952 ],\n",
       "       [0.94649912, 0.04712342, 0.00637746],\n",
       "       [0.10650698, 0.78698604, 0.10650698],\n",
       "       [0.49832117, 0.49832117, 0.00335766]])"
      ]
     },
     "execution_count": 94,
     "metadata": {},
     "output_type": "execute_result"
    }
   ],
   "source": [
    "s = smax(x_in)\n",
    "s"
   ]
  },
  {
   "cell_type": "code",
   "execution_count": 96,
   "metadata": {},
   "outputs": [
    {
     "data": {
      "text/plain": [
       "array([[[0.03511903, 0.25949646, 0.70538451]],\n",
       "\n",
       "       [[0.84379473, 0.04201007, 0.1141952 ]],\n",
       "\n",
       "       [[0.94649912, 0.04712342, 0.00637746]],\n",
       "\n",
       "       [[0.10650698, 0.78698604, 0.10650698]],\n",
       "\n",
       "       [[0.49832117, 0.49832117, 0.00335766]]])"
      ]
     },
     "execution_count": 96,
     "metadata": {},
     "output_type": "execute_result"
    }
   ],
   "source": [
    "s[:, None, :]"
   ]
  },
  {
   "cell_type": "code",
   "execution_count": 97,
   "metadata": {},
   "outputs": [
    {
     "data": {
      "text/plain": [
       "array([[[ 0.96488097, -0.25949646, -0.70538451],\n",
       "        [-0.03511903,  0.74050354, -0.70538451],\n",
       "        [-0.03511903, -0.25949646,  0.29461549]],\n",
       "\n",
       "       [[ 0.15620527, -0.04201007, -0.1141952 ],\n",
       "        [-0.84379473,  0.95798993, -0.1141952 ],\n",
       "        [-0.84379473, -0.04201007,  0.8858048 ]],\n",
       "\n",
       "       [[ 0.05350088, -0.04712342, -0.00637746],\n",
       "        [-0.94649912,  0.95287658, -0.00637746],\n",
       "        [-0.94649912, -0.04712342,  0.99362254]],\n",
       "\n",
       "       [[ 0.89349302, -0.78698604, -0.10650698],\n",
       "        [-0.10650698,  0.21301396, -0.10650698],\n",
       "        [-0.10650698, -0.78698604,  0.89349302]],\n",
       "\n",
       "       [[ 0.50167883, -0.49832117, -0.00335766],\n",
       "        [-0.49832117,  0.50167883, -0.00335766],\n",
       "        [-0.49832117, -0.49832117,  0.99664234]]])"
      ]
     },
     "execution_count": 97,
     "metadata": {},
     "output_type": "execute_result"
    }
   ],
   "source": [
    "np.eye(3) - s[:, None, :]"
   ]
  },
  {
   "cell_type": "code",
   "execution_count": 99,
   "metadata": {},
   "outputs": [
    {
     "data": {
      "text/plain": [
       "array([[[0.03511903],\n",
       "        [0.25949646],\n",
       "        [0.70538451]],\n",
       "\n",
       "       [[0.84379473],\n",
       "        [0.04201007],\n",
       "        [0.1141952 ]],\n",
       "\n",
       "       [[0.94649912],\n",
       "        [0.04712342],\n",
       "        [0.00637746]],\n",
       "\n",
       "       [[0.10650698],\n",
       "        [0.78698604],\n",
       "        [0.10650698]],\n",
       "\n",
       "       [[0.49832117],\n",
       "        [0.49832117],\n",
       "        [0.00335766]]])"
      ]
     },
     "execution_count": 99,
     "metadata": {},
     "output_type": "execute_result"
    }
   ],
   "source": [
    "s[:, :, None]"
   ]
  },
  {
   "cell_type": "code",
   "execution_count": 131,
   "metadata": {},
   "outputs": [
    {
     "data": {
      "text/plain": [
       "array([[[ 0.03388568, -0.00911326, -0.02477242],\n",
       "        [-0.00911326,  0.19215805, -0.18304478],\n",
       "        [-0.02477242, -0.18304478,  0.2078172 ]],\n",
       "\n",
       "       [[ 0.13180518, -0.03544787, -0.09635731],\n",
       "        [-0.03544787,  0.04024522, -0.00479735],\n",
       "        [-0.09635731, -0.00479735,  0.10115466]],\n",
       "\n",
       "       [[ 0.05063853, -0.04460227, -0.00603626],\n",
       "        [-0.04460227,  0.0449028 , -0.00030053],\n",
       "        [-0.00603626, -0.00030053,  0.00633679]],\n",
       "\n",
       "       [[ 0.09516324, -0.08381951, -0.01134374],\n",
       "        [-0.08381951,  0.16763901, -0.08381951],\n",
       "        [-0.01134374, -0.08381951,  0.09516324]],\n",
       "\n",
       "       [[ 0.24999718, -0.24832399, -0.00167319],\n",
       "        [-0.24832399,  0.24999718, -0.00167319],\n",
       "        [-0.00167319, -0.00167319,  0.00334639]]])"
      ]
     },
     "execution_count": 131,
     "metadata": {},
     "output_type": "execute_result"
    }
   ],
   "source": [
    "dsdxT = s[:, :, None] * (np.eye(3) - s[:, None, :]) #dxT = dx\n",
    "dsdxT"
   ]
  },
  {
   "cell_type": "code",
   "execution_count": 132,
   "metadata": {},
   "outputs": [
    {
     "data": {
      "text/plain": [
       "(5, 3, 3)"
      ]
     },
     "execution_count": 132,
     "metadata": {},
     "output_type": "execute_result"
    }
   ],
   "source": [
    "dsdxT.shape"
   ]
  },
  {
   "cell_type": "code",
   "execution_count": 133,
   "metadata": {},
   "outputs": [
    {
     "data": {
      "text/plain": [
       "array([[[7, 5, 6]],\n",
       "\n",
       "       [[8, 2, 0]],\n",
       "\n",
       "       [[2, 0, 6]],\n",
       "\n",
       "       [[3, 8, 6]],\n",
       "\n",
       "       [[6, 7, 3]]])"
      ]
     },
     "execution_count": 133,
     "metadata": {},
     "output_type": "execute_result"
    }
   ],
   "source": [
    "dLdsT = np.random.randint(0, 10, (5, 1, 3))\n",
    "dLdsT"
   ]
  },
  {
   "cell_type": "code",
   "execution_count": 134,
   "metadata": {},
   "outputs": [
    {
     "data": {
      "text/plain": [
       "(5, 1, 3)"
      ]
     },
     "execution_count": 134,
     "metadata": {},
     "output_type": "execute_result"
    }
   ],
   "source": [
    "dLdsT.shape"
   ]
  },
  {
   "cell_type": "code",
   "execution_count": 136,
   "metadata": {},
   "outputs": [
    {
     "data": {
      "text/plain": [
       "(5, 3, 3)"
      ]
     },
     "execution_count": 136,
     "metadata": {},
     "output_type": "execute_result"
    }
   ],
   "source": [
    "dsdxT.shape"
   ]
  },
  {
   "cell_type": "code",
   "execution_count": 138,
   "metadata": {},
   "outputs": [
    {
     "data": {
      "text/plain": [
       "array([[[ 0.04299894, -0.20127131,  0.15827237]],\n",
       "\n",
       "       [[ 0.9835457 , -0.20309254, -0.78045316]],\n",
       "\n",
       "       [[ 0.0650595 , -0.09100771,  0.02594821]],\n",
       "\n",
       "       [[-0.45312874,  0.58673654, -0.1336078 ]],\n",
       "\n",
       "       [[-0.24330441,  0.25501676, -0.01171236]]])"
      ]
     },
     "execution_count": 138,
     "metadata": {},
     "output_type": "execute_result"
    }
   ],
   "source": [
    "dLdxT = np.matmul(dLdsT, dsdxT)\n",
    "dLdxT"
   ]
  },
  {
   "cell_type": "code",
   "execution_count": 139,
   "metadata": {
    "scrolled": true
   },
   "outputs": [
    {
     "data": {
      "text/plain": [
       "array([[ 0.04299894, -0.20127131,  0.15827237],\n",
       "       [ 0.9835457 , -0.20309254, -0.78045316],\n",
       "       [ 0.0650595 , -0.09100771,  0.02594821],\n",
       "       [-0.45312874,  0.58673654, -0.1336078 ],\n",
       "       [-0.24330441,  0.25501676, -0.01171236]])"
      ]
     },
     "execution_count": 139,
     "metadata": {},
     "output_type": "execute_result"
    }
   ],
   "source": [
    "np.squeeze(dLdxT)"
   ]
  },
  {
   "cell_type": "markdown",
   "metadata": {},
   "source": [
    "### From notebook"
   ]
  },
  {
   "cell_type": "code",
   "execution_count": 151,
   "metadata": {},
   "outputs": [
    {
     "data": {
      "text/plain": [
       "array([[0.03511903, 0.25949646, 0.70538451],\n",
       "       [0.84379473, 0.04201007, 0.1141952 ],\n",
       "       [0.94649912, 0.04712342, 0.00637746],\n",
       "       [0.10650698, 0.78698604, 0.10650698],\n",
       "       [0.49832117, 0.49832117, 0.00335766]])"
      ]
     },
     "execution_count": 151,
     "metadata": {},
     "output_type": "execute_result"
    }
   ],
   "source": [
    "s"
   ]
  },
  {
   "cell_type": "code",
   "execution_count": null,
   "metadata": {
    "collapsed": true
   },
   "outputs": [],
   "source": [
    "batch_size, n_feats = self.output.shape\n",
    "a = self.output.reshape(batch_size, n_feats, -1)\n",
    "b = self.output.reshape(batch_size, -1, n_feats)\n",
    "self.gradInput = np.multiply(gradOutput.reshape(batch_size, -1, n_feats), np.subtract(np.multiply(np.eye(n_feats), a), np.multiply(a, b))).sum(axis=2)"
   ]
  },
  {
   "cell_type": "code",
   "execution_count": 152,
   "metadata": {
    "collapsed": true
   },
   "outputs": [],
   "source": [
    "batch_size, n_feats = s.shape"
   ]
  },
  {
   "cell_type": "code",
   "execution_count": 153,
   "metadata": {},
   "outputs": [
    {
     "data": {
      "text/plain": [
       "5"
      ]
     },
     "execution_count": 153,
     "metadata": {},
     "output_type": "execute_result"
    }
   ],
   "source": [
    "batch_size"
   ]
  },
  {
   "cell_type": "code",
   "execution_count": 154,
   "metadata": {},
   "outputs": [
    {
     "data": {
      "text/plain": [
       "3"
      ]
     },
     "execution_count": 154,
     "metadata": {},
     "output_type": "execute_result"
    }
   ],
   "source": [
    "n_feats"
   ]
  },
  {
   "cell_type": "code",
   "execution_count": 155,
   "metadata": {
    "collapsed": true
   },
   "outputs": [],
   "source": [
    "a = s.reshape(batch_size, n_feats, -1)"
   ]
  },
  {
   "cell_type": "code",
   "execution_count": 156,
   "metadata": {},
   "outputs": [
    {
     "data": {
      "text/plain": [
       "array([[[0.03511903],\n",
       "        [0.25949646],\n",
       "        [0.70538451]],\n",
       "\n",
       "       [[0.84379473],\n",
       "        [0.04201007],\n",
       "        [0.1141952 ]],\n",
       "\n",
       "       [[0.94649912],\n",
       "        [0.04712342],\n",
       "        [0.00637746]],\n",
       "\n",
       "       [[0.10650698],\n",
       "        [0.78698604],\n",
       "        [0.10650698]],\n",
       "\n",
       "       [[0.49832117],\n",
       "        [0.49832117],\n",
       "        [0.00335766]]])"
      ]
     },
     "execution_count": 156,
     "metadata": {},
     "output_type": "execute_result"
    }
   ],
   "source": [
    "a"
   ]
  },
  {
   "cell_type": "code",
   "execution_count": 159,
   "metadata": {},
   "outputs": [
    {
     "data": {
      "text/plain": [
       "array([[[0.03511903, 0.25949646, 0.70538451]],\n",
       "\n",
       "       [[0.84379473, 0.04201007, 0.1141952 ]],\n",
       "\n",
       "       [[0.94649912, 0.04712342, 0.00637746]],\n",
       "\n",
       "       [[0.10650698, 0.78698604, 0.10650698]],\n",
       "\n",
       "       [[0.49832117, 0.49832117, 0.00335766]]])"
      ]
     },
     "execution_count": 159,
     "metadata": {},
     "output_type": "execute_result"
    }
   ],
   "source": [
    "b = s.reshape(batch_size, -1, n_feats)\n",
    "b"
   ]
  },
  {
   "cell_type": "code",
   "execution_count": 160,
   "metadata": {},
   "outputs": [
    {
     "data": {
      "text/plain": [
       "array([[[7, 5, 6]],\n",
       "\n",
       "       [[8, 2, 0]],\n",
       "\n",
       "       [[2, 0, 6]],\n",
       "\n",
       "       [[3, 8, 6]],\n",
       "\n",
       "       [[6, 7, 3]]])"
      ]
     },
     "execution_count": 160,
     "metadata": {},
     "output_type": "execute_result"
    }
   ],
   "source": [
    "dLdsT"
   ]
  },
  {
   "cell_type": "code",
   "execution_count": 162,
   "metadata": {},
   "outputs": [
    {
     "data": {
      "text/plain": [
       "array([[[0.01930357, 0.49218674, 0.45277248]],\n",
       "\n",
       "       [[0.38457102, 0.50025952, 0.82578179]],\n",
       "\n",
       "       [[0.14627171, 0.98986419, 0.7306874 ]],\n",
       "\n",
       "       [[0.11548067, 0.16712459, 0.66597947]],\n",
       "\n",
       "       [[0.43219543, 0.38642148, 0.61332477]]])"
      ]
     },
     "execution_count": 162,
     "metadata": {},
     "output_type": "execute_result"
    }
   ],
   "source": [
    "gradOutput = np.random.random((n_batch, n_feats))\n",
    "gradOutput.reshape(batch_size, -1, n_feats)"
   ]
  },
  {
   "cell_type": "code",
   "execution_count": 163,
   "metadata": {},
   "outputs": [
    {
     "data": {
      "text/plain": [
       "array([[[0.03511903],\n",
       "        [0.25949646],\n",
       "        [0.70538451]],\n",
       "\n",
       "       [[0.84379473],\n",
       "        [0.04201007],\n",
       "        [0.1141952 ]],\n",
       "\n",
       "       [[0.94649912],\n",
       "        [0.04712342],\n",
       "        [0.00637746]],\n",
       "\n",
       "       [[0.10650698],\n",
       "        [0.78698604],\n",
       "        [0.10650698]],\n",
       "\n",
       "       [[0.49832117],\n",
       "        [0.49832117],\n",
       "        [0.00335766]]])"
      ]
     },
     "execution_count": 163,
     "metadata": {},
     "output_type": "execute_result"
    }
   ],
   "source": [
    "a"
   ]
  },
  {
   "cell_type": "code",
   "execution_count": 164,
   "metadata": {},
   "outputs": [
    {
     "data": {
      "text/plain": [
       "array([[[0.03511903],\n",
       "        [0.25949646],\n",
       "        [0.70538451]],\n",
       "\n",
       "       [[0.84379473],\n",
       "        [0.04201007],\n",
       "        [0.1141952 ]],\n",
       "\n",
       "       [[0.94649912],\n",
       "        [0.04712342],\n",
       "        [0.00637746]],\n",
       "\n",
       "       [[0.10650698],\n",
       "        [0.78698604],\n",
       "        [0.10650698]],\n",
       "\n",
       "       [[0.49832117],\n",
       "        [0.49832117],\n",
       "        [0.00335766]]])"
      ]
     },
     "execution_count": 164,
     "metadata": {},
     "output_type": "execute_result"
    }
   ],
   "source": [
    "s[:,:, None]"
   ]
  },
  {
   "cell_type": "code",
   "execution_count": 165,
   "metadata": {},
   "outputs": [
    {
     "data": {
      "text/plain": [
       "array([[[0.03511903, 0.        , 0.        ],\n",
       "        [0.        , 0.25949646, 0.        ],\n",
       "        [0.        , 0.        , 0.70538451]],\n",
       "\n",
       "       [[0.84379473, 0.        , 0.        ],\n",
       "        [0.        , 0.04201007, 0.        ],\n",
       "        [0.        , 0.        , 0.1141952 ]],\n",
       "\n",
       "       [[0.94649912, 0.        , 0.        ],\n",
       "        [0.        , 0.04712342, 0.        ],\n",
       "        [0.        , 0.        , 0.00637746]],\n",
       "\n",
       "       [[0.10650698, 0.        , 0.        ],\n",
       "        [0.        , 0.78698604, 0.        ],\n",
       "        [0.        , 0.        , 0.10650698]],\n",
       "\n",
       "       [[0.49832117, 0.        , 0.        ],\n",
       "        [0.        , 0.49832117, 0.        ],\n",
       "        [0.        , 0.        , 0.00335766]]])"
      ]
     },
     "execution_count": 165,
     "metadata": {},
     "output_type": "execute_result"
    }
   ],
   "source": [
    "np.multiply(np.eye(n_feats), a)"
   ]
  },
  {
   "cell_type": "code",
   "execution_count": 166,
   "metadata": {},
   "outputs": [
    {
     "data": {
      "text/plain": [
       "array([[[1.23334605e-03, 9.11326319e-03, 2.47724177e-02],\n",
       "        [9.11326319e-03, 6.73384129e-02, 1.83044784e-01],\n",
       "        [2.47724177e-02, 1.83044784e-01, 4.97567311e-01]],\n",
       "\n",
       "       [[7.11989554e-01, 3.54478726e-02, 9.63573079e-02],\n",
       "        [3.54478726e-02, 1.76484566e-03, 4.79734788e-03],\n",
       "        [9.63573079e-02, 4.79734788e-03, 1.30405436e-02]],\n",
       "\n",
       "       [[8.95860589e-01, 4.46022724e-02, 6.03626117e-03],\n",
       "        [4.46022724e-02, 2.22061638e-03, 3.00527747e-04],\n",
       "        [6.03626117e-03, 3.00527747e-04, 4.06720078e-05]],\n",
       "\n",
       "       [[1.13437366e-02, 8.38195058e-02, 1.13437366e-02],\n",
       "        [8.38195058e-02, 6.19347031e-01, 8.38195058e-02],\n",
       "        [1.13437366e-02, 8.38195058e-02, 1.13437366e-02]],\n",
       "\n",
       "       [[2.48323988e-01, 2.48323988e-01, 1.67319387e-03],\n",
       "        [2.48323988e-01, 2.48323988e-01, 1.67319387e-03],\n",
       "        [1.67319387e-03, 1.67319387e-03, 1.12738916e-05]]])"
      ]
     },
     "execution_count": 166,
     "metadata": {},
     "output_type": "execute_result"
    }
   ],
   "source": [
    "np.multiply(a, b)"
   ]
  },
  {
   "cell_type": "code",
   "execution_count": 167,
   "metadata": {},
   "outputs": [
    {
     "data": {
      "text/plain": [
       "array([[[ 0.03388568, -0.00911326, -0.02477242],\n",
       "        [-0.00911326,  0.19215805, -0.18304478],\n",
       "        [-0.02477242, -0.18304478,  0.2078172 ]],\n",
       "\n",
       "       [[ 0.13180518, -0.03544787, -0.09635731],\n",
       "        [-0.03544787,  0.04024522, -0.00479735],\n",
       "        [-0.09635731, -0.00479735,  0.10115466]],\n",
       "\n",
       "       [[ 0.05063853, -0.04460227, -0.00603626],\n",
       "        [-0.04460227,  0.0449028 , -0.00030053],\n",
       "        [-0.00603626, -0.00030053,  0.00633679]],\n",
       "\n",
       "       [[ 0.09516324, -0.08381951, -0.01134374],\n",
       "        [-0.08381951,  0.16763901, -0.08381951],\n",
       "        [-0.01134374, -0.08381951,  0.09516324]],\n",
       "\n",
       "       [[ 0.24999718, -0.24832399, -0.00167319],\n",
       "        [-0.24832399,  0.24999718, -0.00167319],\n",
       "        [-0.00167319, -0.00167319,  0.00334639]]])"
      ]
     },
     "execution_count": 167,
     "metadata": {},
     "output_type": "execute_result"
    }
   ],
   "source": [
    "np.subtract(np.multiply(np.eye(n_feats), a), np.multiply(a, b))"
   ]
  },
  {
   "cell_type": "code",
   "execution_count": 168,
   "metadata": {
    "scrolled": true
   },
   "outputs": [
    {
     "data": {
      "text/plain": [
       "array([[[ 0.03388568, -0.00911326, -0.02477242],\n",
       "        [-0.00911326,  0.19215805, -0.18304478],\n",
       "        [-0.02477242, -0.18304478,  0.2078172 ]],\n",
       "\n",
       "       [[ 0.13180518, -0.03544787, -0.09635731],\n",
       "        [-0.03544787,  0.04024522, -0.00479735],\n",
       "        [-0.09635731, -0.00479735,  0.10115466]],\n",
       "\n",
       "       [[ 0.05063853, -0.04460227, -0.00603626],\n",
       "        [-0.04460227,  0.0449028 , -0.00030053],\n",
       "        [-0.00603626, -0.00030053,  0.00633679]],\n",
       "\n",
       "       [[ 0.09516324, -0.08381951, -0.01134374],\n",
       "        [-0.08381951,  0.16763901, -0.08381951],\n",
       "        [-0.01134374, -0.08381951,  0.09516324]],\n",
       "\n",
       "       [[ 0.24999718, -0.24832399, -0.00167319],\n",
       "        [-0.24832399,  0.24999718, -0.00167319],\n",
       "        [-0.00167319, -0.00167319,  0.00334639]]])"
      ]
     },
     "execution_count": 168,
     "metadata": {},
     "output_type": "execute_result"
    }
   ],
   "source": [
    "dsdxT"
   ]
  },
  {
   "cell_type": "code",
   "execution_count": 170,
   "metadata": {},
   "outputs": [
    {
     "data": {
      "text/plain": [
       "(5, 1, 3)"
      ]
     },
     "execution_count": 170,
     "metadata": {},
     "output_type": "execute_result"
    }
   ],
   "source": [
    "gradOutput.reshape(batch_size, -1, n_feats).shape"
   ]
  },
  {
   "cell_type": "code",
   "execution_count": 183,
   "metadata": {},
   "outputs": [
    {
     "data": {
      "text/plain": [
       "(5, 1, 3)"
      ]
     },
     "execution_count": 183,
     "metadata": {},
     "output_type": "execute_result"
    }
   ],
   "source": [
    "np.random.randint(0, 10, (5, 1, 3)).shape"
   ]
  },
  {
   "cell_type": "code",
   "execution_count": 186,
   "metadata": {},
   "outputs": [
    {
     "data": {
      "text/plain": [
       "array([[[0.01930357, 0.49218674, 0.45277248]],\n",
       "\n",
       "       [[0.38457102, 0.50025952, 0.82578179]],\n",
       "\n",
       "       [[0.14627171, 0.98986419, 0.7306874 ]],\n",
       "\n",
       "       [[0.11548067, 0.16712459, 0.66597947]],\n",
       "\n",
       "       [[0.43219543, 0.38642148, 0.61332477]]])"
      ]
     },
     "execution_count": 186,
     "metadata": {},
     "output_type": "execute_result"
    }
   ],
   "source": [
    "gradOutput.reshape(batch_size, -1, n_feats)"
   ]
  },
  {
   "cell_type": "code",
   "execution_count": 187,
   "metadata": {},
   "outputs": [
    {
     "data": {
      "text/plain": [
       "array([[[ 0.03388568, -0.00911326, -0.02477242],\n",
       "        [-0.00911326,  0.19215805, -0.18304478],\n",
       "        [-0.02477242, -0.18304478,  0.2078172 ]],\n",
       "\n",
       "       [[ 0.13180518, -0.03544787, -0.09635731],\n",
       "        [-0.03544787,  0.04024522, -0.00479735],\n",
       "        [-0.09635731, -0.00479735,  0.10115466]],\n",
       "\n",
       "       [[ 0.05063853, -0.04460227, -0.00603626],\n",
       "        [-0.04460227,  0.0449028 , -0.00030053],\n",
       "        [-0.00603626, -0.00030053,  0.00633679]],\n",
       "\n",
       "       [[ 0.09516324, -0.08381951, -0.01134374],\n",
       "        [-0.08381951,  0.16763901, -0.08381951],\n",
       "        [-0.01134374, -0.08381951,  0.09516324]],\n",
       "\n",
       "       [[ 0.24999718, -0.24832399, -0.00167319],\n",
       "        [-0.24832399,  0.24999718, -0.00167319],\n",
       "        [-0.00167319, -0.00167319,  0.00334639]]])"
      ]
     },
     "execution_count": 187,
     "metadata": {},
     "output_type": "execute_result"
    }
   ],
   "source": [
    "np.subtract(np.multiply(np.eye(n_feats), a), np.multiply(a, b))"
   ]
  },
  {
   "cell_type": "code",
   "execution_count": 185,
   "metadata": {},
   "outputs": [
    {
     "data": {
      "text/plain": [
       "array([[[ 0.00065411, -0.00448543, -0.01121627],\n",
       "        [-0.00017592,  0.09457764, -0.08287764],\n",
       "        [-0.0004782 , -0.09009221,  0.09409391]],\n",
       "\n",
       "       [[ 0.05068845, -0.01773314, -0.07957011],\n",
       "        [-0.01363222,  0.02013305, -0.00396156],\n",
       "        [-0.03705623, -0.00239992,  0.08353167]],\n",
       "\n",
       "       [[ 0.00740698, -0.04415019, -0.00441062],\n",
       "        [-0.00652405,  0.04444767, -0.00021959],\n",
       "        [-0.00088293, -0.00029748,  0.00463021]],\n",
       "\n",
       "       [[ 0.01098952, -0.0140083 , -0.0075547 ],\n",
       "        [-0.00967953,  0.0280166 , -0.05582207],\n",
       "        [-0.00130998, -0.0140083 ,  0.06337677]],\n",
       "\n",
       "       [[ 0.10804764, -0.09595772, -0.00102621],\n",
       "        [-0.10732449,  0.09660428, -0.00102621],\n",
       "        [-0.00072315, -0.00064656,  0.00205242]]])"
      ]
     },
     "execution_count": 185,
     "metadata": {},
     "output_type": "execute_result"
    }
   ],
   "source": [
    "np.multiply(gradOutput.reshape(batch_size, -1, n_feats), np.subtract(np.multiply(np.eye(n_feats), a), np.multiply(a, b)))"
   ]
  },
  {
   "cell_type": "code",
   "execution_count": 184,
   "metadata": {},
   "outputs": [
    {
     "data": {
      "text/plain": [
       "array([[-0.01504758,  0.01152408,  0.0035235 ],\n",
       "       [-0.04661479,  0.00253927,  0.04407553],\n",
       "       [-0.04115383,  0.03770403,  0.0034498 ],\n",
       "       [-0.01057348, -0.037485  ,  0.04805848],\n",
       "       [ 0.01106371, -0.01174642,  0.00068272]])"
      ]
     },
     "execution_count": 184,
     "metadata": {},
     "output_type": "execute_result"
    }
   ],
   "source": [
    "np.multiply(gradOutput.reshape(batch_size, -1, n_feats), np.subtract(np.multiply(np.eye(n_feats), a), np.multiply(a, b))).sum(axis=2)"
   ]
  },
  {
   "cell_type": "code",
   "execution_count": 188,
   "metadata": {},
   "outputs": [
    {
     "data": {
      "text/plain": [
       "array([[[7, 5, 6]],\n",
       "\n",
       "       [[8, 2, 0]],\n",
       "\n",
       "       [[2, 0, 6]],\n",
       "\n",
       "       [[3, 8, 6]],\n",
       "\n",
       "       [[6, 7, 3]]])"
      ]
     },
     "execution_count": 188,
     "metadata": {},
     "output_type": "execute_result"
    }
   ],
   "source": [
    "dLdsT"
   ]
  },
  {
   "cell_type": "code",
   "execution_count": 175,
   "metadata": {},
   "outputs": [
    {
     "data": {
      "text/plain": [
       "(5, 1, 3)"
      ]
     },
     "execution_count": 175,
     "metadata": {},
     "output_type": "execute_result"
    }
   ],
   "source": [
    "dLdxT.shape"
   ]
  },
  {
   "cell_type": "code",
   "execution_count": 173,
   "metadata": {},
   "outputs": [
    {
     "data": {
      "text/plain": [
       "array([[ 6.10622664e-16],\n",
       "       [-9.99200722e-16],\n",
       "       [-2.84494650e-16],\n",
       "       [ 1.11022302e-15],\n",
       "       [ 6.86950496e-16]])"
      ]
     },
     "execution_count": 173,
     "metadata": {},
     "output_type": "execute_result"
    }
   ],
   "source": [
    "dLdxT.sum(axis=2)"
   ]
  },
  {
   "cell_type": "code",
   "execution_count": 176,
   "metadata": {},
   "outputs": [
    {
     "data": {
      "text/plain": [
       "(5, 1)"
      ]
     },
     "execution_count": 176,
     "metadata": {},
     "output_type": "execute_result"
    }
   ],
   "source": [
    "dLdxT.sum(axis=2).shape"
   ]
  },
  {
   "cell_type": "code",
   "execution_count": 182,
   "metadata": {},
   "outputs": [
    {
     "data": {
      "text/plain": [
       "0.0"
      ]
     },
     "execution_count": 182,
     "metadata": {},
     "output_type": "execute_result"
    }
   ],
   "source": [
    "sum([ 0.9835457 , -0.20309254, -0.78045316])"
   ]
  },
  {
   "cell_type": "code",
   "execution_count": 180,
   "metadata": {},
   "outputs": [
    {
     "name": "stdout",
     "output_type": "stream",
     "text": [
      "0.000000e+00\n"
     ]
    }
   ],
   "source": [
    "print(\"{:e}\".format(0.04299894 + -0.20127131 + 0.15827237))"
   ]
  },
  {
   "cell_type": "markdown",
   "metadata": {},
   "source": [
    "---\n",
    "\n",
    "# Example derivative of LogSoftMax"
   ]
  },
  {
   "cell_type": "code",
   "execution_count": null,
   "metadata": {
    "collapsed": true
   },
   "outputs": [],
   "source": []
  },
  {
   "cell_type": "code",
   "execution_count": 140,
   "metadata": {},
   "outputs": [
    {
     "data": {
      "text/plain": [
       "array([[2, 4, 5],\n",
       "       [3, 0, 1],\n",
       "       [6, 3, 1],\n",
       "       [1, 3, 1],\n",
       "       [9, 9, 4]])"
      ]
     },
     "execution_count": 140,
     "metadata": {},
     "output_type": "execute_result"
    }
   ],
   "source": [
    "x_in"
   ]
  },
  {
   "cell_type": "code",
   "execution_count": 142,
   "metadata": {},
   "outputs": [
    {
     "data": {
      "text/plain": [
       "array([[0.03511903, 0.25949646, 0.70538451],\n",
       "       [0.84379473, 0.04201007, 0.1141952 ],\n",
       "       [0.94649912, 0.04712342, 0.00637746],\n",
       "       [0.10650698, 0.78698604, 0.10650698],\n",
       "       [0.49832117, 0.49832117, 0.00335766]])"
      ]
     },
     "execution_count": 142,
     "metadata": {},
     "output_type": "execute_result"
    }
   ],
   "source": [
    "s = smax(x_in)\n",
    "s"
   ]
  },
  {
   "cell_type": "code",
   "execution_count": 146,
   "metadata": {},
   "outputs": [
    {
     "data": {
      "text/plain": [
       "array([[[0.03511903],\n",
       "        [0.25949646],\n",
       "        [0.70538451]],\n",
       "\n",
       "       [[0.84379473],\n",
       "        [0.04201007],\n",
       "        [0.1141952 ]],\n",
       "\n",
       "       [[0.94649912],\n",
       "        [0.04712342],\n",
       "        [0.00637746]],\n",
       "\n",
       "       [[0.10650698],\n",
       "        [0.78698604],\n",
       "        [0.10650698]],\n",
       "\n",
       "       [[0.49832117],\n",
       "        [0.49832117],\n",
       "        [0.00335766]]])"
      ]
     },
     "execution_count": 146,
     "metadata": {},
     "output_type": "execute_result"
    }
   ],
   "source": [
    "s[:,:, None]"
   ]
  },
  {
   "cell_type": "code",
   "execution_count": 149,
   "metadata": {},
   "outputs": [
    {
     "data": {
      "text/plain": [
       "array([[[0.03511903, 0.03511903, 0.03511903],\n",
       "        [0.25949646, 0.25949646, 0.25949646],\n",
       "        [0.70538451, 0.70538451, 0.70538451]],\n",
       "\n",
       "       [[0.84379473, 0.84379473, 0.84379473],\n",
       "        [0.04201007, 0.04201007, 0.04201007],\n",
       "        [0.1141952 , 0.1141952 , 0.1141952 ]],\n",
       "\n",
       "       [[0.94649912, 0.94649912, 0.94649912],\n",
       "        [0.04712342, 0.04712342, 0.04712342],\n",
       "        [0.00637746, 0.00637746, 0.00637746]],\n",
       "\n",
       "       [[0.10650698, 0.10650698, 0.10650698],\n",
       "        [0.78698604, 0.78698604, 0.78698604],\n",
       "        [0.10650698, 0.10650698, 0.10650698]],\n",
       "\n",
       "       [[0.49832117, 0.49832117, 0.49832117],\n",
       "        [0.49832117, 0.49832117, 0.49832117],\n",
       "        [0.00335766, 0.00335766, 0.00335766]]])"
      ]
     },
     "execution_count": 149,
     "metadata": {},
     "output_type": "execute_result"
    }
   ],
   "source": [
    "res2 = np.ones(3) * s[:,:, None]\n",
    "res2"
   ]
  },
  {
   "cell_type": "code",
   "execution_count": 150,
   "metadata": {},
   "outputs": [
    {
     "data": {
      "text/plain": [
       "array([[[ 0.96488097, -0.03511903, -0.03511903],\n",
       "        [-0.25949646,  0.74050354, -0.25949646],\n",
       "        [-0.70538451, -0.70538451,  0.29461549]],\n",
       "\n",
       "       [[ 0.15620527, -0.84379473, -0.84379473],\n",
       "        [-0.04201007,  0.95798993, -0.04201007],\n",
       "        [-0.1141952 , -0.1141952 ,  0.8858048 ]],\n",
       "\n",
       "       [[ 0.05350088, -0.94649912, -0.94649912],\n",
       "        [-0.04712342,  0.95287658, -0.04712342],\n",
       "        [-0.00637746, -0.00637746,  0.99362254]],\n",
       "\n",
       "       [[ 0.89349302, -0.10650698, -0.10650698],\n",
       "        [-0.78698604,  0.21301396, -0.78698604],\n",
       "        [-0.10650698, -0.10650698,  0.89349302]],\n",
       "\n",
       "       [[ 0.50167883, -0.49832117, -0.49832117],\n",
       "        [-0.49832117,  0.50167883, -0.49832117],\n",
       "        [-0.00335766, -0.00335766,  0.99664234]]])"
      ]
     },
     "execution_count": 150,
     "metadata": {},
     "output_type": "execute_result"
    }
   ],
   "source": [
    "res3 = np.eye(3) - res2\n",
    "res3"
   ]
  },
  {
   "cell_type": "code",
   "execution_count": 86,
   "metadata": {
    "collapsed": true
   },
   "outputs": [],
   "source": [
    "gradOutput = np.random.randint(0, 10, (5, 3, 1))"
   ]
  },
  {
   "cell_type": "code",
   "execution_count": 87,
   "metadata": {},
   "outputs": [
    {
     "data": {
      "text/plain": [
       "array([[[8],\n",
       "        [1],\n",
       "        [7]],\n",
       "\n",
       "       [[7],\n",
       "        [9],\n",
       "        [6]],\n",
       "\n",
       "       [[2],\n",
       "        [0],\n",
       "        [9]],\n",
       "\n",
       "       [[4],\n",
       "        [5],\n",
       "        [9]],\n",
       "\n",
       "       [[4],\n",
       "        [7],\n",
       "        [5]]])"
      ]
     },
     "execution_count": 87,
     "metadata": {},
     "output_type": "execute_result"
    }
   ],
   "source": [
    "gradOutput"
   ]
  },
  {
   "cell_type": "code",
   "execution_count": 88,
   "metadata": {},
   "outputs": [
    {
     "data": {
      "text/plain": [
       "(5, 3, 3)"
      ]
     },
     "execution_count": 88,
     "metadata": {},
     "output_type": "execute_result"
    }
   ],
   "source": [
    "res3.shape"
   ]
  },
  {
   "cell_type": "code",
   "execution_count": 89,
   "metadata": {},
   "outputs": [
    {
     "data": {
      "text/plain": [
       "(5, 3, 1)"
      ]
     },
     "execution_count": 89,
     "metadata": {},
     "output_type": "execute_result"
    }
   ],
   "source": [
    "gradOutput.shape"
   ]
  },
  {
   "cell_type": "code",
   "execution_count": 90,
   "metadata": {},
   "outputs": [
    {
     "data": {
      "text/plain": [
       "array([[[ 2.52185974],\n",
       "        [-4.47814026],\n",
       "        [ 1.52185974]],\n",
       "\n",
       "       [[ 0.03017507],\n",
       "        [ 2.03017507],\n",
       "        [-0.96982493]],\n",
       "\n",
       "       [[ 0.04960461],\n",
       "        [-1.95039539],\n",
       "        [ 7.04960461]],\n",
       "\n",
       "       [[-1.31952094],\n",
       "        [-0.31952094],\n",
       "        [ 3.68047906]],\n",
       "\n",
       "       [[-1.49832117],\n",
       "        [ 1.50167883],\n",
       "        [-0.49832117]]])"
      ]
     },
     "execution_count": 90,
     "metadata": {},
     "output_type": "execute_result"
    }
   ],
   "source": [
    "np.matmul(res3, gradOutput)"
   ]
  },
  {
   "cell_type": "code",
   "execution_count": 91,
   "metadata": {},
   "outputs": [
    {
     "data": {
      "text/plain": [
       "array([[-0.2162027],\n",
       "       [-3.2162027],\n",
       "       [10.7837973]])"
      ]
     },
     "execution_count": 91,
     "metadata": {},
     "output_type": "execute_result"
    }
   ],
   "source": [
    "np.sum(np.matmul(res3, gradOutput), axis=0)"
   ]
  },
  {
   "cell_type": "code",
   "execution_count": null,
   "metadata": {
    "collapsed": true
   },
   "outputs": [],
   "source": []
  }
 ],
 "metadata": {
  "kernelspec": {
   "display_name": "Python 3",
   "language": "python",
   "name": "python3"
  },
  "language_info": {
   "codemirror_mode": {
    "name": "ipython",
    "version": 3
   },
   "file_extension": ".py",
   "mimetype": "text/x-python",
   "name": "python",
   "nbconvert_exporter": "python",
   "pygments_lexer": "ipython3",
   "version": "3.6.4"
  }
 },
 "nbformat": 4,
 "nbformat_minor": 2
}
