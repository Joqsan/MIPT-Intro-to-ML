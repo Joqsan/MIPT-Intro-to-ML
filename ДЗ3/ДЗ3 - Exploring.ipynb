{
 "cells": [
  {
   "cell_type": "markdown",
   "metadata": {
    "id": "DJFFAP4Gmmce"
   },
   "source": [
    "# Kernels for hand-made SVM"
   ]
  },
  {
   "cell_type": "markdown",
   "metadata": {
    "id": "82qIKu1Tmmcf"
   },
   "source": [
    "**In this homework we will again look at SVM kernels and will write and test rbf kernel for our own implementation.**"
   ]
  },
  {
   "cell_type": "code",
   "execution_count": 1,
   "metadata": {
    "id": "qDGTRhEhmmch"
   },
   "outputs": [
    {
     "data": {
      "text/plain": [
       "'\\nIf you are using Google Colab, uncomment the next line to download `svm.py`\\nYou can open and change downloaded `.py` files in Colab using the \"Files\" sidebar on the left.\\n'"
      ]
     },
     "execution_count": 1,
     "metadata": {},
     "output_type": "execute_result"
    }
   ],
   "source": [
    "'''\n",
    "If you are using Google Colab, uncomment the next line to download `svm.py`\n",
    "You can open and change downloaded `.py` files in Colab using the \"Files\" sidebar on the left.\n",
    "'''\n",
    "# !wget https://raw.githubusercontent.com/girafe-ai/ml-mipt/basic_f20/homeworks_basic/assignment0_03_SVM/svm.py "
   ]
  },
  {
   "cell_type": "code",
   "execution_count": 2,
   "metadata": {
    "collapsed": true,
    "id": "g0J1jvSvmmcn"
   },
   "outputs": [],
   "source": [
    "import matplotlib.pyplot as plt\n",
    "%matplotlib inline\n",
    "# use seaborn plotting defaults\n",
    "import seaborn as sns; sns.set()\n",
    "import numpy as np\n",
    "from sklearn.metrics import accuracy_score"
   ]
  },
  {
   "cell_type": "code",
   "execution_count": 3,
   "metadata": {
    "collapsed": true,
    "id": "IJdT-57Ummcq"
   },
   "outputs": [],
   "source": [
    "def plot_svc_decision_function(model, ax=None, plot_support=True):\n",
    "    \"\"\"Plot the decision function for our SVM class\"\"\"\n",
    "    if ax is None:\n",
    "        ax = plt.gca()\n",
    "    xlim = ax.get_xlim()\n",
    "    ylim = ax.get_ylim()\n",
    "    # create grid to evaluate model\n",
    "    x = np.linspace(xlim[0], xlim[1], 50)\n",
    "    y = np.linspace(ylim[0], ylim[1], 50)\n",
    "    Y, X = np.meshgrid(y, x)\n",
    "    xy = np.vstack([X.ravel(), Y.ravel()]).T\n",
    "    P = model.predict(xy).reshape(X.shape)\n",
    "    # plot decision boundary and margins\n",
    "    CS = ax.contourf(X, Y, P, origin='lower', cmap='autumn', alpha=0.1)\n",
    "    plt.colorbar(CS, ax=ax, shrink=0.8, extend='both')\n",
    "    # plot support vectors\n",
    "    if plot_support:\n",
    "        ax.scatter(model.support_vectors_[:, 0],\n",
    "                   model.support_vectors_[:, 1],\n",
    "                   s=300, linewidth=1, facecolors='none');\n",
    "    ax.set_xlim(xlim)\n",
    "    ax.set_ylim(ylim)"
   ]
  },
  {
   "cell_type": "code",
   "execution_count": 4,
   "metadata": {
    "collapsed": true,
    "id": "YcpRdaCLmmcu"
   },
   "outputs": [],
   "source": [
    "from sklearn.datasets import make_circles\n",
    "\n",
    "from sklearn.svm import SVC # \"Support vector classifier\"\n",
    "\n",
    "X, y = make_circles(150, factor=.1, noise=.1, random_state=42)\n",
    "\n",
    "X_test, y_test = X[100:], y[100:]\n",
    "X, y = X[:100], y[:100]"
   ]
  },
  {
   "cell_type": "markdown",
   "metadata": {
    "id": "0PWVXWAsmmcy"
   },
   "source": [
    "### Sklearn realization:"
   ]
  },
  {
   "cell_type": "code",
   "execution_count": 5,
   "metadata": {
    "id": "jNnZqAMmmmcz"
   },
   "outputs": [
    {
     "name": "stdout",
     "output_type": "stream",
     "text": [
      "Test accuracy:  0.64\n"
     ]
    },
    {
     "name": "stderr",
     "output_type": "stream",
     "text": [
      "/Library/Frameworks/Python.framework/Versions/3.6/lib/python3.6/site-packages/ipykernel_launcher.py:15: MatplotlibDeprecationWarning: The 'extend' parameter to Colorbar has no effect because it is overridden by the mappable; it is deprecated since 3.3 and will be removed two minor releases later.\n",
      "  from ipykernel import kernelapp as app\n"
     ]
    },
    {
     "data": {
      "image/png": "[encoded data removed]",
      "text/plain": [
       "<Figure size 432x288 with 2 Axes>"
      ]
     },
     "metadata": {},
     "output_type": "display_data"
    }
   ],
   "source": [
    "clf = SVC(kernel='linear').fit(X, y)\n",
    "pred = clf.predict(X_test)\n",
    "print(\"Test accuracy: \", accuracy_score(y_test, pred))\n",
    "plt.scatter(X[:, 0], X[:, 1], c=y, s=50, cmap='autumn')\n",
    "plot_svc_decision_function(clf, plot_support=False);"
   ]
  },
  {
   "cell_type": "code",
   "execution_count": 6,
   "metadata": {
    "id": "zrkRZF3bmmc2"
   },
   "outputs": [
    {
     "name": "stdout",
     "output_type": "stream",
     "text": [
      "Test accuracy:  1.0\n"
     ]
    },
    {
     "name": "stderr",
     "output_type": "stream",
     "text": [
      "/Library/Frameworks/Python.framework/Versions/3.6/lib/python3.6/site-packages/ipykernel_launcher.py:15: MatplotlibDeprecationWarning: The 'extend' parameter to Colorbar has no effect because it is overridden by the mappable; it is deprecated since 3.3 and will be removed two minor releases later.\n",
      "  from ipykernel import kernelapp as app\n"
     ]
    },
    {
     "data": {
      "image/png": "[encoded data removed]",
      "text/plain": [
       "<Figure size 432x288 with 2 Axes>"
      ]
     },
     "metadata": {},
     "output_type": "display_data"
    }
   ],
   "source": [
    "clf = SVC(kernel='rbf').fit(X, y)\n",
    "pred = clf.predict(X_test)\n",
    "print(\"Test accuracy: \", accuracy_score(y_test, pred))\n",
    "plt.scatter(X[:, 0], X[:, 1], c=y, s=50, cmap='autumn')\n",
    "plot_svc_decision_function(clf, plot_support=False);"
   ]
  },
  {
   "cell_type": "markdown",
   "metadata": {
    "id": "FhS3gL9Nmmc6"
   },
   "source": [
    "## Let's look at our realization"
   ]
  },
  {
   "cell_type": "markdown",
   "metadata": {
    "id": "XNvJFjUhmmc8"
   },
   "source": [
    "### You need to open svm.py file and add all missed lines."
   ]
  },
  {
   "cell_type": "markdown",
   "metadata": {
    "id": "sODUlExSmmc8"
   },
   "source": [
    "Linear SVM __primal__ optimization problem can be formulated as\n",
    "\n",
    "$$ \\frac{1}{n} \\sum_{i=1}^n \\max(0, 1 - y_i (w X_i - b)) + \\lambda ||w||_2 \\to \\min_w $$\n",
    "\n",
    "This problem can be solved with gradient or sub-gradien methods.\n",
    "\n",
    "-----\n",
    "Whereas __dual__ optimization problem formulates as follows:\n",
    "\n",
    "$$\n",
    "\\sum_{i=1}^n c_i - \\frac{1}{2} \\sum_{i=1}^n \\sum_{j=1}^n y_i c_i (X_i \\cdot X_j ) y_j c_j \\to \\max_{c_1,...,c_n} \\\\ \\text{subject to} \\\\\n",
    "\\sum_{i=1}^n c_iy_i=0 \\\\\n",
    "0 \\leq c_i \\leq \\frac{1}{2n\\lambda} \\forall i\n",
    "$$\n",
    "\n",
    "Where $W = \\sum_{i=1}^n c_i y_i X_i$.\n",
    "\n",
    "In this quadratic optimization problem we can use kernel trick: <br/>\n",
    "introduce fucntion $K(X_i, X_j) = \\phi (X_i) \\phi (X_j)$ and change dot products in our optimization problem\n",
    "\n",
    "Then we have \n",
    "\n",
    "$$\n",
    "\\sum_{i=1}^n c_i - \\frac{1}{2} \\sum_{i=1}^n \\sum_{j=1}^n y_i c_i K(X_i, X_j) y_j c_j \\to \\max_{c_1,...,c_n} \\\\\n",
    "\\text{subject to} \\\\\n",
    "\\sum_{i=1}^n c_iy_i=0 \\\\\n",
    "0 \\leq c_i \\leq \\frac{1}{2n\\lambda} \\forall i\n",
    "$$\n",
    "\n",
    "$W = \\sum_{i=1}^n c_i y_i \\phi(X_i)$\n",
    "\n",
    "In quadratic programming we can straightforwardly add kernel function, but it is not that simple, if we want to use gradient algorithms.\n",
    "\n",
    "----\n",
    "However primal optimization problem with kernels can be formulated like (see [Olivier Chapelle, 2006](https://www.cs.utah.edu/~piyush/teaching/svm-solving-primal.pdf)):\n",
    "\n",
    "$$f(x) = \\sum_{i=1}^n \\beta_i K(x_i, x)$$\n",
    "\n",
    "$$K: K_{i,j} = K(x_i, x_j)$$\n",
    "\n",
    "$$ \\lambda \\vec{\\beta^T} K \\vec{\\beta} + \\sum_{i=1}^n L(y_i, K_i^T \\vec{\\beta}) \\to \\min_{\\vec{\\beta}}$$\n",
    "\n",
    "where L is Hinge loss: $L(y_i, K_i^T \\vec{\\beta}) = \\max(0, 1 - y_i (K_i^T \\vec{\\beta}))$"
   ]
  },
  {
   "cell_type": "markdown",
   "metadata": {
    "id": "nD_cUr3Hmmc9"
   },
   "source": [
    "#### Radial basis function kernel.\n",
    "\n",
    "####  The RBF kernel on two samples x and x', represented as feature vectors in some input space, is defined as:\n",
    "\n",
    "## $K(x,x') = \\exp \\big{[}- \\frac{||x-x'||^2}{2 \\sigma^2} \\big{]}.$"
   ]
  },
  {
   "cell_type": "markdown",
   "metadata": {
    "id": "eMwRsi_Hmmc-"
   },
   "source": [
    "### Let's look how it works:"
   ]
  },
  {
   "cell_type": "code",
   "execution_count": 7,
   "metadata": {
    "collapsed": true,
    "id": "HyWzKNMammc_"
   },
   "outputs": [],
   "source": [
    "# uncomment this cell if you are working in colab\n",
    "# ! wget https://raw.githubusercontent.com/girafe-ai/ml-mipt/basic_s20/homeworks_basic/assignment0_03_SVM/svm.py -nc"
   ]
  },
  {
   "cell_type": "code",
   "execution_count": 17,
   "metadata": {
    "collapsed": true,
    "id": "5CuEyJ65mmdC"
   },
   "outputs": [],
   "source": [
    "%load_ext autoreload\n",
    "%autoreload 2"
   ]
  },
  {
   "cell_type": "code",
   "execution_count": 22,
   "metadata": {
    "collapsed": true
   },
   "outputs": [],
   "source": [
    "from svm import SVM, rbf"
   ]
  },
  {
   "cell_type": "code",
   "execution_count": 23,
   "metadata": {
    "collapsed": true,
    "id": "NZmi9iPxmmdG"
   },
   "outputs": [],
   "source": [
    "y[y==0] = -1 # for convenience with formulas\n",
    "y_test[y_test==0] = -1"
   ]
  },
  {
   "cell_type": "code",
   "execution_count": 25,
   "metadata": {
    "id": "fVGfg4jHmmdJ",
    "scrolled": false
   },
   "outputs": [
    {
     "name": "stdout",
     "output_type": "stream",
     "text": [
      "Epoch 0, Loss: 0.3199480712413788\n",
      "Epoch 1, Loss: 0.29426912069320676\n",
      "Epoch 2, Loss: 0.33003289699554444\n",
      "Test accuracy:  0.38\n"
     ]
    },
    {
     "name": "stderr",
     "output_type": "stream",
     "text": [
      "/Library/Frameworks/Python.framework/Versions/3.6/lib/python3.6/site-packages/ipykernel_launcher.py:15: MatplotlibDeprecationWarning: The 'extend' parameter to Colorbar has no effect because it is overridden by the mappable; it is deprecated since 3.3 and will be removed two minor releases later.\n",
      "  from ipykernel import kernelapp as app\n"
     ]
    },
    {
     "data": {
      "image/png": "[encoded data removed]",
      "text/plain": [
       "<Figure size 432x288 with 2 Axes>"
      ]
     },
     "metadata": {},
     "output_type": "display_data"
    }
   ],
   "source": [
    "clf = SVM(epochs=3, lr=1, batch_size=20, verbose=True)\n",
    "clf.fit(X, y)\n",
    "pred = clf.predict(X_test)\n",
    "print(\"Test accuracy: \", accuracy_score(y_test, pred))\n",
    "plt.scatter(X[:, 0], X[:, 1], c=y, s=50, cmap='autumn')\n",
    "plot_svc_decision_function(clf, plot_support=False);"
   ]
  },
  {
   "cell_type": "code",
   "execution_count": 66,
   "metadata": {
    "scrolled": false
   },
   "outputs": [
    {
     "data": {
      "text/plain": [
       "tensor([[1.0000, 0.2431, 0.5652,  ..., 0.3197, 0.5822, 0.5883],\n",
       "        [0.2431, 1.0000, 0.5083,  ..., 0.8879, 0.5861, 0.5137],\n",
       "        [0.5652, 0.5083, 1.0000,  ..., 0.4074, 0.9899, 0.9992],\n",
       "        ...,\n",
       "        [0.3197, 0.8879, 0.4074,  ..., 1.0000, 0.4880, 0.4201],\n",
       "        [0.5822, 0.5861, 0.9899,  ..., 0.4880, 1.0000, 0.9925],\n",
       "        [0.5883, 0.5137, 0.9992,  ..., 0.4201, 0.9925, 1.0000]])"
      ]
     },
     "execution_count": 66,
     "metadata": {},
     "output_type": "execute_result"
    }
   ],
   "source": [
    "rbf(X, X)"
   ]
  },
  {
   "cell_type": "code",
   "execution_count": 68,
   "metadata": {
    "collapsed": true
   },
   "outputs": [],
   "source": [
    "dists = np.sum(X*X, axis=1).reshape(-1, 1) + np.sum(X*X, axis=1) - 2 * X.dot(X.T)"
   ]
  },
  {
   "cell_type": "code",
   "execution_count": 69,
   "metadata": {
    "collapsed": true
   },
   "outputs": [],
   "source": [
    "sigma = 1."
   ]
  },
  {
   "cell_type": "code",
   "execution_count": 70,
   "metadata": {
    "collapsed": true
   },
   "outputs": [],
   "source": [
    "K = np.exp(- dists /(2 * sigma))"
   ]
  },
  {
   "cell_type": "code",
   "execution_count": 71,
   "metadata": {
    "scrolled": true
   },
   "outputs": [
    {
     "data": {
      "text/plain": [
       "array([[1.        , 0.24311735, 0.5652259 , ..., 0.31973703, 0.58215709,\n",
       "        0.58825441],\n",
       "       [0.24311735, 1.        , 0.50826334, ..., 0.88786936, 0.58614009,\n",
       "        0.51372583],\n",
       "       [0.5652259 , 0.50826334, 1.        , ..., 0.40739196, 0.98991125,\n",
       "        0.99915652],\n",
       "       ...,\n",
       "       [0.31973703, 0.88786936, 0.40739196, ..., 1.        , 0.48803218,\n",
       "        0.42008729],\n",
       "       [0.58215709, 0.58614009, 0.98991125, ..., 0.48803218, 1.        ,\n",
       "        0.99254808],\n",
       "       [0.58825441, 0.51372583, 0.99915652, ..., 0.42008729, 0.99254808,\n",
       "        1.        ]])"
      ]
     },
     "execution_count": 71,
     "metadata": {},
     "output_type": "execute_result"
    }
   ],
   "source": [
    "K"
   ]
  },
  {
   "cell_type": "code",
   "execution_count": 72,
   "metadata": {
    "collapsed": true
   },
   "outputs": [],
   "source": [
    "from sklearn.metrics.pairwise import rbf_kernel"
   ]
  },
  {
   "cell_type": "code",
   "execution_count": 105,
   "metadata": {
    "scrolled": true
   },
   "outputs": [
    {
     "data": {
      "text/plain": [
       "array([[1.        , 0.24311735, 0.5652259 , ..., 0.31973703, 0.58215709,\n",
       "        0.58825441],\n",
       "       [0.24311735, 1.        , 0.50826334, ..., 0.88786936, 0.58614009,\n",
       "        0.51372583],\n",
       "       [0.5652259 , 0.50826334, 1.        , ..., 0.40739196, 0.98991125,\n",
       "        0.99915652],\n",
       "       ...,\n",
       "       [0.31973703, 0.88786936, 0.40739196, ..., 1.        , 0.48803218,\n",
       "        0.42008729],\n",
       "       [0.58215709, 0.58614009, 0.98991125, ..., 0.48803218, 1.        ,\n",
       "        0.99254808],\n",
       "       [0.58825441, 0.51372583, 0.99915652, ..., 0.42008729, 0.99254808,\n",
       "        1.        ]])"
      ]
     },
     "execution_count": 105,
     "metadata": {},
     "output_type": "execute_result"
    }
   ],
   "source": [
    "rbf_kernel(X, X)"
   ]
  },
  {
   "cell_type": "code",
   "execution_count": 78,
   "metadata": {
    "collapsed": true
   },
   "outputs": [],
   "source": [
    "def ker(x_1, x_2, sigma):\n",
    "    dists = np.dot(x_1, x_1.T) + np.dot(x_2, x_2.T) - 2 * np.dot(x_1, x_2.T)\n",
    "    return np.exp(- dists /(2 * sigma))"
   ]
  },
  {
   "cell_type": "code",
   "execution_count": 79,
   "metadata": {},
   "outputs": [
    {
     "data": {
      "text/plain": [
       "array([[1., 1., 1., ..., 1., 1., 1.],\n",
       "       [1., 1., 1., ..., 1., 1., 1.],\n",
       "       [1., 1., 1., ..., 1., 1., 1.],\n",
       "       ...,\n",
       "       [1., 1., 1., ..., 1., 1., 1.],\n",
       "       [1., 1., 1., ..., 1., 1., 1.],\n",
       "       [1., 1., 1., ..., 1., 1., 1.]])"
      ]
     },
     "execution_count": 79,
     "metadata": {},
     "output_type": "execute_result"
    }
   ],
   "source": [
    "ker(X, X, sigma)"
   ]
  },
  {
   "cell_type": "code",
   "execution_count": null,
   "metadata": {
    "collapsed": true
   },
   "outputs": [],
   "source": []
  },
  {
   "cell_type": "code",
   "execution_count": null,
   "metadata": {
    "collapsed": true
   },
   "outputs": [],
   "source": []
  },
  {
   "cell_type": "code",
   "execution_count": 82,
   "metadata": {},
   "outputs": [
    {
     "data": {
      "text/plain": [
       "(50, 2)"
      ]
     },
     "execution_count": 82,
     "metadata": {},
     "output_type": "execute_result"
    }
   ],
   "source": [
    "X_test.shape"
   ]
  },
  {
   "cell_type": "code",
   "execution_count": 83,
   "metadata": {
    "scrolled": true
   },
   "outputs": [
    {
     "data": {
      "text/plain": [
       "(100, 2)"
      ]
     },
     "execution_count": 83,
     "metadata": {},
     "output_type": "execute_result"
    }
   ],
   "source": [
    "X.shape"
   ]
  },
  {
   "cell_type": "code",
   "execution_count": 88,
   "metadata": {},
   "outputs": [
    {
     "data": {
      "text/plain": [
       "100"
      ]
     },
     "execution_count": 88,
     "metadata": {},
     "output_type": "execute_result"
    }
   ],
   "source": [
    "len(X)"
   ]
  },
  {
   "cell_type": "code",
   "execution_count": 104,
   "metadata": {
    "scrolled": true
   },
   "outputs": [
    {
     "data": {
      "text/plain": [
       "tensor([[1.0000, 0.3882, 0.1112,  ..., 0.7694, 0.4771, 0.5801],\n",
       "        [0.3882, 1.0000, 0.3804,  ..., 0.8076, 0.6119, 0.6405],\n",
       "        [0.1112, 0.3804, 1.0000,  ..., 0.2549, 0.6762, 0.5738],\n",
       "        ...,\n",
       "        [0.7694, 0.8076, 0.2549,  ..., 1.0000, 0.6662, 0.7525],\n",
       "        [0.4771, 0.6119, 0.6762,  ..., 0.6662, 1.0000, 0.9849],\n",
       "        [0.5801, 0.6405, 0.5738,  ..., 0.7525, 0.9849, 1.0000]])"
      ]
     },
     "execution_count": 104,
     "metadata": {},
     "output_type": "execute_result"
    }
   ],
   "source": [
    "rbf(X_test, X_test)"
   ]
  },
  {
   "cell_type": "code",
   "execution_count": 93,
   "metadata": {
    "scrolled": true
   },
   "outputs": [],
   "source": [
    "res = np.sum(X_test*X_test, axis=1).reshape(-1, 1) + np.sum(X*X, axis=1) - 2 * X_test.dot(X.T)"
   ]
  },
  {
   "cell_type": "code",
   "execution_count": 94,
   "metadata": {},
   "outputs": [
    {
     "data": {
      "text/plain": [
       "(50, 100)"
      ]
     },
     "execution_count": 94,
     "metadata": {},
     "output_type": "execute_result"
    }
   ],
   "source": [
    "res.shape"
   ]
  },
  {
   "cell_type": "raw",
   "metadata": {},
   "source": [
    "X1X1 = np.einsum('ij,ij->i', x_1, x_1)\n",
    "X2X2 = np.einsum('ij,ij->i', x_2, x_2)\n",
    "X1X2T = np.einsum('ij, kj->ik', x_1, x_2)"
   ]
  },
  {
   "cell_type": "code",
   "execution_count": 99,
   "metadata": {
    "collapsed": true
   },
   "outputs": [],
   "source": [
    "def ker2(x_1, x_2, sigma):\n",
    "    X1X1 = np.einsum('ij,ij->i', x_1, x_1)\n",
    "    X2X2 = np.einsum('ij,ij->i', x_2, x_2)\n",
    "    X1X2T = np.einsum('ij, kj->ik', x_1, x_2)\n",
    "    \n",
    "    dists = (X1X1.reshape(-1, 1) + X2X2) - 2 * X1X2T\n",
    "    return np.exp(- dists /(2 * sigma))"
   ]
  },
  {
   "cell_type": "code",
   "execution_count": 100,
   "metadata": {
    "scrolled": true
   },
   "outputs": [
    {
     "data": {
      "text/plain": [
       "array([[1.        , 0.24311735, 0.5652259 , ..., 0.31973703, 0.58215709,\n",
       "        0.58825441],\n",
       "       [0.24311735, 1.        , 0.50826334, ..., 0.88786936, 0.58614009,\n",
       "        0.51372583],\n",
       "       [0.5652259 , 0.50826334, 1.        , ..., 0.40739196, 0.98991125,\n",
       "        0.99915652],\n",
       "       ...,\n",
       "       [0.31973703, 0.88786936, 0.40739196, ..., 1.        , 0.48803218,\n",
       "        0.42008729],\n",
       "       [0.58215709, 0.58614009, 0.98991125, ..., 0.48803218, 1.        ,\n",
       "        0.99254808],\n",
       "       [0.58825441, 0.51372583, 0.99915652, ..., 0.42008729, 0.99254808,\n",
       "        1.        ]])"
      ]
     },
     "execution_count": 100,
     "metadata": {},
     "output_type": "execute_result"
    }
   ],
   "source": [
    "ker2(X, X, sigma)"
   ]
  },
  {
   "cell_type": "code",
   "execution_count": 102,
   "metadata": {},
   "outputs": [
    {
     "data": {
      "text/plain": [
       "array([[0.84208834, 0.4149501 , 0.48910609, ..., 0.58938278, 0.54548649,\n",
       "        0.51307985],\n",
       "       [0.22221779, 0.99861302, 0.48304977, ..., 0.87678848, 0.55922109,\n",
       "        0.48784233],\n",
       "       [0.12193415, 0.3854578 , 0.61632639, ..., 0.19730007, 0.59204063,\n",
       "        0.59355293],\n",
       "       ...,\n",
       "       [0.51874649, 0.83240071, 0.59230633, ..., 0.93007305, 0.67724293,\n",
       "        0.60975929],\n",
       "       [0.4881737 , 0.63630459, 0.97347413, ..., 0.49934221, 0.98681694,\n",
       "        0.97149141],\n",
       "       [0.57049671, 0.66797029, 0.96121847, ..., 0.57036396, 0.99020639,\n",
       "        0.96614659]])"
      ]
     },
     "execution_count": 102,
     "metadata": {},
     "output_type": "execute_result"
    }
   ],
   "source": [
    "ker2(X_test, X, sigma)"
   ]
  },
  {
   "cell_type": "code",
   "execution_count": null,
   "metadata": {
    "collapsed": true
   },
   "outputs": [],
   "source": [
    "  X @ X_test.T "
   ]
  },
  {
   "cell_type": "code",
   "execution_count": 87,
   "metadata": {},
   "outputs": [],
   "source": [
    "X1X2 = np.einsum('ij,kj->ik', X_test, X)"
   ]
  },
  {
   "cell_type": "code",
   "execution_count": null,
   "metadata": {
    "collapsed": true
   },
   "outputs": [],
   "source": [
    "X1X2T = np.einsum('ij, kj->ik', x_1, x_2)"
   ]
  },
  {
   "cell_type": "code",
   "execution_count": 106,
   "metadata": {},
   "outputs": [
    {
     "data": {
      "text/plain": [
       "tensor([[0.8421, 0.4150, 0.4891,  ..., 0.5894, 0.5455, 0.5131],\n",
       "        [0.2222, 0.9986, 0.4830,  ..., 0.8768, 0.5592, 0.4878],\n",
       "        [0.1219, 0.3855, 0.6163,  ..., 0.1973, 0.5920, 0.5936],\n",
       "        ...,\n",
       "        [0.5187, 0.8324, 0.5923,  ..., 0.9301, 0.6772, 0.6098],\n",
       "        [0.4882, 0.6363, 0.9735,  ..., 0.4993, 0.9868, 0.9715],\n",
       "        [0.5705, 0.6680, 0.9612,  ..., 0.5704, 0.9902, 0.9661]])"
      ]
     },
     "execution_count": 106,
     "metadata": {},
     "output_type": "execute_result"
    }
   ],
   "source": [
    "rbf(X_test, X)"
   ]
  },
  {
   "cell_type": "code",
   "execution_count": 107,
   "metadata": {
    "id": "Eig8WCMlmmdN",
    "scrolled": true
   },
   "outputs": [
    {
     "name": "stdout",
     "output_type": "stream",
     "text": [
      "Epoch 0, Loss: 0.2935098737478256\n",
      "Epoch 1, Loss: 0.265205106139183\n",
      "Epoch 2, Loss: 0.2091908723115921\n",
      "Epoch 3, Loss: 0.20400472581386567\n",
      "Epoch 4, Loss: 0.2174054741859436\n",
      "Epoch 5, Loss: 0.24643009006977082\n",
      "Epoch 6, Loss: 0.20301688313484192\n",
      "Epoch 7, Loss: 0.2547914534807205\n",
      "Epoch 8, Loss: 0.191839736700058\n",
      "Epoch 9, Loss: 0.1800095945596695\n",
      "Epoch 10, Loss: 0.17708625495433808\n",
      "Epoch 11, Loss: 0.179877932369709\n",
      "Epoch 12, Loss: 0.18481057435274123\n",
      "Epoch 13, Loss: 0.16536805480718614\n",
      "Epoch 14, Loss: 0.15247537493705748\n",
      "Epoch 15, Loss: 0.22037235796451568\n",
      "Epoch 16, Loss: 0.11081430315971375\n",
      "Epoch 17, Loss: 0.16859657913446427\n",
      "Epoch 18, Loss: 0.17293583750724792\n",
      "Epoch 19, Loss: 0.13404708802700044\n",
      "Epoch 20, Loss: 0.05641396418213844\n",
      "Epoch 21, Loss: 0.22810064032673835\n",
      "Epoch 22, Loss: 0.1493896458297968\n",
      "Epoch 23, Loss: 0.13691620863974094\n",
      "Epoch 24, Loss: 0.1558304473757744\n",
      "Epoch 25, Loss: 0.10193153172731399\n",
      "Epoch 26, Loss: 0.12183473184704781\n",
      "Epoch 27, Loss: 0.09165905341506005\n",
      "Epoch 28, Loss: 0.09989508464932442\n",
      "Epoch 29, Loss: 0.10406076535582542\n",
      "Epoch 30, Loss: 0.08830308858305216\n",
      "Epoch 31, Loss: 0.07079901471734047\n",
      "Epoch 32, Loss: 0.04189320290461183\n",
      "Epoch 33, Loss: 0.08324344819411636\n",
      "Epoch 34, Loss: 0.06782732252031565\n",
      "Epoch 35, Loss: 0.06989460061886348\n",
      "Epoch 36, Loss: 0.008810723293572664\n",
      "Epoch 37, Loss: 0.057623864337801936\n",
      "Epoch 38, Loss: 0.0102898177690804\n",
      "Epoch 39, Loss: 0.004454366865684278\n",
      "Epoch 40, Loss: 0.0666862204670906\n",
      "Epoch 41, Loss: 0.03707866885815747\n",
      "Epoch 42, Loss: 0.0020170897303614767\n",
      "Epoch 43, Loss: 0.001335563467000611\n",
      "Epoch 44, Loss: 0.0019726919621462003\n",
      "Epoch 45, Loss: 0.024392633288516662\n",
      "Epoch 46, Loss: 0.052095687086693945\n",
      "Epoch 47, Loss: 0.0023525746422819794\n",
      "Epoch 48, Loss: 0.0008721602702280506\n",
      "Epoch 49, Loss: 0.001675236178562045\n",
      "Epoch 50, Loss: 0.0016250535903964193\n",
      "Epoch 51, Loss: 0.050488901615608484\n",
      "Epoch 52, Loss: 0.001098682644078508\n",
      "Epoch 53, Loss: 0.0015841939195524902\n",
      "Epoch 54, Loss: 0.002689323655795306\n",
      "Epoch 55, Loss: 0.0008699862606590614\n",
      "Epoch 56, Loss: 0.001367778074927628\n",
      "Epoch 57, Loss: 0.0018879061099141836\n",
      "Epoch 58, Loss: 0.0013515506958356126\n",
      "Epoch 59, Loss: 0.001618725445587188\n",
      "Epoch 60, Loss: 0.030498429422732443\n",
      "Epoch 61, Loss: 0.0007463526068022475\n",
      "Epoch 62, Loss: 0.0015301118517527356\n",
      "Epoch 63, Loss: 0.0012279030110221357\n",
      "Epoch 64, Loss: 0.0006889316253364086\n",
      "Epoch 65, Loss: 0.0003045005985768512\n",
      "Epoch 66, Loss: 0.0017396438983269037\n",
      "Epoch 67, Loss: 0.0011285616288660093\n",
      "Epoch 68, Loss: 0.0005846586253028363\n",
      "Epoch 69, Loss: 0.0011056766205001622\n",
      "Epoch 70, Loss: 0.0006419509241823107\n",
      "Epoch 71, Loss: 0.0005497842124896124\n",
      "Epoch 72, Loss: 0.0006212555657839402\n",
      "Epoch 73, Loss: 0.0013739214336965233\n",
      "Epoch 74, Loss: 0.00045792560558766127\n",
      "Epoch 75, Loss: 0.000617919591604732\n",
      "Epoch 76, Loss: 0.0019858353654854\n",
      "Epoch 77, Loss: 0.0007945347228087485\n",
      "Epoch 78, Loss: 0.0009721761598484591\n",
      "Epoch 79, Loss: 0.0005784797191154212\n",
      "Epoch 80, Loss: 0.0011787996103521437\n",
      "Epoch 81, Loss: 0.0010138231184100733\n",
      "Epoch 82, Loss: 0.0011493172263726593\n",
      "Epoch 83, Loss: 0.0006417172233341261\n",
      "Epoch 84, Loss: 0.0013503739261068403\n",
      "Epoch 85, Loss: 0.0008175819413736463\n",
      "Epoch 86, Loss: 0.0007466271432349459\n",
      "Epoch 87, Loss: 0.0011581689934246242\n",
      "Epoch 88, Loss: 0.0015046095533762128\n",
      "Epoch 89, Loss: 0.00497114205500111\n",
      "Epoch 90, Loss: 0.0010327036376111209\n",
      "Epoch 91, Loss: 0.0004931669915094972\n",
      "Epoch 92, Loss: 0.0005711082252673805\n",
      "Epoch 93, Loss: 0.00034797357802744954\n",
      "Epoch 94, Loss: 0.001187137985834852\n",
      "Epoch 95, Loss: 0.0006373418669681996\n",
      "Epoch 96, Loss: 0.0008223042503232136\n",
      "Epoch 97, Loss: 0.00040284837887156756\n",
      "Epoch 98, Loss: 0.000950351424398832\n",
      "Epoch 99, Loss: 0.0002718666932196356\n",
      "Test accuracy:  1.0\n"
     ]
    },
    {
     "name": "stderr",
     "output_type": "stream",
     "text": [
      "/Library/Frameworks/Python.framework/Versions/3.6/lib/python3.6/site-packages/ipykernel_launcher.py:15: MatplotlibDeprecationWarning: The 'extend' parameter to Colorbar has no effect because it is overridden by the mappable; it is deprecated since 3.3 and will be removed two minor releases later.\n",
      "  from ipykernel import kernelapp as app\n"
     ]
    },
    {
     "data": {
      "image/png": "[encoded data removed]",
      "text/plain": [
       "<Figure size 432x288 with 2 Axes>"
      ]
     },
     "metadata": {},
     "output_type": "display_data"
    }
   ],
   "source": [
    "clf = SVM(epochs=100, lr=0.1, batch_size=20, verbose=True, kernel_function=rbf)\n",
    "clf.fit(X, y)\n",
    "pred = clf.predict(X_test)\n",
    "print(\"Test accuracy: \", accuracy_score(y_test, pred))\n",
    "plt.scatter(X[:, 0], X[:, 1], c=y, s=50, cmap='autumn')\n",
    "plot_svc_decision_function(clf, plot_support=False);"
   ]
  },
  {
   "cell_type": "code",
   "execution_count": 108,
   "metadata": {
    "collapsed": true,
    "id": "mnpYla0zmmdQ"
   },
   "outputs": [],
   "source": [
    "assert accuracy_score(y_test, pred) > 0.95"
   ]
  },
  {
   "cell_type": "markdown",
   "metadata": {
    "id": "3KdMwxE7mmdT"
   },
   "source": [
    "## Our model with rbf kernel can learn this dataset too."
   ]
  }
 ],
 "metadata": {
  "colab": {
   "name": "assignment0_03_svm_kernel.ipynb",
   "provenance": []
  },
  "kernelspec": {
   "display_name": "Python 3",
   "language": "python",
   "name": "python3"
  },
  "language_info": {
   "codemirror_mode": {
    "name": "ipython",
    "version": 3
   },
   "file_extension": ".py",
   "mimetype": "text/x-python",
   "name": "python",
   "nbconvert_exporter": "python",
   "pygments_lexer": "ipython3",
   "version": "3.6.4"
  }
 },
 "nbformat": 4,
 "nbformat_minor": 1
}
