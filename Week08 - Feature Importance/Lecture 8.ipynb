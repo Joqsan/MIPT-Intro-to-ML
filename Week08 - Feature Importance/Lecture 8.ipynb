{
 "cells": [
  {
   "cell_type": "markdown",
   "metadata": {},
   "source": [
    "# 1. Introduction.\n",
    "\n",
    "- More than often, getting just the model's predictions is not enough when taking some problem. It's also required to understand why the models made those predictions.\n",
    "    - For example, in a credit scoring task.\n",
    "- With this goal, figuring out what features are the most important is key in interpreting our model's results.\n",
    "- With simple models like linear/logistic regression, then this information is easy to obtain: just look at the feature having the heaviest weight, and those will be the most importan features.\n",
    "- But with complex models there is no clear way to define a criteria for determining the most important features. In order to deal with this the SHAP (SHapley Additive exPlanations) were introduced. These values help to interpret each observation's prediction.\n",
    "\n",
    "- Useful link [here](https://towardsdatascience.com/one-feature-attribution-method-to-supposedly-rule-them-all-shapley-values-f3e04534983d)"
   ]
  },
  {
   "cell_type": "code",
   "execution_count": null,
   "metadata": {
    "collapsed": true
   },
   "outputs": [],
   "source": []
  }
 ],
 "metadata": {
  "kernelspec": {
   "display_name": "Python 3",
   "language": "python",
   "name": "python3"
  },
  "language_info": {
   "codemirror_mode": {
    "name": "ipython",
    "version": 3
   },
   "file_extension": ".py",
   "mimetype": "text/x-python",
   "name": "python",
   "nbconvert_exporter": "python",
   "pygments_lexer": "ipython3",
   "version": "3.6.4"
  }
 },
 "nbformat": 4,
 "nbformat_minor": 2
}
