{
 "cells": [
  {
   "cell_type": "markdown",
   "metadata": {
    "id": "NFmOh482SyEF"
   },
   "source": [
    "## Lab 2\n",
    "### Part 2: Dealing with overfitting"
   ]
  },
  {
   "cell_type": "markdown",
   "metadata": {
    "id": "AjzAuO3oSvsI"
   },
   "source": [
    "Today we work with [Fashion-MNIST dataset](https://github.com/zalandoresearch/fashion-mnist) (*hint: it is available in `torchvision`*).\n",
    "\n",
    "Your goal for today:\n",
    "1. Train a FC (fully-connected) network that achieves >= 0.885 test accuracy.\n",
    "2. Cause considerable overfitting by modifying the network (e.g. increasing the number of network parameters and/or layers) and demonstrate in in the appropriate way (e.g. plot loss and accurasy on train and validation set w.r.t. network complexity).\n",
    "3. Try to deal with overfitting (at least partially) by using regularization techniques (Dropout/Batchnorm/...) and demonstrate the results.\n",
    "\n",
    "__Please, write a small report describing your ideas, tries and achieved results in the end of this file.__\n",
    "\n",
    "*Note*: Tasks 2 and 3 are interrelated, in task 3 your goal is to make the network from task 2 less prone to overfitting. Task 1 is independent from 2 and 3.\n",
    "\n",
    "*Note 2*: We recomment to use Google Colab or other machine with GPU acceleration."
   ]
  },
  {
   "cell_type": "code",
   "execution_count": null,
   "metadata": {
    "id": "_KBld6VOSwhW"
   },
   "outputs": [],
   "source": [
    "import torch\n",
    "import torch.nn as nn\n",
    "import torchvision\n",
    "import torchvision.transforms as transforms\n",
    "import torchsummary\n",
    "from IPython.display import clear_output\n",
    "from matplotlib import pyplot as plt\n",
    "from matplotlib.pyplot import figure\n",
    "import numpy as np\n",
    "import os\n",
    "\n",
    "\n",
    "device = 'cuda:0' if torch.cuda.is_available() else 'cpu'"
   ]
  },
  {
   "cell_type": "code",
   "execution_count": null,
   "metadata": {
    "colab": {
     "base_uri": "https://localhost:8080/",
     "height": 35
    },
    "id": "Av9-z29fYw1L",
    "outputId": "92aede0e-6cd9-4bce-95a5-d9c829d43d55"
   },
   "outputs": [
    {
     "data": {
      "application/vnd.google.colaboratory.intrinsic+json": {
       "type": "string"
      },
      "text/plain": [
       "'cuda:0'"
      ]
     },
     "execution_count": 2,
     "metadata": {
      "tags": []
     },
     "output_type": "execute_result"
    }
   ],
   "source": [
    "device"
   ]
  },
  {
   "cell_type": "code",
   "execution_count": null,
   "metadata": {
    "colab": {
     "base_uri": "https://localhost:8080/"
    },
    "id": "EdLOG0XqS_g5",
    "outputId": "43a2fdd5-eddd-4246-d883-66805b55db82"
   },
   "outputs": [
    {
     "name": "stdout",
     "output_type": "stream",
     "text": [
      "Directory fmnist is created!\n"
     ]
    }
   ],
   "source": [
    "# Technical function\n",
    "def mkdir(path):\n",
    "    if not os.path.exists(root_path):\n",
    "        os.mkdir(root_path)\n",
    "        print('Directory', path, 'is created!')\n",
    "    else:\n",
    "        print('Directory', path, 'already exists!')\n",
    "        \n",
    "root_path = 'fmnist'\n",
    "mkdir(root_path)"
   ]
  },
  {
   "cell_type": "code",
   "execution_count": null,
   "metadata": {
    "colab": {
     "base_uri": "https://localhost:8080/",
     "height": 369,
     "referenced_widgets": [
      "74544a0558ff4f4c8b0670b510a2f2cc",
      "20d7e930e86d470780da40f3fd458def",
      "c88bd7b6c68d408c8e4331b94b0d17aa",
      "568e960cd2e14c5cbc27daed2faa8f8a",
      "26b1f0462e3a46d0a0707ac159c1c876",
      "b03d743f0251405cb46fa4fe8e98d1ca",
      "ed575e5b002c4fba8ca6b6d129e54381",
      "56f9a9a92de44475a4f1a3370781cba2",
      "a7ef00ff1bd647d9b0b1c1a1bc7551e2",
      "f5fe36f76b7348e099c0541c24ed2856",
      "025b6e7b30b546b39d86064d1178b140",
      "2542d636d17e43d8851e5abc5b1d06f4",
      "f481382d419a4a4785a039f14838d915",
      "f71cf8a7bb65403597f854670933b6b0",
      "12d9d29718504df392eff5dace2f8582",
      "8fea998331a3400e849eacc5fc61e505",
      "895d91f1baf443d99443f806e038734c",
      "863250bf38a84ae3a2b03b24ba765e2c",
      "4505c353477441ffbdaba93ca3a7f44b",
      "9bc7c7d7c01444ae9a8203540658394a",
      "0968d283fcd94626be2e8de56df352a5",
      "a5981f91c4ed42459eb38296868f1917",
      "b928d3ab614548259a570f98221c81b2",
      "19b30d72a1884896a7998ae542153d37",
      "3d928a7039f644fd87e472a2e49684f7",
      "66d1684d886a4b07afe5fe10b3ad9a5b",
      "97cd5b27bf4a432998a871ad3e602839",
      "d2f25983acf04b978f879d2a231061c1",
      "6d7a8dad5c39447a9860783e197c9f68",
      "f8ff00b8950041c49bd1c95291d6c8c9",
      "417fc0e8a1de4a50bf9bf09e722a5a07",
      "0472a2bb03dd4b568eebc05e0c32316b"
     ]
    },
    "id": "qt6LE7XaTDT9",
    "outputId": "fac16e28-b088-4989-84e7-01159cd24085"
   },
   "outputs": [
    {
     "name": "stdout",
     "output_type": "stream",
     "text": [
      "Downloading http://fashion-mnist.s3-website.eu-central-1.amazonaws.com/train-images-idx3-ubyte.gz to fmnist/FashionMNIST/raw/train-images-idx3-ubyte.gz\n"
     ]
    },
    {
     "data": {
      "application/vnd.jupyter.widget-view+json": {
       "model_id": "74544a0558ff4f4c8b0670b510a2f2cc",
       "version_major": 2,
       "version_minor": 0
      },
      "text/plain": [
       "HBox(children=(FloatProgress(value=1.0, bar_style='info', max=1.0), HTML(value='')))"
      ]
     },
     "metadata": {
      "tags": []
     },
     "output_type": "display_data"
    },
    {
     "name": "stdout",
     "output_type": "stream",
     "text": [
      "Extracting fmnist/FashionMNIST/raw/train-images-idx3-ubyte.gz to fmnist/FashionMNIST/raw\n",
      "Downloading http://fashion-mnist.s3-website.eu-central-1.amazonaws.com/train-labels-idx1-ubyte.gz to fmnist/FashionMNIST/raw/train-labels-idx1-ubyte.gz\n"
     ]
    },
    {
     "data": {
      "application/vnd.jupyter.widget-view+json": {
       "model_id": "a7ef00ff1bd647d9b0b1c1a1bc7551e2",
       "version_major": 2,
       "version_minor": 0
      },
      "text/plain": [
       "HBox(children=(FloatProgress(value=1.0, bar_style='info', max=1.0), HTML(value='')))"
      ]
     },
     "metadata": {
      "tags": []
     },
     "output_type": "display_data"
    },
    {
     "name": "stdout",
     "output_type": "stream",
     "text": [
      "Extracting fmnist/FashionMNIST/raw/train-labels-idx1-ubyte.gz to fmnist/FashionMNIST/raw\n",
      "Downloading http://fashion-mnist.s3-website.eu-central-1.amazonaws.com/t10k-images-idx3-ubyte.gz to fmnist/FashionMNIST/raw/t10k-images-idx3-ubyte.gz\n"
     ]
    },
    {
     "data": {
      "application/vnd.jupyter.widget-view+json": {
       "model_id": "895d91f1baf443d99443f806e038734c",
       "version_major": 2,
       "version_minor": 0
      },
      "text/plain": [
       "HBox(children=(FloatProgress(value=1.0, bar_style='info', max=1.0), HTML(value='')))"
      ]
     },
     "metadata": {
      "tags": []
     },
     "output_type": "display_data"
    },
    {
     "name": "stdout",
     "output_type": "stream",
     "text": [
      "Extracting fmnist/FashionMNIST/raw/t10k-images-idx3-ubyte.gz to fmnist/FashionMNIST/raw\n",
      "Downloading http://fashion-mnist.s3-website.eu-central-1.amazonaws.com/t10k-labels-idx1-ubyte.gz to fmnist/FashionMNIST/raw/t10k-labels-idx1-ubyte.gz\n"
     ]
    },
    {
     "data": {
      "application/vnd.jupyter.widget-view+json": {
       "model_id": "3d928a7039f644fd87e472a2e49684f7",
       "version_major": 2,
       "version_minor": 0
      },
      "text/plain": [
       "HBox(children=(FloatProgress(value=1.0, bar_style='info', max=1.0), HTML(value='')))"
      ]
     },
     "metadata": {
      "tags": []
     },
     "output_type": "display_data"
    },
    {
     "name": "stdout",
     "output_type": "stream",
     "text": [
      "Extracting fmnist/FashionMNIST/raw/t10k-labels-idx1-ubyte.gz to fmnist/FashionMNIST/raw\n",
      "Processing...\n",
      "Done!\n"
     ]
    },
    {
     "name": "stderr",
     "output_type": "stream",
     "text": [
      "/usr/local/lib/python3.6/dist-packages/torchvision/datasets/mnist.py:480: UserWarning: The given NumPy array is not writeable, and PyTorch does not support non-writeable tensors. This means you can write to the underlying (supposedly non-writeable) NumPy array using the tensor. You may want to copy the array to protect its data or make it writeable before converting it to a tensor. This type of warning will be suppressed for the rest of this program. (Triggered internally at  /pytorch/torch/csrc/utils/tensor_numpy.cpp:141.)\n",
      "  return torch.from_numpy(parsed.astype(m[2], copy=False)).view(*s)\n"
     ]
    }
   ],
   "source": [
    "download = True\n",
    "train_transform = transforms.ToTensor()\n",
    "test_transform = transforms.ToTensor()\n",
    "transforms.Compose((transforms.ToTensor()))\n",
    "\n",
    "\n",
    "fmnist_dataset_train = torchvision.datasets.FashionMNIST(root_path, \n",
    "                                                        train=True, \n",
    "                                                        transform=train_transform,\n",
    "                                                        target_transform=None,\n",
    "                                                        download=download)\n",
    "fmnist_dataset_test = torchvision.datasets.FashionMNIST(root_path, \n",
    "                                                       train=False, \n",
    "                                                       transform=test_transform,\n",
    "                                                       target_transform=None,\n",
    "                                                       download=download)"
   ]
  },
  {
   "cell_type": "code",
   "execution_count": null,
   "metadata": {
    "id": "71YP0SPwTIxD"
   },
   "outputs": [],
   "source": [
    "train_loader = torch.utils.data.DataLoader(fmnist_dataset_train, \n",
    "                                           batch_size=128,\n",
    "                                           shuffle=True,\n",
    "                                           num_workers=2)\n",
    "test_loader = torch.utils.data.DataLoader(fmnist_dataset_test,\n",
    "                                          batch_size=256,\n",
    "                                          shuffle=False,\n",
    "                                          num_workers=2)"
   ]
  },
  {
   "cell_type": "code",
   "execution_count": null,
   "metadata": {
    "colab": {
     "base_uri": "https://localhost:8080/"
    },
    "id": "v_YFmF7NTWrQ",
    "outputId": "d66ab352-0234-49e4-eb9c-7e87e8c05b34"
   },
   "outputs": [
    {
     "data": {
      "text/plain": [
       "10000"
      ]
     },
     "execution_count": 6,
     "metadata": {
      "tags": []
     },
     "output_type": "execute_result"
    }
   ],
   "source": [
    "len(fmnist_dataset_test)"
   ]
  },
  {
   "cell_type": "code",
   "execution_count": null,
   "metadata": {
    "colab": {
     "base_uri": "https://localhost:8080/"
    },
    "id": "aHca15bOTY4B",
    "outputId": "66a5d96c-928f-43fe-8e7a-cd23977ca25c"
   },
   "outputs": [
    {
     "name": "stdout",
     "output_type": "stream",
     "text": [
      "torch.Size([128, 1, 28, 28])\n",
      "torch.Size([128])\n",
      "128\n"
     ]
    }
   ],
   "source": [
    "for img, label in train_loader:\n",
    "    print(img.shape)\n",
    "#     print(img)\n",
    "    print(label.shape)\n",
    "    print(label.size(0))\n",
    "    break"
   ]
  },
  {
   "cell_type": "markdown",
   "metadata": {
    "id": "b6OOOffHTfX5"
   },
   "source": [
    "### Task 1\n",
    "Train a network that achieves $\\geq 0.885$ test accuracy. It's fine to use only Linear (`nn.Linear`) layers and activations/dropout/batchnorm. Convolutional layers might be a great use, but we will meet them a bit later."
   ]
  },
  {
   "cell_type": "markdown",
   "metadata": {
    "id": "rKjqng7_4igj"
   },
   "source": [
    "**<font color=blue>Observations:</font>**\n",
    "\n",
    "- We'll build a NN from the simplest one: with only two inner layers. If it doesn't achieve $0.885$, then we'll experiment with other network structure and activation functions."
   ]
  },
  {
   "cell_type": "code",
   "execution_count": null,
   "metadata": {
    "id": "ftpkTjxlTcFx"
   },
   "outputs": [],
   "source": [
    "class TinyNeuralNetwork(nn.Module):\n",
    "    def __init__(self, input_shape=28*28, num_classes=10, input_channels=1):\n",
    "        super(self.__class__, self).__init__()\n",
    "        self.model = nn.Sequential(\n",
    "            nn.Flatten(), # This layer converts image into a vector to use Linear layers afterwards\n",
    "            # Your network structure comes here\n",
    "            nn.Linear(input_shape, 500),\n",
    "            nn.ReLU(),\n",
    "            nn.Linear(500, num_classes),\n",
    "            nn.Sigmoid()\n",
    "        )\n",
    "        \n",
    "    def forward(self, inp):       \n",
    "        out = self.model(inp)\n",
    "        return out"
   ]
  },
  {
   "cell_type": "code",
   "execution_count": null,
   "metadata": {
    "colab": {
     "base_uri": "https://localhost:8080/"
    },
    "id": "0Hh2_SMUvNwh",
    "outputId": "6d932f9b-a2da-457d-ee34-e2ed9ce9bd01"
   },
   "outputs": [
    {
     "name": "stdout",
     "output_type": "stream",
     "text": [
      "----------------------------------------------------------------\n",
      "        Layer (type)               Output Shape         Param #\n",
      "================================================================\n",
      "           Flatten-1                  [-1, 784]               0\n",
      "            Linear-2                  [-1, 500]         392,500\n",
      "              ReLU-3                  [-1, 500]               0\n",
      "            Linear-4                   [-1, 10]           5,010\n",
      "           Sigmoid-5                   [-1, 10]               0\n",
      "================================================================\n",
      "Total params: 397,510\n",
      "Trainable params: 397,510\n",
      "Non-trainable params: 0\n",
      "----------------------------------------------------------------\n",
      "Input size (MB): 0.00\n",
      "Forward/backward pass size (MB): 0.01\n",
      "Params size (MB): 1.52\n",
      "Estimated Total Size (MB): 1.53\n",
      "----------------------------------------------------------------\n"
     ]
    }
   ],
   "source": [
    "torchsummary.summary(TinyNeuralNetwork().to(device), (28*28,))"
   ]
  },
  {
   "cell_type": "markdown",
   "metadata": {
    "id": "544PGKEnjPr5"
   },
   "source": [
    "Your experiments come here:"
   ]
  },
  {
   "cell_type": "markdown",
   "metadata": {
    "id": "qlG9ttdKwlLw"
   },
   "source": [
    "**<font color=blue>Observations:</font>**\n",
    "\n",
    "- Disclaimer: The function `train_model` above is largely based on the function with the same name used during `week0_09`."
   ]
  },
  {
   "cell_type": "code",
   "execution_count": null,
   "metadata": {
    "id": "I_QATLxcp9Zv"
   },
   "outputs": [],
   "source": [
    "def train_model(model, train_loader, val_loader, loss_fn, opt, n_epochs: int, device=device):\n",
    "    '''\n",
    "    model: нейросеть для обучения,\n",
    "    train_loader, val_loader: загрузчики данных\n",
    "    loss_fn: целевая метрика (которую будем оптимизировать)\n",
    "    opt: оптимизатор (обновляет веса нейросети)\n",
    "    n_epochs: кол-во эпох, полных проходов датасета\n",
    "    '''\n",
    "    train_loss = []\n",
    "    val_loss = []\n",
    "\n",
    "    train_accuracy = []\n",
    "    val_accuracy = []\n",
    "    \n",
    "    for epoch in range(n_epochs):\n",
    "        ep_train_loss = []\n",
    "        ep_val_loss = []\n",
    "\n",
    "        ep_train_accuracy = []\n",
    "        ep_val_accuracy = []\n",
    "\n",
    "        # Turn on the training mode.\n",
    "        model.train(True) # enable dropout / batch_norm training behavior\n",
    "        for X_batch, y_batch in train_loader:\n",
    "            \n",
    "            # 1) zero the grads\n",
    "            opt.zero_grad()\n",
    "            \n",
    "            # move data to target device\n",
    "            X_batch, y_batch = X_batch.to(device), y_batch.to(device)\n",
    "            \n",
    "            # 2) Do forward pass\n",
    "            out = model(X_batch)\n",
    "\n",
    "            # 3) Compute loss\n",
    "            loss = loss_fn(out, y_batch)\n",
    "            \n",
    "\n",
    "            # 4) Compute gradients (backward pass)\n",
    "            loss.backward()\n",
    "            \n",
    "            # 5) Compute gradient step (with Adam) \n",
    "            opt.step()\n",
    "\n",
    "            ep_train_loss.append(loss.item())\n",
    "            # 6) Compute train accuracy\n",
    "            y_pred = out.max(dim=1)[1]\n",
    "            ep_train_accuracy.append(np.sum((y_pred.cpu() == y_batch.cpu()).numpy().astype(float))/len(y_batch))\n",
    "                        \n",
    "        # Turn of training mode.\n",
    "        model.train(False) # disable dropout / use moving averages for batch_norm\n",
    "        # torch.no_grad() in order to save memory.\n",
    "        with torch.no_grad():\n",
    "          for X_batch, y_batch in val_loader:\n",
    "\n",
    "                # move data to target device\n",
    "                X_batch, y_batch = X_batch.to(device), y_batch.to(device)\n",
    "                \n",
    "                # 1) Compute probas\n",
    "                out = model(X_batch)\n",
    "\n",
    "                # 2) Compute loss\n",
    "                loss = loss_fn(out, y_batch)\n",
    "                ep_val_loss.append(loss.item())\n",
    "\n",
    "                # 3) Compute predictions\n",
    "                y_pred = out.max(dim=1)[1]### YOUR CODE HERE\n",
    "                \n",
    "                # 4) Compute accuracy\n",
    "                ep_val_accuracy.append(np.sum((y_pred.cpu() == y_batch.cpu()).numpy().astype(float))/len(y_batch))\n",
    "\n",
    "        # print the results for this epoch:\n",
    "        # print(f'Epoch {epoch + 1} of {n_epochs} took {time.time() - start_time:.3f}s')\n",
    "\n",
    "        train_loss.append(np.mean(ep_train_loss))\n",
    "        val_loss.append(np.mean(ep_val_loss))\n",
    "\n",
    "        train_accuracy.append(np.mean(ep_train_accuracy))\n",
    "        val_accuracy.append(np.mean(ep_val_accuracy))\n",
    "        \n",
    "        # print(f\"\\t  training loss: {train_loss[-1]:.6f}\")\n",
    "        # print(f\"\\tvalidation loss: {val_loss[-1]:.6f}\")\n",
    "        # print(f\"\\tvalidation accuracy: {val_accuracy[-1]:.3f}\")\n",
    "\n",
    "    return train_loss, val_loss, train_accuracy, val_accuracy\n",
    "    # return train_loss, val_loss, val_accuracy"
   ]
  },
  {
   "cell_type": "code",
   "execution_count": null,
   "metadata": {
    "id": "-wBAFY2VyG-t"
   },
   "outputs": [],
   "source": [
    "def plot_train_process(title, train_loss, val_loss, val_accuracy, train_accuracy):\n",
    "    fig, axes = plt.subplots(1, 2, figsize=(15, 5))\n",
    "\n",
    "    fig.suptitle(title, fontsize=24)\n",
    "\n",
    "    axes[0].set_title('Loss')\n",
    "    axes[0].plot(train_loss, label='train')\n",
    "    axes[0].plot(val_loss, label='test')\n",
    "    axes[0].legend()\n",
    "\n",
    "    axes[1].set_title('Accuracy')\n",
    "    axes[1].plot(train_accuracy, label='train')\n",
    "    axes[1].plot(val_accuracy, label='test')\n",
    "    axes[1].legend()"
   ]
  },
  {
   "cell_type": "code",
   "execution_count": null,
   "metadata": {
    "id": "i3POFj90Ti-6"
   },
   "outputs": [],
   "source": [
    "model = TinyNeuralNetwork().to(device)\n",
    "opt = torch.optim.Adam(model.parameters(), lr=1e-3)# YOUR CODE HERE\n",
    "loss_func = nn.CrossEntropyLoss() # YOUR CODE HERE"
   ]
  },
  {
   "cell_type": "code",
   "execution_count": null,
   "metadata": {
    "id": "Kh5VPyNtyI-1"
   },
   "outputs": [],
   "source": [
    "n_epochs = 60\n",
    "train_loss, val_loss, train_accuracy, val_accuracy = train_model(model, train_loader, test_loader, loss_func, opt, n_epochs)"
   ]
  },
  {
   "cell_type": "code",
   "execution_count": null,
   "metadata": {
    "colab": {
     "base_uri": "https://localhost:8080/"
    },
    "id": "czgf6jGhyIz9",
    "outputId": "2071e31a-3306-4dc1-d20f-55ddf41937a0"
   },
   "outputs": [
    {
     "data": {
      "text/plain": [
       "0.88701171875"
      ]
     },
     "execution_count": 15,
     "metadata": {
      "tags": []
     },
     "output_type": "execute_result"
    }
   ],
   "source": [
    "val_accuracy[-1]"
   ]
  },
  {
   "cell_type": "markdown",
   "metadata": {
    "id": "0cu9CcYh5rEA"
   },
   "source": [
    "- $0.887$ in test accuracy is fair enough."
   ]
  },
  {
   "cell_type": "markdown",
   "metadata": {
    "id": "L7ISqkjmCPB1"
   },
   "source": [
    "### Task 2: Overfit it.\n",
    "Build a network that will overfit to this dataset. Demonstrate the overfitting in the appropriate way (e.g. plot loss and accurasy on train and test set w.r.t. network complexity).\n",
    "\n",
    "*Note:* you also might decrease the size of `train` dataset to enforce the overfitting and speed up the computations."
   ]
  },
  {
   "cell_type": "code",
   "execution_count": null,
   "metadata": {
    "id": "83ps3ERflXPM"
   },
   "outputs": [],
   "source": [
    "from torch.utils.data import Subset"
   ]
  },
  {
   "cell_type": "code",
   "execution_count": null,
   "metadata": {
    "id": "TWqjIi9LnHc8"
   },
   "outputs": [],
   "source": [
    "def subset_ind(dataset, ratio: float):\n",
    "    return np.random.choice(len(dataset), size=int(ratio*len(dataset)), replace=False)"
   ]
  },
  {
   "cell_type": "code",
   "execution_count": null,
   "metadata": {
    "id": "i5sOYAUdnwRH"
   },
   "outputs": [],
   "source": [
    "small_train_id = subset_ind(fmnist_dataset_train, 0.5)"
   ]
  },
  {
   "cell_type": "code",
   "execution_count": null,
   "metadata": {
    "colab": {
     "base_uri": "https://localhost:8080/"
    },
    "id": "gTLcxnbro_gb",
    "outputId": "52474529-30c7-465f-f913-6b651030af10"
   },
   "outputs": [
    {
     "data": {
      "text/plain": [
       "30000"
      ]
     },
     "execution_count": 19,
     "metadata": {
      "tags": []
     },
     "output_type": "execute_result"
    }
   ],
   "source": [
    "len(small_train_id)"
   ]
  },
  {
   "cell_type": "code",
   "execution_count": null,
   "metadata": {
    "id": "HqEKuOiEpyD9"
   },
   "outputs": [],
   "source": [
    "small_train = Subset(fmnist_dataset_train, small_train_id)"
   ]
  },
  {
   "cell_type": "code",
   "execution_count": null,
   "metadata": {
    "id": "0-W_tDCypqFO"
   },
   "outputs": [],
   "source": [
    "small_train_loader = torch.utils.data.DataLoader(small_train, \n",
    "                                           batch_size=128,\n",
    "                                           shuffle=True,\n",
    "                                           num_workers=2)"
   ]
  },
  {
   "cell_type": "markdown",
   "metadata": {
    "id": "01IQUSrU5_Uk"
   },
   "source": [
    "**<font color=blue>Observations:</font>**\n",
    "\n",
    "- We are dealing with classification. That is, for a given instance $x$ the output layer will give a vector $\\hat{y}_x$ of dimensions `num_classes`. The natural way to proceed would be to use an activation that translates this values to, at least, a symmetric range (if we are using Cross Entropy Loss then the better choice would to use Softmax as activation to bring all the values in $\\hat{y}_x$ between $0$ and $1$, giving them the meaning of probability of belonging to a class).\n",
    "- To generate an overfitting network our attempt consists in using LeakyReLU as the activation function of the output layer. In contrast to that said above, LeakyReLU doesn't bring any meaningful advantage (having Cross Entropy as loss function). Moreover, it dumps negative values in $\\hat{y}$ close to zero, which we think may bring some instability at the moment making predictions."
   ]
  },
  {
   "cell_type": "code",
   "execution_count": null,
   "metadata": {
    "id": "H12uAWiGBwJx"
   },
   "outputs": [],
   "source": [
    "class OverfittingNeuralNetwork(nn.Module):\n",
    "    def __init__(self, input_shape=28*28, num_classes=10, input_channels=1):\n",
    "        super(self.__class__, self).__init__()\n",
    "        self.model = nn.Sequential(\n",
    "            nn.Flatten(), # This layer converts image into a vector to use Linear layers afterwards\n",
    "            # Your network structure comes here\n",
    "            nn.Linear(input_shape, 500),\n",
    "            nn.LeakyReLU(),\n",
    "            nn.Linear(500, 200),\n",
    "            nn.LeakyReLU(),\n",
    "            nn.Linear(200, 100),\n",
    "            nn.LeakyReLU(),\n",
    "            nn.Linear(100, num_classes),\n",
    "            nn.LeakyReLU()\n",
    "\n",
    "        )\n",
    "        \n",
    "    def forward(self, inp):       \n",
    "        out = self.model(inp)\n",
    "        return out"
   ]
  },
  {
   "cell_type": "code",
   "execution_count": null,
   "metadata": {
    "colab": {
     "base_uri": "https://localhost:8080/"
    },
    "id": "JgXAKCpvCwqH",
    "outputId": "5f30eecb-74ef-4327-d1ba-a4901ec4b7d7"
   },
   "outputs": [
    {
     "name": "stdout",
     "output_type": "stream",
     "text": [
      "----------------------------------------------------------------\n",
      "        Layer (type)               Output Shape         Param #\n",
      "================================================================\n",
      "           Flatten-1                  [-1, 784]               0\n",
      "            Linear-2                  [-1, 500]         392,500\n",
      "         LeakyReLU-3                  [-1, 500]               0\n",
      "            Linear-4                  [-1, 200]         100,200\n",
      "         LeakyReLU-5                  [-1, 200]               0\n",
      "            Linear-6                  [-1, 100]          20,100\n",
      "         LeakyReLU-7                  [-1, 100]               0\n",
      "            Linear-8                   [-1, 10]           1,010\n",
      "         LeakyReLU-9                   [-1, 10]               0\n",
      "================================================================\n",
      "Total params: 513,810\n",
      "Trainable params: 513,810\n",
      "Non-trainable params: 0\n",
      "----------------------------------------------------------------\n",
      "Input size (MB): 0.00\n",
      "Forward/backward pass size (MB): 0.02\n",
      "Params size (MB): 1.96\n",
      "Estimated Total Size (MB): 1.98\n",
      "----------------------------------------------------------------\n"
     ]
    }
   ],
   "source": [
    "torchsummary.summary(OverfittingNeuralNetwork().to(device), (28*28,))"
   ]
  },
  {
   "cell_type": "code",
   "execution_count": null,
   "metadata": {
    "id": "OGMPTIqqvNwh"
   },
   "outputs": [],
   "source": [
    "del model, opt, loss_func\n",
    "model = OverfittingNeuralNetwork().to(device)\n",
    "opt = torch.optim.Adam(model.parameters(), lr=1e-3)# YOUR CODE HERE\n",
    "loss_func = nn.CrossEntropyLoss() # YOUR CODE HERE\n",
    "\n",
    "# Your experiments, come here"
   ]
  },
  {
   "cell_type": "code",
   "execution_count": null,
   "metadata": {
    "id": "KJOGY5PVpqK3"
   },
   "outputs": [],
   "source": [
    "n_epochs = 60\n",
    "del train_loss, val_loss, train_accuracy, val_accuracy\n",
    "train_loss, val_loss, train_accuracy, val_accuracy = train_model(model, small_train_loader, test_loader, loss_func, opt, n_epochs)"
   ]
  },
  {
   "cell_type": "code",
   "execution_count": null,
   "metadata": {
    "colab": {
     "base_uri": "https://localhost:8080/",
     "height": 356
    },
    "id": "f_ghSdxC_pUk",
    "outputId": "29f7eff3-8eab-489c-bab9-a42ea71b829f"
   },
   "outputs": [
    {
     "data": {
      "image/png": "[encoded data removed]",
      "text/plain": [
       "<Figure size 1080x360 with 2 Axes>"
      ]
     },
     "metadata": {
      "needs_background": "light",
      "tags": []
     },
     "output_type": "display_data"
    }
   ],
   "source": [
    "plot_train_process('Overfitted NN', train_loss, val_loss, val_accuracy, train_accuracy)"
   ]
  },
  {
   "cell_type": "code",
   "execution_count": null,
   "metadata": {
    "colab": {
     "base_uri": "https://localhost:8080/"
    },
    "id": "Ji_0fvi5_qBJ",
    "outputId": "8ae814b6-85a3-4fce-d73d-4c9b47f9becb"
   },
   "outputs": [
    {
     "name": "stdout",
     "output_type": "stream",
     "text": [
      "train loss: 0.0461\n",
      "test loss: 0.7724\n",
      "\n",
      "train accuracy: 0.9832\n",
      "test accuracy: 0.8735\n"
     ]
    }
   ],
   "source": [
    "print('train loss: {:.4f}\\ntest loss: {:.4f}\\n'.format(train_loss[-1], val_loss[-1]))\n",
    "print('train accuracy: {:.4f}\\ntest accuracy: {:.4f}'.format(train_accuracy[-1], val_accuracy[-1]))"
   ]
  },
  {
   "cell_type": "markdown",
   "metadata": {
    "id": "gZZRQnX4_poe"
   },
   "source": [
    "**<font color=blue>Conclusions</font>**\n",
    "\n",
    "- The overfitting is quite clear:\n",
    "  - Test loss not only stops decreasing while the training loss decreases but also worsens with the number of epochs.\n",
    "  - Test accuracy reaches a plateau while training accuracy gradually improves even for the last iterations."
   ]
  },
  {
   "cell_type": "markdown",
   "metadata": {
    "id": "UYz6-wgvvNwh"
   },
   "source": [
    "### Task 3: Fix it.\n",
    "Fix the overfitted network from the previous step (at least partially) by using regularization techniques (Dropout/Batchnorm/...) and demonstrate the results. "
   ]
  },
  {
   "cell_type": "markdown",
   "metadata": {
    "id": "IhovmRJLIMwJ"
   },
   "source": [
    "**<font color=blue>Observations:</font>**\n",
    "\n",
    "- In order to perform some experiments we allowed ourselves to change the signature of `FixedNeuralNetwork()`:\n",
    "  - The first and last layers are allowed to remain the same for all the experiment: nn.Linear and with nn.LeakyReLu() as activation for the output layer.\n",
    "  - `intermediate_layers` will be the hidden structure that we'll pass as argument and that depends on whether we're adding Dropout only, BN only or Dropout and BN combined."
   ]
  },
  {
   "cell_type": "code",
   "execution_count": null,
   "metadata": {
    "id": "2EWS_2_ovNwh"
   },
   "outputs": [],
   "source": [
    "class FixedNeuralNetwork(nn.Module):\n",
    "    def __init__(self, intermediate_layers, input_shape=28*28, num_classes=10, input_channels=1):\n",
    "        super(self.__class__, self).__init__()\n",
    "        network = [nn.Flatten(), nn.Linear(input_shape, 500)] + intermediate_layers + [nn.Linear(100, num_classes),nn.LeakyReLU()]\n",
    "        self.model = nn.Sequential(*network)\n",
    "        \n",
    "    def forward(self, inp):       \n",
    "        out = self.model(inp)\n",
    "        return out"
   ]
  },
  {
   "cell_type": "markdown",
   "metadata": {
    "id": "1RZnWMB5rceY"
   },
   "source": [
    "**<font color=blue> Experiment 1:</font> Dropout Only.**"
   ]
  },
  {
   "cell_type": "code",
   "execution_count": null,
   "metadata": {
    "id": "mtC7CI18k-Kd"
   },
   "outputs": [],
   "source": [
    "layers_dropout = [\n",
    "                        nn.LeakyReLU(),\n",
    "                        nn.Dropout(0.5),\n",
    "                        nn.Linear(500, 200),\n",
    "                        nn.LeakyReLU(),\n",
    "                        nn.Dropout(0.5),\n",
    "                        nn.Linear(200, 100),\n",
    "                        nn.LeakyReLU(),\n",
    "]"
   ]
  },
  {
   "cell_type": "code",
   "execution_count": null,
   "metadata": {
    "colab": {
     "base_uri": "https://localhost:8080/"
    },
    "id": "4rynnwXnvNwh",
    "outputId": "b8c40ee4-e332-4b4e-a5e1-e57136e5a68a"
   },
   "outputs": [
    {
     "name": "stdout",
     "output_type": "stream",
     "text": [
      "----------------------------------------------------------------\n",
      "        Layer (type)               Output Shape         Param #\n",
      "================================================================\n",
      "           Flatten-1                  [-1, 784]               0\n",
      "            Linear-2                  [-1, 500]         392,500\n",
      "         LeakyReLU-3                  [-1, 500]               0\n",
      "           Dropout-4                  [-1, 500]               0\n",
      "            Linear-5                  [-1, 200]         100,200\n",
      "         LeakyReLU-6                  [-1, 200]               0\n",
      "           Dropout-7                  [-1, 200]               0\n",
      "            Linear-8                  [-1, 100]          20,100\n",
      "         LeakyReLU-9                  [-1, 100]               0\n",
      "           Linear-10                   [-1, 10]           1,010\n",
      "        LeakyReLU-11                   [-1, 10]               0\n",
      "================================================================\n",
      "Total params: 513,810\n",
      "Trainable params: 513,810\n",
      "Non-trainable params: 0\n",
      "----------------------------------------------------------------\n",
      "Input size (MB): 0.00\n",
      "Forward/backward pass size (MB): 0.02\n",
      "Params size (MB): 1.96\n",
      "Estimated Total Size (MB): 1.99\n",
      "----------------------------------------------------------------\n"
     ]
    }
   ],
   "source": [
    "torchsummary.summary(FixedNeuralNetwork(layers_dropout).to(device), (28*28,))"
   ]
  },
  {
   "cell_type": "code",
   "execution_count": null,
   "metadata": {
    "id": "w38YArj_vNwh"
   },
   "outputs": [],
   "source": [
    "del model, opt, loss_func\n",
    "model = FixedNeuralNetwork(layers_dropout).to(device)\n",
    "opt = torch.optim.Adam(model.parameters(), lr=1e-3, weight_decay=1e-5)# YOUR CODE HERE\n",
    "loss_func = nn.CrossEntropyLoss() # YOUR CODE HERE\n",
    "\n",
    "# Your experiments, come here"
   ]
  },
  {
   "cell_type": "code",
   "execution_count": null,
   "metadata": {
    "id": "N7NSefBggK2y"
   },
   "outputs": [],
   "source": [
    "del train_loss, val_loss, train_accuracy, val_accuracy\n",
    "n_epochs = 60\n",
    "train_loss, val_loss, train_accuracy, val_accuracy = train_model(model, small_train_loader, test_loader, loss_func, opt, n_epochs)"
   ]
  },
  {
   "cell_type": "code",
   "execution_count": null,
   "metadata": {
    "colab": {
     "base_uri": "https://localhost:8080/",
     "height": 356
    },
    "id": "cWNPStZugLJ8",
    "outputId": "3675a2b3-122c-4149-d68b-94f1c4c9518a"
   },
   "outputs": [
    {
     "data": {
      "image/png": "[encoded data removed]",
      "text/plain": [
       "<Figure size 1080x360 with 2 Axes>"
      ]
     },
     "metadata": {
      "needs_background": "light",
      "tags": []
     },
     "output_type": "display_data"
    }
   ],
   "source": [
    "plot_train_process(\"Dropout Only\", train_loss, val_loss, val_accuracy, train_accuracy)"
   ]
  },
  {
   "cell_type": "code",
   "execution_count": null,
   "metadata": {
    "colab": {
     "base_uri": "https://localhost:8080/"
    },
    "id": "4EFN2H0TgK-S",
    "outputId": "b4d7f4f0-2f9e-41b4-fdcf-92ff26f6e525"
   },
   "outputs": [
    {
     "name": "stdout",
     "output_type": "stream",
     "text": [
      "train loss: 0.2390\n",
      "test loss: 0.3346\n",
      "\n",
      "train accuracy: 0.9081\n",
      "test accuracy: 0.8896\n"
     ]
    }
   ],
   "source": [
    "print('train loss: {:.4f}\\ntest loss: {:.4f}\\n'.format(train_loss[-1], val_loss[-1]))\n",
    "print('train accuracy: {:.4f}\\ntest accuracy: {:.4f}'.format(train_accuracy[-1], val_accuracy[-1]))"
   ]
  },
  {
   "cell_type": "markdown",
   "metadata": {
    "id": "Hi9eYScgKYhb"
   },
   "source": [
    "**<font color=blue>Conclusions</font>**\n",
    "\n",
    "- The training loss and training are slightly worse than the case without dropout. This make sense, since with dropout we expect the network to reduce its tendency to fit noise in the training data.\n",
    "- Test loss significantly improved from the previous case: it doesn't bounce up and seems to reach a plateau at around $0.4$.\n",
    "- Test accuracy also improved and it much closer to traing accuracy than in the previous case.\n"
   ]
  },
  {
   "cell_type": "markdown",
   "metadata": {
    "id": "_sWd5RtErnDp"
   },
   "source": [
    "**<font color=blue> Experiment 2:</font> Batch Normalization Only.**"
   ]
  },
  {
   "cell_type": "code",
   "execution_count": null,
   "metadata": {
    "id": "dN30qZREgKuQ"
   },
   "outputs": [],
   "source": [
    "layers_bn = [\n",
    "                        \n",
    "                        nn.LeakyReLU(),\n",
    "                        nn.BatchNorm1d(500),\n",
    "                        \n",
    "                        \n",
    "                        nn.Linear(500, 200),\n",
    "\n",
    "                        nn.LeakyReLU(),\n",
    "                        nn.BatchNorm1d(200),\n",
    "                        \n",
    "             \n",
    "                        nn.Linear(200, 100),\n",
    "                        nn.LeakyReLU(),\n",
    "]"
   ]
  },
  {
   "cell_type": "code",
   "execution_count": null,
   "metadata": {
    "colab": {
     "base_uri": "https://localhost:8080/"
    },
    "id": "kWKtJ-5Brt42",
    "outputId": "423f46f1-6d52-40a6-bc68-8736b30480de"
   },
   "outputs": [
    {
     "name": "stdout",
     "output_type": "stream",
     "text": [
      "----------------------------------------------------------------\n",
      "        Layer (type)               Output Shape         Param #\n",
      "================================================================\n",
      "           Flatten-1                  [-1, 784]               0\n",
      "            Linear-2                  [-1, 500]         392,500\n",
      "         LeakyReLU-3                  [-1, 500]               0\n",
      "       BatchNorm1d-4                  [-1, 500]           1,000\n",
      "            Linear-5                  [-1, 200]         100,200\n",
      "         LeakyReLU-6                  [-1, 200]               0\n",
      "       BatchNorm1d-7                  [-1, 200]             400\n",
      "            Linear-8                  [-1, 100]          20,100\n",
      "         LeakyReLU-9                  [-1, 100]               0\n",
      "           Linear-10                   [-1, 10]           1,010\n",
      "        LeakyReLU-11                   [-1, 10]               0\n",
      "================================================================\n",
      "Total params: 515,210\n",
      "Trainable params: 515,210\n",
      "Non-trainable params: 0\n",
      "----------------------------------------------------------------\n",
      "Input size (MB): 0.00\n",
      "Forward/backward pass size (MB): 0.02\n",
      "Params size (MB): 1.97\n",
      "Estimated Total Size (MB): 1.99\n",
      "----------------------------------------------------------------\n"
     ]
    }
   ],
   "source": [
    "torchsummary.summary(FixedNeuralNetwork(layers_bn).to(device), (28*28,))"
   ]
  },
  {
   "cell_type": "code",
   "execution_count": null,
   "metadata": {
    "id": "su8JxaaJruIn"
   },
   "outputs": [],
   "source": [
    "del model, opt, loss_func\n",
    "model = FixedNeuralNetwork(layers_bn).to(device)\n",
    "opt = torch.optim.Adam(model.parameters(), lr=1e-3, weight_decay=1e-5)# YOUR CODE HERE\n",
    "loss_func = nn.CrossEntropyLoss() # YOUR CODE HERE\n",
    "\n",
    "# Your experiments, come here"
   ]
  },
  {
   "cell_type": "code",
   "execution_count": null,
   "metadata": {
    "id": "5Zd4cVEwruZa"
   },
   "outputs": [],
   "source": [
    "del train_loss, val_loss, train_accuracy, val_accuracy\n",
    "n_epochs = 60\n",
    "train_loss, val_loss, train_accuracy, val_accuracy = train_model(model, small_train_loader, test_loader, loss_func, opt, n_epochs)"
   ]
  },
  {
   "cell_type": "code",
   "execution_count": null,
   "metadata": {
    "colab": {
     "base_uri": "https://localhost:8080/",
     "height": 356
    },
    "id": "4PqxVyE3ruP9",
    "outputId": "0bcf98c9-a62d-4938-9487-5b818ebce92e"
   },
   "outputs": [
    {
     "data": {
      "image/png": "[encoded data removed]",
      "text/plain": [
       "<Figure size 1080x360 with 2 Axes>"
      ]
     },
     "metadata": {
      "needs_background": "light",
      "tags": []
     },
     "output_type": "display_data"
    }
   ],
   "source": [
    "plot_train_process(\"BN Only\", train_loss, val_loss, val_accuracy, train_accuracy)"
   ]
  },
  {
   "cell_type": "code",
   "execution_count": null,
   "metadata": {
    "colab": {
     "base_uri": "https://localhost:8080/"
    },
    "id": "Hw9-boUnrt-s",
    "outputId": "2741bef4-1d30-4e85-cc8e-19fb91543a55"
   },
   "outputs": [
    {
     "name": "stdout",
     "output_type": "stream",
     "text": [
      "train loss: 0.0684\n",
      "test loss: 0.6150\n",
      "\n",
      "train accuracy: 0.9732\n",
      "test accuracy: 0.8717\n"
     ]
    }
   ],
   "source": [
    "print('train loss: {:.4f}\\ntest loss: {:.4f}\\n'.format(train_loss[-1], val_loss[-1]))\n",
    "print('train accuracy: {:.4f}\\ntest accuracy: {:.4f}'.format(train_accuracy[-1], val_accuracy[-1]))"
   ]
  },
  {
   "cell_type": "markdown",
   "metadata": {
    "id": "Mf24sHU_OHAK"
   },
   "source": [
    "**<font color=blue>Conclusions</font>**\n",
    "\n",
    "- In this case Batch Norm doesn't provide any improvements. This may be due to:\n",
    "  - batch size ($128$) is to small which bring unstability to BN.\n",
    "  - The chosen network structure chosen doesn't allow for improvements through BN.\n",
    "  - One way to see it is this (for simplicity, let the layers output a number for each single observation): After LeakyReLU, some output instances from the previous FC layer are dropped down to (almost) zero (the ones for which its FC output is negative). This\n",
    "    - 1) modifies the underlying data distribution the mean and variance for BN are calculated upon, and\n",
    "    - 2) causes some weights for the subsequent FC layer to be quite large, compensanting for the smaller values received as inputs (the ones the BN layer gave). For large input value will be the other way around. During testing BN will try to give the test set the same distribution as the one it saw during training (by applying moving mean and variance), but there is no guarantee that the test data will be normalize $\\implies$ any slight deviation from normalization will produce some values for which the computation for the next FC will set the values off the range (some weights are too small, other too big). All this adds up as we go deeper into the network."
   ]
  },
  {
   "cell_type": "markdown",
   "metadata": {
    "id": "gEPynAk1yfuU"
   },
   "source": [
    "**<font color=blue> Experiment 3:</font> Dropout + Batch Norm.**\n"
   ]
  },
  {
   "cell_type": "code",
   "execution_count": null,
   "metadata": {
    "id": "pAo29eJEycBC"
   },
   "outputs": [],
   "source": [
    "layers_do_bn = [\n",
    "                        nn.BatchNorm1d(500),\n",
    "                        nn.LeakyReLU(),\n",
    "                        nn.Dropout(0.5),\n",
    "                        \n",
    "\n",
    "                        nn.Linear(500, 200),\n",
    "                \n",
    "                        nn.BatchNorm1d(200),\n",
    "                        nn.LeakyReLU(),\n",
    "                        nn.Dropout(0.5),\n",
    "             \n",
    "                        nn.Linear(200, 100),\n",
    "                        nn.LeakyReLU(),\n",
    "]"
   ]
  },
  {
   "cell_type": "code",
   "execution_count": null,
   "metadata": {
    "colab": {
     "base_uri": "https://localhost:8080/"
    },
    "id": "_5MwOIDPrtyQ",
    "outputId": "c0d5af3c-f37a-4fd5-b83d-c392ead704a8"
   },
   "outputs": [
    {
     "name": "stdout",
     "output_type": "stream",
     "text": [
      "----------------------------------------------------------------\n",
      "        Layer (type)               Output Shape         Param #\n",
      "================================================================\n",
      "           Flatten-1                  [-1, 784]               0\n",
      "            Linear-2                  [-1, 500]         392,500\n",
      "       BatchNorm1d-3                  [-1, 500]           1,000\n",
      "         LeakyReLU-4                  [-1, 500]               0\n",
      "           Dropout-5                  [-1, 500]               0\n",
      "            Linear-6                  [-1, 200]         100,200\n",
      "       BatchNorm1d-7                  [-1, 200]             400\n",
      "         LeakyReLU-8                  [-1, 200]               0\n",
      "           Dropout-9                  [-1, 200]               0\n",
      "           Linear-10                  [-1, 100]          20,100\n",
      "        LeakyReLU-11                  [-1, 100]               0\n",
      "           Linear-12                   [-1, 10]           1,010\n",
      "        LeakyReLU-13                   [-1, 10]               0\n",
      "================================================================\n",
      "Total params: 515,210\n",
      "Trainable params: 515,210\n",
      "Non-trainable params: 0\n",
      "----------------------------------------------------------------\n",
      "Input size (MB): 0.00\n",
      "Forward/backward pass size (MB): 0.03\n",
      "Params size (MB): 1.97\n",
      "Estimated Total Size (MB): 2.00\n",
      "----------------------------------------------------------------\n"
     ]
    }
   ],
   "source": [
    "torchsummary.summary(FixedNeuralNetwork(layers_do_bn).to(device), (28*28,))"
   ]
  },
  {
   "cell_type": "code",
   "execution_count": null,
   "metadata": {
    "id": "6TZdvcVN2hLT"
   },
   "outputs": [],
   "source": [
    "del model, opt, loss_func\n",
    "model = FixedNeuralNetwork(layers_do_bn).to(device)\n",
    "opt = torch.optim.Adam(model.parameters(), lr=1e-3, weight_decay=1e-5)# YOUR CODE HERE\n",
    "loss_func = nn.CrossEntropyLoss() # YOUR CODE HERE\n",
    "\n",
    "# Your experiments, come here"
   ]
  },
  {
   "cell_type": "code",
   "execution_count": null,
   "metadata": {
    "id": "dzbG_xGu2hFU"
   },
   "outputs": [],
   "source": [
    "del train_loss, val_loss, train_accuracy, val_accuracy\n",
    "n_epochs = 60\n",
    "train_loss, val_loss, train_accuracy, val_accuracy = train_model(model, small_train_loader, test_loader, loss_func, opt, n_epochs)"
   ]
  },
  {
   "cell_type": "code",
   "execution_count": null,
   "metadata": {
    "colab": {
     "base_uri": "https://localhost:8080/",
     "height": 356
    },
    "id": "IJluyZpJ2g_d",
    "outputId": "026752a3-f422-4346-827c-68a111bbb2bf"
   },
   "outputs": [
    {
     "data": {
      "image/png": "[encoded data removed]",
      "text/plain": [
       "<Figure size 1080x360 with 2 Axes>"
      ]
     },
     "metadata": {
      "needs_background": "light",
      "tags": []
     },
     "output_type": "display_data"
    }
   ],
   "source": [
    "plot_train_process(\"Dropout + BN\", train_loss, val_loss, val_accuracy, train_accuracy)"
   ]
  },
  {
   "cell_type": "code",
   "execution_count": null,
   "metadata": {
    "colab": {
     "base_uri": "https://localhost:8080/"
    },
    "id": "9vPF6qg032N2",
    "outputId": "02a324e5-f48a-45ba-c654-54b10d6950eb"
   },
   "outputs": [
    {
     "name": "stdout",
     "output_type": "stream",
     "text": [
      "train loss: 0.1699\n",
      "test loss: 0.3529\n",
      "\n",
      "train accuracy: 0.9356\n",
      "test accuracy: 0.8849\n"
     ]
    }
   ],
   "source": [
    "print('train loss: {:.4f}\\ntest loss: {:.4f}\\n'.format(train_loss[-1], val_loss[-1]))\n",
    "print('train accuracy: {:.4f}\\ntest accuracy: {:.4f}'.format(train_accuracy[-1], val_accuracy[-1]))"
   ]
  },
  {
   "cell_type": "markdown",
   "metadata": {
    "id": "TMjvc-OrdccX"
   },
   "source": [
    "**<font color=blue>Conclusions:</font>**\n",
    "\n",
    "- The model does better than using BN alone.\n",
    "- It doesn't do better than using dropout alone. In fact, here the test loss and accuracy are comparable to the case using only dropout, but the train loss and accuracy improves with each iteration, which shows that the network is overfitting the train set.\n",
    "- This performance difference between the dropout+BN and dropout-only version may also be due to the _variance shift_ caused be incorporating both techniques simultaneously into the network, problem that also worsens as we go deeper into the network. This difference is in accordance to the results presented in this [paper](https://openaccess.thecvf.com/content_CVPR_2019/papers/Li_Understanding_the_Disharmony_Between_Dropout_and_Batch_Normalization_by_Variance_CVPR_2019_paper.pdf)."
   ]
  },
  {
   "cell_type": "markdown",
   "metadata": {
    "id": "dMui_uLJ7G0d"
   },
   "source": [
    "### Conclusions:\n",
    "_Write down small report with your conclusions and your ideas._\n",
    "\n",
    "- Mostly my conclusions are written above after each experiment.\n",
    "- Another conclusion for myself is that the usefulness of dropout, batch norm and maybe other regularization techniques is that they are not magic tricks to be blindly applied everywhere or that they'll bring improvementes every time they are bring to the table, even in the cases where I'm the one doing something wrong."
   ]
  },
  {
   "cell_type": "code",
   "execution_count": null,
   "metadata": {
    "id": "Qp0t8G6vh598"
   },
   "outputs": [],
   "source": [
    ""
   ]
  }
 ],
 "metadata": {
  "accelerator": "GPU",
  "colab": {
   "collapsed_sections": [],
   "name": "Overfit_it_final.ipynb",
   "provenance": []
  },
  "kernelspec": {
   "display_name": "Python 3",
   "language": "python",
   "name": "python3"
  },
  "language_info": {
   "codemirror_mode": {
    "name": "ipython",
    "version": 3
   },
   "file_extension": ".py",
   "mimetype": "text/x-python",
   "name": "python",
   "nbconvert_exporter": "python",
   "pygments_lexer": "ipython3",
   "version": "3.7.7"
  },
  "widgets": {
   "application/vnd.jupyter.widget-state+json": {
    "025b6e7b30b546b39d86064d1178b140": {
     "model_module": "@jupyter-widgets/controls",
     "model_name": "FloatProgressModel",
     "state": {
      "_dom_classes": [],
      "_model_module": "@jupyter-widgets/controls",
      "_model_module_version": "1.5.0",
      "_model_name": "FloatProgressModel",
      "_view_count": null,
      "_view_module": "@jupyter-widgets/controls",
      "_view_module_version": "1.5.0",
      "_view_name": "ProgressView",
      "bar_style": "info",
      "description": "",
      "description_tooltip": null,
      "layout": "IPY_MODEL_f71cf8a7bb65403597f854670933b6b0",
      "max": 1,
      "min": 0,
      "orientation": "horizontal",
      "style": "IPY_MODEL_f481382d419a4a4785a039f14838d915",
      "value": 1
     }
    },
    "0472a2bb03dd4b568eebc05e0c32316b": {
     "model_module": "@jupyter-widgets/base",
     "model_name": "LayoutModel",
     "state": {
      "_model_module": "@jupyter-widgets/base",
      "_model_module_version": "1.2.0",
      "_model_name": "LayoutModel",
      "_view_count": null,
      "_view_module": "@jupyter-widgets/base",
      "_view_module_version": "1.2.0",
      "_view_name": "LayoutView",
      "align_content": null,
      "align_items": null,
      "align_self": null,
      "border": null,
      "bottom": null,
      "display": null,
      "flex": null,
      "flex_flow": null,
      "grid_area": null,
      "grid_auto_columns": null,
      "grid_auto_flow": null,
      "grid_auto_rows": null,
      "grid_column": null,
      "grid_gap": null,
      "grid_row": null,
      "grid_template_areas": null,
      "grid_template_columns": null,
      "grid_template_rows": null,
      "height": null,
      "justify_content": null,
      "justify_items": null,
      "left": null,
      "margin": null,
      "max_height": null,
      "max_width": null,
      "min_height": null,
      "min_width": null,
      "object_fit": null,
      "object_position": null,
      "order": null,
      "overflow": null,
      "overflow_x": null,
      "overflow_y": null,
      "padding": null,
      "right": null,
      "top": null,
      "visibility": null,
      "width": null
     }
    },
    "0968d283fcd94626be2e8de56df352a5": {
     "model_module": "@jupyter-widgets/controls",
     "model_name": "ProgressStyleModel",
     "state": {
      "_model_module": "@jupyter-widgets/controls",
      "_model_module_version": "1.5.0",
      "_model_name": "ProgressStyleModel",
      "_view_count": null,
      "_view_module": "@jupyter-widgets/base",
      "_view_module_version": "1.2.0",
      "_view_name": "StyleView",
      "bar_color": null,
      "description_width": "initial"
     }
    },
    "12d9d29718504df392eff5dace2f8582": {
     "model_module": "@jupyter-widgets/controls",
     "model_name": "DescriptionStyleModel",
     "state": {
      "_model_module": "@jupyter-widgets/controls",
      "_model_module_version": "1.5.0",
      "_model_name": "DescriptionStyleModel",
      "_view_count": null,
      "_view_module": "@jupyter-widgets/base",
      "_view_module_version": "1.2.0",
      "_view_name": "StyleView",
      "description_width": ""
     }
    },
    "19b30d72a1884896a7998ae542153d37": {
     "model_module": "@jupyter-widgets/base",
     "model_name": "LayoutModel",
     "state": {
      "_model_module": "@jupyter-widgets/base",
      "_model_module_version": "1.2.0",
      "_model_name": "LayoutModel",
      "_view_count": null,
      "_view_module": "@jupyter-widgets/base",
      "_view_module_version": "1.2.0",
      "_view_name": "LayoutView",
      "align_content": null,
      "align_items": null,
      "align_self": null,
      "border": null,
      "bottom": null,
      "display": null,
      "flex": null,
      "flex_flow": null,
      "grid_area": null,
      "grid_auto_columns": null,
      "grid_auto_flow": null,
      "grid_auto_rows": null,
      "grid_column": null,
      "grid_gap": null,
      "grid_row": null,
      "grid_template_areas": null,
      "grid_template_columns": null,
      "grid_template_rows": null,
      "height": null,
      "justify_content": null,
      "justify_items": null,
      "left": null,
      "margin": null,
      "max_height": null,
      "max_width": null,
      "min_height": null,
      "min_width": null,
      "object_fit": null,
      "object_position": null,
      "order": null,
      "overflow": null,
      "overflow_x": null,
      "overflow_y": null,
      "padding": null,
      "right": null,
      "top": null,
      "visibility": null,
      "width": null
     }
    },
    "20d7e930e86d470780da40f3fd458def": {
     "model_module": "@jupyter-widgets/base",
     "model_name": "LayoutModel",
     "state": {
      "_model_module": "@jupyter-widgets/base",
      "_model_module_version": "1.2.0",
      "_model_name": "LayoutModel",
      "_view_count": null,
      "_view_module": "@jupyter-widgets/base",
      "_view_module_version": "1.2.0",
      "_view_name": "LayoutView",
      "align_content": null,
      "align_items": null,
      "align_self": null,
      "border": null,
      "bottom": null,
      "display": null,
      "flex": null,
      "flex_flow": null,
      "grid_area": null,
      "grid_auto_columns": null,
      "grid_auto_flow": null,
      "grid_auto_rows": null,
      "grid_column": null,
      "grid_gap": null,
      "grid_row": null,
      "grid_template_areas": null,
      "grid_template_columns": null,
      "grid_template_rows": null,
      "height": null,
      "justify_content": null,
      "justify_items": null,
      "left": null,
      "margin": null,
      "max_height": null,
      "max_width": null,
      "min_height": null,
      "min_width": null,
      "object_fit": null,
      "object_position": null,
      "order": null,
      "overflow": null,
      "overflow_x": null,
      "overflow_y": null,
      "padding": null,
      "right": null,
      "top": null,
      "visibility": null,
      "width": null
     }
    },
    "2542d636d17e43d8851e5abc5b1d06f4": {
     "model_module": "@jupyter-widgets/controls",
     "model_name": "HTMLModel",
     "state": {
      "_dom_classes": [],
      "_model_module": "@jupyter-widgets/controls",
      "_model_module_version": "1.5.0",
      "_model_name": "HTMLModel",
      "_view_count": null,
      "_view_module": "@jupyter-widgets/controls",
      "_view_module_version": "1.5.0",
      "_view_name": "HTMLView",
      "description": "",
      "description_tooltip": null,
      "layout": "IPY_MODEL_8fea998331a3400e849eacc5fc61e505",
      "placeholder": "​",
      "style": "IPY_MODEL_12d9d29718504df392eff5dace2f8582",
      "value": " 32768/? [00:17&lt;00:00, 116818.20it/s]"
     }
    },
    "26b1f0462e3a46d0a0707ac159c1c876": {
     "model_module": "@jupyter-widgets/controls",
     "model_name": "ProgressStyleModel",
     "state": {
      "_model_module": "@jupyter-widgets/controls",
      "_model_module_version": "1.5.0",
      "_model_name": "ProgressStyleModel",
      "_view_count": null,
      "_view_module": "@jupyter-widgets/base",
      "_view_module_version": "1.2.0",
      "_view_name": "StyleView",
      "bar_color": null,
      "description_width": "initial"
     }
    },
    "3d928a7039f644fd87e472a2e49684f7": {
     "model_module": "@jupyter-widgets/controls",
     "model_name": "HBoxModel",
     "state": {
      "_dom_classes": [],
      "_model_module": "@jupyter-widgets/controls",
      "_model_module_version": "1.5.0",
      "_model_name": "HBoxModel",
      "_view_count": null,
      "_view_module": "@jupyter-widgets/controls",
      "_view_module_version": "1.5.0",
      "_view_name": "HBoxView",
      "box_style": "",
      "children": [
       "IPY_MODEL_97cd5b27bf4a432998a871ad3e602839",
       "IPY_MODEL_d2f25983acf04b978f879d2a231061c1"
      ],
      "layout": "IPY_MODEL_66d1684d886a4b07afe5fe10b3ad9a5b"
     }
    },
    "417fc0e8a1de4a50bf9bf09e722a5a07": {
     "model_module": "@jupyter-widgets/controls",
     "model_name": "DescriptionStyleModel",
     "state": {
      "_model_module": "@jupyter-widgets/controls",
      "_model_module_version": "1.5.0",
      "_model_name": "DescriptionStyleModel",
      "_view_count": null,
      "_view_module": "@jupyter-widgets/base",
      "_view_module_version": "1.2.0",
      "_view_name": "StyleView",
      "description_width": ""
     }
    },
    "4505c353477441ffbdaba93ca3a7f44b": {
     "model_module": "@jupyter-widgets/controls",
     "model_name": "FloatProgressModel",
     "state": {
      "_dom_classes": [],
      "_model_module": "@jupyter-widgets/controls",
      "_model_module_version": "1.5.0",
      "_model_name": "FloatProgressModel",
      "_view_count": null,
      "_view_module": "@jupyter-widgets/controls",
      "_view_module_version": "1.5.0",
      "_view_name": "ProgressView",
      "bar_style": "info",
      "description": "",
      "description_tooltip": null,
      "layout": "IPY_MODEL_a5981f91c4ed42459eb38296868f1917",
      "max": 1,
      "min": 0,
      "orientation": "horizontal",
      "style": "IPY_MODEL_0968d283fcd94626be2e8de56df352a5",
      "value": 1
     }
    },
    "568e960cd2e14c5cbc27daed2faa8f8a": {
     "model_module": "@jupyter-widgets/controls",
     "model_name": "HTMLModel",
     "state": {
      "_dom_classes": [],
      "_model_module": "@jupyter-widgets/controls",
      "_model_module_version": "1.5.0",
      "_model_name": "HTMLModel",
      "_view_count": null,
      "_view_module": "@jupyter-widgets/controls",
      "_view_module_version": "1.5.0",
      "_view_name": "HTMLView",
      "description": "",
      "description_tooltip": null,
      "layout": "IPY_MODEL_56f9a9a92de44475a4f1a3370781cba2",
      "placeholder": "​",
      "style": "IPY_MODEL_ed575e5b002c4fba8ca6b6d129e54381",
      "value": " 26427392/? [00:20&lt;00:00, 6934513.42it/s]"
     }
    },
    "56f9a9a92de44475a4f1a3370781cba2": {
     "model_module": "@jupyter-widgets/base",
     "model_name": "LayoutModel",
     "state": {
      "_model_module": "@jupyter-widgets/base",
      "_model_module_version": "1.2.0",
      "_model_name": "LayoutModel",
      "_view_count": null,
      "_view_module": "@jupyter-widgets/base",
      "_view_module_version": "1.2.0",
      "_view_name": "LayoutView",
      "align_content": null,
      "align_items": null,
      "align_self": null,
      "border": null,
      "bottom": null,
      "display": null,
      "flex": null,
      "flex_flow": null,
      "grid_area": null,
      "grid_auto_columns": null,
      "grid_auto_flow": null,
      "grid_auto_rows": null,
      "grid_column": null,
      "grid_gap": null,
      "grid_row": null,
      "grid_template_areas": null,
      "grid_template_columns": null,
      "grid_template_rows": null,
      "height": null,
      "justify_content": null,
      "justify_items": null,
      "left": null,
      "margin": null,
      "max_height": null,
      "max_width": null,
      "min_height": null,
      "min_width": null,
      "object_fit": null,
      "object_position": null,
      "order": null,
      "overflow": null,
      "overflow_x": null,
      "overflow_y": null,
      "padding": null,
      "right": null,
      "top": null,
      "visibility": null,
      "width": null
     }
    },
    "66d1684d886a4b07afe5fe10b3ad9a5b": {
     "model_module": "@jupyter-widgets/base",
     "model_name": "LayoutModel",
     "state": {
      "_model_module": "@jupyter-widgets/base",
      "_model_module_version": "1.2.0",
      "_model_name": "LayoutModel",
      "_view_count": null,
      "_view_module": "@jupyter-widgets/base",
      "_view_module_version": "1.2.0",
      "_view_name": "LayoutView",
      "align_content": null,
      "align_items": null,
      "align_self": null,
      "border": null,
      "bottom": null,
      "display": null,
      "flex": null,
      "flex_flow": null,
      "grid_area": null,
      "grid_auto_columns": null,
      "grid_auto_flow": null,
      "grid_auto_rows": null,
      "grid_column": null,
      "grid_gap": null,
      "grid_row": null,
      "grid_template_areas": null,
      "grid_template_columns": null,
      "grid_template_rows": null,
      "height": null,
      "justify_content": null,
      "justify_items": null,
      "left": null,
      "margin": null,
      "max_height": null,
      "max_width": null,
      "min_height": null,
      "min_width": null,
      "object_fit": null,
      "object_position": null,
      "order": null,
      "overflow": null,
      "overflow_x": null,
      "overflow_y": null,
      "padding": null,
      "right": null,
      "top": null,
      "visibility": null,
      "width": null
     }
    },
    "6d7a8dad5c39447a9860783e197c9f68": {
     "model_module": "@jupyter-widgets/controls",
     "model_name": "ProgressStyleModel",
     "state": {
      "_model_module": "@jupyter-widgets/controls",
      "_model_module_version": "1.5.0",
      "_model_name": "ProgressStyleModel",
      "_view_count": null,
      "_view_module": "@jupyter-widgets/base",
      "_view_module_version": "1.2.0",
      "_view_name": "StyleView",
      "bar_color": null,
      "description_width": "initial"
     }
    },
    "74544a0558ff4f4c8b0670b510a2f2cc": {
     "model_module": "@jupyter-widgets/controls",
     "model_name": "HBoxModel",
     "state": {
      "_dom_classes": [],
      "_model_module": "@jupyter-widgets/controls",
      "_model_module_version": "1.5.0",
      "_model_name": "HBoxModel",
      "_view_count": null,
      "_view_module": "@jupyter-widgets/controls",
      "_view_module_version": "1.5.0",
      "_view_name": "HBoxView",
      "box_style": "",
      "children": [
       "IPY_MODEL_c88bd7b6c68d408c8e4331b94b0d17aa",
       "IPY_MODEL_568e960cd2e14c5cbc27daed2faa8f8a"
      ],
      "layout": "IPY_MODEL_20d7e930e86d470780da40f3fd458def"
     }
    },
    "863250bf38a84ae3a2b03b24ba765e2c": {
     "model_module": "@jupyter-widgets/base",
     "model_name": "LayoutModel",
     "state": {
      "_model_module": "@jupyter-widgets/base",
      "_model_module_version": "1.2.0",
      "_model_name": "LayoutModel",
      "_view_count": null,
      "_view_module": "@jupyter-widgets/base",
      "_view_module_version": "1.2.0",
      "_view_name": "LayoutView",
      "align_content": null,
      "align_items": null,
      "align_self": null,
      "border": null,
      "bottom": null,
      "display": null,
      "flex": null,
      "flex_flow": null,
      "grid_area": null,
      "grid_auto_columns": null,
      "grid_auto_flow": null,
      "grid_auto_rows": null,
      "grid_column": null,
      "grid_gap": null,
      "grid_row": null,
      "grid_template_areas": null,
      "grid_template_columns": null,
      "grid_template_rows": null,
      "height": null,
      "justify_content": null,
      "justify_items": null,
      "left": null,
      "margin": null,
      "max_height": null,
      "max_width": null,
      "min_height": null,
      "min_width": null,
      "object_fit": null,
      "object_position": null,
      "order": null,
      "overflow": null,
      "overflow_x": null,
      "overflow_y": null,
      "padding": null,
      "right": null,
      "top": null,
      "visibility": null,
      "width": null
     }
    },
    "895d91f1baf443d99443f806e038734c": {
     "model_module": "@jupyter-widgets/controls",
     "model_name": "HBoxModel",
     "state": {
      "_dom_classes": [],
      "_model_module": "@jupyter-widgets/controls",
      "_model_module_version": "1.5.0",
      "_model_name": "HBoxModel",
      "_view_count": null,
      "_view_module": "@jupyter-widgets/controls",
      "_view_module_version": "1.5.0",
      "_view_name": "HBoxView",
      "box_style": "",
      "children": [
       "IPY_MODEL_4505c353477441ffbdaba93ca3a7f44b",
       "IPY_MODEL_9bc7c7d7c01444ae9a8203540658394a"
      ],
      "layout": "IPY_MODEL_863250bf38a84ae3a2b03b24ba765e2c"
     }
    },
    "8fea998331a3400e849eacc5fc61e505": {
     "model_module": "@jupyter-widgets/base",
     "model_name": "LayoutModel",
     "state": {
      "_model_module": "@jupyter-widgets/base",
      "_model_module_version": "1.2.0",
      "_model_name": "LayoutModel",
      "_view_count": null,
      "_view_module": "@jupyter-widgets/base",
      "_view_module_version": "1.2.0",
      "_view_name": "LayoutView",
      "align_content": null,
      "align_items": null,
      "align_self": null,
      "border": null,
      "bottom": null,
      "display": null,
      "flex": null,
      "flex_flow": null,
      "grid_area": null,
      "grid_auto_columns": null,
      "grid_auto_flow": null,
      "grid_auto_rows": null,
      "grid_column": null,
      "grid_gap": null,
      "grid_row": null,
      "grid_template_areas": null,
      "grid_template_columns": null,
      "grid_template_rows": null,
      "height": null,
      "justify_content": null,
      "justify_items": null,
      "left": null,
      "margin": null,
      "max_height": null,
      "max_width": null,
      "min_height": null,
      "min_width": null,
      "object_fit": null,
      "object_position": null,
      "order": null,
      "overflow": null,
      "overflow_x": null,
      "overflow_y": null,
      "padding": null,
      "right": null,
      "top": null,
      "visibility": null,
      "width": null
     }
    },
    "97cd5b27bf4a432998a871ad3e602839": {
     "model_module": "@jupyter-widgets/controls",
     "model_name": "FloatProgressModel",
     "state": {
      "_dom_classes": [],
      "_model_module": "@jupyter-widgets/controls",
      "_model_module_version": "1.5.0",
      "_model_name": "FloatProgressModel",
      "_view_count": null,
      "_view_module": "@jupyter-widgets/controls",
      "_view_module_version": "1.5.0",
      "_view_name": "ProgressView",
      "bar_style": "info",
      "description": "  0%",
      "description_tooltip": null,
      "layout": "IPY_MODEL_f8ff00b8950041c49bd1c95291d6c8c9",
      "max": 1,
      "min": 0,
      "orientation": "horizontal",
      "style": "IPY_MODEL_6d7a8dad5c39447a9860783e197c9f68",
      "value": 0
     }
    },
    "9bc7c7d7c01444ae9a8203540658394a": {
     "model_module": "@jupyter-widgets/controls",
     "model_name": "HTMLModel",
     "state": {
      "_dom_classes": [],
      "_model_module": "@jupyter-widgets/controls",
      "_model_module_version": "1.5.0",
      "_model_name": "HTMLModel",
      "_view_count": null,
      "_view_module": "@jupyter-widgets/controls",
      "_view_module_version": "1.5.0",
      "_view_name": "HTMLView",
      "description": "",
      "description_tooltip": null,
      "layout": "IPY_MODEL_19b30d72a1884896a7998ae542153d37",
      "placeholder": "​",
      "style": "IPY_MODEL_b928d3ab614548259a570f98221c81b2",
      "value": " 4423680/? [00:16&lt;00:00, 812939.61it/s]"
     }
    },
    "a5981f91c4ed42459eb38296868f1917": {
     "model_module": "@jupyter-widgets/base",
     "model_name": "LayoutModel",
     "state": {
      "_model_module": "@jupyter-widgets/base",
      "_model_module_version": "1.2.0",
      "_model_name": "LayoutModel",
      "_view_count": null,
      "_view_module": "@jupyter-widgets/base",
      "_view_module_version": "1.2.0",
      "_view_name": "LayoutView",
      "align_content": null,
      "align_items": null,
      "align_self": null,
      "border": null,
      "bottom": null,
      "display": null,
      "flex": null,
      "flex_flow": null,
      "grid_area": null,
      "grid_auto_columns": null,
      "grid_auto_flow": null,
      "grid_auto_rows": null,
      "grid_column": null,
      "grid_gap": null,
      "grid_row": null,
      "grid_template_areas": null,
      "grid_template_columns": null,
      "grid_template_rows": null,
      "height": null,
      "justify_content": null,
      "justify_items": null,
      "left": null,
      "margin": null,
      "max_height": null,
      "max_width": null,
      "min_height": null,
      "min_width": null,
      "object_fit": null,
      "object_position": null,
      "order": null,
      "overflow": null,
      "overflow_x": null,
      "overflow_y": null,
      "padding": null,
      "right": null,
      "top": null,
      "visibility": null,
      "width": null
     }
    },
    "a7ef00ff1bd647d9b0b1c1a1bc7551e2": {
     "model_module": "@jupyter-widgets/controls",
     "model_name": "HBoxModel",
     "state": {
      "_dom_classes": [],
      "_model_module": "@jupyter-widgets/controls",
      "_model_module_version": "1.5.0",
      "_model_name": "HBoxModel",
      "_view_count": null,
      "_view_module": "@jupyter-widgets/controls",
      "_view_module_version": "1.5.0",
      "_view_name": "HBoxView",
      "box_style": "",
      "children": [
       "IPY_MODEL_025b6e7b30b546b39d86064d1178b140",
       "IPY_MODEL_2542d636d17e43d8851e5abc5b1d06f4"
      ],
      "layout": "IPY_MODEL_f5fe36f76b7348e099c0541c24ed2856"
     }
    },
    "b03d743f0251405cb46fa4fe8e98d1ca": {
     "model_module": "@jupyter-widgets/base",
     "model_name": "LayoutModel",
     "state": {
      "_model_module": "@jupyter-widgets/base",
      "_model_module_version": "1.2.0",
      "_model_name": "LayoutModel",
      "_view_count": null,
      "_view_module": "@jupyter-widgets/base",
      "_view_module_version": "1.2.0",
      "_view_name": "LayoutView",
      "align_content": null,
      "align_items": null,
      "align_self": null,
      "border": null,
      "bottom": null,
      "display": null,
      "flex": null,
      "flex_flow": null,
      "grid_area": null,
      "grid_auto_columns": null,
      "grid_auto_flow": null,
      "grid_auto_rows": null,
      "grid_column": null,
      "grid_gap": null,
      "grid_row": null,
      "grid_template_areas": null,
      "grid_template_columns": null,
      "grid_template_rows": null,
      "height": null,
      "justify_content": null,
      "justify_items": null,
      "left": null,
      "margin": null,
      "max_height": null,
      "max_width": null,
      "min_height": null,
      "min_width": null,
      "object_fit": null,
      "object_position": null,
      "order": null,
      "overflow": null,
      "overflow_x": null,
      "overflow_y": null,
      "padding": null,
      "right": null,
      "top": null,
      "visibility": null,
      "width": null
     }
    },
    "b928d3ab614548259a570f98221c81b2": {
     "model_module": "@jupyter-widgets/controls",
     "model_name": "DescriptionStyleModel",
     "state": {
      "_model_module": "@jupyter-widgets/controls",
      "_model_module_version": "1.5.0",
      "_model_name": "DescriptionStyleModel",
      "_view_count": null,
      "_view_module": "@jupyter-widgets/base",
      "_view_module_version": "1.2.0",
      "_view_name": "StyleView",
      "description_width": ""
     }
    },
    "c88bd7b6c68d408c8e4331b94b0d17aa": {
     "model_module": "@jupyter-widgets/controls",
     "model_name": "FloatProgressModel",
     "state": {
      "_dom_classes": [],
      "_model_module": "@jupyter-widgets/controls",
      "_model_module_version": "1.5.0",
      "_model_name": "FloatProgressModel",
      "_view_count": null,
      "_view_module": "@jupyter-widgets/controls",
      "_view_module_version": "1.5.0",
      "_view_name": "ProgressView",
      "bar_style": "info",
      "description": "",
      "description_tooltip": null,
      "layout": "IPY_MODEL_b03d743f0251405cb46fa4fe8e98d1ca",
      "max": 1,
      "min": 0,
      "orientation": "horizontal",
      "style": "IPY_MODEL_26b1f0462e3a46d0a0707ac159c1c876",
      "value": 1
     }
    },
    "d2f25983acf04b978f879d2a231061c1": {
     "model_module": "@jupyter-widgets/controls",
     "model_name": "HTMLModel",
     "state": {
      "_dom_classes": [],
      "_model_module": "@jupyter-widgets/controls",
      "_model_module_version": "1.5.0",
      "_model_name": "HTMLModel",
      "_view_count": null,
      "_view_module": "@jupyter-widgets/controls",
      "_view_module_version": "1.5.0",
      "_view_name": "HTMLView",
      "description": "",
      "description_tooltip": null,
      "layout": "IPY_MODEL_0472a2bb03dd4b568eebc05e0c32316b",
      "placeholder": "​",
      "style": "IPY_MODEL_417fc0e8a1de4a50bf9bf09e722a5a07",
      "value": " 0/5148 [00:00&lt;?, ?it/s]"
     }
    },
    "ed575e5b002c4fba8ca6b6d129e54381": {
     "model_module": "@jupyter-widgets/controls",
     "model_name": "DescriptionStyleModel",
     "state": {
      "_model_module": "@jupyter-widgets/controls",
      "_model_module_version": "1.5.0",
      "_model_name": "DescriptionStyleModel",
      "_view_count": null,
      "_view_module": "@jupyter-widgets/base",
      "_view_module_version": "1.2.0",
      "_view_name": "StyleView",
      "description_width": ""
     }
    },
    "f481382d419a4a4785a039f14838d915": {
     "model_module": "@jupyter-widgets/controls",
     "model_name": "ProgressStyleModel",
     "state": {
      "_model_module": "@jupyter-widgets/controls",
      "_model_module_version": "1.5.0",
      "_model_name": "ProgressStyleModel",
      "_view_count": null,
      "_view_module": "@jupyter-widgets/base",
      "_view_module_version": "1.2.0",
      "_view_name": "StyleView",
      "bar_color": null,
      "description_width": "initial"
     }
    },
    "f5fe36f76b7348e099c0541c24ed2856": {
     "model_module": "@jupyter-widgets/base",
     "model_name": "LayoutModel",
     "state": {
      "_model_module": "@jupyter-widgets/base",
      "_model_module_version": "1.2.0",
      "_model_name": "LayoutModel",
      "_view_count": null,
      "_view_module": "@jupyter-widgets/base",
      "_view_module_version": "1.2.0",
      "_view_name": "LayoutView",
      "align_content": null,
      "align_items": null,
      "align_self": null,
      "border": null,
      "bottom": null,
      "display": null,
      "flex": null,
      "flex_flow": null,
      "grid_area": null,
      "grid_auto_columns": null,
      "grid_auto_flow": null,
      "grid_auto_rows": null,
      "grid_column": null,
      "grid_gap": null,
      "grid_row": null,
      "grid_template_areas": null,
      "grid_template_columns": null,
      "grid_template_rows": null,
      "height": null,
      "justify_content": null,
      "justify_items": null,
      "left": null,
      "margin": null,
      "max_height": null,
      "max_width": null,
      "min_height": null,
      "min_width": null,
      "object_fit": null,
      "object_position": null,
      "order": null,
      "overflow": null,
      "overflow_x": null,
      "overflow_y": null,
      "padding": null,
      "right": null,
      "top": null,
      "visibility": null,
      "width": null
     }
    },
    "f71cf8a7bb65403597f854670933b6b0": {
     "model_module": "@jupyter-widgets/base",
     "model_name": "LayoutModel",
     "state": {
      "_model_module": "@jupyter-widgets/base",
      "_model_module_version": "1.2.0",
      "_model_name": "LayoutModel",
      "_view_count": null,
      "_view_module": "@jupyter-widgets/base",
      "_view_module_version": "1.2.0",
      "_view_name": "LayoutView",
      "align_content": null,
      "align_items": null,
      "align_self": null,
      "border": null,
      "bottom": null,
      "display": null,
      "flex": null,
      "flex_flow": null,
      "grid_area": null,
      "grid_auto_columns": null,
      "grid_auto_flow": null,
      "grid_auto_rows": null,
      "grid_column": null,
      "grid_gap": null,
      "grid_row": null,
      "grid_template_areas": null,
      "grid_template_columns": null,
      "grid_template_rows": null,
      "height": null,
      "justify_content": null,
      "justify_items": null,
      "left": null,
      "margin": null,
      "max_height": null,
      "max_width": null,
      "min_height": null,
      "min_width": null,
      "object_fit": null,
      "object_position": null,
      "order": null,
      "overflow": null,
      "overflow_x": null,
      "overflow_y": null,
      "padding": null,
      "right": null,
      "top": null,
      "visibility": null,
      "width": null
     }
    },
    "f8ff00b8950041c49bd1c95291d6c8c9": {
     "model_module": "@jupyter-widgets/base",
     "model_name": "LayoutModel",
     "state": {
      "_model_module": "@jupyter-widgets/base",
      "_model_module_version": "1.2.0",
      "_model_name": "LayoutModel",
      "_view_count": null,
      "_view_module": "@jupyter-widgets/base",
      "_view_module_version": "1.2.0",
      "_view_name": "LayoutView",
      "align_content": null,
      "align_items": null,
      "align_self": null,
      "border": null,
      "bottom": null,
      "display": null,
      "flex": null,
      "flex_flow": null,
      "grid_area": null,
      "grid_auto_columns": null,
      "grid_auto_flow": null,
      "grid_auto_rows": null,
      "grid_column": null,
      "grid_gap": null,
      "grid_row": null,
      "grid_template_areas": null,
      "grid_template_columns": null,
      "grid_template_rows": null,
      "height": null,
      "justify_content": null,
      "justify_items": null,
      "left": null,
      "margin": null,
      "max_height": null,
      "max_width": null,
      "min_height": null,
      "min_width": null,
      "object_fit": null,
      "object_position": null,
      "order": null,
      "overflow": null,
      "overflow_x": null,
      "overflow_y": null,
      "padding": null,
      "right": null,
      "top": null,
      "visibility": null,
      "width": null
     }
    }
   }
  }
 },
 "nbformat": 4,
 "nbformat_minor": 0
}
