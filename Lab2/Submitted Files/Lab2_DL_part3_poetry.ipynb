{
 "cells": [
  {
   "cell_type": "markdown",
   "metadata": {
    "id": "o8PO9SIgvOiT"
   },
   "source": [
    "## Lab 2"
   ]
  },
  {
   "cell_type": "markdown",
   "metadata": {
    "id": "2YDuP8PfvOiU"
   },
   "source": [
    "### Part 3. Poetry generation\n",
    "\n",
    "Let's try to generate some poetry using RNNs. \n",
    "\n",
    "You have several choices here: \n",
    "\n",
    "* The Shakespeare sonnets, file `sonnets.txt` available in the notebook directory.\n",
    "\n",
    "* Роман в стихах \"Евгений Онегин\" Александра Сергеевича Пушкина. В предобработанном виде доступен по [ссылке](https://github.com/attatrol/data_sources/blob/master/onegin.txt).\n",
    "\n",
    "* Some other text source, if it will be approved by the course staff.\n",
    "\n",
    "Text generation can be designed in several steps:\n",
    "    \n",
    "1. Data loading.\n",
    "2. Dictionary generation.\n",
    "3. Data preprocessing.\n",
    "4. Model (neural network) training.\n",
    "5. Text generation (model evaluation).\n"
   ]
  },
  {
   "cell_type": "code",
   "execution_count": 1,
   "metadata": {
    "collapsed": true,
    "id": "jxzSQP4SvOiU"
   },
   "outputs": [],
   "source": [
    "import string\n",
    "import os\n",
    "import numpy as np\n",
    "import matplotlib.pyplot as plt\n",
    "%matplotlib inline"
   ]
  },
  {
   "cell_type": "markdown",
   "metadata": {
    "id": "KgqeEMFXvOiV"
   },
   "source": [
    "### Data loading: Shakespeare"
   ]
  },
  {
   "cell_type": "markdown",
   "metadata": {
    "id": "Hrl_eC7fvOiV"
   },
   "source": [
    "Shakespeare sonnets are awailable at this [link](http://www.gutenberg.org/ebooks/1041?msg=welcome_stranger). In addition, they are stored in the same directory as this notebook (`sonnetes.txt`). Simple preprocessing is already done for you in the next cell: all technical info is dropped."
   ]
  },
  {
   "cell_type": "code",
   "execution_count": 2,
   "metadata": {
    "collapsed": true,
    "id": "ZMQqp-KtvOiV"
   },
   "outputs": [],
   "source": [
    "if not os.path.exists('sonnets.txt'):\n",
    "    !wget https://raw.githubusercontent.com/girafe-ai/ml-mipt/master/homeworks_basic/Lab2_DL/sonnets.txt\n",
    "\n",
    "with open('sonnets.txt', 'r') as iofile:\n",
    "    text = iofile.readlines()\n",
    "    \n",
    "TEXT_START = 45\n",
    "TEXT_END = -368\n",
    "text = text[TEXT_START : TEXT_END]\n",
    "assert len(text) == 2616"
   ]
  },
  {
   "cell_type": "code",
   "execution_count": 3,
   "metadata": {
    "scrolled": true
   },
   "outputs": [
    {
     "data": {
      "text/plain": [
       "['  From fairest creatures we desire increase,\\n',\n",
       " \"  That thereby beauty's rose might never die,\\n\",\n",
       " '  But as the riper should by time decease,\\n',\n",
       " '  His tender heir might bear his memory:\\n',\n",
       " '  But thou, contracted to thine own bright eyes,\\n',\n",
       " \"  Feed'st thy light's flame with self-substantial fuel,\\n\",\n",
       " '  Making a famine where abundance lies,\\n',\n",
       " '  Thy self thy foe, to thy sweet self too cruel:\\n',\n",
       " \"  Thou that art now the world's fresh ornament,\\n\",\n",
       " '  And only herald to the gaudy spring,\\n',\n",
       " '  Within thine own bud buriest thy content,\\n',\n",
       " \"  And tender churl mak'st waste in niggarding:\\n\",\n",
       " '    Pity the world, or else this glutton be,\\n',\n",
       " \"    To eat the world's due, by the grave and thee.\\n\",\n",
       " '\\n',\n",
       " '  II\\n',\n",
       " '\\n',\n",
       " '  When forty winters shall besiege thy brow,\\n',\n",
       " \"  And dig deep trenches in thy beauty's field,\\n\",\n",
       " \"  Thy youth's proud livery so gazed on now,\\n\",\n",
       " \"  Will be a tatter'd weed of small worth held:\\n\",\n",
       " '  Then being asked, where all thy beauty lies,\\n',\n",
       " '  Where all the treasure of thy lusty days;\\n',\n",
       " '  To say, within thine own deep sunken eyes,\\n',\n",
       " '  Were an all-eating shame, and thriftless praise.\\n',\n",
       " \"  How much more praise deserv'd thy beauty's use,\\n\",\n",
       " \"  If thou couldst answer 'This fair child of mine\\n\",\n",
       " \"  Shall sum my count, and make my old excuse,'\\n\",\n",
       " '  Proving his beauty by succession thine!\\n',\n",
       " '    This were to be new made when thou art old,\\n',\n",
       " \"    And see thy blood warm when thou feel'st it cold.\\n\",\n",
       " '\\n',\n",
       " '  III\\n',\n",
       " '\\n',\n",
       " '  Look in thy glass and tell the face thou viewest\\n',\n",
       " '  Now is the time that face should form another;\\n',\n",
       " '  Whose fresh repair if now thou not renewest,\\n',\n",
       " '  Thou dost beguile the world, unbless some mother.\\n',\n",
       " \"  For where is she so fair whose unear'd womb\\n\",\n",
       " '  Disdains the tillage of thy husbandry?\\n',\n",
       " '  Or who is he so fond will be the tomb,\\n',\n",
       " '  Of his self-love to stop posterity?\\n',\n",
       " \"  Thou art thy mother's glass and she in thee\\n\",\n",
       " '  Calls back the lovely April of her prime;\\n',\n",
       " '  So thou through windows of thine age shalt see,\\n',\n",
       " '  Despite of wrinkles this thy golden time.\\n',\n",
       " \"    But if thou live, remember'd not to be,\\n\",\n",
       " '    Die single and thine image dies with thee.\\n',\n",
       " '\\n',\n",
       " '  IV\\n',\n",
       " '\\n',\n",
       " '  Unthrifty loveliness, why dost thou spend\\n',\n",
       " \"  Upon thy self thy beauty's legacy?\\n\",\n",
       " \"  Nature's bequest gives nothing, but doth lend,\\n\",\n",
       " '  And being frank she lends to those are free:\\n',\n",
       " '  Then, beauteous niggard, why dost thou abuse\\n',\n",
       " '  The bounteous largess given thee to give?\\n',\n",
       " '  Profitless usurer, why dost thou use\\n',\n",
       " '  So great a sum of sums, yet canst not live?\\n',\n",
       " '  For having traffic with thy self alone,\\n',\n",
       " '  Thou of thy self thy sweet self dost deceive:\\n',\n",
       " '  Then how when nature calls thee to be gone,\\n',\n",
       " '  What acceptable audit canst thou leave?\\n',\n",
       " '    Thy unused beauty must be tombed with thee,\\n',\n",
       " \"    Which, used, lives th' executor to be.\\n\",\n",
       " '\\n',\n",
       " '  V\\n',\n",
       " '\\n',\n",
       " '  Those hours, that with gentle work did frame\\n',\n",
       " '  The lovely gaze where every eye doth dwell,\\n',\n",
       " '  Will play the tyrants to the very same\\n',\n",
       " '  And that unfair which fairly doth excel;\\n',\n",
       " '  For never-resting time leads summer on\\n',\n",
       " '  To hideous winter, and confounds him there;\\n',\n",
       " '  Sap checked with frost, and lusty leaves quite gone,\\n',\n",
       " \"  Beauty o'er-snowed and bareness every where:\\n\",\n",
       " \"  Then were not summer's distillation left,\\n\",\n",
       " '  A liquid prisoner pent in walls of glass,\\n',\n",
       " \"  Beauty's effect with beauty were bereft,\\n\",\n",
       " '  Nor it, nor no remembrance what it was:\\n',\n",
       " \"    But flowers distill'd, though they with winter meet,\\n\",\n",
       " '    Leese but their show; their substance still lives sweet.\\n',\n",
       " '\\n',\n",
       " '\\n',\n",
       " '  VI\\n',\n",
       " '\\n',\n",
       " \"  Then let not winter's ragged hand deface,\\n\",\n",
       " \"  In thee thy summer, ere thou be distill'd:\\n\",\n",
       " '  Make sweet some vial; treasure thou some place\\n',\n",
       " \"  With beauty's treasure ere it be self-kill'd.\\n\",\n",
       " '  That use is not forbidden usury,\\n',\n",
       " '  Which happies those that pay the willing loan;\\n',\n",
       " \"  That's for thy self to breed another thee,\\n\",\n",
       " '  Or ten times happier, be it ten for one;\\n',\n",
       " '  Ten times thy self were happier than thou art,\\n',\n",
       " \"  If ten of thine ten times refigur'd thee:\\n\",\n",
       " '  Then what could death do if thou shouldst depart,\\n',\n",
       " '  Leaving thee living in posterity?\\n',\n",
       " \"    Be not self-will'd, for thou art much too fair\\n\",\n",
       " \"    To be death's conquest and make worms thine heir.\\n\",\n",
       " '\\n',\n",
       " '  VII\\n',\n",
       " '\\n',\n",
       " '  Lo! in the orient when the gracious light\\n',\n",
       " '  Lifts up his burning head, each under eye\\n',\n",
       " '  Doth homage to his new-appearing sight,\\n',\n",
       " '  Serving with looks his sacred majesty;\\n',\n",
       " \"  And having climb'd the steep-up heavenly hill,\\n\",\n",
       " '  Resembling strong youth in his middle age,\\n',\n",
       " '  Yet mortal looks adore his beauty still,\\n',\n",
       " '  Attending on his golden pilgrimage:\\n',\n",
       " '  But when from highmost pitch, with weary car,\\n',\n",
       " '  Like feeble age, he reeleth from the day,\\n',\n",
       " \"  The eyes, 'fore duteous, now converted are\\n\",\n",
       " '  From his low tract, and look another way:\\n',\n",
       " '    So thou, thyself outgoing in thy noon:\\n',\n",
       " \"    Unlook'd, on diest unless thou get a son.\\n\",\n",
       " '\\n',\n",
       " '  VIII\\n',\n",
       " '\\n',\n",
       " \"  Music to hear, why hear'st thou music sadly?\\n\",\n",
       " '  Sweets with sweets war not, joy delights in joy:\\n',\n",
       " \"  Why lov'st thou that which thou receiv'st not gladly,\\n\",\n",
       " \"  Or else receiv'st with pleasure thine annoy?\\n\",\n",
       " '  If the true concord of well-tuned sounds,\\n',\n",
       " '  By unions married, do offend thine ear,\\n',\n",
       " '  They do but sweetly chide thee, who confounds\\n',\n",
       " '  In singleness the parts that thou shouldst bear.\\n',\n",
       " '  Mark how one string, sweet husband to another,\\n',\n",
       " '  Strikes each in each by mutual ordering;\\n',\n",
       " '  Resembling sire and child and happy mother,\\n',\n",
       " '  Who, all in one, one pleasing note do sing:\\n',\n",
       " '    Whose speechless song being many, seeming one,\\n',\n",
       " \"    Sings this to thee: 'Thou single wilt prove none.'\\n\",\n",
       " '\\n',\n",
       " '  IX\\n',\n",
       " '\\n',\n",
       " \"  Is it for fear to wet a widow's eye,\\n\",\n",
       " \"  That thou consum'st thy self in single life?\\n\",\n",
       " '  Ah! if thou issueless shalt hap to die,\\n',\n",
       " '  The world will wail thee like a makeless wife;\\n',\n",
       " '  The world will be thy widow and still weep\\n',\n",
       " '  That thou no form of thee hast left behind,\\n',\n",
       " '  When every private widow well may keep\\n',\n",
       " \"  By children's eyes, her husband's shape in mind:\\n\",\n",
       " '  Look! what an unthrift in the world doth spend\\n',\n",
       " '  Shifts but his place, for still the world enjoys it;\\n',\n",
       " \"  But beauty's waste hath in the world an end,\\n\",\n",
       " '  And kept unused the user so destroys it.\\n',\n",
       " '    No love toward others in that bosom sits\\n',\n",
       " \"    That on himself such murd'rous shame commits.\\n\",\n",
       " '\\n',\n",
       " '  X\\n',\n",
       " '\\n',\n",
       " \"  For shame! deny that thou bear'st love to any,\\n\",\n",
       " '  Who for thy self art so unprovident.\\n',\n",
       " \"  Grant, if thou wilt, thou art belov'd of many,\\n\",\n",
       " \"  But that thou none lov'st is most evident:\\n\",\n",
       " \"  For thou art so possess'd with murderous hate,\\n\",\n",
       " \"  That 'gainst thy self thou stick'st not to conspire,\\n\",\n",
       " '  Seeking that beauteous roof to ruinate\\n',\n",
       " '  Which to repair should be thy chief desire.\\n',\n",
       " '  O! change thy thought, that I may change my mind:\\n',\n",
       " \"  Shall hate be fairer lodg'd than gentle love?\\n\",\n",
       " '  Be, as thy presence is, gracious and kind,\\n',\n",
       " '  Or to thyself at least kind-hearted prove:\\n',\n",
       " '    Make thee another self for love of me,\\n',\n",
       " '    That beauty still may live in thine or thee.\\n',\n",
       " '\\n',\n",
       " '  XI\\n',\n",
       " '\\n',\n",
       " \"  As fast as thou shalt wane, so fast thou grow'st,\\n\",\n",
       " '  In one of thine, from that which thou departest;\\n',\n",
       " \"  And that fresh blood which youngly thou bestow'st,\\n\",\n",
       " '  Thou mayst call thine when thou from youth convertest,\\n',\n",
       " '  Herein lives wisdom, beauty, and increase;\\n',\n",
       " '  Without this folly, age, and cold decay:\\n',\n",
       " '  If all were minded so, the times should cease\\n',\n",
       " '  And threescore year would make the world away.\\n',\n",
       " '  Let those whom nature hath not made for store,\\n',\n",
       " '  Harsh, featureless, and rude, barrenly perish:\\n',\n",
       " \"  Look, whom she best endow'd, she gave thee more;\\n\",\n",
       " '  Which bounteous gift thou shouldst in bounty cherish:\\n',\n",
       " \"    She carv'd thee for her seal, and meant thereby,\\n\",\n",
       " '    Thou shouldst print more, not let that copy die.\\n',\n",
       " '\\n',\n",
       " '  XII\\n',\n",
       " '\\n',\n",
       " '  When I do count the clock that tells the time,\\n',\n",
       " '  And see the brave day sunk in hideous night;\\n',\n",
       " '  When I behold the violet past prime,\\n',\n",
       " \"  And sable curls, all silvered o'er with white;\\n\",\n",
       " '  When lofty trees I see barren of leaves,\\n',\n",
       " '  Which erst from heat did canopy the herd,\\n',\n",
       " \"  And summer's green all girded up in sheaves,\\n\",\n",
       " '  Borne on the bier with white and bristly beard,\\n',\n",
       " '  Then of thy beauty do I question make,\\n',\n",
       " '  That thou among the wastes of time must go,\\n',\n",
       " '  Since sweets and beauties do themselves forsake\\n',\n",
       " '  And die as fast as they see others grow;\\n',\n",
       " \"    And nothing 'gainst Time's scythe can make defence\\n\",\n",
       " '    Save breed, to brave him when he takes thee hence.\\n',\n",
       " '\\n',\n",
       " '  XIII\\n',\n",
       " '\\n',\n",
       " '  O! that you were your self; but, love you are\\n',\n",
       " '  No longer yours, than you your self here live:\\n',\n",
       " '  Against this coming end you should prepare,\\n',\n",
       " '  And your sweet semblance to some other give:\\n',\n",
       " '  So should that beauty which you hold in lease\\n',\n",
       " '  Find no determination; then you were\\n',\n",
       " \"  Yourself again, after yourself's decease,\\n\",\n",
       " '  When your sweet issue your sweet form should bear.\\n',\n",
       " '  Who lets so fair a house fall to decay,\\n',\n",
       " '  Which husbandry in honour might uphold,\\n',\n",
       " \"  Against the stormy gusts of winter's day\\n\",\n",
       " \"  And barren rage of death's eternal cold?\\n\",\n",
       " '    O! none but unthrifts. Dear my love, you know,\\n',\n",
       " '    You had a father: let your son say so.\\n',\n",
       " '\\n',\n",
       " '  XIV\\n',\n",
       " '\\n',\n",
       " '  Not from the stars do I my judgement pluck;\\n',\n",
       " '  And yet methinks I have astronomy,\\n',\n",
       " '  But not to tell of good or evil luck,\\n',\n",
       " \"  Of plagues, of dearths, or seasons' quality;\\n\",\n",
       " '  Nor can I fortune to brief minutes tell,\\n',\n",
       " '  Pointing to each his thunder, rain and wind,\\n',\n",
       " '  Or say with princes if it shall go well\\n',\n",
       " '  By oft predict that I in heaven find:\\n',\n",
       " '  But from thine eyes my knowledge I derive,\\n',\n",
       " '  And constant stars in them I read such art\\n',\n",
       " \"  As 'Truth and beauty shall together thrive,\\n\",\n",
       " \"  If from thyself, to store thou wouldst convert';\\n\",\n",
       " '    Or else of thee this I prognosticate:\\n',\n",
       " \"    'Thy end is truth's and beauty's doom and date.'\\n\",\n",
       " '\\n',\n",
       " '  XV\\n',\n",
       " '\\n',\n",
       " '  When I consider every thing that grows\\n',\n",
       " '  Holds in perfection but a little moment,\\n',\n",
       " '  That this huge stage presenteth nought but shows\\n',\n",
       " '  Whereon the stars in secret influence comment;\\n',\n",
       " '  When I perceive that men as plants increase,\\n',\n",
       " '  Cheered and checked even by the self-same sky,\\n',\n",
       " '  Vaunt in their youthful sap, at height decrease,\\n',\n",
       " '  And wear their brave state out of memory;\\n',\n",
       " '  Then the conceit of this inconstant stay\\n',\n",
       " '  Sets you most rich in youth before my sight,\\n',\n",
       " '  Where wasteful Time debateth with decay\\n',\n",
       " '  To change your day of youth to sullied night,\\n',\n",
       " '    And all in war with Time for love of you,\\n',\n",
       " '    As he takes from you, I engraft you new.\\n',\n",
       " '\\n',\n",
       " '  XVI\\n',\n",
       " '\\n',\n",
       " '  But wherefore do not you a mightier way\\n',\n",
       " '  Make war upon this bloody tyrant, Time?\\n',\n",
       " '  And fortify your self in your decay\\n',\n",
       " '  With means more blessed than my barren rhyme?\\n',\n",
       " '  Now stand you on the top of happy hours,\\n',\n",
       " '  And many maiden gardens, yet unset,\\n',\n",
       " '  With virtuous wish would bear you living flowers,\\n',\n",
       " '  Much liker than your painted counterfeit:\\n',\n",
       " '  So should the lines of life that life repair,\\n',\n",
       " \"  Which this, Time's pencil, or my pupil pen,\\n\",\n",
       " '  Neither in inward worth nor outward fair,\\n',\n",
       " '  Can make you live your self in eyes of men.\\n',\n",
       " '    To give away yourself, keeps yourself still,\\n',\n",
       " '    And you must live, drawn by your own sweet skill.\\n',\n",
       " '\\n',\n",
       " '  XVII\\n',\n",
       " '\\n',\n",
       " '  Who will believe my verse in time to come,\\n',\n",
       " \"  If it were fill'd with your most high deserts?\\n\",\n",
       " '  Though yet heaven knows it is but as a tomb\\n',\n",
       " '  Which hides your life, and shows not half your parts.\\n',\n",
       " '  If I could write the beauty of your eyes,\\n',\n",
       " '  And in fresh numbers number all your graces,\\n',\n",
       " \"  The age to come would say 'This poet lies;\\n\",\n",
       " \"  Such heavenly touches ne'er touch'd earthly faces.'\\n\",\n",
       " \"  So should my papers, yellow'd with their age,\\n\",\n",
       " \"  Be scorn'd, like old men of less truth than tongue,\\n\",\n",
       " \"  And your true rights be term'd a poet's rage\\n\",\n",
       " '  And stretched metre of an antique song:\\n',\n",
       " '    But were some child of yours alive that time,\\n',\n",
       " '    You should live twice,--in it, and in my rhyme.\\n',\n",
       " '\\n',\n",
       " '  XVIII\\n',\n",
       " '\\n',\n",
       " \"  Shall I compare thee to a summer's day?\\n\",\n",
       " '  Thou art more lovely and more temperate:\\n',\n",
       " '  Rough winds do shake the darling buds of May,\\n',\n",
       " \"  And summer's lease hath all too short a date:\\n\",\n",
       " '  Sometime too hot the eye of heaven shines,\\n',\n",
       " \"  And often is his gold complexion dimm'd,\\n\",\n",
       " '  And every fair from fair sometime declines,\\n',\n",
       " \"  By chance, or nature's changing course untrimm'd:\\n\",\n",
       " '  But thy eternal summer shall not fade,\\n',\n",
       " \"  Nor lose possession of that fair thou ow'st,\\n\",\n",
       " \"  Nor shall death brag thou wander'st in his shade,\\n\",\n",
       " \"  When in eternal lines to time thou grow'st,\\n\",\n",
       " '    So long as men can breathe, or eyes can see,\\n',\n",
       " '    So long lives this, and this gives life to thee.\\n',\n",
       " '\\n',\n",
       " '  XIX\\n',\n",
       " '\\n',\n",
       " \"  Devouring Time, blunt thou the lion's paws,\\n\",\n",
       " '  And make the earth devour her own sweet brood;\\n',\n",
       " \"  Pluck the keen teeth from the fierce tiger's jaws,\\n\",\n",
       " \"  And burn the long-liv'd phoenix, in her blood;\\n\",\n",
       " '  Make glad and sorry seasons as thou fleets,\\n',\n",
       " \"  And do whate'er thou wilt, swift-footed Time,\\n\",\n",
       " '  To the wide world and all her fading sweets;\\n',\n",
       " '  But I forbid thee one most heinous crime:\\n',\n",
       " \"  O! carve not with thy hours my love's fair brow,\\n\",\n",
       " '  Nor draw no lines there with thine antique pen;\\n',\n",
       " '  Him in thy course untainted do allow\\n',\n",
       " \"  For beauty's pattern to succeeding men.\\n\",\n",
       " '    Yet, do thy worst old Time: despite thy wrong,\\n',\n",
       " '    My love shall in my verse ever live young.\\n',\n",
       " '\\n',\n",
       " '  XX\\n',\n",
       " '\\n',\n",
       " \"  A woman's face with nature's own hand painted,\\n\",\n",
       " '  Hast thou, the master mistress of my passion;\\n',\n",
       " \"  A woman's gentle heart, but not acquainted\\n\",\n",
       " \"  With shifting change, as is false women's fashion:\\n\",\n",
       " '  An eye more bright than theirs, less false in rolling,\\n',\n",
       " '  Gilding the object whereupon it gazeth;\\n',\n",
       " \"  A man in hue all 'hues' in his controlling,\\n\",\n",
       " \"  Which steals men's eyes and women's souls amazeth.\\n\",\n",
       " '  And for a woman wert thou first created;\\n',\n",
       " '  Till Nature, as she wrought thee, fell a-doting,\\n',\n",
       " '  And by addition me of thee defeated,\\n',\n",
       " '  By adding one thing to my purpose nothing.\\n',\n",
       " \"    But since she prick'd thee out for women's pleasure,\\n\",\n",
       " \"    Mine be thy love and thy love's use their treasure.\\n\",\n",
       " '\\n',\n",
       " '  XXI\\n',\n",
       " '\\n',\n",
       " '  So is it not with me as with that Muse,\\n',\n",
       " \"  Stirr'd by a painted beauty to his verse,\\n\",\n",
       " '  Who heaven itself for ornament doth use\\n',\n",
       " '  And every fair with his fair doth rehearse,\\n',\n",
       " '  Making a couplement of proud compare.\\n',\n",
       " \"  With sun and moon, with earth and sea's rich gems,\\n\",\n",
       " \"  With April's first-born flowers, and all things rare,\\n\",\n",
       " \"  That heaven's air in this huge rondure hems.\\n\",\n",
       " '  O! let me, true in love, but truly write,\\n',\n",
       " '  And then believe me, my love is as fair\\n',\n",
       " \"  As any mother's child, though not so bright\\n\",\n",
       " \"  As those gold candles fix'd in heaven's air:\\n\",\n",
       " '    Let them say more that like of hearsay well;\\n',\n",
       " '    I will not praise that purpose not to sell.\\n',\n",
       " '\\n',\n",
       " '  XXII\\n',\n",
       " '\\n',\n",
       " '  My glass shall not persuade me I am old,\\n',\n",
       " '  So long as youth and thou are of one date;\\n',\n",
       " \"  But when in thee time's furrows I behold,\\n\",\n",
       " '  Then look I death my days should expiate.\\n',\n",
       " '  For all that beauty that doth cover thee,\\n',\n",
       " '  Is but the seemly raiment of my heart,\\n',\n",
       " '  Which in thy breast doth live, as thine in me:\\n',\n",
       " '  How can I then be elder than thou art?\\n',\n",
       " '  O! therefore love, be of thyself so wary\\n',\n",
       " '  As I, not for myself, but for thee will;\\n',\n",
       " '  Bearing thy heart, which I will keep so chary\\n',\n",
       " '  As tender nurse her babe from faring ill.\\n',\n",
       " '    Presume not on thy heart when mine is slain,\\n',\n",
       " \"    Thou gav'st me thine not to give back again.\\n\",\n",
       " '\\n',\n",
       " '  XXIII\\n',\n",
       " '\\n',\n",
       " '  As an unperfect actor on the stage,\\n',\n",
       " '  Who with his fear is put beside his part,\\n',\n",
       " '  Or some fierce thing replete with too much rage,\\n',\n",
       " \"  Whose strength's abundance weakens his own heart;\\n\",\n",
       " '  So I, for fear of trust, forget to say\\n',\n",
       " \"  The perfect ceremony of love's rite,\\n\",\n",
       " \"  And in mine own love's strength seem to decay,\\n\",\n",
       " \"  O'ercharg'd with burthen of mine own love's might.\\n\",\n",
       " '  O! let my looks be then the eloquence\\n',\n",
       " '  And dumb presagers of my speaking breast,\\n',\n",
       " '  Who plead for love, and look for recompense,\\n',\n",
       " \"  More than that tongue that more hath more express'd.\\n\",\n",
       " '    O! learn to read what silent love hath writ:\\n',\n",
       " \"    To hear with eyes belongs to love's fine wit.\\n\",\n",
       " '\\n',\n",
       " '  XXIV\\n',\n",
       " '\\n',\n",
       " \"  Mine eye hath play'd the painter and hath stell'd,\\n\",\n",
       " \"  Thy beauty's form in table of my heart;\\n\",\n",
       " \"  My body is the frame wherein 'tis held,\\n\",\n",
       " \"  And perspective it is best painter's art.\\n\",\n",
       " '  For through the painter must you see his skill,\\n',\n",
       " \"  To find where your true image pictur'd lies,\\n\",\n",
       " \"  Which in my bosom's shop is hanging still,\\n\",\n",
       " '  That hath his windows glazed with thine eyes.\\n',\n",
       " '  Now see what good turns eyes for eyes have done:\\n',\n",
       " '  Mine eyes have drawn thy shape, and thine for me\\n',\n",
       " '  Are windows to my breast, where-through the sun\\n',\n",
       " '  Delights to peep, to gaze therein on thee;\\n',\n",
       " '    Yet eyes this cunning want to grace their art,\\n',\n",
       " '    They draw but what they see, know not the heart.\\n',\n",
       " '\\n',\n",
       " '  XXV\\n',\n",
       " '\\n',\n",
       " '  Let those who are in favour with their stars\\n',\n",
       " '  Of public honour and proud titles boast,\\n',\n",
       " '  Whilst I, whom fortune of such triumph bars\\n',\n",
       " \"  Unlook'd for joy in that I honour most.\\n\",\n",
       " \"  Great princes' favourites their fair leaves spread\\n\",\n",
       " \"  But as the marigold at the sun's eye,\\n\",\n",
       " '  And in themselves their pride lies buried,\\n',\n",
       " '  For at a frown they in their glory die.\\n',\n",
       " '  The painful warrior famoused for fight,\\n',\n",
       " \"  After a thousand victories once foil'd,\\n\",\n",
       " '  Is from the book of honour razed quite,\\n',\n",
       " \"  And all the rest forgot for which he toil'd:\\n\",\n",
       " \"    Then happy I, that love and am belov'd,\\n\",\n",
       " \"    Where I may not remove nor be remov'd.\\n\",\n",
       " '\\n',\n",
       " '  XXVI\\n',\n",
       " '\\n',\n",
       " '  Lord of my love, to whom in vassalage\\n',\n",
       " '  Thy merit hath my duty strongly knit,\\n',\n",
       " '  To thee I send this written embassage,\\n',\n",
       " '  To witness duty, not to show my wit:\\n',\n",
       " '  Duty so great, which wit so poor as mine\\n',\n",
       " '  May make seem bare, in wanting words to show it,\\n',\n",
       " '  But that I hope some good conceit of thine\\n',\n",
       " \"  In thy soul's thought, all naked, will bestow it:\\n\",\n",
       " '  Till whatsoever star that guides my moving,\\n',\n",
       " '  Points on me graciously with fair aspect,\\n',\n",
       " \"  And puts apparel on my tatter'd loving,\\n\",\n",
       " '  To show me worthy of thy sweet respect:\\n',\n",
       " '    Then may I dare to boast how I do love thee;\\n',\n",
       " '    Till then, not show my head where thou mayst prove me.\\n',\n",
       " '\\n',\n",
       " '  XXVII\\n',\n",
       " '\\n',\n",
       " '  Weary with toil, I haste me to my bed,\\n',\n",
       " \"  The dear respose for limbs with travel tir'd;\\n\",\n",
       " '  But then begins a journey in my head\\n',\n",
       " \"  To work my mind, when body's work's expired:\\n\",\n",
       " '  For then my thoughts--from far where I abide--\\n',\n",
       " '  Intend a zealous pilgrimage to thee,\\n',\n",
       " '  And keep my drooping eyelids open wide,\\n',\n",
       " '  Looking on darkness which the blind do see:\\n',\n",
       " \"  Save that my soul's imaginary sight\\n\",\n",
       " '  Presents thy shadow to my sightless view,\\n',\n",
       " '  Which, like a jewel hung in ghastly night,\\n',\n",
       " '  Makes black night beauteous, and her old face new.\\n',\n",
       " '    Lo! thus, by day my limbs, by night my mind,\\n',\n",
       " '    For thee, and for myself, no quiet find.\\n',\n",
       " '\\n',\n",
       " '  XXVIII\\n',\n",
       " '\\n',\n",
       " '  How can I then return in happy plight,\\n',\n",
       " \"  That am debarre'd the benefit of rest?\\n\",\n",
       " \"  When day's oppression is not eas'd by night,\\n\",\n",
       " \"  But day by night and night by day oppress'd,\\n\",\n",
       " \"  And each, though enemies to either's reign,\\n\",\n",
       " '  Do in consent shake hands to torture me,\\n',\n",
       " '  The one by toil, the other to complain\\n',\n",
       " '  How far I toil, still farther off from thee.\\n',\n",
       " '  I tell the day, to please him thou art bright,\\n',\n",
       " '  And dost him grace when clouds do blot the heaven:\\n',\n",
       " \"  So flatter I the swart-complexion'd night,\\n\",\n",
       " \"  When sparkling stars twire not thou gild'st the even.\\n\",\n",
       " '    But day doth daily draw my sorrows longer,\\n',\n",
       " \"    And night doth nightly make grief's length seem stronger.\\n\",\n",
       " '\\n',\n",
       " '  XXIX\\n',\n",
       " '\\n',\n",
       " \"  When in disgrace with fortune and men's eyes\\n\",\n",
       " '  I all alone beweep my outcast state,\\n',\n",
       " '  And trouble deaf heaven with my bootless cries,\\n',\n",
       " '  And look upon myself, and curse my fate,\\n',\n",
       " '  Wishing me like to one more rich in hope,\\n',\n",
       " \"  Featur'd like him, like him with friends possess'd,\\n\",\n",
       " \"  Desiring this man's art, and that man's scope,\\n\",\n",
       " '  With what I most enjoy contented least;\\n',\n",
       " '  Yet in these thoughts my self almost despising,\\n',\n",
       " '  Haply I think on thee,-- and then my state,\\n',\n",
       " '  Like to the lark at break of day arising\\n',\n",
       " \"  From sullen earth, sings hymns at heaven's gate;\\n\",\n",
       " \"    For thy sweet love remember'd such wealth brings\\n\",\n",
       " '    That then I scorn to change my state with kings.\\n',\n",
       " '\\n',\n",
       " '  XXX\\n',\n",
       " '\\n',\n",
       " '  When to the sessions of sweet silent thought\\n',\n",
       " '  I summon up remembrance of things past,\\n',\n",
       " '  I sigh the lack of many a thing I sought,\\n',\n",
       " \"  And with old woes new wail my dear time's waste:\\n\",\n",
       " '  Then can I drown an eye, unused to flow,\\n',\n",
       " \"  For precious friends hid in death's dateless night,\\n\",\n",
       " \"  And weep afresh love's long since cancell'd woe,\\n\",\n",
       " \"  And moan the expense of many a vanish'd sight:\\n\",\n",
       " '  Then can I grieve at grievances foregone,\\n',\n",
       " \"  And heavily from woe to woe tell o'er\\n\",\n",
       " '  The sad account of fore-bemoaned moan,\\n',\n",
       " '  Which I new pay as if not paid before.\\n',\n",
       " '    But if the while I think on thee, dear friend,\\n',\n",
       " \"    All losses are restor'd and sorrows end.\\n\",\n",
       " '\\n',\n",
       " '  XXXI\\n',\n",
       " '\\n',\n",
       " '  Thy bosom is endeared with all hearts,\\n',\n",
       " '  Which I by lacking have supposed dead;\\n',\n",
       " \"  And there reigns Love, and all Love's loving parts,\\n\",\n",
       " '  And all those friends which I thought buried.\\n',\n",
       " '  How many a holy and obsequious tear\\n',\n",
       " \"  Hath dear religious love stol'n from mine eye,\\n\",\n",
       " '  As interest of the dead, which now appear\\n',\n",
       " \"  But things remov'd that hidden in thee lie!\\n\",\n",
       " '  Thou art the grave where buried love doth live,\\n',\n",
       " '  Hung with the trophies of my lovers gone,\\n',\n",
       " '  Who all their parts of me to thee did give,\\n',\n",
       " '  That due of many now is thine alone:\\n',\n",
       " \"    Their images I lov'd, I view in thee,\\n\",\n",
       " '    And thou--all they--hast all the all of me.\\n',\n",
       " '\\n',\n",
       " '  XXXII\\n',\n",
       " '\\n',\n",
       " '  If thou survive my well-contented day,\\n',\n",
       " '  When that churl Death my bones with dust shall cover\\n',\n",
       " '  And shalt by fortune once more re-survey\\n',\n",
       " '  These poor rude lines of thy deceased lover,\\n',\n",
       " \"  Compare them with the bett'ring of the time,\\n\",\n",
       " \"  And though they be outstripp'd by every pen,\\n\",\n",
       " '  Reserve them for my love, not for their rhyme,\\n',\n",
       " '  Exceeded by the height of happier men.\\n',\n",
       " '  O! then vouchsafe me but this loving thought:\\n',\n",
       " \"  'Had my friend's Muse grown with this growing age,\\n\",\n",
       " '  A dearer birth than this his love had brought,\\n',\n",
       " '  To march in ranks of better equipage:\\n',\n",
       " '    But since he died and poets better prove,\\n',\n",
       " \"    Theirs for their style I'll read, his for his love'.\\n\",\n",
       " '\\n',\n",
       " '  XXXIII\\n',\n",
       " '\\n',\n",
       " '  Full many a glorious morning have I seen\\n',\n",
       " '  Flatter the mountain tops with sovereign eye,\\n',\n",
       " '  Kissing with golden face the meadows green,\\n',\n",
       " '  Gilding pale streams with heavenly alchemy;\\n',\n",
       " '  Anon permit the basest clouds to ride\\n',\n",
       " '  With ugly rack on his celestial face,\\n',\n",
       " '  And from the forlorn world his visage hide,\\n',\n",
       " '  Stealing unseen to west with this disgrace:\\n',\n",
       " '  Even so my sun one early morn did shine,\\n',\n",
       " '  With all triumphant splendour on my brow;\\n',\n",
       " '  But out! alack! he was but one hour mine,\\n',\n",
       " \"  The region cloud hath mask'd him from me now.\\n\",\n",
       " '    Yet him for this my love no whit disdaineth;\\n',\n",
       " \"    Suns of the world may stain when heaven's sun staineth.\\n\",\n",
       " '\\n',\n",
       " '  XXXIV\\n',\n",
       " '\\n',\n",
       " '  Why didst thou promise such a beauteous day,\\n',\n",
       " '  And make me travel forth without my cloak,\\n',\n",
       " \"  To let base clouds o'ertake me in my way,\\n\",\n",
       " '  Hiding thy bravery in their rotten smoke?\\n',\n",
       " \"  'Tis not enough that through the cloud thou break,\\n\",\n",
       " '  To dry the rain on my storm-beaten face,\\n',\n",
       " '  For no man well of such a salve can speak,\\n',\n",
       " '  That heals the wound, and cures not the disgrace:\\n',\n",
       " '  Nor can thy shame give physic to my grief;\\n',\n",
       " '  Though thou repent, yet I have still the loss:\\n',\n",
       " \"  The offender's sorrow lends but weak relief\\n\",\n",
       " \"  To him that bears the strong offence's cross.\\n\",\n",
       " '    Ah! but those tears are pearl which thy love sheds,\\n',\n",
       " '    And they are rich and ransom all ill deeds.\\n',\n",
       " '\\n',\n",
       " '  XXXV\\n',\n",
       " '\\n',\n",
       " \"  No more be griev'd at that which thou hast done:\\n\",\n",
       " '  Roses have thorns, and silver fountains mud:\\n',\n",
       " '  Clouds and eclipses stain both moon and sun,\\n',\n",
       " '  And loathsome canker lives in sweetest bud.\\n',\n",
       " '  All men make faults, and even I in this,\\n',\n",
       " '  Authorizing thy trespass with compare,\\n',\n",
       " '  Myself corrupting, salving thy amiss,\\n',\n",
       " '  Excusing thy sins more than thy sins are;\\n',\n",
       " '  For to thy sensual fault I bring in sense,--\\n',\n",
       " '  Thy adverse party is thy advocate,--\\n',\n",
       " \"  And 'gainst myself a lawful plea commence:\\n\",\n",
       " '  Such civil war is in my love and hate,\\n',\n",
       " '    That I an accessary needs must be,\\n',\n",
       " '    To that sweet thief which sourly robs from me.\\n',\n",
       " '\\n',\n",
       " '  XXXVI\\n',\n",
       " '\\n',\n",
       " '  Let me confess that we two must be twain,\\n',\n",
       " '  Although our undivided loves are one:\\n',\n",
       " '  So shall those blots that do with me remain,\\n',\n",
       " '  Without thy help, by me be borne alone.\\n',\n",
       " '  In our two loves there is but one respect,\\n',\n",
       " '  Though in our lives a separable spite,\\n',\n",
       " \"  Which though it alter not love's sole effect,\\n\",\n",
       " \"  Yet doth it steal sweet hours from love's delight.\\n\",\n",
       " '  I may not evermore acknowledge thee,\\n',\n",
       " '  Lest my bewailed guilt should do thee shame,\\n',\n",
       " '  Nor thou with public kindness honour me,\\n',\n",
       " '  Unless thou take that honour from thy name:\\n',\n",
       " '    But do not so, I love thee in such sort,\\n',\n",
       " '    As thou being mine, mine is thy good report.\\n',\n",
       " '\\n',\n",
       " '  XXXVII\\n',\n",
       " '\\n',\n",
       " '  As a decrepit father takes delight\\n',\n",
       " '  To see his active child do deeds of youth,\\n',\n",
       " \"  So I, made lame by Fortune's dearest spite,\\n\",\n",
       " '  Take all my comfort of thy worth and truth;\\n',\n",
       " '  For whether beauty, birth, or wealth, or wit,\\n',\n",
       " '  Or any of these all, or all, or more,\\n',\n",
       " '  Entitled in thy parts, do crowned sit,\\n',\n",
       " '  I make my love engrafted, to this store:\\n',\n",
       " \"  So then I am not lame, poor, nor despis'd,\\n\",\n",
       " '  Whilst that this shadow doth such substance give\\n',\n",
       " \"  That I in thy abundance am suffic'd,\\n\",\n",
       " '  And by a part of all thy glory live.\\n',\n",
       " '    Look what is best, that best I wish in thee:\\n',\n",
       " '    This wish I have; then ten times happy me!\\n',\n",
       " '\\n',\n",
       " '  XXXVIII\\n',\n",
       " '\\n',\n",
       " '  How can my muse want subject to invent,\\n',\n",
       " \"  While thou dost breathe, that pour'st into my verse\\n\",\n",
       " '  Thine own sweet argument, too excellent\\n',\n",
       " '  For every vulgar paper to rehearse?\\n',\n",
       " '  O! give thy self the thanks, if aught in me\\n',\n",
       " '  Worthy perusal stand against thy sight;\\n',\n",
       " \"  For who's so dumb that cannot write to thee,\\n\",\n",
       " '  When thou thy self dost give invention light?\\n',\n",
       " '  Be thou the tenth Muse, ten times more in worth\\n',\n",
       " '  Than those old nine which rhymers invocate;\\n',\n",
       " '  And he that calls on thee, let him bring forth\\n',\n",
       " '  Eternal numbers to outlive long date.\\n',\n",
       " '    If my slight muse do please these curious days,\\n',\n",
       " '    The pain be mine, but thine shall be the praise.\\n',\n",
       " '\\n',\n",
       " '  XXXIX\\n',\n",
       " '\\n',\n",
       " '  O! how thy worth with manners may I sing,\\n',\n",
       " '  When thou art all the better part of me?\\n',\n",
       " '  What can mine own praise to mine own self bring?\\n',\n",
       " \"  And what is't but mine own when I praise thee?\\n\",\n",
       " '  Even for this, let us divided live,\\n',\n",
       " '  And our dear love lose name of single one,\\n',\n",
       " '  That by this separation I may give\\n',\n",
       " \"  That due to thee which thou deserv'st alone.\\n\",\n",
       " '  O absence! what a torment wouldst thou prove,\\n',\n",
       " '  Were it not thy sour leisure gave sweet leave,\\n',\n",
       " '  To entertain the time with thoughts of love,\\n',\n",
       " '  Which time and thoughts so sweetly doth deceive,\\n',\n",
       " '    And that thou teachest how to make one twain,\\n',\n",
       " '    By praising him here who doth hence remain.\\n',\n",
       " '\\n',\n",
       " '  XL\\n',\n",
       " '\\n',\n",
       " '  Take all my loves, my love, yea take them all;\\n',\n",
       " '  What hast thou then more than thou hadst before?\\n',\n",
       " '  No love, my love, that thou mayst true love call;\\n',\n",
       " '  All mine was thine, before thou hadst this more.\\n',\n",
       " '  Then, if for my love, thou my love receivest,\\n',\n",
       " '  I cannot blame thee, for my love thou usest;\\n',\n",
       " \"  But yet be blam'd, if thou thy self deceivest\\n\",\n",
       " '  By wilful taste of what thyself refusest.\\n',\n",
       " '  I do forgive thy robbery, gentle thief,\\n',\n",
       " '  Although thou steal thee all my poverty:\\n',\n",
       " '  And yet, love knows it is a greater grief\\n',\n",
       " \"  To bear love's wrong, than hate's known injury.\\n\",\n",
       " '    Lascivious grace, in whom all ill well shows,\\n',\n",
       " '    Kill me with spites yet we must not be foes.\\n',\n",
       " '\\n',\n",
       " '  XLI\\n',\n",
       " '\\n',\n",
       " '  Those pretty wrongs that liberty commits,\\n',\n",
       " '  When I am sometime absent from thy heart,\\n',\n",
       " '  Thy beauty, and thy years full well befits,\\n',\n",
       " '  For still temptation follows where thou art.\\n',\n",
       " '  Gentle thou art, and therefore to be won,\\n',\n",
       " \"  Beauteous thou art, therefore to be assail'd;\\n\",\n",
       " \"  And when a woman woos, what woman's son\\n\",\n",
       " \"  Will sourly leave her till he have prevail'd?\\n\",\n",
       " '  Ay me! but yet thou mightst my seat forbear,\\n',\n",
       " '  And chide thy beauty and thy straying youth,\\n',\n",
       " '  Who lead thee in their riot even there\\n',\n",
       " '  Where thou art forced to break a twofold truth:--\\n',\n",
       " '    Hers by thy beauty tempting her to thee,\\n',\n",
       " '    Thine by thy beauty being false to me.\\n',\n",
       " '\\n',\n",
       " '  XLII\\n',\n",
       " '\\n',\n",
       " '  That thou hast her it is not all my grief,\\n',\n",
       " '  And yet it may be said I loved her dearly;\\n',\n",
       " '  That she hath thee is of my wailing chief,\\n',\n",
       " '  A loss in love that touches me more nearly.\\n',\n",
       " '  Loving offenders thus I will excuse ye:\\n',\n",
       " \"  Thou dost love her, because thou know'st I love her;\\n\",\n",
       " '  And for my sake even so doth she abuse me,\\n',\n",
       " '  Suffering my friend for my sake to approve her.\\n',\n",
       " \"  If I lose thee, my loss is my love's gain,\\n\",\n",
       " '  And losing her, my friend hath found that loss;\\n',\n",
       " '  Both find each other, and I lose both twain,\\n',\n",
       " '  And both for my sake lay on me this cross:\\n',\n",
       " \"    But here's the joy; my friend and I are one;\\n\",\n",
       " '    Sweet flattery! then she loves but me alone.\\n',\n",
       " '\\n',\n",
       " '  XLIII\\n',\n",
       " '\\n',\n",
       " '  When most I wink, then do mine eyes best see,\\n',\n",
       " '  For all the day they view things unrespected;\\n',\n",
       " '  But when I sleep, in dreams they look on thee,\\n',\n",
       " '  And darkly bright, are bright in dark directed.\\n',\n",
       " '  Then thou, whose shadow shadows doth make bright,\\n',\n",
       " \"  How would thy shadow's form form happy show\\n\",\n",
       " '  To the clear day with thy much clearer light,\\n',\n",
       " '  When to unseeing eyes thy shade shines so!\\n',\n",
       " '  How would, I say, mine eyes be blessed made\\n',\n",
       " '  By looking on thee in the living day,\\n',\n",
       " '  When in dead night thy fair imperfect shade\\n',\n",
       " '  Through heavy sleep on sightless eyes doth stay!\\n',\n",
       " '    All days are nights to see till I see thee,\\n',\n",
       " '    And nights bright days when dreams do show thee me.\\n',\n",
       " '\\n',\n",
       " '  XLIV\\n',\n",
       " '\\n',\n",
       " '  If the dull substance of my flesh were thought,\\n',\n",
       " '  Injurious distance should not stop my way;\\n',\n",
       " '  For then despite of space I would be brought,\\n',\n",
       " '  From limits far remote, where thou dost stay.\\n',\n",
       " '  No matter then although my foot did stand\\n',\n",
       " \"  Upon the farthest earth remov'd from thee;\\n\",\n",
       " '  For nimble thought can jump both sea and land,\\n',\n",
       " '  As soon as think the place where he would be.\\n',\n",
       " '  But, ah! thought kills me that I am not thought,\\n',\n",
       " '  To leap large lengths of miles when thou art gone,\\n',\n",
       " '  But that so much of earth and water wrought,\\n',\n",
       " \"  I must attend time's leisure with my moan;\\n\",\n",
       " '    Receiving nought by elements so slow\\n',\n",
       " \"    But heavy tears, badges of either's woe.\\n\",\n",
       " '\\n',\n",
       " '  XLV\\n',\n",
       " '\\n',\n",
       " '  The other two, slight air, and purging fire\\n',\n",
       " '  Are both with thee, wherever I abide;\\n',\n",
       " '  The first my thought, the other my desire,\\n',\n",
       " '  These present-absent with swift motion slide.\\n',\n",
       " '  For when these quicker elements are gone\\n',\n",
       " '  In tender embassy of love to thee,\\n',\n",
       " '  My life, being made of four, with two alone\\n',\n",
       " \"  Sinks down to death, oppress'd with melancholy;\\n\",\n",
       " \"  Until life's composition be recur'd\\n\",\n",
       " \"  By those swift messengers return'd from thee,\\n\",\n",
       " \"  Who even but now come back again, assur'd,\\n\",\n",
       " '  Of thy fair health, recounting it to me:\\n',\n",
       " '    This told, I joy; but then no longer glad,\\n',\n",
       " '    I send them back again, and straight grow sad.\\n',\n",
       " '\\n',\n",
       " '  XLVI\\n',\n",
       " '\\n',\n",
       " '  Mine eye and heart are at a mortal war,\\n',\n",
       " '  How to divide the conquest of thy sight;\\n',\n",
       " \"  Mine eye my heart thy picture's sight would bar,\\n\",\n",
       " '  My heart mine eye the freedom of that right.\\n',\n",
       " '  My heart doth plead that thou in him dost lie,--\\n',\n",
       " \"  A closet never pierc'd with crystal eyes--\\n\",\n",
       " '  But the defendant doth that plea deny,\\n',\n",
       " '  And says in him thy fair appearance lies.\\n',\n",
       " '  To side this title is impannelled\\n',\n",
       " '  A quest of thoughts, all tenants to the heart;\\n',\n",
       " '  And by their verdict is determined\\n',\n",
       " \"  The clear eye's moiety, and the dear heart's part:\\n\",\n",
       " \"    As thus; mine eye's due is thy outward part,\\n\",\n",
       " \"    And my heart's right, thy inward love of heart.\\n\",\n",
       " '\\n',\n",
       " '  XLVII\\n',\n",
       " '\\n',\n",
       " '  Betwixt mine eye and heart a league is took,\\n',\n",
       " '  And each doth good turns now unto the other:\\n',\n",
       " \"  When that mine eye is famish'd for a look,\\n\",\n",
       " '  Or heart in love with sighs himself doth smother,\\n',\n",
       " \"  With my love's picture then my eye doth feast,\\n\",\n",
       " '  And to the painted banquet bids my heart;\\n',\n",
       " \"  Another time mine eye is my heart's guest,\\n\",\n",
       " '  And in his thoughts of love doth share a part:\\n',\n",
       " '  So, either by thy picture or my love,\\n',\n",
       " '  Thy self away, art present still with me;\\n',\n",
       " '  For thou not farther than my thoughts canst move,\\n',\n",
       " '  And I am still with them, and they with thee;\\n',\n",
       " '    Or, if they sleep, thy picture in my sight\\n',\n",
       " \"    Awakes my heart, to heart's and eye's delight.\\n\",\n",
       " '\\n',\n",
       " '  XLVIII\\n',\n",
       " '\\n',\n",
       " '  How careful was I when I took my way,\\n',\n",
       " '  Each trifle under truest bars to thrust,\\n',\n",
       " '  That to my use it might unused stay\\n',\n",
       " '  From hands of falsehood, in sure wards of trust!\\n',\n",
       " '  But thou, to whom my jewels trifles are,\\n',\n",
       " '  Most worthy comfort, now my greatest grief,\\n',\n",
       " '  Thou best of dearest, and mine only care,\\n',\n",
       " '  Art left the prey of every vulgar thief.\\n',\n",
       " \"  Thee have I not lock'd up in any chest,\\n\",\n",
       " '  Save where thou art not, though I feel thou art,\\n',\n",
       " '  Within the gentle closure of my breast,\\n',\n",
       " '  From whence at pleasure thou mayst come and part;\\n',\n",
       " \"    And even thence thou wilt be stol'n I fear,\\n\",\n",
       " '    For truth proves thievish for a prize so dear.\\n',\n",
       " '\\n',\n",
       " '  XLIX\\n',\n",
       " '\\n',\n",
       " '  Against that time, if ever that time come,\\n',\n",
       " '  When I shall see thee frown on my defects,\\n',\n",
       " '  When as thy love hath cast his utmost sum,\\n',\n",
       " \"  Call'd to that audit by advis'd respects;\\n\",\n",
       " '  Against that time when thou shalt strangely pass,\\n',\n",
       " '  And scarcely greet me with that sun, thine eye,\\n',\n",
       " '  When love, converted from the thing it was,\\n',\n",
       " '  Shall reasons find of settled gravity;\\n',\n",
       " '  Against that time do I ensconce me here,\\n',\n",
       " '  Within the knowledge of mine own desert,\\n',\n",
       " '  And this my hand, against my self uprear,\\n',\n",
       " '  To guard the lawful reasons on thy part:\\n',\n",
       " '    To leave poor me thou hast the strength of laws,\\n',\n",
       " '    Since why to love I can allege no cause.\\n',\n",
       " '\\n',\n",
       " '  L\\n',\n",
       " '\\n',\n",
       " '  How heavy do I journey on the way,\\n',\n",
       " \"  When what I seek, my weary travel's end,\\n\",\n",
       " '  Doth teach that ease and that repose to say,\\n',\n",
       " \"  'Thus far the miles are measured from thy friend!'\\n\",\n",
       " '  The beast that bears me, tired with my woe,\\n',\n",
       " '  Plods dully on, to bear that weight in me,\\n',\n",
       " '  As if by some instinct the wretch did know\\n',\n",
       " \"  His rider lov'd not speed, being made from thee:\\n\",\n",
       " '  The bloody spur cannot provoke him on,\\n',\n",
       " '  That sometimes anger thrusts into his hide,\\n',\n",
       " '  Which heavily he answers with a groan,\\n',\n",
       " '  More sharp to me than spurring to his side;\\n',\n",
       " '    For that same groan doth put this in my mind,\\n',\n",
       " '    My grief lies onward, and my joy behind.\\n',\n",
       " '\\n',\n",
       " '  LI\\n',\n",
       " '\\n',\n",
       " '  Thus can my love excuse the slow offence\\n',\n",
       " '  Of my dull bearer when from thee I speed:\\n',\n",
       " '  From where thou art why should I haste me thence?\\n',\n",
       " '  Till I return, of posting is no need.\\n',\n",
       " '  O! what excuse will my poor beast then find,\\n',\n",
       " '  When swift extremity can seem but slow?\\n',\n",
       " '  Then should I spur, though mounted on the wind,\\n',\n",
       " '  In winged speed no motion shall I know,\\n',\n",
       " '  Then can no horse with my desire keep pace;\\n',\n",
       " \"  Therefore desire, of perfect'st love being made,\\n\",\n",
       " '  Shall neigh--no dull flesh--in his fiery race;\\n',\n",
       " '  But love, for love, thus shall excuse my jade,--\\n',\n",
       " \"    'Since from thee going, he went wilful-slow,\\n\",\n",
       " \"    Towards thee I'll run, and give him leave to go.'\\n\",\n",
       " '\\n',\n",
       " '  LII\\n',\n",
       " '\\n',\n",
       " '  So am I as the rich, whose blessed key,\\n',\n",
       " '  Can bring him to his sweet up-locked treasure,\\n',\n",
       " '  The which he will not every hour survey,\\n',\n",
       " '  For blunting the fine point of seldom pleasure.\\n',\n",
       " '  Therefore are feasts so solemn and so rare,\\n',\n",
       " '  Since, seldom coming in that long year set,\\n',\n",
       " '  Like stones of worth they thinly placed are,\\n',\n",
       " '  Or captain jewels in the carcanet.\\n',\n",
       " '  So is the time that keeps you as my chest,\\n',\n",
       " '  Or as the wardrobe which the robe doth hide,\\n',\n",
       " '  To make some special instant special-blest,\\n',\n",
       " \"  By new unfolding his imprison'd pride.\\n\",\n",
       " '    Blessed are you whose worthiness gives scope,\\n',\n",
       " '    Being had, to triumph; being lacked, to hope.\\n',\n",
       " '\\n',\n",
       " '  LIII\\n',\n",
       " '\\n',\n",
       " '  What is your substance, whereof are you made,\\n',\n",
       " '  That millions of strange shadows on you tend?\\n',\n",
       " '  Since every one, hath every one, one shade,\\n',\n",
       " '  And you but one, can every shadow lend.\\n',\n",
       " '  Describe Adonis, and the counterfeit\\n',\n",
       " '  Is poorly imitated after you;\\n',\n",
       " \"  On Helen's cheek all art of beauty set,\\n\",\n",
       " '  And you in Grecian tires are painted new:\\n',\n",
       " '  Speak of the spring, and foison of the year,\\n',\n",
       " '  The one doth shadow of your beauty show,\\n',\n",
       " '  The other as your bounty doth appear;\\n',\n",
       " '  And you in every blessed shape we know.\\n',\n",
       " '    In all external grace you have some part,\\n',\n",
       " '    But you like none, none you, for constant heart.\\n',\n",
       " '\\n',\n",
       " '  LIV\\n',\n",
       " '\\n',\n",
       " '  O! how much more doth beauty beauteous seem\\n',\n",
       " '  By that sweet ornament which truth doth give.\\n',\n",
       " '  The rose looks fair, but fairer we it deem\\n',\n",
       " '  For that sweet odour, which doth in it live.\\n',\n",
       " '  The canker blooms have full as deep a dye\\n',\n",
       " '  As the perfumed tincture of the roses.\\n',\n",
       " '  Hang on such thorns, and play as wantonly\\n',\n",
       " \"  When summer's breath their masked buds discloses:\\n\",\n",
       " '  But, for their virtue only is their show,\\n',\n",
       " \"  They live unwoo'd, and unrespected fade;\\n\",\n",
       " '  Die to themselves. Sweet roses do not so;\\n',\n",
       " '  Of their sweet deaths, are sweetest odours made:\\n',\n",
       " '    And so of you, beauteous and lovely youth,\\n',\n",
       " '    When that shall vade, by verse distills your truth.\\n',\n",
       " '\\n',\n",
       " '  LV\\n',\n",
       " '\\n',\n",
       " '  Not marble, nor the gilded monuments\\n',\n",
       " '  Of princes, shall outlive this powerful rhyme;\\n',\n",
       " '  But you shall shine more bright in these contents\\n',\n",
       " \"  Than unswept stone, besmear'd with sluttish time.\\n\",\n",
       " '  When wasteful war shall statues overturn,\\n',\n",
       " '  And broils root out the work of masonry,\\n',\n",
       " \"  Nor Mars his sword, nor war's quick fire shall burn\\n\",\n",
       " '  The living record of your memory.\\n',\n",
       " \"  'Gainst death, and all-oblivious enmity\\n\",\n",
       " '  Shall you pace forth; your praise shall still find room\\n',\n",
       " '  Even in the eyes of all posterity\\n',\n",
       " '  That wear this world out to the ending doom.\\n',\n",
       " '    So, till the judgment that yourself arise,\\n',\n",
       " \"    You live in this, and dwell in lovers' eyes.\\n\",\n",
       " '\\n',\n",
       " '  LVI\\n',\n",
       " '\\n',\n",
       " '  Sweet love, renew thy force; be it not said\\n',\n",
       " '  Thy edge should blunter be than appetite,\\n',\n",
       " \"  Which but to-day by feeding is allay'd,\\n\",\n",
       " '  To-morrow sharpened in his former might:\\n',\n",
       " '  So, love, be thou, although to-day thou fill\\n',\n",
       " '  Thy hungry eyes, even till they wink with fulness,\\n',\n",
       " '  To-morrow see again, and do not kill\\n',\n",
       " '  The spirit of love, with a perpetual dulness.\\n',\n",
       " '  Let this sad interim like the ocean be\\n',\n",
       " '  Which parts the shore, where two contracted new\\n',\n",
       " '  Come daily to the banks, that when they see\\n',\n",
       " '  Return of love, more blest may be the view;\\n',\n",
       " '    Or call it winter, which being full of care,\\n',\n",
       " \"    Makes summer's welcome, thrice more wished, more rare.\\n\",\n",
       " '\\n',\n",
       " '  LVII\\n',\n",
       " '\\n',\n",
       " '  Being your slave what should I do but tend,\\n',\n",
       " '  Upon the hours, and times of your desire?\\n',\n",
       " '  I have no precious time at all to spend;\\n',\n",
       " '  Nor services to do, till you require.\\n',\n",
       " '  Nor dare I chide the world-without-end hour,\\n',\n",
       " '  Whilst I, my sovereign, watch the clock for you,\\n',\n",
       " '  Nor think the bitterness of absence sour,\\n',\n",
       " '  When you have bid your servant once adieu;\\n',\n",
       " '  Nor dare I question with my jealous thought\\n',\n",
       " '  Where you may be, or your affairs suppose,\\n',\n",
       " '  But, like a sad slave, stay and think of nought\\n',\n",
       " '  Save, where you are, how happy you make those.\\n',\n",
       " '    So true a fool is love, that in your will,\\n',\n",
       " '    Though you do anything, he thinks no ill.\\n',\n",
       " '\\n',\n",
       " '  LVIII\\n',\n",
       " '\\n',\n",
       " '  That god forbid, that made me first your slave,\\n',\n",
       " '  I should in thought control your times of pleasure,\\n',\n",
       " '  Or at your hand the account of hours to crave,\\n',\n",
       " '  Being your vassal, bound to stay your leisure!\\n',\n",
       " '  O! let me suffer, being at your beck,\\n',\n",
       " \"  The imprison'd absence of your liberty;\\n\",\n",
       " '  And patience, tame to sufferance, bide each check,\\n',\n",
       " '  Without accusing you of injury.\\n',\n",
       " '  Be where you list, your charter is so strong\\n',\n",
       " '  That you yourself may privilage your time\\n',\n",
       " '  To what you will; to you it doth belong\\n',\n",
       " '  Yourself to pardon of self-doing crime.\\n',\n",
       " '    I am to wait, though waiting so be hell,\\n',\n",
       " '    Not blame your pleasure be it ill or well.\\n',\n",
       " '\\n',\n",
       " '  LIX\\n',\n",
       " '\\n',\n",
       " '  If there be nothing new, but that which is\\n',\n",
       " \"  Hath been before, how are our brains beguil'd,\\n\",\n",
       " '  Which labouring for invention bear amiss\\n',\n",
       " '  The second burthen of a former child!\\n',\n",
       " '  O! that record could with a backward look,\\n',\n",
       " '  Even of five hundred courses of the sun,\\n',\n",
       " '  Show me your image in some antique book,\\n',\n",
       " '  Since mind at first in character was done!\\n',\n",
       " '  That I might see what the old world could say\\n',\n",
       " '  To this composed wonder of your frame;\\n',\n",
       " \"  Wh'r we are mended, or wh'r better they,\\n\",\n",
       " '  Or whether revolution be the same.\\n',\n",
       " '    O! sure I am the wits of former days,\\n',\n",
       " ...]"
      ]
     },
     "execution_count": 3,
     "metadata": {},
     "output_type": "execute_result"
    }
   ],
   "source": [
    "text"
   ]
  },
  {
   "cell_type": "code",
   "execution_count": 4,
   "metadata": {},
   "outputs": [
    {
     "data": {
      "text/plain": [
       "2616"
      ]
     },
     "execution_count": 4,
     "metadata": {},
     "output_type": "execute_result"
    }
   ],
   "source": [
    "len(text)"
   ]
  },
  {
   "cell_type": "markdown",
   "metadata": {
    "id": "89JCKhxLvOiV"
   },
   "source": [
    "In opposite to the in-class practice, this time we want to predict complex text. Let's reduce the complexity of the task and lowercase all the symbols.\n",
    "\n",
    "Now variable `text` is a list of strings. Join all the strings into one and lowercase it."
   ]
  },
  {
   "cell_type": "code",
   "execution_count": 5,
   "metadata": {
    "id": "erzZwVc8vOiV"
   },
   "outputs": [
    {
     "name": "stdout",
     "output_type": "stream",
     "text": [
      "OK!\n"
     ]
    }
   ],
   "source": [
    "# Join all the strings into one and lowercase it\n",
    "# Put result into variable text.\n",
    "\n",
    "# Your great code here\n",
    "text = ''.join(text).lower()\n",
    "\n",
    "assert len(text) == 100225, 'Are you sure you have concatenated all the strings?'\n",
    "assert not any([x in set(text) for x in string.ascii_uppercase]), 'Uppercase letters are present'\n",
    "print('OK!')"
   ]
  },
  {
   "cell_type": "markdown",
   "metadata": {
    "id": "tAmjgz4gvOiW"
   },
   "source": [
    "Put all the characters, that you've seen in the text, into variable `tokens`."
   ]
  },
  {
   "cell_type": "code",
   "execution_count": 6,
   "metadata": {
    "collapsed": true,
    "id": "x9w4xE6OvOiW"
   },
   "outputs": [],
   "source": [
    "tokens = sorted(set(text))"
   ]
  },
  {
   "cell_type": "markdown",
   "metadata": {
    "id": "aZ3HvdxgvOiW"
   },
   "source": [
    "Create dictionary `token_to_idx = {<char>: <index>}` and dictionary `idx_to_token = {<index>: <char>}`"
   ]
  },
  {
   "cell_type": "code",
   "execution_count": 7,
   "metadata": {
    "collapsed": true,
    "id": "c1dexBl-vOiW"
   },
   "outputs": [],
   "source": [
    "# dict <index>:<char>\n",
    "# Your great code here\n",
    "idx_to_token = {index:char for index, char in enumerate(tokens)}\n",
    "\n",
    "# dict <char>:<index>\n",
    "# Your great code here\n",
    "token_to_idx = {char:index for index, char in enumerate(tokens)}"
   ]
  },
  {
   "cell_type": "markdown",
   "metadata": {
    "id": "0cwa5FbIvOiW"
   },
   "source": [
    "*Comment: in this task we have only 38 different tokens, so let's use one-hot encoding.*"
   ]
  },
  {
   "cell_type": "code",
   "execution_count": 8,
   "metadata": {
    "collapsed": true
   },
   "outputs": [],
   "source": [
    "import numpy as np"
   ]
  },
  {
   "cell_type": "code",
   "execution_count": 9,
   "metadata": {
    "collapsed": true
   },
   "outputs": [],
   "source": [
    "text_encoded = np.array([token_to_idx[char] for char in text])"
   ]
  },
  {
   "cell_type": "code",
   "execution_count": 10,
   "metadata": {},
   "outputs": [
    {
     "data": {
      "text/plain": [
       "array([ 1,  1, 17, ..., 16,  8,  0])"
      ]
     },
     "execution_count": 10,
     "metadata": {},
     "output_type": "execute_result"
    }
   ],
   "source": [
    "text_encoded"
   ]
  },
  {
   "cell_type": "code",
   "execution_count": 11,
   "metadata": {},
   "outputs": [
    {
     "data": {
      "text/plain": [
       "38"
      ]
     },
     "execution_count": 11,
     "metadata": {},
     "output_type": "execute_result"
    }
   ],
   "source": [
    "len(tokens)"
   ]
  },
  {
   "cell_type": "markdown",
   "metadata": {
    "id": "wIfa0MEZvOiW"
   },
   "source": [
    "### Building the model"
   ]
  },
  {
   "cell_type": "markdown",
   "metadata": {
    "id": "WmxKnjZyvOiW"
   },
   "source": [
    "Now we want to build and train recurrent neural net which would be able to something similar to Shakespeare's poetry.\n",
    "\n",
    "Let's use vanilla RNN, similar to the one created during the lesson."
   ]
  },
  {
   "cell_type": "code",
   "execution_count": 12,
   "metadata": {
    "collapsed": true,
    "id": "hzMKsOqDvOiW"
   },
   "outputs": [],
   "source": [
    "# Your code here"
   ]
  },
  {
   "cell_type": "code",
   "execution_count": 13,
   "metadata": {
    "collapsed": true
   },
   "outputs": [],
   "source": [
    "import torch, torch.nn as nn\n",
    "import torch.nn.functional as F"
   ]
  },
  {
   "cell_type": "markdown",
   "metadata": {},
   "source": [
    "### <font color=blue>1. How we create batches.</font>\n",
    "\n",
    "The batches we'll be chunks of chunk of data. We'll proceed in the following way:\n",
    "\n",
    "- At the moment `text` is a long string of almost aprox. $100,000$ characters.\n",
    "- We'll split this $10,0000$-character string into `batch_size=10` substrings (sentences), each of length $10,000$.\n",
    "- After splitting we'll stack them by columns. This gives the matrix `text_matrix` of dimensions `(10, 10000)`.\n",
    "- To the RNN we'll feed by chunk of $50$ characters. That is, the first batch will be a `(10, 50)`-matrix. Once processed by the network we take the next $50$ characters (for each of the $10$ sentences) and feed that `(10, 50)` and so on.\n",
    "- We'll chop the text off at the end such that each sentence has a length of exactly $10,000$ characters."
   ]
  },
  {
   "cell_type": "code",
   "execution_count": 14,
   "metadata": {
    "collapsed": true
   },
   "outputs": [],
   "source": [
    "def generate_sentences(text, batch_size, str_len):\n",
    "    \n",
    "    # batch_size = number of sentences processed at once. 10\n",
    "    # str_len = sentence length. 50\n",
    "    \n",
    "    total_batches = batch_size * str_len\n",
    "    n_batches = len(text) // total_batches\n",
    "    \n",
    "    # we chop the text, so as to avoid erro when reshaping\n",
    "    text_matrix = text[: n_batches * total_batches].copy()\n",
    "    text_matrix = text_matrix.reshape((batch_size, -1))\n",
    "    \n",
    "    return text_matrix"
   ]
  },
  {
   "cell_type": "code",
   "execution_count": 15,
   "metadata": {
    "collapsed": true
   },
   "outputs": [],
   "source": [
    "text_length = len(text_encoded)\n",
    "batch_size = 10\n",
    "str_len = 50"
   ]
  },
  {
   "cell_type": "code",
   "execution_count": 16,
   "metadata": {
    "collapsed": true
   },
   "outputs": [],
   "source": [
    "text_matrix = generate_sentences(text_encoded, batch_size, str_len)"
   ]
  },
  {
   "cell_type": "code",
   "execution_count": 17,
   "metadata": {},
   "outputs": [
    {
     "data": {
      "text/plain": [
       "(10, 10000)"
      ]
     },
     "execution_count": 17,
     "metadata": {},
     "output_type": "execute_result"
    }
   ],
   "source": [
    "text_matrix.shape"
   ]
  },
  {
   "cell_type": "markdown",
   "metadata": {},
   "source": [
    "### <font color=blue>2. The RNN Code.</font>"
   ]
  },
  {
   "cell_type": "code",
   "execution_count": 18,
   "metadata": {
    "collapsed": true
   },
   "outputs": [],
   "source": [
    "num_tokens = len(tokens)\n",
    "rnn_num_units = 64\n",
    "encode_size = len(tokens) #encode_size = 38, because is one hot encoding."
   ]
  },
  {
   "cell_type": "code",
   "execution_count": 19,
   "metadata": {
    "collapsed": true
   },
   "outputs": [],
   "source": [
    "class CharRNNCell(nn.Module):\n",
    "    \"\"\"\n",
    "    Implement the scheme above as torch module\n",
    "    \"\"\"\n",
    "    def __init__(self, num_tokens=len(tokens), embedding_size=encode_size, rnn_num_units=64):\n",
    "        super(self.__class__,self).__init__()\n",
    "        self.num_units = rnn_num_units\n",
    "        \n",
    "        #n_to_pick, #one will be embedded as a vector of size embedding_size\n",
    "        # we have to do this for each token, so the code below generates a embedding\n",
    "        # matrix of size num_tokens x num_tokens (embedding_size = num_tokens).\n",
    "        #self.embedding = nn.Embedding(num_tokens, embedding_size)\n",
    "        \n",
    "        # Because of concatenation n_in = rnn_num_units + embedding_size\n",
    "        self.rnn_update = nn.Linear(38 + rnn_num_units, rnn_num_units)\n",
    "        self.rnn_to_logits = nn.Linear(rnn_num_units, num_tokens) #n_in, n_out\n",
    "        \n",
    "    def forward(self, x, h_prev):\n",
    "        \"\"\"\n",
    "        This method computes h_next(x, h_prev) and log P(x_next | h_next)\n",
    "        We'll call it repeatedly to produce the whole sequence.\n",
    "        \n",
    "        :param x: batch of character ids, containing vector of int64\n",
    "        :param h_prev: previous rnn hidden states, containing matrix [batch, rnn_num_units] of float32\n",
    "        \"\"\"\n",
    "        # get vector embedding of x\n",
    "        # x is of size (batches,)\n",
    "        # along axis=0 is the integer representing the given character of the given instance\n",
    "        # x_emb is of size (batches, embedding_size)\n",
    "        x_emb = F.one_hot(x, 38)\n",
    "        \n",
    "        # compute next hidden state using self.rnn_update\n",
    "        # hint: use torch.cat(..., dim=...) for concatenation\n",
    "        x_and_h = torch.cat([x_emb, h_prev], dim=-1)# YOUR CODE HERE\n",
    "        h_next = self.rnn_update(x_and_h)# YOUR CODE HERE\n",
    "        \n",
    "        h_next = torch.tanh(h_next)# YOUR CODE HERE\n",
    "        \n",
    "        assert h_next.size() == h_prev.size()\n",
    "        \n",
    "        #compute logits for next character probs\n",
    "        logits = self.rnn_to_logits(h_next)# YOUR CODE\n",
    "        \n",
    "        return h_next, logits\n",
    "    \n",
    "    def initial_state(self, batch_size):\n",
    "        \"\"\" return rnn state before it processes first input (aka h0) \"\"\"\n",
    "        return torch.zeros(batch_size, self.num_units, requires_grad=True)"
   ]
  },
  {
   "cell_type": "code",
   "execution_count": 20,
   "metadata": {
    "collapsed": true
   },
   "outputs": [],
   "source": [
    "def rnn_loop(char_rnn, batch_ix):\n",
    "    \"\"\"\n",
    "    Computes log P(next_character) for all time-steps in names_ix\n",
    "    :param names_ix: an int32 matrix of shape [batch, time], output of to_matrix(names)\n",
    "    \"\"\"\n",
    "    batch_size, _ = batch_ix.size()\n",
    "    hid_state = char_rnn.initial_state(batch_size)\n",
    "    logprobs = []\n",
    "\n",
    "    # we have to process each word, character by character\n",
    "    # but we can (and have to) process all the words at at time, character by character.\n",
    "    # by taking the first character on each and feeding it to the network.\n",
    "    # That's what we do below.\n",
    "    for x_t in batch_ix.transpose(0,1):\n",
    "        # When we call model(...), we are actually calling model.__call__(...). \n",
    "        # The __call__ method on nn.Module eventually calls forward along with \n",
    "        # taking care of tracing and hooks.\n",
    "        # So char_rnn(x_t, hid_state) is the same as char_rnn.forward(x_t, hid_state)\n",
    "        hid_state, logits = char_rnn(x_t, hid_state)  # <-- here we call your one-step code\n",
    "        logprobs.append(F.log_softmax(logits, -1))\n",
    "        \n",
    "    return torch.stack(logprobs, dim=1)"
   ]
  },
  {
   "cell_type": "markdown",
   "metadata": {},
   "source": [
    "### <font color=blue>3. The Training Loop.</font>"
   ]
  },
  {
   "cell_type": "code",
   "execution_count": 21,
   "metadata": {
    "collapsed": true
   },
   "outputs": [],
   "source": [
    "from IPython.display import clear_output\n",
    "from random import sample\n",
    "\n",
    "char_rnn = CharRNNCell()\n",
    "criterion = nn.NLLLoss()\n",
    "opt = torch.optim.Adam(char_rnn.parameters())\n",
    "history_custom = []"
   ]
  },
  {
   "cell_type": "code",
   "execution_count": 22,
   "metadata": {},
   "outputs": [
    {
     "data": {
      "image/png": "[encoded data removed]",
      "text/plain": [
       "<Figure size 576x432 with 1 Axes>"
      ]
     },
     "metadata": {},
     "output_type": "display_data"
    }
   ],
   "source": [
    "n_epochs = 60\n",
    "total_str_len = text_matrix.shape[1]\n",
    "\n",
    "for epoch in range(n_epochs):\n",
    "    \n",
    "    for i in range(0, total_str_len, str_len):\n",
    "        opt.zero_grad()\n",
    "\n",
    "        # The batch is formed at random\n",
    "        batch_ix = text_matrix[:, i:i+str_len]\n",
    "        batch_ix = torch.tensor(batch_ix, dtype=torch.int64)\n",
    "        \n",
    "        #print('({},{}),'.format(batch_ix.shape[0],batch_ix.shape[1]))\n",
    "        logp_seq = rnn_loop(char_rnn, batch_ix)\n",
    "\n",
    "        # compute loss\n",
    "        predictions_logp = logp_seq[:, :-1]# YOUR CODE HERE\n",
    "        actual_next_tokens = batch_ix[:, 1:] # YOUR CODE HERE\n",
    "\n",
    "        loss = criterion(predictions_logp.contiguous().view(-1, num_tokens), \n",
    "                      actual_next_tokens.contiguous().view(-1))# YOUR CODE HERE\n",
    "\n",
    "        # train with backprop\n",
    "        # YOUR CODE HERE\n",
    "        loss.backward()\n",
    "        opt.step()\n",
    "\n",
    "    history_custom.append(loss.data.numpy())\n",
    "    \n",
    "    clear_output(True)\n",
    "    plt.figure(figsize=(8,6))\n",
    "    plt.plot(history_custom,label='loss')\n",
    "    plt.ylabel('Loss', fontsize=14)\n",
    "    plt.xlabel('n_epochs', fontsize=14)\n",
    "    plt.show()\n",
    "\n",
    "assert np.mean(history_custom[:10]) > np.mean(history_custom[-10:]), \"RNN didn't converge.\""
   ]
  },
  {
   "cell_type": "markdown",
   "metadata": {},
   "source": [
    "### 4. Sampling."
   ]
  },
  {
   "cell_type": "code",
   "execution_count": 23,
   "metadata": {
    "collapsed": true,
    "id": "G7mogn2qvOiW"
   },
   "outputs": [],
   "source": [
    "def generate_sample(char_rnn, seed_phrase=' ', max_length=500, temperature=1.0):\n",
    "    '''\n",
    "    The function generates text given a phrase of length at least SEQ_LENGTH.\n",
    "    :param seed_phrase: prefix characters. The RNN is asked to continue the phrase\n",
    "    :param max_length: maximum output length, including seed_phrase\n",
    "    :param temperature: coefficient for sampling.  higher temperature produces more chaotic outputs,\n",
    "                        smaller temperature converges to the single most likely output\n",
    "    '''\n",
    "    \n",
    "    x_sequence = [token_to_idx[token] for token in seed_phrase]\n",
    "    x_sequence = torch.tensor([x_sequence], dtype=torch.int64)\n",
    "    hid_state = char_rnn.initial_state(batch_size=1)\n",
    "    \n",
    "    #feed the seed phrase, if any\n",
    "    for i in range(len(seed_phrase) - 1):\n",
    "        hid_state, _ = char_rnn(x_sequence[:, i], hid_state)\n",
    "    \n",
    "    #start generating\n",
    "    for _ in range(max_length - len(seed_phrase)):\n",
    "        hid_state, logits = char_rnn(x_sequence[:, -1], hid_state)\n",
    "        p_next = F.softmax(logits / temperature, dim=-1).data.numpy()[0]\n",
    "        \n",
    "        # sample next token and push it back into x_sequence\n",
    "        next_ix = np.random.choice(num_tokens,p=p_next)\n",
    "        next_ix = torch.tensor([[next_ix]], dtype=torch.int64)\n",
    "        x_sequence = torch.cat([x_sequence, next_ix], dim=1)\n",
    "    \n",
    "    poem = ''.join([idx_to_token[ix] for ix in x_sequence.data.numpy()[0]])\n",
    "    print(poem)"
   ]
  },
  {
   "cell_type": "code",
   "execution_count": 24,
   "metadata": {
    "collapsed": true,
    "id": "jTPbve8qvOiX",
    "outputId": "e8b5f232-6daf-41f7-f281-94a93b186fb5"
   },
   "outputs": [],
   "source": [
    "# An example of generated text.\n",
    "# print(generate_text(length=500, temperature=0.2))"
   ]
  },
  {
   "cell_type": "markdown",
   "metadata": {},
   "source": [
    "(This is the example that was in the original notebook):\n",
    "\n",
    "`hide my will in thine?\n",
    "  shall will in of the simend that in my sime the seave the seave the sorll the soren the sange the seall seares and and the fart the wirl the seall the songh whing that thou hall will thoun the soond beare the with that sare the simest me the fart the wirl the songre the with thy seart so for shat so for do the dost the sing the sing the sing the soond canding the sack and the farling the wirl of sore sich and that with the seare the seall so fort the with the past the wirl the simen the wirl the sores the sare`"
   ]
  },
  {
   "cell_type": "code",
   "execution_count": 25,
   "metadata": {},
   "outputs": [
    {
     "name": "stdout",
     "output_type": "stream",
     "text": [
      " the with the still in the world the stare the stare the such the self the still the with the still the stare the starn the stare the still the world the stere the still when the still in the still heart the still beauty thy self the world the still in the still with the seath the stare thy starn the still with the sear the love the sear the seet dear that the will the stare the still with the still heart the deart the still of the stare the still of the still hath the sum the still of the store\n"
     ]
    }
   ],
   "source": [
    "generate_sample(char_rnn, max_length=500, temperature=0.2)"
   ]
  },
  {
   "cell_type": "markdown",
   "metadata": {
    "id": "7zIPLpGtvOiX"
   },
   "source": [
    "### More poetic model\n",
    "\n",
    "Let's use LSTM instead of vanilla RNN and compare the results."
   ]
  },
  {
   "cell_type": "markdown",
   "metadata": {
    "id": "9rl7pU9gvOiX"
   },
   "source": [
    "Plot the loss function of the number of epochs. Does the final loss become better?"
   ]
  },
  {
   "cell_type": "code",
   "execution_count": 26,
   "metadata": {
    "collapsed": true,
    "id": "4LxaEn2-vOiX"
   },
   "outputs": [],
   "source": [
    "# Your beautiful code here"
   ]
  },
  {
   "cell_type": "code",
   "execution_count": 27,
   "metadata": {
    "collapsed": true
   },
   "outputs": [],
   "source": [
    "class CharRNNLoop(nn.Module):\n",
    "    def __init__(self, num_tokens=len(tokens), embedding_size=encode_size, rnn_num_units=64):\n",
    "        super(self.__class__, self).__init__()\n",
    "        self.num_tokens = num_tokens\n",
    "        self.embedding_size = embedding_size\n",
    "        self.num_units = rnn_num_units\n",
    "        self.rnn = nn.LSTM(self.embedding_size, self.num_units, batch_first=True)\n",
    "        self.hid_to_logits = nn.Linear(self.num_units, self.num_tokens)\n",
    "        \n",
    "    def forward(self, x, prev_state):\n",
    "        assert isinstance(x.data, torch.LongTensor)\n",
    "        output, state = self.rnn(F.one_hot(x, 38).float(), prev_state)\n",
    "        next_logits = self.hid_to_logits(output)\n",
    "        next_logp = F.log_softmax(next_logits, dim=-1)\n",
    "        return next_logp, state\n",
    "    \n",
    "    def initial_state(self, batch_size):\n",
    "        h = torch.zeros(1, batch_size, self.num_units, requires_grad=True)\n",
    "        c = torch.zeros(1, batch_size, self.num_units, requires_grad=True)\n",
    "        return (h, c)"
   ]
  },
  {
   "cell_type": "code",
   "execution_count": 28,
   "metadata": {
    "collapsed": true
   },
   "outputs": [],
   "source": [
    "model = CharRNNLoop()\n",
    "opt = torch.optim.Adam(model.parameters())\n",
    "history_torch = []"
   ]
  },
  {
   "cell_type": "code",
   "execution_count": 29,
   "metadata": {},
   "outputs": [
    {
     "data": {
      "image/png": "[encoded data removed]",
      "text/plain": [
       "<Figure size 576x432 with 1 Axes>"
      ]
     },
     "metadata": {},
     "output_type": "display_data"
    }
   ],
   "source": [
    "n_epochs = 60\n",
    "total_str_len = text_matrix.shape[1]\n",
    "\n",
    "for epoch in range(n_epochs):\n",
    "    \n",
    "    hidden_state, c_state = model.initial_state(batch_size)\n",
    "    \n",
    "    for i in range(0, total_str_len, str_len):\n",
    "        opt.zero_grad()\n",
    "\n",
    "        # The batch is formed at random\n",
    "        batch_ix = text_matrix[:, i:i+str_len]\n",
    "        batch_ix = torch.tensor(batch_ix, dtype=torch.int64)\n",
    "        \n",
    "        #print('({},{}),'.format(batch_ix.shape[0],batch_ix.shape[1]))\n",
    "        logp_seq, (hidden_state, c_state) = model(batch_ix, (hidden_state, c_state))\n",
    "\n",
    "        # compute loss\n",
    "        predictions_logp = logp_seq[:, :-1]# YOUR CODE HERE\n",
    "        actual_next_tokens = batch_ix[:, 1:] # YOUR CODE HERE\n",
    "\n",
    "        loss = criterion(predictions_logp.contiguous().view(-1, num_tokens), \n",
    "                      actual_next_tokens.contiguous().view(-1))# YOUR CODE HERE\n",
    "        \n",
    "        hidden_state = hidden_state.detach()\n",
    "        c_state = c_state.detach()\n",
    "        \n",
    "        # train with backprop\n",
    "        # YOUR CODE HERE\n",
    "        loss.backward()\n",
    "        opt.step()\n",
    "\n",
    "    history_torch.append(loss.data.numpy())\n",
    "    clear_output(True)\n",
    "    plt.figure(figsize=(8,6))\n",
    "    plt.plot(history_torch,label='loss')\n",
    "    plt.ylabel('Loss', fontsize=14)\n",
    "    plt.xlabel('n_epochs', fontsize=14)\n",
    "    plt.show()\n",
    "\n",
    "assert np.mean(history_torch[:10]) > np.mean(history_torch[-10:]), \"RNN didn't converge.\""
   ]
  },
  {
   "cell_type": "markdown",
   "metadata": {
    "id": "KsFsmBfDvOiX"
   },
   "source": [
    "Generate text using the trained net with different `temperature` parameter: `[0.1, 0.2, 0.5, 1.0, 2.0]`.\n",
    "\n",
    "Evaluate the results visually, try to interpret them."
   ]
  },
  {
   "cell_type": "code",
   "execution_count": 30,
   "metadata": {
    "collapsed": true,
    "id": "LgRVEQ80vOiX"
   },
   "outputs": [],
   "source": [
    "# Text generation with different temperature values here"
   ]
  },
  {
   "cell_type": "code",
   "execution_count": 31,
   "metadata": {
    "collapsed": true
   },
   "outputs": [],
   "source": [
    "def generate_sample_2(model, seed_phrase=' ', max_length=500, temperature=1.0):\n",
    "    '''\n",
    "    The function generates text given a phrase of length at least SEQ_LENGTH.\n",
    "    :param seed_phrase: prefix characters. The RNN is asked to continue the phrase\n",
    "    :param max_length: maximum output length, including seed_phrase\n",
    "    :param temperature: coefficient for sampling.  higher temperature produces more chaotic outputs,\n",
    "                        smaller temperature converges to the single most likely output\n",
    "    '''\n",
    "    \n",
    "    x_sequence = [token_to_idx[token] for token in seed_phrase]\n",
    "    x_sequence = torch.tensor([x_sequence], dtype=torch.int64)\n",
    "    hidden_state, c_state = model.initial_state(batch_size=1)\n",
    "    \n",
    "    #feed the seed phrase, if any\n",
    "    for i in range(len(seed_phrase) - 1):\n",
    "        _, (hidden_state, c_state) = model(x_sequence[:, i], (hidden_state, c_state))\n",
    "        hidden_state.detach()\n",
    "        c_state.detach()\n",
    "        \n",
    "    \n",
    "    #start generating\n",
    "    next_ix = x_sequence[:, -1].unsqueeze(0)\n",
    "    for _ in range(max_length - len(seed_phrase)):\n",
    "        output, (hidden_state, c_state) = model(next_ix, (hidden_state, c_state))\n",
    "        \n",
    "        hidden_state.detach()\n",
    "        c_state.detach()\n",
    "        \n",
    "        p_next = torch.squeeze(F.softmax(output / temperature, dim=-1))\n",
    "        \n",
    "        next_ix = np.random.choice(num_tokens,p=p_next.detach().numpy())\n",
    "        next_ix = torch.tensor([[next_ix]], dtype=torch.int64)\n",
    "        x_sequence = torch.cat([x_sequence, next_ix], dim=1)\n",
    "    \n",
    "    poem = ''.join([idx_to_token[ix] for ix in x_sequence.data.numpy()[0]])\n",
    "    print(poem)"
   ]
  },
  {
   "cell_type": "code",
   "execution_count": 32,
   "metadata": {},
   "outputs": [
    {
     "name": "stdout",
     "output_type": "stream",
     "text": [
      "***Example with temperature = 0.1***\n",
      "************************************\n",
      " storend thee,\n",
      "    then i and the streather the streather store,\n",
      "    then the stare the streather the streasure thee,\n",
      "    then the streather the streather and the strend,\n",
      "  and the streather and the streather of thee,\n",
      "    then the streather and the streather and thee thee,\n",
      "    then the streather the streather all the strend,\n",
      "  and the streather the streather and the strend,\n",
      "  and the streather and the strends of thee,\n",
      "    the stard in the strends and the strease thee,\n",
      "    then i and the steet th\n",
      "\n",
      "\n",
      "***Example with temperature = 0.2***\n",
      "************************************\n",
      " thee forth see to me,\n",
      "  and the store the sport the thee i see thee,\n",
      "    then i and the same the strends the strends of thee,\n",
      "    that the still the sport the streast the strend,\n",
      "    the still the stould i and the strease thee.\n",
      "    that that the will of the strends beauty sight,\n",
      "  and the streathing the streather are thee in mend,\n",
      "  and so still the world and the still the sing,\n",
      "  and the strengh strends and the strease to me,\n",
      "    the can the self the stould i more store,\n",
      "    that the strends t\n",
      "\n",
      "\n",
      "***Example with temperature = 0.5***\n",
      "************************************\n",
      "  shall have his like,\n",
      "  when i am stoll hate eyes thou desien,\n",
      "  the rain the my then where is all flace,\n",
      "  and what i the rest the dost that shall thee,\n",
      "  which i and to the sweet it the stall,\n",
      "  i not the she strend i be ind shade.\n",
      "    this the thee the sumperse since thee i seem\n",
      "    so the thou desirs me woll thou art in thee,\n",
      "    see thought the with this should thee despents\n",
      "    that with the contle to my with this beares,\n",
      "  the with the still that so be thy som of thee,\n",
      "    thou alt the s\n",
      "\n",
      "\n",
      "***Example with temperature = 1.0***\n",
      "************************************\n",
      " forthing of bey,\n",
      "  who rose blat i worsh flide prov'd troage:\n",
      "    than olth the forknex congrances awhican'd leeds.\n",
      "\n",
      "  lx\n",
      "\n",
      "  thours thy shadoning lends to all and with pist?\n",
      "  tuque breath hee the eterss compleavo creed?\n",
      "  so hom that mesed atgeach that least to prempisb\n",
      "  call tance to him net tall my seaver wrase,\n",
      "  vill where anter new she varess of comse,d,\n",
      "  with migh childing by absing your dearil's fairn.\n",
      "\n",
      "  cxvii\n",
      "\n",
      "  whils thought with bying demmbathau nacks isserk:\n",
      "  the heren by to dis\n",
      "\n",
      "\n",
      "***Example with temperature = 2.0***\n",
      "************************************\n",
      " tfettuerly me-enirixs spire:\n",
      "  faie indsraattisg obeadenwis aweystr;'s\n",
      "  lift, rame,ll!-, i'shefthitplaw'dif? set uchemb\n",
      "  aninkimni'n thechs, dvith?\n",
      "   tambollvely lwesterome, thay, inqindsweer's tuug'd.\n",
      "  gand charh them udequrtaty ploen cucos\n",
      "  wheneiecbst:,\n",
      "  'sul inemwemth prips torpbs, carct freeh, make''s woon,\n",
      "  yap sul! het tee ctracke-ws ny\n",
      " ikury prean up-'taedsed)\n",
      "  wosh chmyigk mefwo allavioh megjeat'd)?\n",
      " ivn)'r yours,s\n",
      " kegtin'd,  weyt, hez nfolth lifik wip rized,\n",
      "    mrepurjove t\n",
      "\n",
      "\n"
     ]
    }
   ],
   "source": [
    "for temperature in [0.1, 0.2, 0.5, 1.0, 2.0]:\n",
    "    print('***Example with temperature = {}***'.format(temperature))\n",
    "    print('************************************'.format(temperature))\n",
    "    generate_sample_2(model, max_length=500, temperature=temperature)\n",
    "    print('\\n')"
   ]
  },
  {
   "cell_type": "markdown",
   "metadata": {},
   "source": [
    "**<font color=blue>Conclusions:</font>**\n",
    "\n",
    "- We see that the higher the temperature, the messier the text generation is.\n",
    "- This makes sense since with lower temperature the RNN is more conservative in its predictions (there are more repeated words or more words beggining with the same suffix) but more accurate (at least in a word-by-word sense).\n",
    "- With higher temperature the text generation gets more diverse (difficult to find repeated words or words with the same suffix) but there are more mistakes (it makes less sense to the reader).\n",
    "- This coincides with Andrej Karpathy's results when building a [Paul Graham generator](http://karpathy.github.io/2015/05/21/rnn-effectiveness/)."
   ]
  },
  {
   "cell_type": "markdown",
   "metadata": {
    "id": "qPJBlcD5vOiX"
   },
   "source": [
    "### Saving and loading models"
   ]
  },
  {
   "cell_type": "markdown",
   "metadata": {
    "id": "4Kz8Vo3DvOiX"
   },
   "source": [
    "Save the model to the disk, then load it and generate text. Examples are available [here](https://pytorch.org/tutorials/beginner/saving_loading_models.html])."
   ]
  },
  {
   "cell_type": "code",
   "execution_count": 33,
   "metadata": {
    "collapsed": true,
    "id": "kd72UOO0vOiX"
   },
   "outputs": [],
   "source": [
    "# Saving and loading code here"
   ]
  },
  {
   "cell_type": "code",
   "execution_count": 34,
   "metadata": {
    "collapsed": true
   },
   "outputs": [],
   "source": [
    "path = 'entire_torch_model.pt'"
   ]
  },
  {
   "cell_type": "markdown",
   "metadata": {},
   "source": [
    "Save:"
   ]
  },
  {
   "cell_type": "code",
   "execution_count": 35,
   "metadata": {
    "collapsed": true
   },
   "outputs": [],
   "source": [
    "torch.save(model, path)"
   ]
  },
  {
   "cell_type": "markdown",
   "metadata": {},
   "source": [
    "Load:"
   ]
  },
  {
   "cell_type": "code",
   "execution_count": 36,
   "metadata": {},
   "outputs": [
    {
     "data": {
      "text/plain": [
       "CharRNNLoop(\n",
       "  (rnn): LSTM(38, 64, batch_first=True)\n",
       "  (hid_to_logits): Linear(in_features=64, out_features=38, bias=True)\n",
       ")"
      ]
     },
     "execution_count": 36,
     "metadata": {},
     "output_type": "execute_result"
    }
   ],
   "source": [
    "loaded_model = torch.load(path)\n",
    "loaded_model.eval()"
   ]
  },
  {
   "cell_type": "markdown",
   "metadata": {},
   "source": [
    "Check:"
   ]
  },
  {
   "cell_type": "code",
   "execution_count": 37,
   "metadata": {},
   "outputs": [
    {
     "name": "stdout",
     "output_type": "stream",
     "text": [
      " storent thee,\n",
      "    and the self the streather with the strends are thee,\n",
      "  and shall the will of the will of the strend,\n",
      "  and the streat the streat the will of thee so greater.\n",
      "    then i love the strends the store that thee thee,\n",
      "  when i and the streat the streather seen still,\n",
      "  the will of the rest the sporting thee doth see,\n",
      "  the will of the strends the with the strend,\n",
      "  and the strends the conting the store thee see,\n",
      "    then i and the store the sport the stare thee,\n",
      "    then the see th\n"
     ]
    }
   ],
   "source": [
    "generate_sample_2(loaded_model, max_length=500, temperature=0.2)"
   ]
  },
  {
   "cell_type": "markdown",
   "metadata": {
    "id": "IBPfy8DnvOiX"
   },
   "source": [
    "### References\n",
    "1. <a href='http://karpathy.github.io/2015/05/21/rnn-effectiveness/'> Andrew Karpathy blog post about RNN. </a> \n",
    "There are several examples of genration: Shakespeare texts, Latex formulas, Linux Sourse Code and children names.\n",
    "2. <a href='https://github.com/karpathy/char-rnn'> Repo with char-rnn code </a>\n",
    "3. Cool repo with PyTorch examples: [link](https://github.com/spro/practical-pytorch`)"
   ]
  }
 ],
 "metadata": {
  "anaconda-cloud": {},
  "colab": {
   "name": "Lab2_DL_part3_poetry.ipynb",
   "provenance": []
  },
  "kernelspec": {
   "display_name": "Python 3",
   "language": "python",
   "name": "python3"
  },
  "language_info": {
   "codemirror_mode": {
    "name": "ipython",
    "version": 3
   },
   "file_extension": ".py",
   "mimetype": "text/x-python",
   "name": "python",
   "nbconvert_exporter": "python",
   "pygments_lexer": "ipython3",
   "version": "3.6.4"
  }
 },
 "nbformat": 4,
 "nbformat_minor": 1
}
