{
 "cells": [
  {
   "cell_type": "markdown",
   "metadata": {},
   "source": [
    "- With linear regression, where are trying to guess the target values as a linear combination of the features values. Therefore a good idea is to normalize the features, otherwise a SG method to find the parameter may give too big values.\n",
    "\n",
    "- With regularization, the same story: without normalization the regularization will penalize those features, whose values are small. Smaller values $\\implies$ bigger regularization coefficient $\\implies$ more those features are drag to zero. **<font color=red>Investigate this.</font>**"
   ]
  },
  {
   "cell_type": "code",
   "execution_count": null,
   "metadata": {
    "collapsed": true
   },
   "outputs": [],
   "source": []
  }
 ],
 "metadata": {
  "kernelspec": {
   "display_name": "Python 3",
   "language": "python",
   "name": "python3"
  },
  "language_info": {
   "codemirror_mode": {
    "name": "ipython",
    "version": 3
   },
   "file_extension": ".py",
   "mimetype": "text/x-python",
   "name": "python",
   "nbconvert_exporter": "python",
   "pygments_lexer": "ipython3",
   "version": "3.6.4"
  }
 },
 "nbformat": 4,
 "nbformat_minor": 2
}
